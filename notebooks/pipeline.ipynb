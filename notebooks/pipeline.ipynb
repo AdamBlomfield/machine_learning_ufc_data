{
 "cells": [
  {
   "cell_type": "code",
   "execution_count": 6,
   "metadata": {
    "ExecuteTime": {
     "end_time": "2019-07-28T14:17:40.128084Z",
     "start_time": "2019-07-28T14:17:40.124866Z"
    }
   },
   "outputs": [],
   "source": [
    "from sklearn.model_selection import GridSearchCV\n",
    "from sklearn.pipeline import Pipeline\n",
    "import pandas as pd\n",
    "from sklearn.ensemble import RandomForestClassifier\n",
    "\n",
    "    # Train:Test split\n",
    "from sklearn.model_selection import train_test_split\n",
    "    # Scaling\n",
    "from sklearn.preprocessing import StandardScaler"
   ]
  },
  {
   "cell_type": "code",
   "execution_count": 7,
   "metadata": {
    "ExecuteTime": {
     "end_time": "2019-07-28T14:17:40.555699Z",
     "start_time": "2019-07-28T14:17:40.521176Z"
    }
   },
   "outputs": [],
   "source": [
    "data = pd.read_csv('../data/processed/combined')"
   ]
  },
  {
   "cell_type": "code",
   "execution_count": 8,
   "metadata": {
    "ExecuteTime": {
     "end_time": "2019-07-28T14:17:40.832592Z",
     "start_time": "2019-07-28T14:17:40.827994Z"
    }
   },
   "outputs": [],
   "source": [
    "X = data.drop(['fighter1', 'fighter2', 'winner_is_fighter1'],axis=1)\n",
    "y = data['winner_is_fighter1']"
   ]
  },
  {
   "cell_type": "code",
   "execution_count": 9,
   "metadata": {
    "ExecuteTime": {
     "end_time": "2019-07-28T14:17:41.319141Z",
     "start_time": "2019-07-28T14:17:41.307534Z"
    }
   },
   "outputs": [
    {
     "name": "stdout",
     "output_type": "stream",
     "text": [
      "X_Train: \n",
      "\tObservations: 3199 \tFeatures: 45 \t70.0% of data\n",
      "X_Test: \n",
      "\tObservations: 1371 \tFeatures: 45 \t30.0% of data\n"
     ]
    }
   ],
   "source": [
    "X_train, X_test, y_train, y_test = train_test_split(X, y, test_size=0.3, random_state=1, stratify=y)\n",
    "\n",
    "print('X_Train: \\n\\tObservations: {} \\tFeatures: {} \\t{}% of data'.format(X_train.shape[0], X_train.shape[1], len(X_train)/len(X)*100))\n",
    "print('X_Test: \\n\\tObservations: {} \\tFeatures: {} \\t{}% of data'.format(X_test.shape[0], X_test.shape[1], len(X_test)/len(X)*100))"
   ]
  },
  {
   "cell_type": "code",
   "execution_count": 10,
   "metadata": {
    "ExecuteTime": {
     "end_time": "2019-07-28T14:19:12.900554Z",
     "start_time": "2019-07-28T14:17:43.268043Z"
    }
   },
   "outputs": [
    {
     "name": "stdout",
     "output_type": "stream",
     "text": [
      "Fitting 3 folds for each of 81 candidates, totalling 243 fits\n"
     ]
    },
    {
     "name": "stderr",
     "output_type": "stream",
     "text": [
      "[Parallel(n_jobs=1)]: Using backend SequentialBackend with 1 concurrent workers.\n"
     ]
    },
    {
     "name": "stdout",
     "output_type": "stream",
     "text": [
      "Best accuracy: 0.705846\n",
      "\n",
      "Best params:\n",
      " {'clf__criterion': 'gini', 'clf__max_depth': 4, 'clf__min_samples_leaf': 0.1, 'clf__min_samples_split': 0.05, 'clf__n_estimators': 100}\n"
     ]
    },
    {
     "name": "stderr",
     "output_type": "stream",
     "text": [
      "[Parallel(n_jobs=1)]: Done 243 out of 243 | elapsed:  1.5min finished\n"
     ]
    }
   ],
   "source": [
    "# https://github.com/learn-co-curriculum/dsc-pipelines-lab/tree/solution\n",
    "# Construct pipeline\n",
    "pipe_rf = Pipeline([('clf', RandomForestClassifier(random_state = 123,\n",
    "                                                   n_jobs=2\n",
    "                                                  )\n",
    "                    )\n",
    "                   ]\n",
    "                  )\n",
    "\n",
    "# Set grid search params\n",
    "param_grid_forest = [ \n",
    "  {'clf__n_estimators': [100, 110, 120],\n",
    "   'clf__criterion': ['gini'], \n",
    "   'clf__max_depth': [4, 5, 6],  \n",
    "   'clf__min_samples_leaf':[0.05 ,0.1, 0.2],  \n",
    "   'clf__min_samples_split':[0.05 ,0.1, 0.2]\n",
    "  }\n",
    "]\n",
    "\n",
    "# Construct grid search\n",
    "gs_rf = GridSearchCV(estimator=pipe_rf,\n",
    "            param_grid=param_grid_forest,\n",
    "            scoring='accuracy',\n",
    "            cv=5, \n",
    "            verbose=1, \n",
    "            return_train_score = True)\n",
    "\n",
    "# Fit using grid search\n",
    "gs_rf.fit(X_train, y_train)\n",
    "\n",
    "# Best accuracy\n",
    "print('Best accuracy: {:3f}'.format(gs_rf.best_score_))\n",
    "\n",
    "# Best params\n",
    "print('\\nBest params:\\n', gs_rf.best_params_)"
   ]
  },
  {
   "cell_type": "code",
   "execution_count": 11,
   "metadata": {
    "ExecuteTime": {
     "end_time": "2019-07-29T18:25:45.886783Z",
     "start_time": "2019-07-29T18:25:45.859661Z"
    }
   },
   "outputs": [],
   "source": []
  },
  {
   "cell_type": "code",
   "execution_count": 12,
   "metadata": {
    "ExecuteTime": {
     "end_time": "2019-07-29T18:26:52.482766Z",
     "start_time": "2019-07-29T18:26:52.470448Z"
    }
   },
   "outputs": [
    {
     "data": {
      "text/html": [
       "<iframe width=\"560\" height=\"315\" src=\"https://www.youtube.com/embed/K4LRXBffbB0?start=0&end=66\" frameborder=\"0\" allowfullscreen></iframe>"
      ],
      "text/plain": [
       "<IPython.core.display.HTML object>"
      ]
     },
     "execution_count": 12,
     "metadata": {},
     "output_type": "execute_result"
    }
   ],
   "source": []
  },
  {
   "cell_type": "code",
   "execution_count": null,
   "metadata": {},
   "outputs": [],
   "source": []
  }
 ],
 "metadata": {
  "kernelspec": {
   "display_name": "Python 3",
   "language": "python",
   "name": "python3"
  },
  "language_info": {
   "codemirror_mode": {
    "name": "ipython",
    "version": 3
   },
   "file_extension": ".py",
   "mimetype": "text/x-python",
   "name": "python",
   "nbconvert_exporter": "python",
   "pygments_lexer": "ipython3",
   "version": "3.6.6"
  },
  "toc": {
   "base_numbering": 1,
   "nav_menu": {},
   "number_sections": true,
   "sideBar": true,
   "skip_h1_title": false,
   "title_cell": "Table of Contents",
   "title_sidebar": "Contents",
   "toc_cell": false,
   "toc_position": {},
   "toc_section_display": true,
   "toc_window_display": false
  },
  "varInspector": {
   "cols": {
    "lenName": 16,
    "lenType": 16,
    "lenVar": 40
   },
   "kernels_config": {
    "python": {
     "delete_cmd_postfix": "",
     "delete_cmd_prefix": "del ",
     "library": "var_list.py",
     "varRefreshCmd": "print(var_dic_list())"
    },
    "r": {
     "delete_cmd_postfix": ") ",
     "delete_cmd_prefix": "rm(",
     "library": "var_list.r",
     "varRefreshCmd": "cat(var_dic_list()) "
    }
   },
   "types_to_exclude": [
    "module",
    "function",
    "builtin_function_or_method",
    "instance",
    "_Feature"
   ],
   "window_display": false
  }
 },
 "nbformat": 4,
 "nbformat_minor": 2
}
