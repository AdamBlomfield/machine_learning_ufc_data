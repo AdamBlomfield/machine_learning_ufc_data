{
 "cells": [
  {
   "cell_type": "markdown",
   "metadata": {},
   "source": [
    "# EDA & Data Cleaning - [Your Project Name Here]"
   ]
  },
  {
   "cell_type": "markdown",
   "metadata": {},
   "source": [
    "## Local Code Imports - Do not delete"
   ]
  },
  {
   "cell_type": "code",
   "execution_count": 33,
   "metadata": {
    "ExecuteTime": {
     "end_time": "2019-07-18T15:31:22.199485Z",
     "start_time": "2019-07-18T15:31:22.179414Z"
    },
    "tags": [
     "hidecode"
    ]
   },
   "outputs": [
    {
     "name": "stdout",
     "output_type": "stream",
     "text": [
      "The autoreload extension is already loaded. To reload it, use:\n",
      "  %reload_ext autoreload\n"
     ]
    }
   ],
   "source": [
    "# DO NOT REMOVE THESE\n",
    "%load_ext autoreload\n",
    "%autoreload 2"
   ]
  },
  {
   "cell_type": "code",
   "execution_count": 34,
   "metadata": {
    "ExecuteTime": {
     "end_time": "2019-07-18T15:31:22.443474Z",
     "start_time": "2019-07-18T15:31:22.387700Z"
    }
   },
   "outputs": [],
   "source": [
    "# DO NOT REMOVE This\n",
    "%reload_ext autoreload"
   ]
  },
  {
   "cell_type": "code",
   "execution_count": 35,
   "metadata": {
    "ExecuteTime": {
     "end_time": "2019-07-18T15:31:22.626131Z",
     "start_time": "2019-07-18T15:31:22.582677Z"
    }
   },
   "outputs": [],
   "source": [
    "## DO NOT REMOVE\n",
    "## import local src module -\n",
    "## src in this project will contain all your local code\n",
    "## clean_data.py, model.py, visualize.py, custom.py\n",
    "from src import make_data as mk\n",
    "from src import visualize as viz\n",
    "from src import model as mdl\n",
    "from src import pandas_operators as po\n",
    "\n",
    "def test_src():\n",
    "    mk.test_make_data()\n",
    "    viz.test_viz()\n",
    "    mdl.test_model()\n",
    "    po.test_pandas()\n",
    "    \n",
    "    return 1"
   ]
  },
  {
   "cell_type": "code",
   "execution_count": 36,
   "metadata": {
    "ExecuteTime": {
     "end_time": "2019-07-18T15:31:23.060742Z",
     "start_time": "2019-07-18T15:31:23.024572Z"
    }
   },
   "outputs": [
    {
     "name": "stdout",
     "output_type": "stream",
     "text": [
      "In make_data\n",
      "In Visualize\n",
      "In Model\n",
      "In pandas ops\n"
     ]
    },
    {
     "data": {
      "text/plain": [
       "1"
      ]
     },
     "execution_count": 36,
     "metadata": {},
     "output_type": "execute_result"
    }
   ],
   "source": [
    "test_src()"
   ]
  },
  {
   "cell_type": "markdown",
   "metadata": {},
   "source": [
    "## Code Imports"
   ]
  },
  {
   "cell_type": "code",
   "execution_count": 37,
   "metadata": {
    "ExecuteTime": {
     "end_time": "2019-07-18T15:31:25.408607Z",
     "start_time": "2019-07-18T15:31:25.364987Z"
    }
   },
   "outputs": [],
   "source": [
    "# Dataframes\n",
    "import numpy as np\n",
    "import pandas as pd\n",
    "\n",
    "# Visualization\n",
    "import matplotlib.pyplot as plt\n",
    "import seaborn as sns\n",
    "\n",
    "# Calculating age of fighters\n",
    "import datetime"
   ]
  },
  {
   "cell_type": "markdown",
   "metadata": {},
   "source": [
    "# Project Overview\n"
   ]
  },
  {
   "cell_type": "markdown",
   "metadata": {},
   "source": [
    "## Background"
   ]
  },
  {
   "cell_type": "markdown",
   "metadata": {},
   "source": [
    "## Data Description"
   ]
  },
  {
   "cell_type": "markdown",
   "metadata": {},
   "source": [
    "### Data Dictionary"
   ]
  },
  {
   "cell_type": "markdown",
   "metadata": {},
   "source": [
    "# EDA"
   ]
  },
  {
   "cell_type": "markdown",
   "metadata": {},
   "source": [
    "## Load Data - All sources"
   ]
  },
  {
   "cell_type": "code",
   "execution_count": 38,
   "metadata": {
    "ExecuteTime": {
     "end_time": "2019-07-18T15:31:45.908433Z",
     "start_time": "2019-07-18T15:31:45.593876Z"
    }
   },
   "outputs": [],
   "source": [
    "data = pd.read_csv('../data/raw/data.csv.zip')"
   ]
  },
  {
   "cell_type": "code",
   "execution_count": null,
   "metadata": {},
   "outputs": [],
   "source": []
  },
  {
   "cell_type": "markdown",
   "metadata": {},
   "source": [
    "## Data Summary\n",
    "Below we generate summary statistics on the data."
   ]
  },
  {
   "cell_type": "code",
   "execution_count": 41,
   "metadata": {
    "ExecuteTime": {
     "end_time": "2019-07-18T15:32:27.569779Z",
     "start_time": "2019-07-18T15:32:27.529180Z"
    }
   },
   "outputs": [
    {
     "name": "stdout",
     "output_type": "stream",
     "text": [
      "DataFrame Shape is (1477, 895)\n",
      "This represents 1477 fights\n"
     ]
    }
   ],
   "source": [
    "print('DataFrame Shape is {}'.format(data.shape))\n",
    "print('This represents {} fights'.format(data.shape[0]))"
   ]
  },
  {
   "cell_type": "code",
   "execution_count": 40,
   "metadata": {
    "ExecuteTime": {
     "end_time": "2019-07-18T15:31:48.542768Z",
     "start_time": "2019-07-18T15:31:48.496966Z"
    },
    "scrolled": true
   },
   "outputs": [
    {
     "name": "stdout",
     "output_type": "stream",
     "text": [
      "<class 'pandas.core.frame.DataFrame'>\n",
      "RangeIndex: 1477 entries, 0 to 1476\n",
      "Columns: 895 entries, BPrev to winner\n",
      "dtypes: float64(873), int64(13), object(9)\n",
      "memory usage: 10.1+ MB\n"
     ]
    }
   ],
   "source": [
    "data.info()"
   ]
  },
  {
   "cell_type": "markdown",
   "metadata": {},
   "source": [
    "- With so many columns, the .info method doesn't give us much insight.  We need to look at different sections of the dataframe individually."
   ]
  },
  {
   "cell_type": "code",
   "execution_count": 42,
   "metadata": {
    "ExecuteTime": {
     "end_time": "2019-07-18T15:32:35.166634Z",
     "start_time": "2019-07-18T15:32:35.122598Z"
    },
    "collapsed": true
   },
   "outputs": [
    {
     "data": {
      "text/plain": [
       "BPrev                                                                 2\n",
       "BStreak                                                               0\n",
       "B_Age                                                                38\n",
       "B_Height                                                            172\n",
       "B_HomeTown                                               Kanagawa Japan\n",
       "B_ID                                                                721\n",
       "B_Location                                                  Tokyo Japan\n",
       "B_Name                                                    Takanori Gomi\n",
       "B_Weight                                                             70\n",
       "B__Round1_Grappling_Reversals_Landed                                  0\n",
       "B__Round1_Grappling_Standups_Landed                                   0\n",
       "B__Round1_Grappling_Submissions_Attempts                              0\n",
       "B__Round1_Grappling_Takedowns_Attempts                                0\n",
       "B__Round1_Grappling_Takedowns_Landed                                  0\n",
       "B__Round1_Strikes_Body Significant Strikes_Attempts                   7\n",
       "B__Round1_Strikes_Body Significant Strikes_Landed                     2\n",
       "B__Round1_Strikes_Body Total Strikes_Attempts                         8\n",
       "B__Round1_Strikes_Body Total Strikes_Landed                           3\n",
       "B__Round1_Strikes_Clinch Body Strikes_Attempts                        0\n",
       "B__Round1_Strikes_Clinch Body Strikes_Landed                          0\n",
       "B__Round1_Strikes_Clinch Head Strikes_Attempts                        0\n",
       "B__Round1_Strikes_Clinch Head Strikes_Landed                          0\n",
       "B__Round1_Strikes_Clinch Leg Strikes_Attempts                         0\n",
       "B__Round1_Strikes_Clinch Leg Strikes_Landed                           0\n",
       "B__Round1_Strikes_Clinch Significant Kicks_Attempts                   0\n",
       "B__Round1_Strikes_Clinch Significant Kicks_Landed                     0\n",
       "B__Round1_Strikes_Clinch Significant Punches_Attempts                 0\n",
       "B__Round1_Strikes_Clinch Significant Punches_Landed                   0\n",
       "B__Round1_Strikes_Clinch Significant Strikes_Attempts                 0\n",
       "B__Round1_Strikes_Clinch Significant Strikes_Landed                   0\n",
       "                                                              ...      \n",
       "R__Round5_Strikes_Kicks_Attempts                                    NaN\n",
       "R__Round5_Strikes_Kicks_Landed                                      NaN\n",
       "R__Round5_Strikes_Knock Down_Landed                                 NaN\n",
       "R__Round5_Strikes_Leg Total Strikes_Attempts                        NaN\n",
       "R__Round5_Strikes_Leg Total Strikes_Landed                          NaN\n",
       "R__Round5_Strikes_Legs Significant Strikes_Attempts                 NaN\n",
       "R__Round5_Strikes_Legs Significant Strikes_Landed                   NaN\n",
       "R__Round5_Strikes_Legs Total Strikes_Attempts                       NaN\n",
       "R__Round5_Strikes_Legs Total Strikes_Landed                         NaN\n",
       "R__Round5_Strikes_Punches_Attempts                                  NaN\n",
       "R__Round5_Strikes_Punches_Landed                                    NaN\n",
       "R__Round5_Strikes_Significant Strikes_Attempts                      NaN\n",
       "R__Round5_Strikes_Significant Strikes_Landed                        NaN\n",
       "R__Round5_Strikes_Total Strikes_Attempts                            NaN\n",
       "R__Round5_Strikes_Total Strikes_Landed                              NaN\n",
       "R__Round5_TIP_Back Control Time                                     NaN\n",
       "R__Round5_TIP_Clinch Time                                           NaN\n",
       "R__Round5_TIP_Control Time                                          NaN\n",
       "R__Round5_TIP_Distance Time                                         NaN\n",
       "R__Round5_TIP_Ground Control Time                                   NaN\n",
       "R__Round5_TIP_Ground Time                                           NaN\n",
       "R__Round5_TIP_Guard Control Time                                    NaN\n",
       "R__Round5_TIP_Half Guard Control Time                               NaN\n",
       "R__Round5_TIP_Misc. Ground Control Time                             NaN\n",
       "R__Round5_TIP_Mount Control Time                                    NaN\n",
       "R__Round5_TIP_Neutral Time                                          NaN\n",
       "R__Round5_TIP_Side Control Time                                     NaN\n",
       "R__Round5_TIP_Standing Time                                         NaN\n",
       "winby                                                            KO/TKO\n",
       "winner                                                              red\n",
       "Name: 2, Length: 895, dtype: object"
      ]
     },
     "execution_count": 42,
     "metadata": {},
     "output_type": "execute_result"
    }
   ],
   "source": [
    "data.iloc[2,:].T"
   ]
  },
  {
   "cell_type": "markdown",
   "metadata": {},
   "source": [
    "- The majority of our columns are the same statistics, but for each round.  It would sense to condense these columns down to a summary of each fight (rounds 1-3 or 1-5 aggregated) and eventually have a dynamic statistic for each fighter's average fight statistics (dynamic meaning that they would update with each fight)"
   ]
  },
  {
   "cell_type": "markdown",
   "metadata": {},
   "source": [
    "## Detailed Analysis & Results\n",
    "Here we dig into the data a little deeper and identify areas for more extensive data cleaning and possible feature engineering."
   ]
  },
  {
   "cell_type": "code",
   "execution_count": 12,
   "metadata": {
    "ExecuteTime": {
     "end_time": "2019-07-17T18:48:42.061152Z",
     "start_time": "2019-07-17T18:48:42.026608Z"
    }
   },
   "outputs": [],
   "source": [
    "# Create a new compressed dataframe that only has the statistics that we know about each fighter, before the fight begins. \n",
    "# i.e. what could be used before a fight, to predict the outcome\n",
    "data_blue  = data.loc[:,['B_ID', 'B_Name', 'BPrev', 'BStreak', 'B_Age', 'B_Height', 'B_HomeTown', 'B_Location', 'B_Weight']]\n",
    "data_red   = data.loc[:,['R_ID', 'R_Name', 'RPrev', 'RStreak', 'R_Age', 'R_Height', 'R_HomeTown', 'R_Location', 'R_Weight']]\n",
    "data_fight = data.loc[:,['Date', 'Event_ID', 'Fight_ID', 'Last_round', 'Max_round', 'winby', 'winner']]\n",
    "data_compressed = pd.concat([data_fight, data_blue, data_red], axis=1)"
   ]
  },
  {
   "cell_type": "code",
   "execution_count": 23,
   "metadata": {
    "ExecuteTime": {
     "end_time": "2019-07-17T18:57:21.805503Z",
     "start_time": "2019-07-17T18:57:21.781000Z"
    },
    "scrolled": true
   },
   "outputs": [
    {
     "ename": "SyntaxError",
     "evalue": "invalid syntax (<ipython-input-23-0c8856276922>, line 3)",
     "output_type": "error",
     "traceback": [
      "\u001b[0;36m  File \u001b[0;32m\"<ipython-input-23-0c8856276922>\"\u001b[0;36m, line \u001b[0;32m3\u001b[0m\n\u001b[0;31m    data_compressed = data_compressed.rename(index=str, columns=columns_to_change)\u001b[0m\n\u001b[0m                  ^\u001b[0m\n\u001b[0;31mSyntaxError\u001b[0m\u001b[0;31m:\u001b[0m invalid syntax\n"
     ]
    }
   ],
   "source": [
    "# Change the column headings so that they all follow the same structure\n",
    "columns_to_change = {{'Last_round': 'Last_Round', 'Max_round': 'Max_Round', 'winby': 'Win_By', 'winner': 'Winner'}\n",
    "data_compressed   = data_compressed.rename(index=str, columns=columns_to_change)"
   ]
  },
  {
   "cell_type": "markdown",
   "metadata": {},
   "source": [
    "### Visualizing the winners"
   ]
  },
  {
   "cell_type": "code",
   "execution_count": 25,
   "metadata": {
    "ExecuteTime": {
     "end_time": "2019-07-17T18:58:22.894709Z",
     "start_time": "2019-07-17T18:58:22.730620Z"
    }
   },
   "outputs": [
    {
     "data": {
      "image/png": "[encoded data removed]",
      "text/plain": [
       "<Figure size 1152x576 with 1 Axes>"
      ]
     },
     "metadata": {
      "needs_background": "light"
     },
     "output_type": "display_data"
    }
   ],
   "source": [
    "# Figure\n",
    "plt.figure(figsize=(16, 8))\n",
    "\n",
    "# Simple plot of winners\n",
    "colors = ['darkorange', 'blue', 'black', 'purple']\n",
    "ax = sns.countplot(x='winner', data=data, palette=colors);\n",
    "\n",
    "# Title and Axis\n",
    "ax.set(title='Distribution of Winners of each Fight');\n",
    "ax.set_xlabel('Winner')\n",
    "ax.set_ylabel('Count')\n",
    "\n",
    "ncount = len(data)\n",
    "\n",
    "for p in ax.patches:\n",
    "    x=p.get_bbox().get_points()[:,0]  # X coordinates of label\n",
    "    y=p.get_bbox().get_points()[1,1]  # Y coordinates of label\n",
    "    ax.annotate('{:.1f}%'.format(100.*y/ncount), (x.mean(), y), \n",
    "            ha='center', va='bottom') # Position the text"
   ]
  },
  {
   "cell_type": "markdown",
   "metadata": {},
   "source": [
    "- In UFC the favoured/more well known fighter is normally assigned red.  which helps to explain the data above."
   ]
  },
  {
   "cell_type": "markdown",
   "metadata": {},
   "source": [
    "# Data Cleaning"
   ]
  },
  {
   "cell_type": "markdown",
   "metadata": {},
   "source": [
    "We now need to drop variables that have no likely impact on the outcome of a fight. \n",
    "- Weight: Although in reality a fighter's weight is extremely important, within a single fight, both fighter's weights will be within a narrow window and very similar to each other, i.e. any difference will be negligible"
   ]
  },
  {
   "cell_type": "markdown",
   "metadata": {},
   "source": [
    "## Drop unecessary columns and rows"
   ]
  },
  {
   "cell_type": "markdown",
   "metadata": {},
   "source": [
    "### Weight"
   ]
  },
  {
   "cell_type": "markdown",
   "metadata": {},
   "source": [
    "### No-contest rows"
   ]
  },
  {
   "cell_type": "markdown",
   "metadata": {},
   "source": [
    "- The no contests are either due to illegal moves or failed drugs tests.  \n",
    "- Example below between Nick Diaz and Anderson Silva was a no contest due to Anderson Silva failling a drugs test\n",
    "- https://www.mmamania.com/2015/2/6/7992549/no-contest-anderson-silvas-victory-over-nick-diaz-at-ufc-183"
   ]
  },
  {
   "cell_type": "code",
   "execution_count": 32,
   "metadata": {
    "ExecuteTime": {
     "end_time": "2019-07-18T15:31:18.292640Z",
     "start_time": "2019-07-18T15:31:18.261932Z"
    }
   },
   "outputs": [
    {
     "ename": "NameError",
     "evalue": "name 'data_compressed' is not defined",
     "output_type": "error",
     "traceback": [
      "\u001b[0;31m---------------------------------------------------------------------------\u001b[0m",
      "\u001b[0;31mNameError\u001b[0m                                 Traceback (most recent call last)",
      "\u001b[0;32m<ipython-input-32-fd68dae78c29>\u001b[0m in \u001b[0;36m<module>\u001b[0;34m()\u001b[0m\n\u001b[1;32m      1\u001b[0m \u001b[0;31m# Example of no contest between Nick Diaz and Anderson Silva\u001b[0m\u001b[0;34m\u001b[0m\u001b[0;34m\u001b[0m\u001b[0m\n\u001b[0;32m----> 2\u001b[0;31m \u001b[0mdata_compressed\u001b[0m\u001b[0;34m[\u001b[0m\u001b[0mdata_compressed\u001b[0m\u001b[0;34m[\u001b[0m\u001b[0;34m'Winner'\u001b[0m\u001b[0;34m]\u001b[0m\u001b[0;34m==\u001b[0m\u001b[0;34m'no contest'\u001b[0m\u001b[0;34m]\u001b[0m\u001b[0;34m.\u001b[0m\u001b[0mhead\u001b[0m\u001b[0;34m(\u001b[0m\u001b[0;36m1\u001b[0m\u001b[0;34m)\u001b[0m\u001b[0;34m.\u001b[0m\u001b[0mT\u001b[0m\u001b[0;34m\u001b[0m\u001b[0m\n\u001b[0m",
      "\u001b[0;31mNameError\u001b[0m: name 'data_compressed' is not defined"
     ]
    }
   ],
   "source": [
    "# Example of no contest between Nick Diaz and Anderson Silva\n",
    "data_compressed[data_compressed['Winner']=='no contest'].head(1).T"
   ]
  },
  {
   "cell_type": "markdown",
   "metadata": {},
   "source": [
    "## Change Outcome label to integer"
   ]
  },
  {
   "cell_type": "markdown",
   "metadata": {},
   "source": [
    "Many scikit-learn functions work with class labels in string format.  However we will convert these strings to integer labels to avoid technical glitches and also improve our computational performance."
   ]
  },
  {
   "cell_type": "code",
   "execution_count": 43,
   "metadata": {
    "ExecuteTime": {
     "end_time": "2019-07-19T15:53:36.029190Z",
     "start_time": "2019-07-19T15:53:35.958440Z"
    }
   },
   "outputs": [],
   "source": [
    "# SPACE FOR CREATING CLASS LABELS"
   ]
  },
  {
   "cell_type": "code",
   "execution_count": null,
   "metadata": {},
   "outputs": [],
   "source": []
  }
 ],
 "metadata": {
  "kernelspec": {
   "display_name": "Python 3",
   "language": "python",
   "name": "python3"
  },
  "language_info": {
   "codemirror_mode": {
    "name": "ipython",
    "version": 3
   },
   "file_extension": ".py",
   "mimetype": "text/x-python",
   "name": "python",
   "nbconvert_exporter": "python",
   "pygments_lexer": "ipython3",
   "version": "3.6.6"
  },
  "toc": {
   "base_numbering": 1,
   "nav_menu": {},
   "number_sections": true,
   "sideBar": true,
   "skip_h1_title": false,
   "title_cell": "Table of Contents",
   "title_sidebar": "Contents",
   "toc_cell": false,
   "toc_position": {},
   "toc_section_display": true,
   "toc_window_display": false
  },
  "varInspector": {
   "cols": {
    "lenName": 16,
    "lenType": 16,
    "lenVar": 40
   },
   "kernels_config": {
    "python": {
     "delete_cmd_postfix": "",
     "delete_cmd_prefix": "del ",
     "library": "var_list.py",
     "varRefreshCmd": "print(var_dic_list())"
    },
    "r": {
     "delete_cmd_postfix": ") ",
     "delete_cmd_prefix": "rm(",
     "library": "var_list.r",
     "varRefreshCmd": "cat(var_dic_list()) "
    }
   },
   "types_to_exclude": [
    "module",
    "function",
    "builtin_function_or_method",
    "instance",
    "_Feature"
   ],
   "window_display": false
  }
 },
 "nbformat": 4,
 "nbformat_minor": 2
}
