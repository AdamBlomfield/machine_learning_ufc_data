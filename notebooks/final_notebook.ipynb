{
 "cells": [
  {
   "cell_type": "markdown",
   "metadata": {},
   "source": [
    "# Outline\n",
    "\n",
    "- Background to Project\n",
    "- Code Imports\n",
    "- Import Data\n",
    "- Models\n",
    "    - (Models = KNN, LR, RF, AdaBoost, Gradient, XG Boost, NN-tanh, NN-Relu)\n",
    "        - Build Pipeline\n",
    "        - GridSearch\n",
    "            - Parameter Grid\n",
    "            - Construct GridSearch\n",
    "            - Fit GridSearch\n",
    "            - Output Best Accuracy\n",
    "            - Save Model's Best Accuracy to Summary Table\n",
    "        - (From RF take feature importance)\n",
    "        - (Gradient = XG Boost?)\n",
    "- Evaluate Best model\n",
    "    - Confusion Matrix for best model\n",
    "- Function to predict next fight\n",
    "- Conclusion\n",
    "    - Future Work\n",
    "    "
   ]
  },
  {
   "cell_type": "markdown",
   "metadata": {},
   "source": [
    "# Code Imports"
   ]
  },
  {
   "cell_type": "markdown",
   "metadata": {
    "heading_collapsed": true
   },
   "source": [
    "## Library Installations"
   ]
  },
  {
   "cell_type": "code",
   "execution_count": 1,
   "metadata": {
    "ExecuteTime": {
     "end_time": "2019-07-31T20:49:31.015594Z",
     "start_time": "2019-07-31T20:49:31.013620Z"
    },
    "hidden": true
   },
   "outputs": [],
   "source": [
    "# !conda install py-xgboost"
   ]
  },
  {
   "cell_type": "markdown",
   "metadata": {},
   "source": [
    "## Import Libraries"
   ]
  },
  {
   "cell_type": "code",
   "execution_count": 99,
   "metadata": {
    "ExecuteTime": {
     "end_time": "2019-07-31T21:26:58.982483Z",
     "start_time": "2019-07-31T21:26:58.822955Z"
    }
   },
   "outputs": [],
   "source": [
    "# For Dataframes and arrays\n",
    "import numpy as np\n",
    "import pandas as pd\n",
    "# Visualization libraries\n",
    "import matplotlib.pyplot as plt\n",
    "%matplotlib inline\n",
    "import seaborn as sns\n",
    "\n",
    "# Preprocessing Data\n",
    "    # Train:Test split\n",
    "from sklearn.model_selection import train_test_split\n",
    "    # Scaling\n",
    "from sklearn.preprocessing import StandardScaler\n",
    "    # Feature Extraction\n",
    "from sklearn.decomposition import PCA\n",
    "\n",
    "# Modeling\n",
    "from sklearn.neighbors import KNeighborsClassifier\n",
    "from sklearn.linear_model import LogisticRegression\n",
    "from sklearn.ensemble import RandomForestClassifier\n",
    "from sklearn.ensemble import AdaBoostClassifier\n",
    "import xgboost as xgb\n",
    "from xgboost import XGBClassifier\n",
    "    # Prevent Kernel Dying\n",
    "import os\n",
    "os.environ['KMP_DUPLICATE_LIB_OK']='True'\n",
    "\n",
    "# Neural Network\n",
    "import tensorflow as tf\n",
    "import keras\n",
    "from keras.layers import Dense, Dropout, Activation, LeakyReLU\n",
    "from keras.models import Sequential\n",
    "from keras.optimizers import SGD\n",
    "\n",
    "# Tuning\n",
    "from sklearn.model_selection import GridSearchCV\n",
    "from sklearn.pipeline import Pipeline\n",
    "\n",
    "# Evaluation\n",
    "from sklearn import metrics\n",
    "from sklearn.metrics import confusion_matrix\n",
    "import itertools\n",
    "\n",
    "# Warnings\n",
    "import warnings\n",
    "warnings.filterwarnings(\"ignore\")\n",
    "\n",
    "# Set random seeds\n",
    "np.random.seed(123)\n",
    "tf.set_random_seed(123)\n",
    "\n",
    "import datetime\n",
    "import pickle\n",
    "import random"
   ]
  },
  {
   "cell_type": "markdown",
   "metadata": {},
   "source": [
    "## Local Code Imports - Do not delete"
   ]
  },
  {
   "cell_type": "code",
   "execution_count": 7,
   "metadata": {
    "ExecuteTime": {
     "end_time": "2019-07-31T20:49:42.180203Z",
     "start_time": "2019-07-31T20:49:42.149677Z"
    }
   },
   "outputs": [
    {
     "name": "stdout",
     "output_type": "stream",
     "text": [
      "The autoreload extension is already loaded. To reload it, use:\n",
      "  %reload_ext autoreload\n"
     ]
    }
   ],
   "source": [
    "# DO NOT REMOVE THESE\n",
    "%load_ext autoreload\n",
    "%autoreload 2"
   ]
  },
  {
   "cell_type": "code",
   "execution_count": 8,
   "metadata": {
    "ExecuteTime": {
     "end_time": "2019-07-31T20:49:42.701318Z",
     "start_time": "2019-07-31T20:49:42.609978Z"
    }
   },
   "outputs": [],
   "source": [
    "# DO NOT REMOVE This\n",
    "%reload_ext autoreload"
   ]
  },
  {
   "cell_type": "code",
   "execution_count": 10,
   "metadata": {
    "ExecuteTime": {
     "end_time": "2019-07-31T20:50:14.252817Z",
     "start_time": "2019-07-31T20:50:14.131918Z"
    }
   },
   "outputs": [],
   "source": [
    "## DO NOT REMOVE\n",
    "## import local src module -\n",
    "## src in this project will contain all your local code\n",
    "## clean_data.py, model.py, visualize.py, custom.py\n",
    "from src import make_data as mk\n",
    "from src import visualize as viz\n",
    "from src import model as mdl\n",
    "from src import pandas_operators as po\n",
    "from src import custom as cm\n",
    "\n",
    "def test_src():\n",
    "    mk.test_make_data()\n",
    "    viz.test_viz()\n",
    "    mdl.test_model()\n",
    "    po.test_pandas()\n",
    "    \n",
    "    return 1"
   ]
  },
  {
   "cell_type": "code",
   "execution_count": 11,
   "metadata": {
    "ExecuteTime": {
     "end_time": "2019-07-31T20:50:15.168087Z",
     "start_time": "2019-07-31T20:50:15.100786Z"
    }
   },
   "outputs": [
    {
     "name": "stdout",
     "output_type": "stream",
     "text": [
      "In make_data\n",
      "In Visualize\n",
      "In Model\n",
      "In pandas ops\n"
     ]
    },
    {
     "data": {
      "text/plain": [
       "1"
      ]
     },
     "execution_count": 11,
     "metadata": {},
     "output_type": "execute_result"
    }
   ],
   "source": [
    "test_src()"
   ]
  },
  {
   "cell_type": "markdown",
   "metadata": {},
   "source": [
    "# Project Background"
   ]
  },
  {
   "cell_type": "markdown",
   "metadata": {},
   "source": [
    "## UFC Background"
   ]
  },
  {
   "cell_type": "code",
   "execution_count": 12,
   "metadata": {
    "ExecuteTime": {
     "end_time": "2019-07-31T20:50:16.971852Z",
     "start_time": "2019-07-31T20:50:16.910591Z"
    }
   },
   "outputs": [
    {
     "data": {
      "text/html": [
       "<iframe width=\"900\" height=\"600\" src=\"https://www.youtube.com/embed/K4LRXBffbB0?start=0&end=66\" frameborder=\"0\" allowfullscreen></iframe>"
      ],
      "text/plain": [
       "<IPython.core.display.HTML object>"
      ]
     },
     "execution_count": 12,
     "metadata": {},
     "output_type": "execute_result"
    }
   ],
   "source": [
    "# Credit to National Geographic\n",
    "cm.ufc_intro_vid()"
   ]
  },
  {
   "cell_type": "markdown",
   "metadata": {},
   "source": [
    "## Project Objective"
   ]
  },
  {
   "cell_type": "code",
   "execution_count": null,
   "metadata": {},
   "outputs": [],
   "source": []
  },
  {
   "cell_type": "markdown",
   "metadata": {},
   "source": [
    "### Compare a Variety of Machine Learning Models\n",
    "For this project we are classifying. There are many choices of classification algorithm, each with its own strengths and weaknesses. There is no single classifier that always works best across all scenarios so we will compare a handful of different learning algorithms to select the best model for our particular problem."
   ]
  },
  {
   "cell_type": "markdown",
   "metadata": {},
   "source": [
    "### Assumptions made\n",
    "- In reality, each bout has 4 possible outcomes; fighter 1 wins, fighter 2 wins, draw or no contest.  For simplicity of modeling, these outcomes have been reduced to simply fighter 1 wins or fighter 2 wins.  \n",
    "- The models are trained on fighter statistics that reflect their current statistics, not those at the time of the fight.  i.e. a fighter's first bout will feature their statistics the same statistics as their latest bout."
   ]
  },
  {
   "cell_type": "markdown",
   "metadata": {},
   "source": [
    "# Import Data"
   ]
  },
  {
   "cell_type": "code",
   "execution_count": 13,
   "metadata": {
    "ExecuteTime": {
     "end_time": "2019-07-31T20:50:18.558082Z",
     "start_time": "2019-07-31T20:50:18.455859Z"
    }
   },
   "outputs": [
    {
     "data": {
      "text/html": [
       "<div>\n",
       "<style scoped>\n",
       "    .dataframe tbody tr th:only-of-type {\n",
       "        vertical-align: middle;\n",
       "    }\n",
       "\n",
       "    .dataframe tbody tr th {\n",
       "        vertical-align: top;\n",
       "    }\n",
       "\n",
       "    .dataframe thead th {\n",
       "        text-align: right;\n",
       "    }\n",
       "</style>\n",
       "<table border=\"1\" class=\"dataframe\">\n",
       "  <thead>\n",
       "    <tr style=\"text-align: right;\">\n",
       "      <th></th>\n",
       "      <th>date</th>\n",
       "      <th>fighter1</th>\n",
       "      <th>fighter2</th>\n",
       "      <th>winner_is_fighter1</th>\n",
       "      <th>title_fight</th>\n",
       "      <th>fighter1_win</th>\n",
       "      <th>fighter1_lose</th>\n",
       "      <th>fighter1_total_bouts</th>\n",
       "      <th>fighter1_win_rate</th>\n",
       "      <th>fighter1_height_inches</th>\n",
       "      <th>...</th>\n",
       "      <th>fighter2_slpm</th>\n",
       "      <th>fighter2_str_acc</th>\n",
       "      <th>fighter2_sapm</th>\n",
       "      <th>fighter2_str_def</th>\n",
       "      <th>fighter2_td_avg</th>\n",
       "      <th>fighter2_td_acc</th>\n",
       "      <th>fighter2_td_def</th>\n",
       "      <th>fighter2_sub_avg</th>\n",
       "      <th>fighter1_age</th>\n",
       "      <th>fighter2_age</th>\n",
       "    </tr>\n",
       "  </thead>\n",
       "  <tbody>\n",
       "    <tr>\n",
       "      <th>0</th>\n",
       "      <td>2018-11-17</td>\n",
       "      <td>Neil Magny</td>\n",
       "      <td>Santiago Ponzinibbio</td>\n",
       "      <td>0</td>\n",
       "      <td>0</td>\n",
       "      <td>21</td>\n",
       "      <td>8</td>\n",
       "      <td>29</td>\n",
       "      <td>0.72</td>\n",
       "      <td>75.0</td>\n",
       "      <td>...</td>\n",
       "      <td>4.27</td>\n",
       "      <td>39</td>\n",
       "      <td>4.02</td>\n",
       "      <td>64</td>\n",
       "      <td>0.54</td>\n",
       "      <td>44</td>\n",
       "      <td>60</td>\n",
       "      <td>0.0</td>\n",
       "      <td>31.0</td>\n",
       "      <td>32.0</td>\n",
       "    </tr>\n",
       "    <tr>\n",
       "      <th>1</th>\n",
       "      <td>2018-11-17</td>\n",
       "      <td>Darren Elkins</td>\n",
       "      <td>Ricardo Lamas</td>\n",
       "      <td>0</td>\n",
       "      <td>0</td>\n",
       "      <td>25</td>\n",
       "      <td>7</td>\n",
       "      <td>32</td>\n",
       "      <td>0.78</td>\n",
       "      <td>70.0</td>\n",
       "      <td>...</td>\n",
       "      <td>2.87</td>\n",
       "      <td>45</td>\n",
       "      <td>2.61</td>\n",
       "      <td>59</td>\n",
       "      <td>1.66</td>\n",
       "      <td>32</td>\n",
       "      <td>47</td>\n",
       "      <td>1.0</td>\n",
       "      <td>28.0</td>\n",
       "      <td>30.0</td>\n",
       "    </tr>\n",
       "    <tr>\n",
       "      <th>2</th>\n",
       "      <td>2018-11-17</td>\n",
       "      <td>Johnny Walker</td>\n",
       "      <td>Khalil Rountree Jr.</td>\n",
       "      <td>1</td>\n",
       "      <td>0</td>\n",
       "      <td>15</td>\n",
       "      <td>3</td>\n",
       "      <td>18</td>\n",
       "      <td>0.83</td>\n",
       "      <td>77.0</td>\n",
       "      <td>...</td>\n",
       "      <td>2.30</td>\n",
       "      <td>34</td>\n",
       "      <td>3.29</td>\n",
       "      <td>38</td>\n",
       "      <td>0.00</td>\n",
       "      <td>0</td>\n",
       "      <td>50</td>\n",
       "      <td>0.3</td>\n",
       "      <td>31.0</td>\n",
       "      <td>29.0</td>\n",
       "    </tr>\n",
       "  </tbody>\n",
       "</table>\n",
       "<p>3 rows × 45 columns</p>\n",
       "</div>"
      ],
      "text/plain": [
       "         date       fighter1              fighter2  winner_is_fighter1  \\\n",
       "0  2018-11-17     Neil Magny  Santiago Ponzinibbio                   0   \n",
       "1  2018-11-17  Darren Elkins         Ricardo Lamas                   0   \n",
       "2  2018-11-17  Johnny Walker   Khalil Rountree Jr.                   1   \n",
       "\n",
       "   title_fight  fighter1_win  fighter1_lose  fighter1_total_bouts  \\\n",
       "0            0            21              8                    29   \n",
       "1            0            25              7                    32   \n",
       "2            0            15              3                    18   \n",
       "\n",
       "   fighter1_win_rate  fighter1_height_inches      ...       fighter2_slpm  \\\n",
       "0               0.72                    75.0      ...                4.27   \n",
       "1               0.78                    70.0      ...                2.87   \n",
       "2               0.83                    77.0      ...                2.30   \n",
       "\n",
       "   fighter2_str_acc  fighter2_sapm  fighter2_str_def  fighter2_td_avg  \\\n",
       "0                39           4.02                64             0.54   \n",
       "1                45           2.61                59             1.66   \n",
       "2                34           3.29                38             0.00   \n",
       "\n",
       "   fighter2_td_acc  fighter2_td_def  fighter2_sub_avg  fighter1_age  \\\n",
       "0               44               60               0.0          31.0   \n",
       "1               32               47               1.0          28.0   \n",
       "2                0               50               0.3          31.0   \n",
       "\n",
       "   fighter2_age  \n",
       "0          32.0  \n",
       "1          30.0  \n",
       "2          29.0  \n",
       "\n",
       "[3 rows x 45 columns]"
      ]
     },
     "execution_count": 13,
     "metadata": {},
     "output_type": "execute_result"
    }
   ],
   "source": [
    "data = pd.read_csv('../data/processed/combined')\n",
    "data.head(3)"
   ]
  },
  {
   "cell_type": "code",
   "execution_count": 14,
   "metadata": {
    "ExecuteTime": {
     "end_time": "2019-07-31T20:50:18.899332Z",
     "start_time": "2019-07-31T20:50:18.816576Z"
    },
    "scrolled": true
   },
   "outputs": [
    {
     "data": {
      "text/html": [
       "<div>\n",
       "<style scoped>\n",
       "    .dataframe tbody tr th:only-of-type {\n",
       "        vertical-align: middle;\n",
       "    }\n",
       "\n",
       "    .dataframe tbody tr th {\n",
       "        vertical-align: top;\n",
       "    }\n",
       "\n",
       "    .dataframe thead th {\n",
       "        text-align: right;\n",
       "    }\n",
       "</style>\n",
       "<table border=\"1\" class=\"dataframe\">\n",
       "  <thead>\n",
       "    <tr style=\"text-align: right;\">\n",
       "      <th></th>\n",
       "      <th>name</th>\n",
       "      <th>dob</th>\n",
       "      <th>win</th>\n",
       "      <th>lose</th>\n",
       "      <th>total_bouts</th>\n",
       "      <th>win_rate</th>\n",
       "      <th>height_inches</th>\n",
       "      <th>reach</th>\n",
       "      <th>stance_open_stance</th>\n",
       "      <th>stance_orthodox</th>\n",
       "      <th>...</th>\n",
       "      <th>stance_southpaw</th>\n",
       "      <th>stance_switch</th>\n",
       "      <th>slpm</th>\n",
       "      <th>str_acc</th>\n",
       "      <th>sapm</th>\n",
       "      <th>str_def</th>\n",
       "      <th>td_avg</th>\n",
       "      <th>td_acc</th>\n",
       "      <th>td_def</th>\n",
       "      <th>sub_avg</th>\n",
       "    </tr>\n",
       "  </thead>\n",
       "  <tbody>\n",
       "    <tr>\n",
       "      <th>0</th>\n",
       "      <td>Luciano Azevedo</td>\n",
       "      <td>1981-06-25</td>\n",
       "      <td>16</td>\n",
       "      <td>9</td>\n",
       "      <td>25</td>\n",
       "      <td>0.64</td>\n",
       "      <td>75.0</td>\n",
       "      <td>72.0</td>\n",
       "      <td>0</td>\n",
       "      <td>1</td>\n",
       "      <td>...</td>\n",
       "      <td>0</td>\n",
       "      <td>0</td>\n",
       "      <td>0.76</td>\n",
       "      <td>45</td>\n",
       "      <td>1.97</td>\n",
       "      <td>27</td>\n",
       "      <td>2.28</td>\n",
       "      <td>11</td>\n",
       "      <td>0</td>\n",
       "      <td>0.0</td>\n",
       "    </tr>\n",
       "    <tr>\n",
       "      <th>1</th>\n",
       "      <td>Gleidson Cutis</td>\n",
       "      <td>1989-02-07</td>\n",
       "      <td>7</td>\n",
       "      <td>3</td>\n",
       "      <td>10</td>\n",
       "      <td>0.70</td>\n",
       "      <td>69.0</td>\n",
       "      <td>72.0</td>\n",
       "      <td>0</td>\n",
       "      <td>1</td>\n",
       "      <td>...</td>\n",
       "      <td>0</td>\n",
       "      <td>0</td>\n",
       "      <td>2.99</td>\n",
       "      <td>52</td>\n",
       "      <td>8.28</td>\n",
       "      <td>59</td>\n",
       "      <td>0.00</td>\n",
       "      <td>0</td>\n",
       "      <td>0</td>\n",
       "      <td>0.0</td>\n",
       "    </tr>\n",
       "    <tr>\n",
       "      <th>2</th>\n",
       "      <td>Rolando Dy</td>\n",
       "      <td>1990-08-11</td>\n",
       "      <td>9</td>\n",
       "      <td>7</td>\n",
       "      <td>16</td>\n",
       "      <td>0.56</td>\n",
       "      <td>68.0</td>\n",
       "      <td>69.0</td>\n",
       "      <td>0</td>\n",
       "      <td>1</td>\n",
       "      <td>...</td>\n",
       "      <td>0</td>\n",
       "      <td>0</td>\n",
       "      <td>3.04</td>\n",
       "      <td>37</td>\n",
       "      <td>4.47</td>\n",
       "      <td>52</td>\n",
       "      <td>0.30</td>\n",
       "      <td>20</td>\n",
       "      <td>68</td>\n",
       "      <td>0.0</td>\n",
       "    </tr>\n",
       "  </tbody>\n",
       "</table>\n",
       "<p>3 rows × 21 columns</p>\n",
       "</div>"
      ],
      "text/plain": [
       "              name         dob  win  lose  total_bouts  win_rate  \\\n",
       "0  Luciano Azevedo  1981-06-25   16     9           25      0.64   \n",
       "1   Gleidson Cutis  1989-02-07    7     3           10      0.70   \n",
       "2       Rolando Dy  1990-08-11    9     7           16      0.56   \n",
       "\n",
       "   height_inches  reach  stance_open_stance  stance_orthodox   ...     \\\n",
       "0           75.0   72.0                   0                1   ...      \n",
       "1           69.0   72.0                   0                1   ...      \n",
       "2           68.0   69.0                   0                1   ...      \n",
       "\n",
       "   stance_southpaw  stance_switch  slpm  str_acc  sapm  str_def  td_avg  \\\n",
       "0                0              0  0.76       45  1.97       27    2.28   \n",
       "1                0              0  2.99       52  8.28       59    0.00   \n",
       "2                0              0  3.04       37  4.47       52    0.30   \n",
       "\n",
       "   td_acc  td_def  sub_avg  \n",
       "0      11       0      0.0  \n",
       "1       0       0      0.0  \n",
       "2      20      68      0.0  \n",
       "\n",
       "[3 rows x 21 columns]"
      ]
     },
     "execution_count": 14,
     "metadata": {},
     "output_type": "execute_result"
    }
   ],
   "source": [
    "fighters = pd.read_csv('../data/processed/fighters_cleaned')\n",
    "fighters.drop(labels=['draw'], axis=1, inplace=True)\n",
    "fighters.head(3)"
   ]
  },
  {
   "cell_type": "code",
   "execution_count": 15,
   "metadata": {
    "ExecuteTime": {
     "end_time": "2019-07-31T20:50:19.287027Z",
     "start_time": "2019-07-31T20:50:19.214259Z"
    }
   },
   "outputs": [
    {
     "data": {
      "text/html": [
       "<div>\n",
       "<style scoped>\n",
       "    .dataframe tbody tr th:only-of-type {\n",
       "        vertical-align: middle;\n",
       "    }\n",
       "\n",
       "    .dataframe tbody tr th {\n",
       "        vertical-align: top;\n",
       "    }\n",
       "\n",
       "    .dataframe thead th {\n",
       "        text-align: right;\n",
       "    }\n",
       "</style>\n",
       "<table border=\"1\" class=\"dataframe\">\n",
       "  <thead>\n",
       "    <tr style=\"text-align: right;\">\n",
       "      <th></th>\n",
       "      <th>date</th>\n",
       "      <th>location</th>\n",
       "      <th>fighter1</th>\n",
       "      <th>fighter2</th>\n",
       "      <th>winner_is_fighter1</th>\n",
       "      <th>title_fight</th>\n",
       "      <th>method_DEC</th>\n",
       "      <th>method_DQ</th>\n",
       "      <th>method_KO/TKO</th>\n",
       "      <th>method_SUB</th>\n",
       "    </tr>\n",
       "  </thead>\n",
       "  <tbody>\n",
       "    <tr>\n",
       "      <th>0</th>\n",
       "      <td>2018-11-17</td>\n",
       "      <td>Argentina</td>\n",
       "      <td>Neil Magny</td>\n",
       "      <td>Santiago Ponzinibbio</td>\n",
       "      <td>0</td>\n",
       "      <td>0</td>\n",
       "      <td>0</td>\n",
       "      <td>0</td>\n",
       "      <td>1</td>\n",
       "      <td>0</td>\n",
       "    </tr>\n",
       "    <tr>\n",
       "      <th>1</th>\n",
       "      <td>2018-11-17</td>\n",
       "      <td>Argentina</td>\n",
       "      <td>Darren Elkins</td>\n",
       "      <td>Ricardo Lamas</td>\n",
       "      <td>0</td>\n",
       "      <td>0</td>\n",
       "      <td>0</td>\n",
       "      <td>0</td>\n",
       "      <td>1</td>\n",
       "      <td>0</td>\n",
       "    </tr>\n",
       "    <tr>\n",
       "      <th>2</th>\n",
       "      <td>2018-11-17</td>\n",
       "      <td>Argentina</td>\n",
       "      <td>Johnny Walker</td>\n",
       "      <td>Khalil Rountree Jr.</td>\n",
       "      <td>1</td>\n",
       "      <td>0</td>\n",
       "      <td>0</td>\n",
       "      <td>0</td>\n",
       "      <td>1</td>\n",
       "      <td>0</td>\n",
       "    </tr>\n",
       "  </tbody>\n",
       "</table>\n",
       "</div>"
      ],
      "text/plain": [
       "         date   location       fighter1              fighter2  \\\n",
       "0  2018-11-17  Argentina     Neil Magny  Santiago Ponzinibbio   \n",
       "1  2018-11-17  Argentina  Darren Elkins         Ricardo Lamas   \n",
       "2  2018-11-17  Argentina  Johnny Walker   Khalil Rountree Jr.   \n",
       "\n",
       "   winner_is_fighter1  title_fight  method_DEC  method_DQ  method_KO/TKO  \\\n",
       "0                   0            0           0          0              1   \n",
       "1                   0            0           0          0              1   \n",
       "2                   1            0           0          0              1   \n",
       "\n",
       "   method_SUB  \n",
       "0           0  \n",
       "1           0  \n",
       "2           0  "
      ]
     },
     "execution_count": 15,
     "metadata": {},
     "output_type": "execute_result"
    }
   ],
   "source": [
    "bouts = pd.read_csv('../data/processed/bouts_cleaned')\n",
    "bouts.head(3)"
   ]
  },
  {
   "cell_type": "markdown",
   "metadata": {},
   "source": [
    "## Train-Test Split"
   ]
  },
  {
   "cell_type": "code",
   "execution_count": 16,
   "metadata": {
    "ExecuteTime": {
     "end_time": "2019-07-31T20:50:19.701654Z",
     "start_time": "2019-07-31T20:50:19.638918Z"
    }
   },
   "outputs": [],
   "source": [
    "X = data.drop(['date', 'fighter1', 'fighter2', 'winner_is_fighter1'],axis=1)\n",
    "y = data['winner_is_fighter1']"
   ]
  },
  {
   "cell_type": "markdown",
   "metadata": {},
   "source": [
    "- We no longer require the fighter names"
   ]
  },
  {
   "cell_type": "code",
   "execution_count": 17,
   "metadata": {
    "ExecuteTime": {
     "end_time": "2019-07-31T20:50:20.287890Z",
     "start_time": "2019-07-31T20:50:20.223753Z"
    }
   },
   "outputs": [
    {
     "name": "stdout",
     "output_type": "stream",
     "text": [
      "X_Train: \n",
      "\tObservations: 3199 \tFeatures: 41 \t70.0% of data\n",
      "X_Test: \n",
      "\tObservations: 1371 \tFeatures: 41 \t30.0% of data\n"
     ]
    }
   ],
   "source": [
    "X_train, X_test, y_train, y_test = train_test_split(X, y, test_size=0.3, random_state=1, stratify=y)\n",
    "\n",
    "print('X_Train: \\n\\tObservations: {} \\tFeatures: {} \\t{}% of data'.format(X_train.shape[0], X_train.shape[1], len(X_train)/len(X)*100))\n",
    "print('X_Test: \\n\\tObservations: {} \\tFeatures: {} \\t{}% of data'.format(X_test.shape[0], X_test.shape[1], len(X_test)/len(X)*100))"
   ]
  },
  {
   "cell_type": "markdown",
   "metadata": {},
   "source": [
    "- We set the random state so that our results can be reproduced easily\n",
    "- The stratify argument ensures that we maintain the proportion of class labels, i.e. the same proportion of fighter 1 wins to fighter 2 wins, across the original data, y_train and y_test."
   ]
  },
  {
   "cell_type": "code",
   "execution_count": 18,
   "metadata": {
    "ExecuteTime": {
     "end_time": "2019-07-31T20:50:20.860586Z",
     "start_time": "2019-07-31T20:50:20.798692Z"
    }
   },
   "outputs": [],
   "source": [
    "X_train = X_train.astype(float)\n",
    "X_test = X_test.astype(float)"
   ]
  },
  {
   "cell_type": "markdown",
   "metadata": {},
   "source": [
    "- Many of the features are type integer.  Several of the models we will run prefer to have type float as an input"
   ]
  },
  {
   "cell_type": "markdown",
   "metadata": {},
   "source": [
    "## Scaling"
   ]
  },
  {
   "cell_type": "markdown",
   "metadata": {},
   "source": [
    "- Many of the machine learning and optimization algorithms that we will be using require feature scaling in order to optimize performance. \n",
    "- We will standardize the features using StandardScaler from scikit-learn's preprocessing module.\n",
    "    - This will transform the data, resulting in each feature having a mean of 0 and a standard deviation of 1."
   ]
  },
  {
   "cell_type": "code",
   "execution_count": 19,
   "metadata": {
    "ExecuteTime": {
     "end_time": "2019-07-31T20:50:23.067604Z",
     "start_time": "2019-07-31T20:50:23.002978Z"
    }
   },
   "outputs": [],
   "source": [
    "sc = StandardScaler()\n",
    "X_train_std = sc.fit_transform(X_train)\n",
    "X_test_std = sc.transform(X_test)"
   ]
  },
  {
   "cell_type": "markdown",
   "metadata": {},
   "source": [
    "- We will use the same scaling parameters to standardize the test set, so that the values in the training and test dataset are comparable to each other."
   ]
  },
  {
   "cell_type": "markdown",
   "metadata": {
    "heading_collapsed": true
   },
   "source": [
    "# Models"
   ]
  },
  {
   "cell_type": "markdown",
   "metadata": {
    "ExecuteTime": {
     "end_time": "2019-07-29T16:02:10.726119Z",
     "start_time": "2019-07-29T16:02:10.690424Z"
    },
    "hidden": true
   },
   "source": [
    "**Compare Several Models**\n",
    "\n",
    "- For this project we are classifying bouts.  There are many choices of classification algorithm, each with its own strengths and weaknesses.  \n",
    "- There is no single classifier that always works best across all scenarios so we will compare a handful of different learning algorithms to select the best model for our particular problem.  "
   ]
  },
  {
   "cell_type": "markdown",
   "metadata": {
    "hidden": true
   },
   "source": [
    "**Cross Validation**\n",
    "\n",
    "- Train-test splitting does not ensure a 'random' split, which may result in our models overfitting our data.  We can use *cross-validation* to mitigate this issue.\n",
    "- There are several varieties of cross validation available in [SK Learn's Model Selection](https://scikit-learn.org/stable/modules/classes.html#module-sklearn.model_selection)\n",
    "- We will be using K-Fold Cross Validation, with a K of 5 \n",
    "    - We use each fold as a validation set, with the remaining folds used to train our model\n",
    "    - The computational cost will increase with each increase in the number of folds.\n",
    "        - Our dataset is relatively small so this should not be a big problem."
   ]
  },
  {
   "cell_type": "markdown",
   "metadata": {
    "hidden": true
   },
   "source": [
    "**Track each model's statistics**\n",
    "- We will keep track of each models statistics and performance in a dataframe"
   ]
  },
  {
   "cell_type": "code",
   "execution_count": 15,
   "metadata": {
    "ExecuteTime": {
     "end_time": "2019-07-31T19:19:25.174102Z",
     "start_time": "2019-07-31T19:19:25.130093Z"
    },
    "hidden": true
   },
   "outputs": [],
   "source": [
    "models_summary = pd.DataFrame()\n",
    "models_summary.rename_axis('Model', axis='columns', inplace=True)"
   ]
  },
  {
   "cell_type": "markdown",
   "metadata": {
    "hidden": true
   },
   "source": [
    "**Accuracy is our best metric**\n",
    "- Although there are many metrics to evaluate our models against one another, the *Occam's Razor* principle can often be applied (That is, that the simpler explanation is to be preferred). In the case of comparing our models, we are most interested in how many fights we correctly predict, i.e. the accuracy. There is virtually no class imbalance and the cost associated with a false positive and a false negative are identical."
   ]
  },
  {
   "cell_type": "markdown",
   "metadata": {
    "heading_collapsed": true,
    "hidden": true
   },
   "source": [
    "## Baseline Model"
   ]
  },
  {
   "cell_type": "markdown",
   "metadata": {
    "hidden": true
   },
   "source": [
    "- Our Base Rate will be to classify every bout as the largest class\n",
    "- Our Null Rate will be the accuracy of trivially predicting the most-frequent class"
   ]
  },
  {
   "cell_type": "code",
   "execution_count": 16,
   "metadata": {
    "ExecuteTime": {
     "end_time": "2019-07-31T19:19:25.237836Z",
     "start_time": "2019-07-31T19:19:25.176224Z"
    },
    "hidden": true
   },
   "outputs": [
    {
     "name": "stdout",
     "output_type": "stream",
     "text": [
      "Fighter 1 wins: 1594\n",
      "Fighter 2 wins: 1605\n",
      "\n",
      "Our Baseline Model will always predict Fighter 2 wins\n",
      "Null Rate: 50.17%\n"
     ]
    }
   ],
   "source": [
    "baseline_accuracy = cm.model_baseline(y_train)\n",
    "\n",
    "# Save the Baseline Model to our models summary dataframe\n",
    "models_summary['Baseline'] = [baseline_accuracy]  "
   ]
  },
  {
   "cell_type": "code",
   "execution_count": 17,
   "metadata": {
    "ExecuteTime": {
     "end_time": "2019-07-31T19:19:25.289035Z",
     "start_time": "2019-07-31T19:19:25.240843Z"
    },
    "hidden": true
   },
   "outputs": [
    {
     "data": {
      "text/html": [
       "<div>\n",
       "<style scoped>\n",
       "    .dataframe tbody tr th:only-of-type {\n",
       "        vertical-align: middle;\n",
       "    }\n",
       "\n",
       "    .dataframe tbody tr th {\n",
       "        vertical-align: top;\n",
       "    }\n",
       "\n",
       "    .dataframe thead th {\n",
       "        text-align: right;\n",
       "    }\n",
       "</style>\n",
       "<table border=\"1\" class=\"dataframe\">\n",
       "  <thead>\n",
       "    <tr style=\"text-align: right;\">\n",
       "      <th>Model</th>\n",
       "      <th>Baseline</th>\n",
       "    </tr>\n",
       "  </thead>\n",
       "  <tbody>\n",
       "    <tr>\n",
       "      <th>Accuracy</th>\n",
       "      <td>0.501719</td>\n",
       "    </tr>\n",
       "  </tbody>\n",
       "</table>\n",
       "</div>"
      ],
      "text/plain": [
       "Model     Baseline\n",
       "Accuracy  0.501719"
      ]
     },
     "execution_count": 17,
     "metadata": {},
     "output_type": "execute_result"
    }
   ],
   "source": [
    "models_summary.rename({0: 'Accuracy'}, inplace=True)\n",
    "models_summary"
   ]
  },
  {
   "cell_type": "markdown",
   "metadata": {
    "heading_collapsed": true,
    "hidden": true
   },
   "source": [
    "## K-Nearest Neighbors"
   ]
  },
  {
   "cell_type": "markdown",
   "metadata": {
    "hidden": true
   },
   "source": [
    "**Why Use KNN?**\n",
    "- K-Nearest Neighbors (KNN) is a instance-based learning type of nonparamteric model. It memorizes the training dataset and adapts immediately as we collect new training data.\n",
    "- The computational complexity for classifying new samples grows linearly with the number of samples in the training dataset. i.e. with every bout that occurs, and updates the model, the model becomes slower and slower to run. Our dataset is relatively very small so we are able to use this model\n",
    "- We are using the default Minkowski distance, which requires our distances to be standardized.\n",
    "\n",
    "**Dimensionality Reduction using PCA**\n",
    "- Principle Component Analysis (PCA) is a form of feature extraction, where we transform the data onto a new feature space whilst maintaining most of the relevant information.\n",
    "- Main benefits of PCA:\n",
    "    - Improves computational efficiency of our learning algorithm\n",
    "    - Reduces the \"curse of dimensionality\", which can improve the predictive performance"
   ]
  },
  {
   "cell_type": "code",
   "execution_count": 18,
   "metadata": {
    "ExecuteTime": {
     "end_time": "2019-07-31T19:19:25.785041Z",
     "start_time": "2019-07-31T19:19:25.291352Z"
    },
    "hidden": true
   },
   "outputs": [
    {
     "name": "stdout",
     "output_type": "stream",
     "text": [
      "The top 30 principal components explains 97.91% of the variance\n"
     ]
    },
    {
     "data": {
      "image/png": "[encoded data removed]",
      "text/plain": [
       "<Figure size 864x432 with 1 Axes>"
      ]
     },
     "metadata": {},
     "output_type": "display_data"
    }
   ],
   "source": [
    "cm.plot_explained_variance(X_train_std,\n",
    "                           features_to_show=30,\n",
    "                           title='KNN PCA Total and Explained Variance')"
   ]
  },
  {
   "cell_type": "markdown",
   "metadata": {
    "hidden": true
   },
   "source": [
    "**Choosing the right number of neighbors (k)**\n",
    "- This is critical to avoid over and underfitting our model.\n",
    "- We can do this manually by plotting the accuracy of the KNN model, as we change the k value.  \n",
    "- Our classification is binary, so we should choose k to be an odd number to avoid tied votes."
   ]
  },
  {
   "cell_type": "code",
   "execution_count": 19,
   "metadata": {
    "ExecuteTime": {
     "end_time": "2019-07-31T19:19:32.028774Z",
     "start_time": "2019-07-31T19:19:25.786358Z"
    },
    "hidden": true
   },
   "outputs": [
    {
     "name": "stdout",
     "output_type": "stream",
     "text": [
      "Highest Accuracy is 65.86%, when K is 25\n"
     ]
    },
    {
     "data": {
      "image/png": "[encoded data removed]",
      "text/plain": [
       "<Figure size 864x432 with 1 Axes>"
      ]
     },
     "metadata": {},
     "output_type": "display_data"
    }
   ],
   "source": [
    "cm.acc_by_k_value(X_train_std, y_train, X_test_std, y_test)"
   ]
  },
  {
   "cell_type": "markdown",
   "metadata": {
    "hidden": true
   },
   "source": [
    "- The best K is the one that results in the highest test accuracy score. \n",
    "    - The problem with using the chart above is that we are inadvertently using our test set as a training set. We are forcing the model to fit the test set, and causing the model to overfit.\n",
    "- A better approach is to use **k-fold cross validation**.\n",
    "    - This will allow us to compare hyperparameters (such as number of neighbors) on a validation set, and then only use the test data to represent how well the model performs on unseen data"
   ]
  },
  {
   "cell_type": "code",
   "execution_count": 20,
   "metadata": {
    "ExecuteTime": {
     "end_time": "2019-07-31T19:19:42.091082Z",
     "start_time": "2019-07-31T19:19:32.030340Z"
    },
    "hidden": true
   },
   "outputs": [
    {
     "name": "stdout",
     "output_type": "stream",
     "text": [
      "Best Accuracy: 64.96%\n",
      "\n",
      "Best Params:\n",
      " {'clf__n_neighbors': 21}\n"
     ]
    }
   ],
   "source": [
    "cm.model_knn_grid(X_train, y_train)"
   ]
  },
  {
   "cell_type": "code",
   "execution_count": 21,
   "metadata": {
    "ExecuteTime": {
     "end_time": "2019-07-31T19:19:42.355092Z",
     "start_time": "2019-07-31T19:19:42.092967Z"
    },
    "hidden": true
   },
   "outputs": [
    {
     "name": "stdout",
     "output_type": "stream",
     "text": [
      "Accuracy for K-Nearest Neighbors model (k = 21): 65.5%\n"
     ]
    }
   ],
   "source": [
    "knn_accuracy = cm.model_knn(X_train_std, y_train, X_test_std, y_test, n_neighbors=21)\n",
    "\n",
    "# Add KNN results to models summary dataframe\n",
    "models_summary['KNN'] = [knn_accuracy]"
   ]
  },
  {
   "cell_type": "code",
   "execution_count": 22,
   "metadata": {
    "ExecuteTime": {
     "end_time": "2019-07-31T19:19:42.396489Z",
     "start_time": "2019-07-31T19:19:42.356725Z"
    },
    "hidden": true
   },
   "outputs": [
    {
     "data": {
      "text/html": [
       "<div>\n",
       "<style scoped>\n",
       "    .dataframe tbody tr th:only-of-type {\n",
       "        vertical-align: middle;\n",
       "    }\n",
       "\n",
       "    .dataframe tbody tr th {\n",
       "        vertical-align: top;\n",
       "    }\n",
       "\n",
       "    .dataframe thead th {\n",
       "        text-align: right;\n",
       "    }\n",
       "</style>\n",
       "<table border=\"1\" class=\"dataframe\">\n",
       "  <thead>\n",
       "    <tr style=\"text-align: right;\">\n",
       "      <th>Model</th>\n",
       "      <th>Baseline</th>\n",
       "      <th>KNN</th>\n",
       "    </tr>\n",
       "  </thead>\n",
       "  <tbody>\n",
       "    <tr>\n",
       "      <th>Accuracy</th>\n",
       "      <td>0.501719</td>\n",
       "      <td>0.654996</td>\n",
       "    </tr>\n",
       "  </tbody>\n",
       "</table>\n",
       "</div>"
      ],
      "text/plain": [
       "Model     Baseline       KNN\n",
       "Accuracy  0.501719  0.654996"
      ]
     },
     "execution_count": 22,
     "metadata": {},
     "output_type": "execute_result"
    }
   ],
   "source": [
    "models_summary"
   ]
  },
  {
   "cell_type": "markdown",
   "metadata": {
    "heading_collapsed": true,
    "hidden": true
   },
   "source": [
    "## Logistic Regression"
   ]
  },
  {
   "cell_type": "code",
   "execution_count": 23,
   "metadata": {
    "ExecuteTime": {
     "end_time": "2019-07-31T19:19:43.159615Z",
     "start_time": "2019-07-31T19:19:42.398312Z"
    },
    "hidden": true
   },
   "outputs": [
    {
     "name": "stdout",
     "output_type": "stream",
     "text": [
      "Fitting 5 folds for each of 7 candidates, totalling 35 fits\n"
     ]
    },
    {
     "name": "stderr",
     "output_type": "stream",
     "text": [
      "[Parallel(n_jobs=-1)]: Using backend LokyBackend with 8 concurrent workers.\n"
     ]
    },
    {
     "name": "stdout",
     "output_type": "stream",
     "text": [
      "Best Accuracy: 70.37%\n",
      "\n",
      "Best params:\n",
      " {'clf__C': 0.1}\n"
     ]
    },
    {
     "name": "stderr",
     "output_type": "stream",
     "text": [
      "[Parallel(n_jobs=-1)]: Done  35 out of  35 | elapsed:    0.7s finished\n"
     ]
    }
   ],
   "source": [
    "cm.model_logreg_grid(X_train_std, y_train)"
   ]
  },
  {
   "cell_type": "code",
   "execution_count": 24,
   "metadata": {
    "ExecuteTime": {
     "end_time": "2019-07-31T19:19:43.218225Z",
     "start_time": "2019-07-31T19:19:43.163492Z"
    },
    "hidden": true
   },
   "outputs": [
    {
     "name": "stdout",
     "output_type": "stream",
     "text": [
      "Accuracy for Logistic Regression model: 71.3%\n"
     ]
    }
   ],
   "source": [
    "lr_accuracy = cm.model_logreg(C_=0.1, X_train_=X_train_std, y_train_=y_train, X_test_=X_test_std, y_test_=y_test)"
   ]
  },
  {
   "cell_type": "code",
   "execution_count": 25,
   "metadata": {
    "ExecuteTime": {
     "end_time": "2019-07-31T19:19:43.259788Z",
     "start_time": "2019-07-31T19:19:43.221459Z"
    },
    "hidden": true
   },
   "outputs": [],
   "source": [
    "# Add Logistic Regression results to models summary dataframe\n",
    "models_summary['Logistic Regression'] = lr_accuracy"
   ]
  },
  {
   "cell_type": "code",
   "execution_count": 26,
   "metadata": {
    "ExecuteTime": {
     "end_time": "2019-07-31T19:19:43.302167Z",
     "start_time": "2019-07-31T19:19:43.261599Z"
    },
    "hidden": true
   },
   "outputs": [
    {
     "data": {
      "text/html": [
       "<div>\n",
       "<style scoped>\n",
       "    .dataframe tbody tr th:only-of-type {\n",
       "        vertical-align: middle;\n",
       "    }\n",
       "\n",
       "    .dataframe tbody tr th {\n",
       "        vertical-align: top;\n",
       "    }\n",
       "\n",
       "    .dataframe thead th {\n",
       "        text-align: right;\n",
       "    }\n",
       "</style>\n",
       "<table border=\"1\" class=\"dataframe\">\n",
       "  <thead>\n",
       "    <tr style=\"text-align: right;\">\n",
       "      <th>Model</th>\n",
       "      <th>Baseline</th>\n",
       "      <th>KNN</th>\n",
       "      <th>Logistic Regression</th>\n",
       "    </tr>\n",
       "  </thead>\n",
       "  <tbody>\n",
       "    <tr>\n",
       "      <th>Accuracy</th>\n",
       "      <td>0.501719</td>\n",
       "      <td>0.654996</td>\n",
       "      <td>0.712619</td>\n",
       "    </tr>\n",
       "  </tbody>\n",
       "</table>\n",
       "</div>"
      ],
      "text/plain": [
       "Model     Baseline       KNN  Logistic Regression\n",
       "Accuracy  0.501719  0.654996             0.712619"
      ]
     },
     "execution_count": 26,
     "metadata": {},
     "output_type": "execute_result"
    }
   ],
   "source": [
    "models_summary"
   ]
  },
  {
   "cell_type": "markdown",
   "metadata": {
    "heading_collapsed": true,
    "hidden": true
   },
   "source": [
    "## Random Forest"
   ]
  },
  {
   "cell_type": "markdown",
   "metadata": {
    "hidden": true
   },
   "source": [
    "- Because this is an ensemble algorithm, the model is naturally resistant to noise and variance in the data (which helps reduce overfitting), and generally tends to perform quite well.\n",
    "- As it is an ensemble alogorithm we have the computational cost of training each model"
   ]
  },
  {
   "cell_type": "code",
   "execution_count": 27,
   "metadata": {
    "ExecuteTime": {
     "end_time": "2019-07-31T19:19:43.344127Z",
     "start_time": "2019-07-31T19:19:43.303710Z"
    },
    "hidden": true
   },
   "outputs": [],
   "source": [
    "X_train_top_features = X_train.copy()\n",
    "X_train_top_features = cm.rename_top_features(X_train_top_features)"
   ]
  },
  {
   "cell_type": "code",
   "execution_count": 28,
   "metadata": {
    "ExecuteTime": {
     "end_time": "2019-07-31T19:20:53.037580Z",
     "start_time": "2019-07-31T19:19:43.345907Z"
    },
    "hidden": true
   },
   "outputs": [
    {
     "name": "stdout",
     "output_type": "stream",
     "text": [
      "Fitting 5 folds for each of 36 candidates, totalling 180 fits\n"
     ]
    },
    {
     "name": "stderr",
     "output_type": "stream",
     "text": [
      "[Parallel(n_jobs=1)]: Using backend SequentialBackend with 1 concurrent workers.\n"
     ]
    },
    {
     "name": "stdout",
     "output_type": "stream",
     "text": [
      "Best accuracy: 0.698031\n",
      "\n",
      "Best params:\n",
      " {'clf__max_depth': 5, 'clf__min_samples_leaf': 0.05, 'clf__min_samples_split': 0.05, 'clf__n_estimators': 120}\n"
     ]
    },
    {
     "name": "stderr",
     "output_type": "stream",
     "text": [
      "[Parallel(n_jobs=1)]: Done 180 out of 180 | elapsed:  1.2min finished\n"
     ]
    }
   ],
   "source": [
    "cm.model_rf_grid(X_train, y_train)"
   ]
  },
  {
   "cell_type": "code",
   "execution_count": 29,
   "metadata": {
    "ExecuteTime": {
     "end_time": "2019-07-31T19:20:53.290101Z",
     "start_time": "2019-07-31T19:20:53.039559Z"
    },
    "hidden": true
   },
   "outputs": [
    {
     "name": "stdout",
     "output_type": "stream",
     "text": [
      "Accuracy for Random Forest model : 70.5%\n"
     ]
    }
   ],
   "source": [
    "rf_accuracy = cm.model_random_forest(X_train_top_features, y_train, X_test, y_test, \n",
    "                   max_depth_=5, min_samples_leaf_=0.05, \n",
    "                   min_samples_split_=0.05, n_estimators_=120)\n",
    "\n",
    "# Add Random Forest results to models summary dataframe\n",
    "models_summary['Random Forest'] = rf_accuracy "
   ]
  },
  {
   "cell_type": "code",
   "execution_count": 30,
   "metadata": {
    "ExecuteTime": {
     "end_time": "2019-07-31T19:20:53.324971Z",
     "start_time": "2019-07-31T19:20:53.291441Z"
    },
    "hidden": true
   },
   "outputs": [
    {
     "data": {
      "text/html": [
       "<div>\n",
       "<style scoped>\n",
       "    .dataframe tbody tr th:only-of-type {\n",
       "        vertical-align: middle;\n",
       "    }\n",
       "\n",
       "    .dataframe tbody tr th {\n",
       "        vertical-align: top;\n",
       "    }\n",
       "\n",
       "    .dataframe thead th {\n",
       "        text-align: right;\n",
       "    }\n",
       "</style>\n",
       "<table border=\"1\" class=\"dataframe\">\n",
       "  <thead>\n",
       "    <tr style=\"text-align: right;\">\n",
       "      <th>Model</th>\n",
       "      <th>Baseline</th>\n",
       "      <th>KNN</th>\n",
       "      <th>Logistic Regression</th>\n",
       "      <th>Random Forest</th>\n",
       "    </tr>\n",
       "  </thead>\n",
       "  <tbody>\n",
       "    <tr>\n",
       "      <th>Accuracy</th>\n",
       "      <td>0.501719</td>\n",
       "      <td>0.654996</td>\n",
       "      <td>0.712619</td>\n",
       "      <td>0.704595</td>\n",
       "    </tr>\n",
       "  </tbody>\n",
       "</table>\n",
       "</div>"
      ],
      "text/plain": [
       "Model     Baseline       KNN  Logistic Regression  Random Forest\n",
       "Accuracy  0.501719  0.654996             0.712619       0.704595"
      ]
     },
     "execution_count": 30,
     "metadata": {},
     "output_type": "execute_result"
    }
   ],
   "source": [
    "models_summary"
   ]
  },
  {
   "cell_type": "markdown",
   "metadata": {
    "heading_collapsed": true,
    "hidden": true
   },
   "source": [
    "## AdaBoost"
   ]
  },
  {
   "cell_type": "markdown",
   "metadata": {
    "hidden": true
   },
   "source": []
  },
  {
   "cell_type": "code",
   "execution_count": 31,
   "metadata": {
    "ExecuteTime": {
     "end_time": "2019-07-31T19:20:57.446276Z",
     "start_time": "2019-07-31T19:20:53.326181Z"
    },
    "hidden": true
   },
   "outputs": [
    {
     "name": "stdout",
     "output_type": "stream",
     "text": [
      "Fitting 5 folds for each of 16 candidates, totalling 80 fits\n"
     ]
    },
    {
     "name": "stderr",
     "output_type": "stream",
     "text": [
      "[Parallel(n_jobs=-1)]: Using backend LokyBackend with 8 concurrent workers.\n",
      "[Parallel(n_jobs=-1)]: Done  80 out of  80 | elapsed:    3.8s finished\n"
     ]
    },
    {
     "name": "stdout",
     "output_type": "stream",
     "text": [
      "Best Accuracy: 70.46%\n",
      "\n",
      "Best params:\n",
      " {'clf__learning_rate': 0.5, 'clf__n_estimators': 90}\n"
     ]
    }
   ],
   "source": [
    "cm.model_ada_boost_grid(X_train, y_train)"
   ]
  },
  {
   "cell_type": "code",
   "execution_count": 32,
   "metadata": {
    "ExecuteTime": {
     "end_time": "2019-07-31T19:20:57.812627Z",
     "start_time": "2019-07-31T19:20:57.448160Z"
    },
    "hidden": true
   },
   "outputs": [
    {
     "name": "stdout",
     "output_type": "stream",
     "text": [
      "Accuracy for Ada Boost model : 71.4%\n"
     ]
    }
   ],
   "source": [
    "ada_accuracy = cm.model_ada_boost(X_train, y_train, X_test, y_test,\n",
    "                                  learning_rate=0.5, n_estimators=90)"
   ]
  },
  {
   "cell_type": "code",
   "execution_count": 33,
   "metadata": {
    "ExecuteTime": {
     "end_time": "2019-07-31T19:20:57.843326Z",
     "start_time": "2019-07-31T19:20:57.814260Z"
    },
    "hidden": true
   },
   "outputs": [],
   "source": [
    "# Add Ada Boost results to models summary dataframe\n",
    "models_summary['Ada Boost'] = ada_accuracy"
   ]
  },
  {
   "cell_type": "code",
   "execution_count": 34,
   "metadata": {
    "ExecuteTime": {
     "end_time": "2019-07-31T19:20:57.877056Z",
     "start_time": "2019-07-31T19:20:57.844520Z"
    },
    "hidden": true
   },
   "outputs": [
    {
     "data": {
      "text/html": [
       "<div>\n",
       "<style scoped>\n",
       "    .dataframe tbody tr th:only-of-type {\n",
       "        vertical-align: middle;\n",
       "    }\n",
       "\n",
       "    .dataframe tbody tr th {\n",
       "        vertical-align: top;\n",
       "    }\n",
       "\n",
       "    .dataframe thead th {\n",
       "        text-align: right;\n",
       "    }\n",
       "</style>\n",
       "<table border=\"1\" class=\"dataframe\">\n",
       "  <thead>\n",
       "    <tr style=\"text-align: right;\">\n",
       "      <th>Model</th>\n",
       "      <th>Baseline</th>\n",
       "      <th>KNN</th>\n",
       "      <th>Logistic Regression</th>\n",
       "      <th>Random Forest</th>\n",
       "      <th>Ada Boost</th>\n",
       "    </tr>\n",
       "  </thead>\n",
       "  <tbody>\n",
       "    <tr>\n",
       "      <th>Accuracy</th>\n",
       "      <td>0.501719</td>\n",
       "      <td>0.654996</td>\n",
       "      <td>0.712619</td>\n",
       "      <td>0.704595</td>\n",
       "      <td>0.714077</td>\n",
       "    </tr>\n",
       "  </tbody>\n",
       "</table>\n",
       "</div>"
      ],
      "text/plain": [
       "Model     Baseline       KNN  Logistic Regression  Random Forest  Ada Boost\n",
       "Accuracy  0.501719  0.654996             0.712619       0.704595   0.714077"
      ]
     },
     "execution_count": 34,
     "metadata": {},
     "output_type": "execute_result"
    }
   ],
   "source": [
    "models_summary"
   ]
  },
  {
   "cell_type": "markdown",
   "metadata": {
    "hidden": true
   },
   "source": [
    "## Gradient Boosting (XG Boost)"
   ]
  },
  {
   "cell_type": "markdown",
   "metadata": {
    "hidden": true
   },
   "source": [
    "- eXtreme Gradient Boosting (XG Boost) is a form of gradient boosting which often produces the best performances, amongst gradient boosting algorithms\n",
    "- XG Boost is able to parallelize the construction of decision trees across all our computer's CPU cores during the training phase\n",
    "    - This can even be done across a cluster of computers "
   ]
  },
  {
   "cell_type": "code",
   "execution_count": 35,
   "metadata": {
    "ExecuteTime": {
     "end_time": "2019-07-31T19:20:58.132018Z",
     "start_time": "2019-07-31T19:20:57.878253Z"
    },
    "hidden": true
   },
   "outputs": [
    {
     "name": "stdout",
     "output_type": "stream",
     "text": [
      "Accuracy for XGBoost model : 73.7%\n"
     ]
    }
   ],
   "source": [
    "xgb_accuracy = cm.model_xgboost(X_train, y_train, X_test, y_test)[0]\n",
    "models_summary['XG Boost'] = xgb_accuracy"
   ]
  },
  {
   "cell_type": "code",
   "execution_count": 36,
   "metadata": {
    "ExecuteTime": {
     "end_time": "2019-07-31T19:20:58.175974Z",
     "start_time": "2019-07-31T19:20:58.133562Z"
    },
    "hidden": true,
    "scrolled": true
   },
   "outputs": [
    {
     "data": {
      "text/html": [
       "<div>\n",
       "<style scoped>\n",
       "    .dataframe tbody tr th:only-of-type {\n",
       "        vertical-align: middle;\n",
       "    }\n",
       "\n",
       "    .dataframe tbody tr th {\n",
       "        vertical-align: top;\n",
       "    }\n",
       "\n",
       "    .dataframe thead th {\n",
       "        text-align: right;\n",
       "    }\n",
       "</style>\n",
       "<table border=\"1\" class=\"dataframe\">\n",
       "  <thead>\n",
       "    <tr style=\"text-align: right;\">\n",
       "      <th>Model</th>\n",
       "      <th>Baseline</th>\n",
       "      <th>KNN</th>\n",
       "      <th>Logistic Regression</th>\n",
       "      <th>Random Forest</th>\n",
       "      <th>Ada Boost</th>\n",
       "      <th>XG Boost</th>\n",
       "    </tr>\n",
       "  </thead>\n",
       "  <tbody>\n",
       "    <tr>\n",
       "      <th>Accuracy</th>\n",
       "      <td>0.501719</td>\n",
       "      <td>0.654996</td>\n",
       "      <td>0.712619</td>\n",
       "      <td>0.704595</td>\n",
       "      <td>0.714077</td>\n",
       "      <td>0.736689</td>\n",
       "    </tr>\n",
       "  </tbody>\n",
       "</table>\n",
       "</div>"
      ],
      "text/plain": [
       "Model     Baseline       KNN  Logistic Regression  Random Forest  Ada Boost  \\\n",
       "Accuracy  0.501719  0.654996             0.712619       0.704595   0.714077   \n",
       "\n",
       "Model     XG Boost  \n",
       "Accuracy  0.736689  "
      ]
     },
     "execution_count": 36,
     "metadata": {},
     "output_type": "execute_result"
    }
   ],
   "source": [
    "models_summary"
   ]
  },
  {
   "cell_type": "markdown",
   "metadata": {
    "hidden": true
   },
   "source": [
    "## Neural Network (tanh)"
   ]
  },
  {
   "cell_type": "markdown",
   "metadata": {
    "hidden": true
   },
   "source": []
  },
  {
   "cell_type": "code",
   "execution_count": 37,
   "metadata": {
    "ExecuteTime": {
     "end_time": "2019-07-31T19:20:58.274754Z",
     "start_time": "2019-07-31T19:20:58.177537Z"
    },
    "hidden": true
   },
   "outputs": [],
   "source": [
    "model_tanh = cm.model_compile_neural_network(X_train_std, 'tanh')"
   ]
  },
  {
   "cell_type": "code",
   "execution_count": 38,
   "metadata": {
    "ExecuteTime": {
     "end_time": "2019-07-31T19:20:59.834938Z",
     "start_time": "2019-07-31T19:20:58.276142Z"
    },
    "hidden": true
   },
   "outputs": [],
   "source": [
    "history_tanh = cm.model_fit_neural_network(X_train_std, y_train, model_tanh, 100)"
   ]
  },
  {
   "cell_type": "code",
   "execution_count": 39,
   "metadata": {
    "ExecuteTime": {
     "end_time": "2019-07-31T19:21:00.012930Z",
     "start_time": "2019-07-31T19:20:59.836116Z"
    },
    "hidden": true
   },
   "outputs": [
    {
     "name": "stdout",
     "output_type": "stream",
     "text": [
      "We have reduced the loss by 22.03% by training the model through 100 epochs\n"
     ]
    },
    {
     "data": {
      "image/png": "[encoded data removed]",
      "text/plain": [
       "<Figure size 864x432 with 1 Axes>"
      ]
     },
     "metadata": {},
     "output_type": "display_data"
    }
   ],
   "source": [
    "loss = history_tanh.history['loss']\n",
    "cm.plot_training_loss(loss)"
   ]
  },
  {
   "cell_type": "code",
   "execution_count": 40,
   "metadata": {
    "ExecuteTime": {
     "end_time": "2019-07-31T19:21:00.196077Z",
     "start_time": "2019-07-31T19:21:00.014358Z"
    },
    "hidden": true
   },
   "outputs": [
    {
     "name": "stdout",
     "output_type": "stream",
     "text": [
      "We have increased the accuracy by 34.85% by training the model through 100 epochs\n"
     ]
    },
    {
     "data": {
      "image/png": "[encoded data removed]",
      "text/plain": [
       "<Figure size 864x432 with 1 Axes>"
      ]
     },
     "metadata": {},
     "output_type": "display_data"
    }
   ],
   "source": [
    "acc = history_tanh.history['acc']\n",
    "val_acc = history_tanh.history['val_acc']\n",
    "\n",
    "cm.training_and_validation_accuracy(acc, val_acc, history_tanh,\n",
    "                                      title='Neural Network (tanh) Training and Validation Accuracy')"
   ]
  },
  {
   "cell_type": "code",
   "execution_count": 41,
   "metadata": {
    "ExecuteTime": {
     "end_time": "2019-07-31T19:21:00.474400Z",
     "start_time": "2019-07-31T19:21:00.197779Z"
    },
    "hidden": true
   },
   "outputs": [
    {
     "name": "stdout",
     "output_type": "stream",
     "text": [
      "We have increased the accuracy by 34.85% by training the model through 100 epochs\n"
     ]
    },
    {
     "name": "stderr",
     "output_type": "stream",
     "text": [
      "/Users/adam/Documents/flatiron/ml_ufc_data/src/custom.py:118: SettingWithCopyWarning: \n",
      "A value is trying to be set on a copy of a slice from a DataFrame\n",
      "\n",
      "See the caveats in the documentation: http://pandas.pydata.org/pandas-docs/stable/indexing.html#indexing-view-versus-copy\n",
      "  df['val_acc_avg'][mov_avg_n-1:] = list(val_acc_avg)\n"
     ]
    },
    {
     "data": {
      "image/png": "[encoded data removed]",
      "text/plain": [
       "<Figure size 864x432 with 1 Axes>"
      ]
     },
     "metadata": {},
     "output_type": "display_data"
    }
   ],
   "source": [
    "cm.training_and_validation_accuracy(acc, val_acc, history_tanh,\n",
    "                                      title='Neural Network (tanh) Training and Validation Accuracy',\n",
    "                                      y_lim=(0.6,0.8), show_mov_avg=True)"
   ]
  },
  {
   "cell_type": "code",
   "execution_count": 42,
   "metadata": {
    "ExecuteTime": {
     "end_time": "2019-07-31T19:21:00.531779Z",
     "start_time": "2019-07-31T19:21:00.476382Z"
    },
    "hidden": true
   },
   "outputs": [
    {
     "name": "stdout",
     "output_type": "stream",
     "text": [
      "Test Accuracy: 71.0%\n"
     ]
    }
   ],
   "source": [
    "nn_tanh_accuracy = cm.model_test_acc_neural_network(X_test_std, y_test, model_tanh)\n",
    "\n",
    "# Add Score to Models Summary DataFrame\n",
    "models_summary['Neural Network (tanh)'] = nn_tanh_accuracy"
   ]
  },
  {
   "cell_type": "code",
   "execution_count": 43,
   "metadata": {
    "ExecuteTime": {
     "end_time": "2019-07-31T19:21:00.566958Z",
     "start_time": "2019-07-31T19:21:00.533081Z"
    },
    "hidden": true
   },
   "outputs": [
    {
     "data": {
      "text/html": [
       "<div>\n",
       "<style scoped>\n",
       "    .dataframe tbody tr th:only-of-type {\n",
       "        vertical-align: middle;\n",
       "    }\n",
       "\n",
       "    .dataframe tbody tr th {\n",
       "        vertical-align: top;\n",
       "    }\n",
       "\n",
       "    .dataframe thead th {\n",
       "        text-align: right;\n",
       "    }\n",
       "</style>\n",
       "<table border=\"1\" class=\"dataframe\">\n",
       "  <thead>\n",
       "    <tr style=\"text-align: right;\">\n",
       "      <th>Model</th>\n",
       "      <th>Baseline</th>\n",
       "      <th>KNN</th>\n",
       "      <th>Logistic Regression</th>\n",
       "      <th>Random Forest</th>\n",
       "      <th>Ada Boost</th>\n",
       "      <th>XG Boost</th>\n",
       "      <th>Neural Network (tanh)</th>\n",
       "    </tr>\n",
       "  </thead>\n",
       "  <tbody>\n",
       "    <tr>\n",
       "      <th>Accuracy</th>\n",
       "      <td>0.501719</td>\n",
       "      <td>0.654996</td>\n",
       "      <td>0.712619</td>\n",
       "      <td>0.704595</td>\n",
       "      <td>0.714077</td>\n",
       "      <td>0.736689</td>\n",
       "      <td>0.709701</td>\n",
       "    </tr>\n",
       "  </tbody>\n",
       "</table>\n",
       "</div>"
      ],
      "text/plain": [
       "Model     Baseline       KNN  Logistic Regression  Random Forest  Ada Boost  \\\n",
       "Accuracy  0.501719  0.654996             0.712619       0.704595   0.714077   \n",
       "\n",
       "Model     XG Boost  Neural Network (tanh)  \n",
       "Accuracy  0.736689               0.709701  "
      ]
     },
     "execution_count": 43,
     "metadata": {},
     "output_type": "execute_result"
    }
   ],
   "source": [
    "models_summary"
   ]
  },
  {
   "cell_type": "markdown",
   "metadata": {
    "heading_collapsed": true,
    "hidden": true
   },
   "source": [
    "## Neural Network (Relu)"
   ]
  },
  {
   "cell_type": "markdown",
   "metadata": {
    "hidden": true
   },
   "source": []
  },
  {
   "cell_type": "code",
   "execution_count": 44,
   "metadata": {
    "ExecuteTime": {
     "end_time": "2019-07-31T19:21:00.637749Z",
     "start_time": "2019-07-31T19:21:00.568191Z"
    },
    "hidden": true
   },
   "outputs": [],
   "source": [
    "model_relu = cm.model_compile_neural_network(X_train_std, 'relu')"
   ]
  },
  {
   "cell_type": "code",
   "execution_count": 45,
   "metadata": {
    "ExecuteTime": {
     "end_time": "2019-07-31T19:21:02.129795Z",
     "start_time": "2019-07-31T19:21:00.639398Z"
    },
    "hidden": true
   },
   "outputs": [],
   "source": [
    "history_relu = cm.model_fit_neural_network(X_train_std, y_train, model_relu, 100)"
   ]
  },
  {
   "cell_type": "code",
   "execution_count": 46,
   "metadata": {
    "ExecuteTime": {
     "end_time": "2019-07-31T19:21:02.309828Z",
     "start_time": "2019-07-31T19:21:02.131013Z"
    },
    "hidden": true
   },
   "outputs": [
    {
     "name": "stdout",
     "output_type": "stream",
     "text": [
      "We have reduced the loss by 23.0% by training the model through 100 epochs\n"
     ]
    },
    {
     "data": {
      "image/png": "[encoded data removed]",
      "text/plain": [
       "<Figure size 864x432 with 1 Axes>"
      ]
     },
     "metadata": {},
     "output_type": "display_data"
    }
   ],
   "source": [
    "loss = history_relu.history['loss']\n",
    "cm.plot_training_loss(loss)"
   ]
  },
  {
   "cell_type": "code",
   "execution_count": 47,
   "metadata": {
    "ExecuteTime": {
     "end_time": "2019-07-31T19:21:02.513446Z",
     "start_time": "2019-07-31T19:21:02.311419Z"
    },
    "hidden": true
   },
   "outputs": [
    {
     "name": "stdout",
     "output_type": "stream",
     "text": [
      "We have increased the accuracy by 42.32% by training the model through 100 epochs\n"
     ]
    },
    {
     "data": {
      "image/png": "[encoded data removed]",
      "text/plain": [
       "<Figure size 864x432 with 1 Axes>"
      ]
     },
     "metadata": {},
     "output_type": "display_data"
    }
   ],
   "source": [
    "acc = history_relu.history['acc']\n",
    "val_acc = history_relu.history['val_acc']\n",
    "\n",
    "cm.training_and_validation_accuracy(acc, val_acc, history_relu,\n",
    "                                      title='Neural Network (tanh) Training and Validation Accuracy')"
   ]
  },
  {
   "cell_type": "code",
   "execution_count": 48,
   "metadata": {
    "ExecuteTime": {
     "end_time": "2019-07-31T19:21:02.780629Z",
     "start_time": "2019-07-31T19:21:02.514526Z"
    },
    "hidden": true
   },
   "outputs": [
    {
     "name": "stdout",
     "output_type": "stream",
     "text": [
      "We have increased the accuracy by 42.32% by training the model through 100 epochs\n"
     ]
    },
    {
     "name": "stderr",
     "output_type": "stream",
     "text": [
      "/Users/adam/Documents/flatiron/ml_ufc_data/src/custom.py:118: SettingWithCopyWarning: \n",
      "A value is trying to be set on a copy of a slice from a DataFrame\n",
      "\n",
      "See the caveats in the documentation: http://pandas.pydata.org/pandas-docs/stable/indexing.html#indexing-view-versus-copy\n",
      "  df['val_acc_avg'][mov_avg_n-1:] = list(val_acc_avg)\n"
     ]
    },
    {
     "data": {
      "image/png": "[encoded data removed]",
      "text/plain": [
       "<Figure size 864x432 with 1 Axes>"
      ]
     },
     "metadata": {},
     "output_type": "display_data"
    }
   ],
   "source": [
    "acc = history_relu.history['acc']\n",
    "val_acc = history_relu.history['val_acc']\n",
    "\n",
    "cm.training_and_validation_accuracy(acc, val_acc, history_relu,\n",
    "                                      title='Neural Network (tanh) Training and Validation Accuracy',\n",
    "                                   y_lim=(0.4,0.75), \n",
    "                                   mov_avg_n=10,\n",
    "                                   show_mov_avg=True)"
   ]
  },
  {
   "cell_type": "code",
   "execution_count": 49,
   "metadata": {
    "ExecuteTime": {
     "end_time": "2019-07-31T19:21:02.841525Z",
     "start_time": "2019-07-31T19:21:02.782201Z"
    },
    "hidden": true
   },
   "outputs": [
    {
     "name": "stdout",
     "output_type": "stream",
     "text": [
      "Test Accuracy: 70.0%\n"
     ]
    }
   ],
   "source": [
    "nn_relu_accuracy = cm.model_test_acc_neural_network(X_test_std, y_test, model_relu)\n",
    "\n",
    "# Add Score to Models Summary DataFrame\n",
    "models_summary['Neural Network (relu)'] = nn_relu_accuracy"
   ]
  },
  {
   "cell_type": "code",
   "execution_count": 50,
   "metadata": {
    "ExecuteTime": {
     "end_time": "2019-07-31T19:21:02.878796Z",
     "start_time": "2019-07-31T19:21:02.843080Z"
    },
    "hidden": true
   },
   "outputs": [
    {
     "data": {
      "text/html": [
       "<div>\n",
       "<style scoped>\n",
       "    .dataframe tbody tr th:only-of-type {\n",
       "        vertical-align: middle;\n",
       "    }\n",
       "\n",
       "    .dataframe tbody tr th {\n",
       "        vertical-align: top;\n",
       "    }\n",
       "\n",
       "    .dataframe thead th {\n",
       "        text-align: right;\n",
       "    }\n",
       "</style>\n",
       "<table border=\"1\" class=\"dataframe\">\n",
       "  <thead>\n",
       "    <tr style=\"text-align: right;\">\n",
       "      <th>Model</th>\n",
       "      <th>Baseline</th>\n",
       "      <th>KNN</th>\n",
       "      <th>Logistic Regression</th>\n",
       "      <th>Random Forest</th>\n",
       "      <th>Ada Boost</th>\n",
       "      <th>XG Boost</th>\n",
       "      <th>Neural Network (tanh)</th>\n",
       "      <th>Neural Network (relu)</th>\n",
       "    </tr>\n",
       "  </thead>\n",
       "  <tbody>\n",
       "    <tr>\n",
       "      <th>Accuracy</th>\n",
       "      <td>0.501719</td>\n",
       "      <td>0.654996</td>\n",
       "      <td>0.712619</td>\n",
       "      <td>0.704595</td>\n",
       "      <td>0.714077</td>\n",
       "      <td>0.736689</td>\n",
       "      <td>0.709701</td>\n",
       "      <td>0.695113</td>\n",
       "    </tr>\n",
       "  </tbody>\n",
       "</table>\n",
       "</div>"
      ],
      "text/plain": [
       "Model     Baseline       KNN  Logistic Regression  Random Forest  Ada Boost  \\\n",
       "Accuracy  0.501719  0.654996             0.712619       0.704595   0.714077   \n",
       "\n",
       "Model     XG Boost  Neural Network (tanh)  Neural Network (relu)  \n",
       "Accuracy  0.736689               0.709701               0.695113  "
      ]
     },
     "execution_count": 50,
     "metadata": {},
     "output_type": "execute_result"
    }
   ],
   "source": [
    "models_summary"
   ]
  },
  {
   "cell_type": "markdown",
   "metadata": {
    "heading_collapsed": true
   },
   "source": [
    "# Evaluation of Models"
   ]
  },
  {
   "cell_type": "code",
   "execution_count": 51,
   "metadata": {
    "ExecuteTime": {
     "end_time": "2019-07-31T19:21:02.911199Z",
     "start_time": "2019-07-31T19:21:02.879931Z"
    },
    "hidden": true
   },
   "outputs": [
    {
     "data": {
      "text/html": [
       "<div>\n",
       "<style scoped>\n",
       "    .dataframe tbody tr th:only-of-type {\n",
       "        vertical-align: middle;\n",
       "    }\n",
       "\n",
       "    .dataframe tbody tr th {\n",
       "        vertical-align: top;\n",
       "    }\n",
       "\n",
       "    .dataframe thead th {\n",
       "        text-align: right;\n",
       "    }\n",
       "</style>\n",
       "<table border=\"1\" class=\"dataframe\">\n",
       "  <thead>\n",
       "    <tr style=\"text-align: right;\">\n",
       "      <th></th>\n",
       "      <th>Accuracy</th>\n",
       "    </tr>\n",
       "    <tr>\n",
       "      <th>Model</th>\n",
       "      <th></th>\n",
       "    </tr>\n",
       "  </thead>\n",
       "  <tbody>\n",
       "    <tr>\n",
       "      <th>Baseline</th>\n",
       "      <td>0.501719</td>\n",
       "    </tr>\n",
       "    <tr>\n",
       "      <th>KNN</th>\n",
       "      <td>0.654996</td>\n",
       "    </tr>\n",
       "    <tr>\n",
       "      <th>Neural Network (relu)</th>\n",
       "      <td>0.695113</td>\n",
       "    </tr>\n",
       "    <tr>\n",
       "      <th>Random Forest</th>\n",
       "      <td>0.704595</td>\n",
       "    </tr>\n",
       "    <tr>\n",
       "      <th>Neural Network (tanh)</th>\n",
       "      <td>0.709701</td>\n",
       "    </tr>\n",
       "    <tr>\n",
       "      <th>Logistic Regression</th>\n",
       "      <td>0.712619</td>\n",
       "    </tr>\n",
       "    <tr>\n",
       "      <th>Ada Boost</th>\n",
       "      <td>0.714077</td>\n",
       "    </tr>\n",
       "    <tr>\n",
       "      <th>XG Boost</th>\n",
       "      <td>0.736689</td>\n",
       "    </tr>\n",
       "  </tbody>\n",
       "</table>\n",
       "</div>"
      ],
      "text/plain": [
       "                       Accuracy\n",
       "Model                          \n",
       "Baseline               0.501719\n",
       "KNN                    0.654996\n",
       "Neural Network (relu)  0.695113\n",
       "Random Forest          0.704595\n",
       "Neural Network (tanh)  0.709701\n",
       "Logistic Regression    0.712619\n",
       "Ada Boost              0.714077\n",
       "XG Boost               0.736689"
      ]
     },
     "execution_count": 51,
     "metadata": {},
     "output_type": "execute_result"
    }
   ],
   "source": [
    "models_summary = models_summary.T\n",
    "\n",
    "# Sort models_summary into order\n",
    "models_summary.sort_values('Accuracy', inplace=True)\n",
    "\n",
    "models_summary"
   ]
  },
  {
   "cell_type": "markdown",
   "metadata": {
    "hidden": true
   },
   "source": [
    "## Barchart to compare Models"
   ]
  },
  {
   "cell_type": "code",
   "execution_count": 52,
   "metadata": {
    "ExecuteTime": {
     "end_time": "2019-07-31T19:21:03.074824Z",
     "start_time": "2019-07-31T19:21:02.912407Z"
    },
    "hidden": true
   },
   "outputs": [
    {
     "data": {
      "image/png": "[encoded data removed]",
      "text/plain": [
       "<Figure size 864x432 with 1 Axes>"
      ]
     },
     "metadata": {},
     "output_type": "display_data"
    }
   ],
   "source": [
    "cm.plot_compare_models(models_summary, 'Accuracy')"
   ]
  },
  {
   "cell_type": "markdown",
   "metadata": {
    "hidden": true
   },
   "source": [
    "## Confusion Matrix of Best Model"
   ]
  },
  {
   "cell_type": "code",
   "execution_count": 54,
   "metadata": {
    "ExecuteTime": {
     "end_time": "2019-07-31T19:23:02.890197Z",
     "start_time": "2019-07-31T19:23:02.194957Z"
    },
    "hidden": true
   },
   "outputs": [
    {
     "name": "stdout",
     "output_type": "stream",
     "text": [
      "Accuracy for XGBoost model : 73.7%\n",
      "Accuracy for XGBoost model : 73.7%\n",
      "Normalized confusion matrix\n",
      "\n"
     ]
    },
    {
     "data": {
      "image/png": "[encoded data removed]",
      "text/plain": [
       "<Figure size 864x432 with 1 Axes>"
      ]
     },
     "metadata": {},
     "output_type": "display_data"
    }
   ],
   "source": [
    "# XG Boost\n",
    "y_test = cm.model_xgboost(X_train, y_train, X_test, y_test)[2]\n",
    "y_test_pred = cm.model_xgboost(X_train, y_train, X_test, y_test)[3]\n",
    "\n",
    "conf_matrix = confusion_matrix(y_test,y_test_pred)\n",
    "cm.plot_confusion_matrix(cm=conf_matrix, classes=['Fighter 1 Wins','Fighter 2 Wins'], normalize=True, title='Confusion Matrix for XG Boost Model');"
   ]
  },
  {
   "cell_type": "markdown",
   "metadata": {},
   "source": [
    "# Function to Predict a Fight"
   ]
  },
  {
   "cell_type": "code",
   "execution_count": 101,
   "metadata": {
    "ExecuteTime": {
     "end_time": "2019-07-31T21:27:37.002674Z",
     "start_time": "2019-07-31T21:27:36.934477Z"
    },
    "scrolled": true
   },
   "outputs": [
    {
     "data": {
      "text/html": [
       "<div>\n",
       "<style scoped>\n",
       "    .dataframe tbody tr th:only-of-type {\n",
       "        vertical-align: middle;\n",
       "    }\n",
       "\n",
       "    .dataframe tbody tr th {\n",
       "        vertical-align: top;\n",
       "    }\n",
       "\n",
       "    .dataframe thead th {\n",
       "        text-align: right;\n",
       "    }\n",
       "</style>\n",
       "<table border=\"1\" class=\"dataframe\">\n",
       "  <thead>\n",
       "    <tr style=\"text-align: right;\">\n",
       "      <th></th>\n",
       "      <th>10 Random Fighter Names</th>\n",
       "    </tr>\n",
       "  </thead>\n",
       "  <tbody>\n",
       "    <tr>\n",
       "      <th>0</th>\n",
       "      <td>Tamdan McCrory</td>\n",
       "    </tr>\n",
       "    <tr>\n",
       "      <th>1</th>\n",
       "      <td>Ryan McGivern</td>\n",
       "    </tr>\n",
       "    <tr>\n",
       "      <th>2</th>\n",
       "      <td>Chase Waldon</td>\n",
       "    </tr>\n",
       "    <tr>\n",
       "      <th>3</th>\n",
       "      <td>Brad Morris</td>\n",
       "    </tr>\n",
       "    <tr>\n",
       "      <th>4</th>\n",
       "      <td>Stanislav Nedkov</td>\n",
       "    </tr>\n",
       "    <tr>\n",
       "      <th>5</th>\n",
       "      <td>Lee Murray</td>\n",
       "    </tr>\n",
       "    <tr>\n",
       "      <th>6</th>\n",
       "      <td>Anthony Hernandez</td>\n",
       "    </tr>\n",
       "    <tr>\n",
       "      <th>7</th>\n",
       "      <td>John Allan</td>\n",
       "    </tr>\n",
       "    <tr>\n",
       "      <th>8</th>\n",
       "      <td>Royce Gracie</td>\n",
       "    </tr>\n",
       "    <tr>\n",
       "      <th>9</th>\n",
       "      <td>Ricky Simon</td>\n",
       "    </tr>\n",
       "  </tbody>\n",
       "</table>\n",
       "</div>"
      ],
      "text/plain": [
       "  10 Random Fighter Names\n",
       "0          Tamdan McCrory\n",
       "1           Ryan McGivern\n",
       "2            Chase Waldon\n",
       "3             Brad Morris\n",
       "4        Stanislav Nedkov\n",
       "5              Lee Murray\n",
       "6       Anthony Hernandez\n",
       "7              John Allan\n",
       "8            Royce Gracie\n",
       "9             Ricky Simon"
      ]
     },
     "execution_count": 101,
     "metadata": {},
     "output_type": "execute_result"
    }
   ],
   "source": [
    "cm.random_fighter_names(fighters, num_fighters=10)"
   ]
  },
  {
   "cell_type": "code",
   "execution_count": 102,
   "metadata": {
    "ExecuteTime": {
     "end_time": "2019-07-31T21:27:43.611431Z",
     "start_time": "2019-07-31T21:27:43.539141Z"
    }
   },
   "outputs": [
    {
     "name": "stdout",
     "output_type": "stream",
     "text": [
      "Names that contain \"Mark\"\n"
     ]
    },
    {
     "data": {
      "text/html": [
       "<div>\n",
       "<style scoped>\n",
       "    .dataframe tbody tr th:only-of-type {\n",
       "        vertical-align: middle;\n",
       "    }\n",
       "\n",
       "    .dataframe tbody tr th {\n",
       "        vertical-align: top;\n",
       "    }\n",
       "\n",
       "    .dataframe thead th {\n",
       "        text-align: right;\n",
       "    }\n",
       "</style>\n",
       "<table border=\"1\" class=\"dataframe\">\n",
       "  <thead>\n",
       "    <tr style=\"text-align: right;\">\n",
       "      <th></th>\n",
       "      <th>name</th>\n",
       "    </tr>\n",
       "  </thead>\n",
       "  <tbody>\n",
       "    <tr>\n",
       "      <th>80</th>\n",
       "      <td>Markus Perez</td>\n",
       "    </tr>\n",
       "    <tr>\n",
       "      <th>270</th>\n",
       "      <td>Mark Munoz</td>\n",
       "    </tr>\n",
       "    <tr>\n",
       "      <th>450</th>\n",
       "      <td>Christina Marks</td>\n",
       "    </tr>\n",
       "    <tr>\n",
       "      <th>451</th>\n",
       "      <td>Randa Markos</td>\n",
       "    </tr>\n",
       "    <tr>\n",
       "      <th>452</th>\n",
       "      <td>Rory Markham</td>\n",
       "    </tr>\n",
       "    <tr>\n",
       "      <th>453</th>\n",
       "      <td>Ronny Markes</td>\n",
       "    </tr>\n",
       "    <tr>\n",
       "      <th>672</th>\n",
       "      <td>Mark Kerr</td>\n",
       "    </tr>\n",
       "    <tr>\n",
       "      <th>804</th>\n",
       "      <td>Mark Hunt</td>\n",
       "    </tr>\n",
       "    <tr>\n",
       "      <th>807</th>\n",
       "      <td>Mark Hughes</td>\n",
       "    </tr>\n",
       "    <tr>\n",
       "      <th>825</th>\n",
       "      <td>Mark Hominick</td>\n",
       "    </tr>\n",
       "    <tr>\n",
       "      <th>828</th>\n",
       "      <td>Mark Holst</td>\n",
       "    </tr>\n",
       "    <tr>\n",
       "      <th>1019</th>\n",
       "      <td>Mark Godbeer</td>\n",
       "    </tr>\n",
       "    <tr>\n",
       "      <th>1204</th>\n",
       "      <td>Mark Eddiva</td>\n",
       "    </tr>\n",
       "    <tr>\n",
       "      <th>1288</th>\n",
       "      <td>Mark De La Rosa</td>\n",
       "    </tr>\n",
       "    <tr>\n",
       "      <th>1379</th>\n",
       "      <td>Mark Coleman</td>\n",
       "    </tr>\n",
       "    <tr>\n",
       "      <th>1412</th>\n",
       "      <td>Mark Cherico</td>\n",
       "    </tr>\n",
       "    <tr>\n",
       "      <th>1571</th>\n",
       "      <td>Mark Bocek</td>\n",
       "    </tr>\n",
       "    <tr>\n",
       "      <th>1878</th>\n",
       "      <td>Mark Weir</td>\n",
       "    </tr>\n",
       "    <tr>\n",
       "      <th>1925</th>\n",
       "      <td>Mark Vorgeas</td>\n",
       "    </tr>\n",
       "    <tr>\n",
       "      <th>2271</th>\n",
       "      <td>Mark Scanlon</td>\n",
       "    </tr>\n",
       "  </tbody>\n",
       "</table>\n",
       "</div>"
      ],
      "text/plain": [
       "                 name\n",
       "80       Markus Perez\n",
       "270        Mark Munoz\n",
       "450   Christina Marks\n",
       "451      Randa Markos\n",
       "452      Rory Markham\n",
       "453      Ronny Markes\n",
       "672         Mark Kerr\n",
       "804         Mark Hunt\n",
       "807       Mark Hughes\n",
       "825     Mark Hominick\n",
       "828        Mark Holst\n",
       "1019     Mark Godbeer\n",
       "1204      Mark Eddiva\n",
       "1288  Mark De La Rosa\n",
       "1379     Mark Coleman\n",
       "1412     Mark Cherico\n",
       "1571       Mark Bocek\n",
       "1878        Mark Weir\n",
       "1925     Mark Vorgeas\n",
       "2271     Mark Scanlon"
      ]
     },
     "execution_count": 102,
     "metadata": {},
     "output_type": "execute_result"
    }
   ],
   "source": [
    "cm.fighter_name_contains('Mark')"
   ]
  },
  {
   "cell_type": "code",
   "execution_count": 107,
   "metadata": {
    "ExecuteTime": {
     "end_time": "2019-07-31T21:30:37.020652Z",
     "start_time": "2019-07-31T21:30:21.614622Z"
    }
   },
   "outputs": [
    {
     "name": "stdout",
     "output_type": "stream",
     "text": [
      "What is the name of Fighter 1?\tFrankie Edgar\n",
      "What is the name of Fighter 2?\tMax Holloway\n",
      "When will the fight take place? (YYYY-MM-DD) (default = today)\t\n",
      "Is this a title fight? (yes/no)\tyes\n",
      "\n",
      "I think that Max Holloway will beat Frankie Edgar.\n",
      "I am 69.27% sure of this\n"
     ]
    }
   ],
   "source": [
    "cm.predict_fight(data, fighters)"
   ]
  },
  {
   "cell_type": "markdown",
   "metadata": {},
   "source": [
    "# Conclusion"
   ]
  },
  {
   "cell_type": "markdown",
   "metadata": {},
   "source": [
    "## Future Work\n",
    "- Fighter Statistics is not reflective of their statistics at time of fight (i.e. our models are training on fighter statistics that are an aggregate of their career, not up until the time of the fight)\n",
    "    - Data would be needed on every fight a fighter has had in their career, and then a class of fighter could be made and updated with each bout.  \n",
    "- Include a draw outcome.  This would create a multiclass target variable.  Models such as logistic regression would have to be adapted (to One-Vs-All)\n",
    "- Include how the fight was finished as part of prediction (i.e. Submission, KO, Decision)\n",
    "- Ensemble method of average of output probabilities."
   ]
  },
  {
   "cell_type": "code",
   "execution_count": null,
   "metadata": {
    "collapsed": true
   },
   "outputs": [],
   "source": []
  }
 ],
 "metadata": {
  "kernelspec": {
   "display_name": "Python 3",
   "language": "python",
   "name": "python3"
  },
  "language_info": {
   "codemirror_mode": {
    "name": "ipython",
    "version": 3
   },
   "file_extension": ".py",
   "mimetype": "text/x-python",
   "name": "python",
   "nbconvert_exporter": "python",
   "pygments_lexer": "ipython3",
   "version": "3.6.6"
  },
  "toc": {
   "base_numbering": 1,
   "nav_menu": {},
   "number_sections": true,
   "sideBar": true,
   "skip_h1_title": false,
   "title_cell": "Table of Contents",
   "title_sidebar": "Contents",
   "toc_cell": false,
   "toc_position": {},
   "toc_section_display": true,
   "toc_window_display": false
  },
  "varInspector": {
   "cols": {
    "lenName": 16,
    "lenType": 16,
    "lenVar": 40
   },
   "kernels_config": {
    "python": {
     "delete_cmd_postfix": "",
     "delete_cmd_prefix": "del ",
     "library": "var_list.py",
     "varRefreshCmd": "print(var_dic_list())"
    },
    "r": {
     "delete_cmd_postfix": ") ",
     "delete_cmd_prefix": "rm(",
     "library": "var_list.r",
     "varRefreshCmd": "cat(var_dic_list()) "
    }
   },
   "types_to_exclude": [
    "module",
    "function",
    "builtin_function_or_method",
    "instance",
    "_Feature"
   ],
   "window_display": false
  }
 },
 "nbformat": 4,
 "nbformat_minor": 2
}
