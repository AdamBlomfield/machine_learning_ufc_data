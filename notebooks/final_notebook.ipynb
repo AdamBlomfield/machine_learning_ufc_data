{
 "cells": [
  {
   "cell_type": "markdown",
   "metadata": {},
   "source": [
    "# Outline\n",
    "\n",
    "- Background to Project\n",
    "- Code Imports\n",
    "- Import Data\n",
    "- Models\n",
    "    - (Models = KNN, LR, RF, AdaBoost, Gradient, XG Boost, NN-tanh, NN-Relu)\n",
    "        - Build Pipeline\n",
    "        - GridSearch\n",
    "            - Parameter Grid\n",
    "            - Construct GridSearch\n",
    "            - Fit GridSearch\n",
    "            - Output Best Accuracy\n",
    "            - Save Model's Best Accuracy to Summary Table\n",
    "        - (From RF take feature importance)\n",
    "        - (Gradient = XG Boost?)\n",
    "- Evaluate Best model\n",
    "    - Confusion Matrix for best model\n",
    "- Function to predict next fight\n",
    "- Conclusion\n",
    "    - Future Work\n",
    "    "
   ]
  },
  {
   "cell_type": "markdown",
   "metadata": {},
   "source": [
    "# Code Imports"
   ]
  },
  {
   "cell_type": "markdown",
   "metadata": {
    "heading_collapsed": true
   },
   "source": [
    "## Library Installations"
   ]
  },
  {
   "cell_type": "code",
   "execution_count": 1,
   "metadata": {
    "ExecuteTime": {
     "end_time": "2019-07-29T22:54:48.639985Z",
     "start_time": "2019-07-29T22:54:48.636832Z"
    },
    "hidden": true
   },
   "outputs": [],
   "source": [
    "# !conda install py-xgboost"
   ]
  },
  {
   "cell_type": "markdown",
   "metadata": {},
   "source": [
    "## Import Libraries"
   ]
  },
  {
   "cell_type": "code",
   "execution_count": 2,
   "metadata": {
    "ExecuteTime": {
     "end_time": "2019-07-29T22:54:53.778734Z",
     "start_time": "2019-07-29T22:54:48.643132Z"
    }
   },
   "outputs": [
    {
     "name": "stderr",
     "output_type": "stream",
     "text": [
      "Using TensorFlow backend.\n"
     ]
    }
   ],
   "source": [
    "# For Dataframes and arrays\n",
    "import numpy as np\n",
    "import pandas as pd\n",
    "# Visualization libraries\n",
    "import matplotlib.pyplot as plt\n",
    "%matplotlib inline\n",
    "import seaborn as sns\n",
    "\n",
    "# Preprocessing Data\n",
    "    # Train:Test split\n",
    "from sklearn.model_selection import train_test_split\n",
    "    # Scaling\n",
    "from sklearn.preprocessing import StandardScaler\n",
    "    # Feature Extraction\n",
    "from sklearn.decomposition import PCA\n",
    "\n",
    "# Modeling\n",
    "from sklearn.neighbors import KNeighborsClassifier\n",
    "from sklearn.linear_model import LogisticRegression\n",
    "from sklearn.ensemble import RandomForestClassifier\n",
    "from sklearn.ensemble import AdaBoostClassifier\n",
    "import xgboost as xgb\n",
    "from xgboost import XGBClassifier\n",
    "    # Prevent Kernel Dying\n",
    "import os\n",
    "os.environ['KMP_DUPLICATE_LIB_OK']='True'\n",
    "\n",
    "# Neural Network\n",
    "import tensorflow as tf\n",
    "import keras\n",
    "from keras.layers import Dense, Dropout, Activation, LeakyReLU\n",
    "from keras.models import Sequential\n",
    "from keras.optimizers import SGD\n",
    "\n",
    "# Tuning\n",
    "from sklearn.model_selection import GridSearchCV\n",
    "from sklearn.pipeline import Pipeline\n",
    "\n",
    "# Evaluation\n",
    "from sklearn import metrics\n",
    "from sklearn.metrics import confusion_matrix\n",
    "import itertools\n",
    "\n",
    "# Warnings\n",
    "# import warnings\n",
    "# warnings.filterwarnings(\"ignore\")\n",
    "\n",
    "# Set random seeds\n",
    "np.random.seed(123)\n",
    "tf.set_random_seed(123)"
   ]
  },
  {
   "cell_type": "markdown",
   "metadata": {},
   "source": [
    "## Local Code Imports - Do not delete"
   ]
  },
  {
   "cell_type": "code",
   "execution_count": 3,
   "metadata": {
    "ExecuteTime": {
     "end_time": "2019-07-29T22:54:53.863688Z",
     "start_time": "2019-07-29T22:54:53.781380Z"
    }
   },
   "outputs": [],
   "source": [
    "# DO NOT REMOVE THESE\n",
    "%load_ext autoreload\n",
    "%autoreload 2"
   ]
  },
  {
   "cell_type": "code",
   "execution_count": 4,
   "metadata": {
    "ExecuteTime": {
     "end_time": "2019-07-29T22:54:53.979619Z",
     "start_time": "2019-07-29T22:54:53.867021Z"
    }
   },
   "outputs": [],
   "source": [
    "# DO NOT REMOVE This\n",
    "%reload_ext autoreload"
   ]
  },
  {
   "cell_type": "code",
   "execution_count": 5,
   "metadata": {
    "ExecuteTime": {
     "end_time": "2019-07-29T22:54:54.064804Z",
     "start_time": "2019-07-29T22:54:53.984006Z"
    }
   },
   "outputs": [],
   "source": [
    "## DO NOT REMOVE\n",
    "## import local src module -\n",
    "## src in this project will contain all your local code\n",
    "## clean_data.py, model.py, visualize.py, custom.py\n",
    "from src import make_data as mk\n",
    "from src import visualize as viz\n",
    "from src import model as mdl\n",
    "from src import pandas_operators as po\n",
    "from src import custom as cm\n",
    "\n",
    "def test_src():\n",
    "    mk.test_make_data()\n",
    "    viz.test_viz()\n",
    "    mdl.test_model()\n",
    "    po.test_pandas()\n",
    "    \n",
    "    return 1"
   ]
  },
  {
   "cell_type": "code",
   "execution_count": 6,
   "metadata": {
    "ExecuteTime": {
     "end_time": "2019-07-29T22:54:54.143830Z",
     "start_time": "2019-07-29T22:54:54.067350Z"
    },
    "scrolled": true
   },
   "outputs": [
    {
     "name": "stdout",
     "output_type": "stream",
     "text": [
      "In make_data\n",
      "In Visualize\n",
      "In Model\n",
      "In pandas ops\n"
     ]
    },
    {
     "data": {
      "text/plain": [
       "1"
      ]
     },
     "execution_count": 6,
     "metadata": {},
     "output_type": "execute_result"
    }
   ],
   "source": [
    "test_src()"
   ]
  },
  {
   "cell_type": "markdown",
   "metadata": {},
   "source": [
    "# Project Background"
   ]
  },
  {
   "cell_type": "markdown",
   "metadata": {},
   "source": [
    "## UFC Background"
   ]
  },
  {
   "cell_type": "code",
   "execution_count": 7,
   "metadata": {
    "ExecuteTime": {
     "end_time": "2019-07-29T22:54:54.212266Z",
     "start_time": "2019-07-29T22:54:54.146430Z"
    }
   },
   "outputs": [
    {
     "data": {
      "text/html": [
       "<iframe width=\"900\" height=\"600\" src=\"https://www.youtube.com/embed/K4LRXBffbB0?start=0&end=66\" frameborder=\"0\" allowfullscreen></iframe>"
      ],
      "text/plain": [
       "<IPython.core.display.HTML object>"
      ]
     },
     "execution_count": 7,
     "metadata": {},
     "output_type": "execute_result"
    }
   ],
   "source": [
    "# Credit to National Geographic\n",
    "cm.ufc_intro_vid()"
   ]
  },
  {
   "cell_type": "markdown",
   "metadata": {
    "heading_collapsed": true
   },
   "source": [
    "## Project Objective"
   ]
  },
  {
   "cell_type": "code",
   "execution_count": null,
   "metadata": {
    "hidden": true
   },
   "outputs": [],
   "source": []
  },
  {
   "cell_type": "markdown",
   "metadata": {
    "hidden": true
   },
   "source": [
    "### Compare a Variety of Machine Learning Models\n",
    "For this project we are classifying. There are many choices of classification algorithm, each with its own strengths and weaknesses. There is no single classifier that always works best across all scenarios so we will compare a handful of different learning algorithms to select the best model for our particular problem."
   ]
  },
  {
   "cell_type": "markdown",
   "metadata": {
    "hidden": true
   },
   "source": [
    "### Assumptions made\n",
    "- In reality, each bout has 4 possible outcomes; fighter 1 wins, fighter 2 wins, draw or no contest.  For simplicity of modeling, these outcomes have been reduced to simply fighter 1 wins or fighter 2 wins.  \n",
    "- The models are trained on fighter statistics that reflect their current statistics, not those at the time of the fight.  i.e. a fighter's first bout will feature their statistics the same statistics as their latest bout."
   ]
  },
  {
   "cell_type": "markdown",
   "metadata": {},
   "source": [
    "# Import Data"
   ]
  },
  {
   "cell_type": "code",
   "execution_count": 214,
   "metadata": {
    "ExecuteTime": {
     "end_time": "2019-07-30T13:55:14.043179Z",
     "start_time": "2019-07-30T13:55:13.959120Z"
    },
    "scrolled": true
   },
   "outputs": [
    {
     "data": {
      "text/html": [
       "<div>\n",
       "<style scoped>\n",
       "    .dataframe tbody tr th:only-of-type {\n",
       "        vertical-align: middle;\n",
       "    }\n",
       "\n",
       "    .dataframe tbody tr th {\n",
       "        vertical-align: top;\n",
       "    }\n",
       "\n",
       "    .dataframe thead th {\n",
       "        text-align: right;\n",
       "    }\n",
       "</style>\n",
       "<table border=\"1\" class=\"dataframe\">\n",
       "  <thead>\n",
       "    <tr style=\"text-align: right;\">\n",
       "      <th></th>\n",
       "      <th>date</th>\n",
       "      <th>fighter1</th>\n",
       "      <th>fighter2</th>\n",
       "      <th>winner_is_fighter1</th>\n",
       "      <th>title_fight</th>\n",
       "      <th>fighter1_win</th>\n",
       "      <th>fighter1_lose</th>\n",
       "      <th>fighter1_total_bouts</th>\n",
       "      <th>fighter1_win_rate</th>\n",
       "      <th>fighter1_height_inches</th>\n",
       "      <th>...</th>\n",
       "      <th>fighter2_slpm</th>\n",
       "      <th>fighter2_str_acc</th>\n",
       "      <th>fighter2_sapm</th>\n",
       "      <th>fighter2_str_def</th>\n",
       "      <th>fighter2_td_avg</th>\n",
       "      <th>fighter2_td_acc</th>\n",
       "      <th>fighter2_td_def</th>\n",
       "      <th>fighter2_sub_avg</th>\n",
       "      <th>fighter1_age_at_fight</th>\n",
       "      <th>fighter2_age_at_fight</th>\n",
       "    </tr>\n",
       "  </thead>\n",
       "  <tbody>\n",
       "    <tr>\n",
       "      <th>0</th>\n",
       "      <td>2018-11-17</td>\n",
       "      <td>Santiago Ponzinibbio</td>\n",
       "      <td>Neil Magny</td>\n",
       "      <td>1</td>\n",
       "      <td>0</td>\n",
       "      <td>28</td>\n",
       "      <td>3</td>\n",
       "      <td>31</td>\n",
       "      <td>0.90</td>\n",
       "      <td>72.0</td>\n",
       "      <td>...</td>\n",
       "      <td>3.86</td>\n",
       "      <td>46</td>\n",
       "      <td>2.22</td>\n",
       "      <td>56</td>\n",
       "      <td>2.62</td>\n",
       "      <td>46</td>\n",
       "      <td>60</td>\n",
       "      <td>0.3</td>\n",
       "      <td>32.0</td>\n",
       "      <td>31.0</td>\n",
       "    </tr>\n",
       "    <tr>\n",
       "      <th>1</th>\n",
       "      <td>2018-11-17</td>\n",
       "      <td>Darren Elkins</td>\n",
       "      <td>Ricardo Lamas</td>\n",
       "      <td>0</td>\n",
       "      <td>0</td>\n",
       "      <td>25</td>\n",
       "      <td>7</td>\n",
       "      <td>32</td>\n",
       "      <td>0.78</td>\n",
       "      <td>70.0</td>\n",
       "      <td>...</td>\n",
       "      <td>2.87</td>\n",
       "      <td>45</td>\n",
       "      <td>2.61</td>\n",
       "      <td>59</td>\n",
       "      <td>1.66</td>\n",
       "      <td>32</td>\n",
       "      <td>47</td>\n",
       "      <td>1.0</td>\n",
       "      <td>34.0</td>\n",
       "      <td>36.0</td>\n",
       "    </tr>\n",
       "    <tr>\n",
       "      <th>2</th>\n",
       "      <td>2018-11-17</td>\n",
       "      <td>Johnny Walker</td>\n",
       "      <td>Khalil Rountree Jr.</td>\n",
       "      <td>1</td>\n",
       "      <td>0</td>\n",
       "      <td>15</td>\n",
       "      <td>3</td>\n",
       "      <td>18</td>\n",
       "      <td>0.83</td>\n",
       "      <td>77.0</td>\n",
       "      <td>...</td>\n",
       "      <td>2.30</td>\n",
       "      <td>34</td>\n",
       "      <td>3.29</td>\n",
       "      <td>38</td>\n",
       "      <td>0.00</td>\n",
       "      <td>0</td>\n",
       "      <td>50</td>\n",
       "      <td>0.3</td>\n",
       "      <td>26.0</td>\n",
       "      <td>28.0</td>\n",
       "    </tr>\n",
       "    <tr>\n",
       "      <th>3</th>\n",
       "      <td>2018-11-17</td>\n",
       "      <td>Cezar Ferreira</td>\n",
       "      <td>Ian Heinisch</td>\n",
       "      <td>0</td>\n",
       "      <td>0</td>\n",
       "      <td>14</td>\n",
       "      <td>7</td>\n",
       "      <td>21</td>\n",
       "      <td>0.67</td>\n",
       "      <td>73.0</td>\n",
       "      <td>...</td>\n",
       "      <td>3.49</td>\n",
       "      <td>58</td>\n",
       "      <td>1.67</td>\n",
       "      <td>52</td>\n",
       "      <td>0.81</td>\n",
       "      <td>14</td>\n",
       "      <td>50</td>\n",
       "      <td>1.6</td>\n",
       "      <td>33.0</td>\n",
       "      <td>30.0</td>\n",
       "    </tr>\n",
       "    <tr>\n",
       "      <th>4</th>\n",
       "      <td>2018-11-17</td>\n",
       "      <td>Guido Cannetti</td>\n",
       "      <td>Marlon Vera</td>\n",
       "      <td>0</td>\n",
       "      <td>0</td>\n",
       "      <td>8</td>\n",
       "      <td>5</td>\n",
       "      <td>13</td>\n",
       "      <td>0.62</td>\n",
       "      <td>66.0</td>\n",
       "      <td>...</td>\n",
       "      <td>3.23</td>\n",
       "      <td>44</td>\n",
       "      <td>3.93</td>\n",
       "      <td>52</td>\n",
       "      <td>0.78</td>\n",
       "      <td>37</td>\n",
       "      <td>68</td>\n",
       "      <td>1.3</td>\n",
       "      <td>38.0</td>\n",
       "      <td>25.0</td>\n",
       "    </tr>\n",
       "  </tbody>\n",
       "</table>\n",
       "<p>5 rows × 45 columns</p>\n",
       "</div>"
      ],
      "text/plain": [
       "         date              fighter1             fighter2  winner_is_fighter1  \\\n",
       "0  2018-11-17  Santiago Ponzinibbio           Neil Magny                   1   \n",
       "1  2018-11-17         Darren Elkins        Ricardo Lamas                   0   \n",
       "2  2018-11-17         Johnny Walker  Khalil Rountree Jr.                   1   \n",
       "3  2018-11-17        Cezar Ferreira         Ian Heinisch                   0   \n",
       "4  2018-11-17        Guido Cannetti          Marlon Vera                   0   \n",
       "\n",
       "   title_fight  fighter1_win  fighter1_lose  fighter1_total_bouts  \\\n",
       "0            0            28              3                    31   \n",
       "1            0            25              7                    32   \n",
       "2            0            15              3                    18   \n",
       "3            0            14              7                    21   \n",
       "4            0             8              5                    13   \n",
       "\n",
       "   fighter1_win_rate  fighter1_height_inches          ...            \\\n",
       "0               0.90                    72.0          ...             \n",
       "1               0.78                    70.0          ...             \n",
       "2               0.83                    77.0          ...             \n",
       "3               0.67                    73.0          ...             \n",
       "4               0.62                    66.0          ...             \n",
       "\n",
       "   fighter2_slpm  fighter2_str_acc  fighter2_sapm  fighter2_str_def  \\\n",
       "0           3.86                46           2.22                56   \n",
       "1           2.87                45           2.61                59   \n",
       "2           2.30                34           3.29                38   \n",
       "3           3.49                58           1.67                52   \n",
       "4           3.23                44           3.93                52   \n",
       "\n",
       "   fighter2_td_avg  fighter2_td_acc  fighter2_td_def  fighter2_sub_avg  \\\n",
       "0             2.62               46               60               0.3   \n",
       "1             1.66               32               47               1.0   \n",
       "2             0.00                0               50               0.3   \n",
       "3             0.81               14               50               1.6   \n",
       "4             0.78               37               68               1.3   \n",
       "\n",
       "   fighter1_age_at_fight  fighter2_age_at_fight  \n",
       "0                   32.0                   31.0  \n",
       "1                   34.0                   36.0  \n",
       "2                   26.0                   28.0  \n",
       "3                   33.0                   30.0  \n",
       "4                   38.0                   25.0  \n",
       "\n",
       "[5 rows x 45 columns]"
      ]
     },
     "execution_count": 214,
     "metadata": {},
     "output_type": "execute_result"
    }
   ],
   "source": [
    "data = pd.read_csv('../data/processed/combined')\n",
    "data.head()"
   ]
  },
  {
   "cell_type": "markdown",
   "metadata": {},
   "source": [
    "## Train-Test Split"
   ]
  },
  {
   "cell_type": "code",
   "execution_count": 9,
   "metadata": {
    "ExecuteTime": {
     "end_time": "2019-07-29T22:54:54.437448Z",
     "start_time": "2019-07-29T22:54:54.376135Z"
    }
   },
   "outputs": [],
   "source": [
    "X = data.drop(['date', 'fighter1', 'fighter2', 'winner_is_fighter1'],axis=1)\n",
    "y = data['winner_is_fighter1']"
   ]
  },
  {
   "cell_type": "markdown",
   "metadata": {},
   "source": [
    "- We no longer require the fighter names"
   ]
  },
  {
   "cell_type": "code",
   "execution_count": 10,
   "metadata": {
    "ExecuteTime": {
     "end_time": "2019-07-29T22:54:54.552978Z",
     "start_time": "2019-07-29T22:54:54.440690Z"
    }
   },
   "outputs": [
    {
     "name": "stdout",
     "output_type": "stream",
     "text": [
      "X_Train: \n",
      "\tObservations: 3199 \tFeatures: 45 \t70.0% of data\n",
      "X_Test: \n",
      "\tObservations: 1371 \tFeatures: 45 \t30.0% of data\n"
     ]
    }
   ],
   "source": [
    "X_train, X_test, y_train, y_test = train_test_split(X, y, test_size=0.3, random_state=1, stratify=y)\n",
    "\n",
    "print('X_Train: \\n\\tObservations: {} \\tFeatures: {} \\t{}% of data'.format(X_train.shape[0], X_train.shape[1], len(X_train)/len(X)*100))\n",
    "print('X_Test: \\n\\tObservations: {} \\tFeatures: {} \\t{}% of data'.format(X_test.shape[0], X_test.shape[1], len(X_test)/len(X)*100))"
   ]
  },
  {
   "cell_type": "markdown",
   "metadata": {},
   "source": [
    "- We set the random state so that our results can be reproduced easily\n",
    "- The stratify argument ensures that we maintain the proportion of class labels, i.e. the same proportion of fighter 1 wins to fighter 2 wins, across the original data, y_train and y_test."
   ]
  },
  {
   "cell_type": "code",
   "execution_count": 11,
   "metadata": {
    "ExecuteTime": {
     "end_time": "2019-07-29T22:54:54.661669Z",
     "start_time": "2019-07-29T22:54:54.560426Z"
    }
   },
   "outputs": [],
   "source": [
    "X_train = X_train.astype(float)\n",
    "X_test = X_test.astype(float)"
   ]
  },
  {
   "cell_type": "markdown",
   "metadata": {},
   "source": [
    "- Many of the features are type integer.  Several of the models we will run prefer to have type float as an input"
   ]
  },
  {
   "cell_type": "markdown",
   "metadata": {},
   "source": [
    "## Scaling"
   ]
  },
  {
   "cell_type": "markdown",
   "metadata": {},
   "source": [
    "- Many of the machine learning and optimization algorithms that we will be using require feature scaling in order to optimize performance. \n",
    "- We will standardize the features using StandardScaler from scikit-learn's preprocessing module.\n",
    "    - This will transform the data, resulting in each feature having a mean of 0 and a standard deviation of 1."
   ]
  },
  {
   "cell_type": "code",
   "execution_count": 12,
   "metadata": {
    "ExecuteTime": {
     "end_time": "2019-07-29T22:54:54.749846Z",
     "start_time": "2019-07-29T22:54:54.666393Z"
    }
   },
   "outputs": [],
   "source": [
    "sc = StandardScaler()\n",
    "X_train_std = sc.fit_transform(X_train)\n",
    "X_test_std = sc.transform(X_test)"
   ]
  },
  {
   "cell_type": "markdown",
   "metadata": {},
   "source": [
    "- We will use the same scaling parameters to standardize the test set, so that the values in the training and test dataset are comparable to each other."
   ]
  },
  {
   "cell_type": "markdown",
   "metadata": {},
   "source": [
    "# Models"
   ]
  },
  {
   "cell_type": "markdown",
   "metadata": {
    "ExecuteTime": {
     "end_time": "2019-07-29T16:02:10.726119Z",
     "start_time": "2019-07-29T16:02:10.690424Z"
    }
   },
   "source": [
    "**Compare Several Models**\n",
    "\n",
    "- For this project we are classifying bouts.  There are many choices of classification algorithm, each with its own strengths and weaknesses.  \n",
    "- There is no single classifier that always works best across all scenarios so we will compare a handful of different learning algorithms to select the best model for our particular problem.  "
   ]
  },
  {
   "cell_type": "markdown",
   "metadata": {},
   "source": [
    "**Cross Validation**\n",
    "\n",
    "- Train-test splitting does not ensure a 'random' split, which may result in our models overfitting our data.  We can use *cross-validation* to mitigate this issue.\n",
    "- There are several varieties of cross validation available in [SK Learn's Model Selection](https://scikit-learn.org/stable/modules/classes.html#module-sklearn.model_selection)\n",
    "- We will be using K-Fold Cross Validation, with a K of 5 \n",
    "    - We use each fold as a validation set, with the remaining folds used to train our model\n",
    "    - The computational cost will increase with each increase in the number of folds.\n",
    "        - Our dataset is relatively small so this should not be a big problem."
   ]
  },
  {
   "cell_type": "markdown",
   "metadata": {},
   "source": [
    "**Track each model's statistics**\n",
    "- We will keep track of each models statistics and performance in a dataframe"
   ]
  },
  {
   "cell_type": "code",
   "execution_count": 13,
   "metadata": {
    "ExecuteTime": {
     "end_time": "2019-07-29T22:54:54.818893Z",
     "start_time": "2019-07-29T22:54:54.754787Z"
    }
   },
   "outputs": [],
   "source": [
    "models_summary = pd.DataFrame()\n",
    "models_summary.rename_axis('Model', axis='columns', inplace=True)"
   ]
  },
  {
   "cell_type": "markdown",
   "metadata": {},
   "source": [
    "**Accuracy is our best metric**\n",
    "- Although there are many metrics to evaluate our models against one another, the *Occam's Razor* principle can often be applied (That is, that the simpler explanation is to be preferred). In the case of comparing our models, we are most interested in how many fights we correctly predict, i.e. the accuracy. There is virtually no class imbalance and the cost associated with a false positive and a false negative are identical."
   ]
  },
  {
   "cell_type": "markdown",
   "metadata": {
    "heading_collapsed": true
   },
   "source": [
    "## Baseline Model"
   ]
  },
  {
   "cell_type": "markdown",
   "metadata": {
    "hidden": true
   },
   "source": [
    "- Our Base Rate will be to classify every bout as the largest class\n",
    "- Our Null Rate will be the accuracy of trivially predicting the most-frequent class"
   ]
  },
  {
   "cell_type": "code",
   "execution_count": 14,
   "metadata": {
    "ExecuteTime": {
     "end_time": "2019-07-29T22:54:54.892667Z",
     "start_time": "2019-07-29T22:54:54.823620Z"
    },
    "hidden": true,
    "scrolled": true
   },
   "outputs": [
    {
     "name": "stdout",
     "output_type": "stream",
     "text": [
      "Fighter 1 wins: 1608\n",
      "Fighter 2 wins: 1591\n",
      "\n",
      "Our Baseline Model will always predict Fighter 1 wins\n",
      "Null Rate: 50.27%\n"
     ]
    }
   ],
   "source": [
    "baseline_accuracy = cm.model_baseline(y_train)\n",
    "\n",
    "# Save the Baseline Model to our models summary dataframe\n",
    "models_summary['Baseline'] = [baseline_accuracy]  "
   ]
  },
  {
   "cell_type": "code",
   "execution_count": 15,
   "metadata": {
    "ExecuteTime": {
     "end_time": "2019-07-29T22:54:54.957872Z",
     "start_time": "2019-07-29T22:54:54.894878Z"
    },
    "hidden": true
   },
   "outputs": [
    {
     "data": {
      "text/html": [
       "<div>\n",
       "<style scoped>\n",
       "    .dataframe tbody tr th:only-of-type {\n",
       "        vertical-align: middle;\n",
       "    }\n",
       "\n",
       "    .dataframe tbody tr th {\n",
       "        vertical-align: top;\n",
       "    }\n",
       "\n",
       "    .dataframe thead th {\n",
       "        text-align: right;\n",
       "    }\n",
       "</style>\n",
       "<table border=\"1\" class=\"dataframe\">\n",
       "  <thead>\n",
       "    <tr style=\"text-align: right;\">\n",
       "      <th>Model</th>\n",
       "      <th>Baseline</th>\n",
       "    </tr>\n",
       "  </thead>\n",
       "  <tbody>\n",
       "    <tr>\n",
       "      <th>Accuracy</th>\n",
       "      <td>0.502657</td>\n",
       "    </tr>\n",
       "  </tbody>\n",
       "</table>\n",
       "</div>"
      ],
      "text/plain": [
       "Model     Baseline\n",
       "Accuracy  0.502657"
      ]
     },
     "execution_count": 15,
     "metadata": {},
     "output_type": "execute_result"
    }
   ],
   "source": [
    "models_summary.rename({0: 'Accuracy'}, inplace=True)\n",
    "models_summary"
   ]
  },
  {
   "cell_type": "markdown",
   "metadata": {
    "heading_collapsed": true
   },
   "source": [
    "## K-Nearest Neighbors"
   ]
  },
  {
   "cell_type": "markdown",
   "metadata": {
    "hidden": true
   },
   "source": [
    "**Why Use KNN?**\n",
    "- K-Nearest Neighbors (KNN) is a instance-based learning type of nonparamteric model. It memorizes the training dataset and adapts immediately as we collect new training data.\n",
    "- The computational complexity for classifying new samples grows linearly with the number of samples in the training dataset. i.e. with every bout that occurs, and updates the model, the model becomes slower and slower to run. Our dataset is relatively very small so we are able to use this model\n",
    "- We are using the default Minkowski distance, which requires our distances to be standardized.\n",
    "\n",
    "**Dimensionality Reduction using PCA**\n",
    "- Principle Component Analysis (PCA) is a form of feature extraction, where we transform the data onto a new feature space whilst maintaining most of the relevant information.\n",
    "- Main benefits of PCA:\n",
    "    - Improves computational efficiency of our learning algorithm\n",
    "    - Reduces the \"curse of dimensionality\", which can improve the predictive performance"
   ]
  },
  {
   "cell_type": "code",
   "execution_count": 16,
   "metadata": {
    "ExecuteTime": {
     "end_time": "2019-07-29T22:54:56.149945Z",
     "start_time": "2019-07-29T22:54:54.960202Z"
    },
    "hidden": true
   },
   "outputs": [
    {
     "name": "stdout",
     "output_type": "stream",
     "text": [
      "The top 30 principal components explains 94.7% of the variance\n"
     ]
    },
    {
     "data": {
      "image/png": "[encoded data removed]",
      "text/plain": [
       "<Figure size 864x432 with 1 Axes>"
      ]
     },
     "metadata": {},
     "output_type": "display_data"
    }
   ],
   "source": [
    "cm.plot_explained_variance(X_train_std, features_to_show=30, title='KNN PCA Total and Explained Variance')"
   ]
  },
  {
   "cell_type": "markdown",
   "metadata": {
    "hidden": true
   },
   "source": [
    "**Choosing the right number of neighbors (k)**\n",
    "- This is critical to avoid over and underfitting our model.\n",
    "- We can do this manually by plotting the accuracy of the KNN model, as we change the k value.  \n",
    "- Our classification is binary, so we should choose k to be an odd number to avoid tied votes."
   ]
  },
  {
   "cell_type": "code",
   "execution_count": 17,
   "metadata": {
    "ExecuteTime": {
     "end_time": "2019-07-29T22:55:10.417621Z",
     "start_time": "2019-07-29T22:54:56.154173Z"
    },
    "hidden": true
   },
   "outputs": [
    {
     "name": "stdout",
     "output_type": "stream",
     "text": [
      "Highest Accuracy is 68.34%, when K is 25\n"
     ]
    },
    {
     "data": {
      "image/png": "[encoded data removed]",
      "text/plain": [
       "<Figure size 864x432 with 1 Axes>"
      ]
     },
     "metadata": {},
     "output_type": "display_data"
    }
   ],
   "source": [
    "cm.acc_by_k_value(X_train_std, y_train, X_test_std, y_test)"
   ]
  },
  {
   "cell_type": "markdown",
   "metadata": {
    "hidden": true
   },
   "source": [
    "- The best K is the one that results in the highest test accuracy score. \n",
    "    - The problem with using the chart above is that we are inadvertently using our test set as a training set. We are forcing the model to fit the test set, and causing the model to overfit.\n",
    "- A better approach is to use **k-fold cross validation**.\n",
    "    - This will allow us to compare hyperparameters (such as number of neighbors) on a validation set, and then only use the test data to represent how well the model performs on unseen data"
   ]
  },
  {
   "cell_type": "code",
   "execution_count": 18,
   "metadata": {
    "ExecuteTime": {
     "end_time": "2019-07-29T22:55:10.482950Z",
     "start_time": "2019-07-29T22:55:10.419779Z"
    },
    "hidden": true
   },
   "outputs": [],
   "source": [
    "# cm.model_knn_grid(X_train, y_train)"
   ]
  },
  {
   "cell_type": "code",
   "execution_count": 19,
   "metadata": {
    "ExecuteTime": {
     "end_time": "2019-07-29T22:55:11.057212Z",
     "start_time": "2019-07-29T22:55:10.485539Z"
    },
    "hidden": true
   },
   "outputs": [
    {
     "name": "stdout",
     "output_type": "stream",
     "text": [
      "Accuracy for K-Nearest Neighbors model (k = 21): 66.5%\n"
     ]
    }
   ],
   "source": [
    "knn_accuracy = cm.model_knn(X_train_std, y_train, X_test_std, y_test, n_neighbors=21)\n",
    "\n",
    "# Add KNN results to models summary dataframe\n",
    "models_summary['KNN'] = [knn_accuracy]"
   ]
  },
  {
   "cell_type": "code",
   "execution_count": 20,
   "metadata": {
    "ExecuteTime": {
     "end_time": "2019-07-29T22:55:11.139918Z",
     "start_time": "2019-07-29T22:55:11.059858Z"
    },
    "hidden": true
   },
   "outputs": [
    {
     "data": {
      "text/html": [
       "<div>\n",
       "<style scoped>\n",
       "    .dataframe tbody tr th:only-of-type {\n",
       "        vertical-align: middle;\n",
       "    }\n",
       "\n",
       "    .dataframe tbody tr th {\n",
       "        vertical-align: top;\n",
       "    }\n",
       "\n",
       "    .dataframe thead th {\n",
       "        text-align: right;\n",
       "    }\n",
       "</style>\n",
       "<table border=\"1\" class=\"dataframe\">\n",
       "  <thead>\n",
       "    <tr style=\"text-align: right;\">\n",
       "      <th>Model</th>\n",
       "      <th>Baseline</th>\n",
       "      <th>KNN</th>\n",
       "    </tr>\n",
       "  </thead>\n",
       "  <tbody>\n",
       "    <tr>\n",
       "      <th>Accuracy</th>\n",
       "      <td>0.502657</td>\n",
       "      <td>0.665208</td>\n",
       "    </tr>\n",
       "  </tbody>\n",
       "</table>\n",
       "</div>"
      ],
      "text/plain": [
       "Model     Baseline       KNN\n",
       "Accuracy  0.502657  0.665208"
      ]
     },
     "execution_count": 20,
     "metadata": {},
     "output_type": "execute_result"
    }
   ],
   "source": [
    "models_summary"
   ]
  },
  {
   "cell_type": "markdown",
   "metadata": {
    "heading_collapsed": true
   },
   "source": [
    "## Logistic Regression"
   ]
  },
  {
   "cell_type": "code",
   "execution_count": 21,
   "metadata": {
    "ExecuteTime": {
     "end_time": "2019-07-29T22:55:11.213176Z",
     "start_time": "2019-07-29T22:55:11.142883Z"
    },
    "hidden": true
   },
   "outputs": [],
   "source": [
    "# cm.model_logreg_grid(X_train_std, y_train)"
   ]
  },
  {
   "cell_type": "code",
   "execution_count": 22,
   "metadata": {
    "ExecuteTime": {
     "end_time": "2019-07-29T22:55:11.304472Z",
     "start_time": "2019-07-29T22:55:11.216729Z"
    },
    "hidden": true
   },
   "outputs": [
    {
     "name": "stdout",
     "output_type": "stream",
     "text": [
      "Accuracy for Logistic Regression model: 69.7%\n"
     ]
    }
   ],
   "source": [
    "lr_accuracy = cm.model_logreg(C_=0.1, X_train_=X_train_std, y_train_=y_train, X_test_=X_test_std, y_test_=y_test)"
   ]
  },
  {
   "cell_type": "code",
   "execution_count": 23,
   "metadata": {
    "ExecuteTime": {
     "end_time": "2019-07-29T22:55:11.388580Z",
     "start_time": "2019-07-29T22:55:11.308066Z"
    },
    "hidden": true
   },
   "outputs": [],
   "source": [
    "# Add Logistic Regression results to models summary dataframe\n",
    "models_summary['Logistic Regression'] = lr_accuracy"
   ]
  },
  {
   "cell_type": "code",
   "execution_count": 24,
   "metadata": {
    "ExecuteTime": {
     "end_time": "2019-07-29T22:55:11.484536Z",
     "start_time": "2019-07-29T22:55:11.392586Z"
    },
    "hidden": true
   },
   "outputs": [
    {
     "data": {
      "text/html": [
       "<div>\n",
       "<style scoped>\n",
       "    .dataframe tbody tr th:only-of-type {\n",
       "        vertical-align: middle;\n",
       "    }\n",
       "\n",
       "    .dataframe tbody tr th {\n",
       "        vertical-align: top;\n",
       "    }\n",
       "\n",
       "    .dataframe thead th {\n",
       "        text-align: right;\n",
       "    }\n",
       "</style>\n",
       "<table border=\"1\" class=\"dataframe\">\n",
       "  <thead>\n",
       "    <tr style=\"text-align: right;\">\n",
       "      <th>Model</th>\n",
       "      <th>Baseline</th>\n",
       "      <th>KNN</th>\n",
       "      <th>Logistic Regression</th>\n",
       "    </tr>\n",
       "  </thead>\n",
       "  <tbody>\n",
       "    <tr>\n",
       "      <th>Accuracy</th>\n",
       "      <td>0.502657</td>\n",
       "      <td>0.665208</td>\n",
       "      <td>0.697301</td>\n",
       "    </tr>\n",
       "  </tbody>\n",
       "</table>\n",
       "</div>"
      ],
      "text/plain": [
       "Model     Baseline       KNN  Logistic Regression\n",
       "Accuracy  0.502657  0.665208             0.697301"
      ]
     },
     "execution_count": 24,
     "metadata": {},
     "output_type": "execute_result"
    }
   ],
   "source": [
    "models_summary"
   ]
  },
  {
   "cell_type": "markdown",
   "metadata": {},
   "source": [
    "## Random Forest"
   ]
  },
  {
   "cell_type": "markdown",
   "metadata": {},
   "source": [
    "- Because this is an ensemble algorithm, the model is naturally resistant to noise and variance in the data (which helps reduce overfitting), and generally tends to perform quite well.\n",
    "- As it is an ensemble alogorithm we have the computational cost of training each model"
   ]
  },
  {
   "cell_type": "code",
   "execution_count": 25,
   "metadata": {
    "ExecuteTime": {
     "end_time": "2019-07-29T22:55:11.577613Z",
     "start_time": "2019-07-29T22:55:11.488681Z"
    }
   },
   "outputs": [],
   "source": [
    "X_train_top_features = X_train.copy()\n",
    "X_train_top_features = cm.rename_top_features(X_train_top_features)"
   ]
  },
  {
   "cell_type": "code",
   "execution_count": 26,
   "metadata": {
    "ExecuteTime": {
     "end_time": "2019-07-29T22:55:11.662460Z",
     "start_time": "2019-07-29T22:55:11.581433Z"
    }
   },
   "outputs": [],
   "source": [
    "# cm.model_rf_grid(X_train, y_train)"
   ]
  },
  {
   "cell_type": "code",
   "execution_count": 27,
   "metadata": {
    "ExecuteTime": {
     "end_time": "2019-07-29T22:55:12.229305Z",
     "start_time": "2019-07-29T22:55:11.665790Z"
    },
    "scrolled": false
   },
   "outputs": [
    {
     "name": "stdout",
     "output_type": "stream",
     "text": [
      "Accuracy for Random Forest model : 69.2%\n"
     ]
    }
   ],
   "source": [
    "rf_accuracy = cm.model_random_forest(X_train_top_features, y_train, X_test, y_test, \n",
    "                   max_depth_=4, min_samples_leaf_=0.05, \n",
    "                   min_samples_split_=0.05, n_estimators_=110)\n",
    "\n",
    "# Add Random Forest results to models summary dataframe\n",
    "models_summary['Random Forest'] = rf_accuracy "
   ]
  },
  {
   "cell_type": "code",
   "execution_count": 28,
   "metadata": {
    "ExecuteTime": {
     "end_time": "2019-07-29T22:55:12.310877Z",
     "start_time": "2019-07-29T22:55:12.232491Z"
    }
   },
   "outputs": [
    {
     "data": {
      "text/html": [
       "<div>\n",
       "<style scoped>\n",
       "    .dataframe tbody tr th:only-of-type {\n",
       "        vertical-align: middle;\n",
       "    }\n",
       "\n",
       "    .dataframe tbody tr th {\n",
       "        vertical-align: top;\n",
       "    }\n",
       "\n",
       "    .dataframe thead th {\n",
       "        text-align: right;\n",
       "    }\n",
       "</style>\n",
       "<table border=\"1\" class=\"dataframe\">\n",
       "  <thead>\n",
       "    <tr style=\"text-align: right;\">\n",
       "      <th>Model</th>\n",
       "      <th>Baseline</th>\n",
       "      <th>KNN</th>\n",
       "      <th>Logistic Regression</th>\n",
       "      <th>Random Forest</th>\n",
       "    </tr>\n",
       "  </thead>\n",
       "  <tbody>\n",
       "    <tr>\n",
       "      <th>Accuracy</th>\n",
       "      <td>0.502657</td>\n",
       "      <td>0.665208</td>\n",
       "      <td>0.697301</td>\n",
       "      <td>0.692195</td>\n",
       "    </tr>\n",
       "  </tbody>\n",
       "</table>\n",
       "</div>"
      ],
      "text/plain": [
       "Model     Baseline       KNN  Logistic Regression  Random Forest\n",
       "Accuracy  0.502657  0.665208             0.697301       0.692195"
      ]
     },
     "execution_count": 28,
     "metadata": {},
     "output_type": "execute_result"
    }
   ],
   "source": [
    "models_summary"
   ]
  },
  {
   "cell_type": "markdown",
   "metadata": {
    "heading_collapsed": true
   },
   "source": [
    "## AdaBoost"
   ]
  },
  {
   "cell_type": "markdown",
   "metadata": {
    "hidden": true
   },
   "source": []
  },
  {
   "cell_type": "code",
   "execution_count": 29,
   "metadata": {
    "ExecuteTime": {
     "end_time": "2019-07-29T22:55:12.374927Z",
     "start_time": "2019-07-29T22:55:12.314290Z"
    },
    "hidden": true
   },
   "outputs": [],
   "source": [
    "# cm.model_ada_boost_grid(X_train, y_train)"
   ]
  },
  {
   "cell_type": "code",
   "execution_count": 30,
   "metadata": {
    "ExecuteTime": {
     "end_time": "2019-07-29T22:55:13.068658Z",
     "start_time": "2019-07-29T22:55:12.377909Z"
    },
    "hidden": true
   },
   "outputs": [
    {
     "name": "stdout",
     "output_type": "stream",
     "text": [
      "Accuracy for Ada Boost model : 71.3%\n"
     ]
    }
   ],
   "source": [
    "ada_accuracy = cm.model_ada_boost(X_train, y_train, X_test, y_test,\n",
    "                                  learning_rate=0.5, n_estimators=70)"
   ]
  },
  {
   "cell_type": "code",
   "execution_count": 31,
   "metadata": {
    "ExecuteTime": {
     "end_time": "2019-07-29T22:55:13.132807Z",
     "start_time": "2019-07-29T22:55:13.071518Z"
    },
    "hidden": true
   },
   "outputs": [],
   "source": [
    "# Add Ada Boost results to models summary dataframe\n",
    "models_summary['Ada Boost'] = ada_accuracy"
   ]
  },
  {
   "cell_type": "code",
   "execution_count": 32,
   "metadata": {
    "ExecuteTime": {
     "end_time": "2019-07-29T22:55:13.208112Z",
     "start_time": "2019-07-29T22:55:13.136855Z"
    },
    "hidden": true
   },
   "outputs": [
    {
     "data": {
      "text/html": [
       "<div>\n",
       "<style scoped>\n",
       "    .dataframe tbody tr th:only-of-type {\n",
       "        vertical-align: middle;\n",
       "    }\n",
       "\n",
       "    .dataframe tbody tr th {\n",
       "        vertical-align: top;\n",
       "    }\n",
       "\n",
       "    .dataframe thead th {\n",
       "        text-align: right;\n",
       "    }\n",
       "</style>\n",
       "<table border=\"1\" class=\"dataframe\">\n",
       "  <thead>\n",
       "    <tr style=\"text-align: right;\">\n",
       "      <th>Model</th>\n",
       "      <th>Baseline</th>\n",
       "      <th>KNN</th>\n",
       "      <th>Logistic Regression</th>\n",
       "      <th>Random Forest</th>\n",
       "      <th>Ada Boost</th>\n",
       "    </tr>\n",
       "  </thead>\n",
       "  <tbody>\n",
       "    <tr>\n",
       "      <th>Accuracy</th>\n",
       "      <td>0.502657</td>\n",
       "      <td>0.665208</td>\n",
       "      <td>0.697301</td>\n",
       "      <td>0.692195</td>\n",
       "      <td>0.712619</td>\n",
       "    </tr>\n",
       "  </tbody>\n",
       "</table>\n",
       "</div>"
      ],
      "text/plain": [
       "Model     Baseline       KNN  Logistic Regression  Random Forest  Ada Boost\n",
       "Accuracy  0.502657  0.665208             0.697301       0.692195   0.712619"
      ]
     },
     "execution_count": 32,
     "metadata": {},
     "output_type": "execute_result"
    }
   ],
   "source": [
    "models_summary"
   ]
  },
  {
   "cell_type": "markdown",
   "metadata": {},
   "source": [
    "## Gradient Boosting (XG Boost)"
   ]
  },
  {
   "cell_type": "markdown",
   "metadata": {},
   "source": [
    "- eXtreme Gradient Boosting (XG Boost) is a form of gradient boosting which often produces the best performances, amongst gradient boosting algorithms\n",
    "- XG Boost is able to parallelize the construction of decision trees across all our computer's CPU cores during the training phase\n",
    "    - This can even be done across a cluster of computers "
   ]
  },
  {
   "cell_type": "code",
   "execution_count": 57,
   "metadata": {
    "ExecuteTime": {
     "end_time": "2019-07-30T01:50:14.558486Z",
     "start_time": "2019-07-30T01:50:14.209386Z"
    }
   },
   "outputs": [
    {
     "name": "stdout",
     "output_type": "stream",
     "text": [
      "Accuracy for XGBoost model : 75.5%\n"
     ]
    }
   ],
   "source": [
    "xgb_accuracy = cm.model_xgboost(X_train, y_train, X_test, y_test)[0]\n",
    "models_summary['XG Boost'] = xgb_accuracy"
   ]
  },
  {
   "cell_type": "code",
   "execution_count": 58,
   "metadata": {
    "ExecuteTime": {
     "end_time": "2019-07-30T01:50:17.052787Z",
     "start_time": "2019-07-30T01:50:17.020900Z"
    }
   },
   "outputs": [
    {
     "data": {
      "text/html": [
       "<div>\n",
       "<style scoped>\n",
       "    .dataframe tbody tr th:only-of-type {\n",
       "        vertical-align: middle;\n",
       "    }\n",
       "\n",
       "    .dataframe tbody tr th {\n",
       "        vertical-align: top;\n",
       "    }\n",
       "\n",
       "    .dataframe thead th {\n",
       "        text-align: right;\n",
       "    }\n",
       "</style>\n",
       "<table border=\"1\" class=\"dataframe\">\n",
       "  <thead>\n",
       "    <tr style=\"text-align: right;\">\n",
       "      <th></th>\n",
       "      <th>Accuracy</th>\n",
       "      <th>XG Boost</th>\n",
       "    </tr>\n",
       "    <tr>\n",
       "      <th>Model</th>\n",
       "      <th></th>\n",
       "      <th></th>\n",
       "    </tr>\n",
       "  </thead>\n",
       "  <tbody>\n",
       "    <tr>\n",
       "      <th>Baseline</th>\n",
       "      <td>0.502657</td>\n",
       "      <td>0.754923</td>\n",
       "    </tr>\n",
       "    <tr>\n",
       "      <th>KNN</th>\n",
       "      <td>0.665208</td>\n",
       "      <td>0.754923</td>\n",
       "    </tr>\n",
       "    <tr>\n",
       "      <th>Random Forest</th>\n",
       "      <td>0.692195</td>\n",
       "      <td>0.754923</td>\n",
       "    </tr>\n",
       "    <tr>\n",
       "      <th>Neural Network (tanh)</th>\n",
       "      <td>0.693654</td>\n",
       "      <td>0.754923</td>\n",
       "    </tr>\n",
       "    <tr>\n",
       "      <th>Logistic Regression</th>\n",
       "      <td>0.697301</td>\n",
       "      <td>0.754923</td>\n",
       "    </tr>\n",
       "    <tr>\n",
       "      <th>Neural Network (relu)</th>\n",
       "      <td>0.700948</td>\n",
       "      <td>0.754923</td>\n",
       "    </tr>\n",
       "    <tr>\n",
       "      <th>Ada Boost</th>\n",
       "      <td>0.712619</td>\n",
       "      <td>0.754923</td>\n",
       "    </tr>\n",
       "    <tr>\n",
       "      <th>XG Boost</th>\n",
       "      <td>0.754923</td>\n",
       "      <td>0.754923</td>\n",
       "    </tr>\n",
       "  </tbody>\n",
       "</table>\n",
       "</div>"
      ],
      "text/plain": [
       "                       Accuracy  XG Boost\n",
       "Model                                    \n",
       "Baseline               0.502657  0.754923\n",
       "KNN                    0.665208  0.754923\n",
       "Random Forest          0.692195  0.754923\n",
       "Neural Network (tanh)  0.693654  0.754923\n",
       "Logistic Regression    0.697301  0.754923\n",
       "Neural Network (relu)  0.700948  0.754923\n",
       "Ada Boost              0.712619  0.754923\n",
       "XG Boost               0.754923  0.754923"
      ]
     },
     "execution_count": 58,
     "metadata": {},
     "output_type": "execute_result"
    }
   ],
   "source": [
    "models_summary"
   ]
  },
  {
   "cell_type": "markdown",
   "metadata": {
    "heading_collapsed": true
   },
   "source": [
    "## Neural Network (tanh)"
   ]
  },
  {
   "cell_type": "markdown",
   "metadata": {
    "hidden": true
   },
   "source": []
  },
  {
   "cell_type": "code",
   "execution_count": 35,
   "metadata": {
    "ExecuteTime": {
     "end_time": "2019-07-29T22:55:14.247096Z",
     "start_time": "2019-07-29T22:55:14.052491Z"
    },
    "hidden": true
   },
   "outputs": [],
   "source": [
    "model_tanh = cm.model_compile_neural_network(X_train_std, 'tanh')"
   ]
  },
  {
   "cell_type": "code",
   "execution_count": 36,
   "metadata": {
    "ExecuteTime": {
     "end_time": "2019-07-29T22:55:17.765003Z",
     "start_time": "2019-07-29T22:55:14.249648Z"
    },
    "hidden": true
   },
   "outputs": [],
   "source": [
    "history_tanh = cm.model_fit_neural_network(X_train_std, y_train, model_tanh, 100)"
   ]
  },
  {
   "cell_type": "code",
   "execution_count": 37,
   "metadata": {
    "ExecuteTime": {
     "end_time": "2019-07-29T22:55:18.166450Z",
     "start_time": "2019-07-29T22:55:17.767956Z"
    },
    "hidden": true
   },
   "outputs": [
    {
     "name": "stdout",
     "output_type": "stream",
     "text": [
      "We have reduced the loss by 28.92% by training the model through 100 epochs\n"
     ]
    },
    {
     "data": {
      "image/png": "[encoded data removed]",
      "text/plain": [
       "<Figure size 864x432 with 1 Axes>"
      ]
     },
     "metadata": {},
     "output_type": "display_data"
    }
   ],
   "source": [
    "loss = history_tanh.history['loss']\n",
    "cm.plot_training_loss(loss)"
   ]
  },
  {
   "cell_type": "code",
   "execution_count": 38,
   "metadata": {
    "ExecuteTime": {
     "end_time": "2019-07-29T22:55:18.632309Z",
     "start_time": "2019-07-29T22:55:18.169403Z"
    },
    "hidden": true
   },
   "outputs": [
    {
     "name": "stdout",
     "output_type": "stream",
     "text": [
      "We have increased the accuracy by 58.97% by training the model through 100 epochs\n"
     ]
    },
    {
     "data": {
      "image/png": "[encoded data removed]",
      "text/plain": [
       "<Figure size 864x432 with 1 Axes>"
      ]
     },
     "metadata": {},
     "output_type": "display_data"
    }
   ],
   "source": [
    "acc = history_tanh.history['acc']\n",
    "val_acc = history_tanh.history['val_acc']\n",
    "\n",
    "cm.plot_training_and_validation_accuracy(acc, val_acc, history_tanh,\n",
    "                                      title='Neural Network (tanh) Training and Validation Accuracy')"
   ]
  },
  {
   "cell_type": "code",
   "execution_count": 39,
   "metadata": {
    "ExecuteTime": {
     "end_time": "2019-07-29T22:55:19.236031Z",
     "start_time": "2019-07-29T22:55:18.636419Z"
    },
    "hidden": true,
    "scrolled": true
   },
   "outputs": [
    {
     "name": "stderr",
     "output_type": "stream",
     "text": [
      "/Users/adam/Documents/flatiron/ml_ufc_data/src/custom.py:116: SettingWithCopyWarning: \n",
      "A value is trying to be set on a copy of a slice from a DataFrame\n",
      "\n",
      "See the caveats in the documentation: http://pandas.pydata.org/pandas-docs/stable/indexing.html#indexing-view-versus-copy\n",
      "  df['val_acc_avg'][mov_avg_n-1:] = list(val_acc_avg)\n"
     ]
    },
    {
     "name": "stdout",
     "output_type": "stream",
     "text": [
      "We have increased the accuracy by 58.97% by training the model through 100 epochs\n"
     ]
    },
    {
     "data": {
      "image/png": "[encoded data removed]",
      "text/plain": [
       "<Figure size 864x432 with 1 Axes>"
      ]
     },
     "metadata": {},
     "output_type": "display_data"
    }
   ],
   "source": [
    "cm.plot_training_and_validation_accuracy(acc, val_acc, history_tanh,\n",
    "                                      title='Neural Network (Relu) Training and Validation Accuracy',\n",
    "                                      y_lim=(0.6,0.8), show_mov_avg=True)"
   ]
  },
  {
   "cell_type": "code",
   "execution_count": 40,
   "metadata": {
    "ExecuteTime": {
     "end_time": "2019-07-29T22:55:19.361124Z",
     "start_time": "2019-07-29T22:55:19.244646Z"
    },
    "hidden": true
   },
   "outputs": [
    {
     "name": "stdout",
     "output_type": "stream",
     "text": [
      "Test Accuracy: 69.0%\n"
     ]
    }
   ],
   "source": [
    "nn_tanh_accuracy = cm.model_test_acc_neural_network(X_test_std, y_test, model_tanh)\n",
    "\n",
    "# Add Score to Models Summary DataFrame\n",
    "models_summary['Neural Network (tanh)'] = nn_tanh_accuracy"
   ]
  },
  {
   "cell_type": "code",
   "execution_count": 41,
   "metadata": {
    "ExecuteTime": {
     "end_time": "2019-07-29T22:55:19.436994Z",
     "start_time": "2019-07-29T22:55:19.366817Z"
    },
    "hidden": true
   },
   "outputs": [
    {
     "data": {
      "text/html": [
       "<div>\n",
       "<style scoped>\n",
       "    .dataframe tbody tr th:only-of-type {\n",
       "        vertical-align: middle;\n",
       "    }\n",
       "\n",
       "    .dataframe tbody tr th {\n",
       "        vertical-align: top;\n",
       "    }\n",
       "\n",
       "    .dataframe thead th {\n",
       "        text-align: right;\n",
       "    }\n",
       "</style>\n",
       "<table border=\"1\" class=\"dataframe\">\n",
       "  <thead>\n",
       "    <tr style=\"text-align: right;\">\n",
       "      <th>Model</th>\n",
       "      <th>Baseline</th>\n",
       "      <th>KNN</th>\n",
       "      <th>Logistic Regression</th>\n",
       "      <th>Random Forest</th>\n",
       "      <th>Ada Boost</th>\n",
       "      <th>XG Boost</th>\n",
       "      <th>Neural Network (tanh)</th>\n",
       "    </tr>\n",
       "  </thead>\n",
       "  <tbody>\n",
       "    <tr>\n",
       "      <th>Accuracy</th>\n",
       "      <td>0.502657</td>\n",
       "      <td>0.665208</td>\n",
       "      <td>0.697301</td>\n",
       "      <td>0.692195</td>\n",
       "      <td>0.712619</td>\n",
       "      <td>0.754923</td>\n",
       "      <td>0.693654</td>\n",
       "    </tr>\n",
       "  </tbody>\n",
       "</table>\n",
       "</div>"
      ],
      "text/plain": [
       "Model     Baseline       KNN  Logistic Regression  Random Forest  Ada Boost  \\\n",
       "Accuracy  0.502657  0.665208             0.697301       0.692195   0.712619   \n",
       "\n",
       "Model     XG Boost  Neural Network (tanh)  \n",
       "Accuracy  0.754923               0.693654  "
      ]
     },
     "execution_count": 41,
     "metadata": {},
     "output_type": "execute_result"
    }
   ],
   "source": [
    "models_summary"
   ]
  },
  {
   "cell_type": "markdown",
   "metadata": {
    "heading_collapsed": true
   },
   "source": [
    "## Neural Network (Relu)"
   ]
  },
  {
   "cell_type": "markdown",
   "metadata": {
    "hidden": true
   },
   "source": []
  },
  {
   "cell_type": "code",
   "execution_count": 42,
   "metadata": {
    "ExecuteTime": {
     "end_time": "2019-07-29T22:55:19.603716Z",
     "start_time": "2019-07-29T22:55:19.439377Z"
    },
    "hidden": true
   },
   "outputs": [],
   "source": [
    "model_relu = cm.model_compile_neural_network(X_train_std, 'relu')"
   ]
  },
  {
   "cell_type": "code",
   "execution_count": 43,
   "metadata": {
    "ExecuteTime": {
     "end_time": "2019-07-29T22:55:23.030238Z",
     "start_time": "2019-07-29T22:55:19.606720Z"
    },
    "hidden": true
   },
   "outputs": [],
   "source": [
    "history_relu = cm.model_fit_neural_network(X_train_std, y_train, model_relu, 100)"
   ]
  },
  {
   "cell_type": "code",
   "execution_count": 44,
   "metadata": {
    "ExecuteTime": {
     "end_time": "2019-07-29T22:55:23.452621Z",
     "start_time": "2019-07-29T22:55:23.033795Z"
    },
    "hidden": true
   },
   "outputs": [
    {
     "name": "stdout",
     "output_type": "stream",
     "text": [
      "We have reduced the loss by 25.03% by training the model through 100 epochs\n"
     ]
    },
    {
     "data": {
      "image/png": "[encoded data removed]",
      "text/plain": [
       "<Figure size 864x432 with 1 Axes>"
      ]
     },
     "metadata": {},
     "output_type": "display_data"
    }
   ],
   "source": [
    "loss = history_relu.history['loss']\n",
    "cm.plot_training_loss(loss)"
   ]
  },
  {
   "cell_type": "code",
   "execution_count": 45,
   "metadata": {
    "ExecuteTime": {
     "end_time": "2019-07-29T22:55:23.910975Z",
     "start_time": "2019-07-29T22:55:23.456356Z"
    },
    "hidden": true
   },
   "outputs": [
    {
     "name": "stdout",
     "output_type": "stream",
     "text": [
      "We have increased the accuracy by 49.5% by training the model through 100 epochs\n"
     ]
    },
    {
     "data": {
      "image/png": "[encoded data removed]",
      "text/plain": [
       "<Figure size 864x432 with 1 Axes>"
      ]
     },
     "metadata": {},
     "output_type": "display_data"
    }
   ],
   "source": [
    "acc = history_relu.history['acc']\n",
    "val_acc = history_relu.history['val_acc']\n",
    "\n",
    "cm.plot_training_and_validation_accuracy(acc, val_acc, history_relu,\n",
    "                                      title='Neural Network (tanh) Training and Validation Accuracy')"
   ]
  },
  {
   "cell_type": "code",
   "execution_count": 46,
   "metadata": {
    "ExecuteTime": {
     "end_time": "2019-07-29T22:55:24.044468Z",
     "start_time": "2019-07-29T22:55:23.913611Z"
    },
    "hidden": true
   },
   "outputs": [
    {
     "name": "stdout",
     "output_type": "stream",
     "text": [
      "Test Accuracy: 70.0%\n"
     ]
    }
   ],
   "source": [
    "nn_relu_accuracy = cm.model_test_acc_neural_network(X_test_std, y_test, model_relu)\n",
    "\n",
    "# Add Score to Models Summary DataFrame\n",
    "models_summary['Neural Network (relu)'] = nn_relu_accuracy"
   ]
  },
  {
   "cell_type": "code",
   "execution_count": 47,
   "metadata": {
    "ExecuteTime": {
     "end_time": "2019-07-29T22:55:24.123771Z",
     "start_time": "2019-07-29T22:55:24.046961Z"
    },
    "hidden": true
   },
   "outputs": [
    {
     "data": {
      "text/html": [
       "<div>\n",
       "<style scoped>\n",
       "    .dataframe tbody tr th:only-of-type {\n",
       "        vertical-align: middle;\n",
       "    }\n",
       "\n",
       "    .dataframe tbody tr th {\n",
       "        vertical-align: top;\n",
       "    }\n",
       "\n",
       "    .dataframe thead th {\n",
       "        text-align: right;\n",
       "    }\n",
       "</style>\n",
       "<table border=\"1\" class=\"dataframe\">\n",
       "  <thead>\n",
       "    <tr style=\"text-align: right;\">\n",
       "      <th>Model</th>\n",
       "      <th>Baseline</th>\n",
       "      <th>KNN</th>\n",
       "      <th>Logistic Regression</th>\n",
       "      <th>Random Forest</th>\n",
       "      <th>Ada Boost</th>\n",
       "      <th>XG Boost</th>\n",
       "      <th>Neural Network (tanh)</th>\n",
       "      <th>Neural Network (relu)</th>\n",
       "    </tr>\n",
       "  </thead>\n",
       "  <tbody>\n",
       "    <tr>\n",
       "      <th>Accuracy</th>\n",
       "      <td>0.502657</td>\n",
       "      <td>0.665208</td>\n",
       "      <td>0.697301</td>\n",
       "      <td>0.692195</td>\n",
       "      <td>0.712619</td>\n",
       "      <td>0.754923</td>\n",
       "      <td>0.693654</td>\n",
       "      <td>0.700948</td>\n",
       "    </tr>\n",
       "  </tbody>\n",
       "</table>\n",
       "</div>"
      ],
      "text/plain": [
       "Model     Baseline       KNN  Logistic Regression  Random Forest  Ada Boost  \\\n",
       "Accuracy  0.502657  0.665208             0.697301       0.692195   0.712619   \n",
       "\n",
       "Model     XG Boost  Neural Network (tanh)  Neural Network (relu)  \n",
       "Accuracy  0.754923               0.693654               0.700948  "
      ]
     },
     "execution_count": 47,
     "metadata": {},
     "output_type": "execute_result"
    }
   ],
   "source": [
    "models_summary"
   ]
  },
  {
   "cell_type": "markdown",
   "metadata": {},
   "source": [
    "# Evaluation of Models"
   ]
  },
  {
   "cell_type": "code",
   "execution_count": 48,
   "metadata": {
    "ExecuteTime": {
     "end_time": "2019-07-29T22:55:24.216379Z",
     "start_time": "2019-07-29T22:55:24.128009Z"
    }
   },
   "outputs": [
    {
     "data": {
      "text/html": [
       "<div>\n",
       "<style scoped>\n",
       "    .dataframe tbody tr th:only-of-type {\n",
       "        vertical-align: middle;\n",
       "    }\n",
       "\n",
       "    .dataframe tbody tr th {\n",
       "        vertical-align: top;\n",
       "    }\n",
       "\n",
       "    .dataframe thead th {\n",
       "        text-align: right;\n",
       "    }\n",
       "</style>\n",
       "<table border=\"1\" class=\"dataframe\">\n",
       "  <thead>\n",
       "    <tr style=\"text-align: right;\">\n",
       "      <th></th>\n",
       "      <th>Accuracy</th>\n",
       "    </tr>\n",
       "    <tr>\n",
       "      <th>Model</th>\n",
       "      <th></th>\n",
       "    </tr>\n",
       "  </thead>\n",
       "  <tbody>\n",
       "    <tr>\n",
       "      <th>Baseline</th>\n",
       "      <td>0.502657</td>\n",
       "    </tr>\n",
       "    <tr>\n",
       "      <th>KNN</th>\n",
       "      <td>0.665208</td>\n",
       "    </tr>\n",
       "    <tr>\n",
       "      <th>Random Forest</th>\n",
       "      <td>0.692195</td>\n",
       "    </tr>\n",
       "    <tr>\n",
       "      <th>Neural Network (tanh)</th>\n",
       "      <td>0.693654</td>\n",
       "    </tr>\n",
       "    <tr>\n",
       "      <th>Logistic Regression</th>\n",
       "      <td>0.697301</td>\n",
       "    </tr>\n",
       "    <tr>\n",
       "      <th>Neural Network (relu)</th>\n",
       "      <td>0.700948</td>\n",
       "    </tr>\n",
       "    <tr>\n",
       "      <th>Ada Boost</th>\n",
       "      <td>0.712619</td>\n",
       "    </tr>\n",
       "    <tr>\n",
       "      <th>XG Boost</th>\n",
       "      <td>0.754923</td>\n",
       "    </tr>\n",
       "  </tbody>\n",
       "</table>\n",
       "</div>"
      ],
      "text/plain": [
       "                       Accuracy\n",
       "Model                          \n",
       "Baseline               0.502657\n",
       "KNN                    0.665208\n",
       "Random Forest          0.692195\n",
       "Neural Network (tanh)  0.693654\n",
       "Logistic Regression    0.697301\n",
       "Neural Network (relu)  0.700948\n",
       "Ada Boost              0.712619\n",
       "XG Boost               0.754923"
      ]
     },
     "execution_count": 48,
     "metadata": {},
     "output_type": "execute_result"
    }
   ],
   "source": [
    "models_summary = models_summary.T\n",
    "\n",
    "# Sort models_summary into order\n",
    "models_summary.sort_values('Accuracy', inplace=True)\n",
    "\n",
    "models_summary"
   ]
  },
  {
   "cell_type": "markdown",
   "metadata": {},
   "source": [
    "## Barchart to compare Models"
   ]
  },
  {
   "cell_type": "code",
   "execution_count": 256,
   "metadata": {
    "ExecuteTime": {
     "end_time": "2019-07-30T15:45:20.768575Z",
     "start_time": "2019-07-30T15:45:20.569615Z"
    },
    "collapsed": true
   },
   "outputs": [
    {
     "data": {
      "image/png": "[encoded data removed]",
      "text/plain": [
       "<Figure size 864x432 with 1 Axes>"
      ]
     },
     "metadata": {},
     "output_type": "display_data"
    }
   ],
   "source": [
    "cm.plot_compare_models(models_summary, 'Accuracy')"
   ]
  },
  {
   "cell_type": "markdown",
   "metadata": {
    "heading_collapsed": true
   },
   "source": [
    "## Confusion Matrix of Best Model"
   ]
  },
  {
   "cell_type": "code",
   "execution_count": 53,
   "metadata": {
    "ExecuteTime": {
     "end_time": "2019-07-29T23:02:07.682797Z",
     "start_time": "2019-07-29T23:02:07.010635Z"
    },
    "hidden": true
   },
   "outputs": [
    {
     "name": "stdout",
     "output_type": "stream",
     "text": [
      "Accuracy for XGBoost model : 75.5%\n",
      "Accuracy for XGBoost model : 75.5%\n",
      "Normalized confusion matrix\n",
      "\n"
     ]
    },
    {
     "data": {
      "image/png": "[encoded data removed]",
      "text/plain": [
       "<Figure size 864x432 with 1 Axes>"
      ]
     },
     "metadata": {},
     "output_type": "display_data"
    }
   ],
   "source": [
    "# XG Boost\n",
    "y_test = cm.model_xgboost(X_train, y_train, X_test, y_test)[2]\n",
    "y_test_pred = cm.model_xgboost(X_train, y_train, X_test, y_test)[3]\n",
    "\n",
    "conf_matrix = confusion_matrix(y_test,y_test_pred)\n",
    "cm.plot_confusion_matrix(cm=conf_matrix, classes=[1,0], normalize=True, title='Confusion Matrix for XG Boost Model');"
   ]
  },
  {
   "cell_type": "markdown",
   "metadata": {},
   "source": [
    "# Function to Predict a Fight"
   ]
  },
  {
   "cell_type": "markdown",
   "metadata": {},
   "source": [
    "**plan**\n",
    "- ask for 2 fighter names\n",
    "    - if it is a title fight\n",
    "- gather the statistics for each fighter\n",
    "    - fighter1: grab appropriate stats from fighters table\n",
    "        - same for fighter2\n",
    "    - Make a dataframe for title_fight, f1_stats, f2_stats\n",
    "- run dataframe through the clf_xg.predict(df) and clf_xg.predict_proba(df)\n",
    "- another dataframe to have f1_name, f2_name, outcome, probability"
   ]
  },
  {
   "cell_type": "markdown",
   "metadata": {
    "heading_collapsed": true
   },
   "source": [
    "### fighter names, title fight and date of fight"
   ]
  },
  {
   "cell_type": "code",
   "execution_count": 95,
   "metadata": {
    "ExecuteTime": {
     "end_time": "2019-07-30T02:26:07.464172Z",
     "start_time": "2019-07-30T02:26:07.430614Z"
    },
    "hidden": true
   },
   "outputs": [],
   "source": [
    "def ask_fighter_names():\n",
    "    '''Ask the user for the name of each fighter'''\n",
    "    fighter1_name = input('What is the name of Fighter 1?')\n",
    "    fighter2_name = input('What is the name of Fighter 2?')\n",
    "    return {'f1_name': fighter1_name, 'f2_name': fighter2_name}"
   ]
  },
  {
   "cell_type": "code",
   "execution_count": 99,
   "metadata": {
    "ExecuteTime": {
     "end_time": "2019-07-30T02:27:44.084165Z",
     "start_time": "2019-07-30T02:27:40.848998Z"
    },
    "hidden": true,
    "scrolled": false
   },
   "outputs": [
    {
     "name": "stdout",
     "output_type": "stream",
     "text": [
      "What is the name of Fighter 1?jack\n",
      "What is the name of Fighter 2?jill\n"
     ]
    },
    {
     "data": {
      "text/plain": [
       "'jack'"
      ]
     },
     "execution_count": 99,
     "metadata": {},
     "output_type": "execute_result"
    }
   ],
   "source": [
    "# Test\n",
    "names = ask_fighter_names()\n",
    "names['f1_name']"
   ]
  },
  {
   "cell_type": "code",
   "execution_count": 112,
   "metadata": {
    "ExecuteTime": {
     "end_time": "2019-07-30T02:35:52.288795Z",
     "start_time": "2019-07-30T02:35:52.256979Z"
    },
    "hidden": true
   },
   "outputs": [],
   "source": [
    "def ask_title_fight():\n",
    "    '''Ask the user whether the fight isa title fight'''\n",
    "    title_fight_q = input('Is this a title fight? (yes/no)')\n",
    "    if title_fight_q=='yes':\n",
    "        title_fight = 1\n",
    "    elif title_fight_q=='no':\n",
    "        title_fight = 0\n",
    "    return title_fight"
   ]
  },
  {
   "cell_type": "code",
   "execution_count": 113,
   "metadata": {
    "ExecuteTime": {
     "end_time": "2019-07-30T02:35:57.608464Z",
     "start_time": "2019-07-30T02:35:55.294104Z"
    },
    "hidden": true,
    "scrolled": true
   },
   "outputs": [
    {
     "name": "stdout",
     "output_type": "stream",
     "text": [
      "Is this a title fight? (yes/no)yes\n"
     ]
    },
    {
     "data": {
      "text/plain": [
       "1"
      ]
     },
     "execution_count": 113,
     "metadata": {},
     "output_type": "execute_result"
    }
   ],
   "source": [
    "# Test\n",
    "title_fight = ask_title_fight()\n",
    "title_fight"
   ]
  },
  {
   "cell_type": "code",
   "execution_count": 165,
   "metadata": {
    "ExecuteTime": {
     "end_time": "2019-07-30T03:09:11.979335Z",
     "start_time": "2019-07-30T03:09:11.945428Z"
    },
    "hidden": true
   },
   "outputs": [],
   "source": [
    "from datetime import datetime"
   ]
  },
  {
   "cell_type": "code",
   "execution_count": 168,
   "metadata": {
    "ExecuteTime": {
     "end_time": "2019-07-30T03:09:40.558081Z",
     "start_time": "2019-07-30T03:09:40.523926Z"
    },
    "hidden": true
   },
   "outputs": [],
   "source": [
    "def ask_date_of_fight():\n",
    "    '''Ask the user when the fight takes place'''\n",
    "    fight_date = input('When will the fight take place? (YYYY-MM-DD)')\n",
    "    datetime.strptime(fight_date, '%Y-%m-%d')\n",
    "    \n",
    "    return fight_date"
   ]
  },
  {
   "cell_type": "code",
   "execution_count": 169,
   "metadata": {
    "ExecuteTime": {
     "end_time": "2019-07-30T03:09:54.584531Z",
     "start_time": "2019-07-30T03:09:44.100886Z"
    },
    "hidden": true
   },
   "outputs": [
    {
     "name": "stdout",
     "output_type": "stream",
     "text": [
      "When will the fight take place? (YYYY-MM-DD)2019-09-15\n"
     ]
    },
    {
     "data": {
      "text/plain": [
       "'2019-09-15'"
      ]
     },
     "execution_count": 169,
     "metadata": {},
     "output_type": "execute_result"
    }
   ],
   "source": [
    "# Test\n",
    "ask_date_of_fight()"
   ]
  },
  {
   "cell_type": "markdown",
   "metadata": {
    "heading_collapsed": true
   },
   "source": [
    "### Gather Stats for each fighter"
   ]
  },
  {
   "cell_type": "code",
   "execution_count": 231,
   "metadata": {
    "ExecuteTime": {
     "end_time": "2019-07-30T14:50:26.205275Z",
     "start_time": "2019-07-30T14:50:26.171069Z"
    },
    "hidden": true
   },
   "outputs": [],
   "source": [
    "def assemble_fighter_stats(fighter_name):\n",
    "    '''Gathers the statistics for the fighter, based off of their name'''\n",
    "    \n",
    "    fighter_stats = fighters[fighters['name']==fighter_name].iloc[:,3:]\n",
    "    \n",
    "    return fighter_stats"
   ]
  },
  {
   "cell_type": "code",
   "execution_count": 111,
   "metadata": {
    "ExecuteTime": {
     "end_time": "2019-07-30T02:34:06.976370Z",
     "start_time": "2019-07-30T02:34:06.932636Z"
    },
    "hidden": true
   },
   "outputs": [
    {
     "data": {
      "text/html": [
       "<div>\n",
       "<style scoped>\n",
       "    .dataframe tbody tr th:only-of-type {\n",
       "        vertical-align: middle;\n",
       "    }\n",
       "\n",
       "    .dataframe tbody tr th {\n",
       "        vertical-align: top;\n",
       "    }\n",
       "\n",
       "    .dataframe thead th {\n",
       "        text-align: right;\n",
       "    }\n",
       "</style>\n",
       "<table border=\"1\" class=\"dataframe\">\n",
       "  <thead>\n",
       "    <tr style=\"text-align: right;\">\n",
       "      <th></th>\n",
       "      <th>win</th>\n",
       "      <th>lose</th>\n",
       "      <th>draw</th>\n",
       "      <th>total_bouts</th>\n",
       "      <th>win_rate</th>\n",
       "      <th>height_inches</th>\n",
       "      <th>reach</th>\n",
       "      <th>stance_open_stance</th>\n",
       "      <th>stance_orthodox</th>\n",
       "      <th>stance_sideways</th>\n",
       "      <th>stance_southpaw</th>\n",
       "      <th>stance_switch</th>\n",
       "      <th>slpm</th>\n",
       "      <th>str_acc</th>\n",
       "      <th>sapm</th>\n",
       "      <th>str_def</th>\n",
       "      <th>td_avg</th>\n",
       "      <th>td_acc</th>\n",
       "      <th>td_def</th>\n",
       "      <th>sub_avg</th>\n",
       "    </tr>\n",
       "  </thead>\n",
       "  <tbody>\n",
       "    <tr>\n",
       "      <th>835</th>\n",
       "      <td>19</td>\n",
       "      <td>3</td>\n",
       "      <td>0</td>\n",
       "      <td>22</td>\n",
       "      <td>0.86</td>\n",
       "      <td>71.0</td>\n",
       "      <td>69.0</td>\n",
       "      <td>0</td>\n",
       "      <td>1</td>\n",
       "      <td>0</td>\n",
       "      <td>0</td>\n",
       "      <td>0</td>\n",
       "      <td>6.2</td>\n",
       "      <td>43</td>\n",
       "      <td>3.9</td>\n",
       "      <td>65</td>\n",
       "      <td>0.28</td>\n",
       "      <td>80</td>\n",
       "      <td>83</td>\n",
       "      <td>0.5</td>\n",
       "    </tr>\n",
       "  </tbody>\n",
       "</table>\n",
       "</div>"
      ],
      "text/plain": [
       "     win  lose  draw  total_bouts  win_rate  height_inches  reach  \\\n",
       "835   19     3     0           22      0.86           71.0   69.0   \n",
       "\n",
       "     stance_open_stance  stance_orthodox  stance_sideways  stance_southpaw  \\\n",
       "835                   0                1                0                0   \n",
       "\n",
       "     stance_switch  slpm  str_acc  sapm  str_def  td_avg  td_acc  td_def  \\\n",
       "835              0   6.2       43   3.9       65    0.28      80      83   \n",
       "\n",
       "     sub_avg  \n",
       "835      0.5  "
      ]
     },
     "execution_count": 111,
     "metadata": {},
     "output_type": "execute_result"
    }
   ],
   "source": [
    "# Test\n",
    "fighter_name = 'Max Holloway'\n",
    "fighter_stats = assemble_fighter_stats(fighter_name)\n",
    "fighter_stats"
   ]
  },
  {
   "cell_type": "markdown",
   "metadata": {
    "heading_collapsed": true
   },
   "source": [
    "### Calculate Age at fight"
   ]
  },
  {
   "cell_type": "code",
   "execution_count": 221,
   "metadata": {
    "ExecuteTime": {
     "end_time": "2019-07-30T14:27:38.599354Z",
     "start_time": "2019-07-30T14:27:38.453938Z"
    },
    "hidden": true
   },
   "outputs": [],
   "source": [
    "def fighter_dob(name, fighter_df):\n",
    "    '''returns the fighter date of birth from a fighter dataframe'''\n",
    "    \n",
    "    return fighter_df[fighter_df['name']==name]['dob']"
   ]
  },
  {
   "cell_type": "code",
   "execution_count": 222,
   "metadata": {
    "ExecuteTime": {
     "end_time": "2019-07-30T14:28:25.078516Z",
     "start_time": "2019-07-30T14:28:25.039993Z"
    },
    "hidden": true
   },
   "outputs": [
    {
     "data": {
      "text/plain": [
       "835    1991-12-04\n",
       "Name: dob, dtype: object"
      ]
     },
     "execution_count": 222,
     "metadata": {},
     "output_type": "execute_result"
    }
   ],
   "source": [
    "# Test\n",
    "fighter_name = 'Max Holloway'\n",
    "f1_dob = fighter_dob(fighter_name, fighters)\n",
    "f1_dob"
   ]
  },
  {
   "cell_type": "code",
   "execution_count": null,
   "metadata": {
    "hidden": true
   },
   "outputs": [],
   "source": [
    "def col_to_datetime(col, data):\n",
    "    '''convert a column to datetime format'''\n",
    "    \n",
    "    return pd.to_datetime(data[col], format='%Y-%m-%d', errors='coerce')"
   ]
  },
  {
   "cell_type": "code",
   "execution_count": 263,
   "metadata": {
    "ExecuteTime": {
     "end_time": "2019-07-30T16:51:25.478066Z",
     "start_time": "2019-07-30T16:51:25.443907Z"
    },
    "hidden": true
   },
   "outputs": [],
   "source": [
    "def input_age_at_fight(prediction_stats, names):\n",
    "    '''Takes in a fighters date of birth, calculates their age vs a date and drops unwanted columns'''\n",
    "    \n",
    "    # Fighter dobs\n",
    "    prediction_df['fighter1_dob'] = fighter_dob(names['f1_name'], prediction_df)\n",
    "    prediction_df['fighter2_dob'] = fighter_dob(names['f2_name'], prediction_df)\n",
    "\n",
    "    # Convert dates to datetime format\n",
    "    date_cols = ['date', 'fighter1_dob', 'fighter2_dob']\n",
    "    for col in date_cols:\n",
    "        prediction_df[col] = col_to_datetime(col, prediction_df)\n",
    "\n",
    "    # Calculate and input age at fight\n",
    "    cm.calc_age_at_fight(prediction_df, 'fighter1_age_at_fight', 'fighter1_dob')\n",
    "    cm.calc_age_at_fight(prediction_df, 'fighter2_age_at_fight', 'fighter2_dob')\n",
    "\n",
    "    # Drop unwanted columns\n",
    "    cols_to_drop = ['date', 'fighter1_dob', 'fighter2_dob']\n",
    "    prediction_df.drop(labels=cols_to_drop, axis=1, inplace=True)\n",
    "\n",
    "    return prediction_stats\n",
    "    "
   ]
  },
  {
   "cell_type": "markdown",
   "metadata": {},
   "source": [
    "### New DF with same columns as first DF"
   ]
  },
  {
   "cell_type": "code",
   "execution_count": 216,
   "metadata": {
    "ExecuteTime": {
     "end_time": "2019-07-30T13:55:39.675446Z",
     "start_time": "2019-07-30T13:55:39.638769Z"
    },
    "code_folding": [
     0
    ]
   },
   "outputs": [],
   "source": [
    "def create_blank_test_df(data, unwanted_columns={'fighter1', 'fighter2', 'winner_is_fighter1'} ):    \n",
    "    '''Creates a blank dataframe which copies the columns from an input dataframe'''\n",
    "    # Copy the columns from data table\n",
    "    prediction_cols = list(data.columns)\n",
    "    # Remove unwanted columns\n",
    "    prediction_cols = [e for e in prediction_cols if e not in unwanted_columns]\n",
    "    # Create Blank Dataframe from columns\n",
    "    prediction_df = pd.DataFrame(columns=prediction_cols)\n",
    "\n",
    "    return prediction_df"
   ]
  },
  {
   "cell_type": "code",
   "execution_count": 217,
   "metadata": {
    "ExecuteTime": {
     "end_time": "2019-07-30T13:55:43.192964Z",
     "start_time": "2019-07-30T13:55:43.154783Z"
    },
    "scrolled": true
   },
   "outputs": [
    {
     "data": {
      "text/html": [
       "<div>\n",
       "<style scoped>\n",
       "    .dataframe tbody tr th:only-of-type {\n",
       "        vertical-align: middle;\n",
       "    }\n",
       "\n",
       "    .dataframe tbody tr th {\n",
       "        vertical-align: top;\n",
       "    }\n",
       "\n",
       "    .dataframe thead th {\n",
       "        text-align: right;\n",
       "    }\n",
       "</style>\n",
       "<table border=\"1\" class=\"dataframe\">\n",
       "  <thead>\n",
       "    <tr style=\"text-align: right;\">\n",
       "      <th></th>\n",
       "      <th>date</th>\n",
       "      <th>title_fight</th>\n",
       "      <th>fighter1_win</th>\n",
       "      <th>fighter1_lose</th>\n",
       "      <th>fighter1_total_bouts</th>\n",
       "      <th>fighter1_win_rate</th>\n",
       "      <th>fighter1_height_inches</th>\n",
       "      <th>fighter1_reach</th>\n",
       "      <th>fighter1_stance_open_stance</th>\n",
       "      <th>fighter1_stance_orthodox</th>\n",
       "      <th>...</th>\n",
       "      <th>fighter2_slpm</th>\n",
       "      <th>fighter2_str_acc</th>\n",
       "      <th>fighter2_sapm</th>\n",
       "      <th>fighter2_str_def</th>\n",
       "      <th>fighter2_td_avg</th>\n",
       "      <th>fighter2_td_acc</th>\n",
       "      <th>fighter2_td_def</th>\n",
       "      <th>fighter2_sub_avg</th>\n",
       "      <th>fighter1_age_at_fight</th>\n",
       "      <th>fighter2_age_at_fight</th>\n",
       "    </tr>\n",
       "  </thead>\n",
       "  <tbody>\n",
       "  </tbody>\n",
       "</table>\n",
       "<p>0 rows × 42 columns</p>\n",
       "</div>"
      ],
      "text/plain": [
       "Empty DataFrame\n",
       "Columns: [date, title_fight, fighter1_win, fighter1_lose, fighter1_total_bouts, fighter1_win_rate, fighter1_height_inches, fighter1_reach, fighter1_stance_open_stance, fighter1_stance_orthodox, fighter1_stance_sideways, fighter1_stance_southpaw, fighter1_stance_switch, fighter1_slpm, fighter1_str_acc, fighter1_sapm, fighter1_str_def, fighter1_td_avg, fighter1_td_acc, fighter1_td_def, fighter1_sub_avg, fighter2_win, fighter2_lose, fighter2_total_bouts, fighter2_win_rate, fighter2_height_inches, fighter2_reach, fighter2_stance_open_stance, fighter2_stance_orthodox, fighter2_stance_sideways, fighter2_stance_southpaw, fighter2_stance_switch, fighter2_slpm, fighter2_str_acc, fighter2_sapm, fighter2_str_def, fighter2_td_avg, fighter2_td_acc, fighter2_td_def, fighter2_sub_avg, fighter1_age_at_fight, fighter2_age_at_fight]\n",
       "Index: []\n",
       "\n",
       "[0 rows x 42 columns]"
      ]
     },
     "execution_count": 217,
     "metadata": {},
     "output_type": "execute_result"
    }
   ],
   "source": [
    "# Test\n",
    "df = create_blank_test_df(data)\n",
    "df"
   ]
  },
  {
   "cell_type": "markdown",
   "metadata": {
    "heading_collapsed": true
   },
   "source": [
    "### Function to predict and give probability"
   ]
  },
  {
   "cell_type": "code",
   "execution_count": 196,
   "metadata": {
    "ExecuteTime": {
     "end_time": "2019-07-30T03:24:44.095975Z",
     "start_time": "2019-07-30T03:24:44.059324Z"
    },
    "hidden": true
   },
   "outputs": [],
   "source": [
    "def xg_boost(X_train, y_train, prediction_df):\n",
    "    '''Outputs the prediction of a serie of fights, as well as the probability'''\n",
    "    clf = xgb.XGBClassifier(learning_rate=0.1,\n",
    "                            max_depth=5,\n",
    "                            min_child_weight=10,\n",
    "                            n_estimators=150,\n",
    "                            subsample=0.7,\n",
    "                            random_state=148,\n",
    "                            n_jobs=-1)\n",
    "    clf.fit(X_train, y_train)\n",
    "    fight_prediction = clf.predict(prediction_df)\n",
    "    fight_prediction_proba = clf.predict_proba(prediction_df)\n",
    "    fight_prediction_proba = [max(fight_prediction_proba[i]) for i in range(len(fight_prediction_proba))]\n",
    "    \n",
    "    return {'prediction': fight_prediction, 'prediction_probability': fight_prediction_proba}"
   ]
  },
  {
   "cell_type": "code",
   "execution_count": 197,
   "metadata": {
    "ExecuteTime": {
     "end_time": "2019-07-30T03:24:47.954765Z",
     "start_time": "2019-07-30T03:24:47.680183Z"
    },
    "hidden": true
   },
   "outputs": [
    {
     "data": {
      "text/plain": [
       "{'prediction': array([1, 1, 1]),\n",
       " 'prediction_probability': [0.5539638, 0.8436587, 0.8514895]}"
      ]
     },
     "execution_count": 197,
     "metadata": {},
     "output_type": "execute_result"
    }
   ],
   "source": [
    "# Test\n",
    "xg_boost(X_train, y_train, X_test.iloc[:3])"
   ]
  },
  {
   "cell_type": "markdown",
   "metadata": {},
   "source": [
    "### Final Function"
   ]
  },
  {
   "cell_type": "markdown",
   "metadata": {},
   "source": [
    "**3 things to do**\n",
    "- calculate age at fight\n",
    "- pull in fighter stats\n",
    "- be able to cycle through each row, not column, in the prediciton_df"
   ]
  },
  {
   "cell_type": "code",
   "execution_count": 264,
   "metadata": {
    "ExecuteTime": {
     "end_time": "2019-07-30T16:51:31.362421Z",
     "start_time": "2019-07-30T16:51:31.326222Z"
    }
   },
   "outputs": [],
   "source": [
    "def predict_fight(X_train, y_train, data):\n",
    "    '''Function to predict a fight'''\n",
    "    \n",
    "    # Ask the user for the fighters' names, as a list\n",
    "    names = ask_fighter_names()    \n",
    "    \n",
    "    # Ask whether it is a title fight or not\n",
    "    title_fight = ask_title_fight()\n",
    "    \n",
    "    # Gather each fighter's stats\n",
    "    f1_stats = assemble_fighter_stats(names['f1_name'])\n",
    "    f2_stats = assemble_fighter_stats(names['f2_name'])\n",
    "    \n",
    "    # Create Blank Data Frame\n",
    "    prediction_df = create_blank_test_df(data)\n",
    "    prediction_df['title_fight'] = title_fight\n",
    "    \n",
    "    # Assign each fighter's stats to position in DataFrame (input the values as a list before the comments) \n",
    "    prediction_df.loc[0,'fighter1_win':'fighter1_sub_avg'] = f1_stats #fighter1_cols\n",
    "    prediction_df.loc[0,'fighter2_win':'fighter2_sub_avg'] = f2_stats # fighter2_cols\n",
    "\n",
    "    # Ask for the date of the fight\n",
    "    fight_date = ask_date_of_fight()\n",
    "    prediction_df['date'] = fight_date\n",
    "    \n",
    "    # Add in fighters' ages at time of fight\n",
    "    input_age_at_fight(prediction_df, names)\n",
    "    \n",
    "#     # Add in fighters' ages at time of fight (input the values as a list before the comments, might need to keep dob in until we calculate this)\n",
    "#     prediction_df.iloc[0,-2:-1] = None #fighter1_age_at_fight\n",
    "#     prediction_df.iloc[0,-1:] = None #fighter1_age_at_fight\n",
    "    \n",
    "    # Predict the outcome of the fight\n",
    "    prediction_df['winner_is_fighter1'] = xg_boost(X_train, y_train, prediction_df)[0]\n",
    "    prediction_df['result_probability'] = xg_boost(X_train, y_train, prediction_df)[1]\n",
    "    \n",
    "    # Print the results of each fight\n",
    "    for index, value in enumerate(prediction_df):  # Need to change this to cycle through each row\n",
    "        if prediction_df['winner_is_fighter1']:\n",
    "            print('{} will beat {}, with a probability of {}%'.format(names[0],\n",
    "                                                                      names[1],\n",
    "                                                                      prediction_df['result_probability'][index]))\n",
    "        else:\n",
    "            print('{} will beat {}, with a probability of {}%'.format(names[1],\n",
    "                                                                      names[0],\n",
    "                                                                      prediction_df['result_probability'][index]))\n",
    "    \n",
    "    return prediction_df"
   ]
  },
  {
   "cell_type": "code",
   "execution_count": 260,
   "metadata": {
    "ExecuteTime": {
     "end_time": "2019-07-30T16:49:04.851590Z",
     "start_time": "2019-07-30T16:49:04.714801Z"
    }
   },
   "outputs": [
    {
     "data": {
      "text/html": [
       "<div>\n",
       "<style scoped>\n",
       "    .dataframe tbody tr th:only-of-type {\n",
       "        vertical-align: middle;\n",
       "    }\n",
       "\n",
       "    .dataframe tbody tr th {\n",
       "        vertical-align: top;\n",
       "    }\n",
       "\n",
       "    .dataframe thead th {\n",
       "        text-align: right;\n",
       "    }\n",
       "</style>\n",
       "<table border=\"1\" class=\"dataframe\">\n",
       "  <thead>\n",
       "    <tr style=\"text-align: right;\">\n",
       "      <th></th>\n",
       "      <th>date</th>\n",
       "      <th>title_fight</th>\n",
       "      <th>fighter1_win</th>\n",
       "      <th>fighter1_lose</th>\n",
       "      <th>fighter1_total_bouts</th>\n",
       "      <th>fighter1_win_rate</th>\n",
       "      <th>fighter1_height_inches</th>\n",
       "      <th>fighter1_reach</th>\n",
       "      <th>fighter1_stance_open_stance</th>\n",
       "      <th>fighter1_stance_orthodox</th>\n",
       "      <th>...</th>\n",
       "      <th>fighter2_slpm</th>\n",
       "      <th>fighter2_str_acc</th>\n",
       "      <th>fighter2_sapm</th>\n",
       "      <th>fighter2_str_def</th>\n",
       "      <th>fighter2_td_avg</th>\n",
       "      <th>fighter2_td_acc</th>\n",
       "      <th>fighter2_td_def</th>\n",
       "      <th>fighter2_sub_avg</th>\n",
       "      <th>fighter1_age_at_fight</th>\n",
       "      <th>fighter2_age_at_fight</th>\n",
       "    </tr>\n",
       "  </thead>\n",
       "  <tbody>\n",
       "  </tbody>\n",
       "</table>\n",
       "<p>0 rows × 42 columns</p>\n",
       "</div>"
      ],
      "text/plain": [
       "Empty DataFrame\n",
       "Columns: [date, title_fight, fighter1_win, fighter1_lose, fighter1_total_bouts, fighter1_win_rate, fighter1_height_inches, fighter1_reach, fighter1_stance_open_stance, fighter1_stance_orthodox, fighter1_stance_sideways, fighter1_stance_southpaw, fighter1_stance_switch, fighter1_slpm, fighter1_str_acc, fighter1_sapm, fighter1_str_def, fighter1_td_avg, fighter1_td_acc, fighter1_td_def, fighter1_sub_avg, fighter2_win, fighter2_lose, fighter2_total_bouts, fighter2_win_rate, fighter2_height_inches, fighter2_reach, fighter2_stance_open_stance, fighter2_stance_orthodox, fighter2_stance_sideways, fighter2_stance_southpaw, fighter2_stance_switch, fighter2_slpm, fighter2_str_acc, fighter2_sapm, fighter2_str_def, fighter2_td_avg, fighter2_td_acc, fighter2_td_def, fighter2_sub_avg, fighter1_age_at_fight, fighter2_age_at_fight]\n",
       "Index: []\n",
       "\n",
       "[0 rows x 42 columns]"
      ]
     },
     "execution_count": 260,
     "metadata": {},
     "output_type": "execute_result"
    }
   ],
   "source": [
    "df"
   ]
  },
  {
   "cell_type": "code",
   "execution_count": 271,
   "metadata": {
    "ExecuteTime": {
     "end_time": "2019-07-30T20:30:57.774401Z",
     "start_time": "2019-07-30T20:29:49.272078Z"
    },
    "collapsed": true
   },
   "outputs": [
    {
     "name": "stdout",
     "output_type": "stream",
     "text": [
      "What is the name of Fighter 1?Bruce Lee\n",
      "What is the name of Fighter 2?Jack Chan\n"
     ]
    },
    {
     "ename": "KeyboardInterrupt",
     "evalue": "",
     "output_type": "error",
     "traceback": [
      "\u001b[0;31m---------------------------------------------------------------------------\u001b[0m",
      "\u001b[0;31mKeyboardInterrupt\u001b[0m                         Traceback (most recent call last)",
      "\u001b[0;32m/anaconda3/envs/ml-ufc-env/lib/python3.6/site-packages/ipykernel/kernelbase.py\u001b[0m in \u001b[0;36m_input_request\u001b[0;34m(self, prompt, ident, parent, password)\u001b[0m\n\u001b[1;32m    877\u001b[0m             \u001b[0;32mtry\u001b[0m\u001b[0;34m:\u001b[0m\u001b[0;34m\u001b[0m\u001b[0m\n\u001b[0;32m--> 878\u001b[0;31m                 \u001b[0mident\u001b[0m\u001b[0;34m,\u001b[0m \u001b[0mreply\u001b[0m \u001b[0;34m=\u001b[0m \u001b[0mself\u001b[0m\u001b[0;34m.\u001b[0m\u001b[0msession\u001b[0m\u001b[0;34m.\u001b[0m\u001b[0mrecv\u001b[0m\u001b[0;34m(\u001b[0m\u001b[0mself\u001b[0m\u001b[0;34m.\u001b[0m\u001b[0mstdin_socket\u001b[0m\u001b[0;34m,\u001b[0m \u001b[0;36m0\u001b[0m\u001b[0;34m)\u001b[0m\u001b[0;34m\u001b[0m\u001b[0m\n\u001b[0m\u001b[1;32m    879\u001b[0m             \u001b[0;32mexcept\u001b[0m \u001b[0mException\u001b[0m\u001b[0;34m:\u001b[0m\u001b[0;34m\u001b[0m\u001b[0m\n",
      "\u001b[0;32m/anaconda3/envs/ml-ufc-env/lib/python3.6/site-packages/jupyter_client/session.py\u001b[0m in \u001b[0;36mrecv\u001b[0;34m(self, socket, mode, content, copy)\u001b[0m\n\u001b[1;32m    802\u001b[0m         \u001b[0;32mtry\u001b[0m\u001b[0;34m:\u001b[0m\u001b[0;34m\u001b[0m\u001b[0m\n\u001b[0;32m--> 803\u001b[0;31m             \u001b[0mmsg_list\u001b[0m \u001b[0;34m=\u001b[0m \u001b[0msocket\u001b[0m\u001b[0;34m.\u001b[0m\u001b[0mrecv_multipart\u001b[0m\u001b[0;34m(\u001b[0m\u001b[0mmode\u001b[0m\u001b[0;34m,\u001b[0m \u001b[0mcopy\u001b[0m\u001b[0;34m=\u001b[0m\u001b[0mcopy\u001b[0m\u001b[0;34m)\u001b[0m\u001b[0;34m\u001b[0m\u001b[0m\n\u001b[0m\u001b[1;32m    804\u001b[0m         \u001b[0;32mexcept\u001b[0m \u001b[0mzmq\u001b[0m\u001b[0;34m.\u001b[0m\u001b[0mZMQError\u001b[0m \u001b[0;32mas\u001b[0m \u001b[0me\u001b[0m\u001b[0;34m:\u001b[0m\u001b[0;34m\u001b[0m\u001b[0m\n",
      "\u001b[0;32m/anaconda3/envs/ml-ufc-env/lib/python3.6/site-packages/zmq/sugar/socket.py\u001b[0m in \u001b[0;36mrecv_multipart\u001b[0;34m(self, flags, copy, track)\u001b[0m\n\u001b[1;32m    469\u001b[0m         \"\"\"\n\u001b[0;32m--> 470\u001b[0;31m         \u001b[0mparts\u001b[0m \u001b[0;34m=\u001b[0m \u001b[0;34m[\u001b[0m\u001b[0mself\u001b[0m\u001b[0;34m.\u001b[0m\u001b[0mrecv\u001b[0m\u001b[0;34m(\u001b[0m\u001b[0mflags\u001b[0m\u001b[0;34m,\u001b[0m \u001b[0mcopy\u001b[0m\u001b[0;34m=\u001b[0m\u001b[0mcopy\u001b[0m\u001b[0;34m,\u001b[0m \u001b[0mtrack\u001b[0m\u001b[0;34m=\u001b[0m\u001b[0mtrack\u001b[0m\u001b[0;34m)\u001b[0m\u001b[0;34m]\u001b[0m\u001b[0;34m\u001b[0m\u001b[0m\n\u001b[0m\u001b[1;32m    471\u001b[0m         \u001b[0;31m# have first part already, only loop while more to receive\u001b[0m\u001b[0;34m\u001b[0m\u001b[0;34m\u001b[0m\u001b[0m\n",
      "\u001b[0;32mzmq/backend/cython/socket.pyx\u001b[0m in \u001b[0;36mzmq.backend.cython.socket.Socket.recv\u001b[0;34m()\u001b[0m\n",
      "\u001b[0;32mzmq/backend/cython/socket.pyx\u001b[0m in \u001b[0;36mzmq.backend.cython.socket.Socket.recv\u001b[0;34m()\u001b[0m\n",
      "\u001b[0;32mzmq/backend/cython/socket.pyx\u001b[0m in \u001b[0;36mzmq.backend.cython.socket._recv_copy\u001b[0;34m()\u001b[0m\n",
      "\u001b[0;32m/anaconda3/envs/ml-ufc-env/lib/python3.6/site-packages/zmq/backend/cython/checkrc.pxd\u001b[0m in \u001b[0;36mzmq.backend.cython.checkrc._check_rc\u001b[0;34m()\u001b[0m\n",
      "\u001b[0;31mKeyboardInterrupt\u001b[0m: ",
      "\nDuring handling of the above exception, another exception occurred:\n",
      "\u001b[0;31mKeyboardInterrupt\u001b[0m                         Traceback (most recent call last)",
      "\u001b[0;32m<ipython-input-271-8b21d7a92fa8>\u001b[0m in \u001b[0;36m<module>\u001b[0;34m()\u001b[0m\n\u001b[0;32m----> 1\u001b[0;31m \u001b[0mpredict_fight\u001b[0m\u001b[0;34m(\u001b[0m\u001b[0mX_train\u001b[0m\u001b[0;34m,\u001b[0m \u001b[0my_train\u001b[0m\u001b[0;34m,\u001b[0m \u001b[0mdata\u001b[0m\u001b[0;34m)\u001b[0m\u001b[0;34m\u001b[0m\u001b[0m\n\u001b[0m",
      "\u001b[0;32m<ipython-input-264-3d7c22e6830a>\u001b[0m in \u001b[0;36mpredict_fight\u001b[0;34m(X_train, y_train, data)\u001b[0m\n\u001b[1;32m      6\u001b[0m \u001b[0;34m\u001b[0m\u001b[0m\n\u001b[1;32m      7\u001b[0m     \u001b[0;31m# Ask whether it is a title fight or not\u001b[0m\u001b[0;34m\u001b[0m\u001b[0;34m\u001b[0m\u001b[0m\n\u001b[0;32m----> 8\u001b[0;31m     \u001b[0mtitle_fight\u001b[0m \u001b[0;34m=\u001b[0m \u001b[0mask_title_fight\u001b[0m\u001b[0;34m(\u001b[0m\u001b[0;34m)\u001b[0m\u001b[0;34m\u001b[0m\u001b[0m\n\u001b[0m\u001b[1;32m      9\u001b[0m \u001b[0;34m\u001b[0m\u001b[0m\n\u001b[1;32m     10\u001b[0m     \u001b[0;31m# Gather each fighter's stats\u001b[0m\u001b[0;34m\u001b[0m\u001b[0;34m\u001b[0m\u001b[0m\n",
      "\u001b[0;32m<ipython-input-112-731d834fa714>\u001b[0m in \u001b[0;36mask_title_fight\u001b[0;34m()\u001b[0m\n\u001b[1;32m      1\u001b[0m \u001b[0;32mdef\u001b[0m \u001b[0mask_title_fight\u001b[0m\u001b[0;34m(\u001b[0m\u001b[0;34m)\u001b[0m\u001b[0;34m:\u001b[0m\u001b[0;34m\u001b[0m\u001b[0m\n\u001b[0;32m----> 2\u001b[0;31m     \u001b[0mtitle_fight_q\u001b[0m \u001b[0;34m=\u001b[0m \u001b[0minput\u001b[0m\u001b[0;34m(\u001b[0m\u001b[0;34m'Is this a title fight? (yes/no)'\u001b[0m\u001b[0;34m)\u001b[0m\u001b[0;34m\u001b[0m\u001b[0m\n\u001b[0m\u001b[1;32m      3\u001b[0m     \u001b[0;32mif\u001b[0m \u001b[0mtitle_fight_q\u001b[0m\u001b[0;34m==\u001b[0m\u001b[0;34m'yes'\u001b[0m\u001b[0;34m:\u001b[0m\u001b[0;34m\u001b[0m\u001b[0m\n\u001b[1;32m      4\u001b[0m         \u001b[0mtitle_fight\u001b[0m \u001b[0;34m=\u001b[0m \u001b[0;36m1\u001b[0m\u001b[0;34m\u001b[0m\u001b[0m\n\u001b[1;32m      5\u001b[0m     \u001b[0;32melif\u001b[0m \u001b[0mtitle_fight_q\u001b[0m\u001b[0;34m==\u001b[0m\u001b[0;34m'no'\u001b[0m\u001b[0;34m:\u001b[0m\u001b[0;34m\u001b[0m\u001b[0m\n",
      "\u001b[0;32m/anaconda3/envs/ml-ufc-env/lib/python3.6/site-packages/ipykernel/kernelbase.py\u001b[0m in \u001b[0;36mraw_input\u001b[0;34m(self, prompt)\u001b[0m\n\u001b[1;32m    851\u001b[0m             \u001b[0mself\u001b[0m\u001b[0;34m.\u001b[0m\u001b[0m_parent_ident\u001b[0m\u001b[0;34m,\u001b[0m\u001b[0;34m\u001b[0m\u001b[0m\n\u001b[1;32m    852\u001b[0m             \u001b[0mself\u001b[0m\u001b[0;34m.\u001b[0m\u001b[0m_parent_header\u001b[0m\u001b[0;34m,\u001b[0m\u001b[0;34m\u001b[0m\u001b[0m\n\u001b[0;32m--> 853\u001b[0;31m             \u001b[0mpassword\u001b[0m\u001b[0;34m=\u001b[0m\u001b[0;32mFalse\u001b[0m\u001b[0;34m,\u001b[0m\u001b[0;34m\u001b[0m\u001b[0m\n\u001b[0m\u001b[1;32m    854\u001b[0m         )\n\u001b[1;32m    855\u001b[0m \u001b[0;34m\u001b[0m\u001b[0m\n",
      "\u001b[0;32m/anaconda3/envs/ml-ufc-env/lib/python3.6/site-packages/ipykernel/kernelbase.py\u001b[0m in \u001b[0;36m_input_request\u001b[0;34m(self, prompt, ident, parent, password)\u001b[0m\n\u001b[1;32m    881\u001b[0m             \u001b[0;32mexcept\u001b[0m \u001b[0mKeyboardInterrupt\u001b[0m\u001b[0;34m:\u001b[0m\u001b[0;34m\u001b[0m\u001b[0m\n\u001b[1;32m    882\u001b[0m                 \u001b[0;31m# re-raise KeyboardInterrupt, to truncate traceback\u001b[0m\u001b[0;34m\u001b[0m\u001b[0;34m\u001b[0m\u001b[0m\n\u001b[0;32m--> 883\u001b[0;31m                 \u001b[0;32mraise\u001b[0m \u001b[0mKeyboardInterrupt\u001b[0m\u001b[0;34m\u001b[0m\u001b[0m\n\u001b[0m\u001b[1;32m    884\u001b[0m             \u001b[0;32melse\u001b[0m\u001b[0;34m:\u001b[0m\u001b[0;34m\u001b[0m\u001b[0m\n\u001b[1;32m    885\u001b[0m                 \u001b[0;32mbreak\u001b[0m\u001b[0;34m\u001b[0m\u001b[0m\n",
      "\u001b[0;31mKeyboardInterrupt\u001b[0m: "
     ]
    }
   ],
   "source": [
    "predict_fight(X_train, y_train, data)"
   ]
  },
  {
   "cell_type": "code",
   "execution_count": 229,
   "metadata": {
    "ExecuteTime": {
     "end_time": "2019-07-30T14:49:41.636415Z",
     "start_time": "2019-07-30T14:49:41.587539Z"
    }
   },
   "outputs": [
    {
     "data": {
      "text/html": [
       "<div>\n",
       "<style scoped>\n",
       "    .dataframe tbody tr th:only-of-type {\n",
       "        vertical-align: middle;\n",
       "    }\n",
       "\n",
       "    .dataframe tbody tr th {\n",
       "        vertical-align: top;\n",
       "    }\n",
       "\n",
       "    .dataframe thead th {\n",
       "        text-align: right;\n",
       "    }\n",
       "</style>\n",
       "<table border=\"1\" class=\"dataframe\">\n",
       "  <thead>\n",
       "    <tr style=\"text-align: right;\">\n",
       "      <th></th>\n",
       "      <th>name</th>\n",
       "      <th>dob</th>\n",
       "      <th>age_today</th>\n",
       "      <th>win</th>\n",
       "      <th>lose</th>\n",
       "      <th>draw</th>\n",
       "      <th>total_bouts</th>\n",
       "      <th>win_rate</th>\n",
       "      <th>height_inches</th>\n",
       "      <th>reach</th>\n",
       "      <th>...</th>\n",
       "      <th>stance_southpaw</th>\n",
       "      <th>stance_switch</th>\n",
       "      <th>slpm</th>\n",
       "      <th>str_acc</th>\n",
       "      <th>sapm</th>\n",
       "      <th>str_def</th>\n",
       "      <th>td_avg</th>\n",
       "      <th>td_acc</th>\n",
       "      <th>td_def</th>\n",
       "      <th>sub_avg</th>\n",
       "    </tr>\n",
       "  </thead>\n",
       "  <tbody>\n",
       "    <tr>\n",
       "      <th>2078</th>\n",
       "      <td>Cub Swanson</td>\n",
       "      <td>1983-11-02</td>\n",
       "      <td>36.0</td>\n",
       "      <td>25</td>\n",
       "      <td>10</td>\n",
       "      <td>0</td>\n",
       "      <td>35</td>\n",
       "      <td>0.71</td>\n",
       "      <td>68.0</td>\n",
       "      <td>70.0</td>\n",
       "      <td>...</td>\n",
       "      <td>0</td>\n",
       "      <td>0</td>\n",
       "      <td>4.16</td>\n",
       "      <td>49</td>\n",
       "      <td>3.28</td>\n",
       "      <td>62</td>\n",
       "      <td>1.17</td>\n",
       "      <td>52</td>\n",
       "      <td>60</td>\n",
       "      <td>0.5</td>\n",
       "    </tr>\n",
       "  </tbody>\n",
       "</table>\n",
       "<p>1 rows × 23 columns</p>\n",
       "</div>"
      ],
      "text/plain": [
       "             name         dob  age_today  win  lose  draw  total_bouts  \\\n",
       "2078  Cub Swanson  1983-11-02       36.0   25    10     0           35   \n",
       "\n",
       "      win_rate  height_inches  reach   ...     stance_southpaw  stance_switch  \\\n",
       "2078      0.71           68.0   70.0   ...                   0              0   \n",
       "\n",
       "      slpm  str_acc  sapm  str_def  td_avg  td_acc  td_def  sub_avg  \n",
       "2078  4.16       49  3.28       62    1.17      52      60      0.5  \n",
       "\n",
       "[1 rows x 23 columns]"
      ]
     },
     "execution_count": 229,
     "metadata": {},
     "output_type": "execute_result"
    }
   ],
   "source": [
    "fighters[fighters['name']=='Cub Swanson']"
   ]
  },
  {
   "cell_type": "code",
   "execution_count": 219,
   "metadata": {
    "ExecuteTime": {
     "end_time": "2019-07-30T13:58:34.555292Z",
     "start_time": "2019-07-30T13:58:34.503476Z"
    },
    "scrolled": false
   },
   "outputs": [
    {
     "data": {
      "text/html": [
       "<div>\n",
       "<style scoped>\n",
       "    .dataframe tbody tr th:only-of-type {\n",
       "        vertical-align: middle;\n",
       "    }\n",
       "\n",
       "    .dataframe tbody tr th {\n",
       "        vertical-align: top;\n",
       "    }\n",
       "\n",
       "    .dataframe thead th {\n",
       "        text-align: right;\n",
       "    }\n",
       "</style>\n",
       "<table border=\"1\" class=\"dataframe\">\n",
       "  <thead>\n",
       "    <tr style=\"text-align: right;\">\n",
       "      <th></th>\n",
       "      <th>date</th>\n",
       "      <th>fighter1</th>\n",
       "      <th>fighter2</th>\n",
       "      <th>winner_is_fighter1</th>\n",
       "      <th>title_fight</th>\n",
       "      <th>fighter1_win</th>\n",
       "      <th>fighter1_lose</th>\n",
       "      <th>fighter1_total_bouts</th>\n",
       "      <th>fighter1_win_rate</th>\n",
       "      <th>fighter1_height_inches</th>\n",
       "      <th>...</th>\n",
       "      <th>fighter2_slpm</th>\n",
       "      <th>fighter2_str_acc</th>\n",
       "      <th>fighter2_sapm</th>\n",
       "      <th>fighter2_str_def</th>\n",
       "      <th>fighter2_td_avg</th>\n",
       "      <th>fighter2_td_acc</th>\n",
       "      <th>fighter2_td_def</th>\n",
       "      <th>fighter2_sub_avg</th>\n",
       "      <th>fighter1_age_at_fight</th>\n",
       "      <th>fighter2_age_at_fight</th>\n",
       "    </tr>\n",
       "  </thead>\n",
       "  <tbody>\n",
       "    <tr>\n",
       "      <th>0</th>\n",
       "      <td>2018-11-17</td>\n",
       "      <td>Santiago Ponzinibbio</td>\n",
       "      <td>Neil Magny</td>\n",
       "      <td>1</td>\n",
       "      <td>0</td>\n",
       "      <td>28</td>\n",
       "      <td>3</td>\n",
       "      <td>31</td>\n",
       "      <td>0.90</td>\n",
       "      <td>72.0</td>\n",
       "      <td>...</td>\n",
       "      <td>3.86</td>\n",
       "      <td>46</td>\n",
       "      <td>2.22</td>\n",
       "      <td>56</td>\n",
       "      <td>2.62</td>\n",
       "      <td>46</td>\n",
       "      <td>60</td>\n",
       "      <td>0.3</td>\n",
       "      <td>32.0</td>\n",
       "      <td>31.0</td>\n",
       "    </tr>\n",
       "    <tr>\n",
       "      <th>1</th>\n",
       "      <td>2018-11-17</td>\n",
       "      <td>Darren Elkins</td>\n",
       "      <td>Ricardo Lamas</td>\n",
       "      <td>0</td>\n",
       "      <td>0</td>\n",
       "      <td>25</td>\n",
       "      <td>7</td>\n",
       "      <td>32</td>\n",
       "      <td>0.78</td>\n",
       "      <td>70.0</td>\n",
       "      <td>...</td>\n",
       "      <td>2.87</td>\n",
       "      <td>45</td>\n",
       "      <td>2.61</td>\n",
       "      <td>59</td>\n",
       "      <td>1.66</td>\n",
       "      <td>32</td>\n",
       "      <td>47</td>\n",
       "      <td>1.0</td>\n",
       "      <td>34.0</td>\n",
       "      <td>36.0</td>\n",
       "    </tr>\n",
       "  </tbody>\n",
       "</table>\n",
       "<p>2 rows × 45 columns</p>\n",
       "</div>"
      ],
      "text/plain": [
       "         date              fighter1       fighter2  winner_is_fighter1  \\\n",
       "0  2018-11-17  Santiago Ponzinibbio     Neil Magny                   1   \n",
       "1  2018-11-17         Darren Elkins  Ricardo Lamas                   0   \n",
       "\n",
       "   title_fight  fighter1_win  fighter1_lose  fighter1_total_bouts  \\\n",
       "0            0            28              3                    31   \n",
       "1            0            25              7                    32   \n",
       "\n",
       "   fighter1_win_rate  fighter1_height_inches          ...            \\\n",
       "0               0.90                    72.0          ...             \n",
       "1               0.78                    70.0          ...             \n",
       "\n",
       "   fighter2_slpm  fighter2_str_acc  fighter2_sapm  fighter2_str_def  \\\n",
       "0           3.86                46           2.22                56   \n",
       "1           2.87                45           2.61                59   \n",
       "\n",
       "   fighter2_td_avg  fighter2_td_acc  fighter2_td_def  fighter2_sub_avg  \\\n",
       "0             2.62               46               60               0.3   \n",
       "1             1.66               32               47               1.0   \n",
       "\n",
       "   fighter1_age_at_fight  fighter2_age_at_fight  \n",
       "0                   32.0                   31.0  \n",
       "1                   34.0                   36.0  \n",
       "\n",
       "[2 rows x 45 columns]"
      ]
     },
     "execution_count": 219,
     "metadata": {},
     "output_type": "execute_result"
    }
   ],
   "source": [
    "data.head(2)"
   ]
  },
  {
   "cell_type": "code",
   "execution_count": 78,
   "metadata": {
    "ExecuteTime": {
     "end_time": "2019-07-30T02:11:05.679890Z",
     "start_time": "2019-07-30T02:11:05.620380Z"
    },
    "scrolled": true
   },
   "outputs": [
    {
     "data": {
      "text/html": [
       "<div>\n",
       "<style scoped>\n",
       "    .dataframe tbody tr th:only-of-type {\n",
       "        vertical-align: middle;\n",
       "    }\n",
       "\n",
       "    .dataframe tbody tr th {\n",
       "        vertical-align: top;\n",
       "    }\n",
       "\n",
       "    .dataframe thead th {\n",
       "        text-align: right;\n",
       "    }\n",
       "</style>\n",
       "<table border=\"1\" class=\"dataframe\">\n",
       "  <thead>\n",
       "    <tr style=\"text-align: right;\">\n",
       "      <th></th>\n",
       "      <th>name</th>\n",
       "      <th>dob</th>\n",
       "      <th>age_today</th>\n",
       "      <th>win</th>\n",
       "      <th>lose</th>\n",
       "      <th>draw</th>\n",
       "      <th>total_bouts</th>\n",
       "      <th>win_rate</th>\n",
       "      <th>height_inches</th>\n",
       "      <th>reach</th>\n",
       "      <th>...</th>\n",
       "      <th>stance_southpaw</th>\n",
       "      <th>stance_switch</th>\n",
       "      <th>slpm</th>\n",
       "      <th>str_acc</th>\n",
       "      <th>sapm</th>\n",
       "      <th>str_def</th>\n",
       "      <th>td_avg</th>\n",
       "      <th>td_acc</th>\n",
       "      <th>td_def</th>\n",
       "      <th>sub_avg</th>\n",
       "    </tr>\n",
       "  </thead>\n",
       "  <tbody>\n",
       "    <tr>\n",
       "      <th>0</th>\n",
       "      <td>Luciano Azevedo</td>\n",
       "      <td>1981-06-25</td>\n",
       "      <td>38.0</td>\n",
       "      <td>16</td>\n",
       "      <td>9</td>\n",
       "      <td>1</td>\n",
       "      <td>25</td>\n",
       "      <td>0.64</td>\n",
       "      <td>75.0</td>\n",
       "      <td>72.0</td>\n",
       "      <td>...</td>\n",
       "      <td>0</td>\n",
       "      <td>0</td>\n",
       "      <td>0.76</td>\n",
       "      <td>45</td>\n",
       "      <td>1.97</td>\n",
       "      <td>27</td>\n",
       "      <td>2.28</td>\n",
       "      <td>11</td>\n",
       "      <td>0</td>\n",
       "      <td>0.0</td>\n",
       "    </tr>\n",
       "    <tr>\n",
       "      <th>1</th>\n",
       "      <td>Gleidson Cutis</td>\n",
       "      <td>1989-02-07</td>\n",
       "      <td>30.0</td>\n",
       "      <td>7</td>\n",
       "      <td>3</td>\n",
       "      <td>0</td>\n",
       "      <td>10</td>\n",
       "      <td>0.70</td>\n",
       "      <td>69.0</td>\n",
       "      <td>72.0</td>\n",
       "      <td>...</td>\n",
       "      <td>0</td>\n",
       "      <td>0</td>\n",
       "      <td>2.99</td>\n",
       "      <td>52</td>\n",
       "      <td>8.28</td>\n",
       "      <td>59</td>\n",
       "      <td>0.00</td>\n",
       "      <td>0</td>\n",
       "      <td>0</td>\n",
       "      <td>0.0</td>\n",
       "    </tr>\n",
       "  </tbody>\n",
       "</table>\n",
       "<p>2 rows × 23 columns</p>\n",
       "</div>"
      ],
      "text/plain": [
       "              name         dob  age_today  win  lose  draw  total_bouts  \\\n",
       "0  Luciano Azevedo  1981-06-25       38.0   16     9     1           25   \n",
       "1   Gleidson Cutis  1989-02-07       30.0    7     3     0           10   \n",
       "\n",
       "   win_rate  height_inches  reach   ...     stance_southpaw  stance_switch  \\\n",
       "0      0.64           75.0   72.0   ...                   0              0   \n",
       "1      0.70           69.0   72.0   ...                   0              0   \n",
       "\n",
       "   slpm  str_acc  sapm  str_def  td_avg  td_acc  td_def  sub_avg  \n",
       "0  0.76       45  1.97       27    2.28      11       0      0.0  \n",
       "1  2.99       52  8.28       59    0.00       0       0      0.0  \n",
       "\n",
       "[2 rows x 23 columns]"
      ]
     },
     "execution_count": 78,
     "metadata": {},
     "output_type": "execute_result"
    }
   ],
   "source": [
    "fighters = pd.read_csv('../data/processed/fighters_cleaned')\n",
    "fighters.head(2)"
   ]
  },
  {
   "cell_type": "code",
   "execution_count": 79,
   "metadata": {
    "ExecuteTime": {
     "end_time": "2019-07-30T02:11:08.546732Z",
     "start_time": "2019-07-30T02:11:08.503767Z"
    }
   },
   "outputs": [
    {
     "data": {
      "text/html": [
       "<div>\n",
       "<style scoped>\n",
       "    .dataframe tbody tr th:only-of-type {\n",
       "        vertical-align: middle;\n",
       "    }\n",
       "\n",
       "    .dataframe tbody tr th {\n",
       "        vertical-align: top;\n",
       "    }\n",
       "\n",
       "    .dataframe thead th {\n",
       "        text-align: right;\n",
       "    }\n",
       "</style>\n",
       "<table border=\"1\" class=\"dataframe\">\n",
       "  <thead>\n",
       "    <tr style=\"text-align: right;\">\n",
       "      <th></th>\n",
       "      <th>date</th>\n",
       "      <th>location</th>\n",
       "      <th>fighter1</th>\n",
       "      <th>fighter2</th>\n",
       "      <th>winner_is_fighter1</th>\n",
       "      <th>title_fight</th>\n",
       "      <th>method_DEC</th>\n",
       "      <th>method_DQ</th>\n",
       "      <th>method_KO/TKO</th>\n",
       "      <th>method_SUB</th>\n",
       "    </tr>\n",
       "  </thead>\n",
       "  <tbody>\n",
       "    <tr>\n",
       "      <th>0</th>\n",
       "      <td>2018-11-17</td>\n",
       "      <td>Argentina</td>\n",
       "      <td>Neil Magny</td>\n",
       "      <td>Santiago Ponzinibbio</td>\n",
       "      <td>0</td>\n",
       "      <td>0</td>\n",
       "      <td>0</td>\n",
       "      <td>0</td>\n",
       "      <td>1</td>\n",
       "      <td>0</td>\n",
       "    </tr>\n",
       "    <tr>\n",
       "      <th>1</th>\n",
       "      <td>2018-11-17</td>\n",
       "      <td>Argentina</td>\n",
       "      <td>Darren Elkins</td>\n",
       "      <td>Ricardo Lamas</td>\n",
       "      <td>0</td>\n",
       "      <td>0</td>\n",
       "      <td>0</td>\n",
       "      <td>0</td>\n",
       "      <td>1</td>\n",
       "      <td>0</td>\n",
       "    </tr>\n",
       "  </tbody>\n",
       "</table>\n",
       "</div>"
      ],
      "text/plain": [
       "         date   location       fighter1              fighter2  \\\n",
       "0  2018-11-17  Argentina     Neil Magny  Santiago Ponzinibbio   \n",
       "1  2018-11-17  Argentina  Darren Elkins         Ricardo Lamas   \n",
       "\n",
       "   winner_is_fighter1  title_fight  method_DEC  method_DQ  method_KO/TKO  \\\n",
       "0                   0            0           0          0              1   \n",
       "1                   0            0           0          0              1   \n",
       "\n",
       "   method_SUB  \n",
       "0           0  \n",
       "1           0  "
      ]
     },
     "execution_count": 79,
     "metadata": {},
     "output_type": "execute_result"
    }
   ],
   "source": [
    "bouts = pd.read_csv('../data/processed/bouts_cleaned')\n",
    "bouts.head(2)"
   ]
  },
  {
   "cell_type": "markdown",
   "metadata": {},
   "source": [
    "# Conclusion"
   ]
  },
  {
   "cell_type": "markdown",
   "metadata": {},
   "source": [
    "## Future Work\n",
    "- Fighter Statistics is not reflective of their statistics at time of fight (i.e. our models are training on fighter statistics that are an aggregate of their career, not up until the time of the fight)\n",
    "    - Data would be needed on every fight a fighter has had in their career, and then a class of fighter could be made and updated with each bout.  \n",
    "- Include a draw outcome.  This would create a multiclass target variable.  Models such as logistic regression would have to be adapted (to One-Vs-All)\n",
    "- Include how the fight was finished as part of prediction (i.e. Submission, KO, Decision)\n",
    "- Ensemble method of average of output probabilities."
   ]
  },
  {
   "cell_type": "code",
   "execution_count": null,
   "metadata": {},
   "outputs": [],
   "source": []
  }
 ],
 "metadata": {
  "kernelspec": {
   "display_name": "Python 3",
   "language": "python",
   "name": "python3"
  },
  "language_info": {
   "codemirror_mode": {
    "name": "ipython",
    "version": 3
   },
   "file_extension": ".py",
   "mimetype": "text/x-python",
   "name": "python",
   "nbconvert_exporter": "python",
   "pygments_lexer": "ipython3",
   "version": "3.6.6"
  },
  "toc": {
   "base_numbering": 1,
   "nav_menu": {},
   "number_sections": true,
   "sideBar": true,
   "skip_h1_title": false,
   "title_cell": "Table of Contents",
   "title_sidebar": "Contents",
   "toc_cell": false,
   "toc_position": {},
   "toc_section_display": true,
   "toc_window_display": false
  },
  "varInspector": {
   "cols": {
    "lenName": 16,
    "lenType": 16,
    "lenVar": 40
   },
   "kernels_config": {
    "python": {
     "delete_cmd_postfix": "",
     "delete_cmd_prefix": "del ",
     "library": "var_list.py",
     "varRefreshCmd": "print(var_dic_list())"
    },
    "r": {
     "delete_cmd_postfix": ") ",
     "delete_cmd_prefix": "rm(",
     "library": "var_list.r",
     "varRefreshCmd": "cat(var_dic_list()) "
    }
   },
   "types_to_exclude": [
    "module",
    "function",
    "builtin_function_or_method",
    "instance",
    "_Feature"
   ],
   "window_display": false
  }
 },
 "nbformat": 4,
 "nbformat_minor": 2
}
