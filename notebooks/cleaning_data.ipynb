{
 "cells": [
  {
   "cell_type": "markdown",
   "metadata": {},
   "source": [
    "# Functions to export"
   ]
  },
  {
   "cell_type": "code",
   "execution_count": 1,
   "metadata": {
    "ExecuteTime": {
     "end_time": "2019-07-31T14:15:29.900336Z",
     "start_time": "2019-07-31T14:15:29.895910Z"
    }
   },
   "outputs": [],
   "source": [
    "def column_distplot(dataframe, column, xlabel=None): \n",
    "    '''Plot the histogram of a column using Seaborn'''\n",
    "    # Set Figure\n",
    "    sns.set(rc={'figure.figsize':(10,5)},style=\"white\", context=\"talk\")\n",
    "\n",
    "    # Plot\n",
    "    column = column\n",
    "    data = dataframe[column][~dataframe[column].isna()]\n",
    "    ax = sns.distplot(data);\n",
    "\n",
    "    # Title and Axis\n",
    "    ax.set_title(\"Histogram of the fighters' {}\".format(column));\n",
    "    if type(xlabel)==str:\n",
    "        ax.set_xlabel(xlabel)\n",
    "    else:\n",
    "        ax.set_xlabel(str(column).capitalize())\n",
    "    sns.despine()\n",
    "    \n",
    "    col_cap = str(column).capitalize()\n",
    "    print(\"{} Skewness: {}\".format(col_cap, round(dataframe[column].skew(), 2)))\n",
    "    print(\"{} Kurtosis: {}\".format(col_cap, round(dataframe[column].kurt(), 2)))\n",
    "    \n",
    "    print('{} Mean: {}'.format(col_cap, round(data.mean(), 2)))\n",
    "    print('{} Median: {}'.format(col_cap, data.median()))"
   ]
  },
  {
   "cell_type": "code",
   "execution_count": null,
   "metadata": {
    "ExecuteTime": {
     "end_time": "2019-07-30T13:54:47.347823Z",
     "start_time": "2019-07-30T13:54:47.344197Z"
    }
   },
   "outputs": [],
   "source": []
  },
  {
   "cell_type": "code",
   "execution_count": 2,
   "metadata": {
    "ExecuteTime": {
     "end_time": "2019-07-31T14:15:29.908606Z",
     "start_time": "2019-07-31T14:15:29.906073Z"
    }
   },
   "outputs": [],
   "source": [
    "def parse_height(height):\n",
    "    '''Splits the height value into feet and inches'''\n",
    "    ht_ = height.split(\" \")\n",
    "    ft_ = float(ht_[0])\n",
    "    in_ = float(ht_[1])\n",
    "    return (12*ft_) + in_"
   ]
  },
  {
   "cell_type": "markdown",
   "metadata": {},
   "source": [
    "## Cleaning fighter_home_country data"
   ]
  },
  {
   "cell_type": "code",
   "execution_count": 3,
   "metadata": {
    "ExecuteTime": {
     "end_time": "2019-07-31T14:15:29.915686Z",
     "start_time": "2019-07-31T14:15:29.912756Z"
    }
   },
   "outputs": [],
   "source": [
    "def generalize_columns(df):\n",
    "    '''Make the column headings lowercase and generalized (remove the B_ and R_)'''\n",
    "    # Make lowercase\n",
    "    df.columns = df.columns.str.lower()\n",
    "    # Split on the _\n",
    "    df_columns = df.columns.str.split(\"_\")\n",
    "    # Take the last word in the inner list\n",
    "    df_columns = [el[-1] for el in df_columns]\n",
    "    # Change the names of columns\n",
    "    df.columns = df_columns\n",
    "    \n",
    "    return df"
   ]
  },
  {
   "cell_type": "code",
   "execution_count": 4,
   "metadata": {
    "ExecuteTime": {
     "end_time": "2019-07-31T14:15:29.923677Z",
     "start_time": "2019-07-31T14:15:29.919494Z"
    }
   },
   "outputs": [],
   "source": [
    "def clean_hometown(data_both_fighters):\n",
    "    '''Cleans up the hometown column and returns the home_country alongside the name'''\n",
    "    # Split the hometown column into \n",
    "    data_both_fighters['hometown'] = data_both_fighters['hometown'].str.split(\" \")\n",
    "\n",
    "    data_both_fighters.dropna(subset=['hometown'], inplace=True)\n",
    "\n",
    "    for row in data_both_fighters['hometown']:\n",
    "        # If the list ends in a space, pop it off\n",
    "        if len(row[-1]) == 0:\n",
    "            row.pop()\n",
    "        # Replace [United, States] with [USA]\n",
    "        if row[-1] == 'States':\n",
    "            row[-1] = 'USA'\n",
    "        # Change 'Michigan' to 'USA'\n",
    "        if row[-1] == 'Michigan':\n",
    "            row[-1] = 'USA'\n",
    "\n",
    "    # Strip out the row to only the last element\n",
    "    data_both_fighters['home_country']=list(map(lambda x: x[-1], data_both_fighters['hometown']))\n",
    "    # Drop the 'hometown column'\n",
    "    data_both_fighters.drop(columns='hometown', axis=1, inplace=True)\n",
    "    \n",
    "    # Reset the index\n",
    "    data_both_fighters.reset_index(drop=True, inplace=True)\n",
    "    \n",
    "    return data_both_fighters"
   ]
  },
  {
   "cell_type": "code",
   "execution_count": 5,
   "metadata": {
    "ExecuteTime": {
     "end_time": "2019-07-31T14:15:29.929045Z",
     "start_time": "2019-07-31T14:15:29.925616Z"
    }
   },
   "outputs": [],
   "source": [
    "def clean_fighter_data(data):\n",
    "    '''Cleans up the dataframe and returns the df with unique fighters names, home_country'''\n",
    "    \n",
    "    # Split dataframe into dataframe for the Blue fighter and another dataframe for the Red fighter\n",
    "    data_b_fighter = data[['B_Name', 'B_HomeTown']]\n",
    "    data_r_fighter = data[['R_Name', 'R_HomeTown']]\n",
    "    \n",
    "    # Change the column headings to lowercase and remove the B_ and R_\n",
    "    [generalize_columns(df) for df in [data_b_fighter, data_r_fighter]]\n",
    "    \n",
    "    # Concatenate the Blue fighters data to the Red fighters data\n",
    "    data_both_fighters = pd.concat([data_b_fighter, data_r_fighter], ignore_index=True)\n",
    "\n",
    "    # Filter the data to only unique names\n",
    "    data_both_fighters.drop_duplicates(subset='name', keep='first', inplace=True)\n",
    "    \n",
    "    clean_hometown(data_both_fighters)\n",
    "    \n",
    "    return data_both_fighters"
   ]
  },
  {
   "cell_type": "code",
   "execution_count": 6,
   "metadata": {
    "ExecuteTime": {
     "end_time": "2019-07-31T14:15:29.934324Z",
     "start_time": "2019-07-31T14:15:29.930785Z"
    }
   },
   "outputs": [],
   "source": [
    "def show_na_cols(dataframe):\n",
    "    if dataframe.isna().sum().any():\n",
    "        print('The columns with na values in the dataframe:')\n",
    "        for column in dataframe.columns:\n",
    "            cols_na = dataframe[column].isna().sum()\n",
    "            if cols_na:\n",
    "                print('\\t{}:\\t'.format(column), cols_na)\n",
    "    else:\n",
    "        print('There are no columns with na values in the dataframe')"
   ]
  },
  {
   "cell_type": "code",
   "execution_count": 7,
   "metadata": {
    "ExecuteTime": {
     "end_time": "2019-07-31T14:15:29.938935Z",
     "start_time": "2019-07-31T14:15:29.936037Z"
    }
   },
   "outputs": [],
   "source": [
    "def calc_age_at_fight(data, new_col_name, fighter_dob, date='date',):\n",
    "    '''Calculate the age of a fighter at the time of the fight, based on their date of birth'''\n",
    "    # Calculate the time difference between 2 dates (in days)\n",
    "    data[new_col_name] = data['date'] - data[fighter_dob]\n",
    "    # Remove the 'days' value in column\n",
    "    data[new_col_name] /= np.timedelta64(1, 'D')\n",
    "    # Convert form days to years\n",
    "    data[new_col_name] //= 365"
   ]
  },
  {
   "cell_type": "code",
   "execution_count": 8,
   "metadata": {
    "ExecuteTime": {
     "end_time": "2019-07-31T14:15:29.943683Z",
     "start_time": "2019-07-31T14:15:29.940582Z"
    },
    "scrolled": true
   },
   "outputs": [],
   "source": [
    "# Doesnt work\n",
    "def drop_bouts_with_no_fighter_stats(data, fighters_data):\n",
    "    '''Take out the bouts where we do not have data on both fighters'''\n",
    "    \n",
    "    original_bout_length = len(data)\n",
    "\n",
    "    # Create a list of all the fighters' names\n",
    "    name_list = fighters_data.index.tolist()\n",
    "\n",
    "    # Create booleans for whether the name in fighter1/figther2 column appears in our list of fighter names\n",
    "    f1_in_name_list = data['fighter1'].isin(name_list)\n",
    "    f2_in_name_list = data['fighter2'].isin(name_list)\n",
    "\n",
    "    # Drop out the rows where at least 1 of names does not appear in our fighter names list\n",
    "    data = data[(f1_in_name_list) & (f2_in_name_list)]\n",
    "\n",
    "    # Print the action we have carried out\n",
    "    new_bout_length = len(data)\n",
    "    print('We have reduced the number of bouts from {} to {}, as we do not have statistics for {} fighters'\n",
    "          .format(original_bout_length, new_bout_length, original_bout_length-new_bout_length))\n",
    "    \n",
    "    return data "
   ]
  },
  {
   "cell_type": "markdown",
   "metadata": {},
   "source": [
    "# EDA & Data Cleaning - [Your Project Name Here]"
   ]
  },
  {
   "cell_type": "markdown",
   "metadata": {},
   "source": [
    "## Local Code Imports - Do not delete"
   ]
  },
  {
   "cell_type": "code",
   "execution_count": 9,
   "metadata": {
    "ExecuteTime": {
     "end_time": "2019-07-31T14:15:29.961934Z",
     "start_time": "2019-07-31T14:15:29.947509Z"
    },
    "tags": [
     "hidecode"
    ]
   },
   "outputs": [],
   "source": [
    "# DO NOT REMOVE THESE\n",
    "%load_ext autoreload\n",
    "%autoreload 2"
   ]
  },
  {
   "cell_type": "code",
   "execution_count": 10,
   "metadata": {
    "ExecuteTime": {
     "end_time": "2019-07-31T14:15:29.986200Z",
     "start_time": "2019-07-31T14:15:29.963407Z"
    }
   },
   "outputs": [],
   "source": [
    "# DO NOT REMOVE This\n",
    "%reload_ext autoreload"
   ]
  },
  {
   "cell_type": "code",
   "execution_count": 11,
   "metadata": {
    "ExecuteTime": {
     "end_time": "2019-07-31T14:15:31.457359Z",
     "start_time": "2019-07-31T14:15:29.987883Z"
    }
   },
   "outputs": [
    {
     "name": "stderr",
     "output_type": "stream",
     "text": [
      "Using TensorFlow backend.\n"
     ]
    }
   ],
   "source": [
    "## DO NOT REMOVE\n",
    "## import local src module -\n",
    "## src in this project will contain all your local code\n",
    "## clean_data.py, model.py, visualize.py, custom.py\n",
    "from src import make_data as mk\n",
    "from src import visualize as viz\n",
    "from src import model as mdl\n",
    "from src import pandas_operators as po\n",
    "from src import custom as cm\n",
    "\n",
    "def test_src():\n",
    "    mk.test_make_data()\n",
    "    viz.test_viz()\n",
    "    mdl.test_model()\n",
    "    po.test_pandas()\n",
    "    \n",
    "    return 1"
   ]
  },
  {
   "cell_type": "code",
   "execution_count": 12,
   "metadata": {
    "ExecuteTime": {
     "end_time": "2019-07-31T14:15:31.489709Z",
     "start_time": "2019-07-31T14:15:31.459002Z"
    }
   },
   "outputs": [
    {
     "name": "stdout",
     "output_type": "stream",
     "text": [
      "In make_data\n",
      "In Visualize\n",
      "In Model\n",
      "In pandas ops\n"
     ]
    },
    {
     "data": {
      "text/plain": [
       "1"
      ]
     },
     "execution_count": 12,
     "metadata": {},
     "output_type": "execute_result"
    }
   ],
   "source": [
    "test_src()"
   ]
  },
  {
   "cell_type": "markdown",
   "metadata": {},
   "source": [
    "## Code Imports"
   ]
  },
  {
   "cell_type": "code",
   "execution_count": 13,
   "metadata": {
    "ExecuteTime": {
     "end_time": "2019-07-31T14:15:31.519330Z",
     "start_time": "2019-07-31T14:15:31.490911Z"
    }
   },
   "outputs": [],
   "source": [
    "# Dataframes\n",
    "import numpy as np\n",
    "import pandas as pd\n",
    "\n",
    "# Visualization\n",
    "import matplotlib.pyplot as plt\n",
    "%matplotlib inline\n",
    "import seaborn as sns\n",
    "\n",
    "# Calculating age of fighters\n",
    "import datetime"
   ]
  },
  {
   "cell_type": "markdown",
   "metadata": {},
   "source": [
    "# Project Overview\n"
   ]
  },
  {
   "cell_type": "markdown",
   "metadata": {},
   "source": [
    "## Background"
   ]
  },
  {
   "cell_type": "markdown",
   "metadata": {},
   "source": [
    "UFC BACKGROUND\n",
    "\n",
    "PROJECT OBJECTIVE"
   ]
  },
  {
   "cell_type": "markdown",
   "metadata": {},
   "source": [
    "# Data Understanding"
   ]
  },
  {
   "cell_type": "markdown",
   "metadata": {},
   "source": [
    "## Bouts Data"
   ]
  },
  {
   "cell_type": "markdown",
   "metadata": {},
   "source": [
    "### Bouts Data  - Description"
   ]
  },
  {
   "cell_type": "markdown",
   "metadata": {},
   "source": [
    "RESERVED FOR BOUTS DATA DESCRIPTION"
   ]
  },
  {
   "cell_type": "markdown",
   "metadata": {},
   "source": [
    "#### Bouts Data - Data Dictionary"
   ]
  },
  {
   "cell_type": "markdown",
   "metadata": {},
   "source": [
    "RESERVED SPACE FOR BOUTS DATA DICTIONARY"
   ]
  },
  {
   "cell_type": "markdown",
   "metadata": {},
   "source": [
    "### Bouts Data - Import and Summary"
   ]
  },
  {
   "cell_type": "code",
   "execution_count": 15,
   "metadata": {
    "ExecuteTime": {
     "end_time": "2019-07-31T14:15:31.605005Z",
     "start_time": "2019-07-31T14:15:31.549963Z"
    }
   },
   "outputs": [
    {
     "data": {
      "text/html": [
       "<div>\n",
       "<style scoped>\n",
       "    .dataframe tbody tr th:only-of-type {\n",
       "        vertical-align: middle;\n",
       "    }\n",
       "\n",
       "    .dataframe tbody tr th {\n",
       "        vertical-align: top;\n",
       "    }\n",
       "\n",
       "    .dataframe thead th {\n",
       "        text-align: right;\n",
       "    }\n",
       "</style>\n",
       "<table border=\"1\" class=\"dataframe\">\n",
       "  <thead>\n",
       "    <tr style=\"text-align: right;\">\n",
       "      <th></th>\n",
       "      <th>bout_id</th>\n",
       "      <th>event_name</th>\n",
       "      <th>date</th>\n",
       "      <th>location</th>\n",
       "      <th>attendance</th>\n",
       "      <th>result</th>\n",
       "      <th>fighter1</th>\n",
       "      <th>fighter2</th>\n",
       "      <th>winner</th>\n",
       "      <th>weight_class</th>\n",
       "      <th>title_fight</th>\n",
       "      <th>method</th>\n",
       "      <th>end_round</th>\n",
       "      <th>end_time</th>\n",
       "    </tr>\n",
       "  </thead>\n",
       "  <tbody>\n",
       "    <tr>\n",
       "      <th>0</th>\n",
       "      <td>1</td>\n",
       "      <td>UFC Fight Night: Magny vs. Ponzinibbio</td>\n",
       "      <td>2018-11-17</td>\n",
       "      <td>Buenos Aires, Buenos Aires, Argentina</td>\n",
       "      <td>10245.0</td>\n",
       "      <td>win</td>\n",
       "      <td>Santiago Ponzinibbio</td>\n",
       "      <td>Neil Magny</td>\n",
       "      <td>Santiago Ponzinibbio</td>\n",
       "      <td>Welterweight</td>\n",
       "      <td>f</td>\n",
       "      <td>KO/TKO-Punch</td>\n",
       "      <td>4</td>\n",
       "      <td>2:36</td>\n",
       "    </tr>\n",
       "    <tr>\n",
       "      <th>1</th>\n",
       "      <td>2</td>\n",
       "      <td>UFC Fight Night: Magny vs. Ponzinibbio</td>\n",
       "      <td>2018-11-17</td>\n",
       "      <td>Buenos Aires, Buenos Aires, Argentina</td>\n",
       "      <td>10245.0</td>\n",
       "      <td>win</td>\n",
       "      <td>Ricardo Lamas</td>\n",
       "      <td>Darren Elkins</td>\n",
       "      <td>Ricardo Lamas</td>\n",
       "      <td>Featherweight</td>\n",
       "      <td>f</td>\n",
       "      <td>KO/TKO-Elbows</td>\n",
       "      <td>3</td>\n",
       "      <td>4:09</td>\n",
       "    </tr>\n",
       "    <tr>\n",
       "      <th>2</th>\n",
       "      <td>3</td>\n",
       "      <td>UFC Fight Night: Magny vs. Ponzinibbio</td>\n",
       "      <td>2018-11-17</td>\n",
       "      <td>Buenos Aires, Buenos Aires, Argentina</td>\n",
       "      <td>10245.0</td>\n",
       "      <td>win</td>\n",
       "      <td>Johnny Walker</td>\n",
       "      <td>Khalil Rountree Jr.</td>\n",
       "      <td>Johnny Walker</td>\n",
       "      <td>Light Heavyweight</td>\n",
       "      <td>f</td>\n",
       "      <td>KO/TKO-Elbow</td>\n",
       "      <td>1</td>\n",
       "      <td>1:57</td>\n",
       "    </tr>\n",
       "  </tbody>\n",
       "</table>\n",
       "</div>"
      ],
      "text/plain": [
       "   bout_id                              event_name       date  \\\n",
       "0        1  UFC Fight Night: Magny vs. Ponzinibbio 2018-11-17   \n",
       "1        2  UFC Fight Night: Magny vs. Ponzinibbio 2018-11-17   \n",
       "2        3  UFC Fight Night: Magny vs. Ponzinibbio 2018-11-17   \n",
       "\n",
       "                                location  attendance  result  \\\n",
       "0  Buenos Aires, Buenos Aires, Argentina      10245.0    win   \n",
       "1  Buenos Aires, Buenos Aires, Argentina      10245.0    win   \n",
       "2  Buenos Aires, Buenos Aires, Argentina      10245.0    win   \n",
       "\n",
       "               fighter1             fighter2                winner  \\\n",
       "0  Santiago Ponzinibbio           Neil Magny  Santiago Ponzinibbio   \n",
       "1         Ricardo Lamas        Darren Elkins         Ricardo Lamas   \n",
       "2         Johnny Walker  Khalil Rountree Jr.         Johnny Walker   \n",
       "\n",
       "        weight_class title_fight         method  end_round end_time  \n",
       "0       Welterweight           f   KO/TKO-Punch          4     2:36  \n",
       "1      Featherweight           f  KO/TKO-Elbows          3     4:09  \n",
       "2  Light Heavyweight           f   KO/TKO-Elbow          1     1:57  "
      ]
     },
     "execution_count": 15,
     "metadata": {},
     "output_type": "execute_result"
    }
   ],
   "source": [
    "data_bouts = pd.read_csv('../data/raw/ufc_bouts.csv', parse_dates=['date'])\n",
    "data_bouts.head(3)"
   ]
  },
  {
   "cell_type": "code",
   "execution_count": 16,
   "metadata": {
    "ExecuteTime": {
     "end_time": "2019-07-31T14:15:31.635303Z",
     "start_time": "2019-07-31T14:15:31.606679Z"
    }
   },
   "outputs": [
    {
     "name": "stdout",
     "output_type": "stream",
     "text": [
      "DataFrame Shape is (4878, 14)\n",
      "This represents 4878 fights\n"
     ]
    }
   ],
   "source": [
    "print('DataFrame Shape is {}'.format(data_bouts.shape))\n",
    "print('This represents {} fights'.format(data_bouts.shape[0]))"
   ]
  },
  {
   "cell_type": "code",
   "execution_count": 17,
   "metadata": {
    "ExecuteTime": {
     "end_time": "2019-07-31T14:15:31.671360Z",
     "start_time": "2019-07-31T14:15:31.636816Z"
    }
   },
   "outputs": [
    {
     "name": "stdout",
     "output_type": "stream",
     "text": [
      "<class 'pandas.core.frame.DataFrame'>\n",
      "RangeIndex: 4878 entries, 0 to 4877\n",
      "Data columns (total 14 columns):\n",
      "bout_id         4878 non-null int64\n",
      "event_name      4878 non-null object\n",
      "date            4878 non-null datetime64[ns]\n",
      "location        4878 non-null object\n",
      "attendance      4682 non-null float64\n",
      "result          4878 non-null object\n",
      "fighter1        4878 non-null object\n",
      "fighter2        4878 non-null object\n",
      "winner          4796 non-null object\n",
      "weight_class    4878 non-null object\n",
      "title_fight     4878 non-null object\n",
      "method          4878 non-null object\n",
      "end_round       4878 non-null int64\n",
      "end_time        4878 non-null object\n",
      "dtypes: datetime64[ns](1), float64(1), int64(2), object(10)\n",
      "memory usage: 533.6+ KB\n"
     ]
    }
   ],
   "source": [
    "data_bouts.info()"
   ]
  },
  {
   "cell_type": "markdown",
   "metadata": {},
   "source": [
    "### Bouts Data -  Exploration & Cleaning"
   ]
  },
  {
   "cell_type": "code",
   "execution_count": 18,
   "metadata": {
    "ExecuteTime": {
     "end_time": "2019-07-31T14:15:31.706231Z",
     "start_time": "2019-07-31T14:15:31.672754Z"
    }
   },
   "outputs": [
    {
     "name": "stdout",
     "output_type": "stream",
     "text": [
      "Each sample (row) in our bouts data is unique\n"
     ]
    }
   ],
   "source": [
    "if data_bouts.shape[0] == data_bouts['bout_id'].nunique():\n",
    "    print('Each sample (row) in our bouts data is unique')"
   ]
  },
  {
   "cell_type": "markdown",
   "metadata": {},
   "source": [
    "#### Results column - drop nc and draw rows"
   ]
  },
  {
   "cell_type": "code",
   "execution_count": 19,
   "metadata": {
    "ExecuteTime": {
     "end_time": "2019-07-31T14:15:31.738551Z",
     "start_time": "2019-07-31T14:15:31.707704Z"
    },
    "scrolled": true
   },
   "outputs": [
    {
     "data": {
      "text/plain": [
       "win     4796\n",
       "nc        48\n",
       "draw      34\n",
       "Name: result, dtype: int64"
      ]
     },
     "execution_count": 19,
     "metadata": {},
     "output_type": "execute_result"
    }
   ],
   "source": [
    "data_bouts.result.value_counts()"
   ]
  },
  {
   "cell_type": "markdown",
   "metadata": {},
   "source": [
    "- The no contests are either due to illegal moves or failed drugs tests.  \n",
    "- Example below between Nick Diaz and Anderson Silva was a no contest due to Anderson Silva failing a drugs test\n",
    "- https://www.mmamania.com/2015/2/6/7992549/no-contest-anderson-silvas-victory-over-nick-diaz-at-ufc-183"
   ]
  },
  {
   "cell_type": "code",
   "execution_count": 20,
   "metadata": {
    "ExecuteTime": {
     "end_time": "2019-07-31T14:15:31.780829Z",
     "start_time": "2019-07-31T14:15:31.739705Z"
    }
   },
   "outputs": [
    {
     "data": {
      "text/html": [
       "<div>\n",
       "<style scoped>\n",
       "    .dataframe tbody tr th:only-of-type {\n",
       "        vertical-align: middle;\n",
       "    }\n",
       "\n",
       "    .dataframe tbody tr th {\n",
       "        vertical-align: top;\n",
       "    }\n",
       "\n",
       "    .dataframe thead th {\n",
       "        text-align: right;\n",
       "    }\n",
       "</style>\n",
       "<table border=\"1\" class=\"dataframe\">\n",
       "  <thead>\n",
       "    <tr style=\"text-align: right;\">\n",
       "      <th></th>\n",
       "      <th>bout_id</th>\n",
       "      <th>event_name</th>\n",
       "      <th>date</th>\n",
       "      <th>location</th>\n",
       "      <th>attendance</th>\n",
       "      <th>result</th>\n",
       "      <th>fighter1</th>\n",
       "      <th>fighter2</th>\n",
       "      <th>winner</th>\n",
       "      <th>weight_class</th>\n",
       "      <th>title_fight</th>\n",
       "      <th>method</th>\n",
       "      <th>end_round</th>\n",
       "      <th>end_time</th>\n",
       "    </tr>\n",
       "  </thead>\n",
       "  <tbody>\n",
       "    <tr>\n",
       "      <th>3300</th>\n",
       "      <td>3301</td>\n",
       "      <td>UFC 183: Silva vs Diaz</td>\n",
       "      <td>2015-01-31</td>\n",
       "      <td>Las Vegas, Nevada, USA</td>\n",
       "      <td>13114.0</td>\n",
       "      <td>nc</td>\n",
       "      <td>Anderson Silva</td>\n",
       "      <td>Nick Diaz</td>\n",
       "      <td>NaN</td>\n",
       "      <td>Middleweight</td>\n",
       "      <td>f</td>\n",
       "      <td>Overturned</td>\n",
       "      <td>5</td>\n",
       "      <td>5:00</td>\n",
       "    </tr>\n",
       "  </tbody>\n",
       "</table>\n",
       "</div>"
      ],
      "text/plain": [
       "      bout_id              event_name       date                location  \\\n",
       "3300     3301  UFC 183: Silva vs Diaz 2015-01-31  Las Vegas, Nevada, USA   \n",
       "\n",
       "      attendance  result        fighter1   fighter2 winner  weight_class  \\\n",
       "3300      13114.0     nc  Anderson Silva  Nick Diaz    NaN  Middleweight   \n",
       "\n",
       "     title_fight      method  end_round end_time  \n",
       "3300           f  Overturned          5     5:00  "
      ]
     },
     "execution_count": 20,
     "metadata": {},
     "output_type": "execute_result"
    }
   ],
   "source": [
    "# Example of no contest between Nick Diaz and Anderson Silva\n",
    "bout_nc = data_bouts['result']=='nc'\n",
    "bout_anderson_silva = data_bouts['fighter1']=='Anderson Silva'\n",
    "data_bouts[(bout_nc) & (bout_anderson_silva)]"
   ]
  },
  {
   "cell_type": "code",
   "execution_count": 21,
   "metadata": {
    "ExecuteTime": {
     "end_time": "2019-07-31T14:15:31.818065Z",
     "start_time": "2019-07-31T14:15:31.782048Z"
    }
   },
   "outputs": [
    {
     "name": "stdout",
     "output_type": "stream",
     "text": [
      "Result Column Value Counts:\n",
      " win     4796\n",
      "nc        48\n",
      "draw      34\n",
      "Name: result, dtype: int64 \n",
      "\n",
      "Result Column Value Counts After Dropping nc AND draw:\n",
      " win    4796\n",
      "Name: result, dtype: int64\n"
     ]
    }
   ],
   "source": [
    "print('Result Column Value Counts:\\n', data_bouts.result.value_counts(), '\\n')\n",
    "\n",
    "# Drop NC rows as they dont help us predict the outcome\n",
    "data_bouts = data_bouts[data_bouts['result']!='nc']\n",
    "\n",
    "# drop the draw rows for now, so that we have a binary outcome of win or lose\n",
    "data_bouts = data_bouts[data_bouts['result']!='draw']\n",
    "\n",
    "print('Result Column Value Counts After Dropping nc AND draw:\\n', data_bouts.result.value_counts())"
   ]
  },
  {
   "cell_type": "markdown",
   "metadata": {},
   "source": [
    "#### Location column - shorten"
   ]
  },
  {
   "cell_type": "code",
   "execution_count": 22,
   "metadata": {
    "ExecuteTime": {
     "end_time": "2019-07-31T14:15:31.926433Z",
     "start_time": "2019-07-31T14:15:31.820093Z"
    }
   },
   "outputs": [
    {
     "data": {
      "text/html": [
       "<div>\n",
       "<style scoped>\n",
       "    .dataframe tbody tr th:only-of-type {\n",
       "        vertical-align: middle;\n",
       "    }\n",
       "\n",
       "    .dataframe tbody tr th {\n",
       "        vertical-align: top;\n",
       "    }\n",
       "\n",
       "    .dataframe thead th {\n",
       "        text-align: right;\n",
       "    }\n",
       "</style>\n",
       "<table border=\"1\" class=\"dataframe\">\n",
       "  <thead>\n",
       "    <tr style=\"text-align: right;\">\n",
       "      <th></th>\n",
       "      <th>bout_id</th>\n",
       "      <th>event_name</th>\n",
       "      <th>date</th>\n",
       "      <th>location</th>\n",
       "      <th>attendance</th>\n",
       "      <th>result</th>\n",
       "      <th>fighter1</th>\n",
       "      <th>fighter2</th>\n",
       "      <th>winner</th>\n",
       "      <th>weight_class</th>\n",
       "      <th>title_fight</th>\n",
       "      <th>method</th>\n",
       "      <th>end_round</th>\n",
       "      <th>end_time</th>\n",
       "    </tr>\n",
       "  </thead>\n",
       "  <tbody>\n",
       "    <tr>\n",
       "      <th>0</th>\n",
       "      <td>1</td>\n",
       "      <td>UFC Fight Night: Magny vs. Ponzinibbio</td>\n",
       "      <td>2018-11-17</td>\n",
       "      <td>Argentina</td>\n",
       "      <td>10245.0</td>\n",
       "      <td>win</td>\n",
       "      <td>Santiago Ponzinibbio</td>\n",
       "      <td>Neil Magny</td>\n",
       "      <td>Santiago Ponzinibbio</td>\n",
       "      <td>Welterweight</td>\n",
       "      <td>f</td>\n",
       "      <td>KO/TKO-Punch</td>\n",
       "      <td>4</td>\n",
       "      <td>2:36</td>\n",
       "    </tr>\n",
       "    <tr>\n",
       "      <th>1</th>\n",
       "      <td>2</td>\n",
       "      <td>UFC Fight Night: Magny vs. Ponzinibbio</td>\n",
       "      <td>2018-11-17</td>\n",
       "      <td>Argentina</td>\n",
       "      <td>10245.0</td>\n",
       "      <td>win</td>\n",
       "      <td>Ricardo Lamas</td>\n",
       "      <td>Darren Elkins</td>\n",
       "      <td>Ricardo Lamas</td>\n",
       "      <td>Featherweight</td>\n",
       "      <td>f</td>\n",
       "      <td>KO/TKO-Elbows</td>\n",
       "      <td>3</td>\n",
       "      <td>4:09</td>\n",
       "    </tr>\n",
       "  </tbody>\n",
       "</table>\n",
       "</div>"
      ],
      "text/plain": [
       "   bout_id                              event_name       date   location  \\\n",
       "0        1  UFC Fight Night: Magny vs. Ponzinibbio 2018-11-17  Argentina   \n",
       "1        2  UFC Fight Night: Magny vs. Ponzinibbio 2018-11-17  Argentina   \n",
       "\n",
       "   attendance  result              fighter1       fighter2  \\\n",
       "0      10245.0    win  Santiago Ponzinibbio     Neil Magny   \n",
       "1      10245.0    win         Ricardo Lamas  Darren Elkins   \n",
       "\n",
       "                 winner   weight_class title_fight         method  end_round  \\\n",
       "0  Santiago Ponzinibbio   Welterweight           f   KO/TKO-Punch          4   \n",
       "1         Ricardo Lamas  Featherweight           f  KO/TKO-Elbows          3   \n",
       "\n",
       "  end_time  \n",
       "0     2:36  \n",
       "1     4:09  "
      ]
     },
     "execution_count": 22,
     "metadata": {},
     "output_type": "execute_result"
    }
   ],
   "source": [
    "# Strip the location column down to only the country\n",
    "data_bouts['location'] = data_bouts['location'].str.split(\" \").str.get(-1)\n",
    "# Rename the location column to bout_location\n",
    "data_bouts.rename({'location': 'bout_location'}, inplace=True)\n",
    "\n",
    "data_bouts.head(2)"
   ]
  },
  {
   "cell_type": "markdown",
   "metadata": {},
   "source": [
    "#### Method column - Reduce number of categories & Dummy code"
   ]
  },
  {
   "cell_type": "code",
   "execution_count": 23,
   "metadata": {
    "ExecuteTime": {
     "end_time": "2019-07-31T14:15:31.971377Z",
     "start_time": "2019-07-31T14:15:31.928134Z"
    }
   },
   "outputs": [
    {
     "name": "stdout",
     "output_type": "stream",
     "text": [
      "- There were originally 44 categories of win method\n",
      "\n",
      "- Now there are only 4 categories of win method: \n",
      "DEC       2106\n",
      "KO/TKO    1645\n",
      "SUB       1031\n",
      "DQ          14\n",
      "Name: method, dtype: int64\n"
     ]
    }
   ],
   "source": [
    "print('- There were originally {} categories of win method\\n'.format(data_bouts.method.value_counts().count()))\n",
    "\n",
    "# Reduce the categories down\n",
    "data_bouts['method'] = data_bouts['method'].str.split(\"-\").str.get(0)\n",
    "\n",
    "print('- Now there are only {} categories of win method: \\n{}'.format(data_bouts.method.value_counts().count(), data_bouts.method.value_counts()))"
   ]
  },
  {
   "cell_type": "code",
   "execution_count": 24,
   "metadata": {
    "ExecuteTime": {
     "end_time": "2019-07-31T14:15:32.017616Z",
     "start_time": "2019-07-31T14:15:31.972562Z"
    }
   },
   "outputs": [
    {
     "data": {
      "text/html": [
       "<div>\n",
       "<style scoped>\n",
       "    .dataframe tbody tr th:only-of-type {\n",
       "        vertical-align: middle;\n",
       "    }\n",
       "\n",
       "    .dataframe tbody tr th {\n",
       "        vertical-align: top;\n",
       "    }\n",
       "\n",
       "    .dataframe thead th {\n",
       "        text-align: right;\n",
       "    }\n",
       "</style>\n",
       "<table border=\"1\" class=\"dataframe\">\n",
       "  <thead>\n",
       "    <tr style=\"text-align: right;\">\n",
       "      <th></th>\n",
       "      <th>bout_id</th>\n",
       "      <th>event_name</th>\n",
       "      <th>date</th>\n",
       "      <th>location</th>\n",
       "      <th>attendance</th>\n",
       "      <th>result</th>\n",
       "      <th>fighter1</th>\n",
       "      <th>fighter2</th>\n",
       "      <th>winner</th>\n",
       "      <th>weight_class</th>\n",
       "      <th>title_fight</th>\n",
       "      <th>end_round</th>\n",
       "      <th>end_time</th>\n",
       "      <th>method_DEC</th>\n",
       "      <th>method_DQ</th>\n",
       "      <th>method_KO/TKO</th>\n",
       "      <th>method_SUB</th>\n",
       "    </tr>\n",
       "  </thead>\n",
       "  <tbody>\n",
       "    <tr>\n",
       "      <th>0</th>\n",
       "      <td>1</td>\n",
       "      <td>UFC Fight Night: Magny vs. Ponzinibbio</td>\n",
       "      <td>2018-11-17</td>\n",
       "      <td>Argentina</td>\n",
       "      <td>10245.0</td>\n",
       "      <td>win</td>\n",
       "      <td>Santiago Ponzinibbio</td>\n",
       "      <td>Neil Magny</td>\n",
       "      <td>Santiago Ponzinibbio</td>\n",
       "      <td>Welterweight</td>\n",
       "      <td>f</td>\n",
       "      <td>4</td>\n",
       "      <td>2:36</td>\n",
       "      <td>0</td>\n",
       "      <td>0</td>\n",
       "      <td>1</td>\n",
       "      <td>0</td>\n",
       "    </tr>\n",
       "    <tr>\n",
       "      <th>1</th>\n",
       "      <td>2</td>\n",
       "      <td>UFC Fight Night: Magny vs. Ponzinibbio</td>\n",
       "      <td>2018-11-17</td>\n",
       "      <td>Argentina</td>\n",
       "      <td>10245.0</td>\n",
       "      <td>win</td>\n",
       "      <td>Ricardo Lamas</td>\n",
       "      <td>Darren Elkins</td>\n",
       "      <td>Ricardo Lamas</td>\n",
       "      <td>Featherweight</td>\n",
       "      <td>f</td>\n",
       "      <td>3</td>\n",
       "      <td>4:09</td>\n",
       "      <td>0</td>\n",
       "      <td>0</td>\n",
       "      <td>1</td>\n",
       "      <td>0</td>\n",
       "    </tr>\n",
       "  </tbody>\n",
       "</table>\n",
       "</div>"
      ],
      "text/plain": [
       "   bout_id                              event_name       date   location  \\\n",
       "0        1  UFC Fight Night: Magny vs. Ponzinibbio 2018-11-17  Argentina   \n",
       "1        2  UFC Fight Night: Magny vs. Ponzinibbio 2018-11-17  Argentina   \n",
       "\n",
       "   attendance  result              fighter1       fighter2  \\\n",
       "0      10245.0    win  Santiago Ponzinibbio     Neil Magny   \n",
       "1      10245.0    win         Ricardo Lamas  Darren Elkins   \n",
       "\n",
       "                 winner   weight_class title_fight  end_round end_time  \\\n",
       "0  Santiago Ponzinibbio   Welterweight           f          4     2:36   \n",
       "1         Ricardo Lamas  Featherweight           f          3     4:09   \n",
       "\n",
       "   method_DEC  method_DQ  method_KO/TKO  method_SUB  \n",
       "0           0          0              1           0  \n",
       "1           0          0              1           0  "
      ]
     },
     "execution_count": 24,
     "metadata": {},
     "output_type": "execute_result"
    }
   ],
   "source": [
    "bout_methods = pd.get_dummies(data_bouts['method'], prefix='method', prefix_sep='_')\n",
    "data_bouts = pd.concat([data_bouts, bout_methods], axis=1)\n",
    "data_bouts.drop(columns='method', inplace=True)\n",
    "data_bouts.head(2)"
   ]
  },
  {
   "cell_type": "markdown",
   "metadata": {},
   "source": [
    "#### Shuffle the fighter1 and fighter2"
   ]
  },
  {
   "cell_type": "code",
   "execution_count": 25,
   "metadata": {
    "ExecuteTime": {
     "end_time": "2019-07-31T14:15:32.047782Z",
     "start_time": "2019-07-31T14:15:32.018744Z"
    },
    "scrolled": true
   },
   "outputs": [
    {
     "name": "stdout",
     "output_type": "stream",
     "text": [
      "The wiiner is always fighter1.  We need to randomize the winner between fighter1 and fighter2\n"
     ]
    }
   ],
   "source": [
    "fighter1_is_winner = data_bouts['fighter1'].equals(data_bouts['winner'])\n",
    "if fighter1_is_winner:\n",
    "    print('The wiiner is always fighter1.  We need to randomize the winner between fighter1 and fighter2')"
   ]
  },
  {
   "cell_type": "code",
   "execution_count": 26,
   "metadata": {
    "ExecuteTime": {
     "end_time": "2019-07-31T14:15:32.081066Z",
     "start_time": "2019-07-31T14:15:32.049144Z"
    }
   },
   "outputs": [],
   "source": [
    "# Randomly choose half of the observations to swap its fighter1 value with its fighter2 value\n",
    "bout_rows_to_shuffle = np.random.choice(len(data_bouts), size=len(data_bouts) // 2, replace=False)\n",
    "\n",
    "# Column location of fighter1 and fighter2\n",
    "f1_loc = data_bouts.columns.get_loc('fighter1')\n",
    "f2_loc = data_bouts.columns.get_loc('fighter2')\n",
    "\n",
    "# Swap the values\n",
    "data_bouts.iloc[bout_rows_to_shuffle, [f1_loc, f2_loc]] = data_bouts.iloc[bout_rows_to_shuffle, [f2_loc, f1_loc]].values"
   ]
  },
  {
   "cell_type": "markdown",
   "metadata": {},
   "source": [
    "#### title_fight column to binary"
   ]
  },
  {
   "cell_type": "code",
   "execution_count": 27,
   "metadata": {
    "ExecuteTime": {
     "end_time": "2019-07-31T14:15:32.110892Z",
     "start_time": "2019-07-31T14:15:32.082059Z"
    }
   },
   "outputs": [],
   "source": [
    "data_bouts['title_fight'] = data_bouts['title_fight'] == 't'\n",
    "data_bouts['title_fight'] = data_bouts['title_fight'].astype(int)"
   ]
  },
  {
   "cell_type": "markdown",
   "metadata": {},
   "source": [
    "#### winner column to binary"
   ]
  },
  {
   "cell_type": "markdown",
   "metadata": {},
   "source": [
    "- To avoid the confusion of a value of 0 meaning fighter1 wins, and value of 1 meaning fighter2 wins, we need to change the winner column name"
   ]
  },
  {
   "cell_type": "code",
   "execution_count": 28,
   "metadata": {
    "ExecuteTime": {
     "end_time": "2019-07-31T14:15:32.146036Z",
     "start_time": "2019-07-31T14:15:32.111940Z"
    },
    "scrolled": false
   },
   "outputs": [],
   "source": [
    "# Change winner column name\n",
    "data_bouts.rename(index=str, columns={'winner': 'winner_is_fighter1'}, inplace=True)\n",
    "\n",
    "# Change to binary\n",
    "data_bouts.winner_is_fighter1 = data_bouts.winner_is_fighter1==data_bouts.fighter1\n",
    "data_bouts.winner_is_fighter1 = data_bouts.winner_is_fighter1*1"
   ]
  },
  {
   "cell_type": "markdown",
   "metadata": {},
   "source": [
    "#### Keep only useful columns"
   ]
  },
  {
   "cell_type": "code",
   "execution_count": 29,
   "metadata": {
    "ExecuteTime": {
     "end_time": "2019-07-31T14:15:32.186440Z",
     "start_time": "2019-07-31T14:15:32.147052Z"
    }
   },
   "outputs": [
    {
     "data": {
      "text/html": [
       "<div>\n",
       "<style scoped>\n",
       "    .dataframe tbody tr th:only-of-type {\n",
       "        vertical-align: middle;\n",
       "    }\n",
       "\n",
       "    .dataframe tbody tr th {\n",
       "        vertical-align: top;\n",
       "    }\n",
       "\n",
       "    .dataframe thead th {\n",
       "        text-align: right;\n",
       "    }\n",
       "</style>\n",
       "<table border=\"1\" class=\"dataframe\">\n",
       "  <thead>\n",
       "    <tr style=\"text-align: right;\">\n",
       "      <th></th>\n",
       "      <th>date</th>\n",
       "      <th>location</th>\n",
       "      <th>fighter1</th>\n",
       "      <th>fighter2</th>\n",
       "      <th>winner_is_fighter1</th>\n",
       "      <th>title_fight</th>\n",
       "      <th>method_DEC</th>\n",
       "      <th>method_DQ</th>\n",
       "      <th>method_KO/TKO</th>\n",
       "      <th>method_SUB</th>\n",
       "    </tr>\n",
       "  </thead>\n",
       "  <tbody>\n",
       "    <tr>\n",
       "      <th>0</th>\n",
       "      <td>2018-11-17</td>\n",
       "      <td>Argentina</td>\n",
       "      <td>Neil Magny</td>\n",
       "      <td>Santiago Ponzinibbio</td>\n",
       "      <td>0</td>\n",
       "      <td>0</td>\n",
       "      <td>0</td>\n",
       "      <td>0</td>\n",
       "      <td>1</td>\n",
       "      <td>0</td>\n",
       "    </tr>\n",
       "    <tr>\n",
       "      <th>1</th>\n",
       "      <td>2018-11-17</td>\n",
       "      <td>Argentina</td>\n",
       "      <td>Darren Elkins</td>\n",
       "      <td>Ricardo Lamas</td>\n",
       "      <td>0</td>\n",
       "      <td>0</td>\n",
       "      <td>0</td>\n",
       "      <td>0</td>\n",
       "      <td>1</td>\n",
       "      <td>0</td>\n",
       "    </tr>\n",
       "    <tr>\n",
       "      <th>2</th>\n",
       "      <td>2018-11-17</td>\n",
       "      <td>Argentina</td>\n",
       "      <td>Johnny Walker</td>\n",
       "      <td>Khalil Rountree Jr.</td>\n",
       "      <td>1</td>\n",
       "      <td>0</td>\n",
       "      <td>0</td>\n",
       "      <td>0</td>\n",
       "      <td>1</td>\n",
       "      <td>0</td>\n",
       "    </tr>\n",
       "  </tbody>\n",
       "</table>\n",
       "</div>"
      ],
      "text/plain": [
       "        date   location       fighter1              fighter2  \\\n",
       "0 2018-11-17  Argentina     Neil Magny  Santiago Ponzinibbio   \n",
       "1 2018-11-17  Argentina  Darren Elkins         Ricardo Lamas   \n",
       "2 2018-11-17  Argentina  Johnny Walker   Khalil Rountree Jr.   \n",
       "\n",
       "   winner_is_fighter1  title_fight  method_DEC  method_DQ  method_KO/TKO  \\\n",
       "0                   0            0           0          0              1   \n",
       "1                   0            0           0          0              1   \n",
       "2                   1            0           0          0              1   \n",
       "\n",
       "   method_SUB  \n",
       "0           0  \n",
       "1           0  \n",
       "2           0  "
      ]
     },
     "execution_count": 29,
     "metadata": {},
     "output_type": "execute_result"
    }
   ],
   "source": [
    "cols_to_keep = ['date', 'location', 'fighter1', 'fighter2', 'winner_is_fighter1', 'title_fight', 'method_DEC', 'method_DQ', 'method_KO/TKO', 'method_SUB']\n",
    "data_bouts = data_bouts[cols_to_keep]\n",
    "data_bouts.head(3)"
   ]
  },
  {
   "cell_type": "markdown",
   "metadata": {},
   "source": [
    "#### Reset index"
   ]
  },
  {
   "cell_type": "code",
   "execution_count": 30,
   "metadata": {
    "ExecuteTime": {
     "end_time": "2019-07-31T14:15:32.219894Z",
     "start_time": "2019-07-31T14:15:32.188284Z"
    }
   },
   "outputs": [],
   "source": [
    "data_bouts.reset_index(inplace=True, drop=True)"
   ]
  },
  {
   "cell_type": "markdown",
   "metadata": {},
   "source": [
    "### Save the cleaned bouts df to processed data file"
   ]
  },
  {
   "cell_type": "code",
   "execution_count": 31,
   "metadata": {
    "ExecuteTime": {
     "end_time": "2019-07-31T14:15:32.298087Z",
     "start_time": "2019-07-31T14:15:32.222696Z"
    }
   },
   "outputs": [],
   "source": [
    "data_bouts.to_csv('../data/processed/bouts_cleaned', index=False)"
   ]
  },
  {
   "cell_type": "markdown",
   "metadata": {},
   "source": [
    "- With so many columns, the .info method doesn't give us much insight.  We need to look at different sections of the dataframe individually."
   ]
  },
  {
   "cell_type": "markdown",
   "metadata": {},
   "source": [
    "## Fighters Data"
   ]
  },
  {
   "cell_type": "markdown",
   "metadata": {},
   "source": [
    "### Fighters Data - Description"
   ]
  },
  {
   "cell_type": "markdown",
   "metadata": {},
   "source": [
    "RESERVED FOR FIGHTERS DATA DESCRIPTION"
   ]
  },
  {
   "cell_type": "markdown",
   "metadata": {},
   "source": [
    "#### Fighters Data - Data Dictionary"
   ]
  },
  {
   "cell_type": "markdown",
   "metadata": {},
   "source": [
    "- SLpM - Significant Strikes Landed per Minute\n",
    "- Str_Acc - Significant Striking Accuracy\n",
    "- SApM - Significant Strikes Absorbed per Minute\n",
    "- Str_Def - Significant Strike Defence (the % of opponents strikes that did not land)\n",
    "- TD_Avg - Average Takedowns Landed per 15 minutes\n",
    "- TD_Acc - Takedown Accuracy\n",
    "- TD_Def - Takedown Defense (the % of opponents TD attempts that did not land)\n",
    "- Sub_Avg - Average Submissions Attempted per 15 minutes"
   ]
  },
  {
   "cell_type": "markdown",
   "metadata": {},
   "source": [
    "### Fighters Data - Import and Summary"
   ]
  },
  {
   "cell_type": "code",
   "execution_count": 32,
   "metadata": {
    "ExecuteTime": {
     "end_time": "2019-07-31T14:15:32.595126Z",
     "start_time": "2019-07-31T14:15:32.300117Z"
    }
   },
   "outputs": [
    {
     "data": {
      "text/html": [
       "<div>\n",
       "<style scoped>\n",
       "    .dataframe tbody tr th:only-of-type {\n",
       "        vertical-align: middle;\n",
       "    }\n",
       "\n",
       "    .dataframe tbody tr th {\n",
       "        vertical-align: top;\n",
       "    }\n",
       "\n",
       "    .dataframe thead th {\n",
       "        text-align: right;\n",
       "    }\n",
       "</style>\n",
       "<table border=\"1\" class=\"dataframe\">\n",
       "  <thead>\n",
       "    <tr style=\"text-align: right;\">\n",
       "      <th></th>\n",
       "      <th>fighter_id</th>\n",
       "      <th>name</th>\n",
       "      <th>win</th>\n",
       "      <th>lose</th>\n",
       "      <th>draw</th>\n",
       "      <th>nc</th>\n",
       "      <th>height</th>\n",
       "      <th>weight</th>\n",
       "      <th>reach</th>\n",
       "      <th>stance</th>\n",
       "      <th>dob</th>\n",
       "      <th>SLpM</th>\n",
       "      <th>Str_Acc</th>\n",
       "      <th>SApM</th>\n",
       "      <th>Str_Def</th>\n",
       "      <th>TD_Avg</th>\n",
       "      <th>TD_Acc</th>\n",
       "      <th>TD_Def</th>\n",
       "      <th>Sub_Avg</th>\n",
       "      <th>last_updated</th>\n",
       "    </tr>\n",
       "  </thead>\n",
       "  <tbody>\n",
       "    <tr>\n",
       "      <th>0</th>\n",
       "      <td>1</td>\n",
       "      <td>Luciano Azevedo</td>\n",
       "      <td>16</td>\n",
       "      <td>9</td>\n",
       "      <td>1</td>\n",
       "      <td>0</td>\n",
       "      <td>6' 3\"</td>\n",
       "      <td>161 lbs.</td>\n",
       "      <td>NaN</td>\n",
       "      <td>Orthodox</td>\n",
       "      <td>1981-06-25</td>\n",
       "      <td>0.76</td>\n",
       "      <td>45%</td>\n",
       "      <td>1.97</td>\n",
       "      <td>27%</td>\n",
       "      <td>2.28</td>\n",
       "      <td>11%</td>\n",
       "      <td>0%</td>\n",
       "      <td>0.0</td>\n",
       "      <td>2018-11-21 19:35:04.893952</td>\n",
       "    </tr>\n",
       "    <tr>\n",
       "      <th>1</th>\n",
       "      <td>2</td>\n",
       "      <td>Michael Byrnes</td>\n",
       "      <td>5</td>\n",
       "      <td>2</td>\n",
       "      <td>0</td>\n",
       "      <td>0</td>\n",
       "      <td>5' 11\"</td>\n",
       "      <td>155 lbs.</td>\n",
       "      <td>NaN</td>\n",
       "      <td>NaN</td>\n",
       "      <td>1990-07-17</td>\n",
       "      <td>0.00</td>\n",
       "      <td>0%</td>\n",
       "      <td>0.00</td>\n",
       "      <td>0%</td>\n",
       "      <td>0.00</td>\n",
       "      <td>0%</td>\n",
       "      <td>0%</td>\n",
       "      <td>0.0</td>\n",
       "      <td>2018-11-21 19:35:09.304165</td>\n",
       "    </tr>\n",
       "    <tr>\n",
       "      <th>2</th>\n",
       "      <td>3</td>\n",
       "      <td>Gleidson Cutis</td>\n",
       "      <td>7</td>\n",
       "      <td>3</td>\n",
       "      <td>0</td>\n",
       "      <td>0</td>\n",
       "      <td>5' 9\"</td>\n",
       "      <td>155 lbs.</td>\n",
       "      <td>NaN</td>\n",
       "      <td>Orthodox</td>\n",
       "      <td>1989-02-07</td>\n",
       "      <td>2.99</td>\n",
       "      <td>52%</td>\n",
       "      <td>8.28</td>\n",
       "      <td>59%</td>\n",
       "      <td>0.00</td>\n",
       "      <td>0%</td>\n",
       "      <td>0%</td>\n",
       "      <td>0.0</td>\n",
       "      <td>2018-11-21 19:35:11.211072</td>\n",
       "    </tr>\n",
       "  </tbody>\n",
       "</table>\n",
       "</div>"
      ],
      "text/plain": [
       "   fighter_id             name  win  lose  draw  nc  height    weight reach  \\\n",
       "0           1  Luciano Azevedo   16     9     1   0   6' 3\"  161 lbs.   NaN   \n",
       "1           2   Michael Byrnes    5     2     0   0  5' 11\"  155 lbs.   NaN   \n",
       "2           3   Gleidson Cutis    7     3     0   0   5' 9\"  155 lbs.   NaN   \n",
       "\n",
       "     stance        dob  SLpM Str_Acc  SApM Str_Def  TD_Avg TD_Acc TD_Def  \\\n",
       "0  Orthodox 1981-06-25  0.76     45%  1.97     27%    2.28    11%     0%   \n",
       "1       NaN 1990-07-17  0.00      0%  0.00      0%    0.00     0%     0%   \n",
       "2  Orthodox 1989-02-07  2.99     52%  8.28     59%    0.00     0%     0%   \n",
       "\n",
       "   Sub_Avg                last_updated  \n",
       "0      0.0  2018-11-21 19:35:04.893952  \n",
       "1      0.0  2018-11-21 19:35:09.304165  \n",
       "2      0.0  2018-11-21 19:35:11.211072  "
      ]
     },
     "execution_count": 32,
     "metadata": {},
     "output_type": "execute_result"
    }
   ],
   "source": [
    "data_fighters = pd.read_csv('../data/raw/ufc_fighters.csv', parse_dates=['dob'])\n",
    "data_fighters.head(3)"
   ]
  },
  {
   "cell_type": "code",
   "execution_count": 33,
   "metadata": {
    "ExecuteTime": {
     "end_time": "2019-07-31T14:15:32.624221Z",
     "start_time": "2019-07-31T14:15:32.596162Z"
    }
   },
   "outputs": [
    {
     "name": "stdout",
     "output_type": "stream",
     "text": [
      "DataFrame Shape is (3187, 20)\n",
      "This represents 3187 fighters\n"
     ]
    }
   ],
   "source": [
    "print('DataFrame Shape is {}'.format(data_fighters.shape))\n",
    "print('This represents {} fighters'.format(data_fighters.shape[0]))"
   ]
  },
  {
   "cell_type": "code",
   "execution_count": 34,
   "metadata": {
    "ExecuteTime": {
     "end_time": "2019-07-31T14:15:32.659833Z",
     "start_time": "2019-07-31T14:15:32.625509Z"
    }
   },
   "outputs": [
    {
     "name": "stdout",
     "output_type": "stream",
     "text": [
      "<class 'pandas.core.frame.DataFrame'>\n",
      "RangeIndex: 3187 entries, 0 to 3186\n",
      "Data columns (total 20 columns):\n",
      "fighter_id      3187 non-null int64\n",
      "name            3187 non-null object\n",
      "win             3187 non-null int64\n",
      "lose            3187 non-null int64\n",
      "draw            3187 non-null int64\n",
      "nc              3187 non-null int64\n",
      "height          2928 non-null object\n",
      "weight          3111 non-null object\n",
      "reach           1482 non-null object\n",
      "stance          2360 non-null object\n",
      "dob             2454 non-null datetime64[ns]\n",
      "SLpM            3187 non-null float64\n",
      "Str_Acc         3187 non-null object\n",
      "SApM            3187 non-null float64\n",
      "Str_Def         3187 non-null object\n",
      "TD_Avg          3187 non-null float64\n",
      "TD_Acc          3187 non-null object\n",
      "TD_Def          3187 non-null object\n",
      "Sub_Avg         3187 non-null float64\n",
      "last_updated    3187 non-null object\n",
      "dtypes: datetime64[ns](1), float64(4), int64(5), object(10)\n",
      "memory usage: 498.0+ KB\n"
     ]
    }
   ],
   "source": [
    "data_fighters.info()"
   ]
  },
  {
   "cell_type": "markdown",
   "metadata": {},
   "source": [
    "- We can see that there are few features which should be in a number format, but are shown as objects (in most cases they are strings).\n",
    "    - These features are height, weight, Str_Acc, Str_Def, TD_Acc and TD_Def\n",
    "- We will need to clean these features before we can explore them further"
   ]
  },
  {
   "cell_type": "markdown",
   "metadata": {},
   "source": [
    "### Fighters Data -  Exploration & Cleaning"
   ]
  },
  {
   "cell_type": "markdown",
   "metadata": {},
   "source": [
    "#### Drop % signs"
   ]
  },
  {
   "cell_type": "code",
   "execution_count": 35,
   "metadata": {
    "ExecuteTime": {
     "end_time": "2019-07-31T14:15:32.710009Z",
     "start_time": "2019-07-31T14:15:32.660957Z"
    }
   },
   "outputs": [
    {
     "data": {
      "text/html": [
       "<div>\n",
       "<style scoped>\n",
       "    .dataframe tbody tr th:only-of-type {\n",
       "        vertical-align: middle;\n",
       "    }\n",
       "\n",
       "    .dataframe tbody tr th {\n",
       "        vertical-align: top;\n",
       "    }\n",
       "\n",
       "    .dataframe thead th {\n",
       "        text-align: right;\n",
       "    }\n",
       "</style>\n",
       "<table border=\"1\" class=\"dataframe\">\n",
       "  <thead>\n",
       "    <tr style=\"text-align: right;\">\n",
       "      <th></th>\n",
       "      <th>fighter_id</th>\n",
       "      <th>name</th>\n",
       "      <th>win</th>\n",
       "      <th>lose</th>\n",
       "      <th>draw</th>\n",
       "      <th>nc</th>\n",
       "      <th>height</th>\n",
       "      <th>weight</th>\n",
       "      <th>reach</th>\n",
       "      <th>stance</th>\n",
       "      <th>dob</th>\n",
       "      <th>SLpM</th>\n",
       "      <th>Str_Acc</th>\n",
       "      <th>SApM</th>\n",
       "      <th>Str_Def</th>\n",
       "      <th>TD_Avg</th>\n",
       "      <th>TD_Acc</th>\n",
       "      <th>TD_Def</th>\n",
       "      <th>Sub_Avg</th>\n",
       "      <th>last_updated</th>\n",
       "    </tr>\n",
       "  </thead>\n",
       "  <tbody>\n",
       "    <tr>\n",
       "      <th>0</th>\n",
       "      <td>1</td>\n",
       "      <td>Luciano Azevedo</td>\n",
       "      <td>16</td>\n",
       "      <td>9</td>\n",
       "      <td>1</td>\n",
       "      <td>0</td>\n",
       "      <td>6' 3\"</td>\n",
       "      <td>161 lbs.</td>\n",
       "      <td>NaN</td>\n",
       "      <td>Orthodox</td>\n",
       "      <td>1981-06-25</td>\n",
       "      <td>0.76</td>\n",
       "      <td>45</td>\n",
       "      <td>1.97</td>\n",
       "      <td>27</td>\n",
       "      <td>2.28</td>\n",
       "      <td>11</td>\n",
       "      <td>0</td>\n",
       "      <td>0.0</td>\n",
       "      <td>2018-11-21 19:35:04.893952</td>\n",
       "    </tr>\n",
       "    <tr>\n",
       "      <th>1</th>\n",
       "      <td>2</td>\n",
       "      <td>Michael Byrnes</td>\n",
       "      <td>5</td>\n",
       "      <td>2</td>\n",
       "      <td>0</td>\n",
       "      <td>0</td>\n",
       "      <td>5' 11\"</td>\n",
       "      <td>155 lbs.</td>\n",
       "      <td>NaN</td>\n",
       "      <td>NaN</td>\n",
       "      <td>1990-07-17</td>\n",
       "      <td>0.00</td>\n",
       "      <td>0</td>\n",
       "      <td>0.00</td>\n",
       "      <td>0</td>\n",
       "      <td>0.00</td>\n",
       "      <td>0</td>\n",
       "      <td>0</td>\n",
       "      <td>0.0</td>\n",
       "      <td>2018-11-21 19:35:09.304165</td>\n",
       "    </tr>\n",
       "  </tbody>\n",
       "</table>\n",
       "</div>"
      ],
      "text/plain": [
       "   fighter_id             name  win  lose  draw  nc  height    weight reach  \\\n",
       "0           1  Luciano Azevedo   16     9     1   0   6' 3\"  161 lbs.   NaN   \n",
       "1           2   Michael Byrnes    5     2     0   0  5' 11\"  155 lbs.   NaN   \n",
       "\n",
       "     stance        dob  SLpM Str_Acc  SApM Str_Def  TD_Avg TD_Acc TD_Def  \\\n",
       "0  Orthodox 1981-06-25  0.76      45  1.97      27    2.28     11      0   \n",
       "1       NaN 1990-07-17  0.00       0  0.00       0    0.00      0      0   \n",
       "\n",
       "   Sub_Avg                last_updated  \n",
       "0      0.0  2018-11-21 19:35:04.893952  \n",
       "1      0.0  2018-11-21 19:35:09.304165  "
      ]
     },
     "execution_count": 35,
     "metadata": {},
     "output_type": "execute_result"
    }
   ],
   "source": [
    "pct_cols_to_change = ['Str_Acc', 'Str_Def', 'TD_Acc', 'TD_Def']\n",
    "for col in pct_cols_to_change:\n",
    "    data_fighters[col] = data_fighters[col].str.replace('%','')\n",
    "data_fighters.head(2)"
   ]
  },
  {
   "cell_type": "markdown",
   "metadata": {},
   "source": [
    "#### NaN values"
   ]
  },
  {
   "cell_type": "markdown",
   "metadata": {},
   "source": [
    "Most of the computational tools that we will be using cannot handle missing values, or at the very least produce unpredictable results.  We must therefore address these missing values in our dataset.  We have several options for this\n",
    "- eliminate missing values: This is a very simple method however we may end up removing too many samples, which would make it impossible for our model to distinguish between classes.  \n",
    "- impute missing values: This involves guessing what the values could be using values such as mean, median or even mode."
   ]
  },
  {
   "cell_type": "code",
   "execution_count": 36,
   "metadata": {
    "ExecuteTime": {
     "end_time": "2019-07-31T14:15:32.745597Z",
     "start_time": "2019-07-31T14:15:32.711345Z"
    }
   },
   "outputs": [
    {
     "data": {
      "text/plain": [
       "reach     1705\n",
       "stance     827\n",
       "dob        733\n",
       "height     259\n",
       "weight      76\n",
       "name         0\n",
       "dtype: int64"
      ]
     },
     "execution_count": 36,
     "metadata": {},
     "output_type": "execute_result"
    }
   ],
   "source": [
    "data_fighters.isna().sum().sort_values(ascending=False)[:6]"
   ]
  },
  {
   "cell_type": "markdown",
   "metadata": {},
   "source": [
    "- We will deal with these NaN values further down"
   ]
  },
  {
   "cell_type": "markdown",
   "metadata": {},
   "source": [
    "#### Reach column"
   ]
  },
  {
   "cell_type": "code",
   "execution_count": 37,
   "metadata": {
    "ExecuteTime": {
     "end_time": "2019-07-31T14:15:32.777473Z",
     "start_time": "2019-07-31T14:15:32.746917Z"
    }
   },
   "outputs": [],
   "source": [
    "# Strip the \" sign and convert to type int\n",
    "data_fighters['reach'] = data_fighters['reach'].str.replace('\"','')\n",
    "\n",
    "# Convert from type string, to type float\n",
    "data_fighters['reach'] = data_fighters['reach'].astype(float)"
   ]
  },
  {
   "cell_type": "code",
   "execution_count": 38,
   "metadata": {
    "ExecuteTime": {
     "end_time": "2019-07-31T14:15:32.984804Z",
     "start_time": "2019-07-31T14:15:32.778537Z"
    }
   },
   "outputs": [
    {
     "name": "stdout",
     "output_type": "stream",
     "text": [
      "Reach Skewness: -0.07\n",
      "Reach Kurtosis: -0.2\n",
      "Reach Mean: 71.84\n",
      "Reach Median: 72.0\n"
     ]
    },
    {
     "name": "stderr",
     "output_type": "stream",
     "text": [
      "/anaconda3/envs/ml-ufc-env/lib/python3.6/site-packages/scipy/stats/stats.py:1713: FutureWarning: Using a non-tuple sequence for multidimensional indexing is deprecated; use `arr[tuple(seq)]` instead of `arr[seq]`. In the future this will be interpreted as an array index, `arr[np.array(seq)]`, which will result either in an error or a different result.\n",
      "  return np.add.reduce(sorted[indexer] * weights, axis=axis) / sumval\n"
     ]
    },
    {
     "data": {
      "image/png": "[encoded data removed]",
      "text/plain": [
       "<Figure size 720x360 with 1 Axes>"
      ]
     },
     "metadata": {},
     "output_type": "display_data"
    }
   ],
   "source": [
    "column_distplot(data_fighters, 'reach')"
   ]
  },
  {
   "cell_type": "markdown",
   "metadata": {},
   "source": [
    "- As this reach distribution is approximately normally distributed with no extreme outliers, we will fill the na values with the mean value of reach"
   ]
  },
  {
   "cell_type": "code",
   "execution_count": 39,
   "metadata": {
    "ExecuteTime": {
     "end_time": "2019-07-31T14:15:33.018064Z",
     "start_time": "2019-07-31T14:15:32.986528Z"
    }
   },
   "outputs": [],
   "source": [
    "data_fighters.reach = data_fighters.reach.fillna(round(data_fighters.reach.mean(), 0))"
   ]
  },
  {
   "cell_type": "markdown",
   "metadata": {},
   "source": [
    "#### Stance column"
   ]
  },
  {
   "cell_type": "code",
   "execution_count": 40,
   "metadata": {
    "ExecuteTime": {
     "end_time": "2019-07-31T14:15:33.164066Z",
     "start_time": "2019-07-31T14:15:33.019406Z"
    },
    "scrolled": true
   },
   "outputs": [
    {
     "data": {
      "image/png": "[encoded data removed]",
      "text/plain": [
       "<Figure size 720x360 with 1 Axes>"
      ]
     },
     "metadata": {},
     "output_type": "display_data"
    }
   ],
   "source": [
    "cm.column_countplot(data_fighters, 'stance', show_count=True)"
   ]
  },
  {
   "cell_type": "markdown",
   "metadata": {},
   "source": [
    "- The vast majority of fighters fight in the orthodox stance, so it is easiest to fill the na values with this modal average"
   ]
  },
  {
   "cell_type": "code",
   "execution_count": 41,
   "metadata": {
    "ExecuteTime": {
     "end_time": "2019-07-31T14:15:33.194410Z",
     "start_time": "2019-07-31T14:15:33.165307Z"
    }
   },
   "outputs": [],
   "source": [
    "stance_mode_avg = data_fighters.stance.mode()[0]\n",
    "data_fighters.stance.fillna(stance_mode_avg, inplace=True)"
   ]
  },
  {
   "cell_type": "markdown",
   "metadata": {},
   "source": [
    "#### Dummy code Stance column"
   ]
  },
  {
   "cell_type": "code",
   "execution_count": 42,
   "metadata": {
    "ExecuteTime": {
     "end_time": "2019-07-31T14:15:33.237170Z",
     "start_time": "2019-07-31T14:15:33.195567Z"
    }
   },
   "outputs": [],
   "source": [
    "data_fighters = pd.get_dummies(data=data_fighters, columns=['stance'])\n",
    "# rename so the column heading is 1 word\n",
    "data_fighters.rename(columns = {'stance_Open Stance': 'stance_Open_Stance'}, inplace = True)"
   ]
  },
  {
   "cell_type": "markdown",
   "metadata": {},
   "source": [
    "#### Calc average age to deal with NaN in dob column"
   ]
  },
  {
   "cell_type": "markdown",
   "metadata": {},
   "source": [
    "need to keep one of these tables to easily add it in at the end of cleaning"
   ]
  },
  {
   "cell_type": "code",
   "execution_count": 43,
   "metadata": {
    "ExecuteTime": {
     "end_time": "2019-07-31T14:15:33.269950Z",
     "start_time": "2019-07-31T14:15:33.238618Z"
    }
   },
   "outputs": [
    {
     "name": "stdout",
     "output_type": "stream",
     "text": [
      "30.54% of fighter data of births are missing\n"
     ]
    }
   ],
   "source": [
    "# How many dobs are missing?\n",
    "missing_dobs = data_fighters['dob'].isna().sum() / data_fighters.shape[1]\n",
    "print('{}% of fighter data of births are missing'.format(round(missing_dobs, 2)))"
   ]
  },
  {
   "cell_type": "code",
   "execution_count": null,
   "metadata": {},
   "outputs": [],
   "source": []
  },
  {
   "cell_type": "code",
   "execution_count": 44,
   "metadata": {
    "ExecuteTime": {
     "end_time": "2019-07-31T14:15:33.330365Z",
     "start_time": "2019-07-31T14:15:33.271061Z"
    },
    "scrolled": false
   },
   "outputs": [
    {
     "data": {
      "text/html": [
       "<div>\n",
       "<style scoped>\n",
       "    .dataframe tbody tr th:only-of-type {\n",
       "        vertical-align: middle;\n",
       "    }\n",
       "\n",
       "    .dataframe tbody tr th {\n",
       "        vertical-align: top;\n",
       "    }\n",
       "\n",
       "    .dataframe thead th {\n",
       "        text-align: right;\n",
       "    }\n",
       "</style>\n",
       "<table border=\"1\" class=\"dataframe\">\n",
       "  <thead>\n",
       "    <tr style=\"text-align: right;\">\n",
       "      <th></th>\n",
       "      <th>date</th>\n",
       "      <th>fighter1</th>\n",
       "      <th>fighter2</th>\n",
       "      <th>fighter1_dob</th>\n",
       "      <th>fighter2_dob</th>\n",
       "      <th>fighter1_age</th>\n",
       "      <th>fighter2_age</th>\n",
       "    </tr>\n",
       "  </thead>\n",
       "  <tbody>\n",
       "    <tr>\n",
       "      <th>0</th>\n",
       "      <td>2018-11-17</td>\n",
       "      <td>Neil Magny</td>\n",
       "      <td>Santiago Ponzinibbio</td>\n",
       "      <td>1987-08-03</td>\n",
       "      <td>1986-09-26</td>\n",
       "      <td>31.0</td>\n",
       "      <td>32.0</td>\n",
       "    </tr>\n",
       "    <tr>\n",
       "      <th>1</th>\n",
       "      <td>2017-07-16</td>\n",
       "      <td>Gunnar Nelson</td>\n",
       "      <td>Santiago Ponzinibbio</td>\n",
       "      <td>1988-07-28</td>\n",
       "      <td>1986-09-26</td>\n",
       "      <td>28.0</td>\n",
       "      <td>30.0</td>\n",
       "    </tr>\n",
       "    <tr>\n",
       "      <th>2</th>\n",
       "      <td>2016-04-16</td>\n",
       "      <td>Court McGee</td>\n",
       "      <td>Santiago Ponzinibbio</td>\n",
       "      <td>1984-12-12</td>\n",
       "      <td>1986-09-26</td>\n",
       "      <td>31.0</td>\n",
       "      <td>29.0</td>\n",
       "    </tr>\n",
       "  </tbody>\n",
       "</table>\n",
       "</div>"
      ],
      "text/plain": [
       "        date       fighter1              fighter2 fighter1_dob fighter2_dob  \\\n",
       "0 2018-11-17     Neil Magny  Santiago Ponzinibbio   1987-08-03   1986-09-26   \n",
       "1 2017-07-16  Gunnar Nelson  Santiago Ponzinibbio   1988-07-28   1986-09-26   \n",
       "2 2016-04-16    Court McGee  Santiago Ponzinibbio   1984-12-12   1986-09-26   \n",
       "\n",
       "   fighter1_age  fighter2_age  \n",
       "0          31.0          32.0  \n",
       "1          28.0          30.0  \n",
       "2          31.0          29.0  "
      ]
     },
     "execution_count": 44,
     "metadata": {},
     "output_type": "execute_result"
    }
   ],
   "source": [
    "bouts_dobs = cm.calc_average_age(data_fighters, data_bouts, drop_na=True)\n",
    "bouts_dobs.head(3)"
   ]
  },
  {
   "cell_type": "code",
   "execution_count": 45,
   "metadata": {
    "ExecuteTime": {
     "end_time": "2019-07-31T14:15:33.363423Z",
     "start_time": "2019-07-31T14:15:33.331603Z"
    },
    "scrolled": true
   },
   "outputs": [],
   "source": [
    "# Make 2 lists of ages into 1 list\n",
    "fighter_ages = list(bouts_dobs['fighter1_age']) + list(bouts_dobs['fighter2_age'])"
   ]
  },
  {
   "cell_type": "code",
   "execution_count": 46,
   "metadata": {
    "ExecuteTime": {
     "end_time": "2019-07-31T14:15:33.610520Z",
     "start_time": "2019-07-31T14:15:33.365031Z"
    },
    "scrolled": false
   },
   "outputs": [
    {
     "name": "stdout",
     "output_type": "stream",
     "text": [
      "Fighters' Ages Range from 18 to 51\n",
      "Mean Age: 29.31\n",
      "Median Age: 29.0\n"
     ]
    },
    {
     "data": {
      "image/png": "[encoded data removed]",
      "text/plain": [
       "<Figure size 864x432 with 1 Axes>"
      ]
     },
     "metadata": {},
     "output_type": "display_data"
    }
   ],
   "source": [
    "average_age = cm.plot_sns_displot_ages(fighter_ages,\n",
    "                                       'Age of Fighters',\n",
    "                                       plot_median=True)"
   ]
  },
  {
   "cell_type": "code",
   "execution_count": 47,
   "metadata": {
    "ExecuteTime": {
     "end_time": "2019-07-31T14:15:33.662298Z",
     "start_time": "2019-07-31T14:15:33.611781Z"
    }
   },
   "outputs": [],
   "source": [
    "# Fill NaN age values with median age\n",
    "bouts_dobs = cm.calc_average_age(data_fighters, data_bouts, drop_na=False)\n",
    "median = average_age['median']\n",
    "bouts_dobs.fillna(value={'fighter1_age': median, 'fighter2_age': median}, inplace=True)"
   ]
  },
  {
   "cell_type": "markdown",
   "metadata": {},
   "source": [
    "#### dob column"
   ]
  },
  {
   "cell_type": "code",
   "execution_count": 48,
   "metadata": {
    "ExecuteTime": {
     "end_time": "2019-07-31T14:15:33.695506Z",
     "start_time": "2019-07-31T14:15:33.663696Z"
    }
   },
   "outputs": [],
   "source": [
    "# # Create the year of birth column (dob_year)\n",
    "# data_fighters['dob_year'] = 0\n",
    "# for index, value in enumerate(data_fighters['dob']):\n",
    "#     data_fighters['dob_year'][index] = data_fighters['dob'][index].year\n",
    "    \n",
    "# today = datetime.date.today()\n",
    "\n",
    "# # Fighter's age_today = difference in today's year and their year of birth\n",
    "# data_fighters['age_today'] = today.year - data_fighters.dob_year"
   ]
  },
  {
   "cell_type": "code",
   "execution_count": 49,
   "metadata": {
    "ExecuteTime": {
     "end_time": "2019-07-31T14:15:33.737147Z",
     "start_time": "2019-07-31T14:15:33.696785Z"
    }
   },
   "outputs": [],
   "source": [
    "# column_distplot(data_fighters, 'age_today', xlabel='Age of Fighters Today')"
   ]
  },
  {
   "cell_type": "markdown",
   "metadata": {},
   "source": [
    "- The distribution of fighter ages is fairly normal, but due to the skewness and kurtosis we will choose to use the median age to fill in the NaN values."
   ]
  },
  {
   "cell_type": "code",
   "execution_count": 50,
   "metadata": {
    "ExecuteTime": {
     "end_time": "2019-07-31T14:15:33.772827Z",
     "start_time": "2019-07-31T14:15:33.738280Z"
    }
   },
   "outputs": [],
   "source": [
    "# # Calculate the median date of birth\n",
    "# dates = list(data_fighters.sort_values('dob')['dob'])\n",
    "# median_dob = dates[len(dates)//2]\n",
    "# print('The median date of birth is {}-{}-{}'.format(median_dob.year, median_dob.month, median_dob.day))\n",
    "\n",
    "# # Fill na values with this median date of birth\n",
    "# data_fighters.dob.fillna(median_dob, inplace=True)"
   ]
  },
  {
   "cell_type": "markdown",
   "metadata": {},
   "source": [
    "#### height column"
   ]
  },
  {
   "cell_type": "code",
   "execution_count": 51,
   "metadata": {
    "ExecuteTime": {
     "end_time": "2019-07-31T14:15:33.813655Z",
     "start_time": "2019-07-31T14:15:33.774892Z"
    }
   },
   "outputs": [],
   "source": [
    "# Drop ' and \" signs\n",
    "data_fighters['height'] = data_fighters['height'].str.replace(\"'\",\"\")\n",
    "data_fighters['height'] = data_fighters['height'].str.replace('\"',\"\")"
   ]
  },
  {
   "cell_type": "code",
   "execution_count": 52,
   "metadata": {
    "ExecuteTime": {
     "end_time": "2019-07-31T14:15:33.853281Z",
     "start_time": "2019-07-31T14:15:33.815059Z"
    }
   },
   "outputs": [],
   "source": [
    "# Calculate height in inches based off the feet and inches in height column\n",
    "# Note that we can only perform the operation on columns that are not NaN\n",
    "height_not_na = ~data_fighters['height'].isna()\n",
    "data_fighters['height_inches'] = data_fighters['height'][height_not_na].apply(lambda x: parse_height(x))"
   ]
  },
  {
   "cell_type": "code",
   "execution_count": 53,
   "metadata": {
    "ExecuteTime": {
     "end_time": "2019-07-31T14:15:34.066388Z",
     "start_time": "2019-07-31T14:15:33.854402Z"
    }
   },
   "outputs": [
    {
     "name": "stdout",
     "output_type": "stream",
     "text": [
      "Height_inches Skewness: 0.08\n",
      "Height_inches Kurtosis: 0.32\n",
      "Height_inches Mean: 70.39\n",
      "Height_inches Median: 70.0\n"
     ]
    },
    {
     "name": "stderr",
     "output_type": "stream",
     "text": [
      "/anaconda3/envs/ml-ufc-env/lib/python3.6/site-packages/scipy/stats/stats.py:1713: FutureWarning: Using a non-tuple sequence for multidimensional indexing is deprecated; use `arr[tuple(seq)]` instead of `arr[seq]`. In the future this will be interpreted as an array index, `arr[np.array(seq)]`, which will result either in an error or a different result.\n",
      "  return np.add.reduce(sorted[indexer] * weights, axis=axis) / sumval\n"
     ]
    },
    {
     "data": {
      "image/png": "[encoded data removed]",
      "text/plain": [
       "<Figure size 720x360 with 1 Axes>"
      ]
     },
     "metadata": {},
     "output_type": "display_data"
    }
   ],
   "source": [
    "column_distplot(data_fighters, 'height_inches')"
   ]
  },
  {
   "cell_type": "markdown",
   "metadata": {},
   "source": [
    "- We will use the mean height to fill in NaN values for height"
   ]
  },
  {
   "cell_type": "code",
   "execution_count": 54,
   "metadata": {
    "ExecuteTime": {
     "end_time": "2019-07-31T14:15:34.100538Z",
     "start_time": "2019-07-31T14:15:34.067722Z"
    }
   },
   "outputs": [
    {
     "name": "stdout",
     "output_type": "stream",
     "text": [
      "The mean height of a fighter is 70.4 inches\n"
     ]
    }
   ],
   "source": [
    "height_inches_not_na = data_fighters['height_inches'][~data_fighters['height_inches'].isna()]\n",
    "height_mean = height_inches_not_na.mean()\n",
    "print('The mean height of a fighter is {} inches'.format(round(height_mean, 1)))\n",
    "\n",
    "# Fill na values with this mean height\n",
    "data_fighters.height_inches.fillna(height_mean, inplace=True)"
   ]
  },
  {
   "cell_type": "markdown",
   "metadata": {
    "heading_collapsed": true
   },
   "source": [
    "#### Remove fighters with limited statistics"
   ]
  },
  {
   "cell_type": "code",
   "execution_count": 55,
   "metadata": {
    "ExecuteTime": {
     "end_time": "2019-07-31T14:15:34.141060Z",
     "start_time": "2019-07-31T14:15:34.101598Z"
    },
    "hidden": true
   },
   "outputs": [
    {
     "name": "stdout",
     "output_type": "stream",
     "text": [
      "We have 3187 fighters in our original data.\n",
      "There are 727 fighters that have no statistics for the columns: ['SLpM', 'Str_Acc', 'SApM'].\n",
      "We therefore reduce the number of fighters in our data to 2460.\n"
     ]
    }
   ],
   "source": [
    "# Original number of fighters\n",
    "total_fighters = len(data_fighters)\n",
    "print('We have {} fighters in our original data.'.format(total_fighters))\n",
    "\n",
    "# Fighters with no recorded stats\n",
    "fight_statistics = ['SLpM', 'Str_Acc', 'SApM']\n",
    "no_stat_fighters = len(data_fighters[(data_fighters[fight_statistics]==0).any(axis=1)])\n",
    "print('There are {} fighters that have no statistics for the columns: {}.'.format(no_stat_fighters, fight_statistics))\n",
    "\n",
    "# Reduced dataset size\n",
    "data_fighters = data_fighters[~(data_fighters[fight_statistics]==0).any(axis=1)]\n",
    "stat_fighters = len(data_fighters)\n",
    "print('We therefore reduce the number of fighters in our data to {}.'.format(stat_fighters))\n",
    "\n",
    "# Reset the index\n",
    "data_fighters.reset_index(drop=True, inplace=True)"
   ]
  },
  {
   "cell_type": "markdown",
   "metadata": {
    "heading_collapsed": true
   },
   "source": [
    "#### Check for Duplicate Names"
   ]
  },
  {
   "cell_type": "code",
   "execution_count": 56,
   "metadata": {
    "ExecuteTime": {
     "end_time": "2019-07-31T14:15:34.181099Z",
     "start_time": "2019-07-31T14:15:34.142596Z"
    },
    "hidden": true
   },
   "outputs": [
    {
     "name": "stdout",
     "output_type": "stream",
     "text": [
      "The fighter_id column has only unique values\n"
     ]
    }
   ],
   "source": [
    "if len(data_fighters) == data_fighters.fighter_id.nunique():\n",
    "    print('The fighter_id column has only unique values')"
   ]
  },
  {
   "cell_type": "code",
   "execution_count": 57,
   "metadata": {
    "ExecuteTime": {
     "end_time": "2019-07-31T14:15:34.219740Z",
     "start_time": "2019-07-31T14:15:34.182376Z"
    },
    "hidden": true
   },
   "outputs": [
    {
     "name": "stdout",
     "output_type": "stream",
     "text": [
      "The 1 name(s) in the dataframe that is/are not unique are:\n",
      "\t1) Dong Hyun Kim\n"
     ]
    }
   ],
   "source": [
    "# calculate how many duplicated fighter names there are\n",
    "non_unique_names = data_fighters.shape[0] - data_fighters.name.nunique()\n",
    "print('The {} name(s) in the dataframe that is/are not unique are:'.format(non_unique_names))\n",
    "\n",
    "# print out duplicated figher names\n",
    "duplicate_names = list(data_fighters['name'][data_fighters.duplicated(subset=\"name\")])\n",
    "for i, name in zip(range(1,len(duplicate_names)+1), duplicate_names):\n",
    "    print('\\t{})'.format(i), name)"
   ]
  },
  {
   "cell_type": "code",
   "execution_count": 58,
   "metadata": {
    "ExecuteTime": {
     "end_time": "2019-07-31T14:15:34.267839Z",
     "start_time": "2019-07-31T14:15:34.220992Z"
    },
    "hidden": true
   },
   "outputs": [
    {
     "data": {
      "text/html": [
       "<div>\n",
       "<style scoped>\n",
       "    .dataframe tbody tr th:only-of-type {\n",
       "        vertical-align: middle;\n",
       "    }\n",
       "\n",
       "    .dataframe tbody tr th {\n",
       "        vertical-align: top;\n",
       "    }\n",
       "\n",
       "    .dataframe thead th {\n",
       "        text-align: right;\n",
       "    }\n",
       "</style>\n",
       "<table border=\"1\" class=\"dataframe\">\n",
       "  <thead>\n",
       "    <tr style=\"text-align: right;\">\n",
       "      <th></th>\n",
       "      <th>fighter_id</th>\n",
       "      <th>name</th>\n",
       "      <th>win</th>\n",
       "      <th>lose</th>\n",
       "      <th>draw</th>\n",
       "      <th>nc</th>\n",
       "      <th>height</th>\n",
       "      <th>weight</th>\n",
       "      <th>reach</th>\n",
       "      <th>dob</th>\n",
       "      <th>...</th>\n",
       "      <th>TD_Acc</th>\n",
       "      <th>TD_Def</th>\n",
       "      <th>Sub_Avg</th>\n",
       "      <th>last_updated</th>\n",
       "      <th>stance_Open_Stance</th>\n",
       "      <th>stance_Orthodox</th>\n",
       "      <th>stance_Sideways</th>\n",
       "      <th>stance_Southpaw</th>\n",
       "      <th>stance_Switch</th>\n",
       "      <th>height_inches</th>\n",
       "    </tr>\n",
       "  </thead>\n",
       "  <tbody>\n",
       "    <tr>\n",
       "      <th>657</th>\n",
       "      <td>845</td>\n",
       "      <td>Dong Hyun Kim</td>\n",
       "      <td>16</td>\n",
       "      <td>8</td>\n",
       "      <td>3</td>\n",
       "      <td>0</td>\n",
       "      <td>5 11</td>\n",
       "      <td>155 lbs.</td>\n",
       "      <td>70.0</td>\n",
       "      <td>1988-09-09</td>\n",
       "      <td>...</td>\n",
       "      <td>60</td>\n",
       "      <td>33</td>\n",
       "      <td>0.0</td>\n",
       "      <td>2018-11-21 20:26:57.805101</td>\n",
       "      <td>0</td>\n",
       "      <td>1</td>\n",
       "      <td>0</td>\n",
       "      <td>0</td>\n",
       "      <td>0</td>\n",
       "      <td>71.0</td>\n",
       "    </tr>\n",
       "    <tr>\n",
       "      <th>663</th>\n",
       "      <td>852</td>\n",
       "      <td>Dong Hyun Kim</td>\n",
       "      <td>22</td>\n",
       "      <td>4</td>\n",
       "      <td>1</td>\n",
       "      <td>1</td>\n",
       "      <td>6 2</td>\n",
       "      <td>170 lbs.</td>\n",
       "      <td>76.0</td>\n",
       "      <td>1981-11-17</td>\n",
       "      <td>...</td>\n",
       "      <td>43</td>\n",
       "      <td>71</td>\n",
       "      <td>0.6</td>\n",
       "      <td>2018-11-21 20:27:20.82459</td>\n",
       "      <td>0</td>\n",
       "      <td>0</td>\n",
       "      <td>0</td>\n",
       "      <td>1</td>\n",
       "      <td>0</td>\n",
       "      <td>74.0</td>\n",
       "    </tr>\n",
       "  </tbody>\n",
       "</table>\n",
       "<p>2 rows × 25 columns</p>\n",
       "</div>"
      ],
      "text/plain": [
       "     fighter_id           name  win  lose  draw  nc height    weight  reach  \\\n",
       "657         845  Dong Hyun Kim   16     8     3   0   5 11  155 lbs.   70.0   \n",
       "663         852  Dong Hyun Kim   22     4     1   1    6 2  170 lbs.   76.0   \n",
       "\n",
       "           dob      ...        TD_Acc TD_Def  Sub_Avg  \\\n",
       "657 1988-09-09      ...            60     33      0.0   \n",
       "663 1981-11-17      ...            43     71      0.6   \n",
       "\n",
       "                   last_updated  stance_Open_Stance stance_Orthodox  \\\n",
       "657  2018-11-21 20:26:57.805101                   0               1   \n",
       "663   2018-11-21 20:27:20.82459                   0               0   \n",
       "\n",
       "    stance_Sideways  stance_Southpaw stance_Switch  height_inches  \n",
       "657               0                0             0           71.0  \n",
       "663               0                1             0           74.0  \n",
       "\n",
       "[2 rows x 25 columns]"
      ]
     },
     "execution_count": 58,
     "metadata": {},
     "output_type": "execute_result"
    }
   ],
   "source": [
    "data_fighters[data_fighters.duplicated(subset=\"name\", keep=False)]"
   ]
  },
  {
   "cell_type": "markdown",
   "metadata": {
    "hidden": true
   },
   "source": [
    "- It appears that each fighter is unique in the table above, as statistics such as date of birth (dob) and weight differ.  \n",
    "- Upon further investigation, these are indeed two different fighters, with the 1st fighter (born 1988) changing his ring name to Dong Hyun Ma to avoid the confusion with Dont Hyun Kim (born 1981)\n",
    "- We shall change the name of the 1st fighter Dong Hyun Kim (born 1988) to Dong Hyun Ma"
   ]
  },
  {
   "cell_type": "code",
   "execution_count": 59,
   "metadata": {
    "ExecuteTime": {
     "end_time": "2019-07-31T14:15:34.354424Z",
     "start_time": "2019-07-31T14:15:34.269049Z"
    },
    "hidden": true
   },
   "outputs": [
    {
     "name": "stdout",
     "output_type": "stream",
     "text": [
      "Dong Hyun Kim 1988 has been renamed as Dong Hyun Ma\n"
     ]
    }
   ],
   "source": [
    "# Check if there are any Dong Hyun Ma in the dataset\n",
    "if len(data_fighters[data_fighters.name=='Dong Hyun Ma']):\n",
    "    print('Dong Hyun Ma already exists')\n",
    "else:\n",
    "    # Find the right Dong Hyun Kim, who is now Dong Hyun Ma\n",
    "    DongHyunMa = data_fighters['name']=='Dong Hyun Kim'\n",
    "    DongHyunMa_dob = data_fighters['dob']=='1988-09-09'\n",
    "    # Change name to Dong Hyun Ma\n",
    "    data_fighters['name'][DongHyunMa & (DongHyunMa_dob)] = 'Dong Hyun Ma'\n",
    "    print('Dong Hyun Kim 1988 has been renamed as Dong Hyun Ma')"
   ]
  },
  {
   "cell_type": "code",
   "execution_count": null,
   "metadata": {
    "ExecuteTime": {
     "end_time": "2019-07-23T15:37:22.309883Z",
     "start_time": "2019-07-23T15:37:22.269236Z"
    },
    "hidden": true
   },
   "outputs": [],
   "source": []
  },
  {
   "cell_type": "markdown",
   "metadata": {},
   "source": [
    "#### Drop Unecessary Columns"
   ]
  },
  {
   "cell_type": "markdown",
   "metadata": {},
   "source": [
    "We now need to drop variables that have no likely impact on the outcome of a fight. \n",
    "- Weight: Although in reality a fighter's weight is extremely important, within a single fight, both fighter's weights will be within a narrow window and very similar to each other, i.e. any difference will be negligible"
   ]
  },
  {
   "cell_type": "code",
   "execution_count": 60,
   "metadata": {
    "ExecuteTime": {
     "end_time": "2019-07-31T14:15:34.455041Z",
     "start_time": "2019-07-31T14:15:34.355899Z"
    },
    "scrolled": true
   },
   "outputs": [
    {
     "data": {
      "text/html": [
       "<div>\n",
       "<style scoped>\n",
       "    .dataframe tbody tr th:only-of-type {\n",
       "        vertical-align: middle;\n",
       "    }\n",
       "\n",
       "    .dataframe tbody tr th {\n",
       "        vertical-align: top;\n",
       "    }\n",
       "\n",
       "    .dataframe thead th {\n",
       "        text-align: right;\n",
       "    }\n",
       "</style>\n",
       "<table border=\"1\" class=\"dataframe\">\n",
       "  <thead>\n",
       "    <tr style=\"text-align: right;\">\n",
       "      <th></th>\n",
       "      <th>name</th>\n",
       "      <th>win</th>\n",
       "      <th>lose</th>\n",
       "      <th>draw</th>\n",
       "      <th>reach</th>\n",
       "      <th>dob</th>\n",
       "      <th>SLpM</th>\n",
       "      <th>Str_Acc</th>\n",
       "      <th>SApM</th>\n",
       "      <th>Str_Def</th>\n",
       "      <th>TD_Avg</th>\n",
       "      <th>TD_Acc</th>\n",
       "      <th>TD_Def</th>\n",
       "      <th>Sub_Avg</th>\n",
       "      <th>stance_Open_Stance</th>\n",
       "      <th>stance_Orthodox</th>\n",
       "      <th>stance_Sideways</th>\n",
       "      <th>stance_Southpaw</th>\n",
       "      <th>stance_Switch</th>\n",
       "      <th>height_inches</th>\n",
       "    </tr>\n",
       "  </thead>\n",
       "  <tbody>\n",
       "    <tr>\n",
       "      <th>0</th>\n",
       "      <td>Luciano Azevedo</td>\n",
       "      <td>16</td>\n",
       "      <td>9</td>\n",
       "      <td>1</td>\n",
       "      <td>72.0</td>\n",
       "      <td>1981-06-25</td>\n",
       "      <td>0.76</td>\n",
       "      <td>45</td>\n",
       "      <td>1.97</td>\n",
       "      <td>27</td>\n",
       "      <td>2.28</td>\n",
       "      <td>11</td>\n",
       "      <td>0</td>\n",
       "      <td>0.0</td>\n",
       "      <td>0</td>\n",
       "      <td>1</td>\n",
       "      <td>0</td>\n",
       "      <td>0</td>\n",
       "      <td>0</td>\n",
       "      <td>75.0</td>\n",
       "    </tr>\n",
       "    <tr>\n",
       "      <th>1</th>\n",
       "      <td>Gleidson Cutis</td>\n",
       "      <td>7</td>\n",
       "      <td>3</td>\n",
       "      <td>0</td>\n",
       "      <td>72.0</td>\n",
       "      <td>1989-02-07</td>\n",
       "      <td>2.99</td>\n",
       "      <td>52</td>\n",
       "      <td>8.28</td>\n",
       "      <td>59</td>\n",
       "      <td>0.00</td>\n",
       "      <td>0</td>\n",
       "      <td>0</td>\n",
       "      <td>0.0</td>\n",
       "      <td>0</td>\n",
       "      <td>1</td>\n",
       "      <td>0</td>\n",
       "      <td>0</td>\n",
       "      <td>0</td>\n",
       "      <td>69.0</td>\n",
       "    </tr>\n",
       "    <tr>\n",
       "      <th>2</th>\n",
       "      <td>Rolando Dy</td>\n",
       "      <td>9</td>\n",
       "      <td>7</td>\n",
       "      <td>1</td>\n",
       "      <td>69.0</td>\n",
       "      <td>1990-08-11</td>\n",
       "      <td>3.04</td>\n",
       "      <td>37</td>\n",
       "      <td>4.47</td>\n",
       "      <td>52</td>\n",
       "      <td>0.30</td>\n",
       "      <td>20</td>\n",
       "      <td>68</td>\n",
       "      <td>0.0</td>\n",
       "      <td>0</td>\n",
       "      <td>1</td>\n",
       "      <td>0</td>\n",
       "      <td>0</td>\n",
       "      <td>0</td>\n",
       "      <td>68.0</td>\n",
       "    </tr>\n",
       "  </tbody>\n",
       "</table>\n",
       "</div>"
      ],
      "text/plain": [
       "              name  win  lose  draw  reach        dob  SLpM Str_Acc  SApM  \\\n",
       "0  Luciano Azevedo   16     9     1   72.0 1981-06-25  0.76      45  1.97   \n",
       "1   Gleidson Cutis    7     3     0   72.0 1989-02-07  2.99      52  8.28   \n",
       "2       Rolando Dy    9     7     1   69.0 1990-08-11  3.04      37  4.47   \n",
       "\n",
       "  Str_Def  TD_Avg TD_Acc TD_Def  Sub_Avg  stance_Open_Stance  stance_Orthodox  \\\n",
       "0      27    2.28     11      0      0.0                   0                1   \n",
       "1      59    0.00      0      0      0.0                   0                1   \n",
       "2      52    0.30     20     68      0.0                   0                1   \n",
       "\n",
       "   stance_Sideways  stance_Southpaw  stance_Switch  height_inches  \n",
       "0                0                0              0           75.0  \n",
       "1                0                0              0           69.0  \n",
       "2                0                0              0           68.0  "
      ]
     },
     "execution_count": 60,
     "metadata": {},
     "output_type": "execute_result"
    }
   ],
   "source": [
    "# Columns to drop\n",
    "cols_to_drop = ['fighter_id',  'nc', 'height', 'weight', 'last_updated']\n",
    "\n",
    "# Drop the columns\n",
    "data_fighters.drop(cols_to_drop, axis=1, inplace=True)\n",
    "\n",
    "# View the narrower fighters dataframe\n",
    "data_fighters.head(3)"
   ]
  },
  {
   "cell_type": "markdown",
   "metadata": {},
   "source": [
    "#### Add total_bouts column"
   ]
  },
  {
   "cell_type": "code",
   "execution_count": 61,
   "metadata": {
    "ExecuteTime": {
     "end_time": "2019-07-31T14:15:34.491442Z",
     "start_time": "2019-07-31T14:15:34.456579Z"
    }
   },
   "outputs": [],
   "source": [
    "# don't include nc values, as they do not useful in predicting a winner\n",
    "# Also exclude draws as we want a binary outcome of win or lose\n",
    "data_fighters['total_bouts'] = data_fighters['win'] + data_fighters['lose']"
   ]
  },
  {
   "cell_type": "markdown",
   "metadata": {},
   "source": [
    "#### Add win rate column"
   ]
  },
  {
   "cell_type": "code",
   "execution_count": 62,
   "metadata": {
    "ExecuteTime": {
     "end_time": "2019-07-31T14:15:34.525586Z",
     "start_time": "2019-07-31T14:15:34.492980Z"
    }
   },
   "outputs": [],
   "source": [
    "data_fighters['win_rate'] = round(data_fighters['win'] / data_fighters['total_bouts'], 2)"
   ]
  },
  {
   "cell_type": "markdown",
   "metadata": {},
   "source": [
    "#### Rearrange columns and group similar columns together"
   ]
  },
  {
   "cell_type": "code",
   "execution_count": 63,
   "metadata": {
    "ExecuteTime": {
     "end_time": "2019-07-31T14:15:34.563767Z",
     "start_time": "2019-07-31T14:15:34.526937Z"
    }
   },
   "outputs": [
    {
     "data": {
      "text/plain": [
       "Index(['name', 'win', 'lose', 'draw', 'reach', 'dob', 'SLpM', 'Str_Acc',\n",
       "       'SApM', 'Str_Def', 'TD_Avg', 'TD_Acc', 'TD_Def', 'Sub_Avg',\n",
       "       'stance_Open_Stance', 'stance_Orthodox', 'stance_Sideways',\n",
       "       'stance_Southpaw', 'stance_Switch', 'height_inches', 'total_bouts',\n",
       "       'win_rate'],\n",
       "      dtype='object')"
      ]
     },
     "execution_count": 63,
     "metadata": {},
     "output_type": "execute_result"
    }
   ],
   "source": [
    "fighter_columns = data_fighters.columns\n",
    "fighter_columns"
   ]
  },
  {
   "cell_type": "code",
   "execution_count": 64,
   "metadata": {
    "ExecuteTime": {
     "end_time": "2019-07-31T14:15:34.596210Z",
     "start_time": "2019-07-31T14:15:34.564870Z"
    }
   },
   "outputs": [],
   "source": [
    "data_fighters = data_fighters[['name', 'dob',\n",
    "                               'win', 'lose', 'draw',\n",
    "                               'total_bouts', 'win_rate', \n",
    "                               'height_inches', 'reach',\n",
    "                               'stance_Open_Stance', 'stance_Orthodox',\n",
    "                               'stance_Sideways', 'stance_Southpaw',\n",
    "                               'stance_Switch',\n",
    "                               'SLpM', 'Str_Acc', 'SApM', 'Str_Def',\n",
    "                               'TD_Avg', 'TD_Acc', 'TD_Def', 'Sub_Avg']]"
   ]
  },
  {
   "cell_type": "markdown",
   "metadata": {},
   "source": [
    "#### Change all column headings to lower"
   ]
  },
  {
   "cell_type": "code",
   "execution_count": 65,
   "metadata": {
    "ExecuteTime": {
     "end_time": "2019-07-31T14:15:34.630623Z",
     "start_time": "2019-07-31T14:15:34.597432Z"
    }
   },
   "outputs": [],
   "source": [
    "data_fighters.columns = data_fighters.columns.str.lower()"
   ]
  },
  {
   "cell_type": "markdown",
   "metadata": {},
   "source": [
    "### Fighters Data - Further Exploration"
   ]
  },
  {
   "cell_type": "code",
   "execution_count": 66,
   "metadata": {
    "ExecuteTime": {
     "end_time": "2019-07-31T14:15:34.708322Z",
     "start_time": "2019-07-31T14:15:34.632471Z"
    }
   },
   "outputs": [
    {
     "data": {
      "text/html": [
       "<div>\n",
       "<style scoped>\n",
       "    .dataframe tbody tr th:only-of-type {\n",
       "        vertical-align: middle;\n",
       "    }\n",
       "\n",
       "    .dataframe tbody tr th {\n",
       "        vertical-align: top;\n",
       "    }\n",
       "\n",
       "    .dataframe thead th {\n",
       "        text-align: right;\n",
       "    }\n",
       "</style>\n",
       "<table border=\"1\" class=\"dataframe\">\n",
       "  <thead>\n",
       "    <tr style=\"text-align: right;\">\n",
       "      <th></th>\n",
       "      <th>win</th>\n",
       "      <th>lose</th>\n",
       "      <th>draw</th>\n",
       "      <th>total_bouts</th>\n",
       "      <th>win_rate</th>\n",
       "      <th>height_inches</th>\n",
       "      <th>reach</th>\n",
       "      <th>stance_open_stance</th>\n",
       "      <th>stance_orthodox</th>\n",
       "      <th>stance_sideways</th>\n",
       "      <th>stance_southpaw</th>\n",
       "      <th>stance_switch</th>\n",
       "      <th>slpm</th>\n",
       "      <th>sapm</th>\n",
       "      <th>td_avg</th>\n",
       "      <th>sub_avg</th>\n",
       "    </tr>\n",
       "  </thead>\n",
       "  <tbody>\n",
       "    <tr>\n",
       "      <th>count</th>\n",
       "      <td>2460.00</td>\n",
       "      <td>2460.00</td>\n",
       "      <td>2460.00</td>\n",
       "      <td>2460.00</td>\n",
       "      <td>2460.00</td>\n",
       "      <td>2460.00</td>\n",
       "      <td>2460.00</td>\n",
       "      <td>2460.00</td>\n",
       "      <td>2460.00</td>\n",
       "      <td>2460.00</td>\n",
       "      <td>2460.00</td>\n",
       "      <td>2460.00</td>\n",
       "      <td>2460.00</td>\n",
       "      <td>2460.00</td>\n",
       "      <td>2460.00</td>\n",
       "      <td>2460.00</td>\n",
       "    </tr>\n",
       "    <tr>\n",
       "      <th>mean</th>\n",
       "      <td>13.12</td>\n",
       "      <td>5.51</td>\n",
       "      <td>0.31</td>\n",
       "      <td>18.63</td>\n",
       "      <td>0.70</td>\n",
       "      <td>70.32</td>\n",
       "      <td>71.90</td>\n",
       "      <td>0.00</td>\n",
       "      <td>0.82</td>\n",
       "      <td>0.00</td>\n",
       "      <td>0.16</td>\n",
       "      <td>0.03</td>\n",
       "      <td>2.78</td>\n",
       "      <td>3.45</td>\n",
       "      <td>1.48</td>\n",
       "      <td>0.77</td>\n",
       "    </tr>\n",
       "    <tr>\n",
       "      <th>std</th>\n",
       "      <td>8.36</td>\n",
       "      <td>4.52</td>\n",
       "      <td>0.87</td>\n",
       "      <td>11.69</td>\n",
       "      <td>0.15</td>\n",
       "      <td>3.38</td>\n",
       "      <td>3.19</td>\n",
       "      <td>0.05</td>\n",
       "      <td>0.39</td>\n",
       "      <td>0.02</td>\n",
       "      <td>0.36</td>\n",
       "      <td>0.16</td>\n",
       "      <td>1.86</td>\n",
       "      <td>2.36</td>\n",
       "      <td>1.84</td>\n",
       "      <td>1.45</td>\n",
       "    </tr>\n",
       "    <tr>\n",
       "      <th>min</th>\n",
       "      <td>0.00</td>\n",
       "      <td>0.00</td>\n",
       "      <td>0.00</td>\n",
       "      <td>1.00</td>\n",
       "      <td>0.00</td>\n",
       "      <td>60.00</td>\n",
       "      <td>60.00</td>\n",
       "      <td>0.00</td>\n",
       "      <td>0.00</td>\n",
       "      <td>0.00</td>\n",
       "      <td>0.00</td>\n",
       "      <td>0.00</td>\n",
       "      <td>0.06</td>\n",
       "      <td>0.13</td>\n",
       "      <td>0.00</td>\n",
       "      <td>0.00</td>\n",
       "    </tr>\n",
       "    <tr>\n",
       "      <th>25%</th>\n",
       "      <td>7.00</td>\n",
       "      <td>3.00</td>\n",
       "      <td>0.00</td>\n",
       "      <td>10.00</td>\n",
       "      <td>0.63</td>\n",
       "      <td>68.00</td>\n",
       "      <td>71.00</td>\n",
       "      <td>0.00</td>\n",
       "      <td>1.00</td>\n",
       "      <td>0.00</td>\n",
       "      <td>0.00</td>\n",
       "      <td>0.00</td>\n",
       "      <td>1.58</td>\n",
       "      <td>2.16</td>\n",
       "      <td>0.00</td>\n",
       "      <td>0.00</td>\n",
       "    </tr>\n",
       "    <tr>\n",
       "      <th>50%</th>\n",
       "      <td>12.00</td>\n",
       "      <td>4.00</td>\n",
       "      <td>0.00</td>\n",
       "      <td>16.00</td>\n",
       "      <td>0.71</td>\n",
       "      <td>70.00</td>\n",
       "      <td>72.00</td>\n",
       "      <td>0.00</td>\n",
       "      <td>1.00</td>\n",
       "      <td>0.00</td>\n",
       "      <td>0.00</td>\n",
       "      <td>0.00</td>\n",
       "      <td>2.54</td>\n",
       "      <td>3.00</td>\n",
       "      <td>1.00</td>\n",
       "      <td>0.20</td>\n",
       "    </tr>\n",
       "    <tr>\n",
       "      <th>75%</th>\n",
       "      <td>17.00</td>\n",
       "      <td>7.00</td>\n",
       "      <td>0.00</td>\n",
       "      <td>24.00</td>\n",
       "      <td>0.80</td>\n",
       "      <td>73.00</td>\n",
       "      <td>73.00</td>\n",
       "      <td>0.00</td>\n",
       "      <td>1.00</td>\n",
       "      <td>0.00</td>\n",
       "      <td>0.00</td>\n",
       "      <td>0.00</td>\n",
       "      <td>3.56</td>\n",
       "      <td>4.09</td>\n",
       "      <td>2.21</td>\n",
       "      <td>1.00</td>\n",
       "    </tr>\n",
       "    <tr>\n",
       "      <th>max</th>\n",
       "      <td>88.00</td>\n",
       "      <td>74.00</td>\n",
       "      <td>11.00</td>\n",
       "      <td>121.00</td>\n",
       "      <td>1.00</td>\n",
       "      <td>89.00</td>\n",
       "      <td>84.00</td>\n",
       "      <td>1.00</td>\n",
       "      <td>1.00</td>\n",
       "      <td>1.00</td>\n",
       "      <td>1.00</td>\n",
       "      <td>1.00</td>\n",
       "      <td>30.00</td>\n",
       "      <td>49.41</td>\n",
       "      <td>24.11</td>\n",
       "      <td>20.90</td>\n",
       "    </tr>\n",
       "  </tbody>\n",
       "</table>\n",
       "</div>"
      ],
      "text/plain": [
       "           win     lose     draw  total_bouts  win_rate  height_inches  \\\n",
       "count  2460.00  2460.00  2460.00      2460.00   2460.00        2460.00   \n",
       "mean     13.12     5.51     0.31        18.63      0.70          70.32   \n",
       "std       8.36     4.52     0.87        11.69      0.15           3.38   \n",
       "min       0.00     0.00     0.00         1.00      0.00          60.00   \n",
       "25%       7.00     3.00     0.00        10.00      0.63          68.00   \n",
       "50%      12.00     4.00     0.00        16.00      0.71          70.00   \n",
       "75%      17.00     7.00     0.00        24.00      0.80          73.00   \n",
       "max      88.00    74.00    11.00       121.00      1.00          89.00   \n",
       "\n",
       "         reach  stance_open_stance  stance_orthodox  stance_sideways  \\\n",
       "count  2460.00             2460.00          2460.00          2460.00   \n",
       "mean     71.90                0.00             0.82             0.00   \n",
       "std       3.19                0.05             0.39             0.02   \n",
       "min      60.00                0.00             0.00             0.00   \n",
       "25%      71.00                0.00             1.00             0.00   \n",
       "50%      72.00                0.00             1.00             0.00   \n",
       "75%      73.00                0.00             1.00             0.00   \n",
       "max      84.00                1.00             1.00             1.00   \n",
       "\n",
       "       stance_southpaw  stance_switch     slpm     sapm   td_avg  sub_avg  \n",
       "count          2460.00        2460.00  2460.00  2460.00  2460.00  2460.00  \n",
       "mean              0.16           0.03     2.78     3.45     1.48     0.77  \n",
       "std               0.36           0.16     1.86     2.36     1.84     1.45  \n",
       "min               0.00           0.00     0.06     0.13     0.00     0.00  \n",
       "25%               0.00           0.00     1.58     2.16     0.00     0.00  \n",
       "50%               0.00           0.00     2.54     3.00     1.00     0.20  \n",
       "75%               0.00           0.00     3.56     4.09     2.21     1.00  \n",
       "max               1.00           1.00    30.00    49.41    24.11    20.90  "
      ]
     },
     "execution_count": 66,
     "metadata": {},
     "output_type": "execute_result"
    }
   ],
   "source": [
    "np.round(data_fighters.describe(), 2)"
   ]
  },
  {
   "cell_type": "code",
   "execution_count": 67,
   "metadata": {
    "ExecuteTime": {
     "end_time": "2019-07-31T14:15:34.754830Z",
     "start_time": "2019-07-31T14:15:34.709483Z"
    }
   },
   "outputs": [
    {
     "data": {
      "text/html": [
       "<div>\n",
       "<style scoped>\n",
       "    .dataframe tbody tr th:only-of-type {\n",
       "        vertical-align: middle;\n",
       "    }\n",
       "\n",
       "    .dataframe tbody tr th {\n",
       "        vertical-align: top;\n",
       "    }\n",
       "\n",
       "    .dataframe thead th {\n",
       "        text-align: right;\n",
       "    }\n",
       "</style>\n",
       "<table border=\"1\" class=\"dataframe\">\n",
       "  <thead>\n",
       "    <tr style=\"text-align: right;\">\n",
       "      <th></th>\n",
       "      <th>name</th>\n",
       "      <th>dob</th>\n",
       "      <th>win</th>\n",
       "      <th>lose</th>\n",
       "      <th>draw</th>\n",
       "      <th>total_bouts</th>\n",
       "      <th>win_rate</th>\n",
       "      <th>height_inches</th>\n",
       "      <th>reach</th>\n",
       "      <th>stance_open_stance</th>\n",
       "      <th>...</th>\n",
       "      <th>stance_southpaw</th>\n",
       "      <th>stance_switch</th>\n",
       "      <th>slpm</th>\n",
       "      <th>str_acc</th>\n",
       "      <th>sapm</th>\n",
       "      <th>str_def</th>\n",
       "      <th>td_avg</th>\n",
       "      <th>td_acc</th>\n",
       "      <th>td_def</th>\n",
       "      <th>sub_avg</th>\n",
       "    </tr>\n",
       "  </thead>\n",
       "  <tbody>\n",
       "    <tr>\n",
       "      <th>339</th>\n",
       "      <td>Ikuhisa Minowa</td>\n",
       "      <td>1976-01-12</td>\n",
       "      <td>51</td>\n",
       "      <td>32</td>\n",
       "      <td>8</td>\n",
       "      <td>83</td>\n",
       "      <td>0.61</td>\n",
       "      <td>69.0</td>\n",
       "      <td>72.0</td>\n",
       "      <td>0</td>\n",
       "      <td>...</td>\n",
       "      <td>0</td>\n",
       "      <td>0</td>\n",
       "      <td>0.88</td>\n",
       "      <td>40</td>\n",
       "      <td>1.66</td>\n",
       "      <td>49</td>\n",
       "      <td>1.82</td>\n",
       "      <td>41</td>\n",
       "      <td>5</td>\n",
       "      <td>1.9</td>\n",
       "    </tr>\n",
       "    <tr>\n",
       "      <th>1871</th>\n",
       "      <td>Vernon White</td>\n",
       "      <td>1971-12-03</td>\n",
       "      <td>26</td>\n",
       "      <td>33</td>\n",
       "      <td>2</td>\n",
       "      <td>59</td>\n",
       "      <td>0.44</td>\n",
       "      <td>72.0</td>\n",
       "      <td>72.0</td>\n",
       "      <td>0</td>\n",
       "      <td>...</td>\n",
       "      <td>1</td>\n",
       "      <td>0</td>\n",
       "      <td>2.11</td>\n",
       "      <td>38</td>\n",
       "      <td>2.20</td>\n",
       "      <td>54</td>\n",
       "      <td>0.88</td>\n",
       "      <td>28</td>\n",
       "      <td>44</td>\n",
       "      <td>0.0</td>\n",
       "    </tr>\n",
       "    <tr>\n",
       "      <th>2408</th>\n",
       "      <td>Shannon Ritch</td>\n",
       "      <td>1970-09-27</td>\n",
       "      <td>47</td>\n",
       "      <td>74</td>\n",
       "      <td>0</td>\n",
       "      <td>121</td>\n",
       "      <td>0.39</td>\n",
       "      <td>69.0</td>\n",
       "      <td>72.0</td>\n",
       "      <td>0</td>\n",
       "      <td>...</td>\n",
       "      <td>0</td>\n",
       "      <td>0</td>\n",
       "      <td>1.00</td>\n",
       "      <td>100</td>\n",
       "      <td>6.00</td>\n",
       "      <td>50</td>\n",
       "      <td>0.00</td>\n",
       "      <td>0</td>\n",
       "      <td>0</td>\n",
       "      <td>0.0</td>\n",
       "    </tr>\n",
       "  </tbody>\n",
       "</table>\n",
       "<p>3 rows × 22 columns</p>\n",
       "</div>"
      ],
      "text/plain": [
       "                name        dob  win  lose  draw  total_bouts  win_rate  \\\n",
       "339   Ikuhisa Minowa 1976-01-12   51    32     8           83      0.61   \n",
       "1871    Vernon White 1971-12-03   26    33     2           59      0.44   \n",
       "2408   Shannon Ritch 1970-09-27   47    74     0          121      0.39   \n",
       "\n",
       "      height_inches  reach  stance_open_stance   ...    stance_southpaw  \\\n",
       "339            69.0   72.0                   0   ...                  0   \n",
       "1871           72.0   72.0                   0   ...                  1   \n",
       "2408           69.0   72.0                   0   ...                  0   \n",
       "\n",
       "      stance_switch  slpm  str_acc  sapm str_def  td_avg td_acc  td_def  \\\n",
       "339               0  0.88       40  1.66      49    1.82     41       5   \n",
       "1871              0  2.11       38  2.20      54    0.88     28      44   \n",
       "2408              0  1.00      100  6.00      50    0.00      0       0   \n",
       "\n",
       "     sub_avg  \n",
       "339      1.9  \n",
       "1871     0.0  \n",
       "2408     0.0  \n",
       "\n",
       "[3 rows x 22 columns]"
      ]
     },
     "execution_count": 67,
     "metadata": {},
     "output_type": "execute_result"
    }
   ],
   "source": [
    "data_fighters[data_fighters.lose>30]"
   ]
  },
  {
   "cell_type": "markdown",
   "metadata": {},
   "source": [
    "#### set name column into index"
   ]
  },
  {
   "cell_type": "code",
   "execution_count": 68,
   "metadata": {
    "ExecuteTime": {
     "end_time": "2019-07-31T14:15:34.790197Z",
     "start_time": "2019-07-31T14:15:34.755974Z"
    }
   },
   "outputs": [],
   "source": [
    "data_fighters.set_index('name', inplace=True)"
   ]
  },
  {
   "cell_type": "markdown",
   "metadata": {},
   "source": [
    "#### Save the cleaned fighters df to processed data file"
   ]
  },
  {
   "cell_type": "code",
   "execution_count": 69,
   "metadata": {
    "ExecuteTime": {
     "end_time": "2019-07-31T14:15:34.866591Z",
     "start_time": "2019-07-31T14:15:34.791471Z"
    }
   },
   "outputs": [],
   "source": [
    "data_fighters.to_csv('../data/processed/fighters_cleaned')"
   ]
  },
  {
   "cell_type": "markdown",
   "metadata": {},
   "source": [
    "## Home Country Data"
   ]
  },
  {
   "cell_type": "code",
   "execution_count": 70,
   "metadata": {
    "ExecuteTime": {
     "end_time": "2019-07-31T14:15:35.054526Z",
     "start_time": "2019-07-31T14:15:34.867858Z"
    }
   },
   "outputs": [],
   "source": [
    "fighter_stats_each_bout = pd.read_csv('../data/raw/fighter_stats_each_bout.csv.zip')"
   ]
  },
  {
   "cell_type": "code",
   "execution_count": 71,
   "metadata": {
    "ExecuteTime": {
     "end_time": "2019-07-31T14:15:35.103611Z",
     "start_time": "2019-07-31T14:15:35.056101Z"
    }
   },
   "outputs": [
    {
     "data": {
      "text/html": [
       "<div>\n",
       "<style scoped>\n",
       "    .dataframe tbody tr th:only-of-type {\n",
       "        vertical-align: middle;\n",
       "    }\n",
       "\n",
       "    .dataframe tbody tr th {\n",
       "        vertical-align: top;\n",
       "    }\n",
       "\n",
       "    .dataframe thead th {\n",
       "        text-align: right;\n",
       "    }\n",
       "</style>\n",
       "<table border=\"1\" class=\"dataframe\">\n",
       "  <thead>\n",
       "    <tr style=\"text-align: right;\">\n",
       "      <th></th>\n",
       "      <th>BPrev</th>\n",
       "      <th>BStreak</th>\n",
       "      <th>B_Age</th>\n",
       "      <th>B_Height</th>\n",
       "      <th>B_HomeTown</th>\n",
       "      <th>B_ID</th>\n",
       "      <th>B_Location</th>\n",
       "      <th>B_Name</th>\n",
       "      <th>B_Weight</th>\n",
       "      <th>B__Round1_Grappling_Reversals_Landed</th>\n",
       "      <th>...</th>\n",
       "      <th>R__Round5_TIP_Ground Time</th>\n",
       "      <th>R__Round5_TIP_Guard Control Time</th>\n",
       "      <th>R__Round5_TIP_Half Guard Control Time</th>\n",
       "      <th>R__Round5_TIP_Misc. Ground Control Time</th>\n",
       "      <th>R__Round5_TIP_Mount Control Time</th>\n",
       "      <th>R__Round5_TIP_Neutral Time</th>\n",
       "      <th>R__Round5_TIP_Side Control Time</th>\n",
       "      <th>R__Round5_TIP_Standing Time</th>\n",
       "      <th>winby</th>\n",
       "      <th>winner</th>\n",
       "    </tr>\n",
       "  </thead>\n",
       "  <tbody>\n",
       "    <tr>\n",
       "      <th>0</th>\n",
       "      <td>1</td>\n",
       "      <td>1</td>\n",
       "      <td>23.0</td>\n",
       "      <td>182.0</td>\n",
       "      <td>Trento Italy</td>\n",
       "      <td>2783</td>\n",
       "      <td>Mezzocorona Italy</td>\n",
       "      <td>Marvin Vettori</td>\n",
       "      <td>84</td>\n",
       "      <td>0.0</td>\n",
       "      <td>...</td>\n",
       "      <td>NaN</td>\n",
       "      <td>NaN</td>\n",
       "      <td>NaN</td>\n",
       "      <td>NaN</td>\n",
       "      <td>NaN</td>\n",
       "      <td>NaN</td>\n",
       "      <td>NaN</td>\n",
       "      <td>NaN</td>\n",
       "      <td>DEC</td>\n",
       "      <td>red</td>\n",
       "    </tr>\n",
       "    <tr>\n",
       "      <th>1</th>\n",
       "      <td>0</td>\n",
       "      <td>0</td>\n",
       "      <td>32.0</td>\n",
       "      <td>175.0</td>\n",
       "      <td>Careiro da Várzea, Amazonas Brazil</td>\n",
       "      <td>2208</td>\n",
       "      <td>Pharr, Texas USA</td>\n",
       "      <td>Carlos Diego Ferreira</td>\n",
       "      <td>70</td>\n",
       "      <td>NaN</td>\n",
       "      <td>...</td>\n",
       "      <td>NaN</td>\n",
       "      <td>NaN</td>\n",
       "      <td>NaN</td>\n",
       "      <td>NaN</td>\n",
       "      <td>NaN</td>\n",
       "      <td>NaN</td>\n",
       "      <td>NaN</td>\n",
       "      <td>NaN</td>\n",
       "      <td>SUB</td>\n",
       "      <td>blue</td>\n",
       "    </tr>\n",
       "    <tr>\n",
       "      <th>2</th>\n",
       "      <td>2</td>\n",
       "      <td>0</td>\n",
       "      <td>38.0</td>\n",
       "      <td>172.0</td>\n",
       "      <td>Kanagawa Japan</td>\n",
       "      <td>721</td>\n",
       "      <td>Tokyo Japan</td>\n",
       "      <td>Takanori Gomi</td>\n",
       "      <td>70</td>\n",
       "      <td>0.0</td>\n",
       "      <td>...</td>\n",
       "      <td>NaN</td>\n",
       "      <td>NaN</td>\n",
       "      <td>NaN</td>\n",
       "      <td>NaN</td>\n",
       "      <td>NaN</td>\n",
       "      <td>NaN</td>\n",
       "      <td>NaN</td>\n",
       "      <td>NaN</td>\n",
       "      <td>KO/TKO</td>\n",
       "      <td>red</td>\n",
       "    </tr>\n",
       "    <tr>\n",
       "      <th>3</th>\n",
       "      <td>0</td>\n",
       "      <td>0</td>\n",
       "      <td>23.0</td>\n",
       "      <td>170.0</td>\n",
       "      <td>Tijuana Mexico</td>\n",
       "      <td>2825</td>\n",
       "      <td>Tijuana Mexico</td>\n",
       "      <td>Brandon Moreno</td>\n",
       "      <td>56</td>\n",
       "      <td>NaN</td>\n",
       "      <td>...</td>\n",
       "      <td>NaN</td>\n",
       "      <td>NaN</td>\n",
       "      <td>NaN</td>\n",
       "      <td>NaN</td>\n",
       "      <td>NaN</td>\n",
       "      <td>NaN</td>\n",
       "      <td>NaN</td>\n",
       "      <td>NaN</td>\n",
       "      <td>SUB</td>\n",
       "      <td>blue</td>\n",
       "    </tr>\n",
       "    <tr>\n",
       "      <th>4</th>\n",
       "      <td>3</td>\n",
       "      <td>1</td>\n",
       "      <td>30.0</td>\n",
       "      <td>167.0</td>\n",
       "      <td>Spokane, WA USA</td>\n",
       "      <td>2260</td>\n",
       "      <td>Spokane, WA USA</td>\n",
       "      <td>Elizabeth Phillips</td>\n",
       "      <td>61</td>\n",
       "      <td>0.0</td>\n",
       "      <td>...</td>\n",
       "      <td>NaN</td>\n",
       "      <td>NaN</td>\n",
       "      <td>NaN</td>\n",
       "      <td>NaN</td>\n",
       "      <td>NaN</td>\n",
       "      <td>NaN</td>\n",
       "      <td>NaN</td>\n",
       "      <td>NaN</td>\n",
       "      <td>DEC</td>\n",
       "      <td>red</td>\n",
       "    </tr>\n",
       "  </tbody>\n",
       "</table>\n",
       "<p>5 rows × 895 columns</p>\n",
       "</div>"
      ],
      "text/plain": [
       "   BPrev  BStreak  B_Age  B_Height                          B_HomeTown  B_ID  \\\n",
       "0      1        1   23.0     182.0                        Trento Italy  2783   \n",
       "1      0        0   32.0     175.0  Careiro da Várzea, Amazonas Brazil  2208   \n",
       "2      2        0   38.0     172.0                      Kanagawa Japan   721   \n",
       "3      0        0   23.0     170.0                      Tijuana Mexico  2825   \n",
       "4      3        1   30.0     167.0                     Spokane, WA USA  2260   \n",
       "\n",
       "          B_Location                 B_Name  B_Weight  \\\n",
       "0  Mezzocorona Italy         Marvin Vettori        84   \n",
       "1   Pharr, Texas USA  Carlos Diego Ferreira        70   \n",
       "2        Tokyo Japan          Takanori Gomi        70   \n",
       "3     Tijuana Mexico         Brandon Moreno        56   \n",
       "4    Spokane, WA USA     Elizabeth Phillips        61   \n",
       "\n",
       "   B__Round1_Grappling_Reversals_Landed   ...    R__Round5_TIP_Ground Time  \\\n",
       "0                                   0.0   ...                          NaN   \n",
       "1                                   NaN   ...                          NaN   \n",
       "2                                   0.0   ...                          NaN   \n",
       "3                                   NaN   ...                          NaN   \n",
       "4                                   0.0   ...                          NaN   \n",
       "\n",
       "   R__Round5_TIP_Guard Control Time  R__Round5_TIP_Half Guard Control Time  \\\n",
       "0                               NaN                                    NaN   \n",
       "1                               NaN                                    NaN   \n",
       "2                               NaN                                    NaN   \n",
       "3                               NaN                                    NaN   \n",
       "4                               NaN                                    NaN   \n",
       "\n",
       "   R__Round5_TIP_Misc. Ground Control Time  R__Round5_TIP_Mount Control Time  \\\n",
       "0                                      NaN                               NaN   \n",
       "1                                      NaN                               NaN   \n",
       "2                                      NaN                               NaN   \n",
       "3                                      NaN                               NaN   \n",
       "4                                      NaN                               NaN   \n",
       "\n",
       "   R__Round5_TIP_Neutral Time  R__Round5_TIP_Side Control Time  \\\n",
       "0                         NaN                              NaN   \n",
       "1                         NaN                              NaN   \n",
       "2                         NaN                              NaN   \n",
       "3                         NaN                              NaN   \n",
       "4                         NaN                              NaN   \n",
       "\n",
       "   R__Round5_TIP_Standing Time   winby  winner  \n",
       "0                          NaN     DEC     red  \n",
       "1                          NaN     SUB    blue  \n",
       "2                          NaN  KO/TKO     red  \n",
       "3                          NaN     SUB    blue  \n",
       "4                          NaN     DEC     red  \n",
       "\n",
       "[5 rows x 895 columns]"
      ]
     },
     "execution_count": 71,
     "metadata": {},
     "output_type": "execute_result"
    }
   ],
   "source": [
    "fighter_stats_each_bout.head()"
   ]
  },
  {
   "cell_type": "code",
   "execution_count": 72,
   "metadata": {
    "ExecuteTime": {
     "end_time": "2019-07-31T14:15:35.140900Z",
     "start_time": "2019-07-31T14:15:35.104836Z"
    },
    "scrolled": true
   },
   "outputs": [],
   "source": [
    "fighter_home_country = clean_fighter_data(fighter_stats_each_bout)"
   ]
  },
  {
   "cell_type": "code",
   "execution_count": 73,
   "metadata": {
    "ExecuteTime": {
     "end_time": "2019-07-31T14:15:35.175907Z",
     "start_time": "2019-07-31T14:15:35.141876Z"
    }
   },
   "outputs": [],
   "source": [
    "fighter_home_country.to_csv('../data/processed/fighter_home_country', index=False)"
   ]
  },
  {
   "cell_type": "markdown",
   "metadata": {},
   "source": [
    "## Combine Dataframes\n",
    "- Here we combine the bouts data with the fighters data, into 1 dataframe that will be used for the machine learning process\n",
    "- We can only look at bouts where we have information on both fighters"
   ]
  },
  {
   "cell_type": "code",
   "execution_count": 74,
   "metadata": {
    "ExecuteTime": {
     "end_time": "2019-07-31T14:15:35.227925Z",
     "start_time": "2019-07-31T14:15:35.177092Z"
    }
   },
   "outputs": [],
   "source": [
    "bouts_cleaned = pd.read_csv('../data/processed/bouts_cleaned')\n",
    "fighters_cleaned = pd.read_csv('../data/processed/fighters_cleaned',\n",
    "                               index_col=0)"
   ]
  },
  {
   "cell_type": "code",
   "execution_count": 75,
   "metadata": {
    "ExecuteTime": {
     "end_time": "2019-07-31T14:15:35.265380Z",
     "start_time": "2019-07-31T14:15:35.229315Z"
    },
    "scrolled": true
   },
   "outputs": [
    {
     "data": {
      "text/html": [
       "<div>\n",
       "<style scoped>\n",
       "    .dataframe tbody tr th:only-of-type {\n",
       "        vertical-align: middle;\n",
       "    }\n",
       "\n",
       "    .dataframe tbody tr th {\n",
       "        vertical-align: top;\n",
       "    }\n",
       "\n",
       "    .dataframe thead th {\n",
       "        text-align: right;\n",
       "    }\n",
       "</style>\n",
       "<table border=\"1\" class=\"dataframe\">\n",
       "  <thead>\n",
       "    <tr style=\"text-align: right;\">\n",
       "      <th></th>\n",
       "      <th>date</th>\n",
       "      <th>location</th>\n",
       "      <th>fighter1</th>\n",
       "      <th>fighter2</th>\n",
       "      <th>winner_is_fighter1</th>\n",
       "      <th>title_fight</th>\n",
       "      <th>method_DEC</th>\n",
       "      <th>method_DQ</th>\n",
       "      <th>method_KO/TKO</th>\n",
       "      <th>method_SUB</th>\n",
       "    </tr>\n",
       "  </thead>\n",
       "  <tbody>\n",
       "    <tr>\n",
       "      <th>0</th>\n",
       "      <td>2018-11-17</td>\n",
       "      <td>Argentina</td>\n",
       "      <td>Neil Magny</td>\n",
       "      <td>Santiago Ponzinibbio</td>\n",
       "      <td>0</td>\n",
       "      <td>0</td>\n",
       "      <td>0</td>\n",
       "      <td>0</td>\n",
       "      <td>1</td>\n",
       "      <td>0</td>\n",
       "    </tr>\n",
       "    <tr>\n",
       "      <th>1</th>\n",
       "      <td>2018-11-17</td>\n",
       "      <td>Argentina</td>\n",
       "      <td>Darren Elkins</td>\n",
       "      <td>Ricardo Lamas</td>\n",
       "      <td>0</td>\n",
       "      <td>0</td>\n",
       "      <td>0</td>\n",
       "      <td>0</td>\n",
       "      <td>1</td>\n",
       "      <td>0</td>\n",
       "    </tr>\n",
       "    <tr>\n",
       "      <th>2</th>\n",
       "      <td>2018-11-17</td>\n",
       "      <td>Argentina</td>\n",
       "      <td>Johnny Walker</td>\n",
       "      <td>Khalil Rountree Jr.</td>\n",
       "      <td>1</td>\n",
       "      <td>0</td>\n",
       "      <td>0</td>\n",
       "      <td>0</td>\n",
       "      <td>1</td>\n",
       "      <td>0</td>\n",
       "    </tr>\n",
       "  </tbody>\n",
       "</table>\n",
       "</div>"
      ],
      "text/plain": [
       "         date   location       fighter1              fighter2  \\\n",
       "0  2018-11-17  Argentina     Neil Magny  Santiago Ponzinibbio   \n",
       "1  2018-11-17  Argentina  Darren Elkins         Ricardo Lamas   \n",
       "2  2018-11-17  Argentina  Johnny Walker   Khalil Rountree Jr.   \n",
       "\n",
       "   winner_is_fighter1  title_fight  method_DEC  method_DQ  method_KO/TKO  \\\n",
       "0                   0            0           0          0              1   \n",
       "1                   0            0           0          0              1   \n",
       "2                   1            0           0          0              1   \n",
       "\n",
       "   method_SUB  \n",
       "0           0  \n",
       "1           0  \n",
       "2           0  "
      ]
     },
     "execution_count": 75,
     "metadata": {},
     "output_type": "execute_result"
    }
   ],
   "source": [
    "bouts_cleaned.head(3)"
   ]
  },
  {
   "cell_type": "markdown",
   "metadata": {},
   "source": [
    "### Drop bouts where we have no data on fighters"
   ]
  },
  {
   "cell_type": "code",
   "execution_count": 76,
   "metadata": {
    "ExecuteTime": {
     "end_time": "2019-07-31T14:15:35.306195Z",
     "start_time": "2019-07-31T14:15:35.271619Z"
    },
    "scrolled": true
   },
   "outputs": [
    {
     "name": "stdout",
     "output_type": "stream",
     "text": [
      "We have reduced the number of bouts from 4796 to 4570, as we do not have statistics for 226 fighters\n"
     ]
    }
   ],
   "source": [
    "original_bout_length = len(bouts_cleaned)\n",
    "\n",
    "# Create a list of all the fighters' names\n",
    "name_list = fighters_cleaned.index.tolist()\n",
    "\n",
    "# booleans if name in fighter1/figther2 column is in list of fighter names\n",
    "f1_in_name_list = bouts_cleaned['fighter1'].isin(name_list)\n",
    "f2_in_name_list = bouts_cleaned['fighter2'].isin(name_list)\n",
    "\n",
    "# Drop rows where at least 1 of names does not appear in fighter names list\n",
    "bouts_cleaned = bouts_cleaned[(f1_in_name_list) & (f2_in_name_list)]\n",
    "\n",
    "# Print the action we have carried out\n",
    "new_bout_length = len(bouts_cleaned)\n",
    "print('We have reduced the number of bouts from {} to {}, as we do not have statistics for {} fighters'\n",
    "      .format(original_bout_length, new_bout_length, original_bout_length-new_bout_length))"
   ]
  },
  {
   "cell_type": "markdown",
   "metadata": {},
   "source": [
    "### Create 2 new dataframes for fighter1 data and fighter2 data"
   ]
  },
  {
   "cell_type": "code",
   "execution_count": 77,
   "metadata": {
    "ExecuteTime": {
     "end_time": "2019-07-31T14:15:35.358407Z",
     "start_time": "2019-07-31T14:15:35.310257Z"
    },
    "scrolled": true
   },
   "outputs": [],
   "source": [
    "# Pull in the statistics for each fighter1\n",
    "data_fighter1 = fighters_cleaned.loc[bouts_cleaned[\"fighter1\"]]\n",
    "# Pull in the statistics for each fighter2\n",
    "data_fighter2 = fighters_cleaned.loc[bouts_cleaned[\"fighter2\"]]\n",
    "\n",
    "# Add suffix to each new dataframe's columns so we can merge them\n",
    "data_fighter1 = data_fighter1.add_prefix('fighter1_')\n",
    "data_fighter2 = data_fighter2.add_prefix('fighter2_')\n",
    "\n",
    "# Reset the indices so we can merge them\n",
    "bouts_cleaned.reset_index(inplace=True, drop=True)\n",
    "data_fighter1.reset_index(inplace=True)\n",
    "data_fighter2.reset_index(inplace=True)"
   ]
  },
  {
   "cell_type": "markdown",
   "metadata": {},
   "source": [
    "### Add Home Country to fighter1 and fighter2"
   ]
  },
  {
   "cell_type": "code",
   "execution_count": 78,
   "metadata": {
    "ExecuteTime": {
     "end_time": "2019-07-31T14:15:35.407499Z",
     "start_time": "2019-07-31T14:15:35.360516Z"
    }
   },
   "outputs": [],
   "source": [
    "data_fighter1 = data_fighter1.merge(fighter_home_country, how='left')\n",
    "data_fighter2 = data_fighter2.merge(fighter_home_country, how='left')"
   ]
  },
  {
   "cell_type": "code",
   "execution_count": 79,
   "metadata": {
    "ExecuteTime": {
     "end_time": "2019-07-31T14:15:35.447678Z",
     "start_time": "2019-07-31T14:15:35.409006Z"
    }
   },
   "outputs": [],
   "source": [
    "# Rename columns so we can keep track of whos home country it is\n",
    "data_fighter1.rename(index=str, columns={'home_country': 'fighter1_home_country'}, inplace=True)\n",
    "data_fighter2.rename(index=str, columns={'home_country': 'fighter2_home_country'}, inplace=True)\n",
    "\n",
    "data_fighter1.index = data_fighter1.index.astype('int64')\n",
    "data_fighter2.index = data_fighter2.index.astype('int64')"
   ]
  },
  {
   "cell_type": "markdown",
   "metadata": {},
   "source": [
    "### Create a combined dataframe of bouts with details of fighter1 and fighter2"
   ]
  },
  {
   "cell_type": "code",
   "execution_count": 80,
   "metadata": {
    "ExecuteTime": {
     "end_time": "2019-07-31T14:15:35.510384Z",
     "start_time": "2019-07-31T14:15:35.448801Z"
    },
    "scrolled": false
   },
   "outputs": [
    {
     "data": {
      "text/html": [
       "<div>\n",
       "<style scoped>\n",
       "    .dataframe tbody tr th:only-of-type {\n",
       "        vertical-align: middle;\n",
       "    }\n",
       "\n",
       "    .dataframe tbody tr th {\n",
       "        vertical-align: top;\n",
       "    }\n",
       "\n",
       "    .dataframe thead th {\n",
       "        text-align: right;\n",
       "    }\n",
       "</style>\n",
       "<table border=\"1\" class=\"dataframe\">\n",
       "  <thead>\n",
       "    <tr style=\"text-align: right;\">\n",
       "      <th></th>\n",
       "      <th>date</th>\n",
       "      <th>location</th>\n",
       "      <th>fighter1</th>\n",
       "      <th>fighter2</th>\n",
       "      <th>winner_is_fighter1</th>\n",
       "      <th>title_fight</th>\n",
       "      <th>method_DEC</th>\n",
       "      <th>method_DQ</th>\n",
       "      <th>method_KO/TKO</th>\n",
       "      <th>method_SUB</th>\n",
       "      <th>...</th>\n",
       "      <th>fighter2_stance_switch</th>\n",
       "      <th>fighter2_slpm</th>\n",
       "      <th>fighter2_str_acc</th>\n",
       "      <th>fighter2_sapm</th>\n",
       "      <th>fighter2_str_def</th>\n",
       "      <th>fighter2_td_avg</th>\n",
       "      <th>fighter2_td_acc</th>\n",
       "      <th>fighter2_td_def</th>\n",
       "      <th>fighter2_sub_avg</th>\n",
       "      <th>fighter2_home_country</th>\n",
       "    </tr>\n",
       "  </thead>\n",
       "  <tbody>\n",
       "    <tr>\n",
       "      <th>4567</th>\n",
       "      <td>2018-11-10</td>\n",
       "      <td>USA</td>\n",
       "      <td>Devonte Smith</td>\n",
       "      <td>Julian Erosa</td>\n",
       "      <td>1</td>\n",
       "      <td>0</td>\n",
       "      <td>0</td>\n",
       "      <td>0</td>\n",
       "      <td>1</td>\n",
       "      <td>0</td>\n",
       "      <td>...</td>\n",
       "      <td>0</td>\n",
       "      <td>4.91</td>\n",
       "      <td>52</td>\n",
       "      <td>5.20</td>\n",
       "      <td>45</td>\n",
       "      <td>1.64</td>\n",
       "      <td>60</td>\n",
       "      <td>75</td>\n",
       "      <td>1.1</td>\n",
       "      <td>USA</td>\n",
       "    </tr>\n",
       "    <tr>\n",
       "      <th>4568</th>\n",
       "      <td>2018-11-10</td>\n",
       "      <td>USA</td>\n",
       "      <td>Eric Shelton</td>\n",
       "      <td>Joseph Morales</td>\n",
       "      <td>1</td>\n",
       "      <td>0</td>\n",
       "      <td>1</td>\n",
       "      <td>0</td>\n",
       "      <td>0</td>\n",
       "      <td>0</td>\n",
       "      <td>...</td>\n",
       "      <td>1</td>\n",
       "      <td>1.58</td>\n",
       "      <td>37</td>\n",
       "      <td>1.72</td>\n",
       "      <td>60</td>\n",
       "      <td>0.53</td>\n",
       "      <td>50</td>\n",
       "      <td>23</td>\n",
       "      <td>2.6</td>\n",
       "      <td>NaN</td>\n",
       "    </tr>\n",
       "    <tr>\n",
       "      <th>4569</th>\n",
       "      <td>2018-11-10</td>\n",
       "      <td>USA</td>\n",
       "      <td>Mark De La Rosa</td>\n",
       "      <td>Joby Sanchez</td>\n",
       "      <td>1</td>\n",
       "      <td>0</td>\n",
       "      <td>1</td>\n",
       "      <td>0</td>\n",
       "      <td>0</td>\n",
       "      <td>0</td>\n",
       "      <td>...</td>\n",
       "      <td>0</td>\n",
       "      <td>3.22</td>\n",
       "      <td>36</td>\n",
       "      <td>2.82</td>\n",
       "      <td>63</td>\n",
       "      <td>0.95</td>\n",
       "      <td>71</td>\n",
       "      <td>51</td>\n",
       "      <td>0.4</td>\n",
       "      <td>USA</td>\n",
       "    </tr>\n",
       "  </tbody>\n",
       "</table>\n",
       "<p>3 rows × 56 columns</p>\n",
       "</div>"
      ],
      "text/plain": [
       "            date location         fighter1        fighter2  \\\n",
       "4567  2018-11-10      USA    Devonte Smith    Julian Erosa   \n",
       "4568  2018-11-10      USA     Eric Shelton  Joseph Morales   \n",
       "4569  2018-11-10      USA  Mark De La Rosa    Joby Sanchez   \n",
       "\n",
       "      winner_is_fighter1  title_fight  method_DEC  method_DQ  method_KO/TKO  \\\n",
       "4567                   1            0           0          0              1   \n",
       "4568                   1            0           1          0              0   \n",
       "4569                   1            0           1          0              0   \n",
       "\n",
       "      method_SUB          ...           fighter2_stance_switch fighter2_slpm  \\\n",
       "4567           0          ...                                0          4.91   \n",
       "4568           0          ...                                1          1.58   \n",
       "4569           0          ...                                0          3.22   \n",
       "\n",
       "      fighter2_str_acc  fighter2_sapm  fighter2_str_def  fighter2_td_avg  \\\n",
       "4567                52           5.20                45             1.64   \n",
       "4568                37           1.72                60             0.53   \n",
       "4569                36           2.82                63             0.95   \n",
       "\n",
       "      fighter2_td_acc  fighter2_td_def  fighter2_sub_avg  \\\n",
       "4567               60               75               1.1   \n",
       "4568               50               23               2.6   \n",
       "4569               71               51               0.4   \n",
       "\n",
       "      fighter2_home_country  \n",
       "4567                    USA  \n",
       "4568                    NaN  \n",
       "4569                    USA  \n",
       "\n",
       "[3 rows x 56 columns]"
      ]
     },
     "execution_count": 80,
     "metadata": {},
     "output_type": "execute_result"
    }
   ],
   "source": [
    "# Create a merged dataframe\n",
    "data_combined = pd.concat([bouts_cleaned, data_fighter1, data_fighter2], axis=1)\n",
    "data_combined.tail(3)"
   ]
  },
  {
   "cell_type": "code",
   "execution_count": 81,
   "metadata": {
    "ExecuteTime": {
     "end_time": "2019-07-31T14:15:35.554684Z",
     "start_time": "2019-07-31T14:15:35.512043Z"
    }
   },
   "outputs": [],
   "source": [
    "# Drop the name columns (2 of them)\n",
    "data_combined.drop(columns='name', inplace=True)"
   ]
  },
  {
   "cell_type": "markdown",
   "metadata": {},
   "source": [
    "### Add fighter age at time of fight"
   ]
  },
  {
   "cell_type": "code",
   "execution_count": 86,
   "metadata": {
    "ExecuteTime": {
     "end_time": "2019-07-31T14:17:10.695119Z",
     "start_time": "2019-07-31T14:17:10.655326Z"
    },
    "scrolled": false
   },
   "outputs": [],
   "source": [
    "data_combined = data_combined.join(bouts_dobs[['fighter1_age', 'fighter2_age']])"
   ]
  },
  {
   "cell_type": "code",
   "execution_count": 83,
   "metadata": {
    "ExecuteTime": {
     "end_time": "2019-07-31T14:15:35.677463Z",
     "start_time": "2019-07-31T14:15:35.644891Z"
    }
   },
   "outputs": [],
   "source": [
    "# # Convert appropriate columns to datetime\n",
    "# date_cols = ['date', 'fighter1_dob', 'fighter2_dob']\n",
    "# for col in date_cols:\n",
    "#     data_combined[col] = pd.to_datetime(data_combined[col], format='%Y-%m-%d', errors='coerce')"
   ]
  },
  {
   "cell_type": "code",
   "execution_count": 84,
   "metadata": {
    "ExecuteTime": {
     "end_time": "2019-07-31T14:15:35.710411Z",
     "start_time": "2019-07-31T14:15:35.678662Z"
    }
   },
   "outputs": [],
   "source": [
    "# # Calculate age of fighters at time of fight\n",
    "# new_cols = ['fighter1_age_at_fight', 'fighter2_age_at_fight']\n",
    "# dobs = ['fighter1_dob', 'fighter2_dob']\n",
    "\n",
    "# for i in list(range(len(new_cols))):\n",
    "#     calc_age_at_fight(data_combined, new_cols[i], dobs[i])"
   ]
  },
  {
   "cell_type": "markdown",
   "metadata": {},
   "source": [
    "### Add home advantage column"
   ]
  },
  {
   "cell_type": "code",
   "execution_count": 88,
   "metadata": {
    "ExecuteTime": {
     "end_time": "2019-07-31T14:17:35.264065Z",
     "start_time": "2019-07-31T14:17:35.226498Z"
    }
   },
   "outputs": [],
   "source": [
    "# 1 if the fighter is fighting at home, 0 if they do not\n",
    "data_combined['fighter1_fight_at_home'] = (data_combined['fighter1_home_country'] == data_combined['location']) * 1\n",
    "data_combined['fighter2_fight_at_home'] = (data_combined['fighter2_home_country'] == data_combined['location']) * 1\n",
    "\n",
    "# 1 if fighter1 has a home advantage, 0.5 if its even, 0 if fighter2 has a home advantage\n",
    "home_difference = data_combined['fighter1_fight_at_home'] - data_combined['fighter2_fight_at_home']\n",
    "data_combined['fighter1_home_advantage'] = ((home_difference) + 1) / 2"
   ]
  },
  {
   "cell_type": "code",
   "execution_count": 89,
   "metadata": {
    "ExecuteTime": {
     "end_time": "2019-07-31T14:17:36.940349Z",
     "start_time": "2019-07-31T14:17:36.900618Z"
    }
   },
   "outputs": [
    {
     "name": "stdout",
     "output_type": "stream",
     "text": [
      "55.0% of the bouts have information for home of both fighters\n"
     ]
    },
    {
     "name": "stderr",
     "output_type": "stream",
     "text": [
      "/anaconda3/envs/ml-ufc-env/lib/python3.6/site-packages/ipykernel_launcher.py:6: UserWarning: Boolean Series key will be reindexed to match DataFrame index.\n",
      "  \n"
     ]
    }
   ],
   "source": [
    "# Bouts with information of home for fighter1 or fighter2\n",
    "f1_home_not_na = ~data_combined['fighter1_home_country'].isna()\n",
    "f2_home_not_na = ~data_combined['fighter2_home_country'].isna()\n",
    "\n",
    "# Bouts with information on both fighters' home country\n",
    "bouts_with_both_fighters_homes = len(data_combined[f1_home_not_na][f2_home_not_na])\n",
    "total_bouts = len(data_combined)\n",
    "\n",
    "# Percentage of bouts with information on both fighters' home country\n",
    "pct_rows_with_homes = bouts_with_both_fighters_homes / total_bouts * 100\n",
    "print('{}% of the bouts have information for home of both fighters'.format(round( pct_rows_with_homes, 0)))"
   ]
  },
  {
   "cell_type": "markdown",
   "metadata": {},
   "source": [
    "- As the data is so limited for where a fighter is from, we cannot use this data for now"
   ]
  },
  {
   "cell_type": "markdown",
   "metadata": {},
   "source": [
    "### Remove columns that are not needed for modelling"
   ]
  },
  {
   "cell_type": "code",
   "execution_count": 91,
   "metadata": {
    "ExecuteTime": {
     "end_time": "2019-07-31T14:18:04.606734Z",
     "start_time": "2019-07-31T14:18:04.570513Z"
    }
   },
   "outputs": [],
   "source": [
    "cols_to_drop = ['location', \n",
    "                'fighter1_draw', 'fighter1_dob',\n",
    "                'fighter1_home_country', 'fighter1_fight_at_home',\n",
    "                'fighter2_draw', 'fighter2_dob',\n",
    "                'fighter2_home_country', 'fighter2_fight_at_home',\n",
    "                'fighter1_home_advantage',\n",
    "                'method_DEC', 'method_DQ', 'method_KO/TKO', 'method_SUB']\n",
    "data_combined.drop(labels=cols_to_drop, axis=1, inplace=True)"
   ]
  },
  {
   "cell_type": "code",
   "execution_count": 92,
   "metadata": {
    "ExecuteTime": {
     "end_time": "2019-07-31T14:18:07.299539Z",
     "start_time": "2019-07-31T14:18:07.263995Z"
    },
    "scrolled": true
   },
   "outputs": [
    {
     "name": "stdout",
     "output_type": "stream",
     "text": [
      "There are no columns with na values in the dataframe\n"
     ]
    }
   ],
   "source": [
    "show_na_cols(data_combined)"
   ]
  },
  {
   "cell_type": "markdown",
   "metadata": {},
   "source": [
    "### Save combined dataframe to csv"
   ]
  },
  {
   "cell_type": "code",
   "execution_count": 93,
   "metadata": {
    "ExecuteTime": {
     "end_time": "2019-07-31T14:18:10.511736Z",
     "start_time": "2019-07-31T14:18:10.327247Z"
    },
    "scrolled": true
   },
   "outputs": [],
   "source": [
    "data_combined.to_csv('../data/processed/combined', index=False)"
   ]
  }
 ],
 "metadata": {
  "kernelspec": {
   "display_name": "Python 3",
   "language": "python",
   "name": "python3"
  },
  "language_info": {
   "codemirror_mode": {
    "name": "ipython",
    "version": 3
   },
   "file_extension": ".py",
   "mimetype": "text/x-python",
   "name": "python",
   "nbconvert_exporter": "python",
   "pygments_lexer": "ipython3",
   "version": "3.6.6"
  },
  "toc": {
   "base_numbering": 1,
   "nav_menu": {},
   "number_sections": true,
   "sideBar": true,
   "skip_h1_title": false,
   "title_cell": "Table of Contents",
   "title_sidebar": "Contents",
   "toc_cell": false,
   "toc_position": {},
   "toc_section_display": true,
   "toc_window_display": false
  },
  "varInspector": {
   "cols": {
    "lenName": 16,
    "lenType": 16,
    "lenVar": 40
   },
   "kernels_config": {
    "python": {
     "delete_cmd_postfix": "",
     "delete_cmd_prefix": "del ",
     "library": "var_list.py",
     "varRefreshCmd": "print(var_dic_list())"
    },
    "r": {
     "delete_cmd_postfix": ") ",
     "delete_cmd_prefix": "rm(",
     "library": "var_list.r",
     "varRefreshCmd": "cat(var_dic_list()) "
    }
   },
   "types_to_exclude": [
    "module",
    "function",
    "builtin_function_or_method",
    "instance",
    "_Feature"
   ],
   "window_display": false
  }
 },
 "nbformat": 4,
 "nbformat_minor": 2
}
