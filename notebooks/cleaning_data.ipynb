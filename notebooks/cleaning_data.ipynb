{
 "cells": [
  {
   "cell_type": "markdown",
   "metadata": {},
   "source": [
    "# EDA & Data Cleaning - [Your Project Name Here]"
   ]
  },
  {
   "cell_type": "markdown",
   "metadata": {},
   "source": [
    "## Local Code Imports - Do not delete"
   ]
  },
  {
   "cell_type": "code",
   "execution_count": 48,
   "metadata": {
    "ExecuteTime": {
     "end_time": "2019-07-21T16:35:23.768118Z",
     "start_time": "2019-07-21T16:35:23.729499Z"
    },
    "collapsed": true,
    "tags": [
     "hidecode"
    ]
   },
   "outputs": [
    {
     "name": "stdout",
     "output_type": "stream",
     "text": [
      "The autoreload extension is already loaded. To reload it, use:\n",
      "  %reload_ext autoreload\n"
     ]
    }
   ],
   "source": [
    "# DO NOT REMOVE THESE\n",
    "%load_ext autoreload\n",
    "%autoreload 2"
   ]
  },
  {
   "cell_type": "code",
   "execution_count": 49,
   "metadata": {
    "ExecuteTime": {
     "end_time": "2019-07-21T16:35:24.099109Z",
     "start_time": "2019-07-21T16:35:24.028622Z"
    },
    "collapsed": true
   },
   "outputs": [],
   "source": [
    "# DO NOT REMOVE This\n",
    "%reload_ext autoreload"
   ]
  },
  {
   "cell_type": "code",
   "execution_count": 50,
   "metadata": {
    "ExecuteTime": {
     "end_time": "2019-07-21T16:35:24.451355Z",
     "start_time": "2019-07-21T16:35:24.396971Z"
    },
    "collapsed": true
   },
   "outputs": [],
   "source": [
    "## DO NOT REMOVE\n",
    "## import local src module -\n",
    "## src in this project will contain all your local code\n",
    "## clean_data.py, model.py, visualize.py, custom.py\n",
    "from src import make_data as mk\n",
    "from src import visualize as viz\n",
    "from src import model as mdl\n",
    "from src import pandas_operators as po\n",
    "\n",
    "def test_src():\n",
    "    mk.test_make_data()\n",
    "    viz.test_viz()\n",
    "    mdl.test_model()\n",
    "    po.test_pandas()\n",
    "    \n",
    "    return 1"
   ]
  },
  {
   "cell_type": "code",
   "execution_count": 51,
   "metadata": {
    "ExecuteTime": {
     "end_time": "2019-07-21T16:35:25.249622Z",
     "start_time": "2019-07-21T16:35:25.191666Z"
    },
    "collapsed": true
   },
   "outputs": [
    {
     "name": "stdout",
     "output_type": "stream",
     "text": [
      "In make_data\n",
      "In Visualize\n",
      "In Model\n",
      "In pandas ops\n"
     ]
    },
    {
     "data": {
      "text/plain": [
       "1"
      ]
     },
     "execution_count": 51,
     "metadata": {},
     "output_type": "execute_result"
    }
   ],
   "source": [
    "test_src()"
   ]
  },
  {
   "cell_type": "markdown",
   "metadata": {},
   "source": [
    "## Code Imports"
   ]
  },
  {
   "cell_type": "code",
   "execution_count": 45,
   "metadata": {
    "ExecuteTime": {
     "end_time": "2019-07-21T16:34:29.581472Z",
     "start_time": "2019-07-21T16:34:29.540781Z"
    },
    "collapsed": true
   },
   "outputs": [],
   "source": [
    "# Dataframes\n",
    "import numpy as np\n",
    "import pandas as pd\n",
    "\n",
    "# Visualization\n",
    "import matplotlib.pyplot as plt\n",
    "%matplotlib inline\n",
    "import seaborn as sns\n",
    "\n",
    "# Calculating age of fighters\n",
    "import datetime"
   ]
  },
  {
   "cell_type": "code",
   "execution_count": 58,
   "metadata": {
    "ExecuteTime": {
     "end_time": "2019-07-21T16:38:24.797103Z",
     "start_time": "2019-07-21T16:38:24.737011Z"
    },
    "collapsed": true
   },
   "outputs": [
    {
     "data": {
      "text/plain": [
       "datetime.date(2019, 7, 21)"
      ]
     },
     "execution_count": 58,
     "metadata": {},
     "output_type": "execute_result"
    }
   ],
   "source": [
    "datetime.date.today()"
   ]
  },
  {
   "cell_type": "markdown",
   "metadata": {},
   "source": [
    "# Project Overview\n"
   ]
  },
  {
   "cell_type": "markdown",
   "metadata": {},
   "source": [
    "## Background"
   ]
  },
  {
   "cell_type": "markdown",
   "metadata": {},
   "source": [
    "UFC BACKGROUND\n",
    "\n",
    "PROJECT OBJECTIVE"
   ]
  },
  {
   "cell_type": "markdown",
   "metadata": {},
   "source": [
    "# Data Understanding"
   ]
  },
  {
   "cell_type": "markdown",
   "metadata": {},
   "source": [
    "## Bouts Data"
   ]
  },
  {
   "cell_type": "markdown",
   "metadata": {},
   "source": [
    "### Bouts Data  - Description"
   ]
  },
  {
   "cell_type": "markdown",
   "metadata": {},
   "source": [
    "RESERVED FOR BOUTS DATA DESCRIPTION"
   ]
  },
  {
   "cell_type": "markdown",
   "metadata": {},
   "source": [
    "#### Bouts Data - Data Dictionary"
   ]
  },
  {
   "cell_type": "markdown",
   "metadata": {},
   "source": [
    "RESERVED SPACE FOR BOUTS DATA DICTIONARY"
   ]
  },
  {
   "cell_type": "markdown",
   "metadata": {
    "heading_collapsed": true
   },
   "source": [
    "### Bouts Data - Import and Summary"
   ]
  },
  {
   "cell_type": "code",
   "execution_count": 162,
   "metadata": {
    "ExecuteTime": {
     "end_time": "2019-07-21T17:57:30.098030Z",
     "start_time": "2019-07-21T17:57:30.009035Z"
    },
    "hidden": true
   },
   "outputs": [
    {
     "data": {
      "text/html": [
       "<div>\n",
       "<style scoped>\n",
       "    .dataframe tbody tr th:only-of-type {\n",
       "        vertical-align: middle;\n",
       "    }\n",
       "\n",
       "    .dataframe tbody tr th {\n",
       "        vertical-align: top;\n",
       "    }\n",
       "\n",
       "    .dataframe thead th {\n",
       "        text-align: right;\n",
       "    }\n",
       "</style>\n",
       "<table border=\"1\" class=\"dataframe\">\n",
       "  <thead>\n",
       "    <tr style=\"text-align: right;\">\n",
       "      <th></th>\n",
       "      <th>bout_id</th>\n",
       "      <th>event_name</th>\n",
       "      <th>date</th>\n",
       "      <th>location</th>\n",
       "      <th>attendance</th>\n",
       "      <th>result</th>\n",
       "      <th>fighter1</th>\n",
       "      <th>fighter2</th>\n",
       "      <th>winner</th>\n",
       "      <th>weight_class</th>\n",
       "      <th>title_fight</th>\n",
       "      <th>method</th>\n",
       "      <th>end_round</th>\n",
       "      <th>end_time</th>\n",
       "    </tr>\n",
       "  </thead>\n",
       "  <tbody>\n",
       "    <tr>\n",
       "      <th>0</th>\n",
       "      <td>1</td>\n",
       "      <td>UFC Fight Night: Magny vs. Ponzinibbio</td>\n",
       "      <td>2018-11-17</td>\n",
       "      <td>Buenos Aires, Buenos Aires, Argentina</td>\n",
       "      <td>10245.0</td>\n",
       "      <td>win</td>\n",
       "      <td>Santiago Ponzinibbio</td>\n",
       "      <td>Neil Magny</td>\n",
       "      <td>Santiago Ponzinibbio</td>\n",
       "      <td>Welterweight</td>\n",
       "      <td>f</td>\n",
       "      <td>KO/TKO-Punch</td>\n",
       "      <td>4</td>\n",
       "      <td>2:36</td>\n",
       "    </tr>\n",
       "    <tr>\n",
       "      <th>1</th>\n",
       "      <td>2</td>\n",
       "      <td>UFC Fight Night: Magny vs. Ponzinibbio</td>\n",
       "      <td>2018-11-17</td>\n",
       "      <td>Buenos Aires, Buenos Aires, Argentina</td>\n",
       "      <td>10245.0</td>\n",
       "      <td>win</td>\n",
       "      <td>Ricardo Lamas</td>\n",
       "      <td>Darren Elkins</td>\n",
       "      <td>Ricardo Lamas</td>\n",
       "      <td>Featherweight</td>\n",
       "      <td>f</td>\n",
       "      <td>KO/TKO-Elbows</td>\n",
       "      <td>3</td>\n",
       "      <td>4:09</td>\n",
       "    </tr>\n",
       "    <tr>\n",
       "      <th>2</th>\n",
       "      <td>3</td>\n",
       "      <td>UFC Fight Night: Magny vs. Ponzinibbio</td>\n",
       "      <td>2018-11-17</td>\n",
       "      <td>Buenos Aires, Buenos Aires, Argentina</td>\n",
       "      <td>10245.0</td>\n",
       "      <td>win</td>\n",
       "      <td>Johnny Walker</td>\n",
       "      <td>Khalil Rountree Jr.</td>\n",
       "      <td>Johnny Walker</td>\n",
       "      <td>Light Heavyweight</td>\n",
       "      <td>f</td>\n",
       "      <td>KO/TKO-Elbow</td>\n",
       "      <td>1</td>\n",
       "      <td>1:57</td>\n",
       "    </tr>\n",
       "  </tbody>\n",
       "</table>\n",
       "</div>"
      ],
      "text/plain": [
       "   bout_id                              event_name       date  \\\n",
       "0        1  UFC Fight Night: Magny vs. Ponzinibbio 2018-11-17   \n",
       "1        2  UFC Fight Night: Magny vs. Ponzinibbio 2018-11-17   \n",
       "2        3  UFC Fight Night: Magny vs. Ponzinibbio 2018-11-17   \n",
       "\n",
       "                                location  attendance  result  \\\n",
       "0  Buenos Aires, Buenos Aires, Argentina      10245.0    win   \n",
       "1  Buenos Aires, Buenos Aires, Argentina      10245.0    win   \n",
       "2  Buenos Aires, Buenos Aires, Argentina      10245.0    win   \n",
       "\n",
       "               fighter1             fighter2                winner  \\\n",
       "0  Santiago Ponzinibbio           Neil Magny  Santiago Ponzinibbio   \n",
       "1         Ricardo Lamas        Darren Elkins         Ricardo Lamas   \n",
       "2         Johnny Walker  Khalil Rountree Jr.         Johnny Walker   \n",
       "\n",
       "        weight_class title_fight         method  end_round end_time  \n",
       "0       Welterweight           f   KO/TKO-Punch          4     2:36  \n",
       "1      Featherweight           f  KO/TKO-Elbows          3     4:09  \n",
       "2  Light Heavyweight           f   KO/TKO-Elbow          1     1:57  "
      ]
     },
     "execution_count": 162,
     "metadata": {},
     "output_type": "execute_result"
    }
   ],
   "source": [
    "data_bouts = pd.read_csv('../data/raw/ufc_bouts.csv', parse_dates=['date'])\n",
    "data_bouts.head(3)"
   ]
  },
  {
   "cell_type": "code",
   "execution_count": 163,
   "metadata": {
    "ExecuteTime": {
     "end_time": "2019-07-21T17:57:30.375603Z",
     "start_time": "2019-07-21T17:57:30.327216Z"
    },
    "hidden": true
   },
   "outputs": [
    {
     "name": "stdout",
     "output_type": "stream",
     "text": [
      "DataFrame Shape is (4878, 14)\n",
      "This represents 4878 fights\n"
     ]
    }
   ],
   "source": [
    "print('DataFrame Shape is {}'.format(data_bouts.shape))\n",
    "print('This represents {} fights'.format(data_bouts.shape[0]))"
   ]
  },
  {
   "cell_type": "code",
   "execution_count": 164,
   "metadata": {
    "ExecuteTime": {
     "end_time": "2019-07-21T17:57:30.635949Z",
     "start_time": "2019-07-21T17:57:30.583076Z"
    },
    "hidden": true
   },
   "outputs": [
    {
     "name": "stdout",
     "output_type": "stream",
     "text": [
      "<class 'pandas.core.frame.DataFrame'>\n",
      "RangeIndex: 4878 entries, 0 to 4877\n",
      "Data columns (total 14 columns):\n",
      "bout_id         4878 non-null int64\n",
      "event_name      4878 non-null object\n",
      "date            4878 non-null datetime64[ns]\n",
      "location        4878 non-null object\n",
      "attendance      4682 non-null float64\n",
      "result          4878 non-null object\n",
      "fighter1        4878 non-null object\n",
      "fighter2        4878 non-null object\n",
      "winner          4796 non-null object\n",
      "weight_class    4878 non-null object\n",
      "title_fight     4878 non-null object\n",
      "method          4878 non-null object\n",
      "end_round       4878 non-null int64\n",
      "end_time        4878 non-null object\n",
      "dtypes: datetime64[ns](1), float64(1), int64(2), object(10)\n",
      "memory usage: 533.6+ KB\n"
     ]
    }
   ],
   "source": [
    "data_bouts.info()"
   ]
  },
  {
   "cell_type": "markdown",
   "metadata": {},
   "source": [
    "### Bouts Data -  Exploration & Cleaning"
   ]
  },
  {
   "cell_type": "code",
   "execution_count": 165,
   "metadata": {
    "ExecuteTime": {
     "end_time": "2019-07-21T17:57:31.087099Z",
     "start_time": "2019-07-21T17:57:31.022590Z"
    }
   },
   "outputs": [
    {
     "name": "stdout",
     "output_type": "stream",
     "text": [
      "Each sample (row) in our bouts data is unique\n"
     ]
    }
   ],
   "source": [
    "if data_bouts.shape[0] == data_bouts['bout_id'].nunique():\n",
    "    print('Each sample (row) in our bouts data is unique')"
   ]
  },
  {
   "cell_type": "markdown",
   "metadata": {},
   "source": [
    "#### Results column - drop nc and draw rows"
   ]
  },
  {
   "cell_type": "code",
   "execution_count": 166,
   "metadata": {
    "ExecuteTime": {
     "end_time": "2019-07-21T17:57:31.971334Z",
     "start_time": "2019-07-21T17:57:31.912885Z"
    },
    "scrolled": true
   },
   "outputs": [
    {
     "data": {
      "text/plain": [
       "win     4796\n",
       "nc        48\n",
       "draw      34\n",
       "Name: result, dtype: int64"
      ]
     },
     "execution_count": 166,
     "metadata": {},
     "output_type": "execute_result"
    }
   ],
   "source": [
    "data_bouts.result.value_counts()"
   ]
  },
  {
   "cell_type": "markdown",
   "metadata": {},
   "source": [
    "- The no contests are either due to illegal moves or failed drugs tests.  \n",
    "- Example below between Nick Diaz and Anderson Silva was a no contest due to Anderson Silva failing a drugs test\n",
    "- https://www.mmamania.com/2015/2/6/7992549/no-contest-anderson-silvas-victory-over-nick-diaz-at-ufc-183"
   ]
  },
  {
   "cell_type": "code",
   "execution_count": 169,
   "metadata": {
    "ExecuteTime": {
     "end_time": "2019-07-21T17:57:56.557211Z",
     "start_time": "2019-07-21T17:57:56.483782Z"
    }
   },
   "outputs": [
    {
     "data": {
      "text/html": [
       "<div>\n",
       "<style scoped>\n",
       "    .dataframe tbody tr th:only-of-type {\n",
       "        vertical-align: middle;\n",
       "    }\n",
       "\n",
       "    .dataframe tbody tr th {\n",
       "        vertical-align: top;\n",
       "    }\n",
       "\n",
       "    .dataframe thead th {\n",
       "        text-align: right;\n",
       "    }\n",
       "</style>\n",
       "<table border=\"1\" class=\"dataframe\">\n",
       "  <thead>\n",
       "    <tr style=\"text-align: right;\">\n",
       "      <th></th>\n",
       "      <th>bout_id</th>\n",
       "      <th>event_name</th>\n",
       "      <th>date</th>\n",
       "      <th>location</th>\n",
       "      <th>attendance</th>\n",
       "      <th>result</th>\n",
       "      <th>fighter1</th>\n",
       "      <th>fighter2</th>\n",
       "      <th>winner</th>\n",
       "      <th>weight_class</th>\n",
       "      <th>title_fight</th>\n",
       "      <th>method</th>\n",
       "      <th>end_round</th>\n",
       "      <th>end_time</th>\n",
       "    </tr>\n",
       "  </thead>\n",
       "  <tbody>\n",
       "    <tr>\n",
       "      <th>3300</th>\n",
       "      <td>3301</td>\n",
       "      <td>UFC 183: Silva vs Diaz</td>\n",
       "      <td>2015-01-31</td>\n",
       "      <td>Las Vegas, Nevada, USA</td>\n",
       "      <td>13114.0</td>\n",
       "      <td>nc</td>\n",
       "      <td>Anderson Silva</td>\n",
       "      <td>Nick Diaz</td>\n",
       "      <td>NaN</td>\n",
       "      <td>Middleweight</td>\n",
       "      <td>f</td>\n",
       "      <td>Overturned</td>\n",
       "      <td>5</td>\n",
       "      <td>5:00</td>\n",
       "    </tr>\n",
       "  </tbody>\n",
       "</table>\n",
       "</div>"
      ],
      "text/plain": [
       "      bout_id              event_name       date                location  \\\n",
       "3300     3301  UFC 183: Silva vs Diaz 2015-01-31  Las Vegas, Nevada, USA   \n",
       "\n",
       "      attendance  result        fighter1   fighter2 winner  weight_class  \\\n",
       "3300      13114.0     nc  Anderson Silva  Nick Diaz    NaN  Middleweight   \n",
       "\n",
       "     title_fight      method  end_round end_time  \n",
       "3300           f  Overturned          5     5:00  "
      ]
     },
     "execution_count": 169,
     "metadata": {},
     "output_type": "execute_result"
    }
   ],
   "source": [
    "# Example of no contest between Nick Diaz and Anderson Silva\n",
    "data_bouts[(data_bouts['result']=='nc') & (data_bouts['fighter1']=='Anderson Silva')]"
   ]
  },
  {
   "cell_type": "code",
   "execution_count": 170,
   "metadata": {
    "ExecuteTime": {
     "end_time": "2019-07-21T17:58:01.138630Z",
     "start_time": "2019-07-21T17:58:01.074018Z"
    }
   },
   "outputs": [
    {
     "name": "stdout",
     "output_type": "stream",
     "text": [
      "Result Column Value Counts:\n",
      " win     4796\n",
      "nc        48\n",
      "draw      34\n",
      "Name: result, dtype: int64 \n",
      "\n",
      "Result Column Value Counts After Dropping nc AND draw:\n",
      " win    4796\n",
      "Name: result, dtype: int64\n"
     ]
    }
   ],
   "source": [
    "print('Result Column Value Counts:\\n', data_bouts.result.value_counts(), '\\n')\n",
    "\n",
    "# Drop NC rows as they dont help us predict the outcome\n",
    "data_bouts = data_bouts[data_bouts['result']!='nc']\n",
    "\n",
    "# drop the draw rows for now, so that we have a binary outcome of win or lose\n",
    "data_bouts = data_bouts[data_bouts['result']!='draw']\n",
    "\n",
    "print('Result Column Value Counts After Dropping nc AND draw:\\n', data_bouts.result.value_counts())"
   ]
  },
  {
   "cell_type": "markdown",
   "metadata": {},
   "source": [
    "#### Location column - shorten"
   ]
  },
  {
   "cell_type": "code",
   "execution_count": 26,
   "metadata": {
    "ExecuteTime": {
     "end_time": "2019-07-21T15:39:25.814581Z",
     "start_time": "2019-07-21T15:39:25.768213Z"
    },
    "collapsed": true
   },
   "outputs": [
    {
     "data": {
      "text/html": [
       "<div>\n",
       "<style scoped>\n",
       "    .dataframe tbody tr th:only-of-type {\n",
       "        vertical-align: middle;\n",
       "    }\n",
       "\n",
       "    .dataframe tbody tr th {\n",
       "        vertical-align: top;\n",
       "    }\n",
       "\n",
       "    .dataframe thead th {\n",
       "        text-align: right;\n",
       "    }\n",
       "</style>\n",
       "<table border=\"1\" class=\"dataframe\">\n",
       "  <thead>\n",
       "    <tr style=\"text-align: right;\">\n",
       "      <th></th>\n",
       "      <th>bout_id</th>\n",
       "      <th>event_name</th>\n",
       "      <th>date</th>\n",
       "      <th>location</th>\n",
       "      <th>attendance</th>\n",
       "      <th>result</th>\n",
       "      <th>fighter1</th>\n",
       "      <th>fighter2</th>\n",
       "      <th>winner</th>\n",
       "      <th>weight_class</th>\n",
       "      <th>title_fight</th>\n",
       "      <th>method</th>\n",
       "      <th>end_round</th>\n",
       "      <th>end_time</th>\n",
       "    </tr>\n",
       "  </thead>\n",
       "  <tbody>\n",
       "    <tr>\n",
       "      <th>0</th>\n",
       "      <td>1</td>\n",
       "      <td>UFC Fight Night: Magny vs. Ponzinibbio</td>\n",
       "      <td>2018-11-17</td>\n",
       "      <td>Argentina</td>\n",
       "      <td>10245.0</td>\n",
       "      <td>win</td>\n",
       "      <td>Santiago Ponzinibbio</td>\n",
       "      <td>Neil Magny</td>\n",
       "      <td>Santiago Ponzinibbio</td>\n",
       "      <td>Welterweight</td>\n",
       "      <td>f</td>\n",
       "      <td>KO/TKO-Punch</td>\n",
       "      <td>4</td>\n",
       "      <td>2:36</td>\n",
       "    </tr>\n",
       "    <tr>\n",
       "      <th>1</th>\n",
       "      <td>2</td>\n",
       "      <td>UFC Fight Night: Magny vs. Ponzinibbio</td>\n",
       "      <td>2018-11-17</td>\n",
       "      <td>Argentina</td>\n",
       "      <td>10245.0</td>\n",
       "      <td>win</td>\n",
       "      <td>Ricardo Lamas</td>\n",
       "      <td>Darren Elkins</td>\n",
       "      <td>Ricardo Lamas</td>\n",
       "      <td>Featherweight</td>\n",
       "      <td>f</td>\n",
       "      <td>KO/TKO-Elbows</td>\n",
       "      <td>3</td>\n",
       "      <td>4:09</td>\n",
       "    </tr>\n",
       "  </tbody>\n",
       "</table>\n",
       "</div>"
      ],
      "text/plain": [
       "   bout_id                              event_name       date   location  \\\n",
       "0        1  UFC Fight Night: Magny vs. Ponzinibbio 2018-11-17  Argentina   \n",
       "1        2  UFC Fight Night: Magny vs. Ponzinibbio 2018-11-17  Argentina   \n",
       "\n",
       "   attendance  result              fighter1       fighter2  \\\n",
       "0      10245.0    win  Santiago Ponzinibbio     Neil Magny   \n",
       "1      10245.0    win         Ricardo Lamas  Darren Elkins   \n",
       "\n",
       "                 winner   weight_class title_fight         method  end_round  \\\n",
       "0  Santiago Ponzinibbio   Welterweight           f   KO/TKO-Punch          4   \n",
       "1         Ricardo Lamas  Featherweight           f  KO/TKO-Elbows          3   \n",
       "\n",
       "  end_time  \n",
       "0     2:36  \n",
       "1     4:09  "
      ]
     },
     "execution_count": 26,
     "metadata": {},
     "output_type": "execute_result"
    }
   ],
   "source": [
    "# Strip the location column down to only the country\n",
    "data_bouts['location'] = data_bouts['location'].str.split(\" \").str.get(-1)\n",
    "# Rename the location column to bout_location\n",
    "data_bouts.rename({'location': 'bout_location'}, inplace=True)\n",
    "\n",
    "data_bouts.head(2)"
   ]
  },
  {
   "cell_type": "markdown",
   "metadata": {},
   "source": [
    "#### Method column - Reduce number of categories"
   ]
  },
  {
   "cell_type": "code",
   "execution_count": 27,
   "metadata": {
    "ExecuteTime": {
     "end_time": "2019-07-21T15:40:08.564509Z",
     "start_time": "2019-07-21T15:40:08.531095Z"
    },
    "collapsed": true
   },
   "outputs": [
    {
     "name": "stdout",
     "output_type": "stream",
     "text": [
      "- There were originally 44 categories of win method\n",
      "\n",
      "- Now there are only 4 categories of win method: \n",
      "DEC       2106\n",
      "KO/TKO    1645\n",
      "SUB       1031\n",
      "DQ          14\n",
      "Name: method, dtype: int64\n"
     ]
    }
   ],
   "source": [
    "print('- There were originally {} categories of win method\\n'.format(data_bouts.method.value_counts().count()))\n",
    "\n",
    "# Reduce the categories down\n",
    "data_bouts['method'] = data_bouts['method'].str.split(\"-\").str.get(0)\n",
    "\n",
    "print('- Now there are only {} categories of win method: \\n{}'.format(data_bouts.method.value_counts().count(), data_bouts.method.value_counts()))"
   ]
  },
  {
   "cell_type": "markdown",
   "metadata": {},
   "source": [
    "#### Shuffle the fighter1 and fighter2"
   ]
  },
  {
   "cell_type": "code",
   "execution_count": 209,
   "metadata": {
    "ExecuteTime": {
     "end_time": "2019-07-21T18:52:57.159688Z",
     "start_time": "2019-07-21T18:52:57.105436Z"
    },
    "scrolled": true
   },
   "outputs": [
    {
     "name": "stdout",
     "output_type": "stream",
     "text": [
      "The wiiner is always fighter1.  We need to randomize the winner between fighter1 and fighter2\n"
     ]
    }
   ],
   "source": [
    "fighter1_is_winner = data_bouts['fighter1'].equals(data_bouts['winner'])\n",
    "if fighter1_is_winner:\n",
    "    print('The wiiner is always fighter1.  We need to randomize the winner between fighter1 and fighter2')"
   ]
  },
  {
   "cell_type": "code",
   "execution_count": 218,
   "metadata": {
    "ExecuteTime": {
     "end_time": "2019-07-21T18:54:12.290864Z",
     "start_time": "2019-07-21T18:54:12.225052Z"
    },
    "collapsed": true
   },
   "outputs": [
    {
     "name": "stderr",
     "output_type": "stream",
     "text": [
      "/anaconda3/envs/ml-ufc-env/lib/python3.6/site-packages/ipykernel_launcher.py:9: UserWarning: Pandas doesn't allow columns to be created via a new attribute name - see https://pandas.pydata.org/pandas-docs/stable/indexing.html#attribute-access\n",
      "  if __name__ == '__main__':\n"
     ]
    },
    {
     "ename": "AttributeError",
     "evalue": "can't set attribute",
     "output_type": "error",
     "traceback": [
      "\u001b[0;31m---------------------------------------------------------------------------\u001b[0m",
      "\u001b[0;31mAttributeError\u001b[0m                            Traceback (most recent call last)",
      "\u001b[0;32m/anaconda3/envs/ml-ufc-env/lib/python3.6/site-packages/pandas/core/generic.py\u001b[0m in \u001b[0;36m__setattr__\u001b[0;34m(self, name, value)\u001b[0m\n\u001b[1;32m   4406\u001b[0m                 \u001b[0;32melse\u001b[0m\u001b[0;34m:\u001b[0m\u001b[0;34m\u001b[0m\u001b[0m\n\u001b[0;32m-> 4407\u001b[0;31m                     \u001b[0mobject\u001b[0m\u001b[0;34m.\u001b[0m\u001b[0m__setattr__\u001b[0m\u001b[0;34m(\u001b[0m\u001b[0mself\u001b[0m\u001b[0;34m,\u001b[0m \u001b[0mname\u001b[0m\u001b[0;34m,\u001b[0m \u001b[0mvalue\u001b[0m\u001b[0;34m)\u001b[0m\u001b[0;34m\u001b[0m\u001b[0m\n\u001b[0m\u001b[1;32m   4408\u001b[0m             \u001b[0;32mexcept\u001b[0m \u001b[0;34m(\u001b[0m\u001b[0mAttributeError\u001b[0m\u001b[0;34m,\u001b[0m \u001b[0mTypeError\u001b[0m\u001b[0;34m)\u001b[0m\u001b[0;34m:\u001b[0m\u001b[0;34m\u001b[0m\u001b[0m\n",
      "\u001b[0;31mAttributeError\u001b[0m: can't set attribute",
      "\nDuring handling of the above exception, another exception occurred:\n",
      "\u001b[0;31mAttributeError\u001b[0m                            Traceback (most recent call last)",
      "\u001b[0;32m<ipython-input-218-3a5278832c6c>\u001b[0m in \u001b[0;36m<module>\u001b[0;34m()\u001b[0m\n\u001b[1;32m      7\u001b[0m \u001b[0;34m\u001b[0m\u001b[0m\n\u001b[1;32m      8\u001b[0m \u001b[0;31m# Swap the values\u001b[0m\u001b[0;34m\u001b[0m\u001b[0;34m\u001b[0m\u001b[0m\n\u001b[0;32m----> 9\u001b[0;31m \u001b[0mdata_bouts\u001b[0m\u001b[0;34m.\u001b[0m\u001b[0miloc\u001b[0m\u001b[0;34m[\u001b[0m\u001b[0mbout_rows_to_shuffle\u001b[0m\u001b[0;34m,\u001b[0m \u001b[0;34m[\u001b[0m\u001b[0mf1_loc\u001b[0m\u001b[0;34m,\u001b[0m \u001b[0mf2_loc\u001b[0m\u001b[0;34m]\u001b[0m\u001b[0;34m]\u001b[0m\u001b[0;34m.\u001b[0m\u001b[0mvalues\u001b[0m \u001b[0;34m=\u001b[0m \u001b[0mdata_bouts\u001b[0m\u001b[0;34m.\u001b[0m\u001b[0miloc\u001b[0m\u001b[0;34m[\u001b[0m\u001b[0mbout_rows_to_shuffle\u001b[0m\u001b[0;34m,\u001b[0m \u001b[0;34m[\u001b[0m\u001b[0mf2_loc\u001b[0m\u001b[0;34m,\u001b[0m \u001b[0mf1_loc\u001b[0m\u001b[0;34m]\u001b[0m\u001b[0;34m]\u001b[0m\u001b[0;34m.\u001b[0m\u001b[0mvalues\u001b[0m\u001b[0;34m\u001b[0m\u001b[0m\n\u001b[0m",
      "\u001b[0;32m/anaconda3/envs/ml-ufc-env/lib/python3.6/site-packages/pandas/core/generic.py\u001b[0m in \u001b[0;36m__setattr__\u001b[0;34m(self, name, value)\u001b[0m\n\u001b[1;32m   4413\u001b[0m                                   \u001b[0;34m\"stable/indexing.html#attribute-access\"\u001b[0m\u001b[0;34m,\u001b[0m\u001b[0;34m\u001b[0m\u001b[0m\n\u001b[1;32m   4414\u001b[0m                                   stacklevel=2)\n\u001b[0;32m-> 4415\u001b[0;31m                 \u001b[0mobject\u001b[0m\u001b[0;34m.\u001b[0m\u001b[0m__setattr__\u001b[0m\u001b[0;34m(\u001b[0m\u001b[0mself\u001b[0m\u001b[0;34m,\u001b[0m \u001b[0mname\u001b[0m\u001b[0;34m,\u001b[0m \u001b[0mvalue\u001b[0m\u001b[0;34m)\u001b[0m\u001b[0;34m\u001b[0m\u001b[0m\n\u001b[0m\u001b[1;32m   4416\u001b[0m \u001b[0;34m\u001b[0m\u001b[0m\n\u001b[1;32m   4417\u001b[0m     \u001b[0;31m# ----------------------------------------------------------------------\u001b[0m\u001b[0;34m\u001b[0m\u001b[0;34m\u001b[0m\u001b[0m\n",
      "\u001b[0;31mAttributeError\u001b[0m: can't set attribute"
     ]
    }
   ],
   "source": [
    "# Randomly choose half of the observations to swap its fighter1 value with its fighter2 value\n",
    "bout_rows_to_shuffle = np.random.choice(len(data_bouts), size=len(data_bouts) // 2, replace=False)\n",
    "\n",
    "# Column location of fighter1 and fighter2\n",
    "f1_loc = data_bouts.columns.get_loc('fighter1')\n",
    "f2_loc = data_bouts.columns.get_loc('fighter2')\n",
    "\n",
    "# Swap the values\n",
    "data_bouts.iloc[bout_rows_to_shuffle, [f1_loc, f2_loc]] = data_bouts.iloc[bout_rows_to_shuffle, [f2_loc, f1_loc]].values"
   ]
  },
  {
   "cell_type": "markdown",
   "metadata": {},
   "source": [
    "#### Keep only useful columns"
   ]
  },
  {
   "cell_type": "code",
   "execution_count": 29,
   "metadata": {
    "ExecuteTime": {
     "end_time": "2019-07-21T15:41:57.888889Z",
     "start_time": "2019-07-21T15:41:57.856486Z"
    },
    "collapsed": true
   },
   "outputs": [
    {
     "data": {
      "text/html": [
       "<div>\n",
       "<style scoped>\n",
       "    .dataframe tbody tr th:only-of-type {\n",
       "        vertical-align: middle;\n",
       "    }\n",
       "\n",
       "    .dataframe tbody tr th {\n",
       "        vertical-align: top;\n",
       "    }\n",
       "\n",
       "    .dataframe thead th {\n",
       "        text-align: right;\n",
       "    }\n",
       "</style>\n",
       "<table border=\"1\" class=\"dataframe\">\n",
       "  <thead>\n",
       "    <tr style=\"text-align: right;\">\n",
       "      <th></th>\n",
       "      <th>date</th>\n",
       "      <th>location</th>\n",
       "      <th>fighter1</th>\n",
       "      <th>fighter2</th>\n",
       "      <th>winner</th>\n",
       "      <th>title_fight</th>\n",
       "      <th>method</th>\n",
       "      <th>end_round</th>\n",
       "    </tr>\n",
       "  </thead>\n",
       "  <tbody>\n",
       "    <tr>\n",
       "      <th>0</th>\n",
       "      <td>2018-11-17</td>\n",
       "      <td>Argentina</td>\n",
       "      <td>Santiago Ponzinibbio</td>\n",
       "      <td>Neil Magny</td>\n",
       "      <td>Santiago Ponzinibbio</td>\n",
       "      <td>f</td>\n",
       "      <td>KO/TKO</td>\n",
       "      <td>4</td>\n",
       "    </tr>\n",
       "    <tr>\n",
       "      <th>1</th>\n",
       "      <td>2018-11-17</td>\n",
       "      <td>Argentina</td>\n",
       "      <td>Ricardo Lamas</td>\n",
       "      <td>Darren Elkins</td>\n",
       "      <td>Ricardo Lamas</td>\n",
       "      <td>f</td>\n",
       "      <td>KO/TKO</td>\n",
       "      <td>3</td>\n",
       "    </tr>\n",
       "    <tr>\n",
       "      <th>2</th>\n",
       "      <td>2018-11-17</td>\n",
       "      <td>Argentina</td>\n",
       "      <td>Johnny Walker</td>\n",
       "      <td>Khalil Rountree Jr.</td>\n",
       "      <td>Johnny Walker</td>\n",
       "      <td>f</td>\n",
       "      <td>KO/TKO</td>\n",
       "      <td>1</td>\n",
       "    </tr>\n",
       "  </tbody>\n",
       "</table>\n",
       "</div>"
      ],
      "text/plain": [
       "        date   location              fighter1             fighter2  \\\n",
       "0 2018-11-17  Argentina  Santiago Ponzinibbio           Neil Magny   \n",
       "1 2018-11-17  Argentina         Ricardo Lamas        Darren Elkins   \n",
       "2 2018-11-17  Argentina         Johnny Walker  Khalil Rountree Jr.   \n",
       "\n",
       "                 winner title_fight  method  end_round  \n",
       "0  Santiago Ponzinibbio           f  KO/TKO          4  \n",
       "1         Ricardo Lamas           f  KO/TKO          3  \n",
       "2         Johnny Walker           f  KO/TKO          1  "
      ]
     },
     "execution_count": 29,
     "metadata": {},
     "output_type": "execute_result"
    }
   ],
   "source": [
    "cols_to_keep = ['date', 'location', 'fighter1', 'fighter2', 'winner', 'title_fight', 'method', 'end_round']\n",
    "data_bouts = data_bouts[cols_to_keep]\n",
    "data_bouts.head(3)"
   ]
  },
  {
   "cell_type": "markdown",
   "metadata": {},
   "source": [
    "### Save the cleaned bouts df to processed data file"
   ]
  },
  {
   "cell_type": "code",
   "execution_count": 30,
   "metadata": {
    "ExecuteTime": {
     "end_time": "2019-07-21T15:42:49.677826Z",
     "start_time": "2019-07-21T15:42:49.611429Z"
    },
    "collapsed": true
   },
   "outputs": [],
   "source": [
    "data_bouts.to_csv('../data/processed/bouts_cleaned')"
   ]
  },
  {
   "cell_type": "markdown",
   "metadata": {},
   "source": [
    "- With so many columns, the .info method doesn't give us much insight.  We need to look at different sections of the dataframe individually."
   ]
  },
  {
   "cell_type": "markdown",
   "metadata": {},
   "source": [
    "## Fighters Data"
   ]
  },
  {
   "cell_type": "markdown",
   "metadata": {
    "heading_collapsed": true
   },
   "source": [
    "### Fighters Data - Description"
   ]
  },
  {
   "cell_type": "markdown",
   "metadata": {
    "hidden": true
   },
   "source": [
    "RESERVED FOR FIGHTERS DATA DESCRIPTION"
   ]
  },
  {
   "cell_type": "markdown",
   "metadata": {
    "heading_collapsed": true,
    "hidden": true
   },
   "source": [
    "#### Fighters Data - Data Dictionary"
   ]
  },
  {
   "cell_type": "markdown",
   "metadata": {
    "hidden": true
   },
   "source": [
    "- SLpM - Significant Strikes Landed per Minute\n",
    "- Str_Acc - Significant Striking Accuracy\n",
    "- SApM - Significant Strikes Absorbed per Minute\n",
    "- Str_Def - Significant Strike Defence (the % of opponents strikes that did not land)\n",
    "- TD_Avg - Average Takedowns Landed per 15 minutes\n",
    "- TD_Acc - Takedown Accuracy\n",
    "- TD_Def - Takedown Defense (the % of opponents TD attempts that did not land)\n",
    "- Sub_Avg - Average Submissions Attempted per 15 minutes"
   ]
  },
  {
   "cell_type": "markdown",
   "metadata": {},
   "source": [
    "### Fighters Data - Import and Summary"
   ]
  },
  {
   "cell_type": "code",
   "execution_count": 119,
   "metadata": {
    "ExecuteTime": {
     "end_time": "2019-07-21T17:47:56.970295Z",
     "start_time": "2019-07-21T17:47:56.659258Z"
    }
   },
   "outputs": [
    {
     "data": {
      "text/html": [
       "<div>\n",
       "<style scoped>\n",
       "    .dataframe tbody tr th:only-of-type {\n",
       "        vertical-align: middle;\n",
       "    }\n",
       "\n",
       "    .dataframe tbody tr th {\n",
       "        vertical-align: top;\n",
       "    }\n",
       "\n",
       "    .dataframe thead th {\n",
       "        text-align: right;\n",
       "    }\n",
       "</style>\n",
       "<table border=\"1\" class=\"dataframe\">\n",
       "  <thead>\n",
       "    <tr style=\"text-align: right;\">\n",
       "      <th></th>\n",
       "      <th>fighter_id</th>\n",
       "      <th>name</th>\n",
       "      <th>win</th>\n",
       "      <th>lose</th>\n",
       "      <th>draw</th>\n",
       "      <th>nc</th>\n",
       "      <th>height</th>\n",
       "      <th>weight</th>\n",
       "      <th>reach</th>\n",
       "      <th>stance</th>\n",
       "      <th>dob</th>\n",
       "      <th>SLpM</th>\n",
       "      <th>Str_Acc</th>\n",
       "      <th>SApM</th>\n",
       "      <th>Str_Def</th>\n",
       "      <th>TD_Avg</th>\n",
       "      <th>TD_Acc</th>\n",
       "      <th>TD_Def</th>\n",
       "      <th>Sub_Avg</th>\n",
       "      <th>last_updated</th>\n",
       "    </tr>\n",
       "  </thead>\n",
       "  <tbody>\n",
       "    <tr>\n",
       "      <th>0</th>\n",
       "      <td>1</td>\n",
       "      <td>Luciano Azevedo</td>\n",
       "      <td>16</td>\n",
       "      <td>9</td>\n",
       "      <td>1</td>\n",
       "      <td>0</td>\n",
       "      <td>6' 3\"</td>\n",
       "      <td>161 lbs.</td>\n",
       "      <td>NaN</td>\n",
       "      <td>Orthodox</td>\n",
       "      <td>1981-06-25</td>\n",
       "      <td>0.76</td>\n",
       "      <td>45%</td>\n",
       "      <td>1.97</td>\n",
       "      <td>27%</td>\n",
       "      <td>2.28</td>\n",
       "      <td>11%</td>\n",
       "      <td>0%</td>\n",
       "      <td>0.0</td>\n",
       "      <td>2018-11-21 19:35:04.893952</td>\n",
       "    </tr>\n",
       "    <tr>\n",
       "      <th>1</th>\n",
       "      <td>2</td>\n",
       "      <td>Michael Byrnes</td>\n",
       "      <td>5</td>\n",
       "      <td>2</td>\n",
       "      <td>0</td>\n",
       "      <td>0</td>\n",
       "      <td>5' 11\"</td>\n",
       "      <td>155 lbs.</td>\n",
       "      <td>NaN</td>\n",
       "      <td>NaN</td>\n",
       "      <td>1990-07-17</td>\n",
       "      <td>0.00</td>\n",
       "      <td>0%</td>\n",
       "      <td>0.00</td>\n",
       "      <td>0%</td>\n",
       "      <td>0.00</td>\n",
       "      <td>0%</td>\n",
       "      <td>0%</td>\n",
       "      <td>0.0</td>\n",
       "      <td>2018-11-21 19:35:09.304165</td>\n",
       "    </tr>\n",
       "    <tr>\n",
       "      <th>2</th>\n",
       "      <td>3</td>\n",
       "      <td>Gleidson Cutis</td>\n",
       "      <td>7</td>\n",
       "      <td>3</td>\n",
       "      <td>0</td>\n",
       "      <td>0</td>\n",
       "      <td>5' 9\"</td>\n",
       "      <td>155 lbs.</td>\n",
       "      <td>NaN</td>\n",
       "      <td>Orthodox</td>\n",
       "      <td>1989-02-07</td>\n",
       "      <td>2.99</td>\n",
       "      <td>52%</td>\n",
       "      <td>8.28</td>\n",
       "      <td>59%</td>\n",
       "      <td>0.00</td>\n",
       "      <td>0%</td>\n",
       "      <td>0%</td>\n",
       "      <td>0.0</td>\n",
       "      <td>2018-11-21 19:35:11.211072</td>\n",
       "    </tr>\n",
       "  </tbody>\n",
       "</table>\n",
       "</div>"
      ],
      "text/plain": [
       "   fighter_id             name  win  lose  draw  nc  height    weight reach  \\\n",
       "0           1  Luciano Azevedo   16     9     1   0   6' 3\"  161 lbs.   NaN   \n",
       "1           2   Michael Byrnes    5     2     0   0  5' 11\"  155 lbs.   NaN   \n",
       "2           3   Gleidson Cutis    7     3     0   0   5' 9\"  155 lbs.   NaN   \n",
       "\n",
       "     stance        dob  SLpM Str_Acc  SApM Str_Def  TD_Avg TD_Acc TD_Def  \\\n",
       "0  Orthodox 1981-06-25  0.76     45%  1.97     27%    2.28    11%     0%   \n",
       "1       NaN 1990-07-17  0.00      0%  0.00      0%    0.00     0%     0%   \n",
       "2  Orthodox 1989-02-07  2.99     52%  8.28     59%    0.00     0%     0%   \n",
       "\n",
       "   Sub_Avg                last_updated  \n",
       "0      0.0  2018-11-21 19:35:04.893952  \n",
       "1      0.0  2018-11-21 19:35:09.304165  \n",
       "2      0.0  2018-11-21 19:35:11.211072  "
      ]
     },
     "execution_count": 119,
     "metadata": {},
     "output_type": "execute_result"
    }
   ],
   "source": [
    "data_fighters = pd.read_csv('../data/raw/ufc_fighters.csv', parse_dates=['dob'])\n",
    "data_fighters.head(3)"
   ]
  },
  {
   "cell_type": "code",
   "execution_count": 120,
   "metadata": {
    "ExecuteTime": {
     "end_time": "2019-07-21T17:47:57.217115Z",
     "start_time": "2019-07-21T17:47:57.168001Z"
    },
    "collapsed": true
   },
   "outputs": [
    {
     "name": "stdout",
     "output_type": "stream",
     "text": [
      "DataFrame Shape is (3187, 20)\n",
      "This represents 3187 fighters\n"
     ]
    }
   ],
   "source": [
    "print('DataFrame Shape is {}'.format(data_fighters.shape))\n",
    "print('This represents {} fighters'.format(data_fighters.shape[0]))"
   ]
  },
  {
   "cell_type": "code",
   "execution_count": 121,
   "metadata": {
    "ExecuteTime": {
     "end_time": "2019-07-21T17:47:57.464585Z",
     "start_time": "2019-07-21T17:47:57.412502Z"
    },
    "collapsed": true
   },
   "outputs": [
    {
     "name": "stdout",
     "output_type": "stream",
     "text": [
      "<class 'pandas.core.frame.DataFrame'>\n",
      "RangeIndex: 3187 entries, 0 to 3186\n",
      "Data columns (total 20 columns):\n",
      "fighter_id      3187 non-null int64\n",
      "name            3187 non-null object\n",
      "win             3187 non-null int64\n",
      "lose            3187 non-null int64\n",
      "draw            3187 non-null int64\n",
      "nc              3187 non-null int64\n",
      "height          2928 non-null object\n",
      "weight          3111 non-null object\n",
      "reach           1482 non-null object\n",
      "stance          2360 non-null object\n",
      "dob             2454 non-null datetime64[ns]\n",
      "SLpM            3187 non-null float64\n",
      "Str_Acc         3187 non-null object\n",
      "SApM            3187 non-null float64\n",
      "Str_Def         3187 non-null object\n",
      "TD_Avg          3187 non-null float64\n",
      "TD_Acc          3187 non-null object\n",
      "TD_Def          3187 non-null object\n",
      "Sub_Avg         3187 non-null float64\n",
      "last_updated    3187 non-null object\n",
      "dtypes: datetime64[ns](1), float64(4), int64(5), object(10)\n",
      "memory usage: 498.0+ KB\n"
     ]
    }
   ],
   "source": [
    "data_fighters.info()"
   ]
  },
  {
   "cell_type": "markdown",
   "metadata": {},
   "source": [
    "- We can see that there are few features which should be in a number format, but are shown as objects (in most cases they are strings).\n",
    "    - These features are height, weight, Str_Acc, Str_Def, TD_Acc and TD_Def\n",
    "- We will need to clean these features before we can explore them further"
   ]
  },
  {
   "cell_type": "markdown",
   "metadata": {},
   "source": [
    "### Fighters Data -  Exploration & Cleaning"
   ]
  },
  {
   "cell_type": "markdown",
   "metadata": {},
   "source": [
    "#### Drop % signs"
   ]
  },
  {
   "cell_type": "code",
   "execution_count": 122,
   "metadata": {
    "ExecuteTime": {
     "end_time": "2019-07-21T17:47:57.783037Z",
     "start_time": "2019-07-21T17:47:57.686185Z"
    },
    "collapsed": true
   },
   "outputs": [
    {
     "data": {
      "text/html": [
       "<div>\n",
       "<style scoped>\n",
       "    .dataframe tbody tr th:only-of-type {\n",
       "        vertical-align: middle;\n",
       "    }\n",
       "\n",
       "    .dataframe tbody tr th {\n",
       "        vertical-align: top;\n",
       "    }\n",
       "\n",
       "    .dataframe thead th {\n",
       "        text-align: right;\n",
       "    }\n",
       "</style>\n",
       "<table border=\"1\" class=\"dataframe\">\n",
       "  <thead>\n",
       "    <tr style=\"text-align: right;\">\n",
       "      <th></th>\n",
       "      <th>fighter_id</th>\n",
       "      <th>name</th>\n",
       "      <th>win</th>\n",
       "      <th>lose</th>\n",
       "      <th>draw</th>\n",
       "      <th>nc</th>\n",
       "      <th>height</th>\n",
       "      <th>weight</th>\n",
       "      <th>reach</th>\n",
       "      <th>stance</th>\n",
       "      <th>dob</th>\n",
       "      <th>SLpM</th>\n",
       "      <th>Str_Acc</th>\n",
       "      <th>SApM</th>\n",
       "      <th>Str_Def</th>\n",
       "      <th>TD_Avg</th>\n",
       "      <th>TD_Acc</th>\n",
       "      <th>TD_Def</th>\n",
       "      <th>Sub_Avg</th>\n",
       "      <th>last_updated</th>\n",
       "    </tr>\n",
       "  </thead>\n",
       "  <tbody>\n",
       "    <tr>\n",
       "      <th>0</th>\n",
       "      <td>1</td>\n",
       "      <td>Luciano Azevedo</td>\n",
       "      <td>16</td>\n",
       "      <td>9</td>\n",
       "      <td>1</td>\n",
       "      <td>0</td>\n",
       "      <td>6' 3\"</td>\n",
       "      <td>161 lbs.</td>\n",
       "      <td>NaN</td>\n",
       "      <td>Orthodox</td>\n",
       "      <td>1981-06-25</td>\n",
       "      <td>0.76</td>\n",
       "      <td>45</td>\n",
       "      <td>1.97</td>\n",
       "      <td>27</td>\n",
       "      <td>2.28</td>\n",
       "      <td>11</td>\n",
       "      <td>0</td>\n",
       "      <td>0.0</td>\n",
       "      <td>2018-11-21 19:35:04.893952</td>\n",
       "    </tr>\n",
       "    <tr>\n",
       "      <th>1</th>\n",
       "      <td>2</td>\n",
       "      <td>Michael Byrnes</td>\n",
       "      <td>5</td>\n",
       "      <td>2</td>\n",
       "      <td>0</td>\n",
       "      <td>0</td>\n",
       "      <td>5' 11\"</td>\n",
       "      <td>155 lbs.</td>\n",
       "      <td>NaN</td>\n",
       "      <td>NaN</td>\n",
       "      <td>1990-07-17</td>\n",
       "      <td>0.00</td>\n",
       "      <td>0</td>\n",
       "      <td>0.00</td>\n",
       "      <td>0</td>\n",
       "      <td>0.00</td>\n",
       "      <td>0</td>\n",
       "      <td>0</td>\n",
       "      <td>0.0</td>\n",
       "      <td>2018-11-21 19:35:09.304165</td>\n",
       "    </tr>\n",
       "  </tbody>\n",
       "</table>\n",
       "</div>"
      ],
      "text/plain": [
       "   fighter_id             name  win  lose  draw  nc  height    weight reach  \\\n",
       "0           1  Luciano Azevedo   16     9     1   0   6' 3\"  161 lbs.   NaN   \n",
       "1           2   Michael Byrnes    5     2     0   0  5' 11\"  155 lbs.   NaN   \n",
       "\n",
       "     stance        dob  SLpM Str_Acc  SApM Str_Def  TD_Avg TD_Acc TD_Def  \\\n",
       "0  Orthodox 1981-06-25  0.76      45  1.97      27    2.28     11      0   \n",
       "1       NaN 1990-07-17  0.00       0  0.00       0    0.00      0      0   \n",
       "\n",
       "   Sub_Avg                last_updated  \n",
       "0      0.0  2018-11-21 19:35:04.893952  \n",
       "1      0.0  2018-11-21 19:35:09.304165  "
      ]
     },
     "execution_count": 122,
     "metadata": {},
     "output_type": "execute_result"
    }
   ],
   "source": [
    "pct_cols_to_change = ['Str_Acc', 'Str_Def', 'TD_Acc', 'TD_Def']\n",
    "for col in pct_cols_to_change:\n",
    "    data_fighters[col] = data_fighters[col].str.replace('%','')\n",
    "data_fighters.head(2)"
   ]
  },
  {
   "cell_type": "markdown",
   "metadata": {},
   "source": [
    "#### NaN values"
   ]
  },
  {
   "cell_type": "code",
   "execution_count": 123,
   "metadata": {
    "ExecuteTime": {
     "end_time": "2019-07-21T17:47:58.095034Z",
     "start_time": "2019-07-21T17:47:58.025345Z"
    },
    "collapsed": true
   },
   "outputs": [
    {
     "data": {
      "text/plain": [
       "reach     1705\n",
       "stance     827\n",
       "dob        733\n",
       "height     259\n",
       "weight      76\n",
       "name         0\n",
       "dtype: int64"
      ]
     },
     "execution_count": 123,
     "metadata": {},
     "output_type": "execute_result"
    }
   ],
   "source": [
    "data_fighters.isna().sum().sort_values(ascending=False)[:6]"
   ]
  },
  {
   "cell_type": "markdown",
   "metadata": {},
   "source": [
    "- We will deal with these NaN values further down"
   ]
  },
  {
   "cell_type": "markdown",
   "metadata": {},
   "source": [
    "#### Reach column"
   ]
  },
  {
   "cell_type": "code",
   "execution_count": 124,
   "metadata": {
    "ExecuteTime": {
     "end_time": "2019-07-21T17:47:58.567505Z",
     "start_time": "2019-07-21T17:47:58.495265Z"
    },
    "collapsed": true
   },
   "outputs": [],
   "source": [
    "# Strip the \" sign and convert to type int\n",
    "data_fighters['reach'] = data_fighters['reach'].str.replace('\"','')\n",
    "\n",
    "# Convert from type string, to type float\n",
    "data_fighters['reach'] = data_fighters['reach'].astype(float)"
   ]
  },
  {
   "cell_type": "code",
   "execution_count": 125,
   "metadata": {
    "ExecuteTime": {
     "end_time": "2019-07-21T17:47:58.871180Z",
     "start_time": "2019-07-21T17:47:58.815204Z"
    },
    "collapsed": true
   },
   "outputs": [
    {
     "ename": "NameError",
     "evalue": "name 'column_distplot' is not defined",
     "output_type": "error",
     "traceback": [
      "\u001b[0;31m---------------------------------------------------------------------------\u001b[0m",
      "\u001b[0;31mNameError\u001b[0m                                 Traceback (most recent call last)",
      "\u001b[0;32m<ipython-input-125-0003c0b70a74>\u001b[0m in \u001b[0;36m<module>\u001b[0;34m()\u001b[0m\n\u001b[0;32m----> 1\u001b[0;31m \u001b[0mcolumn_distplot\u001b[0m\u001b[0;34m(\u001b[0m\u001b[0mdata_fighters\u001b[0m\u001b[0;34m,\u001b[0m \u001b[0;34m'reach'\u001b[0m\u001b[0;34m)\u001b[0m\u001b[0;34m\u001b[0m\u001b[0m\n\u001b[0m",
      "\u001b[0;31mNameError\u001b[0m: name 'column_distplot' is not defined"
     ]
    }
   ],
   "source": [
    "column_distplot(data_fighters, 'reach')"
   ]
  },
  {
   "cell_type": "markdown",
   "metadata": {},
   "source": [
    "- As this reach distribution is approximately normally distributed with no extreme outliers, we will fill the na values with the mean value of reach"
   ]
  },
  {
   "cell_type": "code",
   "execution_count": 126,
   "metadata": {
    "ExecuteTime": {
     "end_time": "2019-07-21T17:47:59.031659Z",
     "start_time": "2019-07-21T17:47:58.975918Z"
    },
    "collapsed": true
   },
   "outputs": [],
   "source": [
    "data_fighters.reach = data_fighters.reach.fillna(round(data_fighters.reach.mean(), 0))"
   ]
  },
  {
   "cell_type": "markdown",
   "metadata": {},
   "source": [
    "#### Stance column"
   ]
  },
  {
   "cell_type": "code",
   "execution_count": 127,
   "metadata": {
    "ExecuteTime": {
     "end_time": "2019-07-21T17:47:59.377407Z",
     "start_time": "2019-07-21T17:47:59.302656Z"
    },
    "collapsed": true
   },
   "outputs": [
    {
     "ename": "NameError",
     "evalue": "name 'column_countplot' is not defined",
     "output_type": "error",
     "traceback": [
      "\u001b[0;31m---------------------------------------------------------------------------\u001b[0m",
      "\u001b[0;31mNameError\u001b[0m                                 Traceback (most recent call last)",
      "\u001b[0;32m<ipython-input-127-47c86b9954a9>\u001b[0m in \u001b[0;36m<module>\u001b[0;34m()\u001b[0m\n\u001b[0;32m----> 1\u001b[0;31m \u001b[0mcolumn_countplot\u001b[0m\u001b[0;34m(\u001b[0m\u001b[0mdata_fighters\u001b[0m\u001b[0;34m,\u001b[0m \u001b[0;34m'stance'\u001b[0m\u001b[0;34m,\u001b[0m \u001b[0mshow_count\u001b[0m\u001b[0;34m=\u001b[0m\u001b[0;32mTrue\u001b[0m\u001b[0;34m)\u001b[0m\u001b[0;34m\u001b[0m\u001b[0m\n\u001b[0m",
      "\u001b[0;31mNameError\u001b[0m: name 'column_countplot' is not defined"
     ]
    }
   ],
   "source": [
    "column_countplot(data_fighters, 'stance', show_count=True)"
   ]
  },
  {
   "cell_type": "markdown",
   "metadata": {},
   "source": [
    "- The vast majority of fighters fight in the orthodox stance, so it is easiest to fill the na values with this modal average"
   ]
  },
  {
   "cell_type": "code",
   "execution_count": 128,
   "metadata": {
    "ExecuteTime": {
     "end_time": "2019-07-21T17:47:59.776805Z",
     "start_time": "2019-07-21T17:47:59.715535Z"
    },
    "collapsed": true
   },
   "outputs": [],
   "source": [
    "stance_mode_avg = data_fighters.stance.mode()[0]\n",
    "data_fighters.stance.fillna(stance_mode_avg, inplace=True)"
   ]
  },
  {
   "cell_type": "markdown",
   "metadata": {},
   "source": [
    "#### dob column"
   ]
  },
  {
   "cell_type": "code",
   "execution_count": 129,
   "metadata": {
    "ExecuteTime": {
     "end_time": "2019-07-21T17:48:02.564769Z",
     "start_time": "2019-07-21T17:48:01.943729Z"
    },
    "collapsed": true
   },
   "outputs": [
    {
     "name": "stderr",
     "output_type": "stream",
     "text": [
      "/anaconda3/envs/ml-ufc-env/lib/python3.6/site-packages/ipykernel_launcher.py:4: SettingWithCopyWarning: \n",
      "A value is trying to be set on a copy of a slice from a DataFrame\n",
      "\n",
      "See the caveats in the documentation: http://pandas.pydata.org/pandas-docs/stable/indexing.html#indexing-view-versus-copy\n",
      "  after removing the cwd from sys.path.\n",
      "/anaconda3/envs/ml-ufc-env/lib/python3.6/site-packages/pandas/core/indexing.py:189: SettingWithCopyWarning: \n",
      "A value is trying to be set on a copy of a slice from a DataFrame\n",
      "\n",
      "See the caveats in the documentation: http://pandas.pydata.org/pandas-docs/stable/indexing.html#indexing-view-versus-copy\n",
      "  self._setitem_with_indexer(indexer, value)\n"
     ]
    }
   ],
   "source": [
    "# Create the year of birth column (dob_year)\n",
    "data_fighters['dob_year'] = 0\n",
    "for index, value in enumerate(data_fighters['dob']):\n",
    "    data_fighters['dob_year'][index] = data_fighters['dob'][index].year\n",
    "    \n",
    "today = datetime.date.today()\n",
    "\n",
    "# Fighter's age_today = difference in today's year and their year of birth\n",
    "data_fighters['age_today'] = today.year - data_fighters.dob_year"
   ]
  },
  {
   "cell_type": "code",
   "execution_count": 130,
   "metadata": {
    "ExecuteTime": {
     "end_time": "2019-07-21T17:48:02.829342Z",
     "start_time": "2019-07-21T17:48:02.777753Z"
    },
    "collapsed": true
   },
   "outputs": [
    {
     "ename": "NameError",
     "evalue": "name 'column_distplot' is not defined",
     "output_type": "error",
     "traceback": [
      "\u001b[0;31m---------------------------------------------------------------------------\u001b[0m",
      "\u001b[0;31mNameError\u001b[0m                                 Traceback (most recent call last)",
      "\u001b[0;32m<ipython-input-130-8abea84ef296>\u001b[0m in \u001b[0;36m<module>\u001b[0;34m()\u001b[0m\n\u001b[0;32m----> 1\u001b[0;31m \u001b[0mcolumn_distplot\u001b[0m\u001b[0;34m(\u001b[0m\u001b[0mdata_fighters\u001b[0m\u001b[0;34m,\u001b[0m \u001b[0;34m'age_today'\u001b[0m\u001b[0;34m,\u001b[0m \u001b[0mxlabel\u001b[0m\u001b[0;34m=\u001b[0m\u001b[0;34m'Age of Fighters Today'\u001b[0m\u001b[0;34m)\u001b[0m\u001b[0;34m\u001b[0m\u001b[0m\n\u001b[0m",
      "\u001b[0;31mNameError\u001b[0m: name 'column_distplot' is not defined"
     ]
    }
   ],
   "source": [
    "column_distplot(data_fighters, 'age_today', xlabel='Age of Fighters Today')"
   ]
  },
  {
   "cell_type": "markdown",
   "metadata": {},
   "source": [
    "- The distribution of fighter ages is fairly normal, but due to the skewness and kurtosis we will choose to use the median age to fill in the NaN values."
   ]
  },
  {
   "cell_type": "code",
   "execution_count": 131,
   "metadata": {
    "ExecuteTime": {
     "end_time": "2019-07-21T17:48:03.125485Z",
     "start_time": "2019-07-21T17:48:03.049901Z"
    },
    "collapsed": true
   },
   "outputs": [
    {
     "name": "stdout",
     "output_type": "stream",
     "text": [
      "The median date of birth is 1986-3-12\n"
     ]
    }
   ],
   "source": [
    "# Calculate the median date of birth\n",
    "dates = list(data_fighters.sort_values('dob')['dob'])\n",
    "median_dob = dates[len(dates)//2]\n",
    "print('The median date of birth is {}-{}-{}'.format(median_dob.year, median_dob.month, median_dob.day))\n",
    "\n",
    "# Fill na values with this median date of birth\n",
    "data_fighters.dob.fillna(median_dob, inplace=True)"
   ]
  },
  {
   "cell_type": "markdown",
   "metadata": {},
   "source": [
    "#### height column"
   ]
  },
  {
   "cell_type": "code",
   "execution_count": 132,
   "metadata": {
    "ExecuteTime": {
     "end_time": "2019-07-21T17:48:04.809837Z",
     "start_time": "2019-07-21T17:48:04.749269Z"
    },
    "collapsed": true
   },
   "outputs": [],
   "source": [
    "# Drop ' and \" signs\n",
    "data_fighters['height'] = data_fighters['height'].str.replace(\"'\",\"\")\n",
    "data_fighters['height'] = data_fighters['height'].str.replace('\"',\"\")"
   ]
  },
  {
   "cell_type": "code",
   "execution_count": 133,
   "metadata": {
    "ExecuteTime": {
     "end_time": "2019-07-21T17:48:05.120020Z",
     "start_time": "2019-07-21T17:48:05.049577Z"
    },
    "collapsed": true
   },
   "outputs": [
    {
     "ename": "NameError",
     "evalue": "name 'parse_height' is not defined",
     "output_type": "error",
     "traceback": [
      "\u001b[0;31m---------------------------------------------------------------------------\u001b[0m",
      "\u001b[0;31mNameError\u001b[0m                                 Traceback (most recent call last)",
      "\u001b[0;32m<ipython-input-133-80b9da255432>\u001b[0m in \u001b[0;36m<module>\u001b[0;34m()\u001b[0m\n\u001b[1;32m      2\u001b[0m \u001b[0;31m# Note that we can only perform the operation on columns that are not NaN\u001b[0m\u001b[0;34m\u001b[0m\u001b[0;34m\u001b[0m\u001b[0m\n\u001b[1;32m      3\u001b[0m \u001b[0mheight_not_na\u001b[0m \u001b[0;34m=\u001b[0m \u001b[0;34m~\u001b[0m\u001b[0mdata_fighters\u001b[0m\u001b[0;34m[\u001b[0m\u001b[0;34m'height'\u001b[0m\u001b[0;34m]\u001b[0m\u001b[0;34m.\u001b[0m\u001b[0misna\u001b[0m\u001b[0;34m(\u001b[0m\u001b[0;34m)\u001b[0m\u001b[0;34m\u001b[0m\u001b[0m\n\u001b[0;32m----> 4\u001b[0;31m \u001b[0mdata_fighters\u001b[0m\u001b[0;34m[\u001b[0m\u001b[0;34m'height_inches'\u001b[0m\u001b[0;34m]\u001b[0m \u001b[0;34m=\u001b[0m \u001b[0mdata_fighters\u001b[0m\u001b[0;34m[\u001b[0m\u001b[0;34m'height'\u001b[0m\u001b[0;34m]\u001b[0m\u001b[0;34m[\u001b[0m\u001b[0mheight_not_na\u001b[0m\u001b[0;34m]\u001b[0m\u001b[0;34m.\u001b[0m\u001b[0mapply\u001b[0m\u001b[0;34m(\u001b[0m\u001b[0;32mlambda\u001b[0m \u001b[0mx\u001b[0m\u001b[0;34m:\u001b[0m \u001b[0mparse_height\u001b[0m\u001b[0;34m(\u001b[0m\u001b[0mx\u001b[0m\u001b[0;34m)\u001b[0m\u001b[0;34m)\u001b[0m\u001b[0;34m\u001b[0m\u001b[0m\n\u001b[0m",
      "\u001b[0;32m/anaconda3/envs/ml-ufc-env/lib/python3.6/site-packages/pandas/core/series.py\u001b[0m in \u001b[0;36mapply\u001b[0;34m(self, func, convert_dtype, args, **kwds)\u001b[0m\n\u001b[1;32m   3192\u001b[0m             \u001b[0;32melse\u001b[0m\u001b[0;34m:\u001b[0m\u001b[0;34m\u001b[0m\u001b[0m\n\u001b[1;32m   3193\u001b[0m                 \u001b[0mvalues\u001b[0m \u001b[0;34m=\u001b[0m \u001b[0mself\u001b[0m\u001b[0;34m.\u001b[0m\u001b[0mastype\u001b[0m\u001b[0;34m(\u001b[0m\u001b[0mobject\u001b[0m\u001b[0;34m)\u001b[0m\u001b[0;34m.\u001b[0m\u001b[0mvalues\u001b[0m\u001b[0;34m\u001b[0m\u001b[0m\n\u001b[0;32m-> 3194\u001b[0;31m                 \u001b[0mmapped\u001b[0m \u001b[0;34m=\u001b[0m \u001b[0mlib\u001b[0m\u001b[0;34m.\u001b[0m\u001b[0mmap_infer\u001b[0m\u001b[0;34m(\u001b[0m\u001b[0mvalues\u001b[0m\u001b[0;34m,\u001b[0m \u001b[0mf\u001b[0m\u001b[0;34m,\u001b[0m \u001b[0mconvert\u001b[0m\u001b[0;34m=\u001b[0m\u001b[0mconvert_dtype\u001b[0m\u001b[0;34m)\u001b[0m\u001b[0;34m\u001b[0m\u001b[0m\n\u001b[0m\u001b[1;32m   3195\u001b[0m \u001b[0;34m\u001b[0m\u001b[0m\n\u001b[1;32m   3196\u001b[0m         \u001b[0;32mif\u001b[0m \u001b[0mlen\u001b[0m\u001b[0;34m(\u001b[0m\u001b[0mmapped\u001b[0m\u001b[0;34m)\u001b[0m \u001b[0;32mand\u001b[0m \u001b[0misinstance\u001b[0m\u001b[0;34m(\u001b[0m\u001b[0mmapped\u001b[0m\u001b[0;34m[\u001b[0m\u001b[0;36m0\u001b[0m\u001b[0;34m]\u001b[0m\u001b[0;34m,\u001b[0m \u001b[0mSeries\u001b[0m\u001b[0;34m)\u001b[0m\u001b[0;34m:\u001b[0m\u001b[0;34m\u001b[0m\u001b[0m\n",
      "\u001b[0;32mpandas/_libs/src/inference.pyx\u001b[0m in \u001b[0;36mpandas._libs.lib.map_infer\u001b[0;34m()\u001b[0m\n",
      "\u001b[0;32m<ipython-input-133-80b9da255432>\u001b[0m in \u001b[0;36m<lambda>\u001b[0;34m(x)\u001b[0m\n\u001b[1;32m      2\u001b[0m \u001b[0;31m# Note that we can only perform the operation on columns that are not NaN\u001b[0m\u001b[0;34m\u001b[0m\u001b[0;34m\u001b[0m\u001b[0m\n\u001b[1;32m      3\u001b[0m \u001b[0mheight_not_na\u001b[0m \u001b[0;34m=\u001b[0m \u001b[0;34m~\u001b[0m\u001b[0mdata_fighters\u001b[0m\u001b[0;34m[\u001b[0m\u001b[0;34m'height'\u001b[0m\u001b[0;34m]\u001b[0m\u001b[0;34m.\u001b[0m\u001b[0misna\u001b[0m\u001b[0;34m(\u001b[0m\u001b[0;34m)\u001b[0m\u001b[0;34m\u001b[0m\u001b[0m\n\u001b[0;32m----> 4\u001b[0;31m \u001b[0mdata_fighters\u001b[0m\u001b[0;34m[\u001b[0m\u001b[0;34m'height_inches'\u001b[0m\u001b[0;34m]\u001b[0m \u001b[0;34m=\u001b[0m \u001b[0mdata_fighters\u001b[0m\u001b[0;34m[\u001b[0m\u001b[0;34m'height'\u001b[0m\u001b[0;34m]\u001b[0m\u001b[0;34m[\u001b[0m\u001b[0mheight_not_na\u001b[0m\u001b[0;34m]\u001b[0m\u001b[0;34m.\u001b[0m\u001b[0mapply\u001b[0m\u001b[0;34m(\u001b[0m\u001b[0;32mlambda\u001b[0m \u001b[0mx\u001b[0m\u001b[0;34m:\u001b[0m \u001b[0mparse_height\u001b[0m\u001b[0;34m(\u001b[0m\u001b[0mx\u001b[0m\u001b[0;34m)\u001b[0m\u001b[0;34m)\u001b[0m\u001b[0;34m\u001b[0m\u001b[0m\n\u001b[0m",
      "\u001b[0;31mNameError\u001b[0m: name 'parse_height' is not defined"
     ]
    }
   ],
   "source": [
    "# Calculate height in inches based off the feet and inches in height column\n",
    "# Note that we can only perform the operation on columns that are not NaN\n",
    "height_not_na = ~data_fighters['height'].isna()\n",
    "data_fighters['height_inches'] = data_fighters['height'][height_not_na].apply(lambda x: parse_height(x))"
   ]
  },
  {
   "cell_type": "code",
   "execution_count": 134,
   "metadata": {
    "ExecuteTime": {
     "end_time": "2019-07-21T17:48:05.396172Z",
     "start_time": "2019-07-21T17:48:05.338613Z"
    },
    "collapsed": true
   },
   "outputs": [
    {
     "ename": "NameError",
     "evalue": "name 'column_distplot' is not defined",
     "output_type": "error",
     "traceback": [
      "\u001b[0;31m---------------------------------------------------------------------------\u001b[0m",
      "\u001b[0;31mNameError\u001b[0m                                 Traceback (most recent call last)",
      "\u001b[0;32m<ipython-input-134-bbc45290371c>\u001b[0m in \u001b[0;36m<module>\u001b[0;34m()\u001b[0m\n\u001b[0;32m----> 1\u001b[0;31m \u001b[0mcolumn_distplot\u001b[0m\u001b[0;34m(\u001b[0m\u001b[0mdata_fighters\u001b[0m\u001b[0;34m,\u001b[0m \u001b[0;34m'height_inches'\u001b[0m\u001b[0;34m)\u001b[0m\u001b[0;34m\u001b[0m\u001b[0m\n\u001b[0m",
      "\u001b[0;31mNameError\u001b[0m: name 'column_distplot' is not defined"
     ]
    }
   ],
   "source": [
    "column_distplot(data_fighters, 'height_inches')"
   ]
  },
  {
   "cell_type": "markdown",
   "metadata": {},
   "source": [
    "- We will use the mean height to fill in NaN values for height"
   ]
  },
  {
   "cell_type": "code",
   "execution_count": 135,
   "metadata": {
    "ExecuteTime": {
     "end_time": "2019-07-21T17:48:06.091050Z",
     "start_time": "2019-07-21T17:48:05.975846Z"
    },
    "collapsed": true
   },
   "outputs": [
    {
     "ename": "KeyError",
     "evalue": "'height_inches'",
     "output_type": "error",
     "traceback": [
      "\u001b[0;31m---------------------------------------------------------------------------\u001b[0m",
      "\u001b[0;31mKeyError\u001b[0m                                  Traceback (most recent call last)",
      "\u001b[0;32m/anaconda3/envs/ml-ufc-env/lib/python3.6/site-packages/pandas/core/indexes/base.py\u001b[0m in \u001b[0;36mget_loc\u001b[0;34m(self, key, method, tolerance)\u001b[0m\n\u001b[1;32m   3077\u001b[0m             \u001b[0;32mtry\u001b[0m\u001b[0;34m:\u001b[0m\u001b[0;34m\u001b[0m\u001b[0m\n\u001b[0;32m-> 3078\u001b[0;31m                 \u001b[0;32mreturn\u001b[0m \u001b[0mself\u001b[0m\u001b[0;34m.\u001b[0m\u001b[0m_engine\u001b[0m\u001b[0;34m.\u001b[0m\u001b[0mget_loc\u001b[0m\u001b[0;34m(\u001b[0m\u001b[0mkey\u001b[0m\u001b[0;34m)\u001b[0m\u001b[0;34m\u001b[0m\u001b[0m\n\u001b[0m\u001b[1;32m   3079\u001b[0m             \u001b[0;32mexcept\u001b[0m \u001b[0mKeyError\u001b[0m\u001b[0;34m:\u001b[0m\u001b[0;34m\u001b[0m\u001b[0m\n",
      "\u001b[0;32mpandas/_libs/index.pyx\u001b[0m in \u001b[0;36mpandas._libs.index.IndexEngine.get_loc\u001b[0;34m()\u001b[0m\n",
      "\u001b[0;32mpandas/_libs/index.pyx\u001b[0m in \u001b[0;36mpandas._libs.index.IndexEngine.get_loc\u001b[0;34m()\u001b[0m\n",
      "\u001b[0;32mpandas/_libs/hashtable_class_helper.pxi\u001b[0m in \u001b[0;36mpandas._libs.hashtable.PyObjectHashTable.get_item\u001b[0;34m()\u001b[0m\n",
      "\u001b[0;32mpandas/_libs/hashtable_class_helper.pxi\u001b[0m in \u001b[0;36mpandas._libs.hashtable.PyObjectHashTable.get_item\u001b[0;34m()\u001b[0m\n",
      "\u001b[0;31mKeyError\u001b[0m: 'height_inches'",
      "\nDuring handling of the above exception, another exception occurred:\n",
      "\u001b[0;31mKeyError\u001b[0m                                  Traceback (most recent call last)",
      "\u001b[0;32m<ipython-input-135-1ccf045204c3>\u001b[0m in \u001b[0;36m<module>\u001b[0;34m()\u001b[0m\n\u001b[0;32m----> 1\u001b[0;31m \u001b[0mheight_inches_not_na\u001b[0m \u001b[0;34m=\u001b[0m \u001b[0mdata_fighters\u001b[0m\u001b[0;34m[\u001b[0m\u001b[0;34m'height_inches'\u001b[0m\u001b[0;34m]\u001b[0m\u001b[0;34m[\u001b[0m\u001b[0;34m~\u001b[0m\u001b[0mdata_fighters\u001b[0m\u001b[0;34m[\u001b[0m\u001b[0;34m'height_inches'\u001b[0m\u001b[0;34m]\u001b[0m\u001b[0;34m.\u001b[0m\u001b[0misna\u001b[0m\u001b[0;34m(\u001b[0m\u001b[0;34m)\u001b[0m\u001b[0;34m]\u001b[0m\u001b[0;34m\u001b[0m\u001b[0m\n\u001b[0m\u001b[1;32m      2\u001b[0m \u001b[0mheight_mean\u001b[0m \u001b[0;34m=\u001b[0m \u001b[0mheight_inches_not_na\u001b[0m\u001b[0;34m.\u001b[0m\u001b[0mmean\u001b[0m\u001b[0;34m(\u001b[0m\u001b[0;34m)\u001b[0m\u001b[0;34m\u001b[0m\u001b[0m\n\u001b[1;32m      3\u001b[0m \u001b[0mprint\u001b[0m\u001b[0;34m(\u001b[0m\u001b[0;34m'The mean height of a fighter is {} inches'\u001b[0m\u001b[0;34m.\u001b[0m\u001b[0mformat\u001b[0m\u001b[0;34m(\u001b[0m\u001b[0mround\u001b[0m\u001b[0;34m(\u001b[0m\u001b[0mheight_mean\u001b[0m\u001b[0;34m,\u001b[0m \u001b[0;36m1\u001b[0m\u001b[0;34m)\u001b[0m\u001b[0;34m)\u001b[0m\u001b[0;34m)\u001b[0m\u001b[0;34m\u001b[0m\u001b[0m\n\u001b[1;32m      4\u001b[0m \u001b[0;34m\u001b[0m\u001b[0m\n\u001b[1;32m      5\u001b[0m \u001b[0;31m# Fill na values with this mean height\u001b[0m\u001b[0;34m\u001b[0m\u001b[0;34m\u001b[0m\u001b[0m\n",
      "\u001b[0;32m/anaconda3/envs/ml-ufc-env/lib/python3.6/site-packages/pandas/core/frame.py\u001b[0m in \u001b[0;36m__getitem__\u001b[0;34m(self, key)\u001b[0m\n\u001b[1;32m   2686\u001b[0m             \u001b[0;32mreturn\u001b[0m \u001b[0mself\u001b[0m\u001b[0;34m.\u001b[0m\u001b[0m_getitem_multilevel\u001b[0m\u001b[0;34m(\u001b[0m\u001b[0mkey\u001b[0m\u001b[0;34m)\u001b[0m\u001b[0;34m\u001b[0m\u001b[0m\n\u001b[1;32m   2687\u001b[0m         \u001b[0;32melse\u001b[0m\u001b[0;34m:\u001b[0m\u001b[0;34m\u001b[0m\u001b[0m\n\u001b[0;32m-> 2688\u001b[0;31m             \u001b[0;32mreturn\u001b[0m \u001b[0mself\u001b[0m\u001b[0;34m.\u001b[0m\u001b[0m_getitem_column\u001b[0m\u001b[0;34m(\u001b[0m\u001b[0mkey\u001b[0m\u001b[0;34m)\u001b[0m\u001b[0;34m\u001b[0m\u001b[0m\n\u001b[0m\u001b[1;32m   2689\u001b[0m \u001b[0;34m\u001b[0m\u001b[0m\n\u001b[1;32m   2690\u001b[0m     \u001b[0;32mdef\u001b[0m \u001b[0m_getitem_column\u001b[0m\u001b[0;34m(\u001b[0m\u001b[0mself\u001b[0m\u001b[0;34m,\u001b[0m \u001b[0mkey\u001b[0m\u001b[0;34m)\u001b[0m\u001b[0;34m:\u001b[0m\u001b[0;34m\u001b[0m\u001b[0m\n",
      "\u001b[0;32m/anaconda3/envs/ml-ufc-env/lib/python3.6/site-packages/pandas/core/frame.py\u001b[0m in \u001b[0;36m_getitem_column\u001b[0;34m(self, key)\u001b[0m\n\u001b[1;32m   2693\u001b[0m         \u001b[0;31m# get column\u001b[0m\u001b[0;34m\u001b[0m\u001b[0;34m\u001b[0m\u001b[0m\n\u001b[1;32m   2694\u001b[0m         \u001b[0;32mif\u001b[0m \u001b[0mself\u001b[0m\u001b[0;34m.\u001b[0m\u001b[0mcolumns\u001b[0m\u001b[0;34m.\u001b[0m\u001b[0mis_unique\u001b[0m\u001b[0;34m:\u001b[0m\u001b[0;34m\u001b[0m\u001b[0m\n\u001b[0;32m-> 2695\u001b[0;31m             \u001b[0;32mreturn\u001b[0m \u001b[0mself\u001b[0m\u001b[0;34m.\u001b[0m\u001b[0m_get_item_cache\u001b[0m\u001b[0;34m(\u001b[0m\u001b[0mkey\u001b[0m\u001b[0;34m)\u001b[0m\u001b[0;34m\u001b[0m\u001b[0m\n\u001b[0m\u001b[1;32m   2696\u001b[0m \u001b[0;34m\u001b[0m\u001b[0m\n\u001b[1;32m   2697\u001b[0m         \u001b[0;31m# duplicate columns & possible reduce dimensionality\u001b[0m\u001b[0;34m\u001b[0m\u001b[0;34m\u001b[0m\u001b[0m\n",
      "\u001b[0;32m/anaconda3/envs/ml-ufc-env/lib/python3.6/site-packages/pandas/core/generic.py\u001b[0m in \u001b[0;36m_get_item_cache\u001b[0;34m(self, item)\u001b[0m\n\u001b[1;32m   2487\u001b[0m         \u001b[0mres\u001b[0m \u001b[0;34m=\u001b[0m \u001b[0mcache\u001b[0m\u001b[0;34m.\u001b[0m\u001b[0mget\u001b[0m\u001b[0;34m(\u001b[0m\u001b[0mitem\u001b[0m\u001b[0;34m)\u001b[0m\u001b[0;34m\u001b[0m\u001b[0m\n\u001b[1;32m   2488\u001b[0m         \u001b[0;32mif\u001b[0m \u001b[0mres\u001b[0m \u001b[0;32mis\u001b[0m \u001b[0;32mNone\u001b[0m\u001b[0;34m:\u001b[0m\u001b[0;34m\u001b[0m\u001b[0m\n\u001b[0;32m-> 2489\u001b[0;31m             \u001b[0mvalues\u001b[0m \u001b[0;34m=\u001b[0m \u001b[0mself\u001b[0m\u001b[0;34m.\u001b[0m\u001b[0m_data\u001b[0m\u001b[0;34m.\u001b[0m\u001b[0mget\u001b[0m\u001b[0;34m(\u001b[0m\u001b[0mitem\u001b[0m\u001b[0;34m)\u001b[0m\u001b[0;34m\u001b[0m\u001b[0m\n\u001b[0m\u001b[1;32m   2490\u001b[0m             \u001b[0mres\u001b[0m \u001b[0;34m=\u001b[0m \u001b[0mself\u001b[0m\u001b[0;34m.\u001b[0m\u001b[0m_box_item_values\u001b[0m\u001b[0;34m(\u001b[0m\u001b[0mitem\u001b[0m\u001b[0;34m,\u001b[0m \u001b[0mvalues\u001b[0m\u001b[0;34m)\u001b[0m\u001b[0;34m\u001b[0m\u001b[0m\n\u001b[1;32m   2491\u001b[0m             \u001b[0mcache\u001b[0m\u001b[0;34m[\u001b[0m\u001b[0mitem\u001b[0m\u001b[0;34m]\u001b[0m \u001b[0;34m=\u001b[0m \u001b[0mres\u001b[0m\u001b[0;34m\u001b[0m\u001b[0m\n",
      "\u001b[0;32m/anaconda3/envs/ml-ufc-env/lib/python3.6/site-packages/pandas/core/internals.py\u001b[0m in \u001b[0;36mget\u001b[0;34m(self, item, fastpath)\u001b[0m\n\u001b[1;32m   4113\u001b[0m \u001b[0;34m\u001b[0m\u001b[0m\n\u001b[1;32m   4114\u001b[0m             \u001b[0;32mif\u001b[0m \u001b[0;32mnot\u001b[0m \u001b[0misna\u001b[0m\u001b[0;34m(\u001b[0m\u001b[0mitem\u001b[0m\u001b[0;34m)\u001b[0m\u001b[0;34m:\u001b[0m\u001b[0;34m\u001b[0m\u001b[0m\n\u001b[0;32m-> 4115\u001b[0;31m                 \u001b[0mloc\u001b[0m \u001b[0;34m=\u001b[0m \u001b[0mself\u001b[0m\u001b[0;34m.\u001b[0m\u001b[0mitems\u001b[0m\u001b[0;34m.\u001b[0m\u001b[0mget_loc\u001b[0m\u001b[0;34m(\u001b[0m\u001b[0mitem\u001b[0m\u001b[0;34m)\u001b[0m\u001b[0;34m\u001b[0m\u001b[0m\n\u001b[0m\u001b[1;32m   4116\u001b[0m             \u001b[0;32melse\u001b[0m\u001b[0;34m:\u001b[0m\u001b[0;34m\u001b[0m\u001b[0m\n\u001b[1;32m   4117\u001b[0m                 \u001b[0mindexer\u001b[0m \u001b[0;34m=\u001b[0m \u001b[0mnp\u001b[0m\u001b[0;34m.\u001b[0m\u001b[0marange\u001b[0m\u001b[0;34m(\u001b[0m\u001b[0mlen\u001b[0m\u001b[0;34m(\u001b[0m\u001b[0mself\u001b[0m\u001b[0;34m.\u001b[0m\u001b[0mitems\u001b[0m\u001b[0;34m)\u001b[0m\u001b[0;34m)\u001b[0m\u001b[0;34m[\u001b[0m\u001b[0misna\u001b[0m\u001b[0;34m(\u001b[0m\u001b[0mself\u001b[0m\u001b[0;34m.\u001b[0m\u001b[0mitems\u001b[0m\u001b[0;34m)\u001b[0m\u001b[0;34m]\u001b[0m\u001b[0;34m\u001b[0m\u001b[0m\n",
      "\u001b[0;32m/anaconda3/envs/ml-ufc-env/lib/python3.6/site-packages/pandas/core/indexes/base.py\u001b[0m in \u001b[0;36mget_loc\u001b[0;34m(self, key, method, tolerance)\u001b[0m\n\u001b[1;32m   3078\u001b[0m                 \u001b[0;32mreturn\u001b[0m \u001b[0mself\u001b[0m\u001b[0;34m.\u001b[0m\u001b[0m_engine\u001b[0m\u001b[0;34m.\u001b[0m\u001b[0mget_loc\u001b[0m\u001b[0;34m(\u001b[0m\u001b[0mkey\u001b[0m\u001b[0;34m)\u001b[0m\u001b[0;34m\u001b[0m\u001b[0m\n\u001b[1;32m   3079\u001b[0m             \u001b[0;32mexcept\u001b[0m \u001b[0mKeyError\u001b[0m\u001b[0;34m:\u001b[0m\u001b[0;34m\u001b[0m\u001b[0m\n\u001b[0;32m-> 3080\u001b[0;31m                 \u001b[0;32mreturn\u001b[0m \u001b[0mself\u001b[0m\u001b[0;34m.\u001b[0m\u001b[0m_engine\u001b[0m\u001b[0;34m.\u001b[0m\u001b[0mget_loc\u001b[0m\u001b[0;34m(\u001b[0m\u001b[0mself\u001b[0m\u001b[0;34m.\u001b[0m\u001b[0m_maybe_cast_indexer\u001b[0m\u001b[0;34m(\u001b[0m\u001b[0mkey\u001b[0m\u001b[0;34m)\u001b[0m\u001b[0;34m)\u001b[0m\u001b[0;34m\u001b[0m\u001b[0m\n\u001b[0m\u001b[1;32m   3081\u001b[0m \u001b[0;34m\u001b[0m\u001b[0m\n\u001b[1;32m   3082\u001b[0m         \u001b[0mindexer\u001b[0m \u001b[0;34m=\u001b[0m \u001b[0mself\u001b[0m\u001b[0;34m.\u001b[0m\u001b[0mget_indexer\u001b[0m\u001b[0;34m(\u001b[0m\u001b[0;34m[\u001b[0m\u001b[0mkey\u001b[0m\u001b[0;34m]\u001b[0m\u001b[0;34m,\u001b[0m \u001b[0mmethod\u001b[0m\u001b[0;34m=\u001b[0m\u001b[0mmethod\u001b[0m\u001b[0;34m,\u001b[0m \u001b[0mtolerance\u001b[0m\u001b[0;34m=\u001b[0m\u001b[0mtolerance\u001b[0m\u001b[0;34m)\u001b[0m\u001b[0;34m\u001b[0m\u001b[0m\n",
      "\u001b[0;32mpandas/_libs/index.pyx\u001b[0m in \u001b[0;36mpandas._libs.index.IndexEngine.get_loc\u001b[0;34m()\u001b[0m\n",
      "\u001b[0;32mpandas/_libs/index.pyx\u001b[0m in \u001b[0;36mpandas._libs.index.IndexEngine.get_loc\u001b[0;34m()\u001b[0m\n",
      "\u001b[0;32mpandas/_libs/hashtable_class_helper.pxi\u001b[0m in \u001b[0;36mpandas._libs.hashtable.PyObjectHashTable.get_item\u001b[0;34m()\u001b[0m\n",
      "\u001b[0;32mpandas/_libs/hashtable_class_helper.pxi\u001b[0m in \u001b[0;36mpandas._libs.hashtable.PyObjectHashTable.get_item\u001b[0;34m()\u001b[0m\n",
      "\u001b[0;31mKeyError\u001b[0m: 'height_inches'"
     ]
    }
   ],
   "source": [
    "height_inches_not_na = data_fighters['height_inches'][~data_fighters['height_inches'].isna()]\n",
    "height_mean = height_inches_not_na.mean()\n",
    "print('The mean height of a fighter is {} inches'.format(round(height_mean, 1)))\n",
    "\n",
    "# Fill na values with this mean height\n",
    "data_fighters.height_inches.fillna(height_mean, inplace=True)"
   ]
  },
  {
   "cell_type": "markdown",
   "metadata": {},
   "source": [
    "#### Remove fighters with limited statistics"
   ]
  },
  {
   "cell_type": "code",
   "execution_count": 136,
   "metadata": {
    "ExecuteTime": {
     "end_time": "2019-07-21T17:48:44.769210Z",
     "start_time": "2019-07-21T17:48:44.700328Z"
    },
    "collapsed": true
   },
   "outputs": [
    {
     "name": "stdout",
     "output_type": "stream",
     "text": [
      "We have 3187 fighters in our original data.\n",
      "There are 727 fighters that have no statistics for the columns: ['SLpM', 'Str_Acc', 'SApM'].\n",
      "We therefore reduce the number of fighters in our data to 2460.\n"
     ]
    }
   ],
   "source": [
    "# Original number of fighters\n",
    "total_fighters = len(data_fighters)\n",
    "print('We have {} fighters in our original data.'.format(total_fighters))\n",
    "\n",
    "# Fighters with no recorded stats\n",
    "fight_statistics = ['SLpM', 'Str_Acc', 'SApM']\n",
    "no_stat_fighters = len(data_fighters[(data_fighters[fight_statistics]==0).any(axis=1)])\n",
    "print('There are {} fighters that have no statistics for the columns: {}.'.format(no_stat_fighters, fight_statistics))\n",
    "\n",
    "# Reduced dataset size\n",
    "data_fighters = data_fighters[~(data_fighters[fight_statistics]==0).any(axis=1)]\n",
    "stat_fighters = len(data_fighters)\n",
    "print('We therefore reduce the number of fighters in our data to {}.'.format(stat_fighters))\n",
    "\n",
    "# Reset the index\n",
    "data_fighters.reset_index(drop=True, inplace=True)"
   ]
  },
  {
   "cell_type": "markdown",
   "metadata": {},
   "source": [
    "#### Check for Duplicate Names"
   ]
  },
  {
   "cell_type": "code",
   "execution_count": 137,
   "metadata": {
    "ExecuteTime": {
     "end_time": "2019-07-21T17:48:51.491074Z",
     "start_time": "2019-07-21T17:48:51.432819Z"
    },
    "collapsed": true
   },
   "outputs": [
    {
     "name": "stdout",
     "output_type": "stream",
     "text": [
      "The fighter_id column has only unique values\n"
     ]
    }
   ],
   "source": [
    "if len(data_fighters) == data_fighters.fighter_id.nunique():\n",
    "    print('The fighter_id column has only unique values')"
   ]
  },
  {
   "cell_type": "code",
   "execution_count": 138,
   "metadata": {
    "ExecuteTime": {
     "end_time": "2019-07-21T17:48:51.821617Z",
     "start_time": "2019-07-21T17:48:51.766862Z"
    },
    "collapsed": true
   },
   "outputs": [
    {
     "name": "stdout",
     "output_type": "stream",
     "text": [
      "The 1 name(s) in the dataframe that is/are not unique are:\n",
      "\t1) Dong Hyun Kim\n"
     ]
    }
   ],
   "source": [
    "# calculate how many duplicated fighter names there are\n",
    "non_unique_names = data_fighters.shape[0] - data_fighters.name.nunique()\n",
    "print('The {} name(s) in the dataframe that is/are not unique are:'.format(non_unique_names))\n",
    "\n",
    "# print out duplicated figher names\n",
    "duplicate_names = list(data_fighters['name'][data_fighters.duplicated(subset=\"name\")])\n",
    "for i, name in zip(range(1,len(duplicate_names)+1), duplicate_names):\n",
    "    print('\\t{})'.format(i), name)"
   ]
  },
  {
   "cell_type": "code",
   "execution_count": 139,
   "metadata": {
    "ExecuteTime": {
     "end_time": "2019-07-21T17:48:52.105571Z",
     "start_time": "2019-07-21T17:48:52.036730Z"
    },
    "collapsed": true
   },
   "outputs": [
    {
     "data": {
      "text/html": [
       "<div>\n",
       "<style scoped>\n",
       "    .dataframe tbody tr th:only-of-type {\n",
       "        vertical-align: middle;\n",
       "    }\n",
       "\n",
       "    .dataframe tbody tr th {\n",
       "        vertical-align: top;\n",
       "    }\n",
       "\n",
       "    .dataframe thead th {\n",
       "        text-align: right;\n",
       "    }\n",
       "</style>\n",
       "<table border=\"1\" class=\"dataframe\">\n",
       "  <thead>\n",
       "    <tr style=\"text-align: right;\">\n",
       "      <th></th>\n",
       "      <th>fighter_id</th>\n",
       "      <th>name</th>\n",
       "      <th>win</th>\n",
       "      <th>lose</th>\n",
       "      <th>draw</th>\n",
       "      <th>nc</th>\n",
       "      <th>height</th>\n",
       "      <th>weight</th>\n",
       "      <th>reach</th>\n",
       "      <th>stance</th>\n",
       "      <th>...</th>\n",
       "      <th>Str_Acc</th>\n",
       "      <th>SApM</th>\n",
       "      <th>Str_Def</th>\n",
       "      <th>TD_Avg</th>\n",
       "      <th>TD_Acc</th>\n",
       "      <th>TD_Def</th>\n",
       "      <th>Sub_Avg</th>\n",
       "      <th>last_updated</th>\n",
       "      <th>dob_year</th>\n",
       "      <th>age_today</th>\n",
       "    </tr>\n",
       "  </thead>\n",
       "  <tbody>\n",
       "    <tr>\n",
       "      <th>657</th>\n",
       "      <td>845</td>\n",
       "      <td>Dong Hyun Kim</td>\n",
       "      <td>16</td>\n",
       "      <td>8</td>\n",
       "      <td>3</td>\n",
       "      <td>0</td>\n",
       "      <td>5 11</td>\n",
       "      <td>155 lbs.</td>\n",
       "      <td>70.0</td>\n",
       "      <td>Orthodox</td>\n",
       "      <td>...</td>\n",
       "      <td>45</td>\n",
       "      <td>4.53</td>\n",
       "      <td>53</td>\n",
       "      <td>1.67</td>\n",
       "      <td>60</td>\n",
       "      <td>33</td>\n",
       "      <td>0.0</td>\n",
       "      <td>2018-11-21 20:26:57.805101</td>\n",
       "      <td>1988.0</td>\n",
       "      <td>31.0</td>\n",
       "    </tr>\n",
       "    <tr>\n",
       "      <th>663</th>\n",
       "      <td>852</td>\n",
       "      <td>Dong Hyun Kim</td>\n",
       "      <td>22</td>\n",
       "      <td>4</td>\n",
       "      <td>1</td>\n",
       "      <td>1</td>\n",
       "      <td>6 2</td>\n",
       "      <td>170 lbs.</td>\n",
       "      <td>76.0</td>\n",
       "      <td>Southpaw</td>\n",
       "      <td>...</td>\n",
       "      <td>49</td>\n",
       "      <td>1.89</td>\n",
       "      <td>58</td>\n",
       "      <td>2.93</td>\n",
       "      <td>43</td>\n",
       "      <td>71</td>\n",
       "      <td>0.6</td>\n",
       "      <td>2018-11-21 20:27:20.82459</td>\n",
       "      <td>1981.0</td>\n",
       "      <td>38.0</td>\n",
       "    </tr>\n",
       "  </tbody>\n",
       "</table>\n",
       "<p>2 rows × 22 columns</p>\n",
       "</div>"
      ],
      "text/plain": [
       "     fighter_id           name  win  lose  draw  nc height    weight  reach  \\\n",
       "657         845  Dong Hyun Kim   16     8     3   0   5 11  155 lbs.   70.0   \n",
       "663         852  Dong Hyun Kim   22     4     1   1    6 2  170 lbs.   76.0   \n",
       "\n",
       "       stance    ...    Str_Acc  SApM Str_Def  TD_Avg TD_Acc  TD_Def Sub_Avg  \\\n",
       "657  Orthodox    ...         45  4.53      53    1.67     60      33     0.0   \n",
       "663  Southpaw    ...         49  1.89      58    2.93     43      71     0.6   \n",
       "\n",
       "                   last_updated  dob_year age_today  \n",
       "657  2018-11-21 20:26:57.805101    1988.0      31.0  \n",
       "663   2018-11-21 20:27:20.82459    1981.0      38.0  \n",
       "\n",
       "[2 rows x 22 columns]"
      ]
     },
     "execution_count": 139,
     "metadata": {},
     "output_type": "execute_result"
    }
   ],
   "source": [
    "data_fighters[data_fighters.duplicated(subset=\"name\", keep=False)]"
   ]
  },
  {
   "cell_type": "markdown",
   "metadata": {},
   "source": [
    "- It appears that each fighter is unique in the table above, as statistics such as date of birth (dob) and weight differ.  \n",
    "- Upon further investigation, these are indeed two different fighters, with the 1st fighter (born 1988) changing his ring name to Dong Hyun Ma to avoid the confusion with Dont Hyun Kim (born 1981)\n",
    "- We shall change the name of the 1st fighter Dong Hyun Kim (born 1988) to Dong Hyun Ma"
   ]
  },
  {
   "cell_type": "code",
   "execution_count": 140,
   "metadata": {
    "ExecuteTime": {
     "end_time": "2019-07-21T17:48:52.752833Z",
     "start_time": "2019-07-21T17:48:52.587413Z"
    },
    "collapsed": true
   },
   "outputs": [
    {
     "name": "stdout",
     "output_type": "stream",
     "text": [
      "Dong Hyun Kim 1988 has been renamed as Dong Hyun Ma\n"
     ]
    },
    {
     "name": "stderr",
     "output_type": "stream",
     "text": [
      "/anaconda3/envs/ml-ufc-env/lib/python3.6/site-packages/ipykernel_launcher.py:9: SettingWithCopyWarning: \n",
      "A value is trying to be set on a copy of a slice from a DataFrame\n",
      "\n",
      "See the caveats in the documentation: http://pandas.pydata.org/pandas-docs/stable/indexing.html#indexing-view-versus-copy\n",
      "  if __name__ == '__main__':\n",
      "/anaconda3/envs/ml-ufc-env/lib/python3.6/site-packages/pandas/core/generic.py:7626: SettingWithCopyWarning: \n",
      "A value is trying to be set on a copy of a slice from a DataFrame\n",
      "\n",
      "See the caveats in the documentation: http://pandas.pydata.org/pandas-docs/stable/indexing.html#indexing-view-versus-copy\n",
      "  self._update_inplace(new_data)\n",
      "/anaconda3/envs/ml-ufc-env/lib/python3.6/site-packages/IPython/core/interactiveshell.py:2961: SettingWithCopyWarning: \n",
      "A value is trying to be set on a copy of a slice from a DataFrame\n",
      "\n",
      "See the caveats in the documentation: http://pandas.pydata.org/pandas-docs/stable/indexing.html#indexing-view-versus-copy\n",
      "  exec(code_obj, self.user_global_ns, self.user_ns)\n"
     ]
    }
   ],
   "source": [
    "# Check if there are any Dong Hyun Ma in the dataset\n",
    "if len(data_fighters[data_fighters.name=='Dong Hyun Ma']):\n",
    "    print('Dong Hyun Ma already exists')\n",
    "else:\n",
    "    # Find the right Dong Hyun Kim, who is now Dong Hyun Ma\n",
    "    DongHyunMa = data_fighters['name']=='Dong Hyun Kim'\n",
    "    DongHyunMa_dob = data_fighters['dob']=='1988-09-09'\n",
    "    # Change name to Dong Hyun Ma\n",
    "    data_fighters['name'][DongHyunMa & (DongHyunMa_dob)] = 'Dong Hyun Ma'\n",
    "    print('Dong Hyun Kim 1988 has been renamed as Dong Hyun Ma')"
   ]
  },
  {
   "cell_type": "markdown",
   "metadata": {},
   "source": [
    "#### Drop Unecessary Columns"
   ]
  },
  {
   "cell_type": "markdown",
   "metadata": {},
   "source": [
    "We now need to drop variables that have no likely impact on the outcome of a fight. \n",
    "- Weight: Although in reality a fighter's weight is extremely important, within a single fight, both fighter's weights will be within a narrow window and very similar to each other, i.e. any difference will be negligible"
   ]
  },
  {
   "cell_type": "code",
   "execution_count": 141,
   "metadata": {
    "ExecuteTime": {
     "end_time": "2019-07-21T17:48:53.107805Z",
     "start_time": "2019-07-21T17:48:53.015249Z"
    },
    "collapsed": true
   },
   "outputs": [
    {
     "name": "stderr",
     "output_type": "stream",
     "text": [
      "/anaconda3/envs/ml-ufc-env/lib/python3.6/site-packages/pandas/core/frame.py:3697: SettingWithCopyWarning: \n",
      "A value is trying to be set on a copy of a slice from a DataFrame\n",
      "\n",
      "See the caveats in the documentation: http://pandas.pydata.org/pandas-docs/stable/indexing.html#indexing-view-versus-copy\n",
      "  errors=errors)\n"
     ]
    },
    {
     "data": {
      "text/html": [
       "<div>\n",
       "<style scoped>\n",
       "    .dataframe tbody tr th:only-of-type {\n",
       "        vertical-align: middle;\n",
       "    }\n",
       "\n",
       "    .dataframe tbody tr th {\n",
       "        vertical-align: top;\n",
       "    }\n",
       "\n",
       "    .dataframe thead th {\n",
       "        text-align: right;\n",
       "    }\n",
       "</style>\n",
       "<table border=\"1\" class=\"dataframe\">\n",
       "  <thead>\n",
       "    <tr style=\"text-align: right;\">\n",
       "      <th></th>\n",
       "      <th>name</th>\n",
       "      <th>win</th>\n",
       "      <th>lose</th>\n",
       "      <th>draw</th>\n",
       "      <th>reach</th>\n",
       "      <th>stance</th>\n",
       "      <th>dob</th>\n",
       "      <th>SLpM</th>\n",
       "      <th>Str_Acc</th>\n",
       "      <th>SApM</th>\n",
       "      <th>Str_Def</th>\n",
       "      <th>TD_Avg</th>\n",
       "      <th>TD_Acc</th>\n",
       "      <th>TD_Def</th>\n",
       "      <th>Sub_Avg</th>\n",
       "      <th>age_today</th>\n",
       "    </tr>\n",
       "  </thead>\n",
       "  <tbody>\n",
       "    <tr>\n",
       "      <th>0</th>\n",
       "      <td>Luciano Azevedo</td>\n",
       "      <td>16</td>\n",
       "      <td>9</td>\n",
       "      <td>1</td>\n",
       "      <td>72.0</td>\n",
       "      <td>Orthodox</td>\n",
       "      <td>1981-06-25</td>\n",
       "      <td>0.76</td>\n",
       "      <td>45</td>\n",
       "      <td>1.97</td>\n",
       "      <td>27</td>\n",
       "      <td>2.28</td>\n",
       "      <td>11</td>\n",
       "      <td>0</td>\n",
       "      <td>0.0</td>\n",
       "      <td>38.0</td>\n",
       "    </tr>\n",
       "    <tr>\n",
       "      <th>1</th>\n",
       "      <td>Gleidson Cutis</td>\n",
       "      <td>7</td>\n",
       "      <td>3</td>\n",
       "      <td>0</td>\n",
       "      <td>72.0</td>\n",
       "      <td>Orthodox</td>\n",
       "      <td>1989-02-07</td>\n",
       "      <td>2.99</td>\n",
       "      <td>52</td>\n",
       "      <td>8.28</td>\n",
       "      <td>59</td>\n",
       "      <td>0.00</td>\n",
       "      <td>0</td>\n",
       "      <td>0</td>\n",
       "      <td>0.0</td>\n",
       "      <td>30.0</td>\n",
       "    </tr>\n",
       "    <tr>\n",
       "      <th>2</th>\n",
       "      <td>Rolando Dy</td>\n",
       "      <td>9</td>\n",
       "      <td>7</td>\n",
       "      <td>1</td>\n",
       "      <td>69.0</td>\n",
       "      <td>Orthodox</td>\n",
       "      <td>1990-08-11</td>\n",
       "      <td>3.04</td>\n",
       "      <td>37</td>\n",
       "      <td>4.47</td>\n",
       "      <td>52</td>\n",
       "      <td>0.30</td>\n",
       "      <td>20</td>\n",
       "      <td>68</td>\n",
       "      <td>0.0</td>\n",
       "      <td>29.0</td>\n",
       "    </tr>\n",
       "  </tbody>\n",
       "</table>\n",
       "</div>"
      ],
      "text/plain": [
       "              name  win  lose  draw  reach    stance        dob  SLpM Str_Acc  \\\n",
       "0  Luciano Azevedo   16     9     1   72.0  Orthodox 1981-06-25  0.76      45   \n",
       "1   Gleidson Cutis    7     3     0   72.0  Orthodox 1989-02-07  2.99      52   \n",
       "2       Rolando Dy    9     7     1   69.0  Orthodox 1990-08-11  3.04      37   \n",
       "\n",
       "   SApM Str_Def  TD_Avg TD_Acc TD_Def  Sub_Avg  age_today  \n",
       "0  1.97      27    2.28     11      0      0.0       38.0  \n",
       "1  8.28      59    0.00      0      0      0.0       30.0  \n",
       "2  4.47      52    0.30     20     68      0.0       29.0  "
      ]
     },
     "execution_count": 141,
     "metadata": {},
     "output_type": "execute_result"
    }
   ],
   "source": [
    "# Columns to drop\n",
    "cols_to_drop = ['fighter_id',  'nc', 'height', 'weight', 'last_updated', 'dob_year']\n",
    "\n",
    "# Drop the columns\n",
    "data_fighters.drop(cols_to_drop, axis=1, inplace=True)\n",
    "\n",
    "# View the narrower fighters dataframe\n",
    "data_fighters.head(3)"
   ]
  },
  {
   "cell_type": "markdown",
   "metadata": {},
   "source": [
    "#### Add total_bouts column"
   ]
  },
  {
   "cell_type": "code",
   "execution_count": 142,
   "metadata": {
    "ExecuteTime": {
     "end_time": "2019-07-21T17:48:53.911232Z",
     "start_time": "2019-07-21T17:48:53.817600Z"
    },
    "collapsed": true
   },
   "outputs": [
    {
     "name": "stderr",
     "output_type": "stream",
     "text": [
      "/anaconda3/envs/ml-ufc-env/lib/python3.6/site-packages/ipykernel_launcher.py:2: SettingWithCopyWarning: \n",
      "A value is trying to be set on a copy of a slice from a DataFrame.\n",
      "Try using .loc[row_indexer,col_indexer] = value instead\n",
      "\n",
      "See the caveats in the documentation: http://pandas.pydata.org/pandas-docs/stable/indexing.html#indexing-view-versus-copy\n",
      "  \n"
     ]
    }
   ],
   "source": [
    "# don't include nc values, as they do not useful in predicting a winner\n",
    "data_fighters['total_bouts'] = data_fighters['win'] + data_fighters['lose'] + data_fighters['draw']"
   ]
  },
  {
   "cell_type": "markdown",
   "metadata": {},
   "source": [
    "#### Add win rate column"
   ]
  },
  {
   "cell_type": "code",
   "execution_count": 143,
   "metadata": {
    "ExecuteTime": {
     "end_time": "2019-07-21T17:48:54.729553Z",
     "start_time": "2019-07-21T17:48:54.633444Z"
    },
    "collapsed": true
   },
   "outputs": [
    {
     "name": "stderr",
     "output_type": "stream",
     "text": [
      "/anaconda3/envs/ml-ufc-env/lib/python3.6/site-packages/ipykernel_launcher.py:1: SettingWithCopyWarning: \n",
      "A value is trying to be set on a copy of a slice from a DataFrame.\n",
      "Try using .loc[row_indexer,col_indexer] = value instead\n",
      "\n",
      "See the caveats in the documentation: http://pandas.pydata.org/pandas-docs/stable/indexing.html#indexing-view-versus-copy\n",
      "  \"\"\"Entry point for launching an IPython kernel.\n"
     ]
    }
   ],
   "source": [
    "data_fighters['win_rate'] = round(data_fighters['win'] / data_fighters['total_bouts'], 2)"
   ]
  },
  {
   "cell_type": "markdown",
   "metadata": {},
   "source": [
    "#### Rearrange columns and group similar columns together"
   ]
  },
  {
   "cell_type": "code",
   "execution_count": 145,
   "metadata": {
    "ExecuteTime": {
     "end_time": "2019-07-21T17:48:55.753490Z",
     "start_time": "2019-07-21T17:48:55.685305Z"
    },
    "collapsed": true
   },
   "outputs": [
    {
     "data": {
      "text/plain": [
       "Index(['name', 'win', 'lose', 'draw', 'reach', 'stance', 'dob', 'SLpM',\n",
       "       'Str_Acc', 'SApM', 'Str_Def', 'TD_Avg', 'TD_Acc', 'TD_Def', 'Sub_Avg',\n",
       "       'age_today', 'total_bouts', 'win_rate'],\n",
       "      dtype='object')"
      ]
     },
     "execution_count": 145,
     "metadata": {},
     "output_type": "execute_result"
    }
   ],
   "source": [
    "fighter_columns = data_fighters.columns\n",
    "fighter_columns"
   ]
  },
  {
   "cell_type": "code",
   "execution_count": 146,
   "metadata": {
    "ExecuteTime": {
     "end_time": "2019-07-21T17:49:55.617424Z",
     "start_time": "2019-07-21T17:49:55.550553Z"
    },
    "collapsed": true
   },
   "outputs": [
    {
     "ename": "KeyError",
     "evalue": "\"['height_inches'] not in index\"",
     "output_type": "error",
     "traceback": [
      "\u001b[0;31m---------------------------------------------------------------------------\u001b[0m",
      "\u001b[0;31mKeyError\u001b[0m                                  Traceback (most recent call last)",
      "\u001b[0;32m<ipython-input-146-db0d63947b1d>\u001b[0m in \u001b[0;36m<module>\u001b[0;34m()\u001b[0m\n\u001b[1;32m      1\u001b[0m data_fighters = data_fighters[['name', 'win', 'lose', 'draw', 'total_bouts', 'win_rate', \n\u001b[1;32m      2\u001b[0m                                \u001b[0;34m'height_inches'\u001b[0m\u001b[0;34m,\u001b[0m \u001b[0;34m'reach'\u001b[0m\u001b[0;34m,\u001b[0m \u001b[0;34m'stance'\u001b[0m\u001b[0;34m,\u001b[0m \u001b[0;34m'dob'\u001b[0m\u001b[0;34m,\u001b[0m \u001b[0;34m'age_today'\u001b[0m\u001b[0;34m,\u001b[0m\u001b[0;34m\u001b[0m\u001b[0m\n\u001b[0;32m----> 3\u001b[0;31m                                'SLpM', 'Str_Acc', 'SApM', 'Str_Def', 'TD_Avg', 'TD_Acc', 'TD_Def', 'Sub_Avg']]\n\u001b[0m",
      "\u001b[0;32m/anaconda3/envs/ml-ufc-env/lib/python3.6/site-packages/pandas/core/frame.py\u001b[0m in \u001b[0;36m__getitem__\u001b[0;34m(self, key)\u001b[0m\n\u001b[1;32m   2680\u001b[0m         \u001b[0;32mif\u001b[0m \u001b[0misinstance\u001b[0m\u001b[0;34m(\u001b[0m\u001b[0mkey\u001b[0m\u001b[0;34m,\u001b[0m \u001b[0;34m(\u001b[0m\u001b[0mSeries\u001b[0m\u001b[0;34m,\u001b[0m \u001b[0mnp\u001b[0m\u001b[0;34m.\u001b[0m\u001b[0mndarray\u001b[0m\u001b[0;34m,\u001b[0m \u001b[0mIndex\u001b[0m\u001b[0;34m,\u001b[0m \u001b[0mlist\u001b[0m\u001b[0;34m)\u001b[0m\u001b[0;34m)\u001b[0m\u001b[0;34m:\u001b[0m\u001b[0;34m\u001b[0m\u001b[0m\n\u001b[1;32m   2681\u001b[0m             \u001b[0;31m# either boolean or fancy integer index\u001b[0m\u001b[0;34m\u001b[0m\u001b[0;34m\u001b[0m\u001b[0m\n\u001b[0;32m-> 2682\u001b[0;31m             \u001b[0;32mreturn\u001b[0m \u001b[0mself\u001b[0m\u001b[0;34m.\u001b[0m\u001b[0m_getitem_array\u001b[0m\u001b[0;34m(\u001b[0m\u001b[0mkey\u001b[0m\u001b[0;34m)\u001b[0m\u001b[0;34m\u001b[0m\u001b[0m\n\u001b[0m\u001b[1;32m   2683\u001b[0m         \u001b[0;32melif\u001b[0m \u001b[0misinstance\u001b[0m\u001b[0;34m(\u001b[0m\u001b[0mkey\u001b[0m\u001b[0;34m,\u001b[0m \u001b[0mDataFrame\u001b[0m\u001b[0;34m)\u001b[0m\u001b[0;34m:\u001b[0m\u001b[0;34m\u001b[0m\u001b[0m\n\u001b[1;32m   2684\u001b[0m             \u001b[0;32mreturn\u001b[0m \u001b[0mself\u001b[0m\u001b[0;34m.\u001b[0m\u001b[0m_getitem_frame\u001b[0m\u001b[0;34m(\u001b[0m\u001b[0mkey\u001b[0m\u001b[0;34m)\u001b[0m\u001b[0;34m\u001b[0m\u001b[0m\n",
      "\u001b[0;32m/anaconda3/envs/ml-ufc-env/lib/python3.6/site-packages/pandas/core/frame.py\u001b[0m in \u001b[0;36m_getitem_array\u001b[0;34m(self, key)\u001b[0m\n\u001b[1;32m   2724\u001b[0m             \u001b[0;32mreturn\u001b[0m \u001b[0mself\u001b[0m\u001b[0;34m.\u001b[0m\u001b[0m_take\u001b[0m\u001b[0;34m(\u001b[0m\u001b[0mindexer\u001b[0m\u001b[0;34m,\u001b[0m \u001b[0maxis\u001b[0m\u001b[0;34m=\u001b[0m\u001b[0;36m0\u001b[0m\u001b[0;34m)\u001b[0m\u001b[0;34m\u001b[0m\u001b[0m\n\u001b[1;32m   2725\u001b[0m         \u001b[0;32melse\u001b[0m\u001b[0;34m:\u001b[0m\u001b[0;34m\u001b[0m\u001b[0m\n\u001b[0;32m-> 2726\u001b[0;31m             \u001b[0mindexer\u001b[0m \u001b[0;34m=\u001b[0m \u001b[0mself\u001b[0m\u001b[0;34m.\u001b[0m\u001b[0mloc\u001b[0m\u001b[0;34m.\u001b[0m\u001b[0m_convert_to_indexer\u001b[0m\u001b[0;34m(\u001b[0m\u001b[0mkey\u001b[0m\u001b[0;34m,\u001b[0m \u001b[0maxis\u001b[0m\u001b[0;34m=\u001b[0m\u001b[0;36m1\u001b[0m\u001b[0;34m)\u001b[0m\u001b[0;34m\u001b[0m\u001b[0m\n\u001b[0m\u001b[1;32m   2727\u001b[0m             \u001b[0;32mreturn\u001b[0m \u001b[0mself\u001b[0m\u001b[0;34m.\u001b[0m\u001b[0m_take\u001b[0m\u001b[0;34m(\u001b[0m\u001b[0mindexer\u001b[0m\u001b[0;34m,\u001b[0m \u001b[0maxis\u001b[0m\u001b[0;34m=\u001b[0m\u001b[0;36m1\u001b[0m\u001b[0;34m)\u001b[0m\u001b[0;34m\u001b[0m\u001b[0m\n\u001b[1;32m   2728\u001b[0m \u001b[0;34m\u001b[0m\u001b[0m\n",
      "\u001b[0;32m/anaconda3/envs/ml-ufc-env/lib/python3.6/site-packages/pandas/core/indexing.py\u001b[0m in \u001b[0;36m_convert_to_indexer\u001b[0;34m(self, obj, axis, is_setter)\u001b[0m\n\u001b[1;32m   1325\u001b[0m                 \u001b[0;32mif\u001b[0m \u001b[0mmask\u001b[0m\u001b[0;34m.\u001b[0m\u001b[0many\u001b[0m\u001b[0;34m(\u001b[0m\u001b[0;34m)\u001b[0m\u001b[0;34m:\u001b[0m\u001b[0;34m\u001b[0m\u001b[0m\n\u001b[1;32m   1326\u001b[0m                     raise KeyError('{mask} not in index'\n\u001b[0;32m-> 1327\u001b[0;31m                                    .format(mask=objarr[mask]))\n\u001b[0m\u001b[1;32m   1328\u001b[0m \u001b[0;34m\u001b[0m\u001b[0m\n\u001b[1;32m   1329\u001b[0m                 \u001b[0;32mreturn\u001b[0m \u001b[0mcom\u001b[0m\u001b[0;34m.\u001b[0m\u001b[0m_values_from_object\u001b[0m\u001b[0;34m(\u001b[0m\u001b[0mindexer\u001b[0m\u001b[0;34m)\u001b[0m\u001b[0;34m\u001b[0m\u001b[0m\n",
      "\u001b[0;31mKeyError\u001b[0m: \"['height_inches'] not in index\""
     ]
    }
   ],
   "source": [
    "data_fighters = data_fighters[['name', 'win', 'lose', 'draw', 'total_bouts', 'win_rate', \n",
    "                               'height_inches', 'reach', 'stance', 'dob', 'age_today', \n",
    "                               'SLpM', 'Str_Acc', 'SApM', 'Str_Def', 'TD_Avg', 'TD_Acc', 'TD_Def', 'Sub_Avg']]"
   ]
  },
  {
   "cell_type": "markdown",
   "metadata": {
    "heading_collapsed": true
   },
   "source": [
    "#### Change all column headings to lower"
   ]
  },
  {
   "cell_type": "code",
   "execution_count": 84,
   "metadata": {
    "ExecuteTime": {
     "end_time": "2019-07-21T16:59:06.480345Z",
     "start_time": "2019-07-21T16:59:06.425044Z"
    },
    "collapsed": true,
    "hidden": true
   },
   "outputs": [],
   "source": [
    "data_fighters.columns = data_fighters.columns.str.lower()"
   ]
  },
  {
   "cell_type": "markdown",
   "metadata": {},
   "source": [
    "### Fighters Data - Further Exploration"
   ]
  },
  {
   "cell_type": "code",
   "execution_count": 78,
   "metadata": {
    "ExecuteTime": {
     "end_time": "2019-07-21T16:55:34.499571Z",
     "start_time": "2019-07-21T16:55:34.413094Z"
    },
    "collapsed": true
   },
   "outputs": [
    {
     "data": {
      "text/html": [
       "<div>\n",
       "<style scoped>\n",
       "    .dataframe tbody tr th:only-of-type {\n",
       "        vertical-align: middle;\n",
       "    }\n",
       "\n",
       "    .dataframe tbody tr th {\n",
       "        vertical-align: top;\n",
       "    }\n",
       "\n",
       "    .dataframe thead th {\n",
       "        text-align: right;\n",
       "    }\n",
       "</style>\n",
       "<table border=\"1\" class=\"dataframe\">\n",
       "  <thead>\n",
       "    <tr style=\"text-align: right;\">\n",
       "      <th></th>\n",
       "      <th>win</th>\n",
       "      <th>lose</th>\n",
       "      <th>draw</th>\n",
       "      <th>nc</th>\n",
       "      <th>reach</th>\n",
       "      <th>SLpM</th>\n",
       "      <th>SApM</th>\n",
       "      <th>TD_Avg</th>\n",
       "      <th>Sub_Avg</th>\n",
       "      <th>age_today</th>\n",
       "    </tr>\n",
       "  </thead>\n",
       "  <tbody>\n",
       "    <tr>\n",
       "      <th>count</th>\n",
       "      <td>2460.00</td>\n",
       "      <td>2460.00</td>\n",
       "      <td>2460.00</td>\n",
       "      <td>2460.00</td>\n",
       "      <td>2460.00</td>\n",
       "      <td>2460.00</td>\n",
       "      <td>2460.00</td>\n",
       "      <td>2460.00</td>\n",
       "      <td>2460.00</td>\n",
       "      <td>2185.00</td>\n",
       "    </tr>\n",
       "    <tr>\n",
       "      <th>mean</th>\n",
       "      <td>13.12</td>\n",
       "      <td>5.51</td>\n",
       "      <td>0.31</td>\n",
       "      <td>0.15</td>\n",
       "      <td>71.90</td>\n",
       "      <td>2.78</td>\n",
       "      <td>3.45</td>\n",
       "      <td>1.48</td>\n",
       "      <td>0.77</td>\n",
       "      <td>36.10</td>\n",
       "    </tr>\n",
       "    <tr>\n",
       "      <th>std</th>\n",
       "      <td>8.36</td>\n",
       "      <td>4.52</td>\n",
       "      <td>0.87</td>\n",
       "      <td>0.40</td>\n",
       "      <td>3.19</td>\n",
       "      <td>1.86</td>\n",
       "      <td>2.36</td>\n",
       "      <td>1.84</td>\n",
       "      <td>1.45</td>\n",
       "      <td>6.35</td>\n",
       "    </tr>\n",
       "    <tr>\n",
       "      <th>min</th>\n",
       "      <td>0.00</td>\n",
       "      <td>0.00</td>\n",
       "      <td>0.00</td>\n",
       "      <td>0.00</td>\n",
       "      <td>60.00</td>\n",
       "      <td>0.06</td>\n",
       "      <td>0.13</td>\n",
       "      <td>0.00</td>\n",
       "      <td>0.00</td>\n",
       "      <td>20.00</td>\n",
       "    </tr>\n",
       "    <tr>\n",
       "      <th>25%</th>\n",
       "      <td>7.00</td>\n",
       "      <td>3.00</td>\n",
       "      <td>0.00</td>\n",
       "      <td>0.00</td>\n",
       "      <td>71.00</td>\n",
       "      <td>1.58</td>\n",
       "      <td>2.16</td>\n",
       "      <td>0.00</td>\n",
       "      <td>0.00</td>\n",
       "      <td>31.00</td>\n",
       "    </tr>\n",
       "    <tr>\n",
       "      <th>50%</th>\n",
       "      <td>12.00</td>\n",
       "      <td>4.00</td>\n",
       "      <td>0.00</td>\n",
       "      <td>0.00</td>\n",
       "      <td>72.00</td>\n",
       "      <td>2.54</td>\n",
       "      <td>3.00</td>\n",
       "      <td>1.00</td>\n",
       "      <td>0.20</td>\n",
       "      <td>36.00</td>\n",
       "    </tr>\n",
       "    <tr>\n",
       "      <th>75%</th>\n",
       "      <td>17.00</td>\n",
       "      <td>7.00</td>\n",
       "      <td>0.00</td>\n",
       "      <td>0.00</td>\n",
       "      <td>73.00</td>\n",
       "      <td>3.56</td>\n",
       "      <td>4.09</td>\n",
       "      <td>2.21</td>\n",
       "      <td>1.00</td>\n",
       "      <td>40.00</td>\n",
       "    </tr>\n",
       "    <tr>\n",
       "      <th>max</th>\n",
       "      <td>88.00</td>\n",
       "      <td>74.00</td>\n",
       "      <td>11.00</td>\n",
       "      <td>4.00</td>\n",
       "      <td>84.00</td>\n",
       "      <td>30.00</td>\n",
       "      <td>49.41</td>\n",
       "      <td>24.11</td>\n",
       "      <td>20.90</td>\n",
       "      <td>58.00</td>\n",
       "    </tr>\n",
       "  </tbody>\n",
       "</table>\n",
       "</div>"
      ],
      "text/plain": [
       "           win     lose     draw       nc    reach     SLpM     SApM   TD_Avg  \\\n",
       "count  2460.00  2460.00  2460.00  2460.00  2460.00  2460.00  2460.00  2460.00   \n",
       "mean     13.12     5.51     0.31     0.15    71.90     2.78     3.45     1.48   \n",
       "std       8.36     4.52     0.87     0.40     3.19     1.86     2.36     1.84   \n",
       "min       0.00     0.00     0.00     0.00    60.00     0.06     0.13     0.00   \n",
       "25%       7.00     3.00     0.00     0.00    71.00     1.58     2.16     0.00   \n",
       "50%      12.00     4.00     0.00     0.00    72.00     2.54     3.00     1.00   \n",
       "75%      17.00     7.00     0.00     0.00    73.00     3.56     4.09     2.21   \n",
       "max      88.00    74.00    11.00     4.00    84.00    30.00    49.41    24.11   \n",
       "\n",
       "       Sub_Avg  age_today  \n",
       "count  2460.00    2185.00  \n",
       "mean      0.77      36.10  \n",
       "std       1.45       6.35  \n",
       "min       0.00      20.00  \n",
       "25%       0.00      31.00  \n",
       "50%       0.20      36.00  \n",
       "75%       1.00      40.00  \n",
       "max      20.90      58.00  "
      ]
     },
     "execution_count": 78,
     "metadata": {},
     "output_type": "execute_result"
    }
   ],
   "source": [
    "np.round(data_fighters.describe(), 2)"
   ]
  },
  {
   "cell_type": "code",
   "execution_count": 80,
   "metadata": {
    "ExecuteTime": {
     "end_time": "2019-07-21T16:56:26.927986Z",
     "start_time": "2019-07-21T16:56:26.858451Z"
    },
    "collapsed": true
   },
   "outputs": [
    {
     "data": {
      "text/html": [
       "<div>\n",
       "<style scoped>\n",
       "    .dataframe tbody tr th:only-of-type {\n",
       "        vertical-align: middle;\n",
       "    }\n",
       "\n",
       "    .dataframe tbody tr th {\n",
       "        vertical-align: top;\n",
       "    }\n",
       "\n",
       "    .dataframe thead th {\n",
       "        text-align: right;\n",
       "    }\n",
       "</style>\n",
       "<table border=\"1\" class=\"dataframe\">\n",
       "  <thead>\n",
       "    <tr style=\"text-align: right;\">\n",
       "      <th></th>\n",
       "      <th>name</th>\n",
       "      <th>win</th>\n",
       "      <th>lose</th>\n",
       "      <th>draw</th>\n",
       "      <th>nc</th>\n",
       "      <th>reach</th>\n",
       "      <th>stance</th>\n",
       "      <th>dob</th>\n",
       "      <th>SLpM</th>\n",
       "      <th>Str_Acc</th>\n",
       "      <th>SApM</th>\n",
       "      <th>Str_Def</th>\n",
       "      <th>TD_Avg</th>\n",
       "      <th>TD_Acc</th>\n",
       "      <th>TD_Def</th>\n",
       "      <th>Sub_Avg</th>\n",
       "      <th>age_today</th>\n",
       "    </tr>\n",
       "  </thead>\n",
       "  <tbody>\n",
       "    <tr>\n",
       "      <th>339</th>\n",
       "      <td>Ikuhisa Minowa</td>\n",
       "      <td>51</td>\n",
       "      <td>32</td>\n",
       "      <td>8</td>\n",
       "      <td>0</td>\n",
       "      <td>72.0</td>\n",
       "      <td>Orthodox</td>\n",
       "      <td>1976-01-12</td>\n",
       "      <td>0.88</td>\n",
       "      <td>40</td>\n",
       "      <td>1.66</td>\n",
       "      <td>49</td>\n",
       "      <td>1.82</td>\n",
       "      <td>41</td>\n",
       "      <td>5</td>\n",
       "      <td>1.9</td>\n",
       "      <td>43.0</td>\n",
       "    </tr>\n",
       "    <tr>\n",
       "      <th>1871</th>\n",
       "      <td>Vernon White</td>\n",
       "      <td>26</td>\n",
       "      <td>33</td>\n",
       "      <td>2</td>\n",
       "      <td>0</td>\n",
       "      <td>72.0</td>\n",
       "      <td>Southpaw</td>\n",
       "      <td>1971-12-03</td>\n",
       "      <td>2.11</td>\n",
       "      <td>38</td>\n",
       "      <td>2.20</td>\n",
       "      <td>54</td>\n",
       "      <td>0.88</td>\n",
       "      <td>28</td>\n",
       "      <td>44</td>\n",
       "      <td>0.0</td>\n",
       "      <td>48.0</td>\n",
       "    </tr>\n",
       "    <tr>\n",
       "      <th>2408</th>\n",
       "      <td>Shannon Ritch</td>\n",
       "      <td>47</td>\n",
       "      <td>74</td>\n",
       "      <td>0</td>\n",
       "      <td>4</td>\n",
       "      <td>72.0</td>\n",
       "      <td>Orthodox</td>\n",
       "      <td>1970-09-27</td>\n",
       "      <td>1.00</td>\n",
       "      <td>100</td>\n",
       "      <td>6.00</td>\n",
       "      <td>50</td>\n",
       "      <td>0.00</td>\n",
       "      <td>0</td>\n",
       "      <td>0</td>\n",
       "      <td>0.0</td>\n",
       "      <td>49.0</td>\n",
       "    </tr>\n",
       "  </tbody>\n",
       "</table>\n",
       "</div>"
      ],
      "text/plain": [
       "                name  win  lose  draw  nc  reach    stance        dob  SLpM  \\\n",
       "339   Ikuhisa Minowa   51    32     8   0   72.0  Orthodox 1976-01-12  0.88   \n",
       "1871    Vernon White   26    33     2   0   72.0  Southpaw 1971-12-03  2.11   \n",
       "2408   Shannon Ritch   47    74     0   4   72.0  Orthodox 1970-09-27  1.00   \n",
       "\n",
       "     Str_Acc  SApM Str_Def  TD_Avg TD_Acc TD_Def  Sub_Avg  age_today  \n",
       "339       40  1.66      49    1.82     41      5      1.9       43.0  \n",
       "1871      38  2.20      54    0.88     28     44      0.0       48.0  \n",
       "2408     100  6.00      50    0.00      0      0      0.0       49.0  "
      ]
     },
     "execution_count": 80,
     "metadata": {},
     "output_type": "execute_result"
    }
   ],
   "source": [
    "data_fighters[data_fighters.lose>30]"
   ]
  },
  {
   "cell_type": "markdown",
   "metadata": {},
   "source": [
    "#### Save the cleaned fighters df to processed data file"
   ]
  },
  {
   "cell_type": "code",
   "execution_count": 71,
   "metadata": {
    "ExecuteTime": {
     "end_time": "2019-07-21T16:49:37.751487Z",
     "start_time": "2019-07-21T16:49:37.655954Z"
    },
    "collapsed": true
   },
   "outputs": [],
   "source": [
    "data_fighters.to_csv('../data/processed/fighters_cleaned')"
   ]
  },
  {
   "cell_type": "markdown",
   "metadata": {},
   "source": [
    "## Combine Dataframes\n",
    "- Here we combine the bouts data with the fighters data, into 1 dataframe that will be used for the machine learning process\n",
    "- We can only look at bouts where we have information on both fighters"
   ]
  },
  {
   "cell_type": "code",
   "execution_count": 247,
   "metadata": {
    "ExecuteTime": {
     "end_time": "2019-07-21T19:15:33.865315Z",
     "start_time": "2019-07-21T19:15:33.807230Z"
    }
   },
   "outputs": [
    {
     "data": {
      "text/plain": [
       "(4570, 14)"
      ]
     },
     "execution_count": 247,
     "metadata": {},
     "output_type": "execute_result"
    }
   ],
   "source": [
    "data_bouts.shape"
   ]
  },
  {
   "cell_type": "code",
   "execution_count": 249,
   "metadata": {
    "ExecuteTime": {
     "end_time": "2019-07-21T19:20:13.410060Z",
     "start_time": "2019-07-21T19:20:13.346908Z"
    }
   },
   "outputs": [
    {
     "name": "stdout",
     "output_type": "stream",
     "text": [
      "We have reduced the number of bouts from 4570 to 4570, as we do not have statistics for 0 fighters\n"
     ]
    }
   ],
   "source": [
    "original_bout_length = len(data_bouts)\n",
    "\n",
    "# Create a list of all the fighters' names\n",
    "name_list = data_fighters.name.tolist()\n",
    "\n",
    "# Create booleans for whether the name in fighter1/figther2 column appears in our list of fighter names\n",
    "f1_in_name_list = data_bouts['fighter1'].isin(name_list)\n",
    "f2_in_name_list = data_bouts['fighter2'].isin(name_list)\n",
    "\n",
    "# Drop out the rows where at least 1 of names does not appear in our fighter names list\n",
    "data_bouts = data_bouts[(f1_in_name_list) & (f2_in_name_list)]\n",
    "\n",
    "# Print the action we have carried out\n",
    "new_bout_length = len(data_bouts)\n",
    "print('We have reduced the number of bouts from {} to {}, as we do not have statistics for {} fighters'\n",
    "      .format(original_bout_length, new_bout_length, original_bout_length-new_bout_length))"
   ]
  },
  {
   "cell_type": "markdown",
   "metadata": {},
   "source": [
    "### Create 2 new dataframes for fighter1 data and fighter2 data"
   ]
  },
  {
   "cell_type": "code",
   "execution_count": 251,
   "metadata": {
    "ExecuteTime": {
     "end_time": "2019-07-21T19:29:27.614258Z",
     "start_time": "2019-07-21T19:29:27.534251Z"
    },
    "collapsed": true
   },
   "outputs": [
    {
     "ename": "KeyError",
     "evalue": "'None of [0        Santiago Ponzinibbio\\n1               Ricardo Lamas\\n2               Johnny Walker\\n3                Ian Heinisch\\n4              Guido Cannetti\\n5             Poliana Botelho\\n6             Michel Prazeres\\n7                 Ulka Sasaki\\n8               Austin Arnett\\n9          Laureano Staropoli\\n10               Devin Powell\\n11               Nad Narimani\\n12           Rogerio Nogueira\\n13             Albert Morales\\n14            Claudia Gadelha\\n15            Krzysztof Jotko\\n16              Warlley Alves\\n17                  Zak Ottow\\n18            Jack Hermansson\\n19      Gadzhimurad Antigulov\\n20             Johnny Eduardo\\n21          Christian Colombo\\n22            Justin Scoggins\\n24                 Uriah Hall\\n25                 Stevie Ray\\n26                Tim Johnson\\n27                Artem Lobov\\n28           Magnus Cedenblad\\n29             Ali Bagautinov\\n30                  Kevin Lee\\n                ...          \\n4847            Nordine Taleb\\n4848         Nasrat Haqparast\\n4849           Chris Fishgold\\n4850          Talita Bernardo\\n4851               Te Edwards\\n4852             Marcelo Golm\\n4853               Stevie Ray\\n4854           Daniel Cormier\\n4855             Jacare Souza\\n4856          Jared Cannonier\\n4857            Karl Roberson\\n4858            Derek Brunson\\n4859             Jason Knight\\n4860        Roxanne Modafferi\\n4861           Sheymon Moraes\\n4862             Ben Saunders\\n4864           Kurt Holobaugh\\n4865           Adam Wieczorek\\n4866           Yair Rodriguez\\n4867           Donald Cerrone\\n4868        Raquel Pennington\\n4869            Thiago Moises\\n4870            Maycee Barber\\n4871          Michael Trizano\\n4872            Amanda Cooper\\n4873            Bobby Moffett\\n4874               Davi Ramos\\n4875             Julian Erosa\\n4876           Joseph Morales\\n4877          Mark De La Rosa\\nName: fighter1, Length: 4570, dtype: object] are in the [index]'",
     "output_type": "error",
     "traceback": [
      "\u001b[0;31m---------------------------------------------------------------------------\u001b[0m",
      "\u001b[0;31mKeyError\u001b[0m                                  Traceback (most recent call last)",
      "\u001b[0;32m<ipython-input-251-a82479f18edf>\u001b[0m in \u001b[0;36m<module>\u001b[0;34m()\u001b[0m\n\u001b[1;32m      1\u001b[0m \u001b[0;31m# Pull in the statistics for each fighter1\u001b[0m\u001b[0;34m\u001b[0m\u001b[0;34m\u001b[0m\u001b[0m\n\u001b[0;32m----> 2\u001b[0;31m \u001b[0mdata_fighter1\u001b[0m \u001b[0;34m=\u001b[0m \u001b[0mdata_fighters\u001b[0m\u001b[0;34m.\u001b[0m\u001b[0mloc\u001b[0m\u001b[0;34m[\u001b[0m\u001b[0mdata_bouts\u001b[0m\u001b[0;34m[\u001b[0m\u001b[0;34m\"fighter1\"\u001b[0m\u001b[0;34m]\u001b[0m\u001b[0;34m,\u001b[0m \u001b[0;34m:\u001b[0m\u001b[0;34m]\u001b[0m\u001b[0;34m\u001b[0m\u001b[0m\n\u001b[0m\u001b[1;32m      3\u001b[0m \u001b[0;31m# Pull in the statistics for each fighter2\u001b[0m\u001b[0;34m\u001b[0m\u001b[0;34m\u001b[0m\u001b[0m\n\u001b[1;32m      4\u001b[0m \u001b[0mdata_fighter2\u001b[0m \u001b[0;34m=\u001b[0m \u001b[0mdata_fighters\u001b[0m\u001b[0;34m.\u001b[0m\u001b[0mloc\u001b[0m\u001b[0;34m[\u001b[0m\u001b[0mdata_bouts\u001b[0m\u001b[0;34m[\u001b[0m\u001b[0;34m\"fighter2\"\u001b[0m\u001b[0;34m]\u001b[0m\u001b[0;34m,\u001b[0m \u001b[0;34m:\u001b[0m\u001b[0;34m]\u001b[0m\u001b[0;34m\u001b[0m\u001b[0m\n\u001b[1;32m      5\u001b[0m \u001b[0;34m\u001b[0m\u001b[0m\n",
      "\u001b[0;32m/anaconda3/envs/ml-ufc-env/lib/python3.6/site-packages/pandas/core/indexing.py\u001b[0m in \u001b[0;36m__getitem__\u001b[0;34m(self, key)\u001b[0m\n\u001b[1;32m   1470\u001b[0m             \u001b[0;32mexcept\u001b[0m \u001b[0;34m(\u001b[0m\u001b[0mKeyError\u001b[0m\u001b[0;34m,\u001b[0m \u001b[0mIndexError\u001b[0m\u001b[0;34m)\u001b[0m\u001b[0;34m:\u001b[0m\u001b[0;34m\u001b[0m\u001b[0m\n\u001b[1;32m   1471\u001b[0m                 \u001b[0;32mpass\u001b[0m\u001b[0;34m\u001b[0m\u001b[0m\n\u001b[0;32m-> 1472\u001b[0;31m             \u001b[0;32mreturn\u001b[0m \u001b[0mself\u001b[0m\u001b[0;34m.\u001b[0m\u001b[0m_getitem_tuple\u001b[0m\u001b[0;34m(\u001b[0m\u001b[0mkey\u001b[0m\u001b[0;34m)\u001b[0m\u001b[0;34m\u001b[0m\u001b[0m\n\u001b[0m\u001b[1;32m   1473\u001b[0m         \u001b[0;32melse\u001b[0m\u001b[0;34m:\u001b[0m\u001b[0;34m\u001b[0m\u001b[0m\n\u001b[1;32m   1474\u001b[0m             \u001b[0;31m# we by definition only have the 0th axis\u001b[0m\u001b[0;34m\u001b[0m\u001b[0;34m\u001b[0m\u001b[0m\n",
      "\u001b[0;32m/anaconda3/envs/ml-ufc-env/lib/python3.6/site-packages/pandas/core/indexing.py\u001b[0m in \u001b[0;36m_getitem_tuple\u001b[0;34m(self, tup)\u001b[0m\n\u001b[1;32m    888\u001b[0m                 \u001b[0;32mcontinue\u001b[0m\u001b[0;34m\u001b[0m\u001b[0m\n\u001b[1;32m    889\u001b[0m \u001b[0;34m\u001b[0m\u001b[0m\n\u001b[0;32m--> 890\u001b[0;31m             \u001b[0mretval\u001b[0m \u001b[0;34m=\u001b[0m \u001b[0mgetattr\u001b[0m\u001b[0;34m(\u001b[0m\u001b[0mretval\u001b[0m\u001b[0;34m,\u001b[0m \u001b[0mself\u001b[0m\u001b[0;34m.\u001b[0m\u001b[0mname\u001b[0m\u001b[0;34m)\u001b[0m\u001b[0;34m.\u001b[0m\u001b[0m_getitem_axis\u001b[0m\u001b[0;34m(\u001b[0m\u001b[0mkey\u001b[0m\u001b[0;34m,\u001b[0m \u001b[0maxis\u001b[0m\u001b[0;34m=\u001b[0m\u001b[0mi\u001b[0m\u001b[0;34m)\u001b[0m\u001b[0;34m\u001b[0m\u001b[0m\n\u001b[0m\u001b[1;32m    891\u001b[0m \u001b[0;34m\u001b[0m\u001b[0m\n\u001b[1;32m    892\u001b[0m         \u001b[0;32mreturn\u001b[0m \u001b[0mretval\u001b[0m\u001b[0;34m\u001b[0m\u001b[0m\n",
      "\u001b[0;32m/anaconda3/envs/ml-ufc-env/lib/python3.6/site-packages/pandas/core/indexing.py\u001b[0m in \u001b[0;36m_getitem_axis\u001b[0;34m(self, key, axis)\u001b[0m\n\u001b[1;32m   1899\u001b[0m                     \u001b[0;32mraise\u001b[0m \u001b[0mValueError\u001b[0m\u001b[0;34m(\u001b[0m\u001b[0;34m'Cannot index with multidimensional key'\u001b[0m\u001b[0;34m)\u001b[0m\u001b[0;34m\u001b[0m\u001b[0m\n\u001b[1;32m   1900\u001b[0m \u001b[0;34m\u001b[0m\u001b[0m\n\u001b[0;32m-> 1901\u001b[0;31m                 \u001b[0;32mreturn\u001b[0m \u001b[0mself\u001b[0m\u001b[0;34m.\u001b[0m\u001b[0m_getitem_iterable\u001b[0m\u001b[0;34m(\u001b[0m\u001b[0mkey\u001b[0m\u001b[0;34m,\u001b[0m \u001b[0maxis\u001b[0m\u001b[0;34m=\u001b[0m\u001b[0maxis\u001b[0m\u001b[0;34m)\u001b[0m\u001b[0;34m\u001b[0m\u001b[0m\n\u001b[0m\u001b[1;32m   1902\u001b[0m \u001b[0;34m\u001b[0m\u001b[0m\n\u001b[1;32m   1903\u001b[0m             \u001b[0;31m# nested tuple slicing\u001b[0m\u001b[0;34m\u001b[0m\u001b[0;34m\u001b[0m\u001b[0m\n",
      "\u001b[0;32m/anaconda3/envs/ml-ufc-env/lib/python3.6/site-packages/pandas/core/indexing.py\u001b[0m in \u001b[0;36m_getitem_iterable\u001b[0;34m(self, key, axis)\u001b[0m\n\u001b[1;32m   1161\u001b[0m                     \u001b[0mresult\u001b[0m \u001b[0;34m=\u001b[0m \u001b[0mself\u001b[0m\u001b[0;34m.\u001b[0m\u001b[0mobj\u001b[0m\u001b[0;34m.\u001b[0m\u001b[0m_take\u001b[0m\u001b[0;34m(\u001b[0m\u001b[0mindexer\u001b[0m\u001b[0;34m[\u001b[0m\u001b[0mindexer\u001b[0m \u001b[0;34m!=\u001b[0m \u001b[0;34m-\u001b[0m\u001b[0;36m1\u001b[0m\u001b[0;34m]\u001b[0m\u001b[0;34m,\u001b[0m \u001b[0maxis\u001b[0m\u001b[0;34m=\u001b[0m\u001b[0maxis\u001b[0m\u001b[0;34m)\u001b[0m\u001b[0;34m\u001b[0m\u001b[0m\n\u001b[1;32m   1162\u001b[0m \u001b[0;34m\u001b[0m\u001b[0m\n\u001b[0;32m-> 1163\u001b[0;31m                     \u001b[0mself\u001b[0m\u001b[0;34m.\u001b[0m\u001b[0m_validate_read_indexer\u001b[0m\u001b[0;34m(\u001b[0m\u001b[0mkey\u001b[0m\u001b[0;34m,\u001b[0m \u001b[0mnew_indexer\u001b[0m\u001b[0;34m,\u001b[0m \u001b[0maxis\u001b[0m\u001b[0;34m)\u001b[0m\u001b[0;34m\u001b[0m\u001b[0m\n\u001b[0m\u001b[1;32m   1164\u001b[0m                     result = result._reindex_with_indexers(\n\u001b[1;32m   1165\u001b[0m                         \u001b[0;34m{\u001b[0m\u001b[0maxis\u001b[0m\u001b[0;34m:\u001b[0m \u001b[0;34m[\u001b[0m\u001b[0mnew_target\u001b[0m\u001b[0;34m,\u001b[0m \u001b[0mnew_indexer\u001b[0m\u001b[0;34m]\u001b[0m\u001b[0;34m}\u001b[0m\u001b[0;34m,\u001b[0m\u001b[0;34m\u001b[0m\u001b[0m\n",
      "\u001b[0;32m/anaconda3/envs/ml-ufc-env/lib/python3.6/site-packages/pandas/core/indexing.py\u001b[0m in \u001b[0;36m_validate_read_indexer\u001b[0;34m(self, key, indexer, axis)\u001b[0m\n\u001b[1;32m   1204\u001b[0m                 raise KeyError(\n\u001b[1;32m   1205\u001b[0m                     u\"None of [{key}] are in the [{axis}]\".format(\n\u001b[0;32m-> 1206\u001b[0;31m                         key=key, axis=self.obj._get_axis_name(axis)))\n\u001b[0m\u001b[1;32m   1207\u001b[0m \u001b[0;34m\u001b[0m\u001b[0m\n\u001b[1;32m   1208\u001b[0m             \u001b[0;31m# we skip the warning on Categorical/Interval\u001b[0m\u001b[0;34m\u001b[0m\u001b[0;34m\u001b[0m\u001b[0m\n",
      "\u001b[0;31mKeyError\u001b[0m: 'None of [0        Santiago Ponzinibbio\\n1               Ricardo Lamas\\n2               Johnny Walker\\n3                Ian Heinisch\\n4              Guido Cannetti\\n5             Poliana Botelho\\n6             Michel Prazeres\\n7                 Ulka Sasaki\\n8               Austin Arnett\\n9          Laureano Staropoli\\n10               Devin Powell\\n11               Nad Narimani\\n12           Rogerio Nogueira\\n13             Albert Morales\\n14            Claudia Gadelha\\n15            Krzysztof Jotko\\n16              Warlley Alves\\n17                  Zak Ottow\\n18            Jack Hermansson\\n19      Gadzhimurad Antigulov\\n20             Johnny Eduardo\\n21          Christian Colombo\\n22            Justin Scoggins\\n24                 Uriah Hall\\n25                 Stevie Ray\\n26                Tim Johnson\\n27                Artem Lobov\\n28           Magnus Cedenblad\\n29             Ali Bagautinov\\n30                  Kevin Lee\\n                ...          \\n4847            Nordine Taleb\\n4848         Nasrat Haqparast\\n4849           Chris Fishgold\\n4850          Talita Bernardo\\n4851               Te Edwards\\n4852             Marcelo Golm\\n4853               Stevie Ray\\n4854           Daniel Cormier\\n4855             Jacare Souza\\n4856          Jared Cannonier\\n4857            Karl Roberson\\n4858            Derek Brunson\\n4859             Jason Knight\\n4860        Roxanne Modafferi\\n4861           Sheymon Moraes\\n4862             Ben Saunders\\n4864           Kurt Holobaugh\\n4865           Adam Wieczorek\\n4866           Yair Rodriguez\\n4867           Donald Cerrone\\n4868        Raquel Pennington\\n4869            Thiago Moises\\n4870            Maycee Barber\\n4871          Michael Trizano\\n4872            Amanda Cooper\\n4873            Bobby Moffett\\n4874               Davi Ramos\\n4875             Julian Erosa\\n4876           Joseph Morales\\n4877          Mark De La Rosa\\nName: fighter1, Length: 4570, dtype: object] are in the [index]'"
     ]
    }
   ],
   "source": [
    "# Pull in the statistics for each fighter1\n",
    "data_fighter1 = data_fighters.loc[data_bouts[\"fighter1\"], :]\n",
    "# Pull in the statistics for each fighter2\n",
    "data_fighter2 = data_fighters.loc[data_bouts[\"fighter2\"], :]\n",
    "\n",
    "# Add suffix to each new dataframe's columns so we can merge them\n",
    "data_fighter1 = data_fighter1.add_prefix('fighter1_')\n",
    "data_fighter2 = data_fighter2.add_prefix('fighter2_')"
   ]
  },
  {
   "cell_type": "markdown",
   "metadata": {},
   "source": [
    "### Create a combined dataframe of bouts with details of fighter1 and fighter2"
   ]
  },
  {
   "cell_type": "code",
   "execution_count": 261,
   "metadata": {
    "ExecuteTime": {
     "end_time": "2019-07-21T19:34:11.917538Z",
     "start_time": "2019-07-21T19:34:11.855636Z"
    },
    "collapsed": true
   },
   "outputs": [
    {
     "ename": "NameError",
     "evalue": "name 'data_fighter1' is not defined",
     "output_type": "error",
     "traceback": [
      "\u001b[0;31m---------------------------------------------------------------------------\u001b[0m",
      "\u001b[0;31mNameError\u001b[0m                                 Traceback (most recent call last)",
      "\u001b[0;32m<ipython-input-261-d7f1876ade99>\u001b[0m in \u001b[0;36m<module>\u001b[0;34m()\u001b[0m\n\u001b[1;32m      1\u001b[0m \u001b[0;31m# Create a merged dataframe\u001b[0m\u001b[0;34m\u001b[0m\u001b[0;34m\u001b[0m\u001b[0m\n\u001b[0;32m----> 2\u001b[0;31m \u001b[0mdata_combined\u001b[0m \u001b[0;34m=\u001b[0m \u001b[0mpd\u001b[0m\u001b[0;34m.\u001b[0m\u001b[0mconcat\u001b[0m\u001b[0;34m(\u001b[0m\u001b[0;34m[\u001b[0m\u001b[0mdata_bouts\u001b[0m\u001b[0;34m,\u001b[0m \u001b[0mdata_fighter1\u001b[0m\u001b[0;34m,\u001b[0m \u001b[0mdata_fighter2\u001b[0m\u001b[0;34m]\u001b[0m\u001b[0;34m,\u001b[0m \u001b[0maxis\u001b[0m\u001b[0;34m=\u001b[0m\u001b[0;36m1\u001b[0m\u001b[0;34m)\u001b[0m\u001b[0;34m\u001b[0m\u001b[0m\n\u001b[0m\u001b[1;32m      3\u001b[0m \u001b[0mdata_combined\u001b[0m\u001b[0;34m.\u001b[0m\u001b[0mhead\u001b[0m\u001b[0;34m(\u001b[0m\u001b[0;36m3\u001b[0m\u001b[0;34m)\u001b[0m\u001b[0;34m\u001b[0m\u001b[0m\n",
      "\u001b[0;31mNameError\u001b[0m: name 'data_fighter1' is not defined"
     ]
    }
   ],
   "source": [
    "# Create a merged dataframe\n",
    "data_combined = pd.concat([data_bouts, data_fighter1, data_fighter2], axis=1)\n",
    "data_combined.head(3)"
   ]
  },
  {
   "cell_type": "markdown",
   "metadata": {},
   "source": [
    "### Feature Engineer columns for home advantage"
   ]
  },
  {
   "cell_type": "code",
   "execution_count": null,
   "metadata": {},
   "outputs": [],
   "source": [
    "# binary columns: 1 if the fighter is fighting in his home country.\n",
    "data_combined['fighter1_home_adv'] = data_combined['location' == 'fighter1_home']\n",
    "data_combined['fighter2_home_adv'] = data_combined['location' == 'fighter2_home']"
   ]
  },
  {
   "cell_type": "markdown",
   "metadata": {},
   "source": [
    "### Save combined dataframe to csv"
   ]
  },
  {
   "cell_type": "code",
   "execution_count": 262,
   "metadata": {
    "ExecuteTime": {
     "end_time": "2019-07-21T19:35:46.843293Z",
     "start_time": "2019-07-21T19:35:46.784409Z"
    },
    "scrolled": true
   },
   "outputs": [
    {
     "ename": "NameError",
     "evalue": "name 'data_combined' is not defined",
     "output_type": "error",
     "traceback": [
      "\u001b[0;31m---------------------------------------------------------------------------\u001b[0m",
      "\u001b[0;31mNameError\u001b[0m                                 Traceback (most recent call last)",
      "\u001b[0;32m<ipython-input-262-789b0bdfd23b>\u001b[0m in \u001b[0;36m<module>\u001b[0;34m()\u001b[0m\n\u001b[0;32m----> 1\u001b[0;31m \u001b[0mdata_combined\u001b[0m\u001b[0;34m.\u001b[0m\u001b[0mto_csv\u001b[0m\u001b[0;34m(\u001b[0m\u001b[0;34m'../data/processed/combined'\u001b[0m\u001b[0;34m)\u001b[0m\u001b[0;34m\u001b[0m\u001b[0m\n\u001b[0m",
      "\u001b[0;31mNameError\u001b[0m: name 'data_combined' is not defined"
     ]
    }
   ],
   "source": [
    "data_combined.to_csv('../data/processed/combined')"
   ]
  },
  {
   "cell_type": "code",
   "execution_count": null,
   "metadata": {},
   "outputs": [],
   "source": []
  }
 ],
 "metadata": {
  "kernelspec": {
   "display_name": "Python 3",
   "language": "python",
   "name": "python3"
  },
  "language_info": {
   "codemirror_mode": {
    "name": "ipython",
    "version": 3
   },
   "file_extension": ".py",
   "mimetype": "text/x-python",
   "name": "python",
   "nbconvert_exporter": "python",
   "pygments_lexer": "ipython3",
   "version": "3.6.6"
  },
  "toc": {
   "base_numbering": 1,
   "nav_menu": {},
   "number_sections": true,
   "sideBar": true,
   "skip_h1_title": false,
   "title_cell": "Table of Contents",
   "title_sidebar": "Contents",
   "toc_cell": false,
   "toc_position": {},
   "toc_section_display": true,
   "toc_window_display": false
  },
  "varInspector": {
   "cols": {
    "lenName": 16,
    "lenType": 16,
    "lenVar": 40
   },
   "kernels_config": {
    "python": {
     "delete_cmd_postfix": "",
     "delete_cmd_prefix": "del ",
     "library": "var_list.py",
     "varRefreshCmd": "print(var_dic_list())"
    },
    "r": {
     "delete_cmd_postfix": ") ",
     "delete_cmd_prefix": "rm(",
     "library": "var_list.r",
     "varRefreshCmd": "cat(var_dic_list()) "
    }
   },
   "types_to_exclude": [
    "module",
    "function",
    "builtin_function_or_method",
    "instance",
    "_Feature"
   ],
   "window_display": false
  }
 },
 "nbformat": 4,
 "nbformat_minor": 2
}
