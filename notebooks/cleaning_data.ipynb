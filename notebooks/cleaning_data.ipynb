{
 "cells": [
  {
   "cell_type": "markdown",
   "metadata": {},
   "source": [
    "# Functions to export"
   ]
  },
  {
   "cell_type": "code",
   "execution_count": 97,
   "metadata": {
    "ExecuteTime": {
     "end_time": "2019-07-21T22:30:04.310688Z",
     "start_time": "2019-07-21T22:30:04.287107Z"
    }
   },
   "outputs": [],
   "source": [
    "def column_distplot(dataframe, column, xlabel=None): \n",
    "    '''Plot the histogram of a column using Seaborn'''\n",
    "    # Set Figure\n",
    "    sns.set(rc={'figure.figsize':(10,5)},style=\"white\", context=\"talk\")\n",
    "\n",
    "    # Plot\n",
    "    column = column\n",
    "    data = dataframe[column][~dataframe[column].isna()]\n",
    "    ax = sns.distplot(data);\n",
    "\n",
    "    # Title and Axis\n",
    "    ax.set_title(\"Histogram of the fighters' {}\".format(column));\n",
    "    if type(xlabel)==str:\n",
    "        ax.set_xlabel(xlabel)\n",
    "    else:\n",
    "        ax.set_xlabel(str(column).capitalize())\n",
    "    sns.despine()\n",
    "    \n",
    "    col_cap = str(column).capitalize()\n",
    "    print(\"{} Skewness: {}\".format(col_cap, round(dataframe[column].skew(), 2)))\n",
    "    print(\"{} Kurtosis: {}\".format(col_cap, round(dataframe[column].kurt(), 2)))\n",
    "    \n",
    "    print('{} Mean: {}'.format(col_cap, round(data.mean(), 2)))\n",
    "    print('{} Median: {}'.format(col_cap, data.median()))"
   ]
  },
  {
   "cell_type": "code",
   "execution_count": 98,
   "metadata": {
    "ExecuteTime": {
     "end_time": "2019-07-21T22:30:04.334938Z",
     "start_time": "2019-07-21T22:30:04.312404Z"
    }
   },
   "outputs": [],
   "source": [
    "def column_countplot(dataframe, column, show_count=False):\n",
    "    '''Plot the count of each category for a column in the dataframe'''\n",
    "    \n",
    "    # Set the figure\n",
    "    sns.set(rc={'figure.figsize':(10,5)},style=\"white\", context=\"talk\")\n",
    "    \n",
    "    # Plot\n",
    "    ax = sns.countplot(x=column, data=dataframe, color=\"b\")\n",
    "  \n",
    "    # Title and Axis\n",
    "    ax.set_title(\"Counts of each {} category\".format(column))\n",
    "    ax.set_xlabel(str(column).capitalize())\n",
    "    ax.set_ylabel('Count')\n",
    "    sns.despine()\n",
    "    \n",
    "    if show_count:\n",
    "        for p in ax.patches:\n",
    "            ax.annotate('{:}'.format(p.get_height()), (p.get_x()+0.3, p.get_height()+10))"
   ]
  },
  {
   "cell_type": "code",
   "execution_count": 99,
   "metadata": {
    "ExecuteTime": {
     "end_time": "2019-07-21T22:30:04.355468Z",
     "start_time": "2019-07-21T22:30:04.336687Z"
    }
   },
   "outputs": [],
   "source": [
    "def parse_height(height):\n",
    "    '''Splits the height value into feet and inches'''\n",
    "    ht_ = height.split(\" \")\n",
    "    ft_ = float(ht_[0])\n",
    "    in_ = float(ht_[1])\n",
    "    return (12*ft_) + in_"
   ]
  },
  {
   "cell_type": "markdown",
   "metadata": {},
   "source": [
    "# EDA & Data Cleaning - [Your Project Name Here]"
   ]
  },
  {
   "cell_type": "markdown",
   "metadata": {},
   "source": [
    "## Local Code Imports - Do not delete"
   ]
  },
  {
   "cell_type": "code",
   "execution_count": 100,
   "metadata": {
    "ExecuteTime": {
     "end_time": "2019-07-21T22:30:04.375356Z",
     "start_time": "2019-07-21T22:30:04.356797Z"
    },
    "tags": [
     "hidecode"
    ]
   },
   "outputs": [
    {
     "name": "stdout",
     "output_type": "stream",
     "text": [
      "The autoreload extension is already loaded. To reload it, use:\n",
      "  %reload_ext autoreload\n"
     ]
    }
   ],
   "source": [
    "# DO NOT REMOVE THESE\n",
    "%load_ext autoreload\n",
    "%autoreload 2"
   ]
  },
  {
   "cell_type": "code",
   "execution_count": 101,
   "metadata": {
    "ExecuteTime": {
     "end_time": "2019-07-21T22:30:04.430127Z",
     "start_time": "2019-07-21T22:30:04.376519Z"
    }
   },
   "outputs": [],
   "source": [
    "# DO NOT REMOVE This\n",
    "%reload_ext autoreload"
   ]
  },
  {
   "cell_type": "code",
   "execution_count": 102,
   "metadata": {
    "ExecuteTime": {
     "end_time": "2019-07-21T22:30:04.469144Z",
     "start_time": "2019-07-21T22:30:04.432119Z"
    }
   },
   "outputs": [],
   "source": [
    "## DO NOT REMOVE\n",
    "## import local src module -\n",
    "## src in this project will contain all your local code\n",
    "## clean_data.py, model.py, visualize.py, custom.py\n",
    "from src import make_data as mk\n",
    "from src import visualize as viz\n",
    "from src import model as mdl\n",
    "from src import pandas_operators as po\n",
    "\n",
    "def test_src():\n",
    "    mk.test_make_data()\n",
    "    viz.test_viz()\n",
    "    mdl.test_model()\n",
    "    po.test_pandas()\n",
    "    \n",
    "    return 1"
   ]
  },
  {
   "cell_type": "code",
   "execution_count": 103,
   "metadata": {
    "ExecuteTime": {
     "end_time": "2019-07-21T22:30:04.506449Z",
     "start_time": "2019-07-21T22:30:04.470412Z"
    }
   },
   "outputs": [
    {
     "name": "stdout",
     "output_type": "stream",
     "text": [
      "In make_data\n",
      "In Visualize\n",
      "In Model\n",
      "In pandas ops\n"
     ]
    },
    {
     "data": {
      "text/plain": [
       "1"
      ]
     },
     "execution_count": 103,
     "metadata": {},
     "output_type": "execute_result"
    }
   ],
   "source": [
    "test_src()"
   ]
  },
  {
   "cell_type": "markdown",
   "metadata": {},
   "source": [
    "## Code Imports"
   ]
  },
  {
   "cell_type": "code",
   "execution_count": 104,
   "metadata": {
    "ExecuteTime": {
     "end_time": "2019-07-21T22:30:04.544710Z",
     "start_time": "2019-07-21T22:30:04.508502Z"
    }
   },
   "outputs": [],
   "source": [
    "# Dataframes\n",
    "import numpy as np\n",
    "import pandas as pd\n",
    "\n",
    "# Visualization\n",
    "import matplotlib.pyplot as plt\n",
    "%matplotlib inline\n",
    "import seaborn as sns\n",
    "\n",
    "# Calculating age of fighters\n",
    "import datetime"
   ]
  },
  {
   "cell_type": "code",
   "execution_count": 105,
   "metadata": {
    "ExecuteTime": {
     "end_time": "2019-07-21T22:30:04.581700Z",
     "start_time": "2019-07-21T22:30:04.546674Z"
    }
   },
   "outputs": [
    {
     "data": {
      "text/plain": [
       "datetime.date(2019, 7, 21)"
      ]
     },
     "execution_count": 105,
     "metadata": {},
     "output_type": "execute_result"
    }
   ],
   "source": [
    "datetime.date.today()"
   ]
  },
  {
   "cell_type": "markdown",
   "metadata": {},
   "source": [
    "# Project Overview\n"
   ]
  },
  {
   "cell_type": "markdown",
   "metadata": {},
   "source": [
    "## Background"
   ]
  },
  {
   "cell_type": "markdown",
   "metadata": {},
   "source": [
    "UFC BACKGROUND\n",
    "\n",
    "PROJECT OBJECTIVE"
   ]
  },
  {
   "cell_type": "markdown",
   "metadata": {},
   "source": [
    "# Data Understanding"
   ]
  },
  {
   "cell_type": "markdown",
   "metadata": {},
   "source": [
    "## Bouts Data"
   ]
  },
  {
   "cell_type": "markdown",
   "metadata": {},
   "source": [
    "### Bouts Data  - Description"
   ]
  },
  {
   "cell_type": "markdown",
   "metadata": {},
   "source": [
    "RESERVED FOR BOUTS DATA DESCRIPTION"
   ]
  },
  {
   "cell_type": "markdown",
   "metadata": {},
   "source": [
    "#### Bouts Data - Data Dictionary"
   ]
  },
  {
   "cell_type": "markdown",
   "metadata": {},
   "source": [
    "RESERVED SPACE FOR BOUTS DATA DICTIONARY"
   ]
  },
  {
   "cell_type": "markdown",
   "metadata": {
    "heading_collapsed": true
   },
   "source": [
    "### Bouts Data - Import and Summary"
   ]
  },
  {
   "cell_type": "code",
   "execution_count": 106,
   "metadata": {
    "ExecuteTime": {
     "end_time": "2019-07-21T22:30:04.639425Z",
     "start_time": "2019-07-21T22:30:04.582903Z"
    },
    "hidden": true
   },
   "outputs": [
    {
     "data": {
      "text/html": [
       "<div>\n",
       "<style scoped>\n",
       "    .dataframe tbody tr th:only-of-type {\n",
       "        vertical-align: middle;\n",
       "    }\n",
       "\n",
       "    .dataframe tbody tr th {\n",
       "        vertical-align: top;\n",
       "    }\n",
       "\n",
       "    .dataframe thead th {\n",
       "        text-align: right;\n",
       "    }\n",
       "</style>\n",
       "<table border=\"1\" class=\"dataframe\">\n",
       "  <thead>\n",
       "    <tr style=\"text-align: right;\">\n",
       "      <th></th>\n",
       "      <th>bout_id</th>\n",
       "      <th>event_name</th>\n",
       "      <th>date</th>\n",
       "      <th>location</th>\n",
       "      <th>attendance</th>\n",
       "      <th>result</th>\n",
       "      <th>fighter1</th>\n",
       "      <th>fighter2</th>\n",
       "      <th>winner</th>\n",
       "      <th>weight_class</th>\n",
       "      <th>title_fight</th>\n",
       "      <th>method</th>\n",
       "      <th>end_round</th>\n",
       "      <th>end_time</th>\n",
       "    </tr>\n",
       "  </thead>\n",
       "  <tbody>\n",
       "    <tr>\n",
       "      <th>0</th>\n",
       "      <td>1</td>\n",
       "      <td>UFC Fight Night: Magny vs. Ponzinibbio</td>\n",
       "      <td>2018-11-17</td>\n",
       "      <td>Buenos Aires, Buenos Aires, Argentina</td>\n",
       "      <td>10245.0</td>\n",
       "      <td>win</td>\n",
       "      <td>Santiago Ponzinibbio</td>\n",
       "      <td>Neil Magny</td>\n",
       "      <td>Santiago Ponzinibbio</td>\n",
       "      <td>Welterweight</td>\n",
       "      <td>f</td>\n",
       "      <td>KO/TKO-Punch</td>\n",
       "      <td>4</td>\n",
       "      <td>2:36</td>\n",
       "    </tr>\n",
       "    <tr>\n",
       "      <th>1</th>\n",
       "      <td>2</td>\n",
       "      <td>UFC Fight Night: Magny vs. Ponzinibbio</td>\n",
       "      <td>2018-11-17</td>\n",
       "      <td>Buenos Aires, Buenos Aires, Argentina</td>\n",
       "      <td>10245.0</td>\n",
       "      <td>win</td>\n",
       "      <td>Ricardo Lamas</td>\n",
       "      <td>Darren Elkins</td>\n",
       "      <td>Ricardo Lamas</td>\n",
       "      <td>Featherweight</td>\n",
       "      <td>f</td>\n",
       "      <td>KO/TKO-Elbows</td>\n",
       "      <td>3</td>\n",
       "      <td>4:09</td>\n",
       "    </tr>\n",
       "    <tr>\n",
       "      <th>2</th>\n",
       "      <td>3</td>\n",
       "      <td>UFC Fight Night: Magny vs. Ponzinibbio</td>\n",
       "      <td>2018-11-17</td>\n",
       "      <td>Buenos Aires, Buenos Aires, Argentina</td>\n",
       "      <td>10245.0</td>\n",
       "      <td>win</td>\n",
       "      <td>Johnny Walker</td>\n",
       "      <td>Khalil Rountree Jr.</td>\n",
       "      <td>Johnny Walker</td>\n",
       "      <td>Light Heavyweight</td>\n",
       "      <td>f</td>\n",
       "      <td>KO/TKO-Elbow</td>\n",
       "      <td>1</td>\n",
       "      <td>1:57</td>\n",
       "    </tr>\n",
       "  </tbody>\n",
       "</table>\n",
       "</div>"
      ],
      "text/plain": [
       "   bout_id                              event_name       date  \\\n",
       "0        1  UFC Fight Night: Magny vs. Ponzinibbio 2018-11-17   \n",
       "1        2  UFC Fight Night: Magny vs. Ponzinibbio 2018-11-17   \n",
       "2        3  UFC Fight Night: Magny vs. Ponzinibbio 2018-11-17   \n",
       "\n",
       "                                location  attendance  result  \\\n",
       "0  Buenos Aires, Buenos Aires, Argentina      10245.0    win   \n",
       "1  Buenos Aires, Buenos Aires, Argentina      10245.0    win   \n",
       "2  Buenos Aires, Buenos Aires, Argentina      10245.0    win   \n",
       "\n",
       "               fighter1             fighter2                winner  \\\n",
       "0  Santiago Ponzinibbio           Neil Magny  Santiago Ponzinibbio   \n",
       "1         Ricardo Lamas        Darren Elkins         Ricardo Lamas   \n",
       "2         Johnny Walker  Khalil Rountree Jr.         Johnny Walker   \n",
       "\n",
       "        weight_class title_fight         method  end_round end_time  \n",
       "0       Welterweight           f   KO/TKO-Punch          4     2:36  \n",
       "1      Featherweight           f  KO/TKO-Elbows          3     4:09  \n",
       "2  Light Heavyweight           f   KO/TKO-Elbow          1     1:57  "
      ]
     },
     "execution_count": 106,
     "metadata": {},
     "output_type": "execute_result"
    }
   ],
   "source": [
    "data_bouts = pd.read_csv('../data/raw/ufc_bouts.csv', parse_dates=['date'])\n",
    "data_bouts.head(3)"
   ]
  },
  {
   "cell_type": "code",
   "execution_count": 107,
   "metadata": {
    "ExecuteTime": {
     "end_time": "2019-07-21T22:30:04.674308Z",
     "start_time": "2019-07-21T22:30:04.640524Z"
    },
    "hidden": true
   },
   "outputs": [
    {
     "name": "stdout",
     "output_type": "stream",
     "text": [
      "DataFrame Shape is (4878, 14)\n",
      "This represents 4878 fights\n"
     ]
    }
   ],
   "source": [
    "print('DataFrame Shape is {}'.format(data_bouts.shape))\n",
    "print('This represents {} fights'.format(data_bouts.shape[0]))"
   ]
  },
  {
   "cell_type": "code",
   "execution_count": 108,
   "metadata": {
    "ExecuteTime": {
     "end_time": "2019-07-21T22:30:04.714434Z",
     "start_time": "2019-07-21T22:30:04.675466Z"
    },
    "hidden": true
   },
   "outputs": [
    {
     "name": "stdout",
     "output_type": "stream",
     "text": [
      "<class 'pandas.core.frame.DataFrame'>\n",
      "RangeIndex: 4878 entries, 0 to 4877\n",
      "Data columns (total 14 columns):\n",
      "bout_id         4878 non-null int64\n",
      "event_name      4878 non-null object\n",
      "date            4878 non-null datetime64[ns]\n",
      "location        4878 non-null object\n",
      "attendance      4682 non-null float64\n",
      "result          4878 non-null object\n",
      "fighter1        4878 non-null object\n",
      "fighter2        4878 non-null object\n",
      "winner          4796 non-null object\n",
      "weight_class    4878 non-null object\n",
      "title_fight     4878 non-null object\n",
      "method          4878 non-null object\n",
      "end_round       4878 non-null int64\n",
      "end_time        4878 non-null object\n",
      "dtypes: datetime64[ns](1), float64(1), int64(2), object(10)\n",
      "memory usage: 533.6+ KB\n"
     ]
    }
   ],
   "source": [
    "data_bouts.info()"
   ]
  },
  {
   "cell_type": "markdown",
   "metadata": {},
   "source": [
    "### Bouts Data -  Exploration & Cleaning"
   ]
  },
  {
   "cell_type": "code",
   "execution_count": 109,
   "metadata": {
    "ExecuteTime": {
     "end_time": "2019-07-21T22:30:04.749170Z",
     "start_time": "2019-07-21T22:30:04.715581Z"
    }
   },
   "outputs": [
    {
     "name": "stdout",
     "output_type": "stream",
     "text": [
      "Each sample (row) in our bouts data is unique\n"
     ]
    }
   ],
   "source": [
    "if data_bouts.shape[0] == data_bouts['bout_id'].nunique():\n",
    "    print('Each sample (row) in our bouts data is unique')"
   ]
  },
  {
   "cell_type": "markdown",
   "metadata": {
    "heading_collapsed": true
   },
   "source": [
    "#### Results column - drop nc and draw rows"
   ]
  },
  {
   "cell_type": "code",
   "execution_count": 110,
   "metadata": {
    "ExecuteTime": {
     "end_time": "2019-07-21T22:30:04.785006Z",
     "start_time": "2019-07-21T22:30:04.750177Z"
    },
    "hidden": true,
    "scrolled": true
   },
   "outputs": [
    {
     "data": {
      "text/plain": [
       "win     4796\n",
       "nc        48\n",
       "draw      34\n",
       "Name: result, dtype: int64"
      ]
     },
     "execution_count": 110,
     "metadata": {},
     "output_type": "execute_result"
    }
   ],
   "source": [
    "data_bouts.result.value_counts()"
   ]
  },
  {
   "cell_type": "markdown",
   "metadata": {
    "hidden": true
   },
   "source": [
    "- The no contests are either due to illegal moves or failed drugs tests.  \n",
    "- Example below between Nick Diaz and Anderson Silva was a no contest due to Anderson Silva failing a drugs test\n",
    "- https://www.mmamania.com/2015/2/6/7992549/no-contest-anderson-silvas-victory-over-nick-diaz-at-ufc-183"
   ]
  },
  {
   "cell_type": "code",
   "execution_count": 111,
   "metadata": {
    "ExecuteTime": {
     "end_time": "2019-07-21T22:30:04.828027Z",
     "start_time": "2019-07-21T22:30:04.786086Z"
    },
    "hidden": true
   },
   "outputs": [
    {
     "data": {
      "text/html": [
       "<div>\n",
       "<style scoped>\n",
       "    .dataframe tbody tr th:only-of-type {\n",
       "        vertical-align: middle;\n",
       "    }\n",
       "\n",
       "    .dataframe tbody tr th {\n",
       "        vertical-align: top;\n",
       "    }\n",
       "\n",
       "    .dataframe thead th {\n",
       "        text-align: right;\n",
       "    }\n",
       "</style>\n",
       "<table border=\"1\" class=\"dataframe\">\n",
       "  <thead>\n",
       "    <tr style=\"text-align: right;\">\n",
       "      <th></th>\n",
       "      <th>bout_id</th>\n",
       "      <th>event_name</th>\n",
       "      <th>date</th>\n",
       "      <th>location</th>\n",
       "      <th>attendance</th>\n",
       "      <th>result</th>\n",
       "      <th>fighter1</th>\n",
       "      <th>fighter2</th>\n",
       "      <th>winner</th>\n",
       "      <th>weight_class</th>\n",
       "      <th>title_fight</th>\n",
       "      <th>method</th>\n",
       "      <th>end_round</th>\n",
       "      <th>end_time</th>\n",
       "    </tr>\n",
       "  </thead>\n",
       "  <tbody>\n",
       "    <tr>\n",
       "      <th>3300</th>\n",
       "      <td>3301</td>\n",
       "      <td>UFC 183: Silva vs Diaz</td>\n",
       "      <td>2015-01-31</td>\n",
       "      <td>Las Vegas, Nevada, USA</td>\n",
       "      <td>13114.0</td>\n",
       "      <td>nc</td>\n",
       "      <td>Anderson Silva</td>\n",
       "      <td>Nick Diaz</td>\n",
       "      <td>NaN</td>\n",
       "      <td>Middleweight</td>\n",
       "      <td>f</td>\n",
       "      <td>Overturned</td>\n",
       "      <td>5</td>\n",
       "      <td>5:00</td>\n",
       "    </tr>\n",
       "  </tbody>\n",
       "</table>\n",
       "</div>"
      ],
      "text/plain": [
       "      bout_id              event_name       date                location  \\\n",
       "3300     3301  UFC 183: Silva vs Diaz 2015-01-31  Las Vegas, Nevada, USA   \n",
       "\n",
       "      attendance  result        fighter1   fighter2 winner  weight_class  \\\n",
       "3300      13114.0     nc  Anderson Silva  Nick Diaz    NaN  Middleweight   \n",
       "\n",
       "     title_fight      method  end_round end_time  \n",
       "3300           f  Overturned          5     5:00  "
      ]
     },
     "execution_count": 111,
     "metadata": {},
     "output_type": "execute_result"
    }
   ],
   "source": [
    "# Example of no contest between Nick Diaz and Anderson Silva\n",
    "data_bouts[(data_bouts['result']=='nc') & (data_bouts['fighter1']=='Anderson Silva')]"
   ]
  },
  {
   "cell_type": "code",
   "execution_count": 112,
   "metadata": {
    "ExecuteTime": {
     "end_time": "2019-07-21T22:30:04.868674Z",
     "start_time": "2019-07-21T22:30:04.828997Z"
    },
    "hidden": true
   },
   "outputs": [
    {
     "name": "stdout",
     "output_type": "stream",
     "text": [
      "Result Column Value Counts:\n",
      " win     4796\n",
      "nc        48\n",
      "draw      34\n",
      "Name: result, dtype: int64 \n",
      "\n",
      "Result Column Value Counts After Dropping nc AND draw:\n",
      " win    4796\n",
      "Name: result, dtype: int64\n"
     ]
    }
   ],
   "source": [
    "print('Result Column Value Counts:\\n', data_bouts.result.value_counts(), '\\n')\n",
    "\n",
    "# Drop NC rows as they dont help us predict the outcome\n",
    "data_bouts = data_bouts[data_bouts['result']!='nc']\n",
    "\n",
    "# drop the draw rows for now, so that we have a binary outcome of win or lose\n",
    "data_bouts = data_bouts[data_bouts['result']!='draw']\n",
    "\n",
    "print('Result Column Value Counts After Dropping nc AND draw:\\n', data_bouts.result.value_counts())"
   ]
  },
  {
   "cell_type": "markdown",
   "metadata": {
    "heading_collapsed": true
   },
   "source": [
    "#### Location column - shorten"
   ]
  },
  {
   "cell_type": "code",
   "execution_count": 113,
   "metadata": {
    "ExecuteTime": {
     "end_time": "2019-07-21T22:30:04.964628Z",
     "start_time": "2019-07-21T22:30:04.870624Z"
    },
    "hidden": true
   },
   "outputs": [
    {
     "data": {
      "text/html": [
       "<div>\n",
       "<style scoped>\n",
       "    .dataframe tbody tr th:only-of-type {\n",
       "        vertical-align: middle;\n",
       "    }\n",
       "\n",
       "    .dataframe tbody tr th {\n",
       "        vertical-align: top;\n",
       "    }\n",
       "\n",
       "    .dataframe thead th {\n",
       "        text-align: right;\n",
       "    }\n",
       "</style>\n",
       "<table border=\"1\" class=\"dataframe\">\n",
       "  <thead>\n",
       "    <tr style=\"text-align: right;\">\n",
       "      <th></th>\n",
       "      <th>bout_id</th>\n",
       "      <th>event_name</th>\n",
       "      <th>date</th>\n",
       "      <th>location</th>\n",
       "      <th>attendance</th>\n",
       "      <th>result</th>\n",
       "      <th>fighter1</th>\n",
       "      <th>fighter2</th>\n",
       "      <th>winner</th>\n",
       "      <th>weight_class</th>\n",
       "      <th>title_fight</th>\n",
       "      <th>method</th>\n",
       "      <th>end_round</th>\n",
       "      <th>end_time</th>\n",
       "    </tr>\n",
       "  </thead>\n",
       "  <tbody>\n",
       "    <tr>\n",
       "      <th>0</th>\n",
       "      <td>1</td>\n",
       "      <td>UFC Fight Night: Magny vs. Ponzinibbio</td>\n",
       "      <td>2018-11-17</td>\n",
       "      <td>Argentina</td>\n",
       "      <td>10245.0</td>\n",
       "      <td>win</td>\n",
       "      <td>Santiago Ponzinibbio</td>\n",
       "      <td>Neil Magny</td>\n",
       "      <td>Santiago Ponzinibbio</td>\n",
       "      <td>Welterweight</td>\n",
       "      <td>f</td>\n",
       "      <td>KO/TKO-Punch</td>\n",
       "      <td>4</td>\n",
       "      <td>2:36</td>\n",
       "    </tr>\n",
       "    <tr>\n",
       "      <th>1</th>\n",
       "      <td>2</td>\n",
       "      <td>UFC Fight Night: Magny vs. Ponzinibbio</td>\n",
       "      <td>2018-11-17</td>\n",
       "      <td>Argentina</td>\n",
       "      <td>10245.0</td>\n",
       "      <td>win</td>\n",
       "      <td>Ricardo Lamas</td>\n",
       "      <td>Darren Elkins</td>\n",
       "      <td>Ricardo Lamas</td>\n",
       "      <td>Featherweight</td>\n",
       "      <td>f</td>\n",
       "      <td>KO/TKO-Elbows</td>\n",
       "      <td>3</td>\n",
       "      <td>4:09</td>\n",
       "    </tr>\n",
       "  </tbody>\n",
       "</table>\n",
       "</div>"
      ],
      "text/plain": [
       "   bout_id                              event_name       date   location  \\\n",
       "0        1  UFC Fight Night: Magny vs. Ponzinibbio 2018-11-17  Argentina   \n",
       "1        2  UFC Fight Night: Magny vs. Ponzinibbio 2018-11-17  Argentina   \n",
       "\n",
       "   attendance  result              fighter1       fighter2  \\\n",
       "0      10245.0    win  Santiago Ponzinibbio     Neil Magny   \n",
       "1      10245.0    win         Ricardo Lamas  Darren Elkins   \n",
       "\n",
       "                 winner   weight_class title_fight         method  end_round  \\\n",
       "0  Santiago Ponzinibbio   Welterweight           f   KO/TKO-Punch          4   \n",
       "1         Ricardo Lamas  Featherweight           f  KO/TKO-Elbows          3   \n",
       "\n",
       "  end_time  \n",
       "0     2:36  \n",
       "1     4:09  "
      ]
     },
     "execution_count": 113,
     "metadata": {},
     "output_type": "execute_result"
    }
   ],
   "source": [
    "# Strip the location column down to only the country\n",
    "data_bouts['location'] = data_bouts['location'].str.split(\" \").str.get(-1)\n",
    "# Rename the location column to bout_location\n",
    "data_bouts.rename({'location': 'bout_location'}, inplace=True)\n",
    "\n",
    "data_bouts.head(2)"
   ]
  },
  {
   "cell_type": "markdown",
   "metadata": {},
   "source": [
    "#### Method column - Reduce number of categories & Dummy code"
   ]
  },
  {
   "cell_type": "code",
   "execution_count": 114,
   "metadata": {
    "ExecuteTime": {
     "end_time": "2019-07-21T22:30:05.012751Z",
     "start_time": "2019-07-21T22:30:04.966444Z"
    }
   },
   "outputs": [
    {
     "name": "stdout",
     "output_type": "stream",
     "text": [
      "- There were originally 44 categories of win method\n",
      "\n",
      "- Now there are only 4 categories of win method: \n",
      "DEC       2106\n",
      "KO/TKO    1645\n",
      "SUB       1031\n",
      "DQ          14\n",
      "Name: method, dtype: int64\n"
     ]
    }
   ],
   "source": [
    "print('- There were originally {} categories of win method\\n'.format(data_bouts.method.value_counts().count()))\n",
    "\n",
    "# Reduce the categories down\n",
    "data_bouts['method'] = data_bouts['method'].str.split(\"-\").str.get(0)\n",
    "\n",
    "print('- Now there are only {} categories of win method: \\n{}'.format(data_bouts.method.value_counts().count(), data_bouts.method.value_counts()))"
   ]
  },
  {
   "cell_type": "code",
   "execution_count": 115,
   "metadata": {
    "ExecuteTime": {
     "end_time": "2019-07-21T22:30:05.069887Z",
     "start_time": "2019-07-21T22:30:05.014327Z"
    }
   },
   "outputs": [
    {
     "data": {
      "text/html": [
       "<div>\n",
       "<style scoped>\n",
       "    .dataframe tbody tr th:only-of-type {\n",
       "        vertical-align: middle;\n",
       "    }\n",
       "\n",
       "    .dataframe tbody tr th {\n",
       "        vertical-align: top;\n",
       "    }\n",
       "\n",
       "    .dataframe thead th {\n",
       "        text-align: right;\n",
       "    }\n",
       "</style>\n",
       "<table border=\"1\" class=\"dataframe\">\n",
       "  <thead>\n",
       "    <tr style=\"text-align: right;\">\n",
       "      <th></th>\n",
       "      <th>bout_id</th>\n",
       "      <th>event_name</th>\n",
       "      <th>date</th>\n",
       "      <th>location</th>\n",
       "      <th>attendance</th>\n",
       "      <th>result</th>\n",
       "      <th>fighter1</th>\n",
       "      <th>fighter2</th>\n",
       "      <th>winner</th>\n",
       "      <th>weight_class</th>\n",
       "      <th>title_fight</th>\n",
       "      <th>end_round</th>\n",
       "      <th>end_time</th>\n",
       "      <th>method_DEC</th>\n",
       "      <th>method_DQ</th>\n",
       "      <th>method_KO/TKO</th>\n",
       "      <th>method_SUB</th>\n",
       "    </tr>\n",
       "  </thead>\n",
       "  <tbody>\n",
       "    <tr>\n",
       "      <th>0</th>\n",
       "      <td>1</td>\n",
       "      <td>UFC Fight Night: Magny vs. Ponzinibbio</td>\n",
       "      <td>2018-11-17</td>\n",
       "      <td>Argentina</td>\n",
       "      <td>10245.0</td>\n",
       "      <td>win</td>\n",
       "      <td>Santiago Ponzinibbio</td>\n",
       "      <td>Neil Magny</td>\n",
       "      <td>Santiago Ponzinibbio</td>\n",
       "      <td>Welterweight</td>\n",
       "      <td>f</td>\n",
       "      <td>4</td>\n",
       "      <td>2:36</td>\n",
       "      <td>0</td>\n",
       "      <td>0</td>\n",
       "      <td>1</td>\n",
       "      <td>0</td>\n",
       "    </tr>\n",
       "    <tr>\n",
       "      <th>1</th>\n",
       "      <td>2</td>\n",
       "      <td>UFC Fight Night: Magny vs. Ponzinibbio</td>\n",
       "      <td>2018-11-17</td>\n",
       "      <td>Argentina</td>\n",
       "      <td>10245.0</td>\n",
       "      <td>win</td>\n",
       "      <td>Ricardo Lamas</td>\n",
       "      <td>Darren Elkins</td>\n",
       "      <td>Ricardo Lamas</td>\n",
       "      <td>Featherweight</td>\n",
       "      <td>f</td>\n",
       "      <td>3</td>\n",
       "      <td>4:09</td>\n",
       "      <td>0</td>\n",
       "      <td>0</td>\n",
       "      <td>1</td>\n",
       "      <td>0</td>\n",
       "    </tr>\n",
       "  </tbody>\n",
       "</table>\n",
       "</div>"
      ],
      "text/plain": [
       "   bout_id                              event_name       date   location  \\\n",
       "0        1  UFC Fight Night: Magny vs. Ponzinibbio 2018-11-17  Argentina   \n",
       "1        2  UFC Fight Night: Magny vs. Ponzinibbio 2018-11-17  Argentina   \n",
       "\n",
       "   attendance  result              fighter1       fighter2  \\\n",
       "0      10245.0    win  Santiago Ponzinibbio     Neil Magny   \n",
       "1      10245.0    win         Ricardo Lamas  Darren Elkins   \n",
       "\n",
       "                 winner   weight_class title_fight  end_round end_time  \\\n",
       "0  Santiago Ponzinibbio   Welterweight           f          4     2:36   \n",
       "1         Ricardo Lamas  Featherweight           f          3     4:09   \n",
       "\n",
       "   method_DEC  method_DQ  method_KO/TKO  method_SUB  \n",
       "0           0          0              1           0  \n",
       "1           0          0              1           0  "
      ]
     },
     "execution_count": 115,
     "metadata": {},
     "output_type": "execute_result"
    }
   ],
   "source": [
    "bout_methods = pd.get_dummies(data_bouts['method'], prefix='method', prefix_sep='_')\n",
    "data_bouts = pd.concat([data_bouts, bout_methods], axis=1)\n",
    "data_bouts.drop(columns='method', inplace=True)\n",
    "data_bouts.head(2)"
   ]
  },
  {
   "cell_type": "markdown",
   "metadata": {
    "heading_collapsed": true
   },
   "source": [
    "#### Shuffle the fighter1 and fighter2"
   ]
  },
  {
   "cell_type": "code",
   "execution_count": 116,
   "metadata": {
    "ExecuteTime": {
     "end_time": "2019-07-21T22:30:05.112788Z",
     "start_time": "2019-07-21T22:30:05.070912Z"
    },
    "hidden": true,
    "scrolled": true
   },
   "outputs": [
    {
     "name": "stdout",
     "output_type": "stream",
     "text": [
      "The wiiner is always fighter1.  We need to randomize the winner between fighter1 and fighter2\n"
     ]
    }
   ],
   "source": [
    "fighter1_is_winner = data_bouts['fighter1'].equals(data_bouts['winner'])\n",
    "if fighter1_is_winner:\n",
    "    print('The wiiner is always fighter1.  We need to randomize the winner between fighter1 and fighter2')"
   ]
  },
  {
   "cell_type": "code",
   "execution_count": 117,
   "metadata": {
    "ExecuteTime": {
     "end_time": "2019-07-21T22:30:05.166841Z",
     "start_time": "2019-07-21T22:30:05.114972Z"
    },
    "hidden": true
   },
   "outputs": [],
   "source": [
    "# Randomly choose half of the observations to swap its fighter1 value with its fighter2 value\n",
    "bout_rows_to_shuffle = np.random.choice(len(data_bouts), size=len(data_bouts) // 2, replace=False)\n",
    "\n",
    "# Column location of fighter1 and fighter2\n",
    "f1_loc = data_bouts.columns.get_loc('fighter1')\n",
    "f2_loc = data_bouts.columns.get_loc('fighter2')\n",
    "\n",
    "# Swap the values\n",
    "data_bouts.iloc[bout_rows_to_shuffle, [f1_loc, f2_loc]] = data_bouts.iloc[bout_rows_to_shuffle, [f2_loc, f1_loc]].values"
   ]
  },
  {
   "cell_type": "markdown",
   "metadata": {},
   "source": [
    "#### title_fight column to binary"
   ]
  },
  {
   "cell_type": "code",
   "execution_count": 118,
   "metadata": {
    "ExecuteTime": {
     "end_time": "2019-07-21T22:30:05.224038Z",
     "start_time": "2019-07-21T22:30:05.168668Z"
    }
   },
   "outputs": [],
   "source": [
    "data_bouts['title_fight'] = data_bouts['title_fight'] == 't'\n",
    "data_bouts['title_fight'] = data_bouts['title_fight'].astype(int)"
   ]
  },
  {
   "cell_type": "markdown",
   "metadata": {},
   "source": [
    "#### winner column to binary"
   ]
  },
  {
   "cell_type": "markdown",
   "metadata": {},
   "source": [
    "- To avoid the confusion of a value of 0 meaning fighter1 wins, and value of 1 meaning fighter2 wins, we need to change the winner column name"
   ]
  },
  {
   "cell_type": "code",
   "execution_count": 119,
   "metadata": {
    "ExecuteTime": {
     "end_time": "2019-07-21T22:30:05.271064Z",
     "start_time": "2019-07-21T22:30:05.228287Z"
    },
    "scrolled": false
   },
   "outputs": [],
   "source": [
    "# Change winner column name\n",
    "data_bouts.rename(index=str, columns={'winner': 'winner_is_fighter1'}, inplace=True)\n",
    "\n",
    "# Change to binary\n",
    "data_bouts.winner_is_fighter1 = data_bouts.winner_is_fighter1==data_bouts.fighter1\n",
    "data_bouts.winner_is_fighter1 = data_bouts.winner_is_fighter1*1"
   ]
  },
  {
   "cell_type": "markdown",
   "metadata": {},
   "source": [
    "#### Keep only useful columns"
   ]
  },
  {
   "cell_type": "code",
   "execution_count": 120,
   "metadata": {
    "ExecuteTime": {
     "end_time": "2019-07-21T22:30:05.315805Z",
     "start_time": "2019-07-21T22:30:05.273476Z"
    }
   },
   "outputs": [
    {
     "data": {
      "text/html": [
       "<div>\n",
       "<style scoped>\n",
       "    .dataframe tbody tr th:only-of-type {\n",
       "        vertical-align: middle;\n",
       "    }\n",
       "\n",
       "    .dataframe tbody tr th {\n",
       "        vertical-align: top;\n",
       "    }\n",
       "\n",
       "    .dataframe thead th {\n",
       "        text-align: right;\n",
       "    }\n",
       "</style>\n",
       "<table border=\"1\" class=\"dataframe\">\n",
       "  <thead>\n",
       "    <tr style=\"text-align: right;\">\n",
       "      <th></th>\n",
       "      <th>date</th>\n",
       "      <th>location</th>\n",
       "      <th>fighter1</th>\n",
       "      <th>fighter2</th>\n",
       "      <th>winner_is_fighter1</th>\n",
       "      <th>title_fight</th>\n",
       "      <th>method_DEC</th>\n",
       "      <th>method_DQ</th>\n",
       "      <th>method_KO/TKO</th>\n",
       "      <th>method_SUB</th>\n",
       "    </tr>\n",
       "  </thead>\n",
       "  <tbody>\n",
       "    <tr>\n",
       "      <th>0</th>\n",
       "      <td>2018-11-17</td>\n",
       "      <td>Argentina</td>\n",
       "      <td>Santiago Ponzinibbio</td>\n",
       "      <td>Neil Magny</td>\n",
       "      <td>1</td>\n",
       "      <td>0</td>\n",
       "      <td>0</td>\n",
       "      <td>0</td>\n",
       "      <td>1</td>\n",
       "      <td>0</td>\n",
       "    </tr>\n",
       "    <tr>\n",
       "      <th>1</th>\n",
       "      <td>2018-11-17</td>\n",
       "      <td>Argentina</td>\n",
       "      <td>Ricardo Lamas</td>\n",
       "      <td>Darren Elkins</td>\n",
       "      <td>1</td>\n",
       "      <td>0</td>\n",
       "      <td>0</td>\n",
       "      <td>0</td>\n",
       "      <td>1</td>\n",
       "      <td>0</td>\n",
       "    </tr>\n",
       "    <tr>\n",
       "      <th>2</th>\n",
       "      <td>2018-11-17</td>\n",
       "      <td>Argentina</td>\n",
       "      <td>Khalil Rountree Jr.</td>\n",
       "      <td>Johnny Walker</td>\n",
       "      <td>0</td>\n",
       "      <td>0</td>\n",
       "      <td>0</td>\n",
       "      <td>0</td>\n",
       "      <td>1</td>\n",
       "      <td>0</td>\n",
       "    </tr>\n",
       "  </tbody>\n",
       "</table>\n",
       "</div>"
      ],
      "text/plain": [
       "        date   location              fighter1       fighter2  \\\n",
       "0 2018-11-17  Argentina  Santiago Ponzinibbio     Neil Magny   \n",
       "1 2018-11-17  Argentina         Ricardo Lamas  Darren Elkins   \n",
       "2 2018-11-17  Argentina   Khalil Rountree Jr.  Johnny Walker   \n",
       "\n",
       "   winner_is_fighter1  title_fight  method_DEC  method_DQ  method_KO/TKO  \\\n",
       "0                   1            0           0          0              1   \n",
       "1                   1            0           0          0              1   \n",
       "2                   0            0           0          0              1   \n",
       "\n",
       "   method_SUB  \n",
       "0           0  \n",
       "1           0  \n",
       "2           0  "
      ]
     },
     "execution_count": 120,
     "metadata": {},
     "output_type": "execute_result"
    }
   ],
   "source": [
    "cols_to_keep = ['date', 'location', 'fighter1', 'fighter2', 'winner_is_fighter1', 'title_fight', 'method_DEC', 'method_DQ', 'method_KO/TKO', 'method_SUB']\n",
    "data_bouts = data_bouts[cols_to_keep]\n",
    "data_bouts.head(3)"
   ]
  },
  {
   "cell_type": "markdown",
   "metadata": {},
   "source": [
    "#### Reset index"
   ]
  },
  {
   "cell_type": "code",
   "execution_count": 121,
   "metadata": {
    "ExecuteTime": {
     "end_time": "2019-07-21T22:30:05.357701Z",
     "start_time": "2019-07-21T22:30:05.317105Z"
    }
   },
   "outputs": [],
   "source": [
    "data_bouts.reset_index(inplace=True)"
   ]
  },
  {
   "cell_type": "markdown",
   "metadata": {},
   "source": [
    "### Save the cleaned bouts df to processed data file"
   ]
  },
  {
   "cell_type": "code",
   "execution_count": 122,
   "metadata": {
    "ExecuteTime": {
     "end_time": "2019-07-21T22:30:05.442685Z",
     "start_time": "2019-07-21T22:30:05.359230Z"
    }
   },
   "outputs": [],
   "source": [
    "data_bouts.to_csv('../data/processed/bouts_cleaned')"
   ]
  },
  {
   "cell_type": "markdown",
   "metadata": {},
   "source": [
    "- With so many columns, the .info method doesn't give us much insight.  We need to look at different sections of the dataframe individually."
   ]
  },
  {
   "cell_type": "markdown",
   "metadata": {},
   "source": [
    "## Fighters Data"
   ]
  },
  {
   "cell_type": "markdown",
   "metadata": {
    "heading_collapsed": true
   },
   "source": [
    "### Fighters Data - Description"
   ]
  },
  {
   "cell_type": "markdown",
   "metadata": {
    "hidden": true
   },
   "source": [
    "RESERVED FOR FIGHTERS DATA DESCRIPTION"
   ]
  },
  {
   "cell_type": "markdown",
   "metadata": {
    "heading_collapsed": true,
    "hidden": true
   },
   "source": [
    "#### Fighters Data - Data Dictionary"
   ]
  },
  {
   "cell_type": "markdown",
   "metadata": {
    "hidden": true
   },
   "source": [
    "- SLpM - Significant Strikes Landed per Minute\n",
    "- Str_Acc - Significant Striking Accuracy\n",
    "- SApM - Significant Strikes Absorbed per Minute\n",
    "- Str_Def - Significant Strike Defence (the % of opponents strikes that did not land)\n",
    "- TD_Avg - Average Takedowns Landed per 15 minutes\n",
    "- TD_Acc - Takedown Accuracy\n",
    "- TD_Def - Takedown Defense (the % of opponents TD attempts that did not land)\n",
    "- Sub_Avg - Average Submissions Attempted per 15 minutes"
   ]
  },
  {
   "cell_type": "markdown",
   "metadata": {
    "heading_collapsed": true
   },
   "source": [
    "### Fighters Data - Import and Summary"
   ]
  },
  {
   "cell_type": "code",
   "execution_count": 123,
   "metadata": {
    "ExecuteTime": {
     "end_time": "2019-07-21T22:30:05.734193Z",
     "start_time": "2019-07-21T22:30:05.443707Z"
    },
    "hidden": true
   },
   "outputs": [
    {
     "data": {
      "text/html": [
       "<div>\n",
       "<style scoped>\n",
       "    .dataframe tbody tr th:only-of-type {\n",
       "        vertical-align: middle;\n",
       "    }\n",
       "\n",
       "    .dataframe tbody tr th {\n",
       "        vertical-align: top;\n",
       "    }\n",
       "\n",
       "    .dataframe thead th {\n",
       "        text-align: right;\n",
       "    }\n",
       "</style>\n",
       "<table border=\"1\" class=\"dataframe\">\n",
       "  <thead>\n",
       "    <tr style=\"text-align: right;\">\n",
       "      <th></th>\n",
       "      <th>fighter_id</th>\n",
       "      <th>name</th>\n",
       "      <th>win</th>\n",
       "      <th>lose</th>\n",
       "      <th>draw</th>\n",
       "      <th>nc</th>\n",
       "      <th>height</th>\n",
       "      <th>weight</th>\n",
       "      <th>reach</th>\n",
       "      <th>stance</th>\n",
       "      <th>dob</th>\n",
       "      <th>SLpM</th>\n",
       "      <th>Str_Acc</th>\n",
       "      <th>SApM</th>\n",
       "      <th>Str_Def</th>\n",
       "      <th>TD_Avg</th>\n",
       "      <th>TD_Acc</th>\n",
       "      <th>TD_Def</th>\n",
       "      <th>Sub_Avg</th>\n",
       "      <th>last_updated</th>\n",
       "    </tr>\n",
       "  </thead>\n",
       "  <tbody>\n",
       "    <tr>\n",
       "      <th>0</th>\n",
       "      <td>1</td>\n",
       "      <td>Luciano Azevedo</td>\n",
       "      <td>16</td>\n",
       "      <td>9</td>\n",
       "      <td>1</td>\n",
       "      <td>0</td>\n",
       "      <td>6' 3\"</td>\n",
       "      <td>161 lbs.</td>\n",
       "      <td>NaN</td>\n",
       "      <td>Orthodox</td>\n",
       "      <td>1981-06-25</td>\n",
       "      <td>0.76</td>\n",
       "      <td>45%</td>\n",
       "      <td>1.97</td>\n",
       "      <td>27%</td>\n",
       "      <td>2.28</td>\n",
       "      <td>11%</td>\n",
       "      <td>0%</td>\n",
       "      <td>0.0</td>\n",
       "      <td>2018-11-21 19:35:04.893952</td>\n",
       "    </tr>\n",
       "    <tr>\n",
       "      <th>1</th>\n",
       "      <td>2</td>\n",
       "      <td>Michael Byrnes</td>\n",
       "      <td>5</td>\n",
       "      <td>2</td>\n",
       "      <td>0</td>\n",
       "      <td>0</td>\n",
       "      <td>5' 11\"</td>\n",
       "      <td>155 lbs.</td>\n",
       "      <td>NaN</td>\n",
       "      <td>NaN</td>\n",
       "      <td>1990-07-17</td>\n",
       "      <td>0.00</td>\n",
       "      <td>0%</td>\n",
       "      <td>0.00</td>\n",
       "      <td>0%</td>\n",
       "      <td>0.00</td>\n",
       "      <td>0%</td>\n",
       "      <td>0%</td>\n",
       "      <td>0.0</td>\n",
       "      <td>2018-11-21 19:35:09.304165</td>\n",
       "    </tr>\n",
       "    <tr>\n",
       "      <th>2</th>\n",
       "      <td>3</td>\n",
       "      <td>Gleidson Cutis</td>\n",
       "      <td>7</td>\n",
       "      <td>3</td>\n",
       "      <td>0</td>\n",
       "      <td>0</td>\n",
       "      <td>5' 9\"</td>\n",
       "      <td>155 lbs.</td>\n",
       "      <td>NaN</td>\n",
       "      <td>Orthodox</td>\n",
       "      <td>1989-02-07</td>\n",
       "      <td>2.99</td>\n",
       "      <td>52%</td>\n",
       "      <td>8.28</td>\n",
       "      <td>59%</td>\n",
       "      <td>0.00</td>\n",
       "      <td>0%</td>\n",
       "      <td>0%</td>\n",
       "      <td>0.0</td>\n",
       "      <td>2018-11-21 19:35:11.211072</td>\n",
       "    </tr>\n",
       "  </tbody>\n",
       "</table>\n",
       "</div>"
      ],
      "text/plain": [
       "   fighter_id             name  win  lose  draw  nc  height    weight reach  \\\n",
       "0           1  Luciano Azevedo   16     9     1   0   6' 3\"  161 lbs.   NaN   \n",
       "1           2   Michael Byrnes    5     2     0   0  5' 11\"  155 lbs.   NaN   \n",
       "2           3   Gleidson Cutis    7     3     0   0   5' 9\"  155 lbs.   NaN   \n",
       "\n",
       "     stance        dob  SLpM Str_Acc  SApM Str_Def  TD_Avg TD_Acc TD_Def  \\\n",
       "0  Orthodox 1981-06-25  0.76     45%  1.97     27%    2.28    11%     0%   \n",
       "1       NaN 1990-07-17  0.00      0%  0.00      0%    0.00     0%     0%   \n",
       "2  Orthodox 1989-02-07  2.99     52%  8.28     59%    0.00     0%     0%   \n",
       "\n",
       "   Sub_Avg                last_updated  \n",
       "0      0.0  2018-11-21 19:35:04.893952  \n",
       "1      0.0  2018-11-21 19:35:09.304165  \n",
       "2      0.0  2018-11-21 19:35:11.211072  "
      ]
     },
     "execution_count": 123,
     "metadata": {},
     "output_type": "execute_result"
    }
   ],
   "source": [
    "data_fighters = pd.read_csv('../data/raw/ufc_fighters.csv', parse_dates=['dob'])\n",
    "data_fighters.head(3)"
   ]
  },
  {
   "cell_type": "code",
   "execution_count": 124,
   "metadata": {
    "ExecuteTime": {
     "end_time": "2019-07-21T22:30:05.769527Z",
     "start_time": "2019-07-21T22:30:05.735237Z"
    },
    "hidden": true
   },
   "outputs": [
    {
     "name": "stdout",
     "output_type": "stream",
     "text": [
      "DataFrame Shape is (3187, 20)\n",
      "This represents 3187 fighters\n"
     ]
    }
   ],
   "source": [
    "print('DataFrame Shape is {}'.format(data_fighters.shape))\n",
    "print('This represents {} fighters'.format(data_fighters.shape[0]))"
   ]
  },
  {
   "cell_type": "code",
   "execution_count": 125,
   "metadata": {
    "ExecuteTime": {
     "end_time": "2019-07-21T22:30:05.809868Z",
     "start_time": "2019-07-21T22:30:05.770630Z"
    },
    "hidden": true
   },
   "outputs": [
    {
     "name": "stdout",
     "output_type": "stream",
     "text": [
      "<class 'pandas.core.frame.DataFrame'>\n",
      "RangeIndex: 3187 entries, 0 to 3186\n",
      "Data columns (total 20 columns):\n",
      "fighter_id      3187 non-null int64\n",
      "name            3187 non-null object\n",
      "win             3187 non-null int64\n",
      "lose            3187 non-null int64\n",
      "draw            3187 non-null int64\n",
      "nc              3187 non-null int64\n",
      "height          2928 non-null object\n",
      "weight          3111 non-null object\n",
      "reach           1482 non-null object\n",
      "stance          2360 non-null object\n",
      "dob             2454 non-null datetime64[ns]\n",
      "SLpM            3187 non-null float64\n",
      "Str_Acc         3187 non-null object\n",
      "SApM            3187 non-null float64\n",
      "Str_Def         3187 non-null object\n",
      "TD_Avg          3187 non-null float64\n",
      "TD_Acc          3187 non-null object\n",
      "TD_Def          3187 non-null object\n",
      "Sub_Avg         3187 non-null float64\n",
      "last_updated    3187 non-null object\n",
      "dtypes: datetime64[ns](1), float64(4), int64(5), object(10)\n",
      "memory usage: 498.0+ KB\n"
     ]
    }
   ],
   "source": [
    "data_fighters.info()"
   ]
  },
  {
   "cell_type": "markdown",
   "metadata": {
    "hidden": true
   },
   "source": [
    "- We can see that there are few features which should be in a number format, but are shown as objects (in most cases they are strings).\n",
    "    - These features are height, weight, Str_Acc, Str_Def, TD_Acc and TD_Def\n",
    "- We will need to clean these features before we can explore them further"
   ]
  },
  {
   "cell_type": "markdown",
   "metadata": {},
   "source": [
    "### Fighters Data -  Exploration & Cleaning"
   ]
  },
  {
   "cell_type": "markdown",
   "metadata": {
    "heading_collapsed": true
   },
   "source": [
    "#### Drop % signs"
   ]
  },
  {
   "cell_type": "code",
   "execution_count": 126,
   "metadata": {
    "ExecuteTime": {
     "end_time": "2019-07-21T22:30:05.863647Z",
     "start_time": "2019-07-21T22:30:05.811003Z"
    },
    "hidden": true
   },
   "outputs": [
    {
     "data": {
      "text/html": [
       "<div>\n",
       "<style scoped>\n",
       "    .dataframe tbody tr th:only-of-type {\n",
       "        vertical-align: middle;\n",
       "    }\n",
       "\n",
       "    .dataframe tbody tr th {\n",
       "        vertical-align: top;\n",
       "    }\n",
       "\n",
       "    .dataframe thead th {\n",
       "        text-align: right;\n",
       "    }\n",
       "</style>\n",
       "<table border=\"1\" class=\"dataframe\">\n",
       "  <thead>\n",
       "    <tr style=\"text-align: right;\">\n",
       "      <th></th>\n",
       "      <th>fighter_id</th>\n",
       "      <th>name</th>\n",
       "      <th>win</th>\n",
       "      <th>lose</th>\n",
       "      <th>draw</th>\n",
       "      <th>nc</th>\n",
       "      <th>height</th>\n",
       "      <th>weight</th>\n",
       "      <th>reach</th>\n",
       "      <th>stance</th>\n",
       "      <th>dob</th>\n",
       "      <th>SLpM</th>\n",
       "      <th>Str_Acc</th>\n",
       "      <th>SApM</th>\n",
       "      <th>Str_Def</th>\n",
       "      <th>TD_Avg</th>\n",
       "      <th>TD_Acc</th>\n",
       "      <th>TD_Def</th>\n",
       "      <th>Sub_Avg</th>\n",
       "      <th>last_updated</th>\n",
       "    </tr>\n",
       "  </thead>\n",
       "  <tbody>\n",
       "    <tr>\n",
       "      <th>0</th>\n",
       "      <td>1</td>\n",
       "      <td>Luciano Azevedo</td>\n",
       "      <td>16</td>\n",
       "      <td>9</td>\n",
       "      <td>1</td>\n",
       "      <td>0</td>\n",
       "      <td>6' 3\"</td>\n",
       "      <td>161 lbs.</td>\n",
       "      <td>NaN</td>\n",
       "      <td>Orthodox</td>\n",
       "      <td>1981-06-25</td>\n",
       "      <td>0.76</td>\n",
       "      <td>45</td>\n",
       "      <td>1.97</td>\n",
       "      <td>27</td>\n",
       "      <td>2.28</td>\n",
       "      <td>11</td>\n",
       "      <td>0</td>\n",
       "      <td>0.0</td>\n",
       "      <td>2018-11-21 19:35:04.893952</td>\n",
       "    </tr>\n",
       "    <tr>\n",
       "      <th>1</th>\n",
       "      <td>2</td>\n",
       "      <td>Michael Byrnes</td>\n",
       "      <td>5</td>\n",
       "      <td>2</td>\n",
       "      <td>0</td>\n",
       "      <td>0</td>\n",
       "      <td>5' 11\"</td>\n",
       "      <td>155 lbs.</td>\n",
       "      <td>NaN</td>\n",
       "      <td>NaN</td>\n",
       "      <td>1990-07-17</td>\n",
       "      <td>0.00</td>\n",
       "      <td>0</td>\n",
       "      <td>0.00</td>\n",
       "      <td>0</td>\n",
       "      <td>0.00</td>\n",
       "      <td>0</td>\n",
       "      <td>0</td>\n",
       "      <td>0.0</td>\n",
       "      <td>2018-11-21 19:35:09.304165</td>\n",
       "    </tr>\n",
       "  </tbody>\n",
       "</table>\n",
       "</div>"
      ],
      "text/plain": [
       "   fighter_id             name  win  lose  draw  nc  height    weight reach  \\\n",
       "0           1  Luciano Azevedo   16     9     1   0   6' 3\"  161 lbs.   NaN   \n",
       "1           2   Michael Byrnes    5     2     0   0  5' 11\"  155 lbs.   NaN   \n",
       "\n",
       "     stance        dob  SLpM Str_Acc  SApM Str_Def  TD_Avg TD_Acc TD_Def  \\\n",
       "0  Orthodox 1981-06-25  0.76      45  1.97      27    2.28     11      0   \n",
       "1       NaN 1990-07-17  0.00       0  0.00       0    0.00      0      0   \n",
       "\n",
       "   Sub_Avg                last_updated  \n",
       "0      0.0  2018-11-21 19:35:04.893952  \n",
       "1      0.0  2018-11-21 19:35:09.304165  "
      ]
     },
     "execution_count": 126,
     "metadata": {},
     "output_type": "execute_result"
    }
   ],
   "source": [
    "pct_cols_to_change = ['Str_Acc', 'Str_Def', 'TD_Acc', 'TD_Def']\n",
    "for col in pct_cols_to_change:\n",
    "    data_fighters[col] = data_fighters[col].str.replace('%','')\n",
    "data_fighters.head(2)"
   ]
  },
  {
   "cell_type": "markdown",
   "metadata": {
    "heading_collapsed": true
   },
   "source": [
    "#### NaN values"
   ]
  },
  {
   "cell_type": "markdown",
   "metadata": {
    "hidden": true
   },
   "source": [
    "Most of the computational tools that we will be using cannot handle missing values, or at the very least produce unpredictable results.  We must therefore address these missing values in our dataset.  We have several options for this\n",
    "- eliminate missing values: This is a very simple method however we may end up removing too many samples, which would make it impossible for our model to distinguish between classes.  \n",
    "- impute missing values: This involves guessing what the values could be using values such as mean, median or even mode."
   ]
  },
  {
   "cell_type": "code",
   "execution_count": 127,
   "metadata": {
    "ExecuteTime": {
     "end_time": "2019-07-21T22:30:05.902179Z",
     "start_time": "2019-07-21T22:30:05.864867Z"
    },
    "hidden": true
   },
   "outputs": [
    {
     "data": {
      "text/plain": [
       "reach     1705\n",
       "stance     827\n",
       "dob        733\n",
       "height     259\n",
       "weight      76\n",
       "name         0\n",
       "dtype: int64"
      ]
     },
     "execution_count": 127,
     "metadata": {},
     "output_type": "execute_result"
    }
   ],
   "source": [
    "data_fighters.isna().sum().sort_values(ascending=False)[:6]"
   ]
  },
  {
   "cell_type": "markdown",
   "metadata": {
    "hidden": true
   },
   "source": [
    "- We will deal with these NaN values further down"
   ]
  },
  {
   "cell_type": "markdown",
   "metadata": {
    "heading_collapsed": true
   },
   "source": [
    "#### Reach column"
   ]
  },
  {
   "cell_type": "code",
   "execution_count": 128,
   "metadata": {
    "ExecuteTime": {
     "end_time": "2019-07-21T22:30:05.937961Z",
     "start_time": "2019-07-21T22:30:05.903213Z"
    },
    "hidden": true
   },
   "outputs": [],
   "source": [
    "# Strip the \" sign and convert to type int\n",
    "data_fighters['reach'] = data_fighters['reach'].str.replace('\"','')\n",
    "\n",
    "# Convert from type string, to type float\n",
    "data_fighters['reach'] = data_fighters['reach'].astype(float)"
   ]
  },
  {
   "cell_type": "code",
   "execution_count": 129,
   "metadata": {
    "ExecuteTime": {
     "end_time": "2019-07-21T22:30:06.119990Z",
     "start_time": "2019-07-21T22:30:05.938999Z"
    },
    "hidden": true
   },
   "outputs": [
    {
     "name": "stdout",
     "output_type": "stream",
     "text": [
      "Reach Skewness: -0.07\n",
      "Reach Kurtosis: -0.2\n",
      "Reach Mean: 71.84\n",
      "Reach Median: 72.0\n"
     ]
    },
    {
     "name": "stderr",
     "output_type": "stream",
     "text": [
      "/anaconda3/envs/ml-ufc-env/lib/python3.6/site-packages/scipy/stats/stats.py:1713: FutureWarning: Using a non-tuple sequence for multidimensional indexing is deprecated; use `arr[tuple(seq)]` instead of `arr[seq]`. In the future this will be interpreted as an array index, `arr[np.array(seq)]`, which will result either in an error or a different result.\n",
      "  return np.add.reduce(sorted[indexer] * weights, axis=axis) / sumval\n"
     ]
    },
    {
     "data": {
      "image/png": "[encoded data removed]",
      "text/plain": [
       "<Figure size 720x360 with 1 Axes>"
      ]
     },
     "metadata": {},
     "output_type": "display_data"
    }
   ],
   "source": [
    "column_distplot(data_fighters, 'reach')"
   ]
  },
  {
   "cell_type": "markdown",
   "metadata": {
    "hidden": true
   },
   "source": [
    "- As this reach distribution is approximately normally distributed with no extreme outliers, we will fill the na values with the mean value of reach"
   ]
  },
  {
   "cell_type": "code",
   "execution_count": 130,
   "metadata": {
    "ExecuteTime": {
     "end_time": "2019-07-21T22:30:06.155463Z",
     "start_time": "2019-07-21T22:30:06.121136Z"
    },
    "hidden": true
   },
   "outputs": [],
   "source": [
    "data_fighters.reach = data_fighters.reach.fillna(round(data_fighters.reach.mean(), 0))"
   ]
  },
  {
   "cell_type": "markdown",
   "metadata": {},
   "source": [
    "#### Stance column"
   ]
  },
  {
   "cell_type": "code",
   "execution_count": 131,
   "metadata": {
    "ExecuteTime": {
     "end_time": "2019-07-21T22:30:06.340928Z",
     "start_time": "2019-07-21T22:30:06.156533Z"
    }
   },
   "outputs": [
    {
     "data": {
      "image/png": "[encoded data removed]",
      "text/plain": [
       "<Figure size 720x360 with 1 Axes>"
      ]
     },
     "metadata": {},
     "output_type": "display_data"
    }
   ],
   "source": [
    "column_countplot(data_fighters, 'stance', show_count=True)"
   ]
  },
  {
   "cell_type": "markdown",
   "metadata": {},
   "source": [
    "- The vast majority of fighters fight in the orthodox stance, so it is easiest to fill the na values with this modal average"
   ]
  },
  {
   "cell_type": "code",
   "execution_count": 132,
   "metadata": {
    "ExecuteTime": {
     "end_time": "2019-07-21T22:30:06.378247Z",
     "start_time": "2019-07-21T22:30:06.341998Z"
    }
   },
   "outputs": [],
   "source": [
    "stance_mode_avg = data_fighters.stance.mode()[0]\n",
    "data_fighters.stance.fillna(stance_mode_avg, inplace=True)"
   ]
  },
  {
   "cell_type": "markdown",
   "metadata": {
    "heading_collapsed": true
   },
   "source": [
    "#### dob column"
   ]
  },
  {
   "cell_type": "code",
   "execution_count": 133,
   "metadata": {
    "ExecuteTime": {
     "end_time": "2019-07-21T22:30:06.941650Z",
     "start_time": "2019-07-21T22:30:06.379546Z"
    },
    "hidden": true
   },
   "outputs": [
    {
     "name": "stderr",
     "output_type": "stream",
     "text": [
      "/anaconda3/envs/ml-ufc-env/lib/python3.6/site-packages/ipykernel_launcher.py:4: SettingWithCopyWarning: \n",
      "A value is trying to be set on a copy of a slice from a DataFrame\n",
      "\n",
      "See the caveats in the documentation: http://pandas.pydata.org/pandas-docs/stable/indexing.html#indexing-view-versus-copy\n",
      "  after removing the cwd from sys.path.\n",
      "/anaconda3/envs/ml-ufc-env/lib/python3.6/site-packages/pandas/core/indexing.py:189: SettingWithCopyWarning: \n",
      "A value is trying to be set on a copy of a slice from a DataFrame\n",
      "\n",
      "See the caveats in the documentation: http://pandas.pydata.org/pandas-docs/stable/indexing.html#indexing-view-versus-copy\n",
      "  self._setitem_with_indexer(indexer, value)\n"
     ]
    }
   ],
   "source": [
    "# Create the year of birth column (dob_year)\n",
    "data_fighters['dob_year'] = 0\n",
    "for index, value in enumerate(data_fighters['dob']):\n",
    "    data_fighters['dob_year'][index] = data_fighters['dob'][index].year\n",
    "    \n",
    "today = datetime.date.today()\n",
    "\n",
    "# Fighter's age_today = difference in today's year and their year of birth\n",
    "data_fighters['age_today'] = today.year - data_fighters.dob_year"
   ]
  },
  {
   "cell_type": "code",
   "execution_count": 134,
   "metadata": {
    "ExecuteTime": {
     "end_time": "2019-07-21T22:30:07.169131Z",
     "start_time": "2019-07-21T22:30:06.942811Z"
    },
    "hidden": true
   },
   "outputs": [
    {
     "name": "stderr",
     "output_type": "stream",
     "text": [
      "/anaconda3/envs/ml-ufc-env/lib/python3.6/site-packages/scipy/stats/stats.py:1713: FutureWarning: Using a non-tuple sequence for multidimensional indexing is deprecated; use `arr[tuple(seq)]` instead of `arr[seq]`. In the future this will be interpreted as an array index, `arr[np.array(seq)]`, which will result either in an error or a different result.\n",
      "  return np.add.reduce(sorted[indexer] * weights, axis=axis) / sumval\n"
     ]
    },
    {
     "name": "stdout",
     "output_type": "stream",
     "text": [
      "Age_today Skewness: 0.65\n",
      "Age_today Kurtosis: 0.76\n",
      "Age_today Mean: 36.56\n",
      "Age_today Median: 36.0\n"
     ]
    },
    {
     "data": {
      "image/png": "[encoded data removed]",
      "text/plain": [
       "<Figure size 720x360 with 1 Axes>"
      ]
     },
     "metadata": {},
     "output_type": "display_data"
    }
   ],
   "source": [
    "column_distplot(data_fighters, 'age_today', xlabel='Age of Fighters Today')"
   ]
  },
  {
   "cell_type": "markdown",
   "metadata": {
    "hidden": true
   },
   "source": [
    "- The distribution of fighter ages is fairly normal, but due to the skewness and kurtosis we will choose to use the median age to fill in the NaN values."
   ]
  },
  {
   "cell_type": "code",
   "execution_count": 135,
   "metadata": {
    "ExecuteTime": {
     "end_time": "2019-07-21T22:30:07.221115Z",
     "start_time": "2019-07-21T22:30:07.170339Z"
    },
    "hidden": true
   },
   "outputs": [
    {
     "name": "stdout",
     "output_type": "stream",
     "text": [
      "The median date of birth is 1986-3-12\n"
     ]
    }
   ],
   "source": [
    "# Calculate the median date of birth\n",
    "dates = list(data_fighters.sort_values('dob')['dob'])\n",
    "median_dob = dates[len(dates)//2]\n",
    "print('The median date of birth is {}-{}-{}'.format(median_dob.year, median_dob.month, median_dob.day))\n",
    "\n",
    "# Fill na values with this median date of birth\n",
    "data_fighters.dob.fillna(median_dob, inplace=True)"
   ]
  },
  {
   "cell_type": "markdown",
   "metadata": {},
   "source": [
    "#### height column"
   ]
  },
  {
   "cell_type": "code",
   "execution_count": 136,
   "metadata": {
    "ExecuteTime": {
     "end_time": "2019-07-21T22:30:07.263197Z",
     "start_time": "2019-07-21T22:30:07.222271Z"
    }
   },
   "outputs": [],
   "source": [
    "# Drop ' and \" signs\n",
    "data_fighters['height'] = data_fighters['height'].str.replace(\"'\",\"\")\n",
    "data_fighters['height'] = data_fighters['height'].str.replace('\"',\"\")"
   ]
  },
  {
   "cell_type": "code",
   "execution_count": 137,
   "metadata": {
    "ExecuteTime": {
     "end_time": "2019-07-21T22:30:07.304528Z",
     "start_time": "2019-07-21T22:30:07.264945Z"
    }
   },
   "outputs": [],
   "source": [
    "# Calculate height in inches based off the feet and inches in height column\n",
    "# Note that we can only perform the operation on columns that are not NaN\n",
    "height_not_na = ~data_fighters['height'].isna()\n",
    "data_fighters['height_inches'] = data_fighters['height'][height_not_na].apply(lambda x: parse_height(x))"
   ]
  },
  {
   "cell_type": "code",
   "execution_count": 138,
   "metadata": {
    "ExecuteTime": {
     "end_time": "2019-07-21T22:30:07.532230Z",
     "start_time": "2019-07-21T22:30:07.305981Z"
    }
   },
   "outputs": [
    {
     "name": "stdout",
     "output_type": "stream",
     "text": [
      "Height_inches Skewness: 0.08\n",
      "Height_inches Kurtosis: 0.32\n",
      "Height_inches Mean: 70.39\n",
      "Height_inches Median: 70.0\n"
     ]
    },
    {
     "name": "stderr",
     "output_type": "stream",
     "text": [
      "/anaconda3/envs/ml-ufc-env/lib/python3.6/site-packages/scipy/stats/stats.py:1713: FutureWarning: Using a non-tuple sequence for multidimensional indexing is deprecated; use `arr[tuple(seq)]` instead of `arr[seq]`. In the future this will be interpreted as an array index, `arr[np.array(seq)]`, which will result either in an error or a different result.\n",
      "  return np.add.reduce(sorted[indexer] * weights, axis=axis) / sumval\n"
     ]
    },
    {
     "data": {
      "image/png": "[encoded data removed]",
      "text/plain": [
       "<Figure size 720x360 with 1 Axes>"
      ]
     },
     "metadata": {},
     "output_type": "display_data"
    }
   ],
   "source": [
    "column_distplot(data_fighters, 'height_inches')"
   ]
  },
  {
   "cell_type": "markdown",
   "metadata": {},
   "source": [
    "- We will use the mean height to fill in NaN values for height"
   ]
  },
  {
   "cell_type": "code",
   "execution_count": 139,
   "metadata": {
    "ExecuteTime": {
     "end_time": "2019-07-21T22:30:07.569251Z",
     "start_time": "2019-07-21T22:30:07.533311Z"
    }
   },
   "outputs": [
    {
     "name": "stdout",
     "output_type": "stream",
     "text": [
      "The mean height of a fighter is 70.4 inches\n"
     ]
    }
   ],
   "source": [
    "height_inches_not_na = data_fighters['height_inches'][~data_fighters['height_inches'].isna()]\n",
    "height_mean = height_inches_not_na.mean()\n",
    "print('The mean height of a fighter is {} inches'.format(round(height_mean, 1)))\n",
    "\n",
    "# Fill na values with this mean height\n",
    "data_fighters.height_inches.fillna(height_mean, inplace=True)"
   ]
  },
  {
   "cell_type": "markdown",
   "metadata": {},
   "source": [
    "#### Remove fighters with limited statistics"
   ]
  },
  {
   "cell_type": "code",
   "execution_count": 140,
   "metadata": {
    "ExecuteTime": {
     "end_time": "2019-07-21T22:30:07.614018Z",
     "start_time": "2019-07-21T22:30:07.570309Z"
    }
   },
   "outputs": [
    {
     "name": "stdout",
     "output_type": "stream",
     "text": [
      "We have 3187 fighters in our original data.\n",
      "There are 727 fighters that have no statistics for the columns: ['SLpM', 'Str_Acc', 'SApM'].\n",
      "We therefore reduce the number of fighters in our data to 2460.\n"
     ]
    }
   ],
   "source": [
    "# Original number of fighters\n",
    "total_fighters = len(data_fighters)\n",
    "print('We have {} fighters in our original data.'.format(total_fighters))\n",
    "\n",
    "# Fighters with no recorded stats\n",
    "fight_statistics = ['SLpM', 'Str_Acc', 'SApM']\n",
    "no_stat_fighters = len(data_fighters[(data_fighters[fight_statistics]==0).any(axis=1)])\n",
    "print('There are {} fighters that have no statistics for the columns: {}.'.format(no_stat_fighters, fight_statistics))\n",
    "\n",
    "# Reduced dataset size\n",
    "data_fighters = data_fighters[~(data_fighters[fight_statistics]==0).any(axis=1)]\n",
    "stat_fighters = len(data_fighters)\n",
    "print('We therefore reduce the number of fighters in our data to {}.'.format(stat_fighters))\n",
    "\n",
    "# Reset the index\n",
    "data_fighters.reset_index(drop=True, inplace=True)"
   ]
  },
  {
   "cell_type": "markdown",
   "metadata": {},
   "source": [
    "#### Check for Duplicate Names"
   ]
  },
  {
   "cell_type": "code",
   "execution_count": 141,
   "metadata": {
    "ExecuteTime": {
     "end_time": "2019-07-21T22:30:07.657573Z",
     "start_time": "2019-07-21T22:30:07.615770Z"
    }
   },
   "outputs": [
    {
     "name": "stdout",
     "output_type": "stream",
     "text": [
      "The fighter_id column has only unique values\n"
     ]
    }
   ],
   "source": [
    "if len(data_fighters) == data_fighters.fighter_id.nunique():\n",
    "    print('The fighter_id column has only unique values')"
   ]
  },
  {
   "cell_type": "code",
   "execution_count": 142,
   "metadata": {
    "ExecuteTime": {
     "end_time": "2019-07-21T22:30:07.700542Z",
     "start_time": "2019-07-21T22:30:07.658846Z"
    }
   },
   "outputs": [
    {
     "name": "stdout",
     "output_type": "stream",
     "text": [
      "The 1 name(s) in the dataframe that is/are not unique are:\n",
      "\t1) Dong Hyun Kim\n"
     ]
    }
   ],
   "source": [
    "# calculate how many duplicated fighter names there are\n",
    "non_unique_names = data_fighters.shape[0] - data_fighters.name.nunique()\n",
    "print('The {} name(s) in the dataframe that is/are not unique are:'.format(non_unique_names))\n",
    "\n",
    "# print out duplicated figher names\n",
    "duplicate_names = list(data_fighters['name'][data_fighters.duplicated(subset=\"name\")])\n",
    "for i, name in zip(range(1,len(duplicate_names)+1), duplicate_names):\n",
    "    print('\\t{})'.format(i), name)"
   ]
  },
  {
   "cell_type": "code",
   "execution_count": 143,
   "metadata": {
    "ExecuteTime": {
     "end_time": "2019-07-21T22:30:07.755826Z",
     "start_time": "2019-07-21T22:30:07.701918Z"
    }
   },
   "outputs": [
    {
     "data": {
      "text/html": [
       "<div>\n",
       "<style scoped>\n",
       "    .dataframe tbody tr th:only-of-type {\n",
       "        vertical-align: middle;\n",
       "    }\n",
       "\n",
       "    .dataframe tbody tr th {\n",
       "        vertical-align: top;\n",
       "    }\n",
       "\n",
       "    .dataframe thead th {\n",
       "        text-align: right;\n",
       "    }\n",
       "</style>\n",
       "<table border=\"1\" class=\"dataframe\">\n",
       "  <thead>\n",
       "    <tr style=\"text-align: right;\">\n",
       "      <th></th>\n",
       "      <th>fighter_id</th>\n",
       "      <th>name</th>\n",
       "      <th>win</th>\n",
       "      <th>lose</th>\n",
       "      <th>draw</th>\n",
       "      <th>nc</th>\n",
       "      <th>height</th>\n",
       "      <th>weight</th>\n",
       "      <th>reach</th>\n",
       "      <th>stance</th>\n",
       "      <th>...</th>\n",
       "      <th>SApM</th>\n",
       "      <th>Str_Def</th>\n",
       "      <th>TD_Avg</th>\n",
       "      <th>TD_Acc</th>\n",
       "      <th>TD_Def</th>\n",
       "      <th>Sub_Avg</th>\n",
       "      <th>last_updated</th>\n",
       "      <th>dob_year</th>\n",
       "      <th>age_today</th>\n",
       "      <th>height_inches</th>\n",
       "    </tr>\n",
       "  </thead>\n",
       "  <tbody>\n",
       "    <tr>\n",
       "      <th>657</th>\n",
       "      <td>845</td>\n",
       "      <td>Dong Hyun Kim</td>\n",
       "      <td>16</td>\n",
       "      <td>8</td>\n",
       "      <td>3</td>\n",
       "      <td>0</td>\n",
       "      <td>5 11</td>\n",
       "      <td>155 lbs.</td>\n",
       "      <td>70.0</td>\n",
       "      <td>Orthodox</td>\n",
       "      <td>...</td>\n",
       "      <td>4.53</td>\n",
       "      <td>53</td>\n",
       "      <td>1.67</td>\n",
       "      <td>60</td>\n",
       "      <td>33</td>\n",
       "      <td>0.0</td>\n",
       "      <td>2018-11-21 20:26:57.805101</td>\n",
       "      <td>1988.0</td>\n",
       "      <td>31.0</td>\n",
       "      <td>71.0</td>\n",
       "    </tr>\n",
       "    <tr>\n",
       "      <th>663</th>\n",
       "      <td>852</td>\n",
       "      <td>Dong Hyun Kim</td>\n",
       "      <td>22</td>\n",
       "      <td>4</td>\n",
       "      <td>1</td>\n",
       "      <td>1</td>\n",
       "      <td>6 2</td>\n",
       "      <td>170 lbs.</td>\n",
       "      <td>76.0</td>\n",
       "      <td>Southpaw</td>\n",
       "      <td>...</td>\n",
       "      <td>1.89</td>\n",
       "      <td>58</td>\n",
       "      <td>2.93</td>\n",
       "      <td>43</td>\n",
       "      <td>71</td>\n",
       "      <td>0.6</td>\n",
       "      <td>2018-11-21 20:27:20.82459</td>\n",
       "      <td>1981.0</td>\n",
       "      <td>38.0</td>\n",
       "      <td>74.0</td>\n",
       "    </tr>\n",
       "  </tbody>\n",
       "</table>\n",
       "<p>2 rows × 23 columns</p>\n",
       "</div>"
      ],
      "text/plain": [
       "     fighter_id           name  win  lose  draw  nc height    weight  reach  \\\n",
       "657         845  Dong Hyun Kim   16     8     3   0   5 11  155 lbs.   70.0   \n",
       "663         852  Dong Hyun Kim   22     4     1   1    6 2  170 lbs.   76.0   \n",
       "\n",
       "       stance      ...       SApM  Str_Def TD_Avg  TD_Acc TD_Def  Sub_Avg  \\\n",
       "657  Orthodox      ...       4.53       53   1.67      60     33      0.0   \n",
       "663  Southpaw      ...       1.89       58   2.93      43     71      0.6   \n",
       "\n",
       "                   last_updated dob_year  age_today height_inches  \n",
       "657  2018-11-21 20:26:57.805101   1988.0       31.0          71.0  \n",
       "663   2018-11-21 20:27:20.82459   1981.0       38.0          74.0  \n",
       "\n",
       "[2 rows x 23 columns]"
      ]
     },
     "execution_count": 143,
     "metadata": {},
     "output_type": "execute_result"
    }
   ],
   "source": [
    "data_fighters[data_fighters.duplicated(subset=\"name\", keep=False)]"
   ]
  },
  {
   "cell_type": "markdown",
   "metadata": {},
   "source": [
    "- It appears that each fighter is unique in the table above, as statistics such as date of birth (dob) and weight differ.  \n",
    "- Upon further investigation, these are indeed two different fighters, with the 1st fighter (born 1988) changing his ring name to Dong Hyun Ma to avoid the confusion with Dont Hyun Kim (born 1981)\n",
    "- We shall change the name of the 1st fighter Dong Hyun Kim (born 1988) to Dong Hyun Ma"
   ]
  },
  {
   "cell_type": "code",
   "execution_count": 144,
   "metadata": {
    "ExecuteTime": {
     "end_time": "2019-07-21T22:30:07.831960Z",
     "start_time": "2019-07-21T22:30:07.756869Z"
    }
   },
   "outputs": [
    {
     "name": "stdout",
     "output_type": "stream",
     "text": [
      "Dong Hyun Kim 1988 has been renamed as Dong Hyun Ma\n"
     ]
    }
   ],
   "source": [
    "# Check if there are any Dong Hyun Ma in the dataset\n",
    "if len(data_fighters[data_fighters.name=='Dong Hyun Ma']):\n",
    "    print('Dong Hyun Ma already exists')\n",
    "else:\n",
    "    # Find the right Dong Hyun Kim, who is now Dong Hyun Ma\n",
    "    DongHyunMa = data_fighters['name']=='Dong Hyun Kim'\n",
    "    DongHyunMa_dob = data_fighters['dob']=='1988-09-09'\n",
    "    # Change name to Dong Hyun Ma\n",
    "    data_fighters['name'][DongHyunMa & (DongHyunMa_dob)] = 'Dong Hyun Ma'\n",
    "    print('Dong Hyun Kim 1988 has been renamed as Dong Hyun Ma')"
   ]
  },
  {
   "cell_type": "markdown",
   "metadata": {},
   "source": [
    "#### Drop Unecessary Columns"
   ]
  },
  {
   "cell_type": "markdown",
   "metadata": {},
   "source": [
    "We now need to drop variables that have no likely impact on the outcome of a fight. \n",
    "- Weight: Although in reality a fighter's weight is extremely important, within a single fight, both fighter's weights will be within a narrow window and very similar to each other, i.e. any difference will be negligible"
   ]
  },
  {
   "cell_type": "code",
   "execution_count": 145,
   "metadata": {
    "ExecuteTime": {
     "end_time": "2019-07-21T22:30:07.921291Z",
     "start_time": "2019-07-21T22:30:07.833477Z"
    }
   },
   "outputs": [
    {
     "data": {
      "text/html": [
       "<div>\n",
       "<style scoped>\n",
       "    .dataframe tbody tr th:only-of-type {\n",
       "        vertical-align: middle;\n",
       "    }\n",
       "\n",
       "    .dataframe tbody tr th {\n",
       "        vertical-align: top;\n",
       "    }\n",
       "\n",
       "    .dataframe thead th {\n",
       "        text-align: right;\n",
       "    }\n",
       "</style>\n",
       "<table border=\"1\" class=\"dataframe\">\n",
       "  <thead>\n",
       "    <tr style=\"text-align: right;\">\n",
       "      <th></th>\n",
       "      <th>name</th>\n",
       "      <th>win</th>\n",
       "      <th>lose</th>\n",
       "      <th>draw</th>\n",
       "      <th>reach</th>\n",
       "      <th>stance</th>\n",
       "      <th>dob</th>\n",
       "      <th>SLpM</th>\n",
       "      <th>Str_Acc</th>\n",
       "      <th>SApM</th>\n",
       "      <th>Str_Def</th>\n",
       "      <th>TD_Avg</th>\n",
       "      <th>TD_Acc</th>\n",
       "      <th>TD_Def</th>\n",
       "      <th>Sub_Avg</th>\n",
       "      <th>age_today</th>\n",
       "      <th>height_inches</th>\n",
       "    </tr>\n",
       "  </thead>\n",
       "  <tbody>\n",
       "    <tr>\n",
       "      <th>0</th>\n",
       "      <td>Luciano Azevedo</td>\n",
       "      <td>16</td>\n",
       "      <td>9</td>\n",
       "      <td>1</td>\n",
       "      <td>72.0</td>\n",
       "      <td>Orthodox</td>\n",
       "      <td>1981-06-25</td>\n",
       "      <td>0.76</td>\n",
       "      <td>45</td>\n",
       "      <td>1.97</td>\n",
       "      <td>27</td>\n",
       "      <td>2.28</td>\n",
       "      <td>11</td>\n",
       "      <td>0</td>\n",
       "      <td>0.0</td>\n",
       "      <td>38.0</td>\n",
       "      <td>75.0</td>\n",
       "    </tr>\n",
       "    <tr>\n",
       "      <th>1</th>\n",
       "      <td>Gleidson Cutis</td>\n",
       "      <td>7</td>\n",
       "      <td>3</td>\n",
       "      <td>0</td>\n",
       "      <td>72.0</td>\n",
       "      <td>Orthodox</td>\n",
       "      <td>1989-02-07</td>\n",
       "      <td>2.99</td>\n",
       "      <td>52</td>\n",
       "      <td>8.28</td>\n",
       "      <td>59</td>\n",
       "      <td>0.00</td>\n",
       "      <td>0</td>\n",
       "      <td>0</td>\n",
       "      <td>0.0</td>\n",
       "      <td>30.0</td>\n",
       "      <td>69.0</td>\n",
       "    </tr>\n",
       "    <tr>\n",
       "      <th>2</th>\n",
       "      <td>Rolando Dy</td>\n",
       "      <td>9</td>\n",
       "      <td>7</td>\n",
       "      <td>1</td>\n",
       "      <td>69.0</td>\n",
       "      <td>Orthodox</td>\n",
       "      <td>1990-08-11</td>\n",
       "      <td>3.04</td>\n",
       "      <td>37</td>\n",
       "      <td>4.47</td>\n",
       "      <td>52</td>\n",
       "      <td>0.30</td>\n",
       "      <td>20</td>\n",
       "      <td>68</td>\n",
       "      <td>0.0</td>\n",
       "      <td>29.0</td>\n",
       "      <td>68.0</td>\n",
       "    </tr>\n",
       "  </tbody>\n",
       "</table>\n",
       "</div>"
      ],
      "text/plain": [
       "              name  win  lose  draw  reach    stance        dob  SLpM Str_Acc  \\\n",
       "0  Luciano Azevedo   16     9     1   72.0  Orthodox 1981-06-25  0.76      45   \n",
       "1   Gleidson Cutis    7     3     0   72.0  Orthodox 1989-02-07  2.99      52   \n",
       "2       Rolando Dy    9     7     1   69.0  Orthodox 1990-08-11  3.04      37   \n",
       "\n",
       "   SApM Str_Def  TD_Avg TD_Acc TD_Def  Sub_Avg  age_today  height_inches  \n",
       "0  1.97      27    2.28     11      0      0.0       38.0           75.0  \n",
       "1  8.28      59    0.00      0      0      0.0       30.0           69.0  \n",
       "2  4.47      52    0.30     20     68      0.0       29.0           68.0  "
      ]
     },
     "execution_count": 145,
     "metadata": {},
     "output_type": "execute_result"
    }
   ],
   "source": [
    "# Columns to drop\n",
    "cols_to_drop = ['fighter_id',  'nc', 'height', 'weight', 'last_updated', 'dob_year']\n",
    "\n",
    "# Drop the columns\n",
    "data_fighters.drop(cols_to_drop, axis=1, inplace=True)\n",
    "\n",
    "# View the narrower fighters dataframe\n",
    "data_fighters.head(3)"
   ]
  },
  {
   "cell_type": "markdown",
   "metadata": {},
   "source": [
    "#### Add total_bouts column"
   ]
  },
  {
   "cell_type": "code",
   "execution_count": 146,
   "metadata": {
    "ExecuteTime": {
     "end_time": "2019-07-21T22:30:07.963402Z",
     "start_time": "2019-07-21T22:30:07.922702Z"
    }
   },
   "outputs": [],
   "source": [
    "# don't include nc values, as they do not useful in predicting a winner\n",
    "data_fighters['total_bouts'] = data_fighters['win'] + data_fighters['lose'] + data_fighters['draw']"
   ]
  },
  {
   "cell_type": "markdown",
   "metadata": {},
   "source": [
    "#### Add win rate column"
   ]
  },
  {
   "cell_type": "code",
   "execution_count": 147,
   "metadata": {
    "ExecuteTime": {
     "end_time": "2019-07-21T22:30:08.001232Z",
     "start_time": "2019-07-21T22:30:07.965045Z"
    }
   },
   "outputs": [],
   "source": [
    "data_fighters['win_rate'] = round(data_fighters['win'] / data_fighters['total_bouts'], 2)"
   ]
  },
  {
   "cell_type": "markdown",
   "metadata": {},
   "source": [
    "#### Rearrange columns and group similar columns together"
   ]
  },
  {
   "cell_type": "code",
   "execution_count": 148,
   "metadata": {
    "ExecuteTime": {
     "end_time": "2019-07-21T22:30:08.037549Z",
     "start_time": "2019-07-21T22:30:08.002464Z"
    }
   },
   "outputs": [
    {
     "data": {
      "text/plain": [
       "Index(['name', 'win', 'lose', 'draw', 'reach', 'stance', 'dob', 'SLpM',\n",
       "       'Str_Acc', 'SApM', 'Str_Def', 'TD_Avg', 'TD_Acc', 'TD_Def', 'Sub_Avg',\n",
       "       'age_today', 'height_inches', 'total_bouts', 'win_rate'],\n",
       "      dtype='object')"
      ]
     },
     "execution_count": 148,
     "metadata": {},
     "output_type": "execute_result"
    }
   ],
   "source": [
    "fighter_columns = data_fighters.columns\n",
    "fighter_columns"
   ]
  },
  {
   "cell_type": "code",
   "execution_count": 149,
   "metadata": {
    "ExecuteTime": {
     "end_time": "2019-07-21T22:30:08.074396Z",
     "start_time": "2019-07-21T22:30:08.038473Z"
    }
   },
   "outputs": [],
   "source": [
    "data_fighters = data_fighters[['name', 'win', 'lose', 'draw', 'total_bouts', 'win_rate', \n",
    "                               'height_inches', 'reach', 'stance', 'dob', 'age_today', \n",
    "                               'SLpM', 'Str_Acc', 'SApM', 'Str_Def', 'TD_Avg', 'TD_Acc', 'TD_Def', 'Sub_Avg']]"
   ]
  },
  {
   "cell_type": "markdown",
   "metadata": {
    "heading_collapsed": true
   },
   "source": [
    "#### Change all column headings to lower"
   ]
  },
  {
   "cell_type": "code",
   "execution_count": 150,
   "metadata": {
    "ExecuteTime": {
     "end_time": "2019-07-21T22:30:08.109695Z",
     "start_time": "2019-07-21T22:30:08.075495Z"
    },
    "hidden": true
   },
   "outputs": [],
   "source": [
    "data_fighters.columns = data_fighters.columns.str.lower()"
   ]
  },
  {
   "cell_type": "markdown",
   "metadata": {},
   "source": [
    "### Fighters Data - Further Exploration"
   ]
  },
  {
   "cell_type": "code",
   "execution_count": 151,
   "metadata": {
    "ExecuteTime": {
     "end_time": "2019-07-21T22:30:08.175942Z",
     "start_time": "2019-07-21T22:30:08.110701Z"
    }
   },
   "outputs": [
    {
     "data": {
      "text/html": [
       "<div>\n",
       "<style scoped>\n",
       "    .dataframe tbody tr th:only-of-type {\n",
       "        vertical-align: middle;\n",
       "    }\n",
       "\n",
       "    .dataframe tbody tr th {\n",
       "        vertical-align: top;\n",
       "    }\n",
       "\n",
       "    .dataframe thead th {\n",
       "        text-align: right;\n",
       "    }\n",
       "</style>\n",
       "<table border=\"1\" class=\"dataframe\">\n",
       "  <thead>\n",
       "    <tr style=\"text-align: right;\">\n",
       "      <th></th>\n",
       "      <th>win</th>\n",
       "      <th>lose</th>\n",
       "      <th>draw</th>\n",
       "      <th>total_bouts</th>\n",
       "      <th>win_rate</th>\n",
       "      <th>height_inches</th>\n",
       "      <th>reach</th>\n",
       "      <th>age_today</th>\n",
       "      <th>slpm</th>\n",
       "      <th>sapm</th>\n",
       "      <th>td_avg</th>\n",
       "      <th>sub_avg</th>\n",
       "    </tr>\n",
       "  </thead>\n",
       "  <tbody>\n",
       "    <tr>\n",
       "      <th>count</th>\n",
       "      <td>2460.00</td>\n",
       "      <td>2460.00</td>\n",
       "      <td>2460.00</td>\n",
       "      <td>2460.00</td>\n",
       "      <td>2460.00</td>\n",
       "      <td>2460.00</td>\n",
       "      <td>2460.00</td>\n",
       "      <td>2185.00</td>\n",
       "      <td>2460.00</td>\n",
       "      <td>2460.00</td>\n",
       "      <td>2460.00</td>\n",
       "      <td>2460.00</td>\n",
       "    </tr>\n",
       "    <tr>\n",
       "      <th>mean</th>\n",
       "      <td>13.12</td>\n",
       "      <td>5.51</td>\n",
       "      <td>0.31</td>\n",
       "      <td>18.94</td>\n",
       "      <td>0.69</td>\n",
       "      <td>70.32</td>\n",
       "      <td>71.90</td>\n",
       "      <td>36.10</td>\n",
       "      <td>2.78</td>\n",
       "      <td>3.45</td>\n",
       "      <td>1.48</td>\n",
       "      <td>0.77</td>\n",
       "    </tr>\n",
       "    <tr>\n",
       "      <th>std</th>\n",
       "      <td>8.36</td>\n",
       "      <td>4.52</td>\n",
       "      <td>0.87</td>\n",
       "      <td>12.01</td>\n",
       "      <td>0.16</td>\n",
       "      <td>3.38</td>\n",
       "      <td>3.19</td>\n",
       "      <td>6.35</td>\n",
       "      <td>1.86</td>\n",
       "      <td>2.36</td>\n",
       "      <td>1.84</td>\n",
       "      <td>1.45</td>\n",
       "    </tr>\n",
       "    <tr>\n",
       "      <th>min</th>\n",
       "      <td>0.00</td>\n",
       "      <td>0.00</td>\n",
       "      <td>0.00</td>\n",
       "      <td>1.00</td>\n",
       "      <td>0.00</td>\n",
       "      <td>60.00</td>\n",
       "      <td>60.00</td>\n",
       "      <td>20.00</td>\n",
       "      <td>0.06</td>\n",
       "      <td>0.13</td>\n",
       "      <td>0.00</td>\n",
       "      <td>0.00</td>\n",
       "    </tr>\n",
       "    <tr>\n",
       "      <th>25%</th>\n",
       "      <td>7.00</td>\n",
       "      <td>3.00</td>\n",
       "      <td>0.00</td>\n",
       "      <td>11.00</td>\n",
       "      <td>0.62</td>\n",
       "      <td>68.00</td>\n",
       "      <td>71.00</td>\n",
       "      <td>31.00</td>\n",
       "      <td>1.58</td>\n",
       "      <td>2.16</td>\n",
       "      <td>0.00</td>\n",
       "      <td>0.00</td>\n",
       "    </tr>\n",
       "    <tr>\n",
       "      <th>50%</th>\n",
       "      <td>12.00</td>\n",
       "      <td>4.00</td>\n",
       "      <td>0.00</td>\n",
       "      <td>16.00</td>\n",
       "      <td>0.71</td>\n",
       "      <td>70.00</td>\n",
       "      <td>72.00</td>\n",
       "      <td>36.00</td>\n",
       "      <td>2.54</td>\n",
       "      <td>3.00</td>\n",
       "      <td>1.00</td>\n",
       "      <td>0.20</td>\n",
       "    </tr>\n",
       "    <tr>\n",
       "      <th>75%</th>\n",
       "      <td>17.00</td>\n",
       "      <td>7.00</td>\n",
       "      <td>0.00</td>\n",
       "      <td>24.00</td>\n",
       "      <td>0.79</td>\n",
       "      <td>73.00</td>\n",
       "      <td>73.00</td>\n",
       "      <td>40.00</td>\n",
       "      <td>3.56</td>\n",
       "      <td>4.09</td>\n",
       "      <td>2.21</td>\n",
       "      <td>1.00</td>\n",
       "    </tr>\n",
       "    <tr>\n",
       "      <th>max</th>\n",
       "      <td>88.00</td>\n",
       "      <td>74.00</td>\n",
       "      <td>11.00</td>\n",
       "      <td>121.00</td>\n",
       "      <td>1.00</td>\n",
       "      <td>89.00</td>\n",
       "      <td>84.00</td>\n",
       "      <td>58.00</td>\n",
       "      <td>30.00</td>\n",
       "      <td>49.41</td>\n",
       "      <td>24.11</td>\n",
       "      <td>20.90</td>\n",
       "    </tr>\n",
       "  </tbody>\n",
       "</table>\n",
       "</div>"
      ],
      "text/plain": [
       "           win     lose     draw  total_bouts  win_rate  height_inches  \\\n",
       "count  2460.00  2460.00  2460.00      2460.00   2460.00        2460.00   \n",
       "mean     13.12     5.51     0.31        18.94      0.69          70.32   \n",
       "std       8.36     4.52     0.87        12.01      0.16           3.38   \n",
       "min       0.00     0.00     0.00         1.00      0.00          60.00   \n",
       "25%       7.00     3.00     0.00        11.00      0.62          68.00   \n",
       "50%      12.00     4.00     0.00        16.00      0.71          70.00   \n",
       "75%      17.00     7.00     0.00        24.00      0.79          73.00   \n",
       "max      88.00    74.00    11.00       121.00      1.00          89.00   \n",
       "\n",
       "         reach  age_today     slpm     sapm   td_avg  sub_avg  \n",
       "count  2460.00    2185.00  2460.00  2460.00  2460.00  2460.00  \n",
       "mean     71.90      36.10     2.78     3.45     1.48     0.77  \n",
       "std       3.19       6.35     1.86     2.36     1.84     1.45  \n",
       "min      60.00      20.00     0.06     0.13     0.00     0.00  \n",
       "25%      71.00      31.00     1.58     2.16     0.00     0.00  \n",
       "50%      72.00      36.00     2.54     3.00     1.00     0.20  \n",
       "75%      73.00      40.00     3.56     4.09     2.21     1.00  \n",
       "max      84.00      58.00    30.00    49.41    24.11    20.90  "
      ]
     },
     "execution_count": 151,
     "metadata": {},
     "output_type": "execute_result"
    }
   ],
   "source": [
    "np.round(data_fighters.describe(), 2)"
   ]
  },
  {
   "cell_type": "code",
   "execution_count": 152,
   "metadata": {
    "ExecuteTime": {
     "end_time": "2019-07-21T22:30:08.222911Z",
     "start_time": "2019-07-21T22:30:08.177298Z"
    }
   },
   "outputs": [
    {
     "data": {
      "text/html": [
       "<div>\n",
       "<style scoped>\n",
       "    .dataframe tbody tr th:only-of-type {\n",
       "        vertical-align: middle;\n",
       "    }\n",
       "\n",
       "    .dataframe tbody tr th {\n",
       "        vertical-align: top;\n",
       "    }\n",
       "\n",
       "    .dataframe thead th {\n",
       "        text-align: right;\n",
       "    }\n",
       "</style>\n",
       "<table border=\"1\" class=\"dataframe\">\n",
       "  <thead>\n",
       "    <tr style=\"text-align: right;\">\n",
       "      <th></th>\n",
       "      <th>name</th>\n",
       "      <th>win</th>\n",
       "      <th>lose</th>\n",
       "      <th>draw</th>\n",
       "      <th>total_bouts</th>\n",
       "      <th>win_rate</th>\n",
       "      <th>height_inches</th>\n",
       "      <th>reach</th>\n",
       "      <th>stance</th>\n",
       "      <th>dob</th>\n",
       "      <th>age_today</th>\n",
       "      <th>slpm</th>\n",
       "      <th>str_acc</th>\n",
       "      <th>sapm</th>\n",
       "      <th>str_def</th>\n",
       "      <th>td_avg</th>\n",
       "      <th>td_acc</th>\n",
       "      <th>td_def</th>\n",
       "      <th>sub_avg</th>\n",
       "    </tr>\n",
       "  </thead>\n",
       "  <tbody>\n",
       "    <tr>\n",
       "      <th>339</th>\n",
       "      <td>Ikuhisa Minowa</td>\n",
       "      <td>51</td>\n",
       "      <td>32</td>\n",
       "      <td>8</td>\n",
       "      <td>91</td>\n",
       "      <td>0.56</td>\n",
       "      <td>69.0</td>\n",
       "      <td>72.0</td>\n",
       "      <td>Orthodox</td>\n",
       "      <td>1976-01-12</td>\n",
       "      <td>43.0</td>\n",
       "      <td>0.88</td>\n",
       "      <td>40</td>\n",
       "      <td>1.66</td>\n",
       "      <td>49</td>\n",
       "      <td>1.82</td>\n",
       "      <td>41</td>\n",
       "      <td>5</td>\n",
       "      <td>1.9</td>\n",
       "    </tr>\n",
       "    <tr>\n",
       "      <th>1871</th>\n",
       "      <td>Vernon White</td>\n",
       "      <td>26</td>\n",
       "      <td>33</td>\n",
       "      <td>2</td>\n",
       "      <td>61</td>\n",
       "      <td>0.43</td>\n",
       "      <td>72.0</td>\n",
       "      <td>72.0</td>\n",
       "      <td>Southpaw</td>\n",
       "      <td>1971-12-03</td>\n",
       "      <td>48.0</td>\n",
       "      <td>2.11</td>\n",
       "      <td>38</td>\n",
       "      <td>2.20</td>\n",
       "      <td>54</td>\n",
       "      <td>0.88</td>\n",
       "      <td>28</td>\n",
       "      <td>44</td>\n",
       "      <td>0.0</td>\n",
       "    </tr>\n",
       "    <tr>\n",
       "      <th>2408</th>\n",
       "      <td>Shannon Ritch</td>\n",
       "      <td>47</td>\n",
       "      <td>74</td>\n",
       "      <td>0</td>\n",
       "      <td>121</td>\n",
       "      <td>0.39</td>\n",
       "      <td>69.0</td>\n",
       "      <td>72.0</td>\n",
       "      <td>Orthodox</td>\n",
       "      <td>1970-09-27</td>\n",
       "      <td>49.0</td>\n",
       "      <td>1.00</td>\n",
       "      <td>100</td>\n",
       "      <td>6.00</td>\n",
       "      <td>50</td>\n",
       "      <td>0.00</td>\n",
       "      <td>0</td>\n",
       "      <td>0</td>\n",
       "      <td>0.0</td>\n",
       "    </tr>\n",
       "  </tbody>\n",
       "</table>\n",
       "</div>"
      ],
      "text/plain": [
       "                name  win  lose  draw  total_bouts  win_rate  height_inches  \\\n",
       "339   Ikuhisa Minowa   51    32     8           91      0.56           69.0   \n",
       "1871    Vernon White   26    33     2           61      0.43           72.0   \n",
       "2408   Shannon Ritch   47    74     0          121      0.39           69.0   \n",
       "\n",
       "      reach    stance        dob  age_today  slpm str_acc  sapm str_def  \\\n",
       "339    72.0  Orthodox 1976-01-12       43.0  0.88      40  1.66      49   \n",
       "1871   72.0  Southpaw 1971-12-03       48.0  2.11      38  2.20      54   \n",
       "2408   72.0  Orthodox 1970-09-27       49.0  1.00     100  6.00      50   \n",
       "\n",
       "      td_avg td_acc td_def  sub_avg  \n",
       "339     1.82     41      5      1.9  \n",
       "1871    0.88     28     44      0.0  \n",
       "2408    0.00      0      0      0.0  "
      ]
     },
     "execution_count": 152,
     "metadata": {},
     "output_type": "execute_result"
    }
   ],
   "source": [
    "data_fighters[data_fighters.lose>30]"
   ]
  },
  {
   "cell_type": "markdown",
   "metadata": {},
   "source": [
    "#### set name column into index"
   ]
  },
  {
   "cell_type": "code",
   "execution_count": 153,
   "metadata": {
    "ExecuteTime": {
     "end_time": "2019-07-21T22:30:08.259793Z",
     "start_time": "2019-07-21T22:30:08.224046Z"
    }
   },
   "outputs": [],
   "source": [
    "data_fighters.set_index('name', inplace=True)"
   ]
  },
  {
   "cell_type": "markdown",
   "metadata": {},
   "source": [
    "#### Save the cleaned fighters df to processed data file"
   ]
  },
  {
   "cell_type": "code",
   "execution_count": 154,
   "metadata": {
    "ExecuteTime": {
     "end_time": "2019-07-21T22:30:08.328411Z",
     "start_time": "2019-07-21T22:30:08.260995Z"
    }
   },
   "outputs": [],
   "source": [
    "data_fighters.to_csv('../data/processed/fighters_cleaned')"
   ]
  },
  {
   "cell_type": "markdown",
   "metadata": {},
   "source": [
    "## Combine Dataframes\n",
    "- Here we combine the bouts data with the fighters data, into 1 dataframe that will be used for the machine learning process\n",
    "- We can only look at bouts where we have information on both fighters"
   ]
  },
  {
   "cell_type": "code",
   "execution_count": 155,
   "metadata": {
    "ExecuteTime": {
     "end_time": "2019-07-21T22:30:08.385351Z",
     "start_time": "2019-07-21T22:30:08.329689Z"
    }
   },
   "outputs": [],
   "source": [
    "bouts_cleaned = pd.read_csv('../data/processed/bouts_cleaned', index_col=0)\n",
    "fighters_cleaned = pd.read_csv('../data/processed/fighters_cleaned', index_col=0)"
   ]
  },
  {
   "cell_type": "code",
   "execution_count": 156,
   "metadata": {
    "ExecuteTime": {
     "end_time": "2019-07-21T22:30:08.421819Z",
     "start_time": "2019-07-21T22:30:08.386759Z"
    }
   },
   "outputs": [],
   "source": [
    "bouts_cleaned.drop(columns='index', inplace=True)"
   ]
  },
  {
   "cell_type": "code",
   "execution_count": 157,
   "metadata": {
    "ExecuteTime": {
     "end_time": "2019-07-21T22:30:08.460063Z",
     "start_time": "2019-07-21T22:30:08.422969Z"
    }
   },
   "outputs": [
    {
     "name": "stdout",
     "output_type": "stream",
     "text": [
      "We have reduced the number of bouts from 4796 to 4570, as we do not have statistics for 226 fighters\n"
     ]
    }
   ],
   "source": [
    "original_bout_length = len(bouts_cleaned)\n",
    "\n",
    "# Create a list of all the fighters' names\n",
    "name_list = fighters_cleaned.index.tolist()\n",
    "\n",
    "# Create booleans for whether the name in fighter1/figther2 column appears in our list of fighter names\n",
    "f1_in_name_list = bouts_cleaned['fighter1'].isin(name_list)\n",
    "f2_in_name_list = bouts_cleaned['fighter2'].isin(name_list)\n",
    "\n",
    "# Drop out the rows where at least 1 of names does not appear in our fighter names list\n",
    "bouts_cleaned = bouts_cleaned[(f1_in_name_list) & (f2_in_name_list)]\n",
    "\n",
    "# Print the action we have carried out\n",
    "new_bout_length = len(bouts_cleaned)\n",
    "print('We have reduced the number of bouts from {} to {}, as we do not have statistics for {} fighters'\n",
    "      .format(original_bout_length, new_bout_length, original_bout_length-new_bout_length))"
   ]
  },
  {
   "cell_type": "markdown",
   "metadata": {},
   "source": [
    "### Create 2 new dataframes for fighter1 data and fighter2 data"
   ]
  },
  {
   "cell_type": "code",
   "execution_count": 158,
   "metadata": {
    "ExecuteTime": {
     "end_time": "2019-07-21T22:30:08.504647Z",
     "start_time": "2019-07-21T22:30:08.461451Z"
    }
   },
   "outputs": [],
   "source": [
    "# Pull in the statistics for each fighter1\n",
    "data_fighter1 = fighters_cleaned.loc[bouts_cleaned[\"fighter1\"]]\n",
    "# Pull in the statistics for each fighter2\n",
    "data_fighter2 = fighters_cleaned.loc[bouts_cleaned[\"fighter2\"]]\n",
    "\n",
    "# Add suffix to each new dataframe's columns so we can merge them\n",
    "data_fighter1 = data_fighter1.add_prefix('fighter1_')\n",
    "data_fighter2 = data_fighter2.add_prefix('fighter2_')\n",
    "\n",
    "# Reset the indices so we can merge them\n",
    "data_fighter1.reset_index(inplace=True)\n",
    "data_fighter2.reset_index(inplace=True)"
   ]
  },
  {
   "cell_type": "markdown",
   "metadata": {},
   "source": [
    "### Create a combined dataframe of bouts with details of fighter1 and fighter2"
   ]
  },
  {
   "cell_type": "code",
   "execution_count": 159,
   "metadata": {
    "ExecuteTime": {
     "end_time": "2019-07-21T22:30:08.561336Z",
     "start_time": "2019-07-21T22:30:08.505736Z"
    },
    "scrolled": false
   },
   "outputs": [
    {
     "data": {
      "text/html": [
       "<div>\n",
       "<style scoped>\n",
       "    .dataframe tbody tr th:only-of-type {\n",
       "        vertical-align: middle;\n",
       "    }\n",
       "\n",
       "    .dataframe tbody tr th {\n",
       "        vertical-align: top;\n",
       "    }\n",
       "\n",
       "    .dataframe thead th {\n",
       "        text-align: right;\n",
       "    }\n",
       "</style>\n",
       "<table border=\"1\" class=\"dataframe\">\n",
       "  <thead>\n",
       "    <tr style=\"text-align: right;\">\n",
       "      <th></th>\n",
       "      <th>date</th>\n",
       "      <th>location</th>\n",
       "      <th>fighter1</th>\n",
       "      <th>fighter2</th>\n",
       "      <th>winner_is_fighter1</th>\n",
       "      <th>title_fight</th>\n",
       "      <th>method_DEC</th>\n",
       "      <th>method_DQ</th>\n",
       "      <th>method_KO/TKO</th>\n",
       "      <th>method_SUB</th>\n",
       "      <th>...</th>\n",
       "      <th>fighter2_dob</th>\n",
       "      <th>fighter2_age_today</th>\n",
       "      <th>fighter2_slpm</th>\n",
       "      <th>fighter2_str_acc</th>\n",
       "      <th>fighter2_sapm</th>\n",
       "      <th>fighter2_str_def</th>\n",
       "      <th>fighter2_td_avg</th>\n",
       "      <th>fighter2_td_acc</th>\n",
       "      <th>fighter2_td_def</th>\n",
       "      <th>fighter2_sub_avg</th>\n",
       "    </tr>\n",
       "  </thead>\n",
       "  <tbody>\n",
       "    <tr>\n",
       "      <th>0</th>\n",
       "      <td>2018-11-17</td>\n",
       "      <td>Argentina</td>\n",
       "      <td>Santiago Ponzinibbio</td>\n",
       "      <td>Neil Magny</td>\n",
       "      <td>1.0</td>\n",
       "      <td>0.0</td>\n",
       "      <td>0.0</td>\n",
       "      <td>0.0</td>\n",
       "      <td>1.0</td>\n",
       "      <td>0.0</td>\n",
       "      <td>...</td>\n",
       "      <td>1987-08-03</td>\n",
       "      <td>32.0</td>\n",
       "      <td>3.86</td>\n",
       "      <td>46.0</td>\n",
       "      <td>2.22</td>\n",
       "      <td>56.0</td>\n",
       "      <td>2.62</td>\n",
       "      <td>46.0</td>\n",
       "      <td>60.0</td>\n",
       "      <td>0.3</td>\n",
       "    </tr>\n",
       "    <tr>\n",
       "      <th>1</th>\n",
       "      <td>2018-11-17</td>\n",
       "      <td>Argentina</td>\n",
       "      <td>Ricardo Lamas</td>\n",
       "      <td>Darren Elkins</td>\n",
       "      <td>1.0</td>\n",
       "      <td>0.0</td>\n",
       "      <td>0.0</td>\n",
       "      <td>0.0</td>\n",
       "      <td>1.0</td>\n",
       "      <td>0.0</td>\n",
       "      <td>...</td>\n",
       "      <td>1984-05-16</td>\n",
       "      <td>35.0</td>\n",
       "      <td>3.36</td>\n",
       "      <td>37.0</td>\n",
       "      <td>2.83</td>\n",
       "      <td>53.0</td>\n",
       "      <td>2.68</td>\n",
       "      <td>35.0</td>\n",
       "      <td>57.0</td>\n",
       "      <td>1.3</td>\n",
       "    </tr>\n",
       "    <tr>\n",
       "      <th>2</th>\n",
       "      <td>2018-11-17</td>\n",
       "      <td>Argentina</td>\n",
       "      <td>Khalil Rountree Jr.</td>\n",
       "      <td>Johnny Walker</td>\n",
       "      <td>0.0</td>\n",
       "      <td>0.0</td>\n",
       "      <td>0.0</td>\n",
       "      <td>0.0</td>\n",
       "      <td>1.0</td>\n",
       "      <td>0.0</td>\n",
       "      <td>...</td>\n",
       "      <td>1992-03-30</td>\n",
       "      <td>27.0</td>\n",
       "      <td>5.37</td>\n",
       "      <td>70.0</td>\n",
       "      <td>3.36</td>\n",
       "      <td>25.0</td>\n",
       "      <td>0.89</td>\n",
       "      <td>100.0</td>\n",
       "      <td>100.0</td>\n",
       "      <td>2.6</td>\n",
       "    </tr>\n",
       "  </tbody>\n",
       "</table>\n",
       "<p>3 rows × 48 columns</p>\n",
       "</div>"
      ],
      "text/plain": [
       "         date   location              fighter1       fighter2  \\\n",
       "0  2018-11-17  Argentina  Santiago Ponzinibbio     Neil Magny   \n",
       "1  2018-11-17  Argentina         Ricardo Lamas  Darren Elkins   \n",
       "2  2018-11-17  Argentina   Khalil Rountree Jr.  Johnny Walker   \n",
       "\n",
       "   winner_is_fighter1  title_fight  method_DEC  method_DQ  method_KO/TKO  \\\n",
       "0                 1.0          0.0         0.0        0.0            1.0   \n",
       "1                 1.0          0.0         0.0        0.0            1.0   \n",
       "2                 0.0          0.0         0.0        0.0            1.0   \n",
       "\n",
       "   method_SUB       ...        fighter2_dob  fighter2_age_today  \\\n",
       "0         0.0       ...          1987-08-03                32.0   \n",
       "1         0.0       ...          1984-05-16                35.0   \n",
       "2         0.0       ...          1992-03-30                27.0   \n",
       "\n",
       "   fighter2_slpm  fighter2_str_acc  fighter2_sapm  fighter2_str_def  \\\n",
       "0           3.86              46.0           2.22              56.0   \n",
       "1           3.36              37.0           2.83              53.0   \n",
       "2           5.37              70.0           3.36              25.0   \n",
       "\n",
       "   fighter2_td_avg  fighter2_td_acc fighter2_td_def fighter2_sub_avg  \n",
       "0             2.62             46.0            60.0              0.3  \n",
       "1             2.68             35.0            57.0              1.3  \n",
       "2             0.89            100.0           100.0              2.6  \n",
       "\n",
       "[3 rows x 48 columns]"
      ]
     },
     "execution_count": 159,
     "metadata": {},
     "output_type": "execute_result"
    }
   ],
   "source": [
    "# Create a merged dataframe\n",
    "data_combined = pd.concat([bouts_cleaned, data_fighter1, data_fighter2], axis=1)\n",
    "data_combined.head(3)"
   ]
  },
  {
   "cell_type": "code",
   "execution_count": 160,
   "metadata": {
    "ExecuteTime": {
     "end_time": "2019-07-21T22:30:08.601789Z",
     "start_time": "2019-07-21T22:30:08.562360Z"
    }
   },
   "outputs": [],
   "source": [
    "# Drop the name columns (2 of them)\n",
    "data_combined.drop(columns='name', inplace=True)"
   ]
  },
  {
   "cell_type": "markdown",
   "metadata": {},
   "source": [
    "### Save combined dataframe to csv"
   ]
  },
  {
   "cell_type": "code",
   "execution_count": 161,
   "metadata": {
    "ExecuteTime": {
     "end_time": "2019-07-21T22:30:08.775100Z",
     "start_time": "2019-07-21T22:30:08.602885Z"
    },
    "scrolled": true
   },
   "outputs": [],
   "source": [
    "data_combined.to_csv('../data/processed/combined', index=False)"
   ]
  },
  {
   "cell_type": "markdown",
   "metadata": {},
   "source": [
    "# STILL TO DO"
   ]
  },
  {
   "cell_type": "markdown",
   "metadata": {
    "ExecuteTime": {
     "end_time": "2019-07-21T20:04:33.561999Z",
     "start_time": "2019-07-21T20:04:33.539312Z"
    }
   },
   "source": [
    "- change age_today to age_at_fight\n",
    "- grab home country of each fighter"
   ]
  },
  {
   "cell_type": "code",
   "execution_count": 162,
   "metadata": {
    "ExecuteTime": {
     "end_time": "2019-07-21T22:30:08.810301Z",
     "start_time": "2019-07-21T22:30:08.776273Z"
    }
   },
   "outputs": [],
   "source": [
    "# data_combined.date[0].year - data_combined.fighter2_dob[0].year"
   ]
  },
  {
   "cell_type": "code",
   "execution_count": 163,
   "metadata": {
    "ExecuteTime": {
     "end_time": "2019-07-21T22:30:08.844891Z",
     "start_time": "2019-07-21T22:30:08.811444Z"
    }
   },
   "outputs": [],
   "source": [
    "# data_combined['fighter1_age_at_fight'] = 0\n",
    "# data_combined['fighter2_age_at_fight'] = 0\n",
    "# for row in list(range(len(data_combined))):\n",
    "#     data_combined['fighter1_age_at_fight'] = data_combined.date[row].year - data_combined.fighter1_dob[row].year\n",
    "#     data_combined['fighter2_age_at_fight'] = data_combined.date[row].year - data_combined.fighter2_dob[row].year"
   ]
  },
  {
   "cell_type": "code",
   "execution_count": 164,
   "metadata": {
    "ExecuteTime": {
     "end_time": "2019-07-21T22:30:08.884920Z",
     "start_time": "2019-07-21T22:30:08.851021Z"
    }
   },
   "outputs": [],
   "source": [
    "# data_combined[['date', 'fighter1_dob', 'fighter2_dob']].describe()"
   ]
  },
  {
   "cell_type": "markdown",
   "metadata": {},
   "source": [
    "## 227 rows with Nan values"
   ]
  },
  {
   "cell_type": "code",
   "execution_count": 165,
   "metadata": {
    "ExecuteTime": {
     "end_time": "2019-07-21T22:30:08.975307Z",
     "start_time": "2019-07-21T22:30:08.888712Z"
    },
    "scrolled": true
   },
   "outputs": [
    {
     "data": {
      "text/html": [
       "<div>\n",
       "<style scoped>\n",
       "    .dataframe tbody tr th:only-of-type {\n",
       "        vertical-align: middle;\n",
       "    }\n",
       "\n",
       "    .dataframe tbody tr th {\n",
       "        vertical-align: top;\n",
       "    }\n",
       "\n",
       "    .dataframe thead th {\n",
       "        text-align: right;\n",
       "    }\n",
       "</style>\n",
       "<table border=\"1\" class=\"dataframe\">\n",
       "  <thead>\n",
       "    <tr style=\"text-align: right;\">\n",
       "      <th></th>\n",
       "      <th>date</th>\n",
       "      <th>location</th>\n",
       "      <th>fighter1</th>\n",
       "      <th>fighter2</th>\n",
       "      <th>winner_is_fighter1</th>\n",
       "      <th>title_fight</th>\n",
       "      <th>method_DEC</th>\n",
       "      <th>method_DQ</th>\n",
       "      <th>method_KO/TKO</th>\n",
       "      <th>method_SUB</th>\n",
       "      <th>...</th>\n",
       "      <th>fighter2_dob</th>\n",
       "      <th>fighter2_age_today</th>\n",
       "      <th>fighter2_slpm</th>\n",
       "      <th>fighter2_str_acc</th>\n",
       "      <th>fighter2_sapm</th>\n",
       "      <th>fighter2_str_def</th>\n",
       "      <th>fighter2_td_avg</th>\n",
       "      <th>fighter2_td_acc</th>\n",
       "      <th>fighter2_td_def</th>\n",
       "      <th>fighter2_sub_avg</th>\n",
       "    </tr>\n",
       "  </thead>\n",
       "  <tbody>\n",
       "    <tr>\n",
       "      <th>4791</th>\n",
       "      <td>2018-11-10</td>\n",
       "      <td>USA</td>\n",
       "      <td>Bobby Moffett</td>\n",
       "      <td>Chas Skelly</td>\n",
       "      <td>1.0</td>\n",
       "      <td>0.0</td>\n",
       "      <td>0.0</td>\n",
       "      <td>0.0</td>\n",
       "      <td>0.0</td>\n",
       "      <td>1.0</td>\n",
       "      <td>...</td>\n",
       "      <td>NaN</td>\n",
       "      <td>NaN</td>\n",
       "      <td>NaN</td>\n",
       "      <td>NaN</td>\n",
       "      <td>NaN</td>\n",
       "      <td>NaN</td>\n",
       "      <td>NaN</td>\n",
       "      <td>NaN</td>\n",
       "      <td>NaN</td>\n",
       "      <td>NaN</td>\n",
       "    </tr>\n",
       "    <tr>\n",
       "      <th>4792</th>\n",
       "      <td>2018-11-10</td>\n",
       "      <td>USA</td>\n",
       "      <td>Davi Ramos</td>\n",
       "      <td>John Gunther</td>\n",
       "      <td>1.0</td>\n",
       "      <td>0.0</td>\n",
       "      <td>0.0</td>\n",
       "      <td>0.0</td>\n",
       "      <td>0.0</td>\n",
       "      <td>1.0</td>\n",
       "      <td>...</td>\n",
       "      <td>NaN</td>\n",
       "      <td>NaN</td>\n",
       "      <td>NaN</td>\n",
       "      <td>NaN</td>\n",
       "      <td>NaN</td>\n",
       "      <td>NaN</td>\n",
       "      <td>NaN</td>\n",
       "      <td>NaN</td>\n",
       "      <td>NaN</td>\n",
       "      <td>NaN</td>\n",
       "    </tr>\n",
       "    <tr>\n",
       "      <th>4793</th>\n",
       "      <td>2018-11-10</td>\n",
       "      <td>USA</td>\n",
       "      <td>Devonte Smith</td>\n",
       "      <td>Julian Erosa</td>\n",
       "      <td>1.0</td>\n",
       "      <td>0.0</td>\n",
       "      <td>0.0</td>\n",
       "      <td>0.0</td>\n",
       "      <td>1.0</td>\n",
       "      <td>0.0</td>\n",
       "      <td>...</td>\n",
       "      <td>NaN</td>\n",
       "      <td>NaN</td>\n",
       "      <td>NaN</td>\n",
       "      <td>NaN</td>\n",
       "      <td>NaN</td>\n",
       "      <td>NaN</td>\n",
       "      <td>NaN</td>\n",
       "      <td>NaN</td>\n",
       "      <td>NaN</td>\n",
       "      <td>NaN</td>\n",
       "    </tr>\n",
       "    <tr>\n",
       "      <th>4794</th>\n",
       "      <td>2018-11-10</td>\n",
       "      <td>USA</td>\n",
       "      <td>Eric Shelton</td>\n",
       "      <td>Joseph Morales</td>\n",
       "      <td>1.0</td>\n",
       "      <td>0.0</td>\n",
       "      <td>1.0</td>\n",
       "      <td>0.0</td>\n",
       "      <td>0.0</td>\n",
       "      <td>0.0</td>\n",
       "      <td>...</td>\n",
       "      <td>NaN</td>\n",
       "      <td>NaN</td>\n",
       "      <td>NaN</td>\n",
       "      <td>NaN</td>\n",
       "      <td>NaN</td>\n",
       "      <td>NaN</td>\n",
       "      <td>NaN</td>\n",
       "      <td>NaN</td>\n",
       "      <td>NaN</td>\n",
       "      <td>NaN</td>\n",
       "    </tr>\n",
       "    <tr>\n",
       "      <th>4795</th>\n",
       "      <td>2018-11-10</td>\n",
       "      <td>USA</td>\n",
       "      <td>Mark De La Rosa</td>\n",
       "      <td>Joby Sanchez</td>\n",
       "      <td>1.0</td>\n",
       "      <td>0.0</td>\n",
       "      <td>1.0</td>\n",
       "      <td>0.0</td>\n",
       "      <td>0.0</td>\n",
       "      <td>0.0</td>\n",
       "      <td>...</td>\n",
       "      <td>NaN</td>\n",
       "      <td>NaN</td>\n",
       "      <td>NaN</td>\n",
       "      <td>NaN</td>\n",
       "      <td>NaN</td>\n",
       "      <td>NaN</td>\n",
       "      <td>NaN</td>\n",
       "      <td>NaN</td>\n",
       "      <td>NaN</td>\n",
       "      <td>NaN</td>\n",
       "    </tr>\n",
       "  </tbody>\n",
       "</table>\n",
       "<p>5 rows × 46 columns</p>\n",
       "</div>"
      ],
      "text/plain": [
       "            date location         fighter1        fighter2  \\\n",
       "4791  2018-11-10      USA    Bobby Moffett     Chas Skelly   \n",
       "4792  2018-11-10      USA       Davi Ramos    John Gunther   \n",
       "4793  2018-11-10      USA    Devonte Smith    Julian Erosa   \n",
       "4794  2018-11-10      USA     Eric Shelton  Joseph Morales   \n",
       "4795  2018-11-10      USA  Mark De La Rosa    Joby Sanchez   \n",
       "\n",
       "      winner_is_fighter1  title_fight  method_DEC  method_DQ  method_KO/TKO  \\\n",
       "4791                 1.0          0.0         0.0        0.0            0.0   \n",
       "4792                 1.0          0.0         0.0        0.0            0.0   \n",
       "4793                 1.0          0.0         0.0        0.0            1.0   \n",
       "4794                 1.0          0.0         1.0        0.0            0.0   \n",
       "4795                 1.0          0.0         1.0        0.0            0.0   \n",
       "\n",
       "      method_SUB        ...         fighter2_dob  fighter2_age_today  \\\n",
       "4791         1.0        ...                  NaN                 NaN   \n",
       "4792         1.0        ...                  NaN                 NaN   \n",
       "4793         0.0        ...                  NaN                 NaN   \n",
       "4794         0.0        ...                  NaN                 NaN   \n",
       "4795         0.0        ...                  NaN                 NaN   \n",
       "\n",
       "      fighter2_slpm  fighter2_str_acc  fighter2_sapm  fighter2_str_def  \\\n",
       "4791            NaN               NaN            NaN               NaN   \n",
       "4792            NaN               NaN            NaN               NaN   \n",
       "4793            NaN               NaN            NaN               NaN   \n",
       "4794            NaN               NaN            NaN               NaN   \n",
       "4795            NaN               NaN            NaN               NaN   \n",
       "\n",
       "      fighter2_td_avg fighter2_td_acc fighter2_td_def  fighter2_sub_avg  \n",
       "4791              NaN             NaN             NaN               NaN  \n",
       "4792              NaN             NaN             NaN               NaN  \n",
       "4793              NaN             NaN             NaN               NaN  \n",
       "4794              NaN             NaN             NaN               NaN  \n",
       "4795              NaN             NaN             NaN               NaN  \n",
       "\n",
       "[5 rows x 46 columns]"
      ]
     },
     "execution_count": 165,
     "metadata": {},
     "output_type": "execute_result"
    }
   ],
   "source": [
    "temp_df = pd.read_csv('../data/processed/combined')\n",
    "temp_df.tail()"
   ]
  },
  {
   "cell_type": "code",
   "execution_count": 166,
   "metadata": {
    "ExecuteTime": {
     "end_time": "2019-07-21T22:30:09.024397Z",
     "start_time": "2019-07-21T22:30:08.976394Z"
    }
   },
   "outputs": [],
   "source": [
    "temp_df = pd.read_csv('../data/raw/ufc_fighters.csv')"
   ]
  },
  {
   "cell_type": "code",
   "execution_count": 167,
   "metadata": {
    "ExecuteTime": {
     "end_time": "2019-07-21T22:30:09.076018Z",
     "start_time": "2019-07-21T22:30:09.025468Z"
    }
   },
   "outputs": [
    {
     "data": {
      "text/html": [
       "<div>\n",
       "<style scoped>\n",
       "    .dataframe tbody tr th:only-of-type {\n",
       "        vertical-align: middle;\n",
       "    }\n",
       "\n",
       "    .dataframe tbody tr th {\n",
       "        vertical-align: top;\n",
       "    }\n",
       "\n",
       "    .dataframe thead th {\n",
       "        text-align: right;\n",
       "    }\n",
       "</style>\n",
       "<table border=\"1\" class=\"dataframe\">\n",
       "  <thead>\n",
       "    <tr style=\"text-align: right;\">\n",
       "      <th></th>\n",
       "      <th>fighter_id</th>\n",
       "      <th>name</th>\n",
       "      <th>win</th>\n",
       "      <th>lose</th>\n",
       "      <th>draw</th>\n",
       "      <th>nc</th>\n",
       "      <th>height</th>\n",
       "      <th>weight</th>\n",
       "      <th>reach</th>\n",
       "      <th>stance</th>\n",
       "      <th>dob</th>\n",
       "      <th>SLpM</th>\n",
       "      <th>Str_Acc</th>\n",
       "      <th>SApM</th>\n",
       "      <th>Str_Def</th>\n",
       "      <th>TD_Avg</th>\n",
       "      <th>TD_Acc</th>\n",
       "      <th>TD_Def</th>\n",
       "      <th>Sub_Avg</th>\n",
       "      <th>last_updated</th>\n",
       "    </tr>\n",
       "  </thead>\n",
       "  <tbody>\n",
       "    <tr>\n",
       "      <th>373</th>\n",
       "      <td>374</td>\n",
       "      <td>Joseph Morales</td>\n",
       "      <td>9</td>\n",
       "      <td>2</td>\n",
       "      <td>0</td>\n",
       "      <td>0</td>\n",
       "      <td>5' 6\"</td>\n",
       "      <td>125 lbs.</td>\n",
       "      <td>69\"</td>\n",
       "      <td>Switch</td>\n",
       "      <td>Aug 22, 1994</td>\n",
       "      <td>1.58</td>\n",
       "      <td>37%</td>\n",
       "      <td>1.72</td>\n",
       "      <td>60%</td>\n",
       "      <td>0.53</td>\n",
       "      <td>50%</td>\n",
       "      <td>23%</td>\n",
       "      <td>2.6</td>\n",
       "      <td>2018-11-21 19:58:02.045657</td>\n",
       "    </tr>\n",
       "    <tr>\n",
       "      <th>2889</th>\n",
       "      <td>2890</td>\n",
       "      <td>Eric Shelton</td>\n",
       "      <td>12</td>\n",
       "      <td>5</td>\n",
       "      <td>0</td>\n",
       "      <td>0</td>\n",
       "      <td>5' 6\"</td>\n",
       "      <td>125 lbs.</td>\n",
       "      <td>68\"</td>\n",
       "      <td>Orthodox</td>\n",
       "      <td>Feb 02, 1991</td>\n",
       "      <td>2.75</td>\n",
       "      <td>44%</td>\n",
       "      <td>1.63</td>\n",
       "      <td>65%</td>\n",
       "      <td>3.40</td>\n",
       "      <td>51%</td>\n",
       "      <td>43%</td>\n",
       "      <td>0.2</td>\n",
       "      <td>2018-11-21 22:32:50.582607</td>\n",
       "    </tr>\n",
       "  </tbody>\n",
       "</table>\n",
       "</div>"
      ],
      "text/plain": [
       "      fighter_id            name  win  lose  draw  nc height    weight reach  \\\n",
       "373          374  Joseph Morales    9     2     0   0  5' 6\"  125 lbs.   69\"   \n",
       "2889        2890    Eric Shelton   12     5     0   0  5' 6\"  125 lbs.   68\"   \n",
       "\n",
       "        stance           dob  SLpM Str_Acc  SApM Str_Def  TD_Avg TD_Acc  \\\n",
       "373     Switch  Aug 22, 1994  1.58     37%  1.72     60%    0.53    50%   \n",
       "2889  Orthodox  Feb 02, 1991  2.75     44%  1.63     65%    3.40    51%   \n",
       "\n",
       "     TD_Def  Sub_Avg                last_updated  \n",
       "373     23%      2.6  2018-11-21 19:58:02.045657  \n",
       "2889    43%      0.2  2018-11-21 22:32:50.582607  "
      ]
     },
     "execution_count": 167,
     "metadata": {},
     "output_type": "execute_result"
    }
   ],
   "source": [
    "temp_df[(temp_df.name=='Eric Shelton') | (temp_df.name=='Joseph Morales')]"
   ]
  },
  {
   "cell_type": "markdown",
   "metadata": {},
   "source": [
    "## 226 winner is fighter1  missing.  could be draws?"
   ]
  },
  {
   "cell_type": "code",
   "execution_count": 168,
   "metadata": {
    "ExecuteTime": {
     "end_time": "2019-07-21T22:30:09.148007Z",
     "start_time": "2019-07-21T22:30:09.077189Z"
    }
   },
   "outputs": [],
   "source": [
    "temp_df = pd.read_csv('../data/processed/combined')"
   ]
  },
  {
   "cell_type": "code",
   "execution_count": 169,
   "metadata": {
    "ExecuteTime": {
     "end_time": "2019-07-21T22:30:09.236630Z",
     "start_time": "2019-07-21T22:30:09.149247Z"
    }
   },
   "outputs": [
    {
     "data": {
      "text/html": [
       "<div>\n",
       "<style scoped>\n",
       "    .dataframe tbody tr th:only-of-type {\n",
       "        vertical-align: middle;\n",
       "    }\n",
       "\n",
       "    .dataframe tbody tr th {\n",
       "        vertical-align: top;\n",
       "    }\n",
       "\n",
       "    .dataframe thead th {\n",
       "        text-align: right;\n",
       "    }\n",
       "</style>\n",
       "<table border=\"1\" class=\"dataframe\">\n",
       "  <thead>\n",
       "    <tr style=\"text-align: right;\">\n",
       "      <th></th>\n",
       "      <th>date</th>\n",
       "      <th>location</th>\n",
       "      <th>fighter1</th>\n",
       "      <th>fighter2</th>\n",
       "      <th>winner_is_fighter1</th>\n",
       "      <th>title_fight</th>\n",
       "      <th>method_DEC</th>\n",
       "      <th>method_DQ</th>\n",
       "      <th>method_KO/TKO</th>\n",
       "      <th>method_SUB</th>\n",
       "      <th>...</th>\n",
       "      <th>fighter2_dob</th>\n",
       "      <th>fighter2_age_today</th>\n",
       "      <th>fighter2_slpm</th>\n",
       "      <th>fighter2_str_acc</th>\n",
       "      <th>fighter2_sapm</th>\n",
       "      <th>fighter2_str_def</th>\n",
       "      <th>fighter2_td_avg</th>\n",
       "      <th>fighter2_td_acc</th>\n",
       "      <th>fighter2_td_def</th>\n",
       "      <th>fighter2_sub_avg</th>\n",
       "    </tr>\n",
       "  </thead>\n",
       "  <tbody>\n",
       "    <tr>\n",
       "      <th>206</th>\n",
       "      <td>NaN</td>\n",
       "      <td>NaN</td>\n",
       "      <td>NaN</td>\n",
       "      <td>NaN</td>\n",
       "      <td>NaN</td>\n",
       "      <td>NaN</td>\n",
       "      <td>NaN</td>\n",
       "      <td>NaN</td>\n",
       "      <td>NaN</td>\n",
       "      <td>NaN</td>\n",
       "      <td>...</td>\n",
       "      <td>1964-02-11</td>\n",
       "      <td>55.0</td>\n",
       "      <td>1.47</td>\n",
       "      <td>46.0</td>\n",
       "      <td>4.30</td>\n",
       "      <td>39.0</td>\n",
       "      <td>0.94</td>\n",
       "      <td>60.0</td>\n",
       "      <td>44.0</td>\n",
       "      <td>2.5</td>\n",
       "    </tr>\n",
       "    <tr>\n",
       "      <th>207</th>\n",
       "      <td>NaN</td>\n",
       "      <td>NaN</td>\n",
       "      <td>NaN</td>\n",
       "      <td>NaN</td>\n",
       "      <td>NaN</td>\n",
       "      <td>NaN</td>\n",
       "      <td>NaN</td>\n",
       "      <td>NaN</td>\n",
       "      <td>NaN</td>\n",
       "      <td>NaN</td>\n",
       "      <td>...</td>\n",
       "      <td>1966-12-12</td>\n",
       "      <td>53.0</td>\n",
       "      <td>0.88</td>\n",
       "      <td>41.0</td>\n",
       "      <td>1.13</td>\n",
       "      <td>37.0</td>\n",
       "      <td>0.00</td>\n",
       "      <td>0.0</td>\n",
       "      <td>66.0</td>\n",
       "      <td>0.8</td>\n",
       "    </tr>\n",
       "    <tr>\n",
       "      <th>209</th>\n",
       "      <td>NaN</td>\n",
       "      <td>NaN</td>\n",
       "      <td>NaN</td>\n",
       "      <td>NaN</td>\n",
       "      <td>NaN</td>\n",
       "      <td>NaN</td>\n",
       "      <td>NaN</td>\n",
       "      <td>NaN</td>\n",
       "      <td>NaN</td>\n",
       "      <td>NaN</td>\n",
       "      <td>...</td>\n",
       "      <td>1968-01-05</td>\n",
       "      <td>51.0</td>\n",
       "      <td>0.76</td>\n",
       "      <td>83.0</td>\n",
       "      <td>2.12</td>\n",
       "      <td>30.0</td>\n",
       "      <td>4.55</td>\n",
       "      <td>100.0</td>\n",
       "      <td>0.0</td>\n",
       "      <td>2.3</td>\n",
       "    </tr>\n",
       "    <tr>\n",
       "      <th>210</th>\n",
       "      <td>NaN</td>\n",
       "      <td>NaN</td>\n",
       "      <td>NaN</td>\n",
       "      <td>NaN</td>\n",
       "      <td>NaN</td>\n",
       "      <td>NaN</td>\n",
       "      <td>NaN</td>\n",
       "      <td>NaN</td>\n",
       "      <td>NaN</td>\n",
       "      <td>NaN</td>\n",
       "      <td>...</td>\n",
       "      <td>1965-11-23</td>\n",
       "      <td>54.0</td>\n",
       "      <td>2.87</td>\n",
       "      <td>64.0</td>\n",
       "      <td>3.57</td>\n",
       "      <td>37.0</td>\n",
       "      <td>0.91</td>\n",
       "      <td>57.0</td>\n",
       "      <td>45.0</td>\n",
       "      <td>0.7</td>\n",
       "    </tr>\n",
       "    <tr>\n",
       "      <th>211</th>\n",
       "      <td>NaN</td>\n",
       "      <td>NaN</td>\n",
       "      <td>NaN</td>\n",
       "      <td>NaN</td>\n",
       "      <td>NaN</td>\n",
       "      <td>NaN</td>\n",
       "      <td>NaN</td>\n",
       "      <td>NaN</td>\n",
       "      <td>NaN</td>\n",
       "      <td>NaN</td>\n",
       "      <td>...</td>\n",
       "      <td>1964-12-20</td>\n",
       "      <td>55.0</td>\n",
       "      <td>1.88</td>\n",
       "      <td>52.0</td>\n",
       "      <td>2.62</td>\n",
       "      <td>40.0</td>\n",
       "      <td>3.89</td>\n",
       "      <td>40.0</td>\n",
       "      <td>50.0</td>\n",
       "      <td>0.8</td>\n",
       "    </tr>\n",
       "    <tr>\n",
       "      <th>212</th>\n",
       "      <td>NaN</td>\n",
       "      <td>NaN</td>\n",
       "      <td>NaN</td>\n",
       "      <td>NaN</td>\n",
       "      <td>NaN</td>\n",
       "      <td>NaN</td>\n",
       "      <td>NaN</td>\n",
       "      <td>NaN</td>\n",
       "      <td>NaN</td>\n",
       "      <td>NaN</td>\n",
       "      <td>...</td>\n",
       "      <td>1965-11-23</td>\n",
       "      <td>54.0</td>\n",
       "      <td>2.87</td>\n",
       "      <td>64.0</td>\n",
       "      <td>3.57</td>\n",
       "      <td>37.0</td>\n",
       "      <td>0.91</td>\n",
       "      <td>57.0</td>\n",
       "      <td>45.0</td>\n",
       "      <td>0.7</td>\n",
       "    </tr>\n",
       "    <tr>\n",
       "      <th>213</th>\n",
       "      <td>NaN</td>\n",
       "      <td>NaN</td>\n",
       "      <td>NaN</td>\n",
       "      <td>NaN</td>\n",
       "      <td>NaN</td>\n",
       "      <td>NaN</td>\n",
       "      <td>NaN</td>\n",
       "      <td>NaN</td>\n",
       "      <td>NaN</td>\n",
       "      <td>NaN</td>\n",
       "      <td>...</td>\n",
       "      <td>1966-01-17</td>\n",
       "      <td>53.0</td>\n",
       "      <td>1.84</td>\n",
       "      <td>56.0</td>\n",
       "      <td>2.14</td>\n",
       "      <td>48.0</td>\n",
       "      <td>0.40</td>\n",
       "      <td>100.0</td>\n",
       "      <td>53.0</td>\n",
       "      <td>0.8</td>\n",
       "    </tr>\n",
       "    <tr>\n",
       "      <th>214</th>\n",
       "      <td>NaN</td>\n",
       "      <td>NaN</td>\n",
       "      <td>NaN</td>\n",
       "      <td>NaN</td>\n",
       "      <td>NaN</td>\n",
       "      <td>NaN</td>\n",
       "      <td>NaN</td>\n",
       "      <td>NaN</td>\n",
       "      <td>NaN</td>\n",
       "      <td>NaN</td>\n",
       "      <td>...</td>\n",
       "      <td>1965-02-07</td>\n",
       "      <td>54.0</td>\n",
       "      <td>1.83</td>\n",
       "      <td>35.0</td>\n",
       "      <td>3.02</td>\n",
       "      <td>56.0</td>\n",
       "      <td>0.87</td>\n",
       "      <td>100.0</td>\n",
       "      <td>80.0</td>\n",
       "      <td>0.0</td>\n",
       "    </tr>\n",
       "    <tr>\n",
       "      <th>215</th>\n",
       "      <td>NaN</td>\n",
       "      <td>NaN</td>\n",
       "      <td>NaN</td>\n",
       "      <td>NaN</td>\n",
       "      <td>NaN</td>\n",
       "      <td>NaN</td>\n",
       "      <td>NaN</td>\n",
       "      <td>NaN</td>\n",
       "      <td>NaN</td>\n",
       "      <td>NaN</td>\n",
       "      <td>...</td>\n",
       "      <td>1968-02-23</td>\n",
       "      <td>51.0</td>\n",
       "      <td>0.92</td>\n",
       "      <td>31.0</td>\n",
       "      <td>0.83</td>\n",
       "      <td>44.0</td>\n",
       "      <td>1.85</td>\n",
       "      <td>28.0</td>\n",
       "      <td>0.0</td>\n",
       "      <td>0.5</td>\n",
       "    </tr>\n",
       "    <tr>\n",
       "      <th>216</th>\n",
       "      <td>NaN</td>\n",
       "      <td>NaN</td>\n",
       "      <td>NaN</td>\n",
       "      <td>NaN</td>\n",
       "      <td>NaN</td>\n",
       "      <td>NaN</td>\n",
       "      <td>NaN</td>\n",
       "      <td>NaN</td>\n",
       "      <td>NaN</td>\n",
       "      <td>NaN</td>\n",
       "      <td>...</td>\n",
       "      <td>1977-04-01</td>\n",
       "      <td>42.0</td>\n",
       "      <td>1.59</td>\n",
       "      <td>46.0</td>\n",
       "      <td>2.83</td>\n",
       "      <td>50.0</td>\n",
       "      <td>1.02</td>\n",
       "      <td>60.0</td>\n",
       "      <td>53.0</td>\n",
       "      <td>0.6</td>\n",
       "    </tr>\n",
       "    <tr>\n",
       "      <th>217</th>\n",
       "      <td>NaN</td>\n",
       "      <td>NaN</td>\n",
       "      <td>NaN</td>\n",
       "      <td>NaN</td>\n",
       "      <td>NaN</td>\n",
       "      <td>NaN</td>\n",
       "      <td>NaN</td>\n",
       "      <td>NaN</td>\n",
       "      <td>NaN</td>\n",
       "      <td>NaN</td>\n",
       "      <td>...</td>\n",
       "      <td>1968-01-01</td>\n",
       "      <td>51.0</td>\n",
       "      <td>2.30</td>\n",
       "      <td>32.0</td>\n",
       "      <td>1.36</td>\n",
       "      <td>72.0</td>\n",
       "      <td>0.39</td>\n",
       "      <td>50.0</td>\n",
       "      <td>88.0</td>\n",
       "      <td>0.0</td>\n",
       "    </tr>\n",
       "    <tr>\n",
       "      <th>218</th>\n",
       "      <td>NaN</td>\n",
       "      <td>NaN</td>\n",
       "      <td>NaN</td>\n",
       "      <td>NaN</td>\n",
       "      <td>NaN</td>\n",
       "      <td>NaN</td>\n",
       "      <td>NaN</td>\n",
       "      <td>NaN</td>\n",
       "      <td>NaN</td>\n",
       "      <td>NaN</td>\n",
       "      <td>...</td>\n",
       "      <td>1961-12-13</td>\n",
       "      <td>58.0</td>\n",
       "      <td>0.41</td>\n",
       "      <td>46.0</td>\n",
       "      <td>0.47</td>\n",
       "      <td>60.0</td>\n",
       "      <td>0.89</td>\n",
       "      <td>50.0</td>\n",
       "      <td>20.0</td>\n",
       "      <td>0.9</td>\n",
       "    </tr>\n",
       "    <tr>\n",
       "      <th>219</th>\n",
       "      <td>NaN</td>\n",
       "      <td>NaN</td>\n",
       "      <td>NaN</td>\n",
       "      <td>NaN</td>\n",
       "      <td>NaN</td>\n",
       "      <td>NaN</td>\n",
       "      <td>NaN</td>\n",
       "      <td>NaN</td>\n",
       "      <td>NaN</td>\n",
       "      <td>NaN</td>\n",
       "      <td>...</td>\n",
       "      <td>1968-12-21</td>\n",
       "      <td>51.0</td>\n",
       "      <td>0.28</td>\n",
       "      <td>41.0</td>\n",
       "      <td>0.89</td>\n",
       "      <td>28.0</td>\n",
       "      <td>2.92</td>\n",
       "      <td>77.0</td>\n",
       "      <td>0.0</td>\n",
       "      <td>0.4</td>\n",
       "    </tr>\n",
       "    <tr>\n",
       "      <th>220</th>\n",
       "      <td>NaN</td>\n",
       "      <td>NaN</td>\n",
       "      <td>NaN</td>\n",
       "      <td>NaN</td>\n",
       "      <td>NaN</td>\n",
       "      <td>NaN</td>\n",
       "      <td>NaN</td>\n",
       "      <td>NaN</td>\n",
       "      <td>NaN</td>\n",
       "      <td>NaN</td>\n",
       "      <td>...</td>\n",
       "      <td>1961-12-13</td>\n",
       "      <td>58.0</td>\n",
       "      <td>0.41</td>\n",
       "      <td>46.0</td>\n",
       "      <td>0.47</td>\n",
       "      <td>60.0</td>\n",
       "      <td>0.89</td>\n",
       "      <td>50.0</td>\n",
       "      <td>20.0</td>\n",
       "      <td>0.9</td>\n",
       "    </tr>\n",
       "    <tr>\n",
       "      <th>221</th>\n",
       "      <td>NaN</td>\n",
       "      <td>NaN</td>\n",
       "      <td>NaN</td>\n",
       "      <td>NaN</td>\n",
       "      <td>NaN</td>\n",
       "      <td>NaN</td>\n",
       "      <td>NaN</td>\n",
       "      <td>NaN</td>\n",
       "      <td>NaN</td>\n",
       "      <td>NaN</td>\n",
       "      <td>...</td>\n",
       "      <td>1977-04-01</td>\n",
       "      <td>42.0</td>\n",
       "      <td>1.59</td>\n",
       "      <td>46.0</td>\n",
       "      <td>2.83</td>\n",
       "      <td>50.0</td>\n",
       "      <td>1.02</td>\n",
       "      <td>60.0</td>\n",
       "      <td>53.0</td>\n",
       "      <td>0.6</td>\n",
       "    </tr>\n",
       "    <tr>\n",
       "      <th>222</th>\n",
       "      <td>NaN</td>\n",
       "      <td>NaN</td>\n",
       "      <td>NaN</td>\n",
       "      <td>NaN</td>\n",
       "      <td>NaN</td>\n",
       "      <td>NaN</td>\n",
       "      <td>NaN</td>\n",
       "      <td>NaN</td>\n",
       "      <td>NaN</td>\n",
       "      <td>NaN</td>\n",
       "      <td>...</td>\n",
       "      <td>1963-06-22</td>\n",
       "      <td>56.0</td>\n",
       "      <td>2.85</td>\n",
       "      <td>57.0</td>\n",
       "      <td>1.53</td>\n",
       "      <td>59.0</td>\n",
       "      <td>2.78</td>\n",
       "      <td>46.0</td>\n",
       "      <td>58.0</td>\n",
       "      <td>0.5</td>\n",
       "    </tr>\n",
       "    <tr>\n",
       "      <th>223</th>\n",
       "      <td>NaN</td>\n",
       "      <td>NaN</td>\n",
       "      <td>NaN</td>\n",
       "      <td>NaN</td>\n",
       "      <td>NaN</td>\n",
       "      <td>NaN</td>\n",
       "      <td>NaN</td>\n",
       "      <td>NaN</td>\n",
       "      <td>NaN</td>\n",
       "      <td>NaN</td>\n",
       "      <td>...</td>\n",
       "      <td>1968-01-05</td>\n",
       "      <td>51.0</td>\n",
       "      <td>0.76</td>\n",
       "      <td>83.0</td>\n",
       "      <td>2.12</td>\n",
       "      <td>30.0</td>\n",
       "      <td>4.55</td>\n",
       "      <td>100.0</td>\n",
       "      <td>0.0</td>\n",
       "      <td>2.3</td>\n",
       "    </tr>\n",
       "    <tr>\n",
       "      <th>224</th>\n",
       "      <td>NaN</td>\n",
       "      <td>NaN</td>\n",
       "      <td>NaN</td>\n",
       "      <td>NaN</td>\n",
       "      <td>NaN</td>\n",
       "      <td>NaN</td>\n",
       "      <td>NaN</td>\n",
       "      <td>NaN</td>\n",
       "      <td>NaN</td>\n",
       "      <td>NaN</td>\n",
       "      <td>...</td>\n",
       "      <td>1971-10-12</td>\n",
       "      <td>48.0</td>\n",
       "      <td>0.60</td>\n",
       "      <td>40.0</td>\n",
       "      <td>0.97</td>\n",
       "      <td>50.0</td>\n",
       "      <td>0.00</td>\n",
       "      <td>0.0</td>\n",
       "      <td>25.0</td>\n",
       "      <td>2.1</td>\n",
       "    </tr>\n",
       "    <tr>\n",
       "      <th>225</th>\n",
       "      <td>NaN</td>\n",
       "      <td>NaN</td>\n",
       "      <td>NaN</td>\n",
       "      <td>NaN</td>\n",
       "      <td>NaN</td>\n",
       "      <td>NaN</td>\n",
       "      <td>NaN</td>\n",
       "      <td>NaN</td>\n",
       "      <td>NaN</td>\n",
       "      <td>NaN</td>\n",
       "      <td>...</td>\n",
       "      <td>1972-12-08</td>\n",
       "      <td>47.0</td>\n",
       "      <td>4.75</td>\n",
       "      <td>53.0</td>\n",
       "      <td>4.66</td>\n",
       "      <td>57.0</td>\n",
       "      <td>0.35</td>\n",
       "      <td>50.0</td>\n",
       "      <td>37.0</td>\n",
       "      <td>1.1</td>\n",
       "    </tr>\n",
       "    <tr>\n",
       "      <th>226</th>\n",
       "      <td>NaN</td>\n",
       "      <td>NaN</td>\n",
       "      <td>NaN</td>\n",
       "      <td>NaN</td>\n",
       "      <td>NaN</td>\n",
       "      <td>NaN</td>\n",
       "      <td>NaN</td>\n",
       "      <td>NaN</td>\n",
       "      <td>NaN</td>\n",
       "      <td>NaN</td>\n",
       "      <td>...</td>\n",
       "      <td>1975-07-10</td>\n",
       "      <td>44.0</td>\n",
       "      <td>0.61</td>\n",
       "      <td>62.0</td>\n",
       "      <td>2.77</td>\n",
       "      <td>40.0</td>\n",
       "      <td>1.84</td>\n",
       "      <td>40.0</td>\n",
       "      <td>16.0</td>\n",
       "      <td>0.9</td>\n",
       "    </tr>\n",
       "    <tr>\n",
       "      <th>227</th>\n",
       "      <td>NaN</td>\n",
       "      <td>NaN</td>\n",
       "      <td>NaN</td>\n",
       "      <td>NaN</td>\n",
       "      <td>NaN</td>\n",
       "      <td>NaN</td>\n",
       "      <td>NaN</td>\n",
       "      <td>NaN</td>\n",
       "      <td>NaN</td>\n",
       "      <td>NaN</td>\n",
       "      <td>...</td>\n",
       "      <td>1976-08-17</td>\n",
       "      <td>43.0</td>\n",
       "      <td>0.65</td>\n",
       "      <td>41.0</td>\n",
       "      <td>1.55</td>\n",
       "      <td>44.0</td>\n",
       "      <td>2.47</td>\n",
       "      <td>70.0</td>\n",
       "      <td>43.0</td>\n",
       "      <td>0.9</td>\n",
       "    </tr>\n",
       "    <tr>\n",
       "      <th>228</th>\n",
       "      <td>NaN</td>\n",
       "      <td>NaN</td>\n",
       "      <td>NaN</td>\n",
       "      <td>NaN</td>\n",
       "      <td>NaN</td>\n",
       "      <td>NaN</td>\n",
       "      <td>NaN</td>\n",
       "      <td>NaN</td>\n",
       "      <td>NaN</td>\n",
       "      <td>NaN</td>\n",
       "      <td>...</td>\n",
       "      <td>1978-09-22</td>\n",
       "      <td>41.0</td>\n",
       "      <td>3.81</td>\n",
       "      <td>41.0</td>\n",
       "      <td>3.52</td>\n",
       "      <td>60.0</td>\n",
       "      <td>1.23</td>\n",
       "      <td>65.0</td>\n",
       "      <td>63.0</td>\n",
       "      <td>0.8</td>\n",
       "    </tr>\n",
       "    <tr>\n",
       "      <th>229</th>\n",
       "      <td>NaN</td>\n",
       "      <td>NaN</td>\n",
       "      <td>NaN</td>\n",
       "      <td>NaN</td>\n",
       "      <td>NaN</td>\n",
       "      <td>NaN</td>\n",
       "      <td>NaN</td>\n",
       "      <td>NaN</td>\n",
       "      <td>NaN</td>\n",
       "      <td>NaN</td>\n",
       "      <td>...</td>\n",
       "      <td>1971-04-20</td>\n",
       "      <td>48.0</td>\n",
       "      <td>0.64</td>\n",
       "      <td>52.0</td>\n",
       "      <td>1.35</td>\n",
       "      <td>41.0</td>\n",
       "      <td>1.75</td>\n",
       "      <td>40.0</td>\n",
       "      <td>0.0</td>\n",
       "      <td>2.6</td>\n",
       "    </tr>\n",
       "    <tr>\n",
       "      <th>230</th>\n",
       "      <td>NaN</td>\n",
       "      <td>NaN</td>\n",
       "      <td>NaN</td>\n",
       "      <td>NaN</td>\n",
       "      <td>NaN</td>\n",
       "      <td>NaN</td>\n",
       "      <td>NaN</td>\n",
       "      <td>NaN</td>\n",
       "      <td>NaN</td>\n",
       "      <td>NaN</td>\n",
       "      <td>...</td>\n",
       "      <td>1977-04-01</td>\n",
       "      <td>42.0</td>\n",
       "      <td>1.59</td>\n",
       "      <td>46.0</td>\n",
       "      <td>2.83</td>\n",
       "      <td>50.0</td>\n",
       "      <td>1.02</td>\n",
       "      <td>60.0</td>\n",
       "      <td>53.0</td>\n",
       "      <td>0.6</td>\n",
       "    </tr>\n",
       "    <tr>\n",
       "      <th>232</th>\n",
       "      <td>NaN</td>\n",
       "      <td>NaN</td>\n",
       "      <td>NaN</td>\n",
       "      <td>NaN</td>\n",
       "      <td>NaN</td>\n",
       "      <td>NaN</td>\n",
       "      <td>NaN</td>\n",
       "      <td>NaN</td>\n",
       "      <td>NaN</td>\n",
       "      <td>NaN</td>\n",
       "      <td>...</td>\n",
       "      <td>1975-07-10</td>\n",
       "      <td>44.0</td>\n",
       "      <td>0.61</td>\n",
       "      <td>62.0</td>\n",
       "      <td>2.77</td>\n",
       "      <td>40.0</td>\n",
       "      <td>1.84</td>\n",
       "      <td>40.0</td>\n",
       "      <td>16.0</td>\n",
       "      <td>0.9</td>\n",
       "    </tr>\n",
       "    <tr>\n",
       "      <th>233</th>\n",
       "      <td>NaN</td>\n",
       "      <td>NaN</td>\n",
       "      <td>NaN</td>\n",
       "      <td>NaN</td>\n",
       "      <td>NaN</td>\n",
       "      <td>NaN</td>\n",
       "      <td>NaN</td>\n",
       "      <td>NaN</td>\n",
       "      <td>NaN</td>\n",
       "      <td>NaN</td>\n",
       "      <td>...</td>\n",
       "      <td>1975-08-25</td>\n",
       "      <td>44.0</td>\n",
       "      <td>1.19</td>\n",
       "      <td>39.0</td>\n",
       "      <td>1.99</td>\n",
       "      <td>55.0</td>\n",
       "      <td>1.83</td>\n",
       "      <td>38.0</td>\n",
       "      <td>29.0</td>\n",
       "      <td>1.1</td>\n",
       "    </tr>\n",
       "    <tr>\n",
       "      <th>234</th>\n",
       "      <td>NaN</td>\n",
       "      <td>NaN</td>\n",
       "      <td>NaN</td>\n",
       "      <td>NaN</td>\n",
       "      <td>NaN</td>\n",
       "      <td>NaN</td>\n",
       "      <td>NaN</td>\n",
       "      <td>NaN</td>\n",
       "      <td>NaN</td>\n",
       "      <td>NaN</td>\n",
       "      <td>...</td>\n",
       "      <td>1965-02-24</td>\n",
       "      <td>54.0</td>\n",
       "      <td>5.59</td>\n",
       "      <td>61.0</td>\n",
       "      <td>2.06</td>\n",
       "      <td>79.0</td>\n",
       "      <td>0.00</td>\n",
       "      <td>0.0</td>\n",
       "      <td>0.0</td>\n",
       "      <td>0.0</td>\n",
       "    </tr>\n",
       "    <tr>\n",
       "      <th>235</th>\n",
       "      <td>NaN</td>\n",
       "      <td>NaN</td>\n",
       "      <td>NaN</td>\n",
       "      <td>NaN</td>\n",
       "      <td>NaN</td>\n",
       "      <td>NaN</td>\n",
       "      <td>NaN</td>\n",
       "      <td>NaN</td>\n",
       "      <td>NaN</td>\n",
       "      <td>NaN</td>\n",
       "      <td>...</td>\n",
       "      <td>1968-03-09</td>\n",
       "      <td>51.0</td>\n",
       "      <td>1.79</td>\n",
       "      <td>45.0</td>\n",
       "      <td>1.66</td>\n",
       "      <td>63.0</td>\n",
       "      <td>1.96</td>\n",
       "      <td>100.0</td>\n",
       "      <td>54.0</td>\n",
       "      <td>1.0</td>\n",
       "    </tr>\n",
       "    <tr>\n",
       "      <th>236</th>\n",
       "      <td>NaN</td>\n",
       "      <td>NaN</td>\n",
       "      <td>NaN</td>\n",
       "      <td>NaN</td>\n",
       "      <td>NaN</td>\n",
       "      <td>NaN</td>\n",
       "      <td>NaN</td>\n",
       "      <td>NaN</td>\n",
       "      <td>NaN</td>\n",
       "      <td>NaN</td>\n",
       "      <td>...</td>\n",
       "      <td>1964-12-20</td>\n",
       "      <td>55.0</td>\n",
       "      <td>1.88</td>\n",
       "      <td>52.0</td>\n",
       "      <td>2.62</td>\n",
       "      <td>40.0</td>\n",
       "      <td>3.89</td>\n",
       "      <td>40.0</td>\n",
       "      <td>50.0</td>\n",
       "      <td>0.8</td>\n",
       "    </tr>\n",
       "    <tr>\n",
       "      <th>237</th>\n",
       "      <td>NaN</td>\n",
       "      <td>NaN</td>\n",
       "      <td>NaN</td>\n",
       "      <td>NaN</td>\n",
       "      <td>NaN</td>\n",
       "      <td>NaN</td>\n",
       "      <td>NaN</td>\n",
       "      <td>NaN</td>\n",
       "      <td>NaN</td>\n",
       "      <td>NaN</td>\n",
       "      <td>...</td>\n",
       "      <td>1975-01-23</td>\n",
       "      <td>44.0</td>\n",
       "      <td>2.59</td>\n",
       "      <td>46.0</td>\n",
       "      <td>2.88</td>\n",
       "      <td>60.0</td>\n",
       "      <td>2.47</td>\n",
       "      <td>35.0</td>\n",
       "      <td>54.0</td>\n",
       "      <td>0.6</td>\n",
       "    </tr>\n",
       "    <tr>\n",
       "      <th>...</th>\n",
       "      <td>...</td>\n",
       "      <td>...</td>\n",
       "      <td>...</td>\n",
       "      <td>...</td>\n",
       "      <td>...</td>\n",
       "      <td>...</td>\n",
       "      <td>...</td>\n",
       "      <td>...</td>\n",
       "      <td>...</td>\n",
       "      <td>...</td>\n",
       "      <td>...</td>\n",
       "      <td>...</td>\n",
       "      <td>...</td>\n",
       "      <td>...</td>\n",
       "      <td>...</td>\n",
       "      <td>...</td>\n",
       "      <td>...</td>\n",
       "      <td>...</td>\n",
       "      <td>...</td>\n",
       "      <td>...</td>\n",
       "      <td>...</td>\n",
       "    </tr>\n",
       "    <tr>\n",
       "      <th>448</th>\n",
       "      <td>NaN</td>\n",
       "      <td>NaN</td>\n",
       "      <td>NaN</td>\n",
       "      <td>NaN</td>\n",
       "      <td>NaN</td>\n",
       "      <td>NaN</td>\n",
       "      <td>NaN</td>\n",
       "      <td>NaN</td>\n",
       "      <td>NaN</td>\n",
       "      <td>NaN</td>\n",
       "      <td>...</td>\n",
       "      <td>1980-07-21</td>\n",
       "      <td>39.0</td>\n",
       "      <td>2.87</td>\n",
       "      <td>42.0</td>\n",
       "      <td>2.87</td>\n",
       "      <td>52.0</td>\n",
       "      <td>1.14</td>\n",
       "      <td>41.0</td>\n",
       "      <td>53.0</td>\n",
       "      <td>0.8</td>\n",
       "    </tr>\n",
       "    <tr>\n",
       "      <th>450</th>\n",
       "      <td>NaN</td>\n",
       "      <td>NaN</td>\n",
       "      <td>NaN</td>\n",
       "      <td>NaN</td>\n",
       "      <td>NaN</td>\n",
       "      <td>NaN</td>\n",
       "      <td>NaN</td>\n",
       "      <td>NaN</td>\n",
       "      <td>NaN</td>\n",
       "      <td>NaN</td>\n",
       "      <td>...</td>\n",
       "      <td>1973-05-07</td>\n",
       "      <td>46.0</td>\n",
       "      <td>2.45</td>\n",
       "      <td>44.0</td>\n",
       "      <td>6.70</td>\n",
       "      <td>49.0</td>\n",
       "      <td>0.00</td>\n",
       "      <td>0.0</td>\n",
       "      <td>75.0</td>\n",
       "      <td>0.0</td>\n",
       "    </tr>\n",
       "    <tr>\n",
       "      <th>451</th>\n",
       "      <td>NaN</td>\n",
       "      <td>NaN</td>\n",
       "      <td>NaN</td>\n",
       "      <td>NaN</td>\n",
       "      <td>NaN</td>\n",
       "      <td>NaN</td>\n",
       "      <td>NaN</td>\n",
       "      <td>NaN</td>\n",
       "      <td>NaN</td>\n",
       "      <td>NaN</td>\n",
       "      <td>...</td>\n",
       "      <td>1979-06-19</td>\n",
       "      <td>40.0</td>\n",
       "      <td>2.36</td>\n",
       "      <td>37.0</td>\n",
       "      <td>2.29</td>\n",
       "      <td>54.0</td>\n",
       "      <td>1.06</td>\n",
       "      <td>50.0</td>\n",
       "      <td>61.0</td>\n",
       "      <td>0.6</td>\n",
       "    </tr>\n",
       "    <tr>\n",
       "      <th>452</th>\n",
       "      <td>NaN</td>\n",
       "      <td>NaN</td>\n",
       "      <td>NaN</td>\n",
       "      <td>NaN</td>\n",
       "      <td>NaN</td>\n",
       "      <td>NaN</td>\n",
       "      <td>NaN</td>\n",
       "      <td>NaN</td>\n",
       "      <td>NaN</td>\n",
       "      <td>NaN</td>\n",
       "      <td>...</td>\n",
       "      <td>1977-09-20</td>\n",
       "      <td>42.0</td>\n",
       "      <td>2.39</td>\n",
       "      <td>38.0</td>\n",
       "      <td>2.37</td>\n",
       "      <td>57.0</td>\n",
       "      <td>2.64</td>\n",
       "      <td>42.0</td>\n",
       "      <td>86.0</td>\n",
       "      <td>1.1</td>\n",
       "    </tr>\n",
       "    <tr>\n",
       "      <th>453</th>\n",
       "      <td>NaN</td>\n",
       "      <td>NaN</td>\n",
       "      <td>NaN</td>\n",
       "      <td>NaN</td>\n",
       "      <td>NaN</td>\n",
       "      <td>NaN</td>\n",
       "      <td>NaN</td>\n",
       "      <td>NaN</td>\n",
       "      <td>NaN</td>\n",
       "      <td>NaN</td>\n",
       "      <td>...</td>\n",
       "      <td>1969-12-17</td>\n",
       "      <td>50.0</td>\n",
       "      <td>2.97</td>\n",
       "      <td>35.0</td>\n",
       "      <td>2.71</td>\n",
       "      <td>56.0</td>\n",
       "      <td>0.44</td>\n",
       "      <td>75.0</td>\n",
       "      <td>81.0</td>\n",
       "      <td>0.0</td>\n",
       "    </tr>\n",
       "    <tr>\n",
       "      <th>454</th>\n",
       "      <td>NaN</td>\n",
       "      <td>NaN</td>\n",
       "      <td>NaN</td>\n",
       "      <td>NaN</td>\n",
       "      <td>NaN</td>\n",
       "      <td>NaN</td>\n",
       "      <td>NaN</td>\n",
       "      <td>NaN</td>\n",
       "      <td>NaN</td>\n",
       "      <td>NaN</td>\n",
       "      <td>...</td>\n",
       "      <td>1975-09-07</td>\n",
       "      <td>44.0</td>\n",
       "      <td>2.23</td>\n",
       "      <td>45.0</td>\n",
       "      <td>1.53</td>\n",
       "      <td>57.0</td>\n",
       "      <td>2.48</td>\n",
       "      <td>42.0</td>\n",
       "      <td>65.0</td>\n",
       "      <td>2.6</td>\n",
       "    </tr>\n",
       "    <tr>\n",
       "      <th>455</th>\n",
       "      <td>NaN</td>\n",
       "      <td>NaN</td>\n",
       "      <td>NaN</td>\n",
       "      <td>NaN</td>\n",
       "      <td>NaN</td>\n",
       "      <td>NaN</td>\n",
       "      <td>NaN</td>\n",
       "      <td>NaN</td>\n",
       "      <td>NaN</td>\n",
       "      <td>NaN</td>\n",
       "      <td>...</td>\n",
       "      <td>1972-05-07</td>\n",
       "      <td>47.0</td>\n",
       "      <td>2.79</td>\n",
       "      <td>46.0</td>\n",
       "      <td>1.90</td>\n",
       "      <td>56.0</td>\n",
       "      <td>2.35</td>\n",
       "      <td>47.0</td>\n",
       "      <td>75.0</td>\n",
       "      <td>0.8</td>\n",
       "    </tr>\n",
       "    <tr>\n",
       "      <th>458</th>\n",
       "      <td>NaN</td>\n",
       "      <td>NaN</td>\n",
       "      <td>NaN</td>\n",
       "      <td>NaN</td>\n",
       "      <td>NaN</td>\n",
       "      <td>NaN</td>\n",
       "      <td>NaN</td>\n",
       "      <td>NaN</td>\n",
       "      <td>NaN</td>\n",
       "      <td>NaN</td>\n",
       "      <td>...</td>\n",
       "      <td>1982-09-23</td>\n",
       "      <td>37.0</td>\n",
       "      <td>2.41</td>\n",
       "      <td>51.0</td>\n",
       "      <td>1.69</td>\n",
       "      <td>57.0</td>\n",
       "      <td>2.45</td>\n",
       "      <td>55.0</td>\n",
       "      <td>62.0</td>\n",
       "      <td>0.6</td>\n",
       "    </tr>\n",
       "    <tr>\n",
       "      <th>460</th>\n",
       "      <td>NaN</td>\n",
       "      <td>NaN</td>\n",
       "      <td>NaN</td>\n",
       "      <td>NaN</td>\n",
       "      <td>NaN</td>\n",
       "      <td>NaN</td>\n",
       "      <td>NaN</td>\n",
       "      <td>NaN</td>\n",
       "      <td>NaN</td>\n",
       "      <td>NaN</td>\n",
       "      <td>...</td>\n",
       "      <td>1965-06-20</td>\n",
       "      <td>54.0</td>\n",
       "      <td>1.52</td>\n",
       "      <td>41.0</td>\n",
       "      <td>1.91</td>\n",
       "      <td>41.0</td>\n",
       "      <td>1.06</td>\n",
       "      <td>14.0</td>\n",
       "      <td>37.0</td>\n",
       "      <td>0.0</td>\n",
       "    </tr>\n",
       "    <tr>\n",
       "      <th>461</th>\n",
       "      <td>NaN</td>\n",
       "      <td>NaN</td>\n",
       "      <td>NaN</td>\n",
       "      <td>NaN</td>\n",
       "      <td>NaN</td>\n",
       "      <td>NaN</td>\n",
       "      <td>NaN</td>\n",
       "      <td>NaN</td>\n",
       "      <td>NaN</td>\n",
       "      <td>NaN</td>\n",
       "      <td>...</td>\n",
       "      <td>1978-06-28</td>\n",
       "      <td>41.0</td>\n",
       "      <td>1.78</td>\n",
       "      <td>30.0</td>\n",
       "      <td>6.56</td>\n",
       "      <td>47.0</td>\n",
       "      <td>0.00</td>\n",
       "      <td>0.0</td>\n",
       "      <td>0.0</td>\n",
       "      <td>0.0</td>\n",
       "    </tr>\n",
       "    <tr>\n",
       "      <th>466</th>\n",
       "      <td>NaN</td>\n",
       "      <td>NaN</td>\n",
       "      <td>NaN</td>\n",
       "      <td>NaN</td>\n",
       "      <td>NaN</td>\n",
       "      <td>NaN</td>\n",
       "      <td>NaN</td>\n",
       "      <td>NaN</td>\n",
       "      <td>NaN</td>\n",
       "      <td>NaN</td>\n",
       "      <td>...</td>\n",
       "      <td>1972-03-18</td>\n",
       "      <td>47.0</td>\n",
       "      <td>4.96</td>\n",
       "      <td>44.0</td>\n",
       "      <td>2.80</td>\n",
       "      <td>66.0</td>\n",
       "      <td>0.25</td>\n",
       "      <td>33.0</td>\n",
       "      <td>60.0</td>\n",
       "      <td>0.0</td>\n",
       "    </tr>\n",
       "    <tr>\n",
       "      <th>471</th>\n",
       "      <td>NaN</td>\n",
       "      <td>NaN</td>\n",
       "      <td>NaN</td>\n",
       "      <td>NaN</td>\n",
       "      <td>NaN</td>\n",
       "      <td>NaN</td>\n",
       "      <td>NaN</td>\n",
       "      <td>NaN</td>\n",
       "      <td>NaN</td>\n",
       "      <td>NaN</td>\n",
       "      <td>...</td>\n",
       "      <td>1980-06-28</td>\n",
       "      <td>39.0</td>\n",
       "      <td>1.07</td>\n",
       "      <td>25.0</td>\n",
       "      <td>2.25</td>\n",
       "      <td>57.0</td>\n",
       "      <td>1.12</td>\n",
       "      <td>38.0</td>\n",
       "      <td>29.0</td>\n",
       "      <td>1.3</td>\n",
       "    </tr>\n",
       "    <tr>\n",
       "      <th>505</th>\n",
       "      <td>NaN</td>\n",
       "      <td>NaN</td>\n",
       "      <td>NaN</td>\n",
       "      <td>NaN</td>\n",
       "      <td>NaN</td>\n",
       "      <td>NaN</td>\n",
       "      <td>NaN</td>\n",
       "      <td>NaN</td>\n",
       "      <td>NaN</td>\n",
       "      <td>NaN</td>\n",
       "      <td>...</td>\n",
       "      <td>1970-12-31</td>\n",
       "      <td>49.0</td>\n",
       "      <td>2.00</td>\n",
       "      <td>40.0</td>\n",
       "      <td>1.91</td>\n",
       "      <td>55.0</td>\n",
       "      <td>0.00</td>\n",
       "      <td>0.0</td>\n",
       "      <td>77.0</td>\n",
       "      <td>0.6</td>\n",
       "    </tr>\n",
       "    <tr>\n",
       "      <th>508</th>\n",
       "      <td>NaN</td>\n",
       "      <td>NaN</td>\n",
       "      <td>NaN</td>\n",
       "      <td>NaN</td>\n",
       "      <td>NaN</td>\n",
       "      <td>NaN</td>\n",
       "      <td>NaN</td>\n",
       "      <td>NaN</td>\n",
       "      <td>NaN</td>\n",
       "      <td>NaN</td>\n",
       "      <td>...</td>\n",
       "      <td>1975-08-25</td>\n",
       "      <td>44.0</td>\n",
       "      <td>1.19</td>\n",
       "      <td>39.0</td>\n",
       "      <td>1.99</td>\n",
       "      <td>55.0</td>\n",
       "      <td>1.83</td>\n",
       "      <td>38.0</td>\n",
       "      <td>29.0</td>\n",
       "      <td>1.1</td>\n",
       "    </tr>\n",
       "    <tr>\n",
       "      <th>595</th>\n",
       "      <td>NaN</td>\n",
       "      <td>NaN</td>\n",
       "      <td>NaN</td>\n",
       "      <td>NaN</td>\n",
       "      <td>NaN</td>\n",
       "      <td>NaN</td>\n",
       "      <td>NaN</td>\n",
       "      <td>NaN</td>\n",
       "      <td>NaN</td>\n",
       "      <td>NaN</td>\n",
       "      <td>...</td>\n",
       "      <td>1982-04-17</td>\n",
       "      <td>37.0</td>\n",
       "      <td>3.22</td>\n",
       "      <td>42.0</td>\n",
       "      <td>3.28</td>\n",
       "      <td>62.0</td>\n",
       "      <td>1.86</td>\n",
       "      <td>41.0</td>\n",
       "      <td>78.0</td>\n",
       "      <td>2.0</td>\n",
       "    </tr>\n",
       "    <tr>\n",
       "      <th>703</th>\n",
       "      <td>NaN</td>\n",
       "      <td>NaN</td>\n",
       "      <td>NaN</td>\n",
       "      <td>NaN</td>\n",
       "      <td>NaN</td>\n",
       "      <td>NaN</td>\n",
       "      <td>NaN</td>\n",
       "      <td>NaN</td>\n",
       "      <td>NaN</td>\n",
       "      <td>NaN</td>\n",
       "      <td>...</td>\n",
       "      <td>1978-06-02</td>\n",
       "      <td>41.0</td>\n",
       "      <td>1.46</td>\n",
       "      <td>46.0</td>\n",
       "      <td>1.82</td>\n",
       "      <td>62.0</td>\n",
       "      <td>3.05</td>\n",
       "      <td>42.0</td>\n",
       "      <td>83.0</td>\n",
       "      <td>1.4</td>\n",
       "    </tr>\n",
       "    <tr>\n",
       "      <th>1003</th>\n",
       "      <td>NaN</td>\n",
       "      <td>NaN</td>\n",
       "      <td>NaN</td>\n",
       "      <td>NaN</td>\n",
       "      <td>NaN</td>\n",
       "      <td>NaN</td>\n",
       "      <td>NaN</td>\n",
       "      <td>NaN</td>\n",
       "      <td>NaN</td>\n",
       "      <td>NaN</td>\n",
       "      <td>...</td>\n",
       "      <td>1984-10-26</td>\n",
       "      <td>35.0</td>\n",
       "      <td>3.71</td>\n",
       "      <td>44.0</td>\n",
       "      <td>3.18</td>\n",
       "      <td>64.0</td>\n",
       "      <td>2.11</td>\n",
       "      <td>40.0</td>\n",
       "      <td>64.0</td>\n",
       "      <td>0.7</td>\n",
       "    </tr>\n",
       "    <tr>\n",
       "      <th>1036</th>\n",
       "      <td>NaN</td>\n",
       "      <td>NaN</td>\n",
       "      <td>NaN</td>\n",
       "      <td>NaN</td>\n",
       "      <td>NaN</td>\n",
       "      <td>NaN</td>\n",
       "      <td>NaN</td>\n",
       "      <td>NaN</td>\n",
       "      <td>NaN</td>\n",
       "      <td>NaN</td>\n",
       "      <td>...</td>\n",
       "      <td>1974-10-05</td>\n",
       "      <td>45.0</td>\n",
       "      <td>4.10</td>\n",
       "      <td>44.0</td>\n",
       "      <td>2.07</td>\n",
       "      <td>62.0</td>\n",
       "      <td>1.31</td>\n",
       "      <td>66.0</td>\n",
       "      <td>63.0</td>\n",
       "      <td>0.7</td>\n",
       "    </tr>\n",
       "    <tr>\n",
       "      <th>1040</th>\n",
       "      <td>NaN</td>\n",
       "      <td>NaN</td>\n",
       "      <td>NaN</td>\n",
       "      <td>NaN</td>\n",
       "      <td>NaN</td>\n",
       "      <td>NaN</td>\n",
       "      <td>NaN</td>\n",
       "      <td>NaN</td>\n",
       "      <td>NaN</td>\n",
       "      <td>NaN</td>\n",
       "      <td>...</td>\n",
       "      <td>1974-08-18</td>\n",
       "      <td>45.0</td>\n",
       "      <td>3.76</td>\n",
       "      <td>45.0</td>\n",
       "      <td>3.03</td>\n",
       "      <td>58.0</td>\n",
       "      <td>0.70</td>\n",
       "      <td>55.0</td>\n",
       "      <td>55.0</td>\n",
       "      <td>2.4</td>\n",
       "    </tr>\n",
       "    <tr>\n",
       "      <th>1068</th>\n",
       "      <td>NaN</td>\n",
       "      <td>NaN</td>\n",
       "      <td>NaN</td>\n",
       "      <td>NaN</td>\n",
       "      <td>NaN</td>\n",
       "      <td>NaN</td>\n",
       "      <td>NaN</td>\n",
       "      <td>NaN</td>\n",
       "      <td>NaN</td>\n",
       "      <td>NaN</td>\n",
       "      <td>...</td>\n",
       "      <td>1977-11-30</td>\n",
       "      <td>42.0</td>\n",
       "      <td>1.79</td>\n",
       "      <td>36.0</td>\n",
       "      <td>2.27</td>\n",
       "      <td>63.0</td>\n",
       "      <td>2.46</td>\n",
       "      <td>48.0</td>\n",
       "      <td>64.0</td>\n",
       "      <td>0.4</td>\n",
       "    </tr>\n",
       "    <tr>\n",
       "      <th>1096</th>\n",
       "      <td>NaN</td>\n",
       "      <td>NaN</td>\n",
       "      <td>NaN</td>\n",
       "      <td>NaN</td>\n",
       "      <td>NaN</td>\n",
       "      <td>NaN</td>\n",
       "      <td>NaN</td>\n",
       "      <td>NaN</td>\n",
       "      <td>NaN</td>\n",
       "      <td>NaN</td>\n",
       "      <td>...</td>\n",
       "      <td>1981-04-24</td>\n",
       "      <td>38.0</td>\n",
       "      <td>4.79</td>\n",
       "      <td>41.0</td>\n",
       "      <td>5.00</td>\n",
       "      <td>60.0</td>\n",
       "      <td>0.56</td>\n",
       "      <td>28.0</td>\n",
       "      <td>100.0</td>\n",
       "      <td>0.3</td>\n",
       "    </tr>\n",
       "    <tr>\n",
       "      <th>1258</th>\n",
       "      <td>NaN</td>\n",
       "      <td>NaN</td>\n",
       "      <td>NaN</td>\n",
       "      <td>NaN</td>\n",
       "      <td>NaN</td>\n",
       "      <td>NaN</td>\n",
       "      <td>NaN</td>\n",
       "      <td>NaN</td>\n",
       "      <td>NaN</td>\n",
       "      <td>NaN</td>\n",
       "      <td>...</td>\n",
       "      <td>1980-08-27</td>\n",
       "      <td>39.0</td>\n",
       "      <td>4.71</td>\n",
       "      <td>46.0</td>\n",
       "      <td>3.55</td>\n",
       "      <td>60.0</td>\n",
       "      <td>0.57</td>\n",
       "      <td>27.0</td>\n",
       "      <td>60.0</td>\n",
       "      <td>0.3</td>\n",
       "    </tr>\n",
       "    <tr>\n",
       "      <th>1287</th>\n",
       "      <td>NaN</td>\n",
       "      <td>NaN</td>\n",
       "      <td>NaN</td>\n",
       "      <td>NaN</td>\n",
       "      <td>NaN</td>\n",
       "      <td>NaN</td>\n",
       "      <td>NaN</td>\n",
       "      <td>NaN</td>\n",
       "      <td>NaN</td>\n",
       "      <td>NaN</td>\n",
       "      <td>...</td>\n",
       "      <td>1974-01-16</td>\n",
       "      <td>45.0</td>\n",
       "      <td>3.29</td>\n",
       "      <td>45.0</td>\n",
       "      <td>3.83</td>\n",
       "      <td>52.0</td>\n",
       "      <td>0.19</td>\n",
       "      <td>33.0</td>\n",
       "      <td>39.0</td>\n",
       "      <td>0.4</td>\n",
       "    </tr>\n",
       "    <tr>\n",
       "      <th>1290</th>\n",
       "      <td>NaN</td>\n",
       "      <td>NaN</td>\n",
       "      <td>NaN</td>\n",
       "      <td>NaN</td>\n",
       "      <td>NaN</td>\n",
       "      <td>NaN</td>\n",
       "      <td>NaN</td>\n",
       "      <td>NaN</td>\n",
       "      <td>NaN</td>\n",
       "      <td>NaN</td>\n",
       "      <td>...</td>\n",
       "      <td>1980-07-07</td>\n",
       "      <td>39.0</td>\n",
       "      <td>1.93</td>\n",
       "      <td>27.0</td>\n",
       "      <td>2.39</td>\n",
       "      <td>67.0</td>\n",
       "      <td>0.47</td>\n",
       "      <td>33.0</td>\n",
       "      <td>79.0</td>\n",
       "      <td>0.9</td>\n",
       "    </tr>\n",
       "    <tr>\n",
       "      <th>1297</th>\n",
       "      <td>NaN</td>\n",
       "      <td>NaN</td>\n",
       "      <td>NaN</td>\n",
       "      <td>NaN</td>\n",
       "      <td>NaN</td>\n",
       "      <td>NaN</td>\n",
       "      <td>NaN</td>\n",
       "      <td>NaN</td>\n",
       "      <td>NaN</td>\n",
       "      <td>NaN</td>\n",
       "      <td>...</td>\n",
       "      <td>1975-01-04</td>\n",
       "      <td>44.0</td>\n",
       "      <td>4.38</td>\n",
       "      <td>47.0</td>\n",
       "      <td>3.53</td>\n",
       "      <td>53.0</td>\n",
       "      <td>1.42</td>\n",
       "      <td>33.0</td>\n",
       "      <td>42.0</td>\n",
       "      <td>0.0</td>\n",
       "    </tr>\n",
       "    <tr>\n",
       "      <th>1308</th>\n",
       "      <td>NaN</td>\n",
       "      <td>NaN</td>\n",
       "      <td>NaN</td>\n",
       "      <td>NaN</td>\n",
       "      <td>NaN</td>\n",
       "      <td>NaN</td>\n",
       "      <td>NaN</td>\n",
       "      <td>NaN</td>\n",
       "      <td>NaN</td>\n",
       "      <td>NaN</td>\n",
       "      <td>...</td>\n",
       "      <td>1972-03-18</td>\n",
       "      <td>47.0</td>\n",
       "      <td>4.96</td>\n",
       "      <td>44.0</td>\n",
       "      <td>2.80</td>\n",
       "      <td>66.0</td>\n",
       "      <td>0.25</td>\n",
       "      <td>33.0</td>\n",
       "      <td>60.0</td>\n",
       "      <td>0.0</td>\n",
       "    </tr>\n",
       "    <tr>\n",
       "      <th>1625</th>\n",
       "      <td>NaN</td>\n",
       "      <td>NaN</td>\n",
       "      <td>NaN</td>\n",
       "      <td>NaN</td>\n",
       "      <td>NaN</td>\n",
       "      <td>NaN</td>\n",
       "      <td>NaN</td>\n",
       "      <td>NaN</td>\n",
       "      <td>NaN</td>\n",
       "      <td>NaN</td>\n",
       "      <td>...</td>\n",
       "      <td>1985-03-09</td>\n",
       "      <td>34.0</td>\n",
       "      <td>3.53</td>\n",
       "      <td>31.0</td>\n",
       "      <td>2.15</td>\n",
       "      <td>74.0</td>\n",
       "      <td>3.17</td>\n",
       "      <td>50.0</td>\n",
       "      <td>83.0</td>\n",
       "      <td>0.1</td>\n",
       "    </tr>\n",
       "    <tr>\n",
       "      <th>1701</th>\n",
       "      <td>NaN</td>\n",
       "      <td>NaN</td>\n",
       "      <td>NaN</td>\n",
       "      <td>NaN</td>\n",
       "      <td>NaN</td>\n",
       "      <td>NaN</td>\n",
       "      <td>NaN</td>\n",
       "      <td>NaN</td>\n",
       "      <td>NaN</td>\n",
       "      <td>NaN</td>\n",
       "      <td>...</td>\n",
       "      <td>1983-03-24</td>\n",
       "      <td>36.0</td>\n",
       "      <td>3.29</td>\n",
       "      <td>46.0</td>\n",
       "      <td>3.63</td>\n",
       "      <td>58.0</td>\n",
       "      <td>1.09</td>\n",
       "      <td>34.0</td>\n",
       "      <td>46.0</td>\n",
       "      <td>1.3</td>\n",
       "    </tr>\n",
       "    <tr>\n",
       "      <th>3783</th>\n",
       "      <td>NaN</td>\n",
       "      <td>NaN</td>\n",
       "      <td>NaN</td>\n",
       "      <td>NaN</td>\n",
       "      <td>NaN</td>\n",
       "      <td>NaN</td>\n",
       "      <td>NaN</td>\n",
       "      <td>NaN</td>\n",
       "      <td>NaN</td>\n",
       "      <td>NaN</td>\n",
       "      <td>...</td>\n",
       "      <td>1984-01-07</td>\n",
       "      <td>35.0</td>\n",
       "      <td>4.89</td>\n",
       "      <td>50.0</td>\n",
       "      <td>2.04</td>\n",
       "      <td>62.0</td>\n",
       "      <td>0.87</td>\n",
       "      <td>37.0</td>\n",
       "      <td>65.0</td>\n",
       "      <td>0.1</td>\n",
       "    </tr>\n",
       "    <tr>\n",
       "      <th>4508</th>\n",
       "      <td>NaN</td>\n",
       "      <td>NaN</td>\n",
       "      <td>NaN</td>\n",
       "      <td>NaN</td>\n",
       "      <td>NaN</td>\n",
       "      <td>NaN</td>\n",
       "      <td>NaN</td>\n",
       "      <td>NaN</td>\n",
       "      <td>NaN</td>\n",
       "      <td>NaN</td>\n",
       "      <td>...</td>\n",
       "      <td>1991-01-10</td>\n",
       "      <td>28.0</td>\n",
       "      <td>3.78</td>\n",
       "      <td>34.0</td>\n",
       "      <td>2.22</td>\n",
       "      <td>58.0</td>\n",
       "      <td>7.33</td>\n",
       "      <td>41.0</td>\n",
       "      <td>80.0</td>\n",
       "      <td>0.0</td>\n",
       "    </tr>\n",
       "  </tbody>\n",
       "</table>\n",
       "<p>226 rows × 46 columns</p>\n",
       "</div>"
      ],
      "text/plain": [
       "     date location fighter1 fighter2  winner_is_fighter1  title_fight  \\\n",
       "206   NaN      NaN      NaN      NaN                 NaN          NaN   \n",
       "207   NaN      NaN      NaN      NaN                 NaN          NaN   \n",
       "209   NaN      NaN      NaN      NaN                 NaN          NaN   \n",
       "210   NaN      NaN      NaN      NaN                 NaN          NaN   \n",
       "211   NaN      NaN      NaN      NaN                 NaN          NaN   \n",
       "212   NaN      NaN      NaN      NaN                 NaN          NaN   \n",
       "213   NaN      NaN      NaN      NaN                 NaN          NaN   \n",
       "214   NaN      NaN      NaN      NaN                 NaN          NaN   \n",
       "215   NaN      NaN      NaN      NaN                 NaN          NaN   \n",
       "216   NaN      NaN      NaN      NaN                 NaN          NaN   \n",
       "217   NaN      NaN      NaN      NaN                 NaN          NaN   \n",
       "218   NaN      NaN      NaN      NaN                 NaN          NaN   \n",
       "219   NaN      NaN      NaN      NaN                 NaN          NaN   \n",
       "220   NaN      NaN      NaN      NaN                 NaN          NaN   \n",
       "221   NaN      NaN      NaN      NaN                 NaN          NaN   \n",
       "222   NaN      NaN      NaN      NaN                 NaN          NaN   \n",
       "223   NaN      NaN      NaN      NaN                 NaN          NaN   \n",
       "224   NaN      NaN      NaN      NaN                 NaN          NaN   \n",
       "225   NaN      NaN      NaN      NaN                 NaN          NaN   \n",
       "226   NaN      NaN      NaN      NaN                 NaN          NaN   \n",
       "227   NaN      NaN      NaN      NaN                 NaN          NaN   \n",
       "228   NaN      NaN      NaN      NaN                 NaN          NaN   \n",
       "229   NaN      NaN      NaN      NaN                 NaN          NaN   \n",
       "230   NaN      NaN      NaN      NaN                 NaN          NaN   \n",
       "232   NaN      NaN      NaN      NaN                 NaN          NaN   \n",
       "233   NaN      NaN      NaN      NaN                 NaN          NaN   \n",
       "234   NaN      NaN      NaN      NaN                 NaN          NaN   \n",
       "235   NaN      NaN      NaN      NaN                 NaN          NaN   \n",
       "236   NaN      NaN      NaN      NaN                 NaN          NaN   \n",
       "237   NaN      NaN      NaN      NaN                 NaN          NaN   \n",
       "...   ...      ...      ...      ...                 ...          ...   \n",
       "448   NaN      NaN      NaN      NaN                 NaN          NaN   \n",
       "450   NaN      NaN      NaN      NaN                 NaN          NaN   \n",
       "451   NaN      NaN      NaN      NaN                 NaN          NaN   \n",
       "452   NaN      NaN      NaN      NaN                 NaN          NaN   \n",
       "453   NaN      NaN      NaN      NaN                 NaN          NaN   \n",
       "454   NaN      NaN      NaN      NaN                 NaN          NaN   \n",
       "455   NaN      NaN      NaN      NaN                 NaN          NaN   \n",
       "458   NaN      NaN      NaN      NaN                 NaN          NaN   \n",
       "460   NaN      NaN      NaN      NaN                 NaN          NaN   \n",
       "461   NaN      NaN      NaN      NaN                 NaN          NaN   \n",
       "466   NaN      NaN      NaN      NaN                 NaN          NaN   \n",
       "471   NaN      NaN      NaN      NaN                 NaN          NaN   \n",
       "505   NaN      NaN      NaN      NaN                 NaN          NaN   \n",
       "508   NaN      NaN      NaN      NaN                 NaN          NaN   \n",
       "595   NaN      NaN      NaN      NaN                 NaN          NaN   \n",
       "703   NaN      NaN      NaN      NaN                 NaN          NaN   \n",
       "1003  NaN      NaN      NaN      NaN                 NaN          NaN   \n",
       "1036  NaN      NaN      NaN      NaN                 NaN          NaN   \n",
       "1040  NaN      NaN      NaN      NaN                 NaN          NaN   \n",
       "1068  NaN      NaN      NaN      NaN                 NaN          NaN   \n",
       "1096  NaN      NaN      NaN      NaN                 NaN          NaN   \n",
       "1258  NaN      NaN      NaN      NaN                 NaN          NaN   \n",
       "1287  NaN      NaN      NaN      NaN                 NaN          NaN   \n",
       "1290  NaN      NaN      NaN      NaN                 NaN          NaN   \n",
       "1297  NaN      NaN      NaN      NaN                 NaN          NaN   \n",
       "1308  NaN      NaN      NaN      NaN                 NaN          NaN   \n",
       "1625  NaN      NaN      NaN      NaN                 NaN          NaN   \n",
       "1701  NaN      NaN      NaN      NaN                 NaN          NaN   \n",
       "3783  NaN      NaN      NaN      NaN                 NaN          NaN   \n",
       "4508  NaN      NaN      NaN      NaN                 NaN          NaN   \n",
       "\n",
       "      method_DEC  method_DQ  method_KO/TKO  method_SUB        ...         \\\n",
       "206          NaN        NaN            NaN         NaN        ...          \n",
       "207          NaN        NaN            NaN         NaN        ...          \n",
       "209          NaN        NaN            NaN         NaN        ...          \n",
       "210          NaN        NaN            NaN         NaN        ...          \n",
       "211          NaN        NaN            NaN         NaN        ...          \n",
       "212          NaN        NaN            NaN         NaN        ...          \n",
       "213          NaN        NaN            NaN         NaN        ...          \n",
       "214          NaN        NaN            NaN         NaN        ...          \n",
       "215          NaN        NaN            NaN         NaN        ...          \n",
       "216          NaN        NaN            NaN         NaN        ...          \n",
       "217          NaN        NaN            NaN         NaN        ...          \n",
       "218          NaN        NaN            NaN         NaN        ...          \n",
       "219          NaN        NaN            NaN         NaN        ...          \n",
       "220          NaN        NaN            NaN         NaN        ...          \n",
       "221          NaN        NaN            NaN         NaN        ...          \n",
       "222          NaN        NaN            NaN         NaN        ...          \n",
       "223          NaN        NaN            NaN         NaN        ...          \n",
       "224          NaN        NaN            NaN         NaN        ...          \n",
       "225          NaN        NaN            NaN         NaN        ...          \n",
       "226          NaN        NaN            NaN         NaN        ...          \n",
       "227          NaN        NaN            NaN         NaN        ...          \n",
       "228          NaN        NaN            NaN         NaN        ...          \n",
       "229          NaN        NaN            NaN         NaN        ...          \n",
       "230          NaN        NaN            NaN         NaN        ...          \n",
       "232          NaN        NaN            NaN         NaN        ...          \n",
       "233          NaN        NaN            NaN         NaN        ...          \n",
       "234          NaN        NaN            NaN         NaN        ...          \n",
       "235          NaN        NaN            NaN         NaN        ...          \n",
       "236          NaN        NaN            NaN         NaN        ...          \n",
       "237          NaN        NaN            NaN         NaN        ...          \n",
       "...          ...        ...            ...         ...        ...          \n",
       "448          NaN        NaN            NaN         NaN        ...          \n",
       "450          NaN        NaN            NaN         NaN        ...          \n",
       "451          NaN        NaN            NaN         NaN        ...          \n",
       "452          NaN        NaN            NaN         NaN        ...          \n",
       "453          NaN        NaN            NaN         NaN        ...          \n",
       "454          NaN        NaN            NaN         NaN        ...          \n",
       "455          NaN        NaN            NaN         NaN        ...          \n",
       "458          NaN        NaN            NaN         NaN        ...          \n",
       "460          NaN        NaN            NaN         NaN        ...          \n",
       "461          NaN        NaN            NaN         NaN        ...          \n",
       "466          NaN        NaN            NaN         NaN        ...          \n",
       "471          NaN        NaN            NaN         NaN        ...          \n",
       "505          NaN        NaN            NaN         NaN        ...          \n",
       "508          NaN        NaN            NaN         NaN        ...          \n",
       "595          NaN        NaN            NaN         NaN        ...          \n",
       "703          NaN        NaN            NaN         NaN        ...          \n",
       "1003         NaN        NaN            NaN         NaN        ...          \n",
       "1036         NaN        NaN            NaN         NaN        ...          \n",
       "1040         NaN        NaN            NaN         NaN        ...          \n",
       "1068         NaN        NaN            NaN         NaN        ...          \n",
       "1096         NaN        NaN            NaN         NaN        ...          \n",
       "1258         NaN        NaN            NaN         NaN        ...          \n",
       "1287         NaN        NaN            NaN         NaN        ...          \n",
       "1290         NaN        NaN            NaN         NaN        ...          \n",
       "1297         NaN        NaN            NaN         NaN        ...          \n",
       "1308         NaN        NaN            NaN         NaN        ...          \n",
       "1625         NaN        NaN            NaN         NaN        ...          \n",
       "1701         NaN        NaN            NaN         NaN        ...          \n",
       "3783         NaN        NaN            NaN         NaN        ...          \n",
       "4508         NaN        NaN            NaN         NaN        ...          \n",
       "\n",
       "      fighter2_dob  fighter2_age_today  fighter2_slpm  fighter2_str_acc  \\\n",
       "206     1964-02-11                55.0           1.47              46.0   \n",
       "207     1966-12-12                53.0           0.88              41.0   \n",
       "209     1968-01-05                51.0           0.76              83.0   \n",
       "210     1965-11-23                54.0           2.87              64.0   \n",
       "211     1964-12-20                55.0           1.88              52.0   \n",
       "212     1965-11-23                54.0           2.87              64.0   \n",
       "213     1966-01-17                53.0           1.84              56.0   \n",
       "214     1965-02-07                54.0           1.83              35.0   \n",
       "215     1968-02-23                51.0           0.92              31.0   \n",
       "216     1977-04-01                42.0           1.59              46.0   \n",
       "217     1968-01-01                51.0           2.30              32.0   \n",
       "218     1961-12-13                58.0           0.41              46.0   \n",
       "219     1968-12-21                51.0           0.28              41.0   \n",
       "220     1961-12-13                58.0           0.41              46.0   \n",
       "221     1977-04-01                42.0           1.59              46.0   \n",
       "222     1963-06-22                56.0           2.85              57.0   \n",
       "223     1968-01-05                51.0           0.76              83.0   \n",
       "224     1971-10-12                48.0           0.60              40.0   \n",
       "225     1972-12-08                47.0           4.75              53.0   \n",
       "226     1975-07-10                44.0           0.61              62.0   \n",
       "227     1976-08-17                43.0           0.65              41.0   \n",
       "228     1978-09-22                41.0           3.81              41.0   \n",
       "229     1971-04-20                48.0           0.64              52.0   \n",
       "230     1977-04-01                42.0           1.59              46.0   \n",
       "232     1975-07-10                44.0           0.61              62.0   \n",
       "233     1975-08-25                44.0           1.19              39.0   \n",
       "234     1965-02-24                54.0           5.59              61.0   \n",
       "235     1968-03-09                51.0           1.79              45.0   \n",
       "236     1964-12-20                55.0           1.88              52.0   \n",
       "237     1975-01-23                44.0           2.59              46.0   \n",
       "...            ...                 ...            ...               ...   \n",
       "448     1980-07-21                39.0           2.87              42.0   \n",
       "450     1973-05-07                46.0           2.45              44.0   \n",
       "451     1979-06-19                40.0           2.36              37.0   \n",
       "452     1977-09-20                42.0           2.39              38.0   \n",
       "453     1969-12-17                50.0           2.97              35.0   \n",
       "454     1975-09-07                44.0           2.23              45.0   \n",
       "455     1972-05-07                47.0           2.79              46.0   \n",
       "458     1982-09-23                37.0           2.41              51.0   \n",
       "460     1965-06-20                54.0           1.52              41.0   \n",
       "461     1978-06-28                41.0           1.78              30.0   \n",
       "466     1972-03-18                47.0           4.96              44.0   \n",
       "471     1980-06-28                39.0           1.07              25.0   \n",
       "505     1970-12-31                49.0           2.00              40.0   \n",
       "508     1975-08-25                44.0           1.19              39.0   \n",
       "595     1982-04-17                37.0           3.22              42.0   \n",
       "703     1978-06-02                41.0           1.46              46.0   \n",
       "1003    1984-10-26                35.0           3.71              44.0   \n",
       "1036    1974-10-05                45.0           4.10              44.0   \n",
       "1040    1974-08-18                45.0           3.76              45.0   \n",
       "1068    1977-11-30                42.0           1.79              36.0   \n",
       "1096    1981-04-24                38.0           4.79              41.0   \n",
       "1258    1980-08-27                39.0           4.71              46.0   \n",
       "1287    1974-01-16                45.0           3.29              45.0   \n",
       "1290    1980-07-07                39.0           1.93              27.0   \n",
       "1297    1975-01-04                44.0           4.38              47.0   \n",
       "1308    1972-03-18                47.0           4.96              44.0   \n",
       "1625    1985-03-09                34.0           3.53              31.0   \n",
       "1701    1983-03-24                36.0           3.29              46.0   \n",
       "3783    1984-01-07                35.0           4.89              50.0   \n",
       "4508    1991-01-10                28.0           3.78              34.0   \n",
       "\n",
       "      fighter2_sapm  fighter2_str_def  fighter2_td_avg fighter2_td_acc  \\\n",
       "206            4.30              39.0             0.94            60.0   \n",
       "207            1.13              37.0             0.00             0.0   \n",
       "209            2.12              30.0             4.55           100.0   \n",
       "210            3.57              37.0             0.91            57.0   \n",
       "211            2.62              40.0             3.89            40.0   \n",
       "212            3.57              37.0             0.91            57.0   \n",
       "213            2.14              48.0             0.40           100.0   \n",
       "214            3.02              56.0             0.87           100.0   \n",
       "215            0.83              44.0             1.85            28.0   \n",
       "216            2.83              50.0             1.02            60.0   \n",
       "217            1.36              72.0             0.39            50.0   \n",
       "218            0.47              60.0             0.89            50.0   \n",
       "219            0.89              28.0             2.92            77.0   \n",
       "220            0.47              60.0             0.89            50.0   \n",
       "221            2.83              50.0             1.02            60.0   \n",
       "222            1.53              59.0             2.78            46.0   \n",
       "223            2.12              30.0             4.55           100.0   \n",
       "224            0.97              50.0             0.00             0.0   \n",
       "225            4.66              57.0             0.35            50.0   \n",
       "226            2.77              40.0             1.84            40.0   \n",
       "227            1.55              44.0             2.47            70.0   \n",
       "228            3.52              60.0             1.23            65.0   \n",
       "229            1.35              41.0             1.75            40.0   \n",
       "230            2.83              50.0             1.02            60.0   \n",
       "232            2.77              40.0             1.84            40.0   \n",
       "233            1.99              55.0             1.83            38.0   \n",
       "234            2.06              79.0             0.00             0.0   \n",
       "235            1.66              63.0             1.96           100.0   \n",
       "236            2.62              40.0             3.89            40.0   \n",
       "237            2.88              60.0             2.47            35.0   \n",
       "...             ...               ...              ...             ...   \n",
       "448            2.87              52.0             1.14            41.0   \n",
       "450            6.70              49.0             0.00             0.0   \n",
       "451            2.29              54.0             1.06            50.0   \n",
       "452            2.37              57.0             2.64            42.0   \n",
       "453            2.71              56.0             0.44            75.0   \n",
       "454            1.53              57.0             2.48            42.0   \n",
       "455            1.90              56.0             2.35            47.0   \n",
       "458            1.69              57.0             2.45            55.0   \n",
       "460            1.91              41.0             1.06            14.0   \n",
       "461            6.56              47.0             0.00             0.0   \n",
       "466            2.80              66.0             0.25            33.0   \n",
       "471            2.25              57.0             1.12            38.0   \n",
       "505            1.91              55.0             0.00             0.0   \n",
       "508            1.99              55.0             1.83            38.0   \n",
       "595            3.28              62.0             1.86            41.0   \n",
       "703            1.82              62.0             3.05            42.0   \n",
       "1003           3.18              64.0             2.11            40.0   \n",
       "1036           2.07              62.0             1.31            66.0   \n",
       "1040           3.03              58.0             0.70            55.0   \n",
       "1068           2.27              63.0             2.46            48.0   \n",
       "1096           5.00              60.0             0.56            28.0   \n",
       "1258           3.55              60.0             0.57            27.0   \n",
       "1287           3.83              52.0             0.19            33.0   \n",
       "1290           2.39              67.0             0.47            33.0   \n",
       "1297           3.53              53.0             1.42            33.0   \n",
       "1308           2.80              66.0             0.25            33.0   \n",
       "1625           2.15              74.0             3.17            50.0   \n",
       "1701           3.63              58.0             1.09            34.0   \n",
       "3783           2.04              62.0             0.87            37.0   \n",
       "4508           2.22              58.0             7.33            41.0   \n",
       "\n",
       "     fighter2_td_def  fighter2_sub_avg  \n",
       "206             44.0               2.5  \n",
       "207             66.0               0.8  \n",
       "209              0.0               2.3  \n",
       "210             45.0               0.7  \n",
       "211             50.0               0.8  \n",
       "212             45.0               0.7  \n",
       "213             53.0               0.8  \n",
       "214             80.0               0.0  \n",
       "215              0.0               0.5  \n",
       "216             53.0               0.6  \n",
       "217             88.0               0.0  \n",
       "218             20.0               0.9  \n",
       "219              0.0               0.4  \n",
       "220             20.0               0.9  \n",
       "221             53.0               0.6  \n",
       "222             58.0               0.5  \n",
       "223              0.0               2.3  \n",
       "224             25.0               2.1  \n",
       "225             37.0               1.1  \n",
       "226             16.0               0.9  \n",
       "227             43.0               0.9  \n",
       "228             63.0               0.8  \n",
       "229              0.0               2.6  \n",
       "230             53.0               0.6  \n",
       "232             16.0               0.9  \n",
       "233             29.0               1.1  \n",
       "234              0.0               0.0  \n",
       "235             54.0               1.0  \n",
       "236             50.0               0.8  \n",
       "237             54.0               0.6  \n",
       "...              ...               ...  \n",
       "448             53.0               0.8  \n",
       "450             75.0               0.0  \n",
       "451             61.0               0.6  \n",
       "452             86.0               1.1  \n",
       "453             81.0               0.0  \n",
       "454             65.0               2.6  \n",
       "455             75.0               0.8  \n",
       "458             62.0               0.6  \n",
       "460             37.0               0.0  \n",
       "461              0.0               0.0  \n",
       "466             60.0               0.0  \n",
       "471             29.0               1.3  \n",
       "505             77.0               0.6  \n",
       "508             29.0               1.1  \n",
       "595             78.0               2.0  \n",
       "703             83.0               1.4  \n",
       "1003            64.0               0.7  \n",
       "1036            63.0               0.7  \n",
       "1040            55.0               2.4  \n",
       "1068            64.0               0.4  \n",
       "1096           100.0               0.3  \n",
       "1258            60.0               0.3  \n",
       "1287            39.0               0.4  \n",
       "1290            79.0               0.9  \n",
       "1297            42.0               0.0  \n",
       "1308            60.0               0.0  \n",
       "1625            83.0               0.1  \n",
       "1701            46.0               1.3  \n",
       "3783            65.0               0.1  \n",
       "4508            80.0               0.0  \n",
       "\n",
       "[226 rows x 46 columns]"
      ]
     },
     "execution_count": 169,
     "metadata": {},
     "output_type": "execute_result"
    }
   ],
   "source": [
    "temp_df[temp_df.winner_is_fighter1.isna()]"
   ]
  },
  {
   "cell_type": "markdown",
   "metadata": {},
   "source": [
    "### Feature Engineer columns for home advantage (need fighter hometown data)"
   ]
  },
  {
   "cell_type": "code",
   "execution_count": 170,
   "metadata": {
    "ExecuteTime": {
     "end_time": "2019-07-21T22:30:09.272845Z",
     "start_time": "2019-07-21T22:30:09.237767Z"
    }
   },
   "outputs": [],
   "source": [
    "# # binary columns: 1 if the fighter is fighting in his home country.\n",
    "# data_combined['fighter1_home_adv'] = data_combined['location' == 'fighter1_home']\n",
    "# data_combined['fighter2_home_adv'] = data_combined['location' == 'fighter2_home']"
   ]
  },
  {
   "cell_type": "markdown",
   "metadata": {},
   "source": [
    "### Get Dummies for stance"
   ]
  },
  {
   "cell_type": "markdown",
   "metadata": {},
   "source": [
    "Need to also add it back into the X_train on model"
   ]
  },
  {
   "cell_type": "code",
   "execution_count": null,
   "metadata": {},
   "outputs": [],
   "source": []
  }
 ],
 "metadata": {
  "kernelspec": {
   "display_name": "Python 3",
   "language": "python",
   "name": "python3"
  },
  "language_info": {
   "codemirror_mode": {
    "name": "ipython",
    "version": 3
   },
   "file_extension": ".py",
   "mimetype": "text/x-python",
   "name": "python",
   "nbconvert_exporter": "python",
   "pygments_lexer": "ipython3",
   "version": "3.6.6"
  },
  "toc": {
   "base_numbering": 1,
   "nav_menu": {},
   "number_sections": true,
   "sideBar": true,
   "skip_h1_title": false,
   "title_cell": "Table of Contents",
   "title_sidebar": "Contents",
   "toc_cell": false,
   "toc_position": {},
   "toc_section_display": true,
   "toc_window_display": false
  },
  "varInspector": {
   "cols": {
    "lenName": 16,
    "lenType": 16,
    "lenVar": 40
   },
   "kernels_config": {
    "python": {
     "delete_cmd_postfix": "",
     "delete_cmd_prefix": "del ",
     "library": "var_list.py",
     "varRefreshCmd": "print(var_dic_list())"
    },
    "r": {
     "delete_cmd_postfix": ") ",
     "delete_cmd_prefix": "rm(",
     "library": "var_list.r",
     "varRefreshCmd": "cat(var_dic_list()) "
    }
   },
   "types_to_exclude": [
    "module",
    "function",
    "builtin_function_or_method",
    "instance",
    "_Feature"
   ],
   "window_display": false
  }
 },
 "nbformat": 4,
 "nbformat_minor": 2
}
