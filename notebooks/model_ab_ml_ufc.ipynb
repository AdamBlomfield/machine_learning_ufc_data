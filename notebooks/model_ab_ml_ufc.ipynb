{
 "cells": [
  {
   "cell_type": "markdown",
   "metadata": {
    "heading_collapsed": true
   },
   "source": [
    "# Functions to export"
   ]
  },
  {
   "cell_type": "code",
   "execution_count": 11,
   "metadata": {
    "ExecuteTime": {
     "end_time": "2019-07-26T18:02:27.190915Z",
     "start_time": "2019-07-26T18:02:27.188219Z"
    },
    "code_folding": [
     0
    ],
    "hidden": true
   },
   "outputs": [],
   "source": [
    "def save_figure(ax, title):\n",
    "    '''Save the figure in the reports/figures folder in the format: title_string.png'''\n",
    "    \n",
    "    fig = ax.get_figure() \n",
    "    filename = '_'.join(title.split(' ')).lower()\n",
    "    fig.savefig(\"../reports/figures/{}.png\".format(filename))  "
   ]
  },
  {
   "cell_type": "code",
   "execution_count": 12,
   "metadata": {
    "ExecuteTime": {
     "end_time": "2019-07-26T18:02:27.887744Z",
     "start_time": "2019-07-26T18:02:27.884093Z"
    },
    "code_folding": [
     0
    ],
    "hidden": true
   },
   "outputs": [],
   "source": [
    "def plot_training_loss(loss, title='Training Loss'):\n",
    "    '''Plot the loss on the training data, across each epoch'''\n",
    "    # Set figure\n",
    "    sns.set(rc={'figure.figsize':(12,6)},style=\"white\", context=\"talk\")\n",
    "    \n",
    "    # Plot\n",
    "    epochs = range(1, len(loss) + 1)\n",
    "    ax = sns.scatterplot(x=epochs, y=loss, color='darkred');\n",
    "    \n",
    "    # Title and Axis\n",
    "    ax.set_title(title)\n",
    "    ax.set_xlabel('Number of Epochs')\n",
    "    ax.set_ylabel('Loss')\n",
    "    sns.despine()\n",
    "    \n",
    "    max_loss = max(loss)\n",
    "    min_loss = min(loss)\n",
    "    loss_reduction = max_loss - min_loss\n",
    "    loss_reductions_pct = round((loss_reduction / max_loss) * 100,2)\n",
    "    print('We have reduced the loss by {}% by training the model through {} epochs'.format(loss_reductions_pct, len(loss)))\n",
    "    \n",
    "    # Save the figure\n",
    "    save_figure(ax, title)"
   ]
  },
  {
   "cell_type": "code",
   "execution_count": 13,
   "metadata": {
    "ExecuteTime": {
     "end_time": "2019-07-26T18:02:28.522126Z",
     "start_time": "2019-07-26T18:02:28.518511Z"
    },
    "code_folding": [
     0
    ],
    "hidden": true
   },
   "outputs": [],
   "source": [
    "def plot_training_accuracy(acc, history_mod, title='Training Accuracy'):\n",
    "    '''Plot the accuracy on the training data, across each epoch'''\n",
    "    # Set figure\n",
    "    sns.set(rc={'figure.figsize':(12,6)},style=\"white\", context=\"talk\")\n",
    "    \n",
    "    # Plot\n",
    "    epochs = range(1, len(acc) + 1)\n",
    "        # Dataframe for the regplot\n",
    "    df = pd.DataFrame({'acc': history_mod.history['acc'], 'epochs': range(1, len(epochs) + 1)})\n",
    "    ax = sns.regplot(x='epochs', y='acc', data=df, fit_reg=False)\n",
    "\n",
    "    # Title and Axis\n",
    "    ax.set_title(title)\n",
    "    ax.set_xlabel('Number of Epochs')\n",
    "    ax.set_ylabel('Model Accuracy')\n",
    "    sns.despine()\n",
    "    \n",
    "    max_acc = max(acc)\n",
    "    min_acc = min(acc)\n",
    "    acc_increase = max_acc - min_acc\n",
    "    acc_increase_pct = round((acc_increase / min_acc) * 100,2)\n",
    "    print('We have increased the accuracy by {}% by training the model through {} epochs'.format(acc_increase_pct, len(acc)))\n",
    "    \n",
    "    # Save the figure\n",
    "    save_figure(ax, title)"
   ]
  },
  {
   "cell_type": "code",
   "execution_count": 14,
   "metadata": {
    "ExecuteTime": {
     "end_time": "2019-07-26T18:02:29.160012Z",
     "start_time": "2019-07-26T18:02:29.155744Z"
    },
    "code_folding": [
     0
    ],
    "hidden": true
   },
   "outputs": [],
   "source": [
    "def plot_training_and_validation_accuracy(acc, val_acc, title='Training and Validation Accuracy'):\n",
    "    '''Plot the accuracy on the training data and the validation data, across each epoch'''\n",
    "    # Set figure\n",
    "    sns.set(rc={'figure.figsize':(12,6)},style=\"white\", context=\"talk\")\n",
    "    \n",
    "    # Plot\n",
    "    epochs = range(1, len(acc) + 1)\n",
    "        # Dataframe for the regplot\n",
    "    df = pd.DataFrame({'acc': history.history['acc'], 'val_acc': history.history['val_acc'], 'epochs': range(1, len(epochs) + 1)})\n",
    "        # Plot Training Accuracy\n",
    "    ax = sns.regplot(x='epochs', y='acc', data=df, color='blue', label='Training')\n",
    "        # Plot Validation Accuracy on seperate y axis\n",
    "    ax2 = plt.twinx()\n",
    "    sns.regplot(x='epochs', y='val_acc', data=df, ax=ax2, color='green', label='Validation')\n",
    "\n",
    "    # Title and Axis\n",
    "    ax.set_title(title, fontsize='large')\n",
    "    ax.set_xlabel('Number of Epochs')\n",
    "    ax.set_ylabel('Training Accuracy')\n",
    "    ax2.set_ylabel('Validation Accuracy')\n",
    "    ax.legend()\n",
    "    ax.get_legend()\n",
    "    sns.despine(right=False)\n",
    "    \n",
    "    max_acc = max(acc)\n",
    "    min_acc = min(acc)\n",
    "    acc_increase = max_acc - min_acc\n",
    "    acc_increase_pct = round((acc_increase / min_acc) * 100,2)\n",
    "    print('We have increased the accuracy by {}% by training the model through {} epochs'.format(acc_increase_pct, len(acc)))\n",
    "    \n",
    "    # Save the figure\n",
    "    save_figure(ax, title)"
   ]
  },
  {
   "cell_type": "code",
   "execution_count": 246,
   "metadata": {
    "ExecuteTime": {
     "end_time": "2019-07-28T00:22:24.845901Z",
     "start_time": "2019-07-28T00:22:24.840451Z"
    },
    "code_folding": [],
    "hidden": true
   },
   "outputs": [],
   "source": [
    "def plot_confusion_matrix(cm, classes, normalize=False, title='Confusion matrix', cmap=plt.cm.Blues):\n",
    "    '''Plot the confusion matrix of predictions (can be normalized)'''\n",
    "    \n",
    "    # Add Normalization Option\n",
    "    if normalize:\n",
    "        cm = cm.astype('float') / cm.sum()\n",
    "        print(\"Normalized confusion matrix\\n\")\n",
    "    else:\n",
    "        print('Confusion matrix, without normalization\\n')\n",
    "#     print(cm)\n",
    "\n",
    "    # Plot\n",
    "    ax = plt.imshow(cm, interpolation='nearest', cmap=cmap)\n",
    "\n",
    "    # Make Pretty\n",
    "    plt.title('{}\\n'.format(title))\n",
    "    plt.ylabel('True label')\n",
    "    plt.xlabel('Predicted label')\n",
    "    tick_marks = np.arange(len(classes))\n",
    "    plt.xticks(tick_marks, classes, rotation=45)\n",
    "    plt.yticks(tick_marks, classes)\n",
    "    plt.ylabel('True label')\n",
    "    plt.xlabel('Predicted label')\n",
    "    plt.tight_layout()\n",
    "\n",
    "    fmt = '.2f' if normalize else 'd'\n",
    "    threshold = cm.max() / 2.\n",
    "    for i, j in itertools.product(range(cm.shape[0]), range(cm.shape[1])):\n",
    "        plt.text(j, i, format(cm[i, j], fmt),\n",
    "                 horizontalalignment=\"center\",\n",
    "                 color=\"white\" if cm[i, j] > threshold else \"black\")\n",
    "        \n",
    "    # Save the figure\n",
    "    save_figure(ax, title)"
   ]
  },
  {
   "cell_type": "code",
   "execution_count": 16,
   "metadata": {
    "ExecuteTime": {
     "end_time": "2019-07-26T18:02:30.429714Z",
     "start_time": "2019-07-26T18:02:30.425068Z"
    },
    "code_folding": [
     0
    ],
    "hidden": true
   },
   "outputs": [],
   "source": [
    "def acc_by_k_value(X_train, y_train, X_test, y_test, k_range_min=1, k_range_max=30, title='Accuracy of KNN, by Number of Neighbors'):\n",
    "    '''Calculates the Accuracy score at each k-value and plots a visualization'''\n",
    "    \n",
    "    # List of k-scores\n",
    "    k_range = list(range(k_range_min, k_range_max))\n",
    "    k_scores = []\n",
    "    for k in k_range:\n",
    "        knn = KNeighborsClassifier(n_neighbors=k)\n",
    "        knn.fit(X_train, y_train)\n",
    "        y_predict = knn.predict(X_test)\n",
    "        score = metrics.accuracy_score(y_test, y_predict, normalize=True)\n",
    "        k_scores.append( score)\n",
    "    k_df = pd.DataFrame({'k_range': k_range, 'k_scores': k_scores})\n",
    "    \n",
    "    # Plot\n",
    "        # Set figure\n",
    "    sns.set(rc={'figure.figsize':(12,6)},style=\"white\", context=\"talk\")\n",
    "        # Scatter Plot\n",
    "    ax = sns.scatterplot(k_range, k_scores)\n",
    "        # Title and Axis\n",
    "    ax.set_title(title)\n",
    "    ax.set_xlabel('Number of neighbors (K)')\n",
    "    ax.set_ylabel('Accuracy Score')\n",
    "#     ax.set_ylim(0.55,0.65)\n",
    "    sns.despine()\n",
    "        # Place horizontal line\n",
    "    best_k_score = max(k_scores)\n",
    "    optimal_k = k_scores.index(best_k_score)+1\n",
    "    plt.axhline(xmax=(optimal_k-1)/len(k_range), y=best_k_score, ls=\"--\", lw=3, c='r')\n",
    "    plt.axvline(x=optimal_k , ymax=best_k_score+0.25, ls=\"--\", lw=3, c='r', label='Optimal K Value')\n",
    "\n",
    "    print('Highest Accuracy is {}%, when K is {}'.format(round(best_k_score*100,2), optimal_k))\n",
    "\n",
    "    # Save the figure\n",
    "    save_figure(ax, title)"
   ]
  },
  {
   "cell_type": "code",
   "execution_count": 17,
   "metadata": {
    "ExecuteTime": {
     "end_time": "2019-07-26T18:02:31.061602Z",
     "start_time": "2019-07-26T18:02:31.057427Z"
    },
    "code_folding": [
     0
    ],
    "hidden": true
   },
   "outputs": [],
   "source": [
    "def f1_by_k_value(X_train, y_train, X_test, y_test, krange_min=1,krange_max=50, title='F1 score by K Value'):\n",
    "    '''calculate the F1 score by k-value and plot a visualization'''\n",
    "    # Build list of k-scores\n",
    "    k_range = list(range(krange_min, krange_max))\n",
    "    k_scores = []\n",
    "    for k in k_range:\n",
    "        knn = KNeighborsClassifier(n_neighbors=k)\n",
    "        knn.fit(X_train, y_train)\n",
    "        y_predict = knn.predict(X_test)\n",
    "        score = metrics.f1_score(y_test, y_predict, average='weighted')\n",
    "        k_scores.append( score)\n",
    "    # Plot\n",
    "    plt.figure(figsize=(12, 6))\n",
    "    plt.plot(k_range, k_scores, color='red', linestyle='dashed', marker='o',\n",
    "             markerfacecolor='blue', markersize=10)\n",
    "    plt.title(title)\n",
    "    plt.xlabel('K Value')\n",
    "    plt.ylabel('F1 Score')\n",
    "    plt.show()\n",
    "    \n",
    "    # Save the figure\n",
    "    save_figure(ax, title)"
   ]
  },
  {
   "cell_type": "code",
   "execution_count": 18,
   "metadata": {
    "ExecuteTime": {
     "end_time": "2019-07-26T18:02:31.685602Z",
     "start_time": "2019-07-26T18:02:31.682290Z"
    },
    "hidden": true
   },
   "outputs": [],
   "source": [
    "def plot_feature_importance(importances, indices, features_to_show=10, title='Top {} Feature Importances'):\n",
    "    '''Plot the importances of features in a dataset'''\n",
    "    sns.set(rc={'figure.figsize':(12,6)},style=\"white\", context=\"talk\")\n",
    "\n",
    "    ax = sns.barplot(importances[indices][:features_to_show],\n",
    "                     features[indices][:features_to_show],\n",
    "                     color='forestgreen')\n",
    "\n",
    "    # Title and Axis\n",
    "    ax.set_title(title.format(features_to_show))\n",
    "    ax.set_xlabel('Importance')\n",
    "    ax.set_ylabel('Feature')\n",
    "    sns.despine()\n",
    "\n",
    "    # Save the figure\n",
    "    save_figure(ax, title)"
   ]
  },
  {
   "cell_type": "code",
   "execution_count": 19,
   "metadata": {
    "ExecuteTime": {
     "end_time": "2019-07-26T18:02:32.327768Z",
     "start_time": "2019-07-26T18:02:32.322987Z"
    },
    "hidden": true,
    "scrolled": false
   },
   "outputs": [],
   "source": [
    "def plot_explained_variance(X_train_std, features_to_show=45, title='Total and Explained Variance'):\n",
    "    '''Calculates the eigen values and eigen vectors in order to plot the explained variance of each principal component'''\n",
    "    \n",
    "    # Compute the covariance matrix of the standardized training dataset\n",
    "    cov_mat = np.cov(X_train_std.T)\n",
    "    eigen_vals, eigen_vecs = np.linalg.eig(cov_mat)\n",
    "    \n",
    "    # Compute cumulative sum of the explained variances\n",
    "    tot = sum(eigen_vals)\n",
    "    var_exp = [(i / tot) for i in sorted(eigen_vals, reverse=True)]\n",
    "    cum_var_exp = np.cumsum(var_exp)\n",
    "    \n",
    "    # Plot Explained Variance with step function\n",
    "        # Set figure\n",
    "    sns.set(rc={'figure.figsize':(12,6)},style=\"white\", context=\"talk\")\n",
    "        # Plot\n",
    "    ax = sns.barplot(list(range(1, len(eigen_vals)+1)), var_exp, color='royalblue', label='Individual Explained Variance')\n",
    "    sns.lineplot(range(1, len(eigen_vals)+1), cum_var_exp, drawstyle='steps-pre', color='royalblue', label='Cumulative Explained Variance')\n",
    "        # Title and Axis\n",
    "    ax.set_title(title, fontsize='large', pad=20)\n",
    "    ax.set_xlabel('Principal Component Index')\n",
    "    ax.set_xticklabels(range(1, features_to_show+1))\n",
    "    # ax.set_xticks(ticks=range(45))\n",
    "    ax.set_xlim(left=-0.5, right=features_to_show-0.5)\n",
    "    ax.set_ylabel('Explained Variance Ratio')\n",
    "    ax.set_ylim(top=cum_var_exp[features_to_show-1])\n",
    "    ax.legend(loc='upper left')\n",
    "    sns.despine()\n",
    "\n",
    "    # Print cumulative results\n",
    "    print('The top {} principal components explains {}% of the variance'.format(features_to_show,round(cum_var_exp[features_to_show-1]*100, 2)))\n",
    "    \n",
    "    # Save figure\n",
    "    save_figure(ax, title)"
   ]
  },
  {
   "cell_type": "code",
   "execution_count": 137,
   "metadata": {
    "ExecuteTime": {
     "end_time": "2019-07-26T19:26:37.711086Z",
     "start_time": "2019-07-26T19:26:37.475301Z"
    },
    "hidden": true
   },
   "outputs": [],
   "source": [
    "knn = KNeighborsClassifier(n_neighbors=25)\n",
    "knn.fit(X_train_std, y_train)\n",
    "\n",
    "# Class prediction for testing data\n",
    "features_used = X_train_std.shape[1]\n",
    "y_pred_class = knn.predict(X_test_std[:,:features_used])\n",
    "\n",
    "# Print Results\n",
    "knn_accuracy = metrics.accuracy_score(y_test, y_pred_class)"
   ]
  },
  {
   "cell_type": "code",
   "execution_count": null,
   "metadata": {
    "hidden": true
   },
   "outputs": [],
   "source": [
    "from sklearn import metrics\n",
    "# testing score\n",
    "score = metrics.f1_score(y_test, pred, pos_label=list(set(y_test)))\n",
    "# training score\n",
    "score_train = metrics.f1_score(y_train, pred_train, pos_label=list(set(y_train)))"
   ]
  },
  {
   "cell_type": "code",
   "execution_count": 20,
   "metadata": {
    "ExecuteTime": {
     "end_time": "2019-07-26T18:02:32.963891Z",
     "start_time": "2019-07-26T18:02:32.960634Z"
    },
    "code_folding": [
     0
    ],
    "hidden": true
   },
   "outputs": [],
   "source": [
    "def model_knn(X_train_, n_neighbors=3, save_results=True):\n",
    "    '''Performs a K Nearest Neighbours algorithm and returns the Accuracy of the model.  \n",
    "    Also updates the model summary df'''\n",
    "    \n",
    "    knn = KNeighborsClassifier(n_neighbors=n_neighbors)\n",
    "    knn.fit(X_train_, y_train)\n",
    "\n",
    "    # Class prediction for testing data\n",
    "    features_used = X_train_.shape[1]\n",
    "    y_pred_class = knn.predict(X_test_std[:,:features_used])\n",
    "\n",
    "    # Print Results\n",
    "    knn_accuracy = metrics.accuracy_score(y_test, y_pred_class)\n",
    "    print('Accuracy for K-Nearest Neighbors model (k = {}): {}%'.format(n_neighbors, round(knn_accuracy*100,1)))\n",
    "    \n",
    "    # Add KNN results to models summary dataframe\n",
    "    if save_results:\n",
    "        models_summary['KNN'] = [knn_accuracy]"
   ]
  },
  {
   "cell_type": "code",
   "execution_count": 61,
   "metadata": {
    "ExecuteTime": {
     "end_time": "2019-07-26T18:12:22.101750Z",
     "start_time": "2019-07-26T18:12:22.098576Z"
    },
    "hidden": true
   },
   "outputs": [],
   "source": [
    "def model_ada_boost(X_train, y_train, X_test, y_test, update_models_summary=True):    \n",
    "    '''Fits a Ada Boost algorithm to the dataset and updates the models_summary '''\n",
    "    \n",
    "    clf = AdaBoostClassifier(n_estimators=100)\n",
    "    clf.fit(X_train, y_train)\n",
    "    y_pred = clf.predict(X_test)\n",
    "    if update_models_summary:\n",
    "        models_summary['Ada_Boost'] = accuracy_score(y_test, y_pred)\n",
    "    \n",
    "    return accuracy_score(y_test, y_pred)"
   ]
  },
  {
   "cell_type": "code",
   "execution_count": 64,
   "metadata": {
    "ExecuteTime": {
     "end_time": "2019-07-26T18:12:56.722841Z",
     "start_time": "2019-07-26T18:12:56.719973Z"
    },
    "hidden": true
   },
   "outputs": [],
   "source": [
    "def model_gradient_boost(X_train, y_train, X_test, y_test, update_models_summary=True):    \n",
    "    '''Fits a Gradient Boost algorithm to the dataset and updates the models_summary '''\n",
    "    \n",
    "    clf = GradientBoostingClassifier(n_estimators=100)\n",
    "    clf.fit(X_train, y_train)\n",
    "    y_pred = clf.predict(X_test)\n",
    "    \n",
    "    if update_models_summary:\n",
    "        models_summary['Gradient_Boost'] = accuracy_score(y_test, y_pred)\n",
    "    \n",
    "    return accuracy_score(y_test, y_pred)"
   ]
  },
  {
   "cell_type": "markdown",
   "metadata": {},
   "source": [
    "# Data Modeling - [Your Project Name Here]"
   ]
  },
  {
   "cell_type": "markdown",
   "metadata": {},
   "source": [
    "## Local Code Imports - Do not delete"
   ]
  },
  {
   "cell_type": "code",
   "execution_count": 1,
   "metadata": {
    "ExecuteTime": {
     "end_time": "2019-07-26T17:56:23.273612Z",
     "start_time": "2019-07-26T17:56:23.259363Z"
    },
    "tags": [
     "hidecode"
    ]
   },
   "outputs": [],
   "source": [
    "# DO NOT REMOVE THESE\n",
    "%load_ext autoreload\n",
    "%autoreload 2"
   ]
  },
  {
   "cell_type": "code",
   "execution_count": 2,
   "metadata": {
    "ExecuteTime": {
     "end_time": "2019-07-26T17:56:23.693464Z",
     "start_time": "2019-07-26T17:56:23.672633Z"
    }
   },
   "outputs": [],
   "source": [
    "# DO NOT REMOVE This\n",
    "%reload_ext autoreload"
   ]
  },
  {
   "cell_type": "code",
   "execution_count": 3,
   "metadata": {
    "ExecuteTime": {
     "end_time": "2019-07-26T17:56:24.384070Z",
     "start_time": "2019-07-26T17:56:23.783427Z"
    }
   },
   "outputs": [],
   "source": [
    "## DO NOT REMOVE\n",
    "## import local src module -\n",
    "## src in this project will contain all your local code\n",
    "## clean_data.py, model.py, visualize.py, custom.py\n",
    "from src import make_data as mk\n",
    "from src import visualize as viz\n",
    "from src import model as mdl\n",
    "from src import pandas_operators as po\n",
    "\n",
    "def test_src():\n",
    "    mk.test_make_data()\n",
    "    viz.test_viz()\n",
    "    mdl.test_model()\n",
    "    po.test_pandas()\n",
    "    \n",
    "    return 1"
   ]
  },
  {
   "cell_type": "code",
   "execution_count": 4,
   "metadata": {
    "ExecuteTime": {
     "end_time": "2019-07-26T17:56:24.548338Z",
     "start_time": "2019-07-26T17:56:24.524199Z"
    }
   },
   "outputs": [
    {
     "name": "stdout",
     "output_type": "stream",
     "text": [
      "In make_data\n",
      "In Visualize\n",
      "In Model\n",
      "In pandas ops\n"
     ]
    },
    {
     "data": {
      "text/plain": [
       "1"
      ]
     },
     "execution_count": 4,
     "metadata": {},
     "output_type": "execute_result"
    }
   ],
   "source": [
    "test_src()"
   ]
  },
  {
   "cell_type": "markdown",
   "metadata": {},
   "source": [
    "## Code Imports"
   ]
  },
  {
   "cell_type": "code",
   "execution_count": 2,
   "metadata": {
    "ExecuteTime": {
     "end_time": "2019-07-26T18:01:46.839655Z",
     "start_time": "2019-07-26T18:01:45.652005Z"
    },
    "scrolled": true
   },
   "outputs": [
    {
     "name": "stderr",
     "output_type": "stream",
     "text": [
      "Using TensorFlow backend.\n"
     ]
    }
   ],
   "source": [
    "# For Dataframes and arrays\n",
    "import numpy as np\n",
    "import pandas as pd\n",
    "# Visualization libraries\n",
    "import matplotlib.pyplot as plt\n",
    "import seaborn as sns\n",
    "\n",
    "# Preprocessing Data\n",
    "    # Train:Test split\n",
    "from sklearn.model_selection import train_test_split\n",
    "    # Scaling\n",
    "from sklearn.preprocessing import StandardScaler\n",
    "    # Feature Extraction\n",
    "from sklearn.decomposition import PCA\n",
    "\n",
    "# Modelling\n",
    "from sklearn.neighbors import KNeighborsClassifier\n",
    "from sklearn.linear_model import LogisticRegression\n",
    "from sklearn.ensemble import BaggingClassifier, RandomForestClassifier\n",
    "import xgboost as xgb\n",
    "\n",
    "# Neural Network\n",
    "import tensorflow as tf\n",
    "import keras\n",
    "from keras.layers import Dense, Dropout, Activation, LeakyReLU\n",
    "from keras.models import Sequential\n",
    "from keras.optimizers import SGD\n",
    "\n",
    "# Tuning\n",
    "from sklearn.model_selection import GridSearchCV\n",
    "from sklearn.pipeline import Pipeline\n",
    "\n",
    "# Evaluation\n",
    "from sklearn import metrics\n",
    "from sklearn.metrics import confusion_matrix\n",
    "import itertools\n",
    "\n",
    "# Warnings\n",
    "# import warnings\n",
    "# warnings.filterwarnings(\"ignore\")\n",
    "\n",
    "# Set random seeds\n",
    "np.random.seed(123)\n",
    "tf.set_random_seed(123)"
   ]
  },
  {
   "cell_type": "code",
   "execution_count": null,
   "metadata": {},
   "outputs": [],
   "source": [
    "!conda install py-xgboost"
   ]
  },
  {
   "cell_type": "markdown",
   "metadata": {
    "heading_collapsed": true
   },
   "source": [
    "# Project Overview"
   ]
  },
  {
   "cell_type": "markdown",
   "metadata": {
    "hidden": true
   },
   "source": [
    "We have decided not to use the perceptron algorithm because our data set is not perfectly linearly separable, and so the algorithm will never converge.  "
   ]
  },
  {
   "cell_type": "markdown",
   "metadata": {
    "hidden": true
   },
   "source": [
    "### Using OvR Logistic Regression for multi-class classification\n",
    "Logistic regression models only really work for binary classification tasks, limiting us to only predicting win or loss for a fighter in a fight.  There is however one-vs-rest (also known as one-vs-all) logistic regression (OvR) which supports multi-class classification.  Scikit-learn enables us to use OvR logistic regression so we can essentially predict a win, loss or draw (3 classes) for each fighter within a fight."
   ]
  },
  {
   "cell_type": "code",
   "execution_count": 4,
   "metadata": {
    "ExecuteTime": {
     "end_time": "2019-07-26T16:34:10.265464Z",
     "start_time": "2019-07-26T16:34:10.133353Z"
    },
    "hidden": true
   },
   "outputs": [
    {
     "ename": "NameError",
     "evalue": "name 'X_train_std' is not defined",
     "output_type": "error",
     "traceback": [
      "\u001b[0;31m---------------------------------------------------------------------------\u001b[0m",
      "\u001b[0;31mNameError\u001b[0m                                 Traceback (most recent call last)",
      "\u001b[0;32m<ipython-input-4-fcf216e60a45>\u001b[0m in \u001b[0;36m<module>\u001b[0;34m()\u001b[0m\n\u001b[1;32m      4\u001b[0m \u001b[0;34m\u001b[0m\u001b[0m\n\u001b[1;32m      5\u001b[0m \u001b[0;31m# Fit the Logistic Regression Model\u001b[0m\u001b[0;34m\u001b[0m\u001b[0;34m\u001b[0m\u001b[0m\n\u001b[0;32m----> 6\u001b[0;31m \u001b[0mlr\u001b[0m\u001b[0;34m.\u001b[0m\u001b[0mfit\u001b[0m\u001b[0;34m(\u001b[0m\u001b[0mX_train_std\u001b[0m\u001b[0;34m,\u001b[0m \u001b[0my_train\u001b[0m\u001b[0;34m)\u001b[0m\u001b[0;34m\u001b[0m\u001b[0m\n\u001b[0m\u001b[1;32m      7\u001b[0m \u001b[0;34m\u001b[0m\u001b[0m\n\u001b[1;32m      8\u001b[0m \u001b[0;31m# Show the predicted class for each observation\u001b[0m\u001b[0;34m\u001b[0m\u001b[0;34m\u001b[0m\u001b[0m\n",
      "\u001b[0;31mNameError\u001b[0m: name 'X_train_std' is not defined"
     ]
    }
   ],
   "source": [
    "# Initiate the Logistic Regression Model\n",
    "lr = LogisticRegression(C=100.0, random_state=1)\n",
    "    # We set the C argument as 100 here.  a lower value will cause an increase in the regularization strength\n",
    "\n",
    "# Fit the Logistic Regression Model    \n",
    "lr.fit(X_train_std, y_train)\n",
    "\n",
    "# Show the predicted class for each observation\n",
    "lr.predict(X_test_std[:3, :])"
   ]
  },
  {
   "cell_type": "markdown",
   "metadata": {
    "hidden": true
   },
   "source": [
    "### Regularization to help with overfitting and underfitting our model\n",
    "Overfitting is one issue we face when using machine learning models.  This is where our model performs very well with the training data that we provide, but is unable to perform well on the test data.  Overfitting can be caused by a number of factors including having too many parameters.  This would then lead to a model that is too complex for the underlying data.  \n",
    "There exists a trade off between overfitting and underfitting our model.  If a model is overfitting, the model is said to have high variance, and if the model is underfitting it is said to have high bias.  This bias-variance tradeoff can be dealt with by regularization.  Regularization will reduce the complexity of the model by accounting for high correlation between features (collinearity) and filtering out noise from our data. \n",
    "\n",
    "Regularization works by penalizing any extreme weights that we have.  One of the most common methods of regularization is L2 regularization (also known as Ridge Regression).  With the code example above, the \"C\" argument allows us to regularize the weights."
   ]
  },
  {
   "cell_type": "markdown",
   "metadata": {
    "hidden": true
   },
   "source": [
    "### Backpropogation\n",
    "A benefit of using logitic regression is that the resulting logistic cost function is convex (U-shaped).  This makes it very easy to find the global cost minimum.  When we incorporate a logistic activation function into a multi-layer neural network however this U shape becomes more uneven, resulting in several local minima.  These local minima can \"trap\" our optimization algorithm, i.e. prevent our model from reaching the global minimum.  To help improve our model we can take advantage of backpropagation.  This will help us to reach a more satisfactory local minimum that yields powerful enough results (high accuracy in the case of this project).    \n"
   ]
  },
  {
   "cell_type": "markdown",
   "metadata": {},
   "source": [
    "# Import Data"
   ]
  },
  {
   "cell_type": "code",
   "execution_count": 21,
   "metadata": {
    "ExecuteTime": {
     "end_time": "2019-07-26T18:02:41.560849Z",
     "start_time": "2019-07-26T18:02:41.440794Z"
    }
   },
   "outputs": [
    {
     "name": "stdout",
     "output_type": "stream",
     "text": [
      "bouts_cleaned        fighter_home_country\r\n",
      "combined             fighters_cleaned\r\n"
     ]
    }
   ],
   "source": [
    "# Show the contents of the processed data folder\n",
    "!ls ../data/processed/"
   ]
  },
  {
   "cell_type": "code",
   "execution_count": 221,
   "metadata": {
    "ExecuteTime": {
     "end_time": "2019-07-27T23:40:09.940857Z",
     "start_time": "2019-07-27T23:40:09.884368Z"
    }
   },
   "outputs": [
    {
     "data": {
      "text/html": [
       "<div>\n",
       "<style scoped>\n",
       "    .dataframe tbody tr th:only-of-type {\n",
       "        vertical-align: middle;\n",
       "    }\n",
       "\n",
       "    .dataframe tbody tr th {\n",
       "        vertical-align: top;\n",
       "    }\n",
       "\n",
       "    .dataframe thead th {\n",
       "        text-align: right;\n",
       "    }\n",
       "</style>\n",
       "<table border=\"1\" class=\"dataframe\">\n",
       "  <thead>\n",
       "    <tr style=\"text-align: right;\">\n",
       "      <th></th>\n",
       "      <th>fighter1</th>\n",
       "      <th>fighter2</th>\n",
       "      <th>winner_is_fighter1</th>\n",
       "      <th>title_fight</th>\n",
       "      <th>method_DEC</th>\n",
       "      <th>method_DQ</th>\n",
       "      <th>method_KO/TKO</th>\n",
       "      <th>method_SUB</th>\n",
       "      <th>fighter1_win</th>\n",
       "      <th>fighter1_lose</th>\n",
       "      <th>...</th>\n",
       "      <th>fighter2_slpm</th>\n",
       "      <th>fighter2_str_acc</th>\n",
       "      <th>fighter2_sapm</th>\n",
       "      <th>fighter2_str_def</th>\n",
       "      <th>fighter2_td_avg</th>\n",
       "      <th>fighter2_td_acc</th>\n",
       "      <th>fighter2_td_def</th>\n",
       "      <th>fighter2_sub_avg</th>\n",
       "      <th>fighter1_age_at_fight</th>\n",
       "      <th>fighter2_age_at_fight</th>\n",
       "    </tr>\n",
       "  </thead>\n",
       "  <tbody>\n",
       "    <tr>\n",
       "      <th>0</th>\n",
       "      <td>Neil Magny</td>\n",
       "      <td>Santiago Ponzinibbio</td>\n",
       "      <td>0</td>\n",
       "      <td>0</td>\n",
       "      <td>0</td>\n",
       "      <td>0</td>\n",
       "      <td>1</td>\n",
       "      <td>0</td>\n",
       "      <td>21</td>\n",
       "      <td>8</td>\n",
       "      <td>...</td>\n",
       "      <td>4.27</td>\n",
       "      <td>39</td>\n",
       "      <td>4.02</td>\n",
       "      <td>64</td>\n",
       "      <td>0.54</td>\n",
       "      <td>44</td>\n",
       "      <td>60</td>\n",
       "      <td>0.0</td>\n",
       "      <td>31.0</td>\n",
       "      <td>32.0</td>\n",
       "    </tr>\n",
       "    <tr>\n",
       "      <th>1</th>\n",
       "      <td>Ricardo Lamas</td>\n",
       "      <td>Darren Elkins</td>\n",
       "      <td>1</td>\n",
       "      <td>0</td>\n",
       "      <td>0</td>\n",
       "      <td>0</td>\n",
       "      <td>1</td>\n",
       "      <td>0</td>\n",
       "      <td>19</td>\n",
       "      <td>7</td>\n",
       "      <td>...</td>\n",
       "      <td>3.36</td>\n",
       "      <td>37</td>\n",
       "      <td>2.83</td>\n",
       "      <td>53</td>\n",
       "      <td>2.68</td>\n",
       "      <td>35</td>\n",
       "      <td>57</td>\n",
       "      <td>1.3</td>\n",
       "      <td>36.0</td>\n",
       "      <td>34.0</td>\n",
       "    </tr>\n",
       "    <tr>\n",
       "      <th>2</th>\n",
       "      <td>Khalil Rountree Jr.</td>\n",
       "      <td>Johnny Walker</td>\n",
       "      <td>0</td>\n",
       "      <td>0</td>\n",
       "      <td>0</td>\n",
       "      <td>0</td>\n",
       "      <td>1</td>\n",
       "      <td>0</td>\n",
       "      <td>8</td>\n",
       "      <td>2</td>\n",
       "      <td>...</td>\n",
       "      <td>5.37</td>\n",
       "      <td>70</td>\n",
       "      <td>3.36</td>\n",
       "      <td>25</td>\n",
       "      <td>0.89</td>\n",
       "      <td>100</td>\n",
       "      <td>100</td>\n",
       "      <td>2.6</td>\n",
       "      <td>28.0</td>\n",
       "      <td>26.0</td>\n",
       "    </tr>\n",
       "    <tr>\n",
       "      <th>3</th>\n",
       "      <td>Cezar Ferreira</td>\n",
       "      <td>Ian Heinisch</td>\n",
       "      <td>0</td>\n",
       "      <td>0</td>\n",
       "      <td>1</td>\n",
       "      <td>0</td>\n",
       "      <td>0</td>\n",
       "      <td>0</td>\n",
       "      <td>14</td>\n",
       "      <td>7</td>\n",
       "      <td>...</td>\n",
       "      <td>3.49</td>\n",
       "      <td>58</td>\n",
       "      <td>1.67</td>\n",
       "      <td>52</td>\n",
       "      <td>0.81</td>\n",
       "      <td>14</td>\n",
       "      <td>50</td>\n",
       "      <td>1.6</td>\n",
       "      <td>33.0</td>\n",
       "      <td>30.0</td>\n",
       "    </tr>\n",
       "    <tr>\n",
       "      <th>4</th>\n",
       "      <td>Marlon Vera</td>\n",
       "      <td>Guido Cannetti</td>\n",
       "      <td>1</td>\n",
       "      <td>0</td>\n",
       "      <td>0</td>\n",
       "      <td>0</td>\n",
       "      <td>0</td>\n",
       "      <td>1</td>\n",
       "      <td>12</td>\n",
       "      <td>5</td>\n",
       "      <td>...</td>\n",
       "      <td>2.80</td>\n",
       "      <td>52</td>\n",
       "      <td>1.95</td>\n",
       "      <td>51</td>\n",
       "      <td>2.80</td>\n",
       "      <td>50</td>\n",
       "      <td>75</td>\n",
       "      <td>0.3</td>\n",
       "      <td>25.0</td>\n",
       "      <td>38.0</td>\n",
       "    </tr>\n",
       "  </tbody>\n",
       "</table>\n",
       "<p>5 rows × 48 columns</p>\n",
       "</div>"
      ],
      "text/plain": [
       "              fighter1              fighter2  winner_is_fighter1  title_fight  \\\n",
       "0           Neil Magny  Santiago Ponzinibbio                   0            0   \n",
       "1        Ricardo Lamas         Darren Elkins                   1            0   \n",
       "2  Khalil Rountree Jr.         Johnny Walker                   0            0   \n",
       "3       Cezar Ferreira          Ian Heinisch                   0            0   \n",
       "4          Marlon Vera        Guido Cannetti                   1            0   \n",
       "\n",
       "   method_DEC  method_DQ  method_KO/TKO  method_SUB  fighter1_win  \\\n",
       "0           0          0              1           0            21   \n",
       "1           0          0              1           0            19   \n",
       "2           0          0              1           0             8   \n",
       "3           1          0              0           0            14   \n",
       "4           0          0              0           1            12   \n",
       "\n",
       "   fighter1_lose          ...            fighter2_slpm  fighter2_str_acc  \\\n",
       "0              8          ...                     4.27                39   \n",
       "1              7          ...                     3.36                37   \n",
       "2              2          ...                     5.37                70   \n",
       "3              7          ...                     3.49                58   \n",
       "4              5          ...                     2.80                52   \n",
       "\n",
       "   fighter2_sapm  fighter2_str_def  fighter2_td_avg  fighter2_td_acc  \\\n",
       "0           4.02                64             0.54               44   \n",
       "1           2.83                53             2.68               35   \n",
       "2           3.36                25             0.89              100   \n",
       "3           1.67                52             0.81               14   \n",
       "4           1.95                51             2.80               50   \n",
       "\n",
       "   fighter2_td_def  fighter2_sub_avg  fighter1_age_at_fight  \\\n",
       "0               60               0.0                   31.0   \n",
       "1               57               1.3                   36.0   \n",
       "2              100               2.6                   28.0   \n",
       "3               50               1.6                   33.0   \n",
       "4               75               0.3                   25.0   \n",
       "\n",
       "   fighter2_age_at_fight  \n",
       "0                   32.0  \n",
       "1                   34.0  \n",
       "2                   26.0  \n",
       "3                   30.0  \n",
       "4                   38.0  \n",
       "\n",
       "[5 rows x 48 columns]"
      ]
     },
     "execution_count": 221,
     "metadata": {},
     "output_type": "execute_result"
    }
   ],
   "source": [
    "data = pd.read_csv('../data/processed/combined')\n",
    "data.head()"
   ]
  },
  {
   "cell_type": "markdown",
   "metadata": {},
   "source": [
    "## Train:Test Split"
   ]
  },
  {
   "cell_type": "code",
   "execution_count": 222,
   "metadata": {
    "ExecuteTime": {
     "end_time": "2019-07-27T23:40:21.419242Z",
     "start_time": "2019-07-27T23:40:21.413407Z"
    }
   },
   "outputs": [],
   "source": [
    "X = data.drop(['fighter1', 'fighter2', 'winner_is_fighter1'],axis=1)\n",
    "y = data['winner_is_fighter1']"
   ]
  },
  {
   "cell_type": "code",
   "execution_count": 24,
   "metadata": {
    "ExecuteTime": {
     "end_time": "2019-07-26T18:02:43.555284Z",
     "start_time": "2019-07-26T18:02:43.546538Z"
    }
   },
   "outputs": [
    {
     "name": "stdout",
     "output_type": "stream",
     "text": [
      "X_Train: \n",
      "\tObservations: 3199 \tFeatures: 45 \t70.0% of data\n",
      "X_Test: \n",
      "\tObservations: 1371 \tFeatures: 45 \t30.0% of data\n"
     ]
    }
   ],
   "source": [
    "X_train, X_test, y_train, y_test = train_test_split(X, y, test_size=0.3, random_state=1, stratify=y)\n",
    "\n",
    "print('X_Train: \\n\\tObservations: {} \\tFeatures: {} \\t{}% of data'.format(X_train.shape[0], X_train.shape[1], len(X_train)/len(X)*100))\n",
    "print('X_Test: \\n\\tObservations: {} \\tFeatures: {} \\t{}% of data'.format(X_test.shape[0], X_test.shape[1], len(X_test)/len(X)*100))"
   ]
  },
  {
   "cell_type": "markdown",
   "metadata": {},
   "source": [
    "- Test_size of 0.3, i.e. 30% of the data has been held out, and we will use 70% of the data to train our model\n",
    "- Set the random_state so that our results are reproducable\n",
    "- Stratify so that we maintain the proportion of class labels, i.e. the same proportion of red wins and blue wins\n"
   ]
  },
  {
   "cell_type": "markdown",
   "metadata": {},
   "source": [
    "- Train-test splitting has disadvantages.  What if the split isn't random? We would end up overfitting our data.  Instead we can use cross-validation.  "
   ]
  },
  {
   "cell_type": "markdown",
   "metadata": {},
   "source": [
    "- There are several varieties of cross validation available in [SK Learn's Model Selection](https://scikit-learn.org/stable/modules/classes.html#module-sklearn.model_selection)\n",
    "- We will be using Leave One Out Cross Validation (LOOCV)\n",
    "    - In this method, the number of folds is equal to the number of bouts (observations) in our dataset.  \n",
    "    - We use each fold as though it is a training set, and then average all of the folds to build our model.  \n",
    "        - The last fold is then used to test the model.  \n",
    "    - This method is more computationally expensive, because we are dramatically expanding the size of our training set (if we have n observations we will now have a training set size of n^n)\n",
    "        - Our dataset is relatively small so this should not be a big problem."
   ]
  },
  {
   "cell_type": "code",
   "execution_count": 212,
   "metadata": {
    "ExecuteTime": {
     "end_time": "2019-07-27T23:30:23.139773Z",
     "start_time": "2019-07-27T23:30:23.135593Z"
    }
   },
   "outputs": [
    {
     "data": {
      "text/plain": [
       "3"
      ]
     },
     "execution_count": 212,
     "metadata": {},
     "output_type": "execute_result"
    }
   ],
   "source": [
    "from sklearn.model_selection import LeaveOneOut\n",
    "X = np.array([[9, 2, 4], [3, 4,8], [5,4,3]])\n",
    "y = np.array([1, 2, 5])\n",
    "loo = LeaveOneOut()\n",
    "loo.get_n_splits(X)"
   ]
  },
  {
   "cell_type": "code",
   "execution_count": 213,
   "metadata": {
    "ExecuteTime": {
     "end_time": "2019-07-27T23:30:24.551792Z",
     "start_time": "2019-07-27T23:30:24.544822Z"
    }
   },
   "outputs": [
    {
     "name": "stdout",
     "output_type": "stream",
     "text": [
      "TRAIN: [1 2] TEST: [0]\n",
      "[[3 4 8]\n",
      " [5 4 3]] [[9 2 4]] [2 5] [1]\n",
      "TRAIN: [0 2] TEST: [1]\n",
      "[[9 2 4]\n",
      " [5 4 3]] [[3 4 8]] [1 5] [2]\n",
      "TRAIN: [0 1] TEST: [2]\n",
      "[[9 2 4]\n",
      " [3 4 8]] [[5 4 3]] [1 2] [5]\n"
     ]
    }
   ],
   "source": [
    "for train_index, test_index in loo.split(X):\n",
    "    print(\"TRAIN:\", train_index, \"TEST:\", test_index)\n",
    "    X_train, X_test = X[train_index], X[test_index]\n",
    "    y_train, y_test = y[train_index], y[test_index]\n",
    "    print(X_train, X_test, y_train, y_test)"
   ]
  },
  {
   "cell_type": "code",
   "execution_count": 216,
   "metadata": {
    "ExecuteTime": {
     "end_time": "2019-07-27T23:32:23.452572Z",
     "start_time": "2019-07-27T23:32:23.434226Z"
    },
    "collapsed": true
   },
   "outputs": [
    {
     "name": "stderr",
     "output_type": "stream",
     "text": [
      "/anaconda3/envs/ml-ufc-env/lib/python3.6/site-packages/sklearn/linear_model/logistic.py:433: FutureWarning: Default solver will be changed to 'lbfgs' in 0.22. Specify a solver to silence this warning.\n",
      "  FutureWarning)\n"
     ]
    },
    {
     "ename": "ValueError",
     "evalue": "Found input variables with inconsistent numbers of samples: [3199, 2]",
     "output_type": "error",
     "traceback": [
      "\u001b[0;31m---------------------------------------------------------------------------\u001b[0m",
      "\u001b[0;31mValueError\u001b[0m                                Traceback (most recent call last)",
      "\u001b[0;32m<ipython-input-216-10be2edd2d4e>\u001b[0m in \u001b[0;36m<module>\u001b[0;34m()\u001b[0m\n\u001b[1;32m      1\u001b[0m \u001b[0mlogreg\u001b[0m \u001b[0;34m=\u001b[0m \u001b[0mLogisticRegression\u001b[0m\u001b[0;34m(\u001b[0m\u001b[0mfit_intercept\u001b[0m \u001b[0;34m=\u001b[0m \u001b[0;32mFalse\u001b[0m\u001b[0;34m,\u001b[0m \u001b[0mC\u001b[0m \u001b[0;34m=\u001b[0m \u001b[0;36m1e12\u001b[0m\u001b[0;34m)\u001b[0m\u001b[0;34m\u001b[0m\u001b[0m\n\u001b[0;32m----> 2\u001b[0;31m \u001b[0mmodel_log\u001b[0m \u001b[0;34m=\u001b[0m \u001b[0mlogreg\u001b[0m\u001b[0;34m.\u001b[0m\u001b[0mfit\u001b[0m\u001b[0;34m(\u001b[0m\u001b[0mX_train_std\u001b[0m\u001b[0;34m,\u001b[0m \u001b[0my_train\u001b[0m\u001b[0;34m)\u001b[0m\u001b[0;34m\u001b[0m\u001b[0m\n\u001b[0m\u001b[1;32m      3\u001b[0m \u001b[0mmodel_log\u001b[0m\u001b[0;34m.\u001b[0m\u001b[0mscore\u001b[0m\u001b[0;34m(\u001b[0m\u001b[0mX_test\u001b[0m\u001b[0;34m,\u001b[0m \u001b[0my_test\u001b[0m\u001b[0;34m)\u001b[0m\u001b[0;34m\u001b[0m\u001b[0m\n",
      "\u001b[0;32m/anaconda3/envs/ml-ufc-env/lib/python3.6/site-packages/sklearn/linear_model/logistic.py\u001b[0m in \u001b[0;36mfit\u001b[0;34m(self, X, y, sample_weight)\u001b[0m\n\u001b[1;32m   1286\u001b[0m \u001b[0;34m\u001b[0m\u001b[0m\n\u001b[1;32m   1287\u001b[0m         X, y = check_X_y(X, y, accept_sparse='csr', dtype=_dtype, order=\"C\",\n\u001b[0;32m-> 1288\u001b[0;31m                          accept_large_sparse=solver != 'liblinear')\n\u001b[0m\u001b[1;32m   1289\u001b[0m         \u001b[0mcheck_classification_targets\u001b[0m\u001b[0;34m(\u001b[0m\u001b[0my\u001b[0m\u001b[0;34m)\u001b[0m\u001b[0;34m\u001b[0m\u001b[0m\n\u001b[1;32m   1290\u001b[0m         \u001b[0mself\u001b[0m\u001b[0;34m.\u001b[0m\u001b[0mclasses_\u001b[0m \u001b[0;34m=\u001b[0m \u001b[0mnp\u001b[0m\u001b[0;34m.\u001b[0m\u001b[0munique\u001b[0m\u001b[0;34m(\u001b[0m\u001b[0my\u001b[0m\u001b[0;34m)\u001b[0m\u001b[0;34m\u001b[0m\u001b[0m\n",
      "\u001b[0;32m/anaconda3/envs/ml-ufc-env/lib/python3.6/site-packages/sklearn/utils/validation.py\u001b[0m in \u001b[0;36mcheck_X_y\u001b[0;34m(X, y, accept_sparse, accept_large_sparse, dtype, order, copy, force_all_finite, ensure_2d, allow_nd, multi_output, ensure_min_samples, ensure_min_features, y_numeric, warn_on_dtype, estimator)\u001b[0m\n\u001b[1;32m    764\u001b[0m         \u001b[0my\u001b[0m \u001b[0;34m=\u001b[0m \u001b[0my\u001b[0m\u001b[0;34m.\u001b[0m\u001b[0mastype\u001b[0m\u001b[0;34m(\u001b[0m\u001b[0mnp\u001b[0m\u001b[0;34m.\u001b[0m\u001b[0mfloat64\u001b[0m\u001b[0;34m)\u001b[0m\u001b[0;34m\u001b[0m\u001b[0m\n\u001b[1;32m    765\u001b[0m \u001b[0;34m\u001b[0m\u001b[0m\n\u001b[0;32m--> 766\u001b[0;31m     \u001b[0mcheck_consistent_length\u001b[0m\u001b[0;34m(\u001b[0m\u001b[0mX\u001b[0m\u001b[0;34m,\u001b[0m \u001b[0my\u001b[0m\u001b[0;34m)\u001b[0m\u001b[0;34m\u001b[0m\u001b[0m\n\u001b[0m\u001b[1;32m    767\u001b[0m \u001b[0;34m\u001b[0m\u001b[0m\n\u001b[1;32m    768\u001b[0m     \u001b[0;32mreturn\u001b[0m \u001b[0mX\u001b[0m\u001b[0;34m,\u001b[0m \u001b[0my\u001b[0m\u001b[0;34m\u001b[0m\u001b[0m\n",
      "\u001b[0;32m/anaconda3/envs/ml-ufc-env/lib/python3.6/site-packages/sklearn/utils/validation.py\u001b[0m in \u001b[0;36mcheck_consistent_length\u001b[0;34m(*arrays)\u001b[0m\n\u001b[1;32m    233\u001b[0m     \u001b[0;32mif\u001b[0m \u001b[0mlen\u001b[0m\u001b[0;34m(\u001b[0m\u001b[0muniques\u001b[0m\u001b[0;34m)\u001b[0m \u001b[0;34m>\u001b[0m \u001b[0;36m1\u001b[0m\u001b[0;34m:\u001b[0m\u001b[0;34m\u001b[0m\u001b[0m\n\u001b[1;32m    234\u001b[0m         raise ValueError(\"Found input variables with inconsistent numbers of\"\n\u001b[0;32m--> 235\u001b[0;31m                          \" samples: %r\" % [int(l) for l in lengths])\n\u001b[0m\u001b[1;32m    236\u001b[0m \u001b[0;34m\u001b[0m\u001b[0m\n\u001b[1;32m    237\u001b[0m \u001b[0;34m\u001b[0m\u001b[0m\n",
      "\u001b[0;31mValueError\u001b[0m: Found input variables with inconsistent numbers of samples: [3199, 2]"
     ]
    }
   ],
   "source": [
    "logreg = LogisticRegression(fit_intercept = False, C = 1e12)\n",
    "model_log = logreg.fit(X_train_std, y_train)\n",
    "model_log.score(X_test, y_test)"
   ]
  },
  {
   "cell_type": "code",
   "execution_count": 215,
   "metadata": {
    "ExecuteTime": {
     "end_time": "2019-07-27T23:31:05.715190Z",
     "start_time": "2019-07-27T23:31:05.696690Z"
    },
    "collapsed": true
   },
   "outputs": [
    {
     "ename": "NameError",
     "evalue": "name 'linear_model' is not defined",
     "output_type": "error",
     "traceback": [
      "\u001b[0;31m---------------------------------------------------------------------------\u001b[0m",
      "\u001b[0;31mNameError\u001b[0m                                 Traceback (most recent call last)",
      "\u001b[0;32m<ipython-input-215-1bf503fd4c16>\u001b[0m in \u001b[0;36m<module>\u001b[0;34m()\u001b[0m\n\u001b[1;32m      3\u001b[0m \u001b[0;34m\u001b[0m\u001b[0m\n\u001b[1;32m      4\u001b[0m \u001b[0;31m# fit a model\u001b[0m\u001b[0;34m\u001b[0m\u001b[0;34m\u001b[0m\u001b[0m\n\u001b[0;32m----> 5\u001b[0;31m \u001b[0mlm\u001b[0m \u001b[0;34m=\u001b[0m \u001b[0mlinear_model\u001b[0m\u001b[0;34m.\u001b[0m\u001b[0mLinearRegression\u001b[0m\u001b[0;34m(\u001b[0m\u001b[0;34m)\u001b[0m\u001b[0;34m\u001b[0m\u001b[0m\n\u001b[0m\u001b[1;32m      6\u001b[0m \u001b[0mmodel\u001b[0m \u001b[0;34m=\u001b[0m \u001b[0mlm\u001b[0m\u001b[0;34m.\u001b[0m\u001b[0mfit\u001b[0m\u001b[0;34m(\u001b[0m\u001b[0mX_train\u001b[0m\u001b[0;34m,\u001b[0m \u001b[0my_train\u001b[0m\u001b[0;34m)\u001b[0m\u001b[0;34m\u001b[0m\u001b[0m\n\u001b[1;32m      7\u001b[0m \u001b[0mpredictions\u001b[0m \u001b[0;34m=\u001b[0m \u001b[0mlm\u001b[0m\u001b[0;34m.\u001b[0m\u001b[0mpredict\u001b[0m\u001b[0;34m(\u001b[0m\u001b[0mX_test\u001b[0m\u001b[0;34m)\u001b[0m\u001b[0;34m\u001b[0m\u001b[0m\n",
      "\u001b[0;31mNameError\u001b[0m: name 'linear_model' is not defined"
     ]
    }
   ],
   "source": [
    "# create training and testing vars\n",
    "X_train, X_test, y_train, y_test = train_test_split(X, y, test_size=0.2)\n",
    "\n",
    "# fit a model\n",
    "lm = linear_model.LinearRegression()\n",
    "model = lm.fit(X_train, y_train)\n",
    "predictions = lm.predict(X_test)\n",
    "\n",
    "model.score(X_test, y_test)"
   ]
  },
  {
   "cell_type": "code",
   "execution_count": null,
   "metadata": {},
   "outputs": [],
   "source": [
    "# K Fold\n",
    "from sklearn.model_selection import KFold # import KFold\n",
    "\n",
    "kf = KFold(n_splits=2) # Define the split - into 2 folds \n",
    "kf.get_n_splits(X) # returns the number of splitting iterations in the cross-validator\n",
    "\n"
   ]
  },
  {
   "cell_type": "code",
   "execution_count": 223,
   "metadata": {
    "ExecuteTime": {
     "end_time": "2019-07-27T23:40:43.133609Z",
     "start_time": "2019-07-27T23:40:43.128837Z"
    }
   },
   "outputs": [
    {
     "data": {
      "text/plain": [
       "4570"
      ]
     },
     "execution_count": 223,
     "metadata": {},
     "output_type": "execute_result"
    }
   ],
   "source": [
    "from sklearn.model_selection import LeaveOneOut \n",
    "\n",
    "loo = LeaveOneOut()\n",
    "loo.get_n_splits(X)\n",
    "\n",
    "\n"
   ]
  },
  {
   "cell_type": "code",
   "execution_count": 227,
   "metadata": {
    "ExecuteTime": {
     "end_time": "2019-07-27T23:41:46.200337Z",
     "start_time": "2019-07-27T23:41:46.197054Z"
    }
   },
   "outputs": [
    {
     "data": {
      "text/plain": [
       "<generator object BaseCrossValidator.split at 0x1a279f8e08>"
      ]
     },
     "execution_count": 227,
     "metadata": {},
     "output_type": "execute_result"
    }
   ],
   "source": [
    "loo.split(X)"
   ]
  },
  {
   "cell_type": "code",
   "execution_count": 220,
   "metadata": {
    "ExecuteTime": {
     "end_time": "2019-07-27T23:36:24.866317Z",
     "start_time": "2019-07-27T23:36:24.854020Z"
    }
   },
   "outputs": [
    {
     "ename": "ModuleNotFoundError",
     "evalue": "No module named 'sklearn.cross_validation'",
     "output_type": "error",
     "traceback": [
      "\u001b[0;31m---------------------------------------------------------------------------\u001b[0m",
      "\u001b[0;31mModuleNotFoundError\u001b[0m                       Traceback (most recent call last)",
      "\u001b[0;32m<ipython-input-220-019dbd03ad30>\u001b[0m in \u001b[0;36m<module>\u001b[0;34m()\u001b[0m\n\u001b[1;32m      1\u001b[0m \u001b[0;31m# Necessary imports:\u001b[0m\u001b[0;34m\u001b[0m\u001b[0;34m\u001b[0m\u001b[0m\n\u001b[0;32m----> 2\u001b[0;31m \u001b[0;32mfrom\u001b[0m \u001b[0msklearn\u001b[0m\u001b[0;34m.\u001b[0m\u001b[0mcross_validation\u001b[0m \u001b[0;32mimport\u001b[0m \u001b[0mcross_val_score\u001b[0m\u001b[0;34m,\u001b[0m \u001b[0mcross_val_predict\u001b[0m\u001b[0;34m\u001b[0m\u001b[0m\n\u001b[0m\u001b[1;32m      3\u001b[0m \u001b[0;32mfrom\u001b[0m \u001b[0msklearn\u001b[0m \u001b[0;32mimport\u001b[0m \u001b[0mmetrics\u001b[0m\u001b[0;34m\u001b[0m\u001b[0m\n\u001b[1;32m      4\u001b[0m \u001b[0;34m\u001b[0m\u001b[0m\n\u001b[1;32m      5\u001b[0m \u001b[0;31m# Perform 6-fold cross validation\u001b[0m\u001b[0;34m\u001b[0m\u001b[0;34m\u001b[0m\u001b[0m\n",
      "\u001b[0;31mModuleNotFoundError\u001b[0m: No module named 'sklearn.cross_validation'"
     ]
    }
   ],
   "source": [
    "# Necessary imports: \n",
    "from sklearn.cross_validation import cross_val_score, cross_val_predict\n",
    "from sklearn import metrics\n",
    "\n",
    "# Perform 6-fold cross validation\n",
    "scores = cross_val_score(model, df, y, cv=6)\n",
    "print('Cross-validated scores:', scores)\n",
    "    \n",
    "accuracy = metrics.r2_score(y, predictions)\n",
    "print(\"Cross_Predicted Accuracy:\", accuracy)"
   ]
  },
  {
   "cell_type": "markdown",
   "metadata": {},
   "source": [
    "## Scaling"
   ]
  },
  {
   "cell_type": "markdown",
   "metadata": {},
   "source": [
    "Many of the machine learning and optimization algorithms that we will be using require feature scaling in order to optimize performance.  We will standardize the features using StandardScaler from scikit-learn's preprocessing module."
   ]
  },
  {
   "cell_type": "code",
   "execution_count": 25,
   "metadata": {
    "ExecuteTime": {
     "end_time": "2019-07-26T18:02:44.222778Z",
     "start_time": "2019-07-26T18:02:44.213174Z"
    },
    "scrolled": false
   },
   "outputs": [
    {
     "name": "stderr",
     "output_type": "stream",
     "text": [
      "/anaconda3/envs/ml-ufc-env/lib/python3.6/site-packages/sklearn/preprocessing/data.py:625: DataConversionWarning: Data with input dtype int64, float64 were all converted to float64 by StandardScaler.\n",
      "  return self.partial_fit(X, y)\n",
      "/anaconda3/envs/ml-ufc-env/lib/python3.6/site-packages/sklearn/base.py:462: DataConversionWarning: Data with input dtype int64, float64 were all converted to float64 by StandardScaler.\n",
      "  return self.fit(X, **fit_params).transform(X)\n"
     ]
    }
   ],
   "source": [
    "sc = StandardScaler()\n",
    "X_train_std = sc.fit_transform(X_train)"
   ]
  },
  {
   "cell_type": "markdown",
   "metadata": {},
   "source": [
    "We will use the same scaling parameters to standardize the test set, so that the values in the training and test dataset are comparable to each other."
   ]
  },
  {
   "cell_type": "code",
   "execution_count": 26,
   "metadata": {
    "ExecuteTime": {
     "end_time": "2019-07-26T18:02:44.916052Z",
     "start_time": "2019-07-26T18:02:44.912485Z"
    }
   },
   "outputs": [
    {
     "name": "stderr",
     "output_type": "stream",
     "text": [
      "/anaconda3/envs/ml-ufc-env/lib/python3.6/site-packages/ipykernel_launcher.py:1: DataConversionWarning: Data with input dtype int64, float64 were all converted to float64 by StandardScaler.\n",
      "  \"\"\"Entry point for launching an IPython kernel.\n"
     ]
    }
   ],
   "source": [
    "X_test_std = sc.transform(X_test)"
   ]
  },
  {
   "cell_type": "markdown",
   "metadata": {},
   "source": [
    "## Correlation heatmap"
   ]
  },
  {
   "cell_type": "code",
   "execution_count": 283,
   "metadata": {
    "ExecuteTime": {
     "end_time": "2019-07-28T04:18:30.132807Z",
     "start_time": "2019-07-28T04:18:29.812931Z"
    }
   },
   "outputs": [
    {
     "data": {
      "text/plain": [
       "<matplotlib.axes._subplots.AxesSubplot at 0x1a26a5acf8>"
      ]
     },
     "execution_count": 283,
     "metadata": {},
     "output_type": "execute_result"
    },
    {
     "data": {
      "image/png": "[encoded data removed]",
      "text/plain": [
       "<Figure size 864x432 with 2 Axes>"
      ]
     },
     "metadata": {},
     "output_type": "display_data"
    }
   ],
   "source": [
    "sns.heatmap(X_train.corr(), center=0)"
   ]
  },
  {
   "cell_type": "markdown",
   "metadata": {},
   "source": [
    "# Modeling"
   ]
  },
  {
   "cell_type": "markdown",
   "metadata": {},
   "source": [
    "### Try out different models, as no model is always best\n",
    "For this project we are classifying.  There are many choices of classification algorithm, each with its own strengths and weaknesses.  There is no single classifier that always works best across all scenarios so we will compare a handful of different learning algorithms to select the best model for our particular problem.  "
   ]
  },
  {
   "cell_type": "markdown",
   "metadata": {},
   "source": [
    "### Track each model's statistics\n",
    "- We will keep track of each models statistics and performance in a dataframe"
   ]
  },
  {
   "cell_type": "code",
   "execution_count": 97,
   "metadata": {
    "ExecuteTime": {
     "end_time": "2019-07-26T18:26:15.788328Z",
     "start_time": "2019-07-26T18:26:15.785349Z"
    }
   },
   "outputs": [],
   "source": [
    "models_summary = pd.DataFrame()\n",
    "models_summary.rename_axis('Model', axis='columns', inplace=True)"
   ]
  },
  {
   "cell_type": "markdown",
   "metadata": {},
   "source": [
    "## K-Nearest Neighbors"
   ]
  },
  {
   "cell_type": "markdown",
   "metadata": {},
   "source": [
    "### Why use KNN?\n",
    "KNN is a instance-based learning type of nonparamteric model.  It memorizes the training dataset and adapts immediately as we collect new training data.  \n",
    "\n",
    "The downside of KNN is that the computational complexity for classifying new samples grows linearly with the number of samples in the training dataset.  i.e. with every bout that occurs, and updates the model, the model becomes slower and slower to run.  Our dataset is relatively very small so we are able to use this model\n",
    "\n",
    "We are using the default Minkowski distance, which requires our distances to be standardized.\n",
    "We do not have to regularize our data but we should use feature selection and dimensionality reduction techniques to avoid the \"curse of dimensionality\" (which would cause our model to overfit)"
   ]
  },
  {
   "cell_type": "markdown",
   "metadata": {},
   "source": [
    "### Choosing the right number of neighbors (k)\n",
    "- This is critical to avoid over and underfitting our model."
   ]
  },
  {
   "cell_type": "code",
   "execution_count": 100,
   "metadata": {
    "ExecuteTime": {
     "end_time": "2019-07-26T18:26:32.040171Z",
     "start_time": "2019-07-26T18:26:25.416689Z"
    },
    "scrolled": false
   },
   "outputs": [
    {
     "name": "stdout",
     "output_type": "stream",
     "text": [
      "Highest Accuracy is 68.34%, when K is 25\n"
     ]
    },
    {
     "data": {
      "image/png": "[encoded data removed]",
      "text/plain": [
       "<Figure size 864x432 with 1 Axes>"
      ]
     },
     "metadata": {},
     "output_type": "display_data"
    }
   ],
   "source": [
    "acc_by_k_value(X_train_std, y_train, X_test_std, y_test)"
   ]
  },
  {
   "cell_type": "code",
   "execution_count": 101,
   "metadata": {
    "ExecuteTime": {
     "end_time": "2019-07-26T18:26:32.963303Z",
     "start_time": "2019-07-26T18:26:32.734089Z"
    }
   },
   "outputs": [
    {
     "name": "stdout",
     "output_type": "stream",
     "text": [
      "Accuracy for K-Nearest Neighbors model (k = 25): 68.3%\n"
     ]
    }
   ],
   "source": [
    "model_knn(X_train_std, n_neighbors=25)"
   ]
  },
  {
   "cell_type": "markdown",
   "metadata": {},
   "source": [
    "### PCA to improve KNN"
   ]
  },
  {
   "cell_type": "markdown",
   "metadata": {},
   "source": [
    "Why use PCA?\n",
    "- PCA is a form of feature extraction, where we transform the data onto a new feature space whilst maintaining most of the relevant information.\n",
    "- PCA does this by finding the directions of maximum variance in high-dimensional data, and then projects the data onto equal or fewer dimensions.  \n",
    "- Patterns can be discovered int he data, based on the correlation between features.  \n",
    "- 2 Main benefits of PCA:\n",
    "    - Improves computational efficiency of our learning algorithm\n",
    "    - Reduces the \"_curse of dimensionality_\", which can improve the predictive performance\n",
    "- We need to standardize the features before we can perform PCA.  "
   ]
  },
  {
   "cell_type": "code",
   "execution_count": 102,
   "metadata": {
    "ExecuteTime": {
     "end_time": "2019-07-26T18:26:34.045874Z",
     "start_time": "2019-07-26T18:26:33.649333Z"
    },
    "scrolled": false
   },
   "outputs": [
    {
     "name": "stdout",
     "output_type": "stream",
     "text": [
      "The top 30 principal components explains 94.7% of the variance\n"
     ]
    },
    {
     "data": {
      "image/png": "[encoded data removed]",
      "text/plain": [
       "<Figure size 864x432 with 1 Axes>"
      ]
     },
     "metadata": {},
     "output_type": "display_data"
    }
   ],
   "source": [
    "plot_explained_variance(X_train_std, features_to_show=30, title='KNN PCA Total and Explained Variance')"
   ]
  },
  {
   "cell_type": "code",
   "execution_count": 103,
   "metadata": {
    "ExecuteTime": {
     "end_time": "2019-07-26T18:26:34.737324Z",
     "start_time": "2019-07-26T18:26:34.729630Z"
    }
   },
   "outputs": [
    {
     "name": "stdout",
     "output_type": "stream",
     "text": [
      "Original data shape:    (3199, 45)\n",
      "Transformed data shape: (3199, 45)\n"
     ]
    }
   ],
   "source": [
    "# Perform PCA\n",
    "pca = PCA(n_components=45)\n",
    "pca.fit(X_train_std)\n",
    "X_pca = pca.transform(X_train_std)\n",
    "print(\"Original data shape:   \", X_train_std.shape)\n",
    "print(\"Transformed data shape:\", X_pca.shape)"
   ]
  },
  {
   "cell_type": "code",
   "execution_count": 104,
   "metadata": {
    "ExecuteTime": {
     "end_time": "2019-07-26T18:26:35.958498Z",
     "start_time": "2019-07-26T18:26:35.445524Z"
    }
   },
   "outputs": [
    {
     "name": "stdout",
     "output_type": "stream",
     "text": [
      "KNN without PCA:\n",
      "Accuracy for K-Nearest Neighbors model (k = 25): 68.3%\n",
      "\n",
      "KNN with PCA:\n",
      "Accuracy for K-Nearest Neighbors model (k = 10): 48.1%\n"
     ]
    }
   ],
   "source": [
    "print('KNN without PCA:')\n",
    "model_knn(X_train_std, n_neighbors=25)\n",
    "\n",
    "print('\\nKNN with PCA:')\n",
    "model_knn(X_pca, n_neighbors=10, save_results=False)"
   ]
  },
  {
   "cell_type": "markdown",
   "metadata": {
    "ExecuteTime": {
     "end_time": "2019-07-26T16:09:44.232403Z",
     "start_time": "2019-07-26T16:09:43.938075Z"
    }
   },
   "source": [
    "- We can see that PCA has not improved our KNN Model"
   ]
  },
  {
   "cell_type": "code",
   "execution_count": 109,
   "metadata": {
    "ExecuteTime": {
     "end_time": "2019-07-26T18:27:36.829189Z",
     "start_time": "2019-07-26T18:27:36.826481Z"
    }
   },
   "outputs": [],
   "source": [
    "models_summary.rename({0: 'Accuracy'}, inplace=True)"
   ]
  },
  {
   "cell_type": "markdown",
   "metadata": {},
   "source": [
    "[learn.co about curse of dimensionality](https://learn.co/tracks/data-science-career-v2/module-5-machine-learning-and-big-data/section-37-principal-component-analysis-pca/curse-of-dimensionality)"
   ]
  },
  {
   "cell_type": "markdown",
   "metadata": {},
   "source": [
    "## Random Forest"
   ]
  },
  {
   "cell_type": "markdown",
   "metadata": {},
   "source": [
    "- Because this is an ensemble algorithm, the model is naturally resistant to noise and variance in the data (which helps iwth overfitting), and generally tends to perform quite well.\n",
    "- As it is an ensemble alogorithm we have the computational cost of training each model"
   ]
  },
  {
   "cell_type": "code",
   "execution_count": 124,
   "metadata": {
    "ExecuteTime": {
     "end_time": "2019-07-26T19:09:11.264179Z",
     "start_time": "2019-07-26T19:09:10.688381Z"
    },
    "scrolled": true
   },
   "outputs": [
    {
     "name": "stdout",
     "output_type": "stream",
     "text": [
      "Accuracy of Training Data: 77.0\n",
      "Accuracy of Test Data: 71.0\n",
      "\n",
      "Top 10 Feature Importances:\n",
      "\t 1) fighter1_win_rate         0.122951\n",
      "\t 2) fighter2_win_rate         0.102203\n",
      "\t 3) fighter2_slpm             0.079764\n",
      "\t 4) fighter1_slpm             0.064099\n",
      "\t 5) fighter2_td_def           0.050951\n",
      "\t 6) fighter1_win              0.049608\n",
      "\t 7) fighter1_td_def           0.049069\n",
      "\t 8) fighter2_str_def          0.048900\n",
      "\t 9) fighter1_str_def          0.043014\n",
      "\t10) fighter2_win              0.041391\n"
     ]
    }
   ],
   "source": [
    "model_rf = RandomForestClassifier(n_estimators=100, max_depth= 5, random_state=1, n_jobs=2)\n",
    "model_rf.fit(X_train, y_train)\n",
    "\n",
    "features = X.columns\n",
    "# importances = sorted(forest.feature_importances_, reverse=True)\n",
    "importances = model_rf.feature_importances_\n",
    "indices = np.argsort(importances)[::-1]\n",
    "\n",
    "model_rf_train_acc = model_rf.score(X_train, y_train) # Accuracy of training data\n",
    "model_rf_test_acc = model_rf.score(X_test, y_test) # Accuracy of test data\n",
    "# plot_feature_importances(model_rf) # plot using function above\n",
    "\n",
    "\n",
    "print('Accuracy of Training Data: {}'.format(round(model_rf_train_acc*100),3))\n",
    "print('Accuracy of Test Data: {}'.format(round(model_rf_test_acc*100),3))\n",
    "\n",
    "# Add results to dataframe\n",
    "models_summary['Random_Forest'] = model_rf_test_acc\n",
    "\n",
    "# Print results of Random Forest\n",
    "features_to_show = 10 # len(X_train) to show all\n",
    "print('\\nTop {} Feature Importances:'.format(features_to_show))\n",
    "for f in range(features_to_show):\n",
    "    print('\\t{:2d}) {:25s} {:5f}'.format(f+1, features[indices[f]], importances[indices[f]]))"
   ]
  },
  {
   "cell_type": "code",
   "execution_count": 35,
   "metadata": {
    "ExecuteTime": {
     "end_time": "2019-07-26T18:03:06.555668Z",
     "start_time": "2019-07-26T18:03:06.376983Z"
    },
    "scrolled": false
   },
   "outputs": [
    {
     "data": {
      "image/png": "[encoded data removed]",
      "text/plain": [
       "<Figure size 864x432 with 1 Axes>"
      ]
     },
     "metadata": {},
     "output_type": "display_data"
    }
   ],
   "source": [
    "plot_feature_importance(importances, indices, features_to_show)"
   ]
  },
  {
   "cell_type": "code",
   "execution_count": 279,
   "metadata": {
    "ExecuteTime": {
     "end_time": "2019-07-28T03:48:56.126560Z",
     "start_time": "2019-07-28T03:48:56.124183Z"
    }
   },
   "outputs": [],
   "source": []
  },
  {
   "cell_type": "code",
   "execution_count": 280,
   "metadata": {
    "ExecuteTime": {
     "end_time": "2019-07-28T03:49:40.757612Z",
     "start_time": "2019-07-28T03:48:57.129086Z"
    }
   },
   "outputs": [
    {
     "name": "stdout",
     "output_type": "stream",
     "text": [
      "Fitting 3 folds for each of 54 candidates, totalling 162 fits\n",
      "[CV] clf__criterion=entropy, clf__max_depth=4, clf__min_samples_leaf=0.05, clf__min_samples_split=0.05, clf__n_estimators=120 \n"
     ]
    },
    {
     "name": "stderr",
     "output_type": "stream",
     "text": [
      "[Parallel(n_jobs=1)]: Using backend SequentialBackend with 1 concurrent workers.\n"
     ]
    },
    {
     "name": "stdout",
     "output_type": "stream",
     "text": [
      "[CV]  clf__criterion=entropy, clf__max_depth=4, clf__min_samples_leaf=0.05, clf__min_samples_split=0.05, clf__n_estimators=120, total=   0.4s\n",
      "[CV] clf__criterion=entropy, clf__max_depth=4, clf__min_samples_leaf=0.05, clf__min_samples_split=0.05, clf__n_estimators=120 \n"
     ]
    },
    {
     "name": "stderr",
     "output_type": "stream",
     "text": [
      "[Parallel(n_jobs=1)]: Done   1 out of   1 | elapsed:    0.4s remaining:    0.0s\n"
     ]
    },
    {
     "name": "stdout",
     "output_type": "stream",
     "text": [
      "[CV]  clf__criterion=entropy, clf__max_depth=4, clf__min_samples_leaf=0.05, clf__min_samples_split=0.05, clf__n_estimators=120, total=   0.3s\n",
      "[CV] clf__criterion=entropy, clf__max_depth=4, clf__min_samples_leaf=0.05, clf__min_samples_split=0.05, clf__n_estimators=120 \n",
      "[CV]  clf__criterion=entropy, clf__max_depth=4, clf__min_samples_leaf=0.05, clf__min_samples_split=0.05, clf__n_estimators=120, total=   0.3s\n",
      "[CV] clf__criterion=entropy, clf__max_depth=4, clf__min_samples_leaf=0.05, clf__min_samples_split=0.1, clf__n_estimators=120 \n",
      "[CV]  clf__criterion=entropy, clf__max_depth=4, clf__min_samples_leaf=0.05, clf__min_samples_split=0.1, clf__n_estimators=120, total=   0.3s\n",
      "[CV] clf__criterion=entropy, clf__max_depth=4, clf__min_samples_leaf=0.05, clf__min_samples_split=0.1, clf__n_estimators=120 \n",
      "[CV]  clf__criterion=entropy, clf__max_depth=4, clf__min_samples_leaf=0.05, clf__min_samples_split=0.1, clf__n_estimators=120, total=   0.3s\n",
      "[CV] clf__criterion=entropy, clf__max_depth=4, clf__min_samples_leaf=0.05, clf__min_samples_split=0.1, clf__n_estimators=120 \n",
      "[CV]  clf__criterion=entropy, clf__max_depth=4, clf__min_samples_leaf=0.05, clf__min_samples_split=0.1, clf__n_estimators=120, total=   0.3s\n",
      "[CV] clf__criterion=entropy, clf__max_depth=4, clf__min_samples_leaf=0.05, clf__min_samples_split=0.2, clf__n_estimators=120 \n",
      "[CV]  clf__criterion=entropy, clf__max_depth=4, clf__min_samples_leaf=0.05, clf__min_samples_split=0.2, clf__n_estimators=120, total=   0.3s\n",
      "[CV] clf__criterion=entropy, clf__max_depth=4, clf__min_samples_leaf=0.05, clf__min_samples_split=0.2, clf__n_estimators=120 \n",
      "[CV]  clf__criterion=entropy, clf__max_depth=4, clf__min_samples_leaf=0.05, clf__min_samples_split=0.2, clf__n_estimators=120, total=   0.3s\n",
      "[CV] clf__criterion=entropy, clf__max_depth=4, clf__min_samples_leaf=0.05, clf__min_samples_split=0.2, clf__n_estimators=120 \n",
      "[CV]  clf__criterion=entropy, clf__max_depth=4, clf__min_samples_leaf=0.05, clf__min_samples_split=0.2, clf__n_estimators=120, total=   0.3s\n",
      "[CV] clf__criterion=entropy, clf__max_depth=4, clf__min_samples_leaf=0.1, clf__min_samples_split=0.05, clf__n_estimators=120 \n",
      "[CV]  clf__criterion=entropy, clf__max_depth=4, clf__min_samples_leaf=0.1, clf__min_samples_split=0.05, clf__n_estimators=120, total=   0.3s\n",
      "[CV] clf__criterion=entropy, clf__max_depth=4, clf__min_samples_leaf=0.1, clf__min_samples_split=0.05, clf__n_estimators=120 \n",
      "[CV]  clf__criterion=entropy, clf__max_depth=4, clf__min_samples_leaf=0.1, clf__min_samples_split=0.05, clf__n_estimators=120, total=   0.3s\n",
      "[CV] clf__criterion=entropy, clf__max_depth=4, clf__min_samples_leaf=0.1, clf__min_samples_split=0.05, clf__n_estimators=120 \n",
      "[CV]  clf__criterion=entropy, clf__max_depth=4, clf__min_samples_leaf=0.1, clf__min_samples_split=0.05, clf__n_estimators=120, total=   0.3s\n",
      "[CV] clf__criterion=entropy, clf__max_depth=4, clf__min_samples_leaf=0.1, clf__min_samples_split=0.1, clf__n_estimators=120 \n",
      "[CV]  clf__criterion=entropy, clf__max_depth=4, clf__min_samples_leaf=0.1, clf__min_samples_split=0.1, clf__n_estimators=120, total=   0.3s\n",
      "[CV] clf__criterion=entropy, clf__max_depth=4, clf__min_samples_leaf=0.1, clf__min_samples_split=0.1, clf__n_estimators=120 \n",
      "[CV]  clf__criterion=entropy, clf__max_depth=4, clf__min_samples_leaf=0.1, clf__min_samples_split=0.1, clf__n_estimators=120, total=   0.3s\n",
      "[CV] clf__criterion=entropy, clf__max_depth=4, clf__min_samples_leaf=0.1, clf__min_samples_split=0.1, clf__n_estimators=120 \n",
      "[CV]  clf__criterion=entropy, clf__max_depth=4, clf__min_samples_leaf=0.1, clf__min_samples_split=0.1, clf__n_estimators=120, total=   0.3s\n",
      "[CV] clf__criterion=entropy, clf__max_depth=4, clf__min_samples_leaf=0.1, clf__min_samples_split=0.2, clf__n_estimators=120 \n",
      "[CV]  clf__criterion=entropy, clf__max_depth=4, clf__min_samples_leaf=0.1, clf__min_samples_split=0.2, clf__n_estimators=120, total=   0.3s\n",
      "[CV] clf__criterion=entropy, clf__max_depth=4, clf__min_samples_leaf=0.1, clf__min_samples_split=0.2, clf__n_estimators=120 \n",
      "[CV]  clf__criterion=entropy, clf__max_depth=4, clf__min_samples_leaf=0.1, clf__min_samples_split=0.2, clf__n_estimators=120, total=   0.3s\n",
      "[CV] clf__criterion=entropy, clf__max_depth=4, clf__min_samples_leaf=0.1, clf__min_samples_split=0.2, clf__n_estimators=120 \n",
      "[CV]  clf__criterion=entropy, clf__max_depth=4, clf__min_samples_leaf=0.1, clf__min_samples_split=0.2, clf__n_estimators=120, total=   0.3s\n",
      "[CV] clf__criterion=entropy, clf__max_depth=4, clf__min_samples_leaf=0.2, clf__min_samples_split=0.05, clf__n_estimators=120 \n",
      "[CV]  clf__criterion=entropy, clf__max_depth=4, clf__min_samples_leaf=0.2, clf__min_samples_split=0.05, clf__n_estimators=120, total=   0.2s\n",
      "[CV] clf__criterion=entropy, clf__max_depth=4, clf__min_samples_leaf=0.2, clf__min_samples_split=0.05, clf__n_estimators=120 \n",
      "[CV]  clf__criterion=entropy, clf__max_depth=4, clf__min_samples_leaf=0.2, clf__min_samples_split=0.05, clf__n_estimators=120, total=   0.2s\n",
      "[CV] clf__criterion=entropy, clf__max_depth=4, clf__min_samples_leaf=0.2, clf__min_samples_split=0.05, clf__n_estimators=120 \n",
      "[CV]  clf__criterion=entropy, clf__max_depth=4, clf__min_samples_leaf=0.2, clf__min_samples_split=0.05, clf__n_estimators=120, total=   0.2s\n",
      "[CV] clf__criterion=entropy, clf__max_depth=4, clf__min_samples_leaf=0.2, clf__min_samples_split=0.1, clf__n_estimators=120 \n",
      "[CV]  clf__criterion=entropy, clf__max_depth=4, clf__min_samples_leaf=0.2, clf__min_samples_split=0.1, clf__n_estimators=120, total=   0.2s\n",
      "[CV] clf__criterion=entropy, clf__max_depth=4, clf__min_samples_leaf=0.2, clf__min_samples_split=0.1, clf__n_estimators=120 \n",
      "[CV]  clf__criterion=entropy, clf__max_depth=4, clf__min_samples_leaf=0.2, clf__min_samples_split=0.1, clf__n_estimators=120, total=   0.2s\n",
      "[CV] clf__criterion=entropy, clf__max_depth=4, clf__min_samples_leaf=0.2, clf__min_samples_split=0.1, clf__n_estimators=120 \n",
      "[CV]  clf__criterion=entropy, clf__max_depth=4, clf__min_samples_leaf=0.2, clf__min_samples_split=0.1, clf__n_estimators=120, total=   0.2s\n",
      "[CV] clf__criterion=entropy, clf__max_depth=4, clf__min_samples_leaf=0.2, clf__min_samples_split=0.2, clf__n_estimators=120 \n",
      "[CV]  clf__criterion=entropy, clf__max_depth=4, clf__min_samples_leaf=0.2, clf__min_samples_split=0.2, clf__n_estimators=120, total=   0.2s\n",
      "[CV] clf__criterion=entropy, clf__max_depth=4, clf__min_samples_leaf=0.2, clf__min_samples_split=0.2, clf__n_estimators=120 \n",
      "[CV]  clf__criterion=entropy, clf__max_depth=4, clf__min_samples_leaf=0.2, clf__min_samples_split=0.2, clf__n_estimators=120, total=   0.2s\n",
      "[CV] clf__criterion=entropy, clf__max_depth=4, clf__min_samples_leaf=0.2, clf__min_samples_split=0.2, clf__n_estimators=120 \n",
      "[CV]  clf__criterion=entropy, clf__max_depth=4, clf__min_samples_leaf=0.2, clf__min_samples_split=0.2, clf__n_estimators=120, total=   0.2s\n",
      "[CV] clf__criterion=entropy, clf__max_depth=5, clf__min_samples_leaf=0.05, clf__min_samples_split=0.05, clf__n_estimators=120 \n",
      "[CV]  clf__criterion=entropy, clf__max_depth=5, clf__min_samples_leaf=0.05, clf__min_samples_split=0.05, clf__n_estimators=120, total=   0.4s\n",
      "[CV] clf__criterion=entropy, clf__max_depth=5, clf__min_samples_leaf=0.05, clf__min_samples_split=0.05, clf__n_estimators=120 \n",
      "[CV]  clf__criterion=entropy, clf__max_depth=5, clf__min_samples_leaf=0.05, clf__min_samples_split=0.05, clf__n_estimators=120, total=   0.4s\n",
      "[CV] clf__criterion=entropy, clf__max_depth=5, clf__min_samples_leaf=0.05, clf__min_samples_split=0.05, clf__n_estimators=120 \n",
      "[CV]  clf__criterion=entropy, clf__max_depth=5, clf__min_samples_leaf=0.05, clf__min_samples_split=0.05, clf__n_estimators=120, total=   0.4s\n",
      "[CV] clf__criterion=entropy, clf__max_depth=5, clf__min_samples_leaf=0.05, clf__min_samples_split=0.1, clf__n_estimators=120 \n",
      "[CV]  clf__criterion=entropy, clf__max_depth=5, clf__min_samples_leaf=0.05, clf__min_samples_split=0.1, clf__n_estimators=120, total=   0.4s\n",
      "[CV] clf__criterion=entropy, clf__max_depth=5, clf__min_samples_leaf=0.05, clf__min_samples_split=0.1, clf__n_estimators=120 \n",
      "[CV]  clf__criterion=entropy, clf__max_depth=5, clf__min_samples_leaf=0.05, clf__min_samples_split=0.1, clf__n_estimators=120, total=   0.4s\n",
      "[CV] clf__criterion=entropy, clf__max_depth=5, clf__min_samples_leaf=0.05, clf__min_samples_split=0.1, clf__n_estimators=120 \n"
     ]
    },
    {
     "name": "stdout",
     "output_type": "stream",
     "text": [
      "[CV]  clf__criterion=entropy, clf__max_depth=5, clf__min_samples_leaf=0.05, clf__min_samples_split=0.1, clf__n_estimators=120, total=   0.4s\n",
      "[CV] clf__criterion=entropy, clf__max_depth=5, clf__min_samples_leaf=0.05, clf__min_samples_split=0.2, clf__n_estimators=120 \n",
      "[CV]  clf__criterion=entropy, clf__max_depth=5, clf__min_samples_leaf=0.05, clf__min_samples_split=0.2, clf__n_estimators=120, total=   0.3s\n",
      "[CV] clf__criterion=entropy, clf__max_depth=5, clf__min_samples_leaf=0.05, clf__min_samples_split=0.2, clf__n_estimators=120 \n",
      "[CV]  clf__criterion=entropy, clf__max_depth=5, clf__min_samples_leaf=0.05, clf__min_samples_split=0.2, clf__n_estimators=120, total=   0.3s\n",
      "[CV] clf__criterion=entropy, clf__max_depth=5, clf__min_samples_leaf=0.05, clf__min_samples_split=0.2, clf__n_estimators=120 \n",
      "[CV]  clf__criterion=entropy, clf__max_depth=5, clf__min_samples_leaf=0.05, clf__min_samples_split=0.2, clf__n_estimators=120, total=   0.3s\n",
      "[CV] clf__criterion=entropy, clf__max_depth=5, clf__min_samples_leaf=0.1, clf__min_samples_split=0.05, clf__n_estimators=120 \n",
      "[CV]  clf__criterion=entropy, clf__max_depth=5, clf__min_samples_leaf=0.1, clf__min_samples_split=0.05, clf__n_estimators=120, total=   0.3s\n",
      "[CV] clf__criterion=entropy, clf__max_depth=5, clf__min_samples_leaf=0.1, clf__min_samples_split=0.05, clf__n_estimators=120 \n",
      "[CV]  clf__criterion=entropy, clf__max_depth=5, clf__min_samples_leaf=0.1, clf__min_samples_split=0.05, clf__n_estimators=120, total=   0.3s\n",
      "[CV] clf__criterion=entropy, clf__max_depth=5, clf__min_samples_leaf=0.1, clf__min_samples_split=0.05, clf__n_estimators=120 \n",
      "[CV]  clf__criterion=entropy, clf__max_depth=5, clf__min_samples_leaf=0.1, clf__min_samples_split=0.05, clf__n_estimators=120, total=   0.3s\n",
      "[CV] clf__criterion=entropy, clf__max_depth=5, clf__min_samples_leaf=0.1, clf__min_samples_split=0.1, clf__n_estimators=120 \n",
      "[CV]  clf__criterion=entropy, clf__max_depth=5, clf__min_samples_leaf=0.1, clf__min_samples_split=0.1, clf__n_estimators=120, total=   0.3s\n",
      "[CV] clf__criterion=entropy, clf__max_depth=5, clf__min_samples_leaf=0.1, clf__min_samples_split=0.1, clf__n_estimators=120 \n",
      "[CV]  clf__criterion=entropy, clf__max_depth=5, clf__min_samples_leaf=0.1, clf__min_samples_split=0.1, clf__n_estimators=120, total=   0.3s\n",
      "[CV] clf__criterion=entropy, clf__max_depth=5, clf__min_samples_leaf=0.1, clf__min_samples_split=0.1, clf__n_estimators=120 \n",
      "[CV]  clf__criterion=entropy, clf__max_depth=5, clf__min_samples_leaf=0.1, clf__min_samples_split=0.1, clf__n_estimators=120, total=   0.3s\n",
      "[CV] clf__criterion=entropy, clf__max_depth=5, clf__min_samples_leaf=0.1, clf__min_samples_split=0.2, clf__n_estimators=120 \n",
      "[CV]  clf__criterion=entropy, clf__max_depth=5, clf__min_samples_leaf=0.1, clf__min_samples_split=0.2, clf__n_estimators=120, total=   0.3s\n",
      "[CV] clf__criterion=entropy, clf__max_depth=5, clf__min_samples_leaf=0.1, clf__min_samples_split=0.2, clf__n_estimators=120 \n",
      "[CV]  clf__criterion=entropy, clf__max_depth=5, clf__min_samples_leaf=0.1, clf__min_samples_split=0.2, clf__n_estimators=120, total=   0.3s\n",
      "[CV] clf__criterion=entropy, clf__max_depth=5, clf__min_samples_leaf=0.1, clf__min_samples_split=0.2, clf__n_estimators=120 \n",
      "[CV]  clf__criterion=entropy, clf__max_depth=5, clf__min_samples_leaf=0.1, clf__min_samples_split=0.2, clf__n_estimators=120, total=   0.3s\n",
      "[CV] clf__criterion=entropy, clf__max_depth=5, clf__min_samples_leaf=0.2, clf__min_samples_split=0.05, clf__n_estimators=120 \n",
      "[CV]  clf__criterion=entropy, clf__max_depth=5, clf__min_samples_leaf=0.2, clf__min_samples_split=0.05, clf__n_estimators=120, total=   0.2s\n",
      "[CV] clf__criterion=entropy, clf__max_depth=5, clf__min_samples_leaf=0.2, clf__min_samples_split=0.05, clf__n_estimators=120 \n",
      "[CV]  clf__criterion=entropy, clf__max_depth=5, clf__min_samples_leaf=0.2, clf__min_samples_split=0.05, clf__n_estimators=120, total=   0.2s\n",
      "[CV] clf__criterion=entropy, clf__max_depth=5, clf__min_samples_leaf=0.2, clf__min_samples_split=0.05, clf__n_estimators=120 \n",
      "[CV]  clf__criterion=entropy, clf__max_depth=5, clf__min_samples_leaf=0.2, clf__min_samples_split=0.05, clf__n_estimators=120, total=   0.2s\n",
      "[CV] clf__criterion=entropy, clf__max_depth=5, clf__min_samples_leaf=0.2, clf__min_samples_split=0.1, clf__n_estimators=120 \n",
      "[CV]  clf__criterion=entropy, clf__max_depth=5, clf__min_samples_leaf=0.2, clf__min_samples_split=0.1, clf__n_estimators=120, total=   0.2s\n",
      "[CV] clf__criterion=entropy, clf__max_depth=5, clf__min_samples_leaf=0.2, clf__min_samples_split=0.1, clf__n_estimators=120 \n",
      "[CV]  clf__criterion=entropy, clf__max_depth=5, clf__min_samples_leaf=0.2, clf__min_samples_split=0.1, clf__n_estimators=120, total=   0.2s\n",
      "[CV] clf__criterion=entropy, clf__max_depth=5, clf__min_samples_leaf=0.2, clf__min_samples_split=0.1, clf__n_estimators=120 \n",
      "[CV]  clf__criterion=entropy, clf__max_depth=5, clf__min_samples_leaf=0.2, clf__min_samples_split=0.1, clf__n_estimators=120, total=   0.2s\n",
      "[CV] clf__criterion=entropy, clf__max_depth=5, clf__min_samples_leaf=0.2, clf__min_samples_split=0.2, clf__n_estimators=120 \n",
      "[CV]  clf__criterion=entropy, clf__max_depth=5, clf__min_samples_leaf=0.2, clf__min_samples_split=0.2, clf__n_estimators=120, total=   0.2s\n",
      "[CV] clf__criterion=entropy, clf__max_depth=5, clf__min_samples_leaf=0.2, clf__min_samples_split=0.2, clf__n_estimators=120 \n",
      "[CV]  clf__criterion=entropy, clf__max_depth=5, clf__min_samples_leaf=0.2, clf__min_samples_split=0.2, clf__n_estimators=120, total=   0.2s\n",
      "[CV] clf__criterion=entropy, clf__max_depth=5, clf__min_samples_leaf=0.2, clf__min_samples_split=0.2, clf__n_estimators=120 \n",
      "[CV]  clf__criterion=entropy, clf__max_depth=5, clf__min_samples_leaf=0.2, clf__min_samples_split=0.2, clf__n_estimators=120, total=   0.2s\n",
      "[CV] clf__criterion=entropy, clf__max_depth=6, clf__min_samples_leaf=0.05, clf__min_samples_split=0.05, clf__n_estimators=120 \n",
      "[CV]  clf__criterion=entropy, clf__max_depth=6, clf__min_samples_leaf=0.05, clf__min_samples_split=0.05, clf__n_estimators=120, total=   0.4s\n",
      "[CV] clf__criterion=entropy, clf__max_depth=6, clf__min_samples_leaf=0.05, clf__min_samples_split=0.05, clf__n_estimators=120 \n",
      "[CV]  clf__criterion=entropy, clf__max_depth=6, clf__min_samples_leaf=0.05, clf__min_samples_split=0.05, clf__n_estimators=120, total=   0.4s\n",
      "[CV] clf__criterion=entropy, clf__max_depth=6, clf__min_samples_leaf=0.05, clf__min_samples_split=0.05, clf__n_estimators=120 \n",
      "[CV]  clf__criterion=entropy, clf__max_depth=6, clf__min_samples_leaf=0.05, clf__min_samples_split=0.05, clf__n_estimators=120, total=   0.4s\n",
      "[CV] clf__criterion=entropy, clf__max_depth=6, clf__min_samples_leaf=0.05, clf__min_samples_split=0.1, clf__n_estimators=120 \n",
      "[CV]  clf__criterion=entropy, clf__max_depth=6, clf__min_samples_leaf=0.05, clf__min_samples_split=0.1, clf__n_estimators=120, total=   0.4s\n",
      "[CV] clf__criterion=entropy, clf__max_depth=6, clf__min_samples_leaf=0.05, clf__min_samples_split=0.1, clf__n_estimators=120 \n",
      "[CV]  clf__criterion=entropy, clf__max_depth=6, clf__min_samples_leaf=0.05, clf__min_samples_split=0.1, clf__n_estimators=120, total=   0.4s\n",
      "[CV] clf__criterion=entropy, clf__max_depth=6, clf__min_samples_leaf=0.05, clf__min_samples_split=0.1, clf__n_estimators=120 \n",
      "[CV]  clf__criterion=entropy, clf__max_depth=6, clf__min_samples_leaf=0.05, clf__min_samples_split=0.1, clf__n_estimators=120, total=   0.4s\n",
      "[CV] clf__criterion=entropy, clf__max_depth=6, clf__min_samples_leaf=0.05, clf__min_samples_split=0.2, clf__n_estimators=120 \n",
      "[CV]  clf__criterion=entropy, clf__max_depth=6, clf__min_samples_leaf=0.05, clf__min_samples_split=0.2, clf__n_estimators=120, total=   0.3s\n",
      "[CV] clf__criterion=entropy, clf__max_depth=6, clf__min_samples_leaf=0.05, clf__min_samples_split=0.2, clf__n_estimators=120 \n",
      "[CV]  clf__criterion=entropy, clf__max_depth=6, clf__min_samples_leaf=0.05, clf__min_samples_split=0.2, clf__n_estimators=120, total=   0.3s\n",
      "[CV] clf__criterion=entropy, clf__max_depth=6, clf__min_samples_leaf=0.05, clf__min_samples_split=0.2, clf__n_estimators=120 \n",
      "[CV]  clf__criterion=entropy, clf__max_depth=6, clf__min_samples_leaf=0.05, clf__min_samples_split=0.2, clf__n_estimators=120, total=   0.3s\n",
      "[CV] clf__criterion=entropy, clf__max_depth=6, clf__min_samples_leaf=0.1, clf__min_samples_split=0.05, clf__n_estimators=120 \n"
     ]
    },
    {
     "name": "stdout",
     "output_type": "stream",
     "text": [
      "[CV]  clf__criterion=entropy, clf__max_depth=6, clf__min_samples_leaf=0.1, clf__min_samples_split=0.05, clf__n_estimators=120, total=   0.3s\n",
      "[CV] clf__criterion=entropy, clf__max_depth=6, clf__min_samples_leaf=0.1, clf__min_samples_split=0.05, clf__n_estimators=120 \n",
      "[CV]  clf__criterion=entropy, clf__max_depth=6, clf__min_samples_leaf=0.1, clf__min_samples_split=0.05, clf__n_estimators=120, total=   0.3s\n",
      "[CV] clf__criterion=entropy, clf__max_depth=6, clf__min_samples_leaf=0.1, clf__min_samples_split=0.05, clf__n_estimators=120 \n",
      "[CV]  clf__criterion=entropy, clf__max_depth=6, clf__min_samples_leaf=0.1, clf__min_samples_split=0.05, clf__n_estimators=120, total=   0.3s\n",
      "[CV] clf__criterion=entropy, clf__max_depth=6, clf__min_samples_leaf=0.1, clf__min_samples_split=0.1, clf__n_estimators=120 \n",
      "[CV]  clf__criterion=entropy, clf__max_depth=6, clf__min_samples_leaf=0.1, clf__min_samples_split=0.1, clf__n_estimators=120, total=   0.3s\n",
      "[CV] clf__criterion=entropy, clf__max_depth=6, clf__min_samples_leaf=0.1, clf__min_samples_split=0.1, clf__n_estimators=120 \n",
      "[CV]  clf__criterion=entropy, clf__max_depth=6, clf__min_samples_leaf=0.1, clf__min_samples_split=0.1, clf__n_estimators=120, total=   0.3s\n",
      "[CV] clf__criterion=entropy, clf__max_depth=6, clf__min_samples_leaf=0.1, clf__min_samples_split=0.1, clf__n_estimators=120 \n",
      "[CV]  clf__criterion=entropy, clf__max_depth=6, clf__min_samples_leaf=0.1, clf__min_samples_split=0.1, clf__n_estimators=120, total=   0.3s\n",
      "[CV] clf__criterion=entropy, clf__max_depth=6, clf__min_samples_leaf=0.1, clf__min_samples_split=0.2, clf__n_estimators=120 \n",
      "[CV]  clf__criterion=entropy, clf__max_depth=6, clf__min_samples_leaf=0.1, clf__min_samples_split=0.2, clf__n_estimators=120, total=   0.3s\n",
      "[CV] clf__criterion=entropy, clf__max_depth=6, clf__min_samples_leaf=0.1, clf__min_samples_split=0.2, clf__n_estimators=120 \n",
      "[CV]  clf__criterion=entropy, clf__max_depth=6, clf__min_samples_leaf=0.1, clf__min_samples_split=0.2, clf__n_estimators=120, total=   0.3s\n",
      "[CV] clf__criterion=entropy, clf__max_depth=6, clf__min_samples_leaf=0.1, clf__min_samples_split=0.2, clf__n_estimators=120 \n",
      "[CV]  clf__criterion=entropy, clf__max_depth=6, clf__min_samples_leaf=0.1, clf__min_samples_split=0.2, clf__n_estimators=120, total=   0.3s\n",
      "[CV] clf__criterion=entropy, clf__max_depth=6, clf__min_samples_leaf=0.2, clf__min_samples_split=0.05, clf__n_estimators=120 \n",
      "[CV]  clf__criterion=entropy, clf__max_depth=6, clf__min_samples_leaf=0.2, clf__min_samples_split=0.05, clf__n_estimators=120, total=   0.2s\n",
      "[CV] clf__criterion=entropy, clf__max_depth=6, clf__min_samples_leaf=0.2, clf__min_samples_split=0.05, clf__n_estimators=120 \n",
      "[CV]  clf__criterion=entropy, clf__max_depth=6, clf__min_samples_leaf=0.2, clf__min_samples_split=0.05, clf__n_estimators=120, total=   0.2s\n",
      "[CV] clf__criterion=entropy, clf__max_depth=6, clf__min_samples_leaf=0.2, clf__min_samples_split=0.05, clf__n_estimators=120 \n",
      "[CV]  clf__criterion=entropy, clf__max_depth=6, clf__min_samples_leaf=0.2, clf__min_samples_split=0.05, clf__n_estimators=120, total=   0.2s\n",
      "[CV] clf__criterion=entropy, clf__max_depth=6, clf__min_samples_leaf=0.2, clf__min_samples_split=0.1, clf__n_estimators=120 \n",
      "[CV]  clf__criterion=entropy, clf__max_depth=6, clf__min_samples_leaf=0.2, clf__min_samples_split=0.1, clf__n_estimators=120, total=   0.2s\n",
      "[CV] clf__criterion=entropy, clf__max_depth=6, clf__min_samples_leaf=0.2, clf__min_samples_split=0.1, clf__n_estimators=120 \n",
      "[CV]  clf__criterion=entropy, clf__max_depth=6, clf__min_samples_leaf=0.2, clf__min_samples_split=0.1, clf__n_estimators=120, total=   0.2s\n",
      "[CV] clf__criterion=entropy, clf__max_depth=6, clf__min_samples_leaf=0.2, clf__min_samples_split=0.1, clf__n_estimators=120 \n",
      "[CV]  clf__criterion=entropy, clf__max_depth=6, clf__min_samples_leaf=0.2, clf__min_samples_split=0.1, clf__n_estimators=120, total=   0.2s\n",
      "[CV] clf__criterion=entropy, clf__max_depth=6, clf__min_samples_leaf=0.2, clf__min_samples_split=0.2, clf__n_estimators=120 \n",
      "[CV]  clf__criterion=entropy, clf__max_depth=6, clf__min_samples_leaf=0.2, clf__min_samples_split=0.2, clf__n_estimators=120, total=   0.2s\n",
      "[CV] clf__criterion=entropy, clf__max_depth=6, clf__min_samples_leaf=0.2, clf__min_samples_split=0.2, clf__n_estimators=120 \n",
      "[CV]  clf__criterion=entropy, clf__max_depth=6, clf__min_samples_leaf=0.2, clf__min_samples_split=0.2, clf__n_estimators=120, total=   0.2s\n",
      "[CV] clf__criterion=entropy, clf__max_depth=6, clf__min_samples_leaf=0.2, clf__min_samples_split=0.2, clf__n_estimators=120 \n",
      "[CV]  clf__criterion=entropy, clf__max_depth=6, clf__min_samples_leaf=0.2, clf__min_samples_split=0.2, clf__n_estimators=120, total=   0.2s\n",
      "[CV] clf__criterion=gini, clf__max_depth=4, clf__min_samples_leaf=0.05, clf__min_samples_split=0.05, clf__n_estimators=120 \n",
      "[CV]  clf__criterion=gini, clf__max_depth=4, clf__min_samples_leaf=0.05, clf__min_samples_split=0.05, clf__n_estimators=120, total=   0.3s\n",
      "[CV] clf__criterion=gini, clf__max_depth=4, clf__min_samples_leaf=0.05, clf__min_samples_split=0.05, clf__n_estimators=120 \n",
      "[CV]  clf__criterion=gini, clf__max_depth=4, clf__min_samples_leaf=0.05, clf__min_samples_split=0.05, clf__n_estimators=120, total=   0.3s\n",
      "[CV] clf__criterion=gini, clf__max_depth=4, clf__min_samples_leaf=0.05, clf__min_samples_split=0.05, clf__n_estimators=120 \n",
      "[CV]  clf__criterion=gini, clf__max_depth=4, clf__min_samples_leaf=0.05, clf__min_samples_split=0.05, clf__n_estimators=120, total=   0.3s\n",
      "[CV] clf__criterion=gini, clf__max_depth=4, clf__min_samples_leaf=0.05, clf__min_samples_split=0.1, clf__n_estimators=120 \n",
      "[CV]  clf__criterion=gini, clf__max_depth=4, clf__min_samples_leaf=0.05, clf__min_samples_split=0.1, clf__n_estimators=120, total=   0.3s\n",
      "[CV] clf__criterion=gini, clf__max_depth=4, clf__min_samples_leaf=0.05, clf__min_samples_split=0.1, clf__n_estimators=120 \n",
      "[CV]  clf__criterion=gini, clf__max_depth=4, clf__min_samples_leaf=0.05, clf__min_samples_split=0.1, clf__n_estimators=120, total=   0.3s\n",
      "[CV] clf__criterion=gini, clf__max_depth=4, clf__min_samples_leaf=0.05, clf__min_samples_split=0.1, clf__n_estimators=120 \n",
      "[CV]  clf__criterion=gini, clf__max_depth=4, clf__min_samples_leaf=0.05, clf__min_samples_split=0.1, clf__n_estimators=120, total=   0.3s\n",
      "[CV] clf__criterion=gini, clf__max_depth=4, clf__min_samples_leaf=0.05, clf__min_samples_split=0.2, clf__n_estimators=120 \n",
      "[CV]  clf__criterion=gini, clf__max_depth=4, clf__min_samples_leaf=0.05, clf__min_samples_split=0.2, clf__n_estimators=120, total=   0.3s\n",
      "[CV] clf__criterion=gini, clf__max_depth=4, clf__min_samples_leaf=0.05, clf__min_samples_split=0.2, clf__n_estimators=120 \n",
      "[CV]  clf__criterion=gini, clf__max_depth=4, clf__min_samples_leaf=0.05, clf__min_samples_split=0.2, clf__n_estimators=120, total=   0.3s\n",
      "[CV] clf__criterion=gini, clf__max_depth=4, clf__min_samples_leaf=0.05, clf__min_samples_split=0.2, clf__n_estimators=120 \n",
      "[CV]  clf__criterion=gini, clf__max_depth=4, clf__min_samples_leaf=0.05, clf__min_samples_split=0.2, clf__n_estimators=120, total=   0.3s\n",
      "[CV] clf__criterion=gini, clf__max_depth=4, clf__min_samples_leaf=0.1, clf__min_samples_split=0.05, clf__n_estimators=120 \n",
      "[CV]  clf__criterion=gini, clf__max_depth=4, clf__min_samples_leaf=0.1, clf__min_samples_split=0.05, clf__n_estimators=120, total=   0.2s\n",
      "[CV] clf__criterion=gini, clf__max_depth=4, clf__min_samples_leaf=0.1, clf__min_samples_split=0.05, clf__n_estimators=120 \n",
      "[CV]  clf__criterion=gini, clf__max_depth=4, clf__min_samples_leaf=0.1, clf__min_samples_split=0.05, clf__n_estimators=120, total=   0.3s\n",
      "[CV] clf__criterion=gini, clf__max_depth=4, clf__min_samples_leaf=0.1, clf__min_samples_split=0.05, clf__n_estimators=120 \n",
      "[CV]  clf__criterion=gini, clf__max_depth=4, clf__min_samples_leaf=0.1, clf__min_samples_split=0.05, clf__n_estimators=120, total=   0.2s\n",
      "[CV] clf__criterion=gini, clf__max_depth=4, clf__min_samples_leaf=0.1, clf__min_samples_split=0.1, clf__n_estimators=120 \n",
      "[CV]  clf__criterion=gini, clf__max_depth=4, clf__min_samples_leaf=0.1, clf__min_samples_split=0.1, clf__n_estimators=120, total=   0.3s\n",
      "[CV] clf__criterion=gini, clf__max_depth=4, clf__min_samples_leaf=0.1, clf__min_samples_split=0.1, clf__n_estimators=120 \n",
      "[CV]  clf__criterion=gini, clf__max_depth=4, clf__min_samples_leaf=0.1, clf__min_samples_split=0.1, clf__n_estimators=120, total=   0.2s\n",
      "[CV] clf__criterion=gini, clf__max_depth=4, clf__min_samples_leaf=0.1, clf__min_samples_split=0.1, clf__n_estimators=120 \n"
     ]
    },
    {
     "name": "stdout",
     "output_type": "stream",
     "text": [
      "[CV]  clf__criterion=gini, clf__max_depth=4, clf__min_samples_leaf=0.1, clf__min_samples_split=0.1, clf__n_estimators=120, total=   0.3s\n",
      "[CV] clf__criterion=gini, clf__max_depth=4, clf__min_samples_leaf=0.1, clf__min_samples_split=0.2, clf__n_estimators=120 \n",
      "[CV]  clf__criterion=gini, clf__max_depth=4, clf__min_samples_leaf=0.1, clf__min_samples_split=0.2, clf__n_estimators=120, total=   0.2s\n",
      "[CV] clf__criterion=gini, clf__max_depth=4, clf__min_samples_leaf=0.1, clf__min_samples_split=0.2, clf__n_estimators=120 \n",
      "[CV]  clf__criterion=gini, clf__max_depth=4, clf__min_samples_leaf=0.1, clf__min_samples_split=0.2, clf__n_estimators=120, total=   0.2s\n",
      "[CV] clf__criterion=gini, clf__max_depth=4, clf__min_samples_leaf=0.1, clf__min_samples_split=0.2, clf__n_estimators=120 \n",
      "[CV]  clf__criterion=gini, clf__max_depth=4, clf__min_samples_leaf=0.1, clf__min_samples_split=0.2, clf__n_estimators=120, total=   0.3s\n",
      "[CV] clf__criterion=gini, clf__max_depth=4, clf__min_samples_leaf=0.2, clf__min_samples_split=0.05, clf__n_estimators=120 \n",
      "[CV]  clf__criterion=gini, clf__max_depth=4, clf__min_samples_leaf=0.2, clf__min_samples_split=0.05, clf__n_estimators=120, total=   0.2s\n",
      "[CV] clf__criterion=gini, clf__max_depth=4, clf__min_samples_leaf=0.2, clf__min_samples_split=0.05, clf__n_estimators=120 \n",
      "[CV]  clf__criterion=gini, clf__max_depth=4, clf__min_samples_leaf=0.2, clf__min_samples_split=0.05, clf__n_estimators=120, total=   0.2s\n",
      "[CV] clf__criterion=gini, clf__max_depth=4, clf__min_samples_leaf=0.2, clf__min_samples_split=0.05, clf__n_estimators=120 \n",
      "[CV]  clf__criterion=gini, clf__max_depth=4, clf__min_samples_leaf=0.2, clf__min_samples_split=0.05, clf__n_estimators=120, total=   0.2s\n",
      "[CV] clf__criterion=gini, clf__max_depth=4, clf__min_samples_leaf=0.2, clf__min_samples_split=0.1, clf__n_estimators=120 \n",
      "[CV]  clf__criterion=gini, clf__max_depth=4, clf__min_samples_leaf=0.2, clf__min_samples_split=0.1, clf__n_estimators=120, total=   0.2s\n",
      "[CV] clf__criterion=gini, clf__max_depth=4, clf__min_samples_leaf=0.2, clf__min_samples_split=0.1, clf__n_estimators=120 \n",
      "[CV]  clf__criterion=gini, clf__max_depth=4, clf__min_samples_leaf=0.2, clf__min_samples_split=0.1, clf__n_estimators=120, total=   0.2s\n",
      "[CV] clf__criterion=gini, clf__max_depth=4, clf__min_samples_leaf=0.2, clf__min_samples_split=0.1, clf__n_estimators=120 \n",
      "[CV]  clf__criterion=gini, clf__max_depth=4, clf__min_samples_leaf=0.2, clf__min_samples_split=0.1, clf__n_estimators=120, total=   0.2s\n",
      "[CV] clf__criterion=gini, clf__max_depth=4, clf__min_samples_leaf=0.2, clf__min_samples_split=0.2, clf__n_estimators=120 \n",
      "[CV]  clf__criterion=gini, clf__max_depth=4, clf__min_samples_leaf=0.2, clf__min_samples_split=0.2, clf__n_estimators=120, total=   0.2s\n",
      "[CV] clf__criterion=gini, clf__max_depth=4, clf__min_samples_leaf=0.2, clf__min_samples_split=0.2, clf__n_estimators=120 \n",
      "[CV]  clf__criterion=gini, clf__max_depth=4, clf__min_samples_leaf=0.2, clf__min_samples_split=0.2, clf__n_estimators=120, total=   0.2s\n",
      "[CV] clf__criterion=gini, clf__max_depth=4, clf__min_samples_leaf=0.2, clf__min_samples_split=0.2, clf__n_estimators=120 \n",
      "[CV]  clf__criterion=gini, clf__max_depth=4, clf__min_samples_leaf=0.2, clf__min_samples_split=0.2, clf__n_estimators=120, total=   0.2s\n",
      "[CV] clf__criterion=gini, clf__max_depth=5, clf__min_samples_leaf=0.05, clf__min_samples_split=0.05, clf__n_estimators=120 \n",
      "[CV]  clf__criterion=gini, clf__max_depth=5, clf__min_samples_leaf=0.05, clf__min_samples_split=0.05, clf__n_estimators=120, total=   0.3s\n",
      "[CV] clf__criterion=gini, clf__max_depth=5, clf__min_samples_leaf=0.05, clf__min_samples_split=0.05, clf__n_estimators=120 \n",
      "[CV]  clf__criterion=gini, clf__max_depth=5, clf__min_samples_leaf=0.05, clf__min_samples_split=0.05, clf__n_estimators=120, total=   0.3s\n",
      "[CV] clf__criterion=gini, clf__max_depth=5, clf__min_samples_leaf=0.05, clf__min_samples_split=0.05, clf__n_estimators=120 \n",
      "[CV]  clf__criterion=gini, clf__max_depth=5, clf__min_samples_leaf=0.05, clf__min_samples_split=0.05, clf__n_estimators=120, total=   0.3s\n",
      "[CV] clf__criterion=gini, clf__max_depth=5, clf__min_samples_leaf=0.05, clf__min_samples_split=0.1, clf__n_estimators=120 \n",
      "[CV]  clf__criterion=gini, clf__max_depth=5, clf__min_samples_leaf=0.05, clf__min_samples_split=0.1, clf__n_estimators=120, total=   0.3s\n",
      "[CV] clf__criterion=gini, clf__max_depth=5, clf__min_samples_leaf=0.05, clf__min_samples_split=0.1, clf__n_estimators=120 \n",
      "[CV]  clf__criterion=gini, clf__max_depth=5, clf__min_samples_leaf=0.05, clf__min_samples_split=0.1, clf__n_estimators=120, total=   0.3s\n",
      "[CV] clf__criterion=gini, clf__max_depth=5, clf__min_samples_leaf=0.05, clf__min_samples_split=0.1, clf__n_estimators=120 \n",
      "[CV]  clf__criterion=gini, clf__max_depth=5, clf__min_samples_leaf=0.05, clf__min_samples_split=0.1, clf__n_estimators=120, total=   0.3s\n",
      "[CV] clf__criterion=gini, clf__max_depth=5, clf__min_samples_leaf=0.05, clf__min_samples_split=0.2, clf__n_estimators=120 \n",
      "[CV]  clf__criterion=gini, clf__max_depth=5, clf__min_samples_leaf=0.05, clf__min_samples_split=0.2, clf__n_estimators=120, total=   0.3s\n",
      "[CV] clf__criterion=gini, clf__max_depth=5, clf__min_samples_leaf=0.05, clf__min_samples_split=0.2, clf__n_estimators=120 \n",
      "[CV]  clf__criterion=gini, clf__max_depth=5, clf__min_samples_leaf=0.05, clf__min_samples_split=0.2, clf__n_estimators=120, total=   0.3s\n",
      "[CV] clf__criterion=gini, clf__max_depth=5, clf__min_samples_leaf=0.05, clf__min_samples_split=0.2, clf__n_estimators=120 \n",
      "[CV]  clf__criterion=gini, clf__max_depth=5, clf__min_samples_leaf=0.05, clf__min_samples_split=0.2, clf__n_estimators=120, total=   0.3s\n",
      "[CV] clf__criterion=gini, clf__max_depth=5, clf__min_samples_leaf=0.1, clf__min_samples_split=0.05, clf__n_estimators=120 \n",
      "[CV]  clf__criterion=gini, clf__max_depth=5, clf__min_samples_leaf=0.1, clf__min_samples_split=0.05, clf__n_estimators=120, total=   0.2s\n",
      "[CV] clf__criterion=gini, clf__max_depth=5, clf__min_samples_leaf=0.1, clf__min_samples_split=0.05, clf__n_estimators=120 \n",
      "[CV]  clf__criterion=gini, clf__max_depth=5, clf__min_samples_leaf=0.1, clf__min_samples_split=0.05, clf__n_estimators=120, total=   0.2s\n",
      "[CV] clf__criterion=gini, clf__max_depth=5, clf__min_samples_leaf=0.1, clf__min_samples_split=0.05, clf__n_estimators=120 \n",
      "[CV]  clf__criterion=gini, clf__max_depth=5, clf__min_samples_leaf=0.1, clf__min_samples_split=0.05, clf__n_estimators=120, total=   0.2s\n",
      "[CV] clf__criterion=gini, clf__max_depth=5, clf__min_samples_leaf=0.1, clf__min_samples_split=0.1, clf__n_estimators=120 \n",
      "[CV]  clf__criterion=gini, clf__max_depth=5, clf__min_samples_leaf=0.1, clf__min_samples_split=0.1, clf__n_estimators=120, total=   0.2s\n",
      "[CV] clf__criterion=gini, clf__max_depth=5, clf__min_samples_leaf=0.1, clf__min_samples_split=0.1, clf__n_estimators=120 \n",
      "[CV]  clf__criterion=gini, clf__max_depth=5, clf__min_samples_leaf=0.1, clf__min_samples_split=0.1, clf__n_estimators=120, total=   0.2s\n",
      "[CV] clf__criterion=gini, clf__max_depth=5, clf__min_samples_leaf=0.1, clf__min_samples_split=0.1, clf__n_estimators=120 \n",
      "[CV]  clf__criterion=gini, clf__max_depth=5, clf__min_samples_leaf=0.1, clf__min_samples_split=0.1, clf__n_estimators=120, total=   0.3s\n",
      "[CV] clf__criterion=gini, clf__max_depth=5, clf__min_samples_leaf=0.1, clf__min_samples_split=0.2, clf__n_estimators=120 \n",
      "[CV]  clf__criterion=gini, clf__max_depth=5, clf__min_samples_leaf=0.1, clf__min_samples_split=0.2, clf__n_estimators=120, total=   0.2s\n",
      "[CV] clf__criterion=gini, clf__max_depth=5, clf__min_samples_leaf=0.1, clf__min_samples_split=0.2, clf__n_estimators=120 \n",
      "[CV]  clf__criterion=gini, clf__max_depth=5, clf__min_samples_leaf=0.1, clf__min_samples_split=0.2, clf__n_estimators=120, total=   0.2s\n",
      "[CV] clf__criterion=gini, clf__max_depth=5, clf__min_samples_leaf=0.1, clf__min_samples_split=0.2, clf__n_estimators=120 \n",
      "[CV]  clf__criterion=gini, clf__max_depth=5, clf__min_samples_leaf=0.1, clf__min_samples_split=0.2, clf__n_estimators=120, total=   0.2s\n",
      "[CV] clf__criterion=gini, clf__max_depth=5, clf__min_samples_leaf=0.2, clf__min_samples_split=0.05, clf__n_estimators=120 \n",
      "[CV]  clf__criterion=gini, clf__max_depth=5, clf__min_samples_leaf=0.2, clf__min_samples_split=0.05, clf__n_estimators=120, total=   0.2s\n",
      "[CV] clf__criterion=gini, clf__max_depth=5, clf__min_samples_leaf=0.2, clf__min_samples_split=0.05, clf__n_estimators=120 \n"
     ]
    },
    {
     "name": "stdout",
     "output_type": "stream",
     "text": [
      "[CV]  clf__criterion=gini, clf__max_depth=5, clf__min_samples_leaf=0.2, clf__min_samples_split=0.05, clf__n_estimators=120, total=   0.2s\n",
      "[CV] clf__criterion=gini, clf__max_depth=5, clf__min_samples_leaf=0.2, clf__min_samples_split=0.05, clf__n_estimators=120 \n",
      "[CV]  clf__criterion=gini, clf__max_depth=5, clf__min_samples_leaf=0.2, clf__min_samples_split=0.05, clf__n_estimators=120, total=   0.2s\n",
      "[CV] clf__criterion=gini, clf__max_depth=5, clf__min_samples_leaf=0.2, clf__min_samples_split=0.1, clf__n_estimators=120 \n",
      "[CV]  clf__criterion=gini, clf__max_depth=5, clf__min_samples_leaf=0.2, clf__min_samples_split=0.1, clf__n_estimators=120, total=   0.2s\n",
      "[CV] clf__criterion=gini, clf__max_depth=5, clf__min_samples_leaf=0.2, clf__min_samples_split=0.1, clf__n_estimators=120 \n",
      "[CV]  clf__criterion=gini, clf__max_depth=5, clf__min_samples_leaf=0.2, clf__min_samples_split=0.1, clf__n_estimators=120, total=   0.2s\n",
      "[CV] clf__criterion=gini, clf__max_depth=5, clf__min_samples_leaf=0.2, clf__min_samples_split=0.1, clf__n_estimators=120 \n",
      "[CV]  clf__criterion=gini, clf__max_depth=5, clf__min_samples_leaf=0.2, clf__min_samples_split=0.1, clf__n_estimators=120, total=   0.2s\n",
      "[CV] clf__criterion=gini, clf__max_depth=5, clf__min_samples_leaf=0.2, clf__min_samples_split=0.2, clf__n_estimators=120 \n",
      "[CV]  clf__criterion=gini, clf__max_depth=5, clf__min_samples_leaf=0.2, clf__min_samples_split=0.2, clf__n_estimators=120, total=   0.2s\n",
      "[CV] clf__criterion=gini, clf__max_depth=5, clf__min_samples_leaf=0.2, clf__min_samples_split=0.2, clf__n_estimators=120 \n",
      "[CV]  clf__criterion=gini, clf__max_depth=5, clf__min_samples_leaf=0.2, clf__min_samples_split=0.2, clf__n_estimators=120, total=   0.2s\n",
      "[CV] clf__criterion=gini, clf__max_depth=5, clf__min_samples_leaf=0.2, clf__min_samples_split=0.2, clf__n_estimators=120 \n",
      "[CV]  clf__criterion=gini, clf__max_depth=5, clf__min_samples_leaf=0.2, clf__min_samples_split=0.2, clf__n_estimators=120, total=   0.2s\n",
      "[CV] clf__criterion=gini, clf__max_depth=6, clf__min_samples_leaf=0.05, clf__min_samples_split=0.05, clf__n_estimators=120 \n",
      "[CV]  clf__criterion=gini, clf__max_depth=6, clf__min_samples_leaf=0.05, clf__min_samples_split=0.05, clf__n_estimators=120, total=   0.3s\n",
      "[CV] clf__criterion=gini, clf__max_depth=6, clf__min_samples_leaf=0.05, clf__min_samples_split=0.05, clf__n_estimators=120 \n",
      "[CV]  clf__criterion=gini, clf__max_depth=6, clf__min_samples_leaf=0.05, clf__min_samples_split=0.05, clf__n_estimators=120, total=   0.3s\n",
      "[CV] clf__criterion=gini, clf__max_depth=6, clf__min_samples_leaf=0.05, clf__min_samples_split=0.05, clf__n_estimators=120 \n",
      "[CV]  clf__criterion=gini, clf__max_depth=6, clf__min_samples_leaf=0.05, clf__min_samples_split=0.05, clf__n_estimators=120, total=   0.3s\n",
      "[CV] clf__criterion=gini, clf__max_depth=6, clf__min_samples_leaf=0.05, clf__min_samples_split=0.1, clf__n_estimators=120 \n",
      "[CV]  clf__criterion=gini, clf__max_depth=6, clf__min_samples_leaf=0.05, clf__min_samples_split=0.1, clf__n_estimators=120, total=   0.3s\n",
      "[CV] clf__criterion=gini, clf__max_depth=6, clf__min_samples_leaf=0.05, clf__min_samples_split=0.1, clf__n_estimators=120 \n",
      "[CV]  clf__criterion=gini, clf__max_depth=6, clf__min_samples_leaf=0.05, clf__min_samples_split=0.1, clf__n_estimators=120, total=   0.3s\n",
      "[CV] clf__criterion=gini, clf__max_depth=6, clf__min_samples_leaf=0.05, clf__min_samples_split=0.1, clf__n_estimators=120 \n",
      "[CV]  clf__criterion=gini, clf__max_depth=6, clf__min_samples_leaf=0.05, clf__min_samples_split=0.1, clf__n_estimators=120, total=   0.3s\n",
      "[CV] clf__criterion=gini, clf__max_depth=6, clf__min_samples_leaf=0.05, clf__min_samples_split=0.2, clf__n_estimators=120 \n",
      "[CV]  clf__criterion=gini, clf__max_depth=6, clf__min_samples_leaf=0.05, clf__min_samples_split=0.2, clf__n_estimators=120, total=   0.3s\n",
      "[CV] clf__criterion=gini, clf__max_depth=6, clf__min_samples_leaf=0.05, clf__min_samples_split=0.2, clf__n_estimators=120 \n",
      "[CV]  clf__criterion=gini, clf__max_depth=6, clf__min_samples_leaf=0.05, clf__min_samples_split=0.2, clf__n_estimators=120, total=   0.3s\n",
      "[CV] clf__criterion=gini, clf__max_depth=6, clf__min_samples_leaf=0.05, clf__min_samples_split=0.2, clf__n_estimators=120 \n",
      "[CV]  clf__criterion=gini, clf__max_depth=6, clf__min_samples_leaf=0.05, clf__min_samples_split=0.2, clf__n_estimators=120, total=   0.3s\n",
      "[CV] clf__criterion=gini, clf__max_depth=6, clf__min_samples_leaf=0.1, clf__min_samples_split=0.05, clf__n_estimators=120 \n",
      "[CV]  clf__criterion=gini, clf__max_depth=6, clf__min_samples_leaf=0.1, clf__min_samples_split=0.05, clf__n_estimators=120, total=   0.2s\n",
      "[CV] clf__criterion=gini, clf__max_depth=6, clf__min_samples_leaf=0.1, clf__min_samples_split=0.05, clf__n_estimators=120 \n",
      "[CV]  clf__criterion=gini, clf__max_depth=6, clf__min_samples_leaf=0.1, clf__min_samples_split=0.05, clf__n_estimators=120, total=   0.2s\n",
      "[CV] clf__criterion=gini, clf__max_depth=6, clf__min_samples_leaf=0.1, clf__min_samples_split=0.05, clf__n_estimators=120 \n",
      "[CV]  clf__criterion=gini, clf__max_depth=6, clf__min_samples_leaf=0.1, clf__min_samples_split=0.05, clf__n_estimators=120, total=   0.2s\n",
      "[CV] clf__criterion=gini, clf__max_depth=6, clf__min_samples_leaf=0.1, clf__min_samples_split=0.1, clf__n_estimators=120 \n",
      "[CV]  clf__criterion=gini, clf__max_depth=6, clf__min_samples_leaf=0.1, clf__min_samples_split=0.1, clf__n_estimators=120, total=   0.2s\n",
      "[CV] clf__criterion=gini, clf__max_depth=6, clf__min_samples_leaf=0.1, clf__min_samples_split=0.1, clf__n_estimators=120 \n",
      "[CV]  clf__criterion=gini, clf__max_depth=6, clf__min_samples_leaf=0.1, clf__min_samples_split=0.1, clf__n_estimators=120, total=   0.2s\n",
      "[CV] clf__criterion=gini, clf__max_depth=6, clf__min_samples_leaf=0.1, clf__min_samples_split=0.1, clf__n_estimators=120 \n",
      "[CV]  clf__criterion=gini, clf__max_depth=6, clf__min_samples_leaf=0.1, clf__min_samples_split=0.1, clf__n_estimators=120, total=   0.2s\n",
      "[CV] clf__criterion=gini, clf__max_depth=6, clf__min_samples_leaf=0.1, clf__min_samples_split=0.2, clf__n_estimators=120 \n",
      "[CV]  clf__criterion=gini, clf__max_depth=6, clf__min_samples_leaf=0.1, clf__min_samples_split=0.2, clf__n_estimators=120, total=   0.2s\n",
      "[CV] clf__criterion=gini, clf__max_depth=6, clf__min_samples_leaf=0.1, clf__min_samples_split=0.2, clf__n_estimators=120 \n",
      "[CV]  clf__criterion=gini, clf__max_depth=6, clf__min_samples_leaf=0.1, clf__min_samples_split=0.2, clf__n_estimators=120, total=   0.2s\n",
      "[CV] clf__criterion=gini, clf__max_depth=6, clf__min_samples_leaf=0.1, clf__min_samples_split=0.2, clf__n_estimators=120 \n",
      "[CV]  clf__criterion=gini, clf__max_depth=6, clf__min_samples_leaf=0.1, clf__min_samples_split=0.2, clf__n_estimators=120, total=   0.2s\n",
      "[CV] clf__criterion=gini, clf__max_depth=6, clf__min_samples_leaf=0.2, clf__min_samples_split=0.05, clf__n_estimators=120 \n",
      "[CV]  clf__criterion=gini, clf__max_depth=6, clf__min_samples_leaf=0.2, clf__min_samples_split=0.05, clf__n_estimators=120, total=   0.2s\n",
      "[CV] clf__criterion=gini, clf__max_depth=6, clf__min_samples_leaf=0.2, clf__min_samples_split=0.05, clf__n_estimators=120 \n",
      "[CV]  clf__criterion=gini, clf__max_depth=6, clf__min_samples_leaf=0.2, clf__min_samples_split=0.05, clf__n_estimators=120, total=   0.2s\n",
      "[CV] clf__criterion=gini, clf__max_depth=6, clf__min_samples_leaf=0.2, clf__min_samples_split=0.05, clf__n_estimators=120 \n",
      "[CV]  clf__criterion=gini, clf__max_depth=6, clf__min_samples_leaf=0.2, clf__min_samples_split=0.05, clf__n_estimators=120, total=   0.2s\n",
      "[CV] clf__criterion=gini, clf__max_depth=6, clf__min_samples_leaf=0.2, clf__min_samples_split=0.1, clf__n_estimators=120 \n",
      "[CV]  clf__criterion=gini, clf__max_depth=6, clf__min_samples_leaf=0.2, clf__min_samples_split=0.1, clf__n_estimators=120, total=   0.2s\n",
      "[CV] clf__criterion=gini, clf__max_depth=6, clf__min_samples_leaf=0.2, clf__min_samples_split=0.1, clf__n_estimators=120 \n",
      "[CV]  clf__criterion=gini, clf__max_depth=6, clf__min_samples_leaf=0.2, clf__min_samples_split=0.1, clf__n_estimators=120, total=   0.2s\n",
      "[CV] clf__criterion=gini, clf__max_depth=6, clf__min_samples_leaf=0.2, clf__min_samples_split=0.1, clf__n_estimators=120 \n",
      "[CV]  clf__criterion=gini, clf__max_depth=6, clf__min_samples_leaf=0.2, clf__min_samples_split=0.1, clf__n_estimators=120, total=   0.2s\n",
      "[CV] clf__criterion=gini, clf__max_depth=6, clf__min_samples_leaf=0.2, clf__min_samples_split=0.2, clf__n_estimators=120 \n"
     ]
    },
    {
     "name": "stdout",
     "output_type": "stream",
     "text": [
      "[CV]  clf__criterion=gini, clf__max_depth=6, clf__min_samples_leaf=0.2, clf__min_samples_split=0.2, clf__n_estimators=120, total=   0.2s\n",
      "[CV] clf__criterion=gini, clf__max_depth=6, clf__min_samples_leaf=0.2, clf__min_samples_split=0.2, clf__n_estimators=120 \n",
      "[CV]  clf__criterion=gini, clf__max_depth=6, clf__min_samples_leaf=0.2, clf__min_samples_split=0.2, clf__n_estimators=120, total=   0.2s\n",
      "[CV] clf__criterion=gini, clf__max_depth=6, clf__min_samples_leaf=0.2, clf__min_samples_split=0.2, clf__n_estimators=120 \n",
      "[CV]  clf__criterion=gini, clf__max_depth=6, clf__min_samples_leaf=0.2, clf__min_samples_split=0.2, clf__n_estimators=120, total=   0.2s\n"
     ]
    },
    {
     "name": "stderr",
     "output_type": "stream",
     "text": [
      "[Parallel(n_jobs=1)]: Done 162 out of 162 | elapsed:   43.1s finished\n"
     ]
    },
    {
     "name": "stdout",
     "output_type": "stream",
     "text": [
      "Best accuracy: 0.683\n",
      "\n",
      "Best params:\n",
      " {'clf__criterion': 'entropy', 'clf__max_depth': 5, 'clf__min_samples_leaf': 0.05, 'clf__min_samples_split': 0.05, 'clf__n_estimators': 120}\n"
     ]
    }
   ],
   "source": [
    "# https://github.com/learn-co-curriculum/dsc-pipelines-lab/tree/solution\n",
    "# Construct pipeline\n",
    "pipe_rf = Pipeline([('pca', PCA(n_components=27)),\n",
    "            ('clf', RandomForestClassifier(random_state = 123))])\n",
    "\n",
    "# Set grid search params\n",
    "param_grid_forest = [ \n",
    "  {'clf__n_estimators': [120],\n",
    "   'clf__criterion': ['entropy', 'gini'], \n",
    "   'clf__max_depth': [4, 5, 6],  \n",
    "   'clf__min_samples_leaf':[0.05 ,0.1, 0.2],  \n",
    "   'clf__min_samples_split':[0.05 ,0.1, 0.2]\n",
    "  }\n",
    "]\n",
    "\n",
    "# Construct grid search\n",
    "gs_rf = GridSearchCV(estimator=pipe_rf,\n",
    "            param_grid=param_grid_forest,\n",
    "            scoring='accuracy',\n",
    "            cv=3, verbose=2, return_train_score = True)\n",
    "\n",
    "# Fit using grid search\n",
    "gs_rf.fit(X_train, y_train)\n",
    "\n",
    "# Best accuracy\n",
    "print('Best accuracy: %.3f' % gs_rf.best_score_)\n",
    "\n",
    "# Best params\n",
    "print('\\nBest params:\\n', gs_rf.best_params_)"
   ]
  },
  {
   "cell_type": "markdown",
   "metadata": {
    "heading_collapsed": true
   },
   "source": [
    "### Gridsearch"
   ]
  },
  {
   "cell_type": "code",
   "execution_count": 111,
   "metadata": {
    "ExecuteTime": {
     "end_time": "2019-07-26T18:29:12.041700Z",
     "start_time": "2019-07-26T18:29:00.007374Z"
    },
    "hidden": true
   },
   "outputs": [
    {
     "name": "stdout",
     "output_type": "stream",
     "text": [
      "Mean accuracy on the test data: 0.72%\n",
      "The best parameters are: {'min_samples_leaf': 4, 'min_samples_split': 2, 'n_estimators': 100}\n"
     ]
    }
   ],
   "source": [
    "model_rf = RandomForestClassifier()\n",
    "\n",
    "# Use GridsearchCV to find a more optimal combination of hyperparameters\n",
    "param_grid = {'n_estimators': [50, 100], 'min_samples_split': [2, 4], 'min_samples_leaf': [2, 4]}\n",
    "gs = GridSearchCV(model_rf, param_grid, cv=5)\n",
    "gs.fit(X_train, y_train)\n",
    "print('Mean accuracy on the test data: {}%'.format(round(gs.score(X_test, y_test), 2)))\n",
    "print('The best parameters are:', gs.best_params_)"
   ]
  },
  {
   "cell_type": "code",
   "execution_count": 113,
   "metadata": {
    "ExecuteTime": {
     "end_time": "2019-07-26T18:29:39.905384Z",
     "start_time": "2019-07-26T18:29:39.889316Z"
    },
    "collapsed": true,
    "hidden": true
   },
   "outputs": [
    {
     "ename": "NotFittedError",
     "evalue": "This RandomForestClassifier instance is not fitted yet. Call 'fit' with appropriate arguments before using this method.",
     "output_type": "error",
     "traceback": [
      "\u001b[0;31m---------------------------------------------------------------------------\u001b[0m",
      "\u001b[0;31mNotFittedError\u001b[0m                            Traceback (most recent call last)",
      "\u001b[0;32m<ipython-input-113-5adcce3fe8c0>\u001b[0m in \u001b[0;36m<module>\u001b[0;34m()\u001b[0m\n\u001b[1;32m      1\u001b[0m \u001b[0mmodel_rf\u001b[0m \u001b[0;34m=\u001b[0m \u001b[0mRandomForestClassifier\u001b[0m\u001b[0;34m(\u001b[0m\u001b[0mgs\u001b[0m\u001b[0;34m.\u001b[0m\u001b[0mbest_params_\u001b[0m\u001b[0;34m)\u001b[0m\u001b[0;34m\u001b[0m\u001b[0m\n\u001b[0;32m----> 2\u001b[0;31m \u001b[0mmodel_rf\u001b[0m\u001b[0;34m.\u001b[0m\u001b[0mscore\u001b[0m\u001b[0;34m(\u001b[0m\u001b[0mX_test\u001b[0m\u001b[0;34m,\u001b[0m \u001b[0my_test\u001b[0m\u001b[0;34m)\u001b[0m\u001b[0;34m\u001b[0m\u001b[0m\n\u001b[0m",
      "\u001b[0;32m/anaconda3/envs/ml-ufc-env/lib/python3.6/site-packages/sklearn/base.py\u001b[0m in \u001b[0;36mscore\u001b[0;34m(self, X, y, sample_weight)\u001b[0m\n\u001b[1;32m    286\u001b[0m         \"\"\"\n\u001b[1;32m    287\u001b[0m         \u001b[0;32mfrom\u001b[0m \u001b[0;34m.\u001b[0m\u001b[0mmetrics\u001b[0m \u001b[0;32mimport\u001b[0m \u001b[0maccuracy_score\u001b[0m\u001b[0;34m\u001b[0m\u001b[0m\n\u001b[0;32m--> 288\u001b[0;31m         \u001b[0;32mreturn\u001b[0m \u001b[0maccuracy_score\u001b[0m\u001b[0;34m(\u001b[0m\u001b[0my\u001b[0m\u001b[0;34m,\u001b[0m \u001b[0mself\u001b[0m\u001b[0;34m.\u001b[0m\u001b[0mpredict\u001b[0m\u001b[0;34m(\u001b[0m\u001b[0mX\u001b[0m\u001b[0;34m)\u001b[0m\u001b[0;34m,\u001b[0m \u001b[0msample_weight\u001b[0m\u001b[0;34m=\u001b[0m\u001b[0msample_weight\u001b[0m\u001b[0;34m)\u001b[0m\u001b[0;34m\u001b[0m\u001b[0m\n\u001b[0m\u001b[1;32m    289\u001b[0m \u001b[0;34m\u001b[0m\u001b[0m\n\u001b[1;32m    290\u001b[0m \u001b[0;34m\u001b[0m\u001b[0m\n",
      "\u001b[0;32m/anaconda3/envs/ml-ufc-env/lib/python3.6/site-packages/sklearn/ensemble/forest.py\u001b[0m in \u001b[0;36mpredict\u001b[0;34m(self, X)\u001b[0m\n\u001b[1;32m    541\u001b[0m             \u001b[0mThe\u001b[0m \u001b[0mpredicted\u001b[0m \u001b[0mclasses\u001b[0m\u001b[0;34m.\u001b[0m\u001b[0;34m\u001b[0m\u001b[0m\n\u001b[1;32m    542\u001b[0m         \"\"\"\n\u001b[0;32m--> 543\u001b[0;31m         \u001b[0mproba\u001b[0m \u001b[0;34m=\u001b[0m \u001b[0mself\u001b[0m\u001b[0;34m.\u001b[0m\u001b[0mpredict_proba\u001b[0m\u001b[0;34m(\u001b[0m\u001b[0mX\u001b[0m\u001b[0;34m)\u001b[0m\u001b[0;34m\u001b[0m\u001b[0m\n\u001b[0m\u001b[1;32m    544\u001b[0m \u001b[0;34m\u001b[0m\u001b[0m\n\u001b[1;32m    545\u001b[0m         \u001b[0;32mif\u001b[0m \u001b[0mself\u001b[0m\u001b[0;34m.\u001b[0m\u001b[0mn_outputs_\u001b[0m \u001b[0;34m==\u001b[0m \u001b[0;36m1\u001b[0m\u001b[0;34m:\u001b[0m\u001b[0;34m\u001b[0m\u001b[0m\n",
      "\u001b[0;32m/anaconda3/envs/ml-ufc-env/lib/python3.6/site-packages/sklearn/ensemble/forest.py\u001b[0m in \u001b[0;36mpredict_proba\u001b[0;34m(self, X)\u001b[0m\n\u001b[1;32m    579\u001b[0m             \u001b[0mclasses\u001b[0m \u001b[0mcorresponds\u001b[0m \u001b[0mto\u001b[0m \u001b[0mthat\u001b[0m \u001b[0;32min\u001b[0m \u001b[0mthe\u001b[0m \u001b[0mattribute\u001b[0m\u001b[0;31m \u001b[0m\u001b[0;31m`\u001b[0m\u001b[0mclasses_\u001b[0m\u001b[0;31m`\u001b[0m\u001b[0;34m.\u001b[0m\u001b[0;34m\u001b[0m\u001b[0m\n\u001b[1;32m    580\u001b[0m         \"\"\"\n\u001b[0;32m--> 581\u001b[0;31m         \u001b[0mcheck_is_fitted\u001b[0m\u001b[0;34m(\u001b[0m\u001b[0mself\u001b[0m\u001b[0;34m,\u001b[0m \u001b[0;34m'estimators_'\u001b[0m\u001b[0;34m)\u001b[0m\u001b[0;34m\u001b[0m\u001b[0m\n\u001b[0m\u001b[1;32m    582\u001b[0m         \u001b[0;31m# Check data\u001b[0m\u001b[0;34m\u001b[0m\u001b[0;34m\u001b[0m\u001b[0m\n\u001b[1;32m    583\u001b[0m         \u001b[0mX\u001b[0m \u001b[0;34m=\u001b[0m \u001b[0mself\u001b[0m\u001b[0;34m.\u001b[0m\u001b[0m_validate_X_predict\u001b[0m\u001b[0;34m(\u001b[0m\u001b[0mX\u001b[0m\u001b[0;34m)\u001b[0m\u001b[0;34m\u001b[0m\u001b[0m\n",
      "\u001b[0;32m/anaconda3/envs/ml-ufc-env/lib/python3.6/site-packages/sklearn/utils/validation.py\u001b[0m in \u001b[0;36mcheck_is_fitted\u001b[0;34m(estimator, attributes, msg, all_or_any)\u001b[0m\n\u001b[1;32m    949\u001b[0m \u001b[0;34m\u001b[0m\u001b[0m\n\u001b[1;32m    950\u001b[0m     \u001b[0;32mif\u001b[0m \u001b[0;32mnot\u001b[0m \u001b[0mall_or_any\u001b[0m\u001b[0;34m(\u001b[0m\u001b[0;34m[\u001b[0m\u001b[0mhasattr\u001b[0m\u001b[0;34m(\u001b[0m\u001b[0mestimator\u001b[0m\u001b[0;34m,\u001b[0m \u001b[0mattr\u001b[0m\u001b[0;34m)\u001b[0m \u001b[0;32mfor\u001b[0m \u001b[0mattr\u001b[0m \u001b[0;32min\u001b[0m \u001b[0mattributes\u001b[0m\u001b[0;34m]\u001b[0m\u001b[0;34m)\u001b[0m\u001b[0;34m:\u001b[0m\u001b[0;34m\u001b[0m\u001b[0m\n\u001b[0;32m--> 951\u001b[0;31m         \u001b[0;32mraise\u001b[0m \u001b[0mNotFittedError\u001b[0m\u001b[0;34m(\u001b[0m\u001b[0mmsg\u001b[0m \u001b[0;34m%\u001b[0m \u001b[0;34m{\u001b[0m\u001b[0;34m'name'\u001b[0m\u001b[0;34m:\u001b[0m \u001b[0mtype\u001b[0m\u001b[0;34m(\u001b[0m\u001b[0mestimator\u001b[0m\u001b[0;34m)\u001b[0m\u001b[0;34m.\u001b[0m\u001b[0m__name__\u001b[0m\u001b[0;34m}\u001b[0m\u001b[0;34m)\u001b[0m\u001b[0;34m\u001b[0m\u001b[0m\n\u001b[0m\u001b[1;32m    952\u001b[0m \u001b[0;34m\u001b[0m\u001b[0m\n\u001b[1;32m    953\u001b[0m \u001b[0;34m\u001b[0m\u001b[0m\n",
      "\u001b[0;31mNotFittedError\u001b[0m: This RandomForestClassifier instance is not fitted yet. Call 'fit' with appropriate arguments before using this method."
     ]
    }
   ],
   "source": [
    "model_rf = RandomForestClassifier(gs.best_params_)\n",
    "model_rf.score(X_test, y_test)"
   ]
  },
  {
   "cell_type": "markdown",
   "metadata": {},
   "source": [
    "### Decision Trees - Gradient Boosting\n",
    "- 2 popular ensemble methods:\n",
    "    - Bagging (includes RF)\n",
    "    - Boosting (includes AdaBoost and Gradient Boosting)"
   ]
  },
  {
   "cell_type": "code",
   "execution_count": 235,
   "metadata": {
    "ExecuteTime": {
     "end_time": "2019-07-28T00:17:29.691549Z",
     "start_time": "2019-07-28T00:17:29.648484Z"
    },
    "scrolled": true
   },
   "outputs": [],
   "source": [
    "import pandas as pd\n",
    "from sklearn.metrics import confusion_matrix\n",
    "data = pd.read_csv('../data/processed/combined')\n",
    "X = data.drop(['fighter1', 'fighter2', 'winner_is_fighter1'],axis=1)\n",
    "y = data['winner_is_fighter1']\n",
    "X_train, X_test, y_train, y_test = train_test_split(X, y, test_size=0.3, random_state=1, stratify=y)\n"
   ]
  },
  {
   "cell_type": "code",
   "execution_count": null,
   "metadata": {
    "ExecuteTime": {
     "end_time": "2019-07-26T18:03:10.873614Z",
     "start_time": "2019-07-26T18:03:10.871438Z"
    }
   },
   "outputs": [],
   "source": []
  },
  {
   "cell_type": "code",
   "execution_count": 262,
   "metadata": {
    "ExecuteTime": {
     "end_time": "2019-07-28T00:48:49.097692Z",
     "start_time": "2019-07-28T00:48:49.089294Z"
    }
   },
   "outputs": [],
   "source": [
    "import numpy as np\n",
    "from sklearn.metrics import precision_score, recall_score, accuracy_score\n",
    "import xgboost as xgb\n",
    "\n",
    "D_train = xgb.DMatrix(X_train, label=y_train)\n",
    "D_test = xgb.DMatrix(X_test, label=y_test)\n",
    "\n",
    "param = {\n",
    "    'eta': 0.3, \n",
    "    'max_depth': 7,  \n",
    "    'objective': 'multi:softprob',  \n",
    "    'num_class': 2, \n",
    "    } \n",
    "steps = 100"
   ]
  },
  {
   "cell_type": "code",
   "execution_count": 263,
   "metadata": {
    "ExecuteTime": {
     "end_time": "2019-07-28T00:48:51.741404Z",
     "start_time": "2019-07-28T00:48:49.873634Z"
    }
   },
   "outputs": [],
   "source": [
    "model = xgb.train(param, D_train, steps)"
   ]
  },
  {
   "cell_type": "code",
   "execution_count": 264,
   "metadata": {
    "ExecuteTime": {
     "end_time": "2019-07-28T00:48:52.562274Z",
     "start_time": "2019-07-28T00:48:52.436170Z"
    }
   },
   "outputs": [
    {
     "name": "stdout",
     "output_type": "stream",
     "text": [
      "Confusion matrix, without normalization\n",
      "\n"
     ]
    },
    {
     "data": {
      "image/png": "[encoded data removed]",
      "text/plain": [
       "<Figure size 864x432 with 1 Axes>"
      ]
     },
     "metadata": {},
     "output_type": "display_data"
    }
   ],
   "source": [
    "preds = model.predict(D_test)\n",
    "best_preds = np.asarray([np.argmax(line) for line in preds])\n",
    "\n",
    "# Plot Confusion Matrix\n",
    "cm = confusion_matrix(y_test, best_preds)\n",
    "plot_confusion_matrix(cm, ['Fighter 1 Wins','Fighter 2 Wins'], normalize=False, title='Confusion Matrix for XG Boost')\n",
    "\n",
    "# Add XG Boost accuracy to our summary dataframe\n",
    "models_summary['XG_Boost'] = metrics.accuracy_score(y_test, best_preds)"
   ]
  },
  {
   "cell_type": "markdown",
   "metadata": {},
   "source": [
    "SK learn version of gradient boost"
   ]
  },
  {
   "cell_type": "code",
   "execution_count": 41,
   "metadata": {
    "ExecuteTime": {
     "end_time": "2019-07-26T18:03:14.295713Z",
     "start_time": "2019-07-26T18:03:14.293738Z"
    }
   },
   "outputs": [],
   "source": [
    "from sklearn.ensemble import RandomForestClassifier,AdaBoostClassifier,GradientBoostingClassifier"
   ]
  },
  {
   "cell_type": "markdown",
   "metadata": {},
   "source": [
    "### XG Boost\n",
    "- eXtreme Gradient Boosting (XG Boost) is a form of gradient boosting which often produces the best performances \n",
    "- XG Boost is able to parallelize the construction of decision trees across all our computer's CPU cores during the training phase\n",
    "    - This can even be done across a cluster of computers \n",
    "- XG Boost can even handle NaN values"
   ]
  },
  {
   "cell_type": "code",
   "execution_count": null,
   "metadata": {},
   "outputs": [],
   "source": [
    "import os\n",
    "os.environ['KMP_DUPLICATE_LIB_OK']='True'\n",
    "from xgboost import XGBClassifier\n",
    "import xgboost as xgb"
   ]
  },
  {
   "cell_type": "code",
   "execution_count": 231,
   "metadata": {
    "ExecuteTime": {
     "end_time": "2019-07-27T23:55:18.969558Z",
     "start_time": "2019-07-27T23:54:58.582350Z"
    }
   },
   "outputs": [
    {
     "name": "stdout",
     "output_type": "stream",
     "text": [
      "WARNING conda.base.context:use_only_tar_bz2(632): Conda is constrained to only using the old .tar.bz2 file format because you have conda-build installed, and it is <3.18.3.  Update or remove conda-build to get smaller downloads and faster extractions.\n",
      "Collecting package metadata (repodata.json): done\n",
      "Solving environment: done\n",
      "\n",
      "\n",
      "==> WARNING: A newer version of conda exists. <==\n",
      "  current version: 4.7.5\n",
      "  latest version: 4.7.10\n",
      "\n",
      "Please update conda by running\n",
      "\n",
      "    $ conda update -n base -c defaults conda\n",
      "\n",
      "\n",
      "\n",
      "# All requested packages already installed.\n",
      "\n"
     ]
    }
   ],
   "source": [
    "!conda install py-xgboost"
   ]
  },
  {
   "cell_type": "code",
   "execution_count": 253,
   "metadata": {
    "ExecuteTime": {
     "end_time": "2019-07-28T00:39:51.187083Z",
     "start_time": "2019-07-28T00:39:50.757711Z"
    }
   },
   "outputs": [
    {
     "name": "stdout",
     "output_type": "stream",
     "text": [
      "Training Accuracy: 80.28%\n",
      "Validation accuracy: 71.99%\n"
     ]
    }
   ],
   "source": [
    "clf = xgb.XGBClassifier()\n",
    "clf.fit(X_train_std, y_train)\n",
    "training_preds = clf.predict(X_train_std)\n",
    "val_preds = clf.predict(X_test_std)\n",
    "training_accuracy = accuracy_score(y_train, training_preds)\n",
    "val_accuracy = accuracy_score(y_test, val_preds)\n",
    "\n",
    "print(\"Training Accuracy: {:.4}%\".format(training_accuracy * 100))\n",
    "print(\"Validation accuracy: {:.4}%\".format(val_accuracy * 100))"
   ]
  },
  {
   "cell_type": "code",
   "execution_count": 277,
   "metadata": {
    "ExecuteTime": {
     "end_time": "2019-07-28T00:54:32.189554Z",
     "start_time": "2019-07-28T00:53:35.161732Z"
    }
   },
   "outputs": [
    {
     "name": "stdout",
     "output_type": "stream",
     "text": [
      "Grid Search found the following optimal parameters: \n",
      "learning_rate: 0.1\n",
      "max_depth: 5\n",
      "min_child_weight: 10\n",
      "n_estimators: 150\n",
      "subsample: 0.7\n",
      "\n",
      "Training Accuracy:\t 89.56%\n",
      "Validation Accuracy:\t 73.89%\n"
     ]
    }
   ],
   "source": [
    "# Grid Search on XG Boost\n",
    "param_grid = {\n",
    "    \"learning_rate\": [0.1, 0.01, 0.001],\n",
    "    'max_depth': [4,5,6],\n",
    "    'min_child_weight': [10],\n",
    "    'subsample': [0.7],\n",
    "    'n_estimators': [10, 100, 150, 200],\n",
    "}\n",
    "\n",
    "grid_clf = GridSearchCV(clf, param_grid=param_grid, scoring='accuracy', cv=5, n_jobs=2)\n",
    "grid_clf.fit(X_train_std, y_train)\n",
    "\n",
    "best_parameters = grid_clf.best_params_\n",
    "\n",
    "print(\"Grid Search found the following optimal parameters: \")\n",
    "for param_name in sorted(best_parameters.keys()):\n",
    "    print(\"%s: %r\" % (param_name, best_parameters[param_name]))\n",
    "\n",
    "training_preds = grid_clf.predict(X_train_std)\n",
    "val_preds = grid_clf.predict(X_test_std)\n",
    "training_accuracy = accuracy_score(y_train, training_preds)\n",
    "val_accuracy = accuracy_score(y_test, val_preds)\n",
    "\n",
    "print(\"\")\n",
    "print(\"Training Accuracy:\\t {:.4}%\".format(training_accuracy * 100))\n",
    "print(\"Validation Accuracy:\\t {:.4}%\".format(val_accuracy * 100))"
   ]
  },
  {
   "cell_type": "code",
   "execution_count": null,
   "metadata": {},
   "outputs": [],
   "source": [
    "# Add XG Boost accuracy to our summary dataframe\n",
    "models_summary['XG_Boost'] = metrics.accuracy_score(y_test, best_preds)"
   ]
  },
  {
   "cell_type": "markdown",
   "metadata": {},
   "source": [
    "### Ada Boost"
   ]
  },
  {
   "cell_type": "code",
   "execution_count": 63,
   "metadata": {
    "ExecuteTime": {
     "end_time": "2019-07-26T18:12:56.031747Z",
     "start_time": "2019-07-26T18:12:55.619133Z"
    }
   },
   "outputs": [],
   "source": [
    "model_ada_boost = model_ada_boost(X_train, y_train, X_test, y_test)"
   ]
  },
  {
   "cell_type": "code",
   "execution_count": 278,
   "metadata": {
    "ExecuteTime": {
     "end_time": "2019-07-28T03:47:13.467643Z",
     "start_time": "2019-07-28T03:47:13.452790Z"
    }
   },
   "outputs": [
    {
     "ename": "NameError",
     "evalue": "name 'Pipeline' is not defined",
     "output_type": "error",
     "traceback": [
      "\u001b[0;31m---------------------------------------------------------------------------\u001b[0m",
      "\u001b[0;31mNameError\u001b[0m                                 Traceback (most recent call last)",
      "\u001b[0;32m<ipython-input-278-01a1739deb89>\u001b[0m in \u001b[0;36m<module>\u001b[0;34m()\u001b[0m\n\u001b[1;32m      1\u001b[0m \u001b[0;32mfrom\u001b[0m \u001b[0msklearn\u001b[0m\u001b[0;34m.\u001b[0m\u001b[0mensemble\u001b[0m \u001b[0;32mimport\u001b[0m \u001b[0mAdaBoostClassifier\u001b[0m\u001b[0;34m\u001b[0m\u001b[0m\n\u001b[1;32m      2\u001b[0m \u001b[0;31m# Construct pipeline\u001b[0m\u001b[0;34m\u001b[0m\u001b[0;34m\u001b[0m\u001b[0m\n\u001b[0;32m----> 3\u001b[0;31m pipe_ab = Pipeline([('pca', PCA(n_components=27)),\n\u001b[0m\u001b[1;32m      4\u001b[0m             ('clf', AdaBoostClassifier(random_state = 123))])\n\u001b[1;32m      5\u001b[0m \u001b[0;34m\u001b[0m\u001b[0m\n",
      "\u001b[0;31mNameError\u001b[0m: name 'Pipeline' is not defined"
     ]
    }
   ],
   "source": [
    "from sklearn.ensemble import AdaBoostClassifier\n",
    "\n",
    "\n",
    "# Construct pipeline\n",
    "pipe_ab = Pipeline([('pca', PCA(n_components=27)),\n",
    "            ('clf', AdaBoostClassifier(random_state = 123))])\n",
    "\n",
    "# Set grid search params\n",
    "adaboost_param_grid = {\n",
    "    'clf__n_estimators': [30, 50, 70],\n",
    "    'clf__learning_rate': [1.0, 0.5, 0.1]\n",
    "}\n",
    "\n",
    "# Construct grid search\n",
    "gs_ab = GridSearchCV(estimator=pipe_ab,\n",
    "            param_grid=adaboost_param_grid,\n",
    "            scoring='accuracy',\n",
    "            cv=3, verbose=2, return_train_score = True)\n",
    "\n",
    "# Fit using grid search\n",
    "gs_ab.fit(X_train, y_train)\n",
    "\n",
    "# Best accuracy\n",
    "print('Best accuracy: %.3f' % gs_ab.best_score_)\n",
    "\n",
    "# Best params\n",
    "print('\\nBest params:\\n', gs_ab.best_params_)"
   ]
  },
  {
   "cell_type": "markdown",
   "metadata": {},
   "source": [
    "### Gradient Boost"
   ]
  },
  {
   "cell_type": "code",
   "execution_count": 65,
   "metadata": {
    "ExecuteTime": {
     "end_time": "2019-07-26T18:12:57.790964Z",
     "start_time": "2019-07-26T18:12:57.402922Z"
    }
   },
   "outputs": [],
   "source": [
    "model_gradient_boost = model_gradient_boost(X_train, y_train, X_test, y_test)"
   ]
  },
  {
   "cell_type": "markdown",
   "metadata": {},
   "source": [
    "## Logistic Regression"
   ]
  },
  {
   "cell_type": "code",
   "execution_count": 239,
   "metadata": {
    "ExecuteTime": {
     "end_time": "2019-07-24T02:05:27.856102Z",
     "start_time": "2019-07-24T02:05:27.765809Z"
    }
   },
   "outputs": [
    {
     "name": "stdout",
     "output_type": "stream",
     "text": [
      "0    2288\n",
      "1     911\n",
      "Name: winner_is_fighter1, dtype: int64\n",
      "0    0.715224\n",
      "1    0.284776\n",
      "Name: winner_is_fighter1, dtype: float64\n",
      "\n",
      "Our model is 71.52% accurate for our training data\n",
      "0    813\n",
      "1    558\n",
      "Name: winner_is_fighter1, dtype: int64 \n",
      "\n",
      "0    0.592998\n",
      "1    0.407002\n",
      "Name: winner_is_fighter1, dtype: float64\n",
      "\n",
      "Our model is 59.3% accurate for our test data\n"
     ]
    }
   ],
   "source": [
    "logreg = LogisticRegression(fit_intercept = False, C = 1e12)\n",
    "model_log = logreg.fit(X_train_std, y_train)\n",
    "model_log\n",
    "    # Predict\n",
    "y_hat_train = logreg.predict(X_train_std)\n",
    "y_hat_test = logreg.predict(X_test)\n",
    "\n",
    "    # Classifier correctness on training data\n",
    "residuals = np.abs(y_train - y_hat_train)\n",
    "print(pd.Series(residuals).value_counts())\n",
    "print(pd.Series(residuals).value_counts(normalize=True))\n",
    "correct = pd.Series(residuals).value_counts(normalize=True)[0]\n",
    "print('\\nOur model is {}% accurate for our training data'.format(round(correct*100,2)))\n",
    "        # Classifier correctness on testing data\n",
    "residuals = np.abs(y_test - y_hat_test)\n",
    "print(pd.Series(residuals).value_counts(),'\\n')\n",
    "print(pd.Series(residuals).value_counts(normalize=True))\n",
    "correct = pd.Series(residuals).value_counts(normalize=True)[0]\n",
    "print('\\nOur model is {}% accurate for our test data'.format(round(correct*100,2)))"
   ]
  },
  {
   "cell_type": "code",
   "execution_count": 241,
   "metadata": {
    "ExecuteTime": {
     "end_time": "2019-07-24T02:07:13.990485Z",
     "start_time": "2019-07-24T02:07:13.847883Z"
    },
    "collapsed": true
   },
   "outputs": [
    {
     "name": "stdout",
     "output_type": "stream",
     "text": [
      "Warning: Maximum number of iterations has been exceeded.\n",
      "         Current function value: 0.553735\n",
      "         Iterations: 35\n"
     ]
    },
    {
     "ename": "LinAlgError",
     "evalue": "Singular matrix",
     "output_type": "error",
     "traceback": [
      "\u001b[0;31m---------------------------------------------------------------------------\u001b[0m",
      "\u001b[0;31mLinAlgError\u001b[0m                               Traceback (most recent call last)",
      "\u001b[0;32m<ipython-input-241-a8c7d5f564bb>\u001b[0m in \u001b[0;36m<module>\u001b[0;34m()\u001b[0m\n\u001b[1;32m      1\u001b[0m \u001b[0mlogit_model\u001b[0m \u001b[0;34m=\u001b[0m \u001b[0msm\u001b[0m\u001b[0;34m.\u001b[0m\u001b[0mLogit\u001b[0m\u001b[0;34m(\u001b[0m\u001b[0my\u001b[0m\u001b[0;34m,\u001b[0m\u001b[0mX\u001b[0m\u001b[0;34m)\u001b[0m\u001b[0;34m\u001b[0m\u001b[0m\n\u001b[0;32m----> 2\u001b[0;31m \u001b[0mresult\u001b[0m \u001b[0;34m=\u001b[0m \u001b[0mlogit_model\u001b[0m\u001b[0;34m.\u001b[0m\u001b[0mfit\u001b[0m\u001b[0;34m(\u001b[0m\u001b[0;34m)\u001b[0m\u001b[0;34m\u001b[0m\u001b[0m\n\u001b[0m\u001b[1;32m      3\u001b[0m     \u001b[0;31m# See results of 2nd model\u001b[0m\u001b[0;34m\u001b[0m\u001b[0;34m\u001b[0m\u001b[0m\n\u001b[1;32m      4\u001b[0m \u001b[0mmodel1_summary\u001b[0m \u001b[0;34m=\u001b[0m \u001b[0mresult\u001b[0m\u001b[0;34m.\u001b[0m\u001b[0msummary\u001b[0m\u001b[0;34m(\u001b[0m\u001b[0;34m)\u001b[0m\u001b[0;34m\u001b[0m\u001b[0m\n\u001b[1;32m      5\u001b[0m \u001b[0mmodel1_summary\u001b[0m\u001b[0;34m\u001b[0m\u001b[0m\n",
      "\u001b[0;32m/anaconda3/envs/ml-ufc-env/lib/python3.6/site-packages/statsmodels/discrete/discrete_model.py\u001b[0m in \u001b[0;36mfit\u001b[0;34m(self, start_params, method, maxiter, full_output, disp, callback, **kwargs)\u001b[0m\n\u001b[1;32m   1832\u001b[0m         bnryfit = super(Logit, self).fit(start_params=start_params,\n\u001b[1;32m   1833\u001b[0m                 \u001b[0mmethod\u001b[0m\u001b[0;34m=\u001b[0m\u001b[0mmethod\u001b[0m\u001b[0;34m,\u001b[0m \u001b[0mmaxiter\u001b[0m\u001b[0;34m=\u001b[0m\u001b[0mmaxiter\u001b[0m\u001b[0;34m,\u001b[0m \u001b[0mfull_output\u001b[0m\u001b[0;34m=\u001b[0m\u001b[0mfull_output\u001b[0m\u001b[0;34m,\u001b[0m\u001b[0;34m\u001b[0m\u001b[0m\n\u001b[0;32m-> 1834\u001b[0;31m                 disp=disp, callback=callback, **kwargs)\n\u001b[0m\u001b[1;32m   1835\u001b[0m \u001b[0;34m\u001b[0m\u001b[0m\n\u001b[1;32m   1836\u001b[0m         \u001b[0mdiscretefit\u001b[0m \u001b[0;34m=\u001b[0m \u001b[0mLogitResults\u001b[0m\u001b[0;34m(\u001b[0m\u001b[0mself\u001b[0m\u001b[0;34m,\u001b[0m \u001b[0mbnryfit\u001b[0m\u001b[0;34m)\u001b[0m\u001b[0;34m\u001b[0m\u001b[0m\n",
      "\u001b[0;32m/anaconda3/envs/ml-ufc-env/lib/python3.6/site-packages/statsmodels/discrete/discrete_model.py\u001b[0m in \u001b[0;36mfit\u001b[0;34m(self, start_params, method, maxiter, full_output, disp, callback, **kwargs)\u001b[0m\n\u001b[1;32m    218\u001b[0m         mlefit = super(DiscreteModel, self).fit(start_params=start_params,\n\u001b[1;32m    219\u001b[0m                 \u001b[0mmethod\u001b[0m\u001b[0;34m=\u001b[0m\u001b[0mmethod\u001b[0m\u001b[0;34m,\u001b[0m \u001b[0mmaxiter\u001b[0m\u001b[0;34m=\u001b[0m\u001b[0mmaxiter\u001b[0m\u001b[0;34m,\u001b[0m \u001b[0mfull_output\u001b[0m\u001b[0;34m=\u001b[0m\u001b[0mfull_output\u001b[0m\u001b[0;34m,\u001b[0m\u001b[0;34m\u001b[0m\u001b[0m\n\u001b[0;32m--> 220\u001b[0;31m                 disp=disp, callback=callback, **kwargs)\n\u001b[0m\u001b[1;32m    221\u001b[0m \u001b[0;34m\u001b[0m\u001b[0m\n\u001b[1;32m    222\u001b[0m         \u001b[0;32mreturn\u001b[0m \u001b[0mmlefit\u001b[0m \u001b[0;31m# up to subclasses to wrap results\u001b[0m\u001b[0;34m\u001b[0m\u001b[0m\n",
      "\u001b[0;32m/anaconda3/envs/ml-ufc-env/lib/python3.6/site-packages/statsmodels/base/model.py\u001b[0m in \u001b[0;36mfit\u001b[0;34m(self, start_params, method, maxiter, full_output, disp, fargs, callback, retall, skip_hessian, **kwargs)\u001b[0m\n\u001b[1;32m    471\u001b[0m             \u001b[0mHinv\u001b[0m \u001b[0;34m=\u001b[0m \u001b[0mcov_params_func\u001b[0m\u001b[0;34m(\u001b[0m\u001b[0mself\u001b[0m\u001b[0;34m,\u001b[0m \u001b[0mxopt\u001b[0m\u001b[0;34m,\u001b[0m \u001b[0mretvals\u001b[0m\u001b[0;34m)\u001b[0m\u001b[0;34m\u001b[0m\u001b[0m\n\u001b[1;32m    472\u001b[0m         \u001b[0;32melif\u001b[0m \u001b[0mmethod\u001b[0m \u001b[0;34m==\u001b[0m \u001b[0;34m'newton'\u001b[0m \u001b[0;32mand\u001b[0m \u001b[0mfull_output\u001b[0m\u001b[0;34m:\u001b[0m\u001b[0;34m\u001b[0m\u001b[0m\n\u001b[0;32m--> 473\u001b[0;31m             \u001b[0mHinv\u001b[0m \u001b[0;34m=\u001b[0m \u001b[0mnp\u001b[0m\u001b[0;34m.\u001b[0m\u001b[0mlinalg\u001b[0m\u001b[0;34m.\u001b[0m\u001b[0minv\u001b[0m\u001b[0;34m(\u001b[0m\u001b[0;34m-\u001b[0m\u001b[0mretvals\u001b[0m\u001b[0;34m[\u001b[0m\u001b[0;34m'Hessian'\u001b[0m\u001b[0;34m]\u001b[0m\u001b[0;34m)\u001b[0m \u001b[0;34m/\u001b[0m \u001b[0mnobs\u001b[0m\u001b[0;34m\u001b[0m\u001b[0m\n\u001b[0m\u001b[1;32m    474\u001b[0m         \u001b[0;32melif\u001b[0m \u001b[0;32mnot\u001b[0m \u001b[0mskip_hessian\u001b[0m\u001b[0;34m:\u001b[0m\u001b[0;34m\u001b[0m\u001b[0m\n\u001b[1;32m    475\u001b[0m             \u001b[0mH\u001b[0m \u001b[0;34m=\u001b[0m \u001b[0;34m-\u001b[0m\u001b[0;36m1\u001b[0m \u001b[0;34m*\u001b[0m \u001b[0mself\u001b[0m\u001b[0;34m.\u001b[0m\u001b[0mhessian\u001b[0m\u001b[0;34m(\u001b[0m\u001b[0mxopt\u001b[0m\u001b[0;34m)\u001b[0m\u001b[0;34m\u001b[0m\u001b[0m\n",
      "\u001b[0;32m/anaconda3/envs/ml-ufc-env/lib/python3.6/site-packages/numpy/linalg/linalg.py\u001b[0m in \u001b[0;36minv\u001b[0;34m(a)\u001b[0m\n\u001b[1;32m    549\u001b[0m     \u001b[0msignature\u001b[0m \u001b[0;34m=\u001b[0m \u001b[0;34m'D->D'\u001b[0m \u001b[0;32mif\u001b[0m \u001b[0misComplexType\u001b[0m\u001b[0;34m(\u001b[0m\u001b[0mt\u001b[0m\u001b[0;34m)\u001b[0m \u001b[0;32melse\u001b[0m \u001b[0;34m'd->d'\u001b[0m\u001b[0;34m\u001b[0m\u001b[0m\n\u001b[1;32m    550\u001b[0m     \u001b[0mextobj\u001b[0m \u001b[0;34m=\u001b[0m \u001b[0mget_linalg_error_extobj\u001b[0m\u001b[0;34m(\u001b[0m\u001b[0m_raise_linalgerror_singular\u001b[0m\u001b[0;34m)\u001b[0m\u001b[0;34m\u001b[0m\u001b[0m\n\u001b[0;32m--> 551\u001b[0;31m     \u001b[0mainv\u001b[0m \u001b[0;34m=\u001b[0m \u001b[0m_umath_linalg\u001b[0m\u001b[0;34m.\u001b[0m\u001b[0minv\u001b[0m\u001b[0;34m(\u001b[0m\u001b[0ma\u001b[0m\u001b[0;34m,\u001b[0m \u001b[0msignature\u001b[0m\u001b[0;34m=\u001b[0m\u001b[0msignature\u001b[0m\u001b[0;34m,\u001b[0m \u001b[0mextobj\u001b[0m\u001b[0;34m=\u001b[0m\u001b[0mextobj\u001b[0m\u001b[0;34m)\u001b[0m\u001b[0;34m\u001b[0m\u001b[0m\n\u001b[0m\u001b[1;32m    552\u001b[0m     \u001b[0;32mreturn\u001b[0m \u001b[0mwrap\u001b[0m\u001b[0;34m(\u001b[0m\u001b[0mainv\u001b[0m\u001b[0;34m.\u001b[0m\u001b[0mastype\u001b[0m\u001b[0;34m(\u001b[0m\u001b[0mresult_t\u001b[0m\u001b[0;34m,\u001b[0m \u001b[0mcopy\u001b[0m\u001b[0;34m=\u001b[0m\u001b[0;32mFalse\u001b[0m\u001b[0;34m)\u001b[0m\u001b[0;34m)\u001b[0m\u001b[0;34m\u001b[0m\u001b[0m\n\u001b[1;32m    553\u001b[0m \u001b[0;34m\u001b[0m\u001b[0m\n",
      "\u001b[0;32m/anaconda3/envs/ml-ufc-env/lib/python3.6/site-packages/numpy/linalg/linalg.py\u001b[0m in \u001b[0;36m_raise_linalgerror_singular\u001b[0;34m(err, flag)\u001b[0m\n\u001b[1;32m     95\u001b[0m \u001b[0;34m\u001b[0m\u001b[0m\n\u001b[1;32m     96\u001b[0m \u001b[0;32mdef\u001b[0m \u001b[0m_raise_linalgerror_singular\u001b[0m\u001b[0;34m(\u001b[0m\u001b[0merr\u001b[0m\u001b[0;34m,\u001b[0m \u001b[0mflag\u001b[0m\u001b[0;34m)\u001b[0m\u001b[0;34m:\u001b[0m\u001b[0;34m\u001b[0m\u001b[0m\n\u001b[0;32m---> 97\u001b[0;31m     \u001b[0;32mraise\u001b[0m \u001b[0mLinAlgError\u001b[0m\u001b[0;34m(\u001b[0m\u001b[0;34m\"Singular matrix\"\u001b[0m\u001b[0;34m)\u001b[0m\u001b[0;34m\u001b[0m\u001b[0m\n\u001b[0m\u001b[1;32m     98\u001b[0m \u001b[0;34m\u001b[0m\u001b[0m\n\u001b[1;32m     99\u001b[0m \u001b[0;32mdef\u001b[0m \u001b[0m_raise_linalgerror_nonposdef\u001b[0m\u001b[0;34m(\u001b[0m\u001b[0merr\u001b[0m\u001b[0;34m,\u001b[0m \u001b[0mflag\u001b[0m\u001b[0;34m)\u001b[0m\u001b[0;34m:\u001b[0m\u001b[0;34m\u001b[0m\u001b[0m\n",
      "\u001b[0;31mLinAlgError\u001b[0m: Singular matrix"
     ]
    }
   ],
   "source": [
    "import statsmodels.api as sm\n",
    "\n",
    "logit_model = sm.Logit(y,X)\n",
    "result = logit_model.fit()\n",
    "    # See results of 2nd model\n",
    "model1_summary = result.summary()\n",
    "model1_summary\n",
    "    # Drop rubbish pvalues\n",
    "alpha = 0.05\n",
    "variables_to_keep = []\n",
    "for X_variable, pvalue in list(zip(X,result.pvalues)):\n",
    "    if pvalue <= alpha:\n",
    "        variables_to_keep.append(X_variable)\n",
    "variables_to_keep  # leaves behind the variables that have p value below the alpha\n",
    "X = X.drop(columns=variables_to_keep)  # take out the variables\n",
    "    # Fit the 2nd model\n",
    "logit_model = sm.Logit(y, X)\n",
    "result = logit_model.fit()\n",
    "    # see results of 2nd model\n",
    "model2_summary = result.summary()\n",
    "model2_summary"
   ]
  },
  {
   "cell_type": "markdown",
   "metadata": {
    "heading_collapsed": true
   },
   "source": [
    "## Implementing Neural Network with tanh"
   ]
  },
  {
   "cell_type": "code",
   "execution_count": 23,
   "metadata": {
    "ExecuteTime": {
     "end_time": "2019-07-23T19:52:12.977114Z",
     "start_time": "2019-07-23T19:52:12.913693Z"
    },
    "hidden": true
   },
   "outputs": [],
   "source": [
    "model_tanh = Sequential()\n",
    "\n",
    "# Input Layer\n",
    "model_tanh.add(Dense(64, input_dim=X_train_std.shape[1], activation = 'tanh'))\n",
    "\n",
    "# Hidden Layer 1\n",
    "model_tanh.add(Dense(32, input_dim = 64, activation = 'tanh'))\n",
    "\n",
    "# Hidden Layer 2\n",
    "model_tanh.add(Dense(units = 1, input_dim = 32, activation = 'sigmoid'))\n",
    "\n",
    "# Output Layer\n",
    "sgd_optimizer = SGD(lr=0.01, decay=1e-7, momentum=0.9) #learn rate, weight decay constant, momentum learning"
   ]
  },
  {
   "cell_type": "markdown",
   "metadata": {
    "hidden": true
   },
   "source": [
    "There is a tradeoff when we are finding an appropriate learning rate.  \n",
    "- Too large and the alorithm may overshoot the global cost minimum.  \n",
    "- Too small and the algorithm requires far more epochs until convergence, which results in unecessary computation"
   ]
  },
  {
   "cell_type": "markdown",
   "metadata": {
    "hidden": true
   },
   "source": [
    "Why we use a sigmoid function\n",
    "- Our goal is to predict the probability that a certain sample belongs to a particular class, given its features.  In other words the probability that a certain matchup of two fighters will result in a win for fighter 1.  \n",
    "- For this reason, we will use the logistic sigmoid function (abbreviated to sigmoid function) as our activation function.   The sigmoid function takes in any real number value and outputs a value between 0 and 1, which will represent the probability that we are after.  "
   ]
  },
  {
   "cell_type": "code",
   "execution_count": 24,
   "metadata": {
    "ExecuteTime": {
     "end_time": "2019-07-23T19:52:13.026476Z",
     "start_time": "2019-07-23T19:52:12.979073Z"
    },
    "hidden": true
   },
   "outputs": [],
   "source": [
    "model_tanh.compile(loss='binary_crossentropy', optimizer='sgd', metrics=['accuracy'])"
   ]
  },
  {
   "cell_type": "code",
   "execution_count": 147,
   "metadata": {
    "ExecuteTime": {
     "end_time": "2019-07-23T21:07:57.783509Z",
     "start_time": "2019-07-23T21:07:57.742471Z"
    },
    "hidden": true
   },
   "outputs": [
    {
     "name": "stdout",
     "output_type": "stream",
     "text": [
      "1371/1371 [==============================] - 0s 5us/step\n"
     ]
    }
   ],
   "source": [
    "# model_tanh.fit(X_train_std, y_train, epochs=100, batch_size=256)\n"
   ]
  },
  {
   "cell_type": "markdown",
   "metadata": {
    "heading_collapsed": true
   },
   "source": [
    "## Fitting the Model"
   ]
  },
  {
   "cell_type": "code",
   "execution_count": 144,
   "metadata": {
    "ExecuteTime": {
     "end_time": "2019-07-23T21:06:57.942011Z",
     "start_time": "2019-07-23T21:06:52.502752Z"
    },
    "hidden": true
   },
   "outputs": [
    {
     "name": "stdout",
     "output_type": "stream",
     "text": [
      "Train on 2879 samples, validate on 320 samples\n",
      "Epoch 1/300\n",
      "2879/2879 [==============================] - 0s 6us/step - loss: 0.2304 - acc: 0.9215 - val_loss: 0.8195 - val_acc: 0.6594\n",
      "Epoch 2/300\n",
      "2879/2879 [==============================] - 0s 7us/step - loss: 0.2301 - acc: 0.9187 - val_loss: 0.8167 - val_acc: 0.6625\n",
      "Epoch 3/300\n",
      "2879/2879 [==============================] - 0s 6us/step - loss: 0.2298 - acc: 0.9208 - val_loss: 0.8179 - val_acc: 0.6625\n",
      "Epoch 4/300\n",
      "2879/2879 [==============================] - 0s 6us/step - loss: 0.2294 - acc: 0.9212 - val_loss: 0.8186 - val_acc: 0.6594\n",
      "Epoch 5/300\n",
      "2879/2879 [==============================] - 0s 6us/step - loss: 0.2294 - acc: 0.9187 - val_loss: 0.8183 - val_acc: 0.6562\n",
      "Epoch 6/300\n",
      "2879/2879 [==============================] - 0s 6us/step - loss: 0.2290 - acc: 0.9198 - val_loss: 0.8227 - val_acc: 0.6562\n",
      "Epoch 7/300\n",
      "2879/2879 [==============================] - 0s 7us/step - loss: 0.2287 - acc: 0.9180 - val_loss: 0.8255 - val_acc: 0.6562\n",
      "Epoch 8/300\n",
      "2879/2879 [==============================] - 0s 6us/step - loss: 0.2288 - acc: 0.9212 - val_loss: 0.8261 - val_acc: 0.6500\n",
      "Epoch 9/300\n",
      "2879/2879 [==============================] - 0s 7us/step - loss: 0.2286 - acc: 0.9198 - val_loss: 0.8234 - val_acc: 0.6625\n",
      "Epoch 10/300\n",
      "2879/2879 [==============================] - 0s 6us/step - loss: 0.2281 - acc: 0.9225 - val_loss: 0.8209 - val_acc: 0.6656\n",
      "Epoch 11/300\n",
      "2879/2879 [==============================] - 0s 6us/step - loss: 0.2276 - acc: 0.9218 - val_loss: 0.8283 - val_acc: 0.6562\n",
      "Epoch 12/300\n",
      "2879/2879 [==============================] - 0s 7us/step - loss: 0.2276 - acc: 0.9187 - val_loss: 0.8220 - val_acc: 0.6531\n",
      "Epoch 13/300\n",
      "2879/2879 [==============================] - 0s 7us/step - loss: 0.2272 - acc: 0.9212 - val_loss: 0.8285 - val_acc: 0.6531\n",
      "Epoch 14/300\n",
      "2879/2879 [==============================] - 0s 8us/step - loss: 0.2272 - acc: 0.9194 - val_loss: 0.8255 - val_acc: 0.6562\n",
      "Epoch 15/300\n",
      "2879/2879 [==============================] - 0s 7us/step - loss: 0.2268 - acc: 0.9236 - val_loss: 0.8223 - val_acc: 0.6562\n",
      "Epoch 16/300\n",
      "2879/2879 [==============================] - 0s 9us/step - loss: 0.2262 - acc: 0.9201 - val_loss: 0.8263 - val_acc: 0.6531\n",
      "Epoch 17/300\n",
      "2879/2879 [==============================] - 0s 7us/step - loss: 0.2264 - acc: 0.9212 - val_loss: 0.8253 - val_acc: 0.6594\n",
      "Epoch 18/300\n",
      "2879/2879 [==============================] - 0s 7us/step - loss: 0.2257 - acc: 0.9236 - val_loss: 0.8268 - val_acc: 0.6531\n",
      "Epoch 19/300\n",
      "2879/2879 [==============================] - 0s 6us/step - loss: 0.2257 - acc: 0.9225 - val_loss: 0.8263 - val_acc: 0.6625\n",
      "Epoch 20/300\n",
      "2879/2879 [==============================] - 0s 7us/step - loss: 0.2257 - acc: 0.9225 - val_loss: 0.8294 - val_acc: 0.6500\n",
      "Epoch 21/300\n",
      "2879/2879 [==============================] - 0s 6us/step - loss: 0.2253 - acc: 0.9205 - val_loss: 0.8286 - val_acc: 0.6562\n",
      "Epoch 22/300\n",
      "2879/2879 [==============================] - 0s 7us/step - loss: 0.2248 - acc: 0.9229 - val_loss: 0.8273 - val_acc: 0.6594\n",
      "Epoch 23/300\n",
      "2879/2879 [==============================] - 0s 6us/step - loss: 0.2247 - acc: 0.9201 - val_loss: 0.8314 - val_acc: 0.6594\n",
      "Epoch 24/300\n",
      "2879/2879 [==============================] - 0s 7us/step - loss: 0.2242 - acc: 0.9225 - val_loss: 0.8352 - val_acc: 0.6531\n",
      "Epoch 25/300\n",
      "2879/2879 [==============================] - 0s 7us/step - loss: 0.2241 - acc: 0.9225 - val_loss: 0.8340 - val_acc: 0.6562\n",
      "Epoch 26/300\n",
      "2879/2879 [==============================] - 0s 7us/step - loss: 0.2239 - acc: 0.9205 - val_loss: 0.8314 - val_acc: 0.6562\n",
      "Epoch 27/300\n",
      "2879/2879 [==============================] - 0s 6us/step - loss: 0.2237 - acc: 0.9218 - val_loss: 0.8355 - val_acc: 0.6500\n",
      "Epoch 28/300\n",
      "2879/2879 [==============================] - 0s 7us/step - loss: 0.2238 - acc: 0.9212 - val_loss: 0.8296 - val_acc: 0.6562\n",
      "Epoch 29/300\n",
      "2879/2879 [==============================] - 0s 7us/step - loss: 0.2234 - acc: 0.9239 - val_loss: 0.8311 - val_acc: 0.6531\n",
      "Epoch 30/300\n",
      "2879/2879 [==============================] - 0s 7us/step - loss: 0.2230 - acc: 0.9225 - val_loss: 0.8323 - val_acc: 0.6625\n",
      "Epoch 31/300\n",
      "2879/2879 [==============================] - 0s 6us/step - loss: 0.2227 - acc: 0.9225 - val_loss: 0.8371 - val_acc: 0.6531\n",
      "Epoch 32/300\n",
      "2879/2879 [==============================] - 0s 7us/step - loss: 0.2226 - acc: 0.9253 - val_loss: 0.8357 - val_acc: 0.6594\n",
      "Epoch 33/300\n",
      "2879/2879 [==============================] - 0s 7us/step - loss: 0.2223 - acc: 0.9236 - val_loss: 0.8375 - val_acc: 0.6625\n",
      "Epoch 34/300\n",
      "2879/2879 [==============================] - 0s 7us/step - loss: 0.2223 - acc: 0.9243 - val_loss: 0.8369 - val_acc: 0.6594\n",
      "Epoch 35/300\n",
      "2879/2879 [==============================] - 0s 7us/step - loss: 0.2218 - acc: 0.9236 - val_loss: 0.8375 - val_acc: 0.6594\n",
      "Epoch 36/300\n",
      "2879/2879 [==============================] - 0s 7us/step - loss: 0.2214 - acc: 0.9236 - val_loss: 0.8357 - val_acc: 0.6594\n",
      "Epoch 37/300\n",
      "2879/2879 [==============================] - 0s 6us/step - loss: 0.2215 - acc: 0.9218 - val_loss: 0.8394 - val_acc: 0.6469\n",
      "Epoch 38/300\n",
      "2879/2879 [==============================] - 0s 6us/step - loss: 0.2210 - acc: 0.9239 - val_loss: 0.8396 - val_acc: 0.6438\n",
      "Epoch 39/300\n",
      "2879/2879 [==============================] - 0s 8us/step - loss: 0.2211 - acc: 0.9257 - val_loss: 0.8354 - val_acc: 0.6531\n",
      "Epoch 40/300\n",
      "2879/2879 [==============================] - 0s 7us/step - loss: 0.2204 - acc: 0.9246 - val_loss: 0.8399 - val_acc: 0.6500\n",
      "Epoch 41/300\n",
      "2879/2879 [==============================] - 0s 6us/step - loss: 0.2202 - acc: 0.9239 - val_loss: 0.8434 - val_acc: 0.6531\n",
      "Epoch 42/300\n",
      "2879/2879 [==============================] - 0s 6us/step - loss: 0.2197 - acc: 0.9239 - val_loss: 0.8452 - val_acc: 0.6531\n",
      "Epoch 43/300\n",
      "2879/2879 [==============================] - 0s 6us/step - loss: 0.2197 - acc: 0.9246 - val_loss: 0.8438 - val_acc: 0.6531\n",
      "Epoch 44/300\n",
      "2879/2879 [==============================] - 0s 6us/step - loss: 0.2199 - acc: 0.9229 - val_loss: 0.8469 - val_acc: 0.6531\n",
      "Epoch 45/300\n",
      "2879/2879 [==============================] - 0s 7us/step - loss: 0.2191 - acc: 0.9236 - val_loss: 0.8438 - val_acc: 0.6531\n",
      "Epoch 46/300\n",
      "2879/2879 [==============================] - 0s 7us/step - loss: 0.2190 - acc: 0.9250 - val_loss: 0.8435 - val_acc: 0.6562\n",
      "Epoch 47/300\n",
      "2879/2879 [==============================] - 0s 7us/step - loss: 0.2189 - acc: 0.9225 - val_loss: 0.8446 - val_acc: 0.6562\n",
      "Epoch 48/300\n",
      "2879/2879 [==============================] - 0s 7us/step - loss: 0.2187 - acc: 0.9229 - val_loss: 0.8428 - val_acc: 0.6562\n",
      "Epoch 49/300\n",
      "2879/2879 [==============================] - 0s 7us/step - loss: 0.2183 - acc: 0.9250 - val_loss: 0.8435 - val_acc: 0.6594\n",
      "Epoch 50/300\n",
      "2879/2879 [==============================] - 0s 6us/step - loss: 0.2180 - acc: 0.9271 - val_loss: 0.8483 - val_acc: 0.6594\n",
      "Epoch 51/300\n",
      "2879/2879 [==============================] - 0s 6us/step - loss: 0.2177 - acc: 0.9267 - val_loss: 0.8471 - val_acc: 0.6562\n",
      "Epoch 52/300\n",
      "2879/2879 [==============================] - 0s 7us/step - loss: 0.2174 - acc: 0.9243 - val_loss: 0.8581 - val_acc: 0.6531\n",
      "Epoch 53/300\n",
      "2879/2879 [==============================] - 0s 7us/step - loss: 0.2174 - acc: 0.9246 - val_loss: 0.8540 - val_acc: 0.6531\n",
      "Epoch 54/300\n",
      "2879/2879 [==============================] - 0s 6us/step - loss: 0.2172 - acc: 0.9267 - val_loss: 0.8486 - val_acc: 0.6562\n",
      "Epoch 55/300\n",
      "2879/2879 [==============================] - 0s 6us/step - loss: 0.2168 - acc: 0.9236 - val_loss: 0.8490 - val_acc: 0.6594\n",
      "Epoch 56/300\n",
      "2879/2879 [==============================] - 0s 6us/step - loss: 0.2165 - acc: 0.9281 - val_loss: 0.8466 - val_acc: 0.6531\n",
      "Epoch 57/300\n",
      "2879/2879 [==============================] - 0s 6us/step - loss: 0.2163 - acc: 0.9257 - val_loss: 0.8562 - val_acc: 0.6500\n",
      "Epoch 58/300\n",
      "2879/2879 [==============================] - 0s 6us/step - loss: 0.2160 - acc: 0.9278 - val_loss: 0.8499 - val_acc: 0.6562\n",
      "Epoch 59/300\n",
      "2879/2879 [==============================] - 0s 6us/step - loss: 0.2155 - acc: 0.9264 - val_loss: 0.8531 - val_acc: 0.6562\n",
      "Epoch 60/300\n",
      "2879/2879 [==============================] - 0s 6us/step - loss: 0.2156 - acc: 0.9267 - val_loss: 0.8522 - val_acc: 0.6500\n"
     ]
    },
    {
     "name": "stdout",
     "output_type": "stream",
     "text": [
      "Epoch 61/300\n",
      "2879/2879 [==============================] - 0s 6us/step - loss: 0.2157 - acc: 0.9257 - val_loss: 0.8516 - val_acc: 0.6562\n",
      "Epoch 62/300\n",
      "2879/2879 [==============================] - 0s 6us/step - loss: 0.2148 - acc: 0.9284 - val_loss: 0.8521 - val_acc: 0.6500\n",
      "Epoch 63/300\n",
      "2879/2879 [==============================] - 0s 6us/step - loss: 0.2155 - acc: 0.9260 - val_loss: 0.8517 - val_acc: 0.6562\n",
      "Epoch 64/300\n",
      "2879/2879 [==============================] - 0s 6us/step - loss: 0.2146 - acc: 0.9281 - val_loss: 0.8553 - val_acc: 0.6531\n",
      "Epoch 65/300\n",
      "2879/2879 [==============================] - 0s 6us/step - loss: 0.2145 - acc: 0.9291 - val_loss: 0.8573 - val_acc: 0.6469\n",
      "Epoch 66/300\n",
      "2879/2879 [==============================] - 0s 6us/step - loss: 0.2141 - acc: 0.9288 - val_loss: 0.8557 - val_acc: 0.6594\n",
      "Epoch 67/300\n",
      "2879/2879 [==============================] - 0s 7us/step - loss: 0.2138 - acc: 0.9264 - val_loss: 0.8512 - val_acc: 0.6531\n",
      "Epoch 68/300\n",
      "2879/2879 [==============================] - 0s 5us/step - loss: 0.2135 - acc: 0.9278 - val_loss: 0.8573 - val_acc: 0.6500\n",
      "Epoch 69/300\n",
      "2879/2879 [==============================] - 0s 6us/step - loss: 0.2133 - acc: 0.9274 - val_loss: 0.8562 - val_acc: 0.6562\n",
      "Epoch 70/300\n",
      "2879/2879 [==============================] - 0s 5us/step - loss: 0.2133 - acc: 0.9260 - val_loss: 0.8567 - val_acc: 0.6531\n",
      "Epoch 71/300\n",
      "2879/2879 [==============================] - 0s 5us/step - loss: 0.2127 - acc: 0.9267 - val_loss: 0.8554 - val_acc: 0.6531\n",
      "Epoch 72/300\n",
      "2879/2879 [==============================] - 0s 5us/step - loss: 0.2126 - acc: 0.9284 - val_loss: 0.8560 - val_acc: 0.6531\n",
      "Epoch 73/300\n",
      "2879/2879 [==============================] - 0s 6us/step - loss: 0.2123 - acc: 0.9309 - val_loss: 0.8601 - val_acc: 0.6500\n",
      "Epoch 74/300\n",
      "2879/2879 [==============================] - 0s 6us/step - loss: 0.2119 - acc: 0.9291 - val_loss: 0.8626 - val_acc: 0.6500\n",
      "Epoch 75/300\n",
      "2879/2879 [==============================] - 0s 6us/step - loss: 0.2118 - acc: 0.9281 - val_loss: 0.8664 - val_acc: 0.6438\n",
      "Epoch 76/300\n",
      "2879/2879 [==============================] - 0s 6us/step - loss: 0.2115 - acc: 0.9298 - val_loss: 0.8600 - val_acc: 0.6469\n",
      "Epoch 77/300\n",
      "2879/2879 [==============================] - 0s 6us/step - loss: 0.2114 - acc: 0.9281 - val_loss: 0.8645 - val_acc: 0.6438\n",
      "Epoch 78/300\n",
      "2879/2879 [==============================] - 0s 6us/step - loss: 0.2111 - acc: 0.9305 - val_loss: 0.8665 - val_acc: 0.6406\n",
      "Epoch 79/300\n",
      "2879/2879 [==============================] - 0s 6us/step - loss: 0.2109 - acc: 0.9323 - val_loss: 0.8595 - val_acc: 0.6562\n",
      "Epoch 80/300\n",
      "2879/2879 [==============================] - 0s 7us/step - loss: 0.2106 - acc: 0.9312 - val_loss: 0.8569 - val_acc: 0.6531\n",
      "Epoch 81/300\n",
      "2879/2879 [==============================] - 0s 6us/step - loss: 0.2102 - acc: 0.9312 - val_loss: 0.8616 - val_acc: 0.6500\n",
      "Epoch 82/300\n",
      "2879/2879 [==============================] - 0s 6us/step - loss: 0.2101 - acc: 0.9281 - val_loss: 0.8607 - val_acc: 0.6469\n",
      "Epoch 83/300\n",
      "2879/2879 [==============================] - 0s 6us/step - loss: 0.2098 - acc: 0.9312 - val_loss: 0.8643 - val_acc: 0.6469\n",
      "Epoch 84/300\n",
      "2879/2879 [==============================] - 0s 6us/step - loss: 0.2098 - acc: 0.9274 - val_loss: 0.8672 - val_acc: 0.6500\n",
      "Epoch 85/300\n",
      "2879/2879 [==============================] - 0s 5us/step - loss: 0.2093 - acc: 0.9316 - val_loss: 0.8643 - val_acc: 0.6469\n",
      "Epoch 86/300\n",
      "2879/2879 [==============================] - 0s 6us/step - loss: 0.2091 - acc: 0.9305 - val_loss: 0.8640 - val_acc: 0.6469\n",
      "Epoch 87/300\n",
      "2879/2879 [==============================] - 0s 5us/step - loss: 0.2087 - acc: 0.9309 - val_loss: 0.8685 - val_acc: 0.6438\n",
      "Epoch 88/300\n",
      "2879/2879 [==============================] - 0s 6us/step - loss: 0.2087 - acc: 0.9316 - val_loss: 0.8663 - val_acc: 0.6500\n",
      "Epoch 89/300\n",
      "2879/2879 [==============================] - 0s 6us/step - loss: 0.2083 - acc: 0.9326 - val_loss: 0.8663 - val_acc: 0.6500\n",
      "Epoch 90/300\n",
      "2879/2879 [==============================] - 0s 6us/step - loss: 0.2084 - acc: 0.9305 - val_loss: 0.8640 - val_acc: 0.6562\n",
      "Epoch 91/300\n",
      "2879/2879 [==============================] - 0s 7us/step - loss: 0.2082 - acc: 0.9309 - val_loss: 0.8661 - val_acc: 0.6438\n",
      "Epoch 92/300\n",
      "2879/2879 [==============================] - 0s 5us/step - loss: 0.2075 - acc: 0.9309 - val_loss: 0.8682 - val_acc: 0.6500\n",
      "Epoch 93/300\n",
      "2879/2879 [==============================] - 0s 6us/step - loss: 0.2075 - acc: 0.9298 - val_loss: 0.8769 - val_acc: 0.6500\n",
      "Epoch 94/300\n",
      "2879/2879 [==============================] - 0s 7us/step - loss: 0.2075 - acc: 0.9340 - val_loss: 0.8681 - val_acc: 0.6469\n",
      "Epoch 95/300\n",
      "2879/2879 [==============================] - 0s 7us/step - loss: 0.2069 - acc: 0.9305 - val_loss: 0.8710 - val_acc: 0.6500\n",
      "Epoch 96/300\n",
      "2879/2879 [==============================] - 0s 7us/step - loss: 0.2065 - acc: 0.9330 - val_loss: 0.8698 - val_acc: 0.6531\n",
      "Epoch 97/300\n",
      "2879/2879 [==============================] - 0s 6us/step - loss: 0.2064 - acc: 0.9326 - val_loss: 0.8713 - val_acc: 0.6500\n",
      "Epoch 98/300\n",
      "2879/2879 [==============================] - 0s 6us/step - loss: 0.2064 - acc: 0.9298 - val_loss: 0.8722 - val_acc: 0.6500\n",
      "Epoch 99/300\n",
      "2879/2879 [==============================] - 0s 6us/step - loss: 0.2056 - acc: 0.9312 - val_loss: 0.8745 - val_acc: 0.6406\n",
      "Epoch 100/300\n",
      "2879/2879 [==============================] - 0s 6us/step - loss: 0.2056 - acc: 0.9337 - val_loss: 0.8707 - val_acc: 0.6500\n",
      "Epoch 101/300\n",
      "2879/2879 [==============================] - 0s 6us/step - loss: 0.2055 - acc: 0.9344 - val_loss: 0.8723 - val_acc: 0.6438\n",
      "Epoch 102/300\n",
      "2879/2879 [==============================] - 0s 6us/step - loss: 0.2053 - acc: 0.9319 - val_loss: 0.8730 - val_acc: 0.6531\n",
      "Epoch 103/300\n",
      "2879/2879 [==============================] - 0s 6us/step - loss: 0.2051 - acc: 0.9323 - val_loss: 0.8741 - val_acc: 0.6562\n",
      "Epoch 104/300\n",
      "2879/2879 [==============================] - 0s 5us/step - loss: 0.2046 - acc: 0.9337 - val_loss: 0.8702 - val_acc: 0.6594\n",
      "Epoch 105/300\n",
      "2879/2879 [==============================] - 0s 6us/step - loss: 0.2046 - acc: 0.9305 - val_loss: 0.8685 - val_acc: 0.6531\n",
      "Epoch 106/300\n",
      "2879/2879 [==============================] - 0s 6us/step - loss: 0.2046 - acc: 0.9309 - val_loss: 0.8702 - val_acc: 0.6531\n",
      "Epoch 107/300\n",
      "2879/2879 [==============================] - 0s 6us/step - loss: 0.2041 - acc: 0.9337 - val_loss: 0.8693 - val_acc: 0.6500\n",
      "Epoch 108/300\n",
      "2879/2879 [==============================] - 0s 5us/step - loss: 0.2038 - acc: 0.9333 - val_loss: 0.8743 - val_acc: 0.6500\n",
      "Epoch 109/300\n",
      "2879/2879 [==============================] - 0s 6us/step - loss: 0.2033 - acc: 0.9319 - val_loss: 0.8756 - val_acc: 0.6438\n",
      "Epoch 110/300\n",
      "2879/2879 [==============================] - 0s 6us/step - loss: 0.2035 - acc: 0.9337 - val_loss: 0.8756 - val_acc: 0.6531\n",
      "Epoch 111/300\n",
      "2879/2879 [==============================] - 0s 6us/step - loss: 0.2033 - acc: 0.9316 - val_loss: 0.8806 - val_acc: 0.6594\n",
      "Epoch 112/300\n",
      "2879/2879 [==============================] - 0s 6us/step - loss: 0.2029 - acc: 0.9326 - val_loss: 0.8862 - val_acc: 0.6469\n",
      "Epoch 113/300\n",
      "2879/2879 [==============================] - 0s 6us/step - loss: 0.2030 - acc: 0.9347 - val_loss: 0.8876 - val_acc: 0.6500\n",
      "Epoch 114/300\n",
      "2879/2879 [==============================] - 0s 6us/step - loss: 0.2022 - acc: 0.9347 - val_loss: 0.8844 - val_acc: 0.6438\n",
      "Epoch 115/300\n",
      "2879/2879 [==============================] - 0s 5us/step - loss: 0.2024 - acc: 0.9337 - val_loss: 0.8828 - val_acc: 0.6438\n",
      "Epoch 116/300\n",
      "2879/2879 [==============================] - 0s 5us/step - loss: 0.2018 - acc: 0.9326 - val_loss: 0.8809 - val_acc: 0.6406\n",
      "Epoch 117/300\n",
      "2879/2879 [==============================] - 0s 6us/step - loss: 0.2015 - acc: 0.9340 - val_loss: 0.8841 - val_acc: 0.6469\n",
      "Epoch 118/300\n",
      "2879/2879 [==============================] - 0s 5us/step - loss: 0.2012 - acc: 0.9361 - val_loss: 0.8845 - val_acc: 0.6438\n",
      "Epoch 119/300\n",
      "2879/2879 [==============================] - 0s 6us/step - loss: 0.2015 - acc: 0.9344 - val_loss: 0.8810 - val_acc: 0.6469\n",
      "Epoch 120/300\n",
      "2879/2879 [==============================] - 0s 6us/step - loss: 0.2007 - acc: 0.9364 - val_loss: 0.8839 - val_acc: 0.6469\n",
      "Epoch 121/300\n"
     ]
    },
    {
     "name": "stdout",
     "output_type": "stream",
     "text": [
      "2879/2879 [==============================] - 0s 6us/step - loss: 0.2007 - acc: 0.9316 - val_loss: 0.8865 - val_acc: 0.6469\n",
      "Epoch 122/300\n",
      "2879/2879 [==============================] - 0s 7us/step - loss: 0.2003 - acc: 0.9354 - val_loss: 0.8816 - val_acc: 0.6438\n",
      "Epoch 123/300\n",
      "2879/2879 [==============================] - 0s 6us/step - loss: 0.1999 - acc: 0.9347 - val_loss: 0.8835 - val_acc: 0.6469\n",
      "Epoch 124/300\n",
      "2879/2879 [==============================] - 0s 6us/step - loss: 0.2004 - acc: 0.9350 - val_loss: 0.8859 - val_acc: 0.6531\n",
      "Epoch 125/300\n",
      "2879/2879 [==============================] - 0s 6us/step - loss: 0.1999 - acc: 0.9337 - val_loss: 0.8855 - val_acc: 0.6500\n",
      "Epoch 126/300\n",
      "2879/2879 [==============================] - 0s 6us/step - loss: 0.1998 - acc: 0.9357 - val_loss: 0.8917 - val_acc: 0.6406\n",
      "Epoch 127/300\n",
      "2879/2879 [==============================] - 0s 6us/step - loss: 0.1991 - acc: 0.9354 - val_loss: 0.8924 - val_acc: 0.6406\n",
      "Epoch 128/300\n",
      "2879/2879 [==============================] - 0s 6us/step - loss: 0.1990 - acc: 0.9368 - val_loss: 0.8909 - val_acc: 0.6438\n",
      "Epoch 129/300\n",
      "2879/2879 [==============================] - 0s 6us/step - loss: 0.1986 - acc: 0.9361 - val_loss: 0.8925 - val_acc: 0.6406\n",
      "Epoch 130/300\n",
      "2879/2879 [==============================] - 0s 5us/step - loss: 0.1982 - acc: 0.9347 - val_loss: 0.8870 - val_acc: 0.6469\n",
      "Epoch 131/300\n",
      "2879/2879 [==============================] - 0s 6us/step - loss: 0.1988 - acc: 0.9323 - val_loss: 0.8887 - val_acc: 0.6375\n",
      "Epoch 132/300\n",
      "2879/2879 [==============================] - 0s 6us/step - loss: 0.1980 - acc: 0.9382 - val_loss: 0.8884 - val_acc: 0.6406\n",
      "Epoch 133/300\n",
      "2879/2879 [==============================] - 0s 5us/step - loss: 0.1981 - acc: 0.9368 - val_loss: 0.8918 - val_acc: 0.6469\n",
      "Epoch 134/300\n",
      "2879/2879 [==============================] - 0s 5us/step - loss: 0.1977 - acc: 0.9337 - val_loss: 0.8935 - val_acc: 0.6438\n",
      "Epoch 135/300\n",
      "2879/2879 [==============================] - 0s 5us/step - loss: 0.1973 - acc: 0.9364 - val_loss: 0.8964 - val_acc: 0.6531\n",
      "Epoch 136/300\n",
      "2879/2879 [==============================] - 0s 6us/step - loss: 0.1971 - acc: 0.9389 - val_loss: 0.8990 - val_acc: 0.6500\n",
      "Epoch 137/300\n",
      "2879/2879 [==============================] - 0s 6us/step - loss: 0.1968 - acc: 0.9368 - val_loss: 0.8939 - val_acc: 0.6438\n",
      "Epoch 138/300\n",
      "2879/2879 [==============================] - 0s 6us/step - loss: 0.1966 - acc: 0.9368 - val_loss: 0.8945 - val_acc: 0.6500\n",
      "Epoch 139/300\n",
      "2879/2879 [==============================] - 0s 6us/step - loss: 0.1962 - acc: 0.9375 - val_loss: 0.8907 - val_acc: 0.6500\n",
      "Epoch 140/300\n",
      "2879/2879 [==============================] - 0s 6us/step - loss: 0.1963 - acc: 0.9389 - val_loss: 0.8937 - val_acc: 0.6469\n",
      "Epoch 141/300\n",
      "2879/2879 [==============================] - 0s 6us/step - loss: 0.1958 - acc: 0.9382 - val_loss: 0.8924 - val_acc: 0.6531\n",
      "Epoch 142/300\n",
      "2879/2879 [==============================] - 0s 6us/step - loss: 0.1956 - acc: 0.9368 - val_loss: 0.8915 - val_acc: 0.6438\n",
      "Epoch 143/300\n",
      "2879/2879 [==============================] - 0s 5us/step - loss: 0.1956 - acc: 0.9368 - val_loss: 0.8930 - val_acc: 0.6438\n",
      "Epoch 144/300\n",
      "2879/2879 [==============================] - 0s 5us/step - loss: 0.1949 - acc: 0.9413 - val_loss: 0.8992 - val_acc: 0.6469\n",
      "Epoch 145/300\n",
      "2879/2879 [==============================] - 0s 6us/step - loss: 0.1952 - acc: 0.9396 - val_loss: 0.8962 - val_acc: 0.6531\n",
      "Epoch 146/300\n",
      "2879/2879 [==============================] - 0s 6us/step - loss: 0.1948 - acc: 0.9382 - val_loss: 0.9022 - val_acc: 0.6375\n",
      "Epoch 147/300\n",
      "2879/2879 [==============================] - 0s 6us/step - loss: 0.1945 - acc: 0.9396 - val_loss: 0.9015 - val_acc: 0.6469\n",
      "Epoch 148/300\n",
      "2879/2879 [==============================] - 0s 5us/step - loss: 0.1945 - acc: 0.9410 - val_loss: 0.8930 - val_acc: 0.6469\n",
      "Epoch 149/300\n",
      "2879/2879 [==============================] - 0s 5us/step - loss: 0.1941 - acc: 0.9406 - val_loss: 0.8991 - val_acc: 0.6438\n",
      "Epoch 150/300\n",
      "2879/2879 [==============================] - 0s 6us/step - loss: 0.1939 - acc: 0.9392 - val_loss: 0.9004 - val_acc: 0.6562\n",
      "Epoch 151/300\n",
      "2879/2879 [==============================] - 0s 5us/step - loss: 0.1935 - acc: 0.9392 - val_loss: 0.9064 - val_acc: 0.6438\n",
      "Epoch 152/300\n",
      "2879/2879 [==============================] - 0s 6us/step - loss: 0.1932 - acc: 0.9399 - val_loss: 0.9041 - val_acc: 0.6438\n",
      "Epoch 153/300\n",
      "2879/2879 [==============================] - 0s 6us/step - loss: 0.1931 - acc: 0.9399 - val_loss: 0.9055 - val_acc: 0.6500\n",
      "Epoch 154/300\n",
      "2879/2879 [==============================] - 0s 6us/step - loss: 0.1930 - acc: 0.9420 - val_loss: 0.9046 - val_acc: 0.6500\n",
      "Epoch 155/300\n",
      "2879/2879 [==============================] - 0s 5us/step - loss: 0.1930 - acc: 0.9389 - val_loss: 0.9064 - val_acc: 0.6469\n",
      "Epoch 156/300\n",
      "2879/2879 [==============================] - 0s 6us/step - loss: 0.1923 - acc: 0.9385 - val_loss: 0.9056 - val_acc: 0.6531\n",
      "Epoch 157/300\n",
      "2879/2879 [==============================] - 0s 6us/step - loss: 0.1923 - acc: 0.9399 - val_loss: 0.9008 - val_acc: 0.6469\n",
      "Epoch 158/300\n",
      "2879/2879 [==============================] - 0s 6us/step - loss: 0.1919 - acc: 0.9403 - val_loss: 0.9053 - val_acc: 0.6438\n",
      "Epoch 159/300\n",
      "2879/2879 [==============================] - 0s 6us/step - loss: 0.1915 - acc: 0.9406 - val_loss: 0.9064 - val_acc: 0.6438\n",
      "Epoch 160/300\n",
      "2879/2879 [==============================] - 0s 6us/step - loss: 0.1913 - acc: 0.9396 - val_loss: 0.9091 - val_acc: 0.6344\n",
      "Epoch 161/300\n",
      "2879/2879 [==============================] - 0s 6us/step - loss: 0.1914 - acc: 0.9385 - val_loss: 0.9061 - val_acc: 0.6500\n",
      "Epoch 162/300\n",
      "2879/2879 [==============================] - 0s 6us/step - loss: 0.1908 - acc: 0.9410 - val_loss: 0.9086 - val_acc: 0.6531\n",
      "Epoch 163/300\n",
      "2879/2879 [==============================] - 0s 6us/step - loss: 0.1908 - acc: 0.9413 - val_loss: 0.9080 - val_acc: 0.6438\n",
      "Epoch 164/300\n",
      "2879/2879 [==============================] - 0s 6us/step - loss: 0.1905 - acc: 0.9416 - val_loss: 0.9060 - val_acc: 0.6562\n",
      "Epoch 165/300\n",
      "2879/2879 [==============================] - 0s 7us/step - loss: 0.1907 - acc: 0.9406 - val_loss: 0.9111 - val_acc: 0.6500\n",
      "Epoch 166/300\n",
      "2879/2879 [==============================] - 0s 6us/step - loss: 0.1904 - acc: 0.9437 - val_loss: 0.9103 - val_acc: 0.6469\n",
      "Epoch 167/300\n",
      "2879/2879 [==============================] - 0s 6us/step - loss: 0.1897 - acc: 0.9396 - val_loss: 0.9118 - val_acc: 0.6469\n",
      "Epoch 168/300\n",
      "2879/2879 [==============================] - 0s 6us/step - loss: 0.1893 - acc: 0.9423 - val_loss: 0.9143 - val_acc: 0.6406\n",
      "Epoch 169/300\n",
      "2879/2879 [==============================] - 0s 6us/step - loss: 0.1894 - acc: 0.9410 - val_loss: 0.9128 - val_acc: 0.6469\n",
      "Epoch 170/300\n",
      "2879/2879 [==============================] - 0s 6us/step - loss: 0.1890 - acc: 0.9410 - val_loss: 0.9147 - val_acc: 0.6500\n",
      "Epoch 171/300\n",
      "2879/2879 [==============================] - 0s 7us/step - loss: 0.1891 - acc: 0.9416 - val_loss: 0.9142 - val_acc: 0.6438\n",
      "Epoch 172/300\n",
      "2879/2879 [==============================] - 0s 6us/step - loss: 0.1887 - acc: 0.9406 - val_loss: 0.9168 - val_acc: 0.6500\n",
      "Epoch 173/300\n",
      "2879/2879 [==============================] - 0s 6us/step - loss: 0.1885 - acc: 0.9420 - val_loss: 0.9133 - val_acc: 0.6469\n",
      "Epoch 174/300\n",
      "2879/2879 [==============================] - 0s 6us/step - loss: 0.1881 - acc: 0.9385 - val_loss: 0.9202 - val_acc: 0.6531\n",
      "Epoch 175/300\n",
      "2879/2879 [==============================] - 0s 6us/step - loss: 0.1881 - acc: 0.9434 - val_loss: 0.9191 - val_acc: 0.6531\n",
      "Epoch 176/300\n",
      "2879/2879 [==============================] - 0s 6us/step - loss: 0.1879 - acc: 0.9420 - val_loss: 0.9140 - val_acc: 0.6438\n",
      "Epoch 177/300\n",
      "2879/2879 [==============================] - 0s 6us/step - loss: 0.1876 - acc: 0.9420 - val_loss: 0.9175 - val_acc: 0.6375\n",
      "Epoch 178/300\n",
      "2879/2879 [==============================] - 0s 6us/step - loss: 0.1873 - acc: 0.9413 - val_loss: 0.9191 - val_acc: 0.6438\n",
      "Epoch 179/300\n",
      "2879/2879 [==============================] - 0s 6us/step - loss: 0.1871 - acc: 0.9437 - val_loss: 0.9190 - val_acc: 0.6500\n",
      "Epoch 180/300\n",
      "2879/2879 [==============================] - 0s 6us/step - loss: 0.1867 - acc: 0.9430 - val_loss: 0.9165 - val_acc: 0.6469\n"
     ]
    },
    {
     "name": "stdout",
     "output_type": "stream",
     "text": [
      "Epoch 181/300\n",
      "2879/2879 [==============================] - 0s 6us/step - loss: 0.1865 - acc: 0.9441 - val_loss: 0.9186 - val_acc: 0.6500\n",
      "Epoch 182/300\n",
      "2879/2879 [==============================] - 0s 6us/step - loss: 0.1865 - acc: 0.9451 - val_loss: 0.9158 - val_acc: 0.6438\n",
      "Epoch 183/300\n",
      "2879/2879 [==============================] - 0s 6us/step - loss: 0.1861 - acc: 0.9444 - val_loss: 0.9180 - val_acc: 0.6375\n",
      "Epoch 184/300\n",
      "2879/2879 [==============================] - 0s 6us/step - loss: 0.1860 - acc: 0.9427 - val_loss: 0.9206 - val_acc: 0.6438\n",
      "Epoch 185/300\n",
      "2879/2879 [==============================] - 0s 6us/step - loss: 0.1856 - acc: 0.9441 - val_loss: 0.9241 - val_acc: 0.6406\n",
      "Epoch 186/300\n",
      "2879/2879 [==============================] - 0s 6us/step - loss: 0.1854 - acc: 0.9437 - val_loss: 0.9215 - val_acc: 0.6406\n",
      "Epoch 187/300\n",
      "2879/2879 [==============================] - 0s 6us/step - loss: 0.1856 - acc: 0.9434 - val_loss: 0.9234 - val_acc: 0.6562\n",
      "Epoch 188/300\n",
      "2879/2879 [==============================] - 0s 6us/step - loss: 0.1852 - acc: 0.9441 - val_loss: 0.9210 - val_acc: 0.6500\n",
      "Epoch 189/300\n",
      "2879/2879 [==============================] - 0s 6us/step - loss: 0.1851 - acc: 0.9427 - val_loss: 0.9200 - val_acc: 0.6594\n",
      "Epoch 190/300\n",
      "2879/2879 [==============================] - 0s 6us/step - loss: 0.1847 - acc: 0.9444 - val_loss: 0.9230 - val_acc: 0.6531\n",
      "Epoch 191/300\n",
      "2879/2879 [==============================] - 0s 6us/step - loss: 0.1842 - acc: 0.9441 - val_loss: 0.9286 - val_acc: 0.6500\n",
      "Epoch 192/300\n",
      "2879/2879 [==============================] - 0s 6us/step - loss: 0.1843 - acc: 0.9448 - val_loss: 0.9274 - val_acc: 0.6562\n",
      "Epoch 193/300\n",
      "2879/2879 [==============================] - 0s 6us/step - loss: 0.1838 - acc: 0.9448 - val_loss: 0.9278 - val_acc: 0.6469\n",
      "Epoch 194/300\n",
      "2879/2879 [==============================] - 0s 6us/step - loss: 0.1839 - acc: 0.9448 - val_loss: 0.9311 - val_acc: 0.6469\n",
      "Epoch 195/300\n",
      "2879/2879 [==============================] - 0s 6us/step - loss: 0.1834 - acc: 0.9462 - val_loss: 0.9327 - val_acc: 0.6406\n",
      "Epoch 196/300\n",
      "2879/2879 [==============================] - 0s 6us/step - loss: 0.1832 - acc: 0.9430 - val_loss: 0.9340 - val_acc: 0.6531\n",
      "Epoch 197/300\n",
      "2879/2879 [==============================] - 0s 5us/step - loss: 0.1831 - acc: 0.9462 - val_loss: 0.9286 - val_acc: 0.6500\n",
      "Epoch 198/300\n",
      "2879/2879 [==============================] - 0s 6us/step - loss: 0.1828 - acc: 0.9462 - val_loss: 0.9334 - val_acc: 0.6406\n",
      "Epoch 199/300\n",
      "2879/2879 [==============================] - 0s 6us/step - loss: 0.1829 - acc: 0.9451 - val_loss: 0.9330 - val_acc: 0.6406\n",
      "Epoch 200/300\n",
      "2879/2879 [==============================] - 0s 5us/step - loss: 0.1824 - acc: 0.9455 - val_loss: 0.9294 - val_acc: 0.6500\n",
      "Epoch 201/300\n",
      "2879/2879 [==============================] - 0s 6us/step - loss: 0.1821 - acc: 0.9462 - val_loss: 0.9287 - val_acc: 0.6438\n",
      "Epoch 202/300\n",
      "2879/2879 [==============================] - 0s 6us/step - loss: 0.1820 - acc: 0.9444 - val_loss: 0.9297 - val_acc: 0.6438\n",
      "Epoch 203/300\n",
      "2879/2879 [==============================] - 0s 6us/step - loss: 0.1816 - acc: 0.9451 - val_loss: 0.9361 - val_acc: 0.6500\n",
      "Epoch 204/300\n",
      "2879/2879 [==============================] - 0s 6us/step - loss: 0.1814 - acc: 0.9455 - val_loss: 0.9374 - val_acc: 0.6562\n",
      "Epoch 205/300\n",
      "2879/2879 [==============================] - 0s 5us/step - loss: 0.1818 - acc: 0.9462 - val_loss: 0.9369 - val_acc: 0.6500\n",
      "Epoch 206/300\n",
      "2879/2879 [==============================] - 0s 5us/step - loss: 0.1807 - acc: 0.9476 - val_loss: 0.9332 - val_acc: 0.6500\n",
      "Epoch 207/300\n",
      "2879/2879 [==============================] - 0s 6us/step - loss: 0.1808 - acc: 0.9476 - val_loss: 0.9384 - val_acc: 0.6500\n",
      "Epoch 208/300\n",
      "2879/2879 [==============================] - 0s 6us/step - loss: 0.1807 - acc: 0.9462 - val_loss: 0.9359 - val_acc: 0.6469\n",
      "Epoch 209/300\n",
      "2879/2879 [==============================] - 0s 6us/step - loss: 0.1804 - acc: 0.9472 - val_loss: 0.9314 - val_acc: 0.6438\n",
      "Epoch 210/300\n",
      "2879/2879 [==============================] - 0s 6us/step - loss: 0.1800 - acc: 0.9472 - val_loss: 0.9334 - val_acc: 0.6469\n",
      "Epoch 211/300\n",
      "2879/2879 [==============================] - 0s 6us/step - loss: 0.1800 - acc: 0.9455 - val_loss: 0.9363 - val_acc: 0.6438\n",
      "Epoch 212/300\n",
      "2879/2879 [==============================] - 0s 6us/step - loss: 0.1797 - acc: 0.9469 - val_loss: 0.9400 - val_acc: 0.6438\n",
      "Epoch 213/300\n",
      "2879/2879 [==============================] - 0s 6us/step - loss: 0.1792 - acc: 0.9455 - val_loss: 0.9403 - val_acc: 0.6438\n",
      "Epoch 214/300\n",
      "2879/2879 [==============================] - 0s 5us/step - loss: 0.1796 - acc: 0.9469 - val_loss: 0.9437 - val_acc: 0.6438\n",
      "Epoch 215/300\n",
      "2879/2879 [==============================] - 0s 6us/step - loss: 0.1790 - acc: 0.9465 - val_loss: 0.9398 - val_acc: 0.6500\n",
      "Epoch 216/300\n",
      "2879/2879 [==============================] - 0s 6us/step - loss: 0.1788 - acc: 0.9476 - val_loss: 0.9341 - val_acc: 0.6531\n",
      "Epoch 217/300\n",
      "2879/2879 [==============================] - 0s 6us/step - loss: 0.1788 - acc: 0.9472 - val_loss: 0.9399 - val_acc: 0.6562\n",
      "Epoch 218/300\n",
      "2879/2879 [==============================] - 0s 5us/step - loss: 0.1783 - acc: 0.9482 - val_loss: 0.9436 - val_acc: 0.6469\n",
      "Epoch 219/300\n",
      "2879/2879 [==============================] - 0s 6us/step - loss: 0.1782 - acc: 0.9472 - val_loss: 0.9427 - val_acc: 0.6469\n",
      "Epoch 220/300\n",
      "2879/2879 [==============================] - 0s 5us/step - loss: 0.1777 - acc: 0.9482 - val_loss: 0.9446 - val_acc: 0.6531\n",
      "Epoch 221/300\n",
      "2879/2879 [==============================] - 0s 6us/step - loss: 0.1781 - acc: 0.9500 - val_loss: 0.9419 - val_acc: 0.6438\n",
      "Epoch 222/300\n",
      "2879/2879 [==============================] - 0s 6us/step - loss: 0.1773 - acc: 0.9489 - val_loss: 0.9421 - val_acc: 0.6531\n",
      "Epoch 223/300\n",
      "2879/2879 [==============================] - 0s 6us/step - loss: 0.1771 - acc: 0.9472 - val_loss: 0.9459 - val_acc: 0.6531\n",
      "Epoch 224/300\n",
      "2879/2879 [==============================] - 0s 6us/step - loss: 0.1771 - acc: 0.9472 - val_loss: 0.9461 - val_acc: 0.6500\n",
      "Epoch 225/300\n",
      "2879/2879 [==============================] - 0s 6us/step - loss: 0.1768 - acc: 0.9472 - val_loss: 0.9448 - val_acc: 0.6500\n",
      "Epoch 226/300\n",
      "2879/2879 [==============================] - 0s 6us/step - loss: 0.1765 - acc: 0.9503 - val_loss: 0.9495 - val_acc: 0.6406\n",
      "Epoch 227/300\n",
      "2879/2879 [==============================] - 0s 6us/step - loss: 0.1763 - acc: 0.9489 - val_loss: 0.9448 - val_acc: 0.6531\n",
      "Epoch 228/300\n",
      "2879/2879 [==============================] - 0s 5us/step - loss: 0.1759 - acc: 0.9489 - val_loss: 0.9464 - val_acc: 0.6562\n",
      "Epoch 229/300\n",
      "2879/2879 [==============================] - 0s 6us/step - loss: 0.1762 - acc: 0.9500 - val_loss: 0.9486 - val_acc: 0.6531\n",
      "Epoch 230/300\n",
      "2879/2879 [==============================] - 0s 6us/step - loss: 0.1756 - acc: 0.9489 - val_loss: 0.9473 - val_acc: 0.6531\n",
      "Epoch 231/300\n",
      "2879/2879 [==============================] - 0s 6us/step - loss: 0.1755 - acc: 0.9510 - val_loss: 0.9473 - val_acc: 0.6500\n",
      "Epoch 232/300\n",
      "2879/2879 [==============================] - 0s 6us/step - loss: 0.1754 - acc: 0.9472 - val_loss: 0.9504 - val_acc: 0.6500\n",
      "Epoch 233/300\n",
      "2879/2879 [==============================] - 0s 6us/step - loss: 0.1751 - acc: 0.9503 - val_loss: 0.9475 - val_acc: 0.6500\n",
      "Epoch 234/300\n",
      "2879/2879 [==============================] - 0s 6us/step - loss: 0.1750 - acc: 0.9462 - val_loss: 0.9470 - val_acc: 0.6531\n",
      "Epoch 235/300\n",
      "2879/2879 [==============================] - 0s 6us/step - loss: 0.1748 - acc: 0.9479 - val_loss: 0.9505 - val_acc: 0.6438\n",
      "Epoch 236/300\n",
      "2879/2879 [==============================] - 0s 6us/step - loss: 0.1743 - acc: 0.9479 - val_loss: 0.9524 - val_acc: 0.6469\n",
      "Epoch 237/300\n",
      "2879/2879 [==============================] - 0s 6us/step - loss: 0.1743 - acc: 0.9496 - val_loss: 0.9508 - val_acc: 0.6531\n",
      "Epoch 238/300\n",
      "2879/2879 [==============================] - 0s 7us/step - loss: 0.1738 - acc: 0.9486 - val_loss: 0.9542 - val_acc: 0.6406\n",
      "Epoch 239/300\n",
      "2879/2879 [==============================] - 0s 7us/step - loss: 0.1740 - acc: 0.9500 - val_loss: 0.9499 - val_acc: 0.6438\n",
      "Epoch 240/300\n",
      "2879/2879 [==============================] - 0s 7us/step - loss: 0.1733 - acc: 0.9507 - val_loss: 0.9559 - val_acc: 0.6469\n"
     ]
    },
    {
     "name": "stdout",
     "output_type": "stream",
     "text": [
      "Epoch 241/300\n",
      "2879/2879 [==============================] - 0s 6us/step - loss: 0.1733 - acc: 0.9503 - val_loss: 0.9491 - val_acc: 0.6438\n",
      "Epoch 242/300\n",
      "2879/2879 [==============================] - 0s 6us/step - loss: 0.1730 - acc: 0.9500 - val_loss: 0.9575 - val_acc: 0.6531\n",
      "Epoch 243/300\n",
      "2879/2879 [==============================] - 0s 6us/step - loss: 0.1730 - acc: 0.9489 - val_loss: 0.9574 - val_acc: 0.6500\n",
      "Epoch 244/300\n",
      "2879/2879 [==============================] - 0s 6us/step - loss: 0.1726 - acc: 0.9500 - val_loss: 0.9584 - val_acc: 0.6469\n",
      "Epoch 245/300\n",
      "2879/2879 [==============================] - 0s 6us/step - loss: 0.1727 - acc: 0.9493 - val_loss: 0.9567 - val_acc: 0.6500\n",
      "Epoch 246/300\n",
      "2879/2879 [==============================] - 0s 6us/step - loss: 0.1724 - acc: 0.9510 - val_loss: 0.9623 - val_acc: 0.6469\n",
      "Epoch 247/300\n",
      "2879/2879 [==============================] - 0s 6us/step - loss: 0.1720 - acc: 0.9507 - val_loss: 0.9583 - val_acc: 0.6531\n",
      "Epoch 248/300\n",
      "2879/2879 [==============================] - 0s 5us/step - loss: 0.1712 - acc: 0.9514 - val_loss: 0.9585 - val_acc: 0.6469\n",
      "Epoch 249/300\n",
      "2879/2879 [==============================] - 0s 6us/step - loss: 0.1716 - acc: 0.9503 - val_loss: 0.9591 - val_acc: 0.6531\n",
      "Epoch 250/300\n",
      "2879/2879 [==============================] - 0s 6us/step - loss: 0.1710 - acc: 0.9496 - val_loss: 0.9609 - val_acc: 0.6469\n",
      "Epoch 251/300\n",
      "2879/2879 [==============================] - 0s 6us/step - loss: 0.1712 - acc: 0.9507 - val_loss: 0.9669 - val_acc: 0.6406\n",
      "Epoch 252/300\n",
      "2879/2879 [==============================] - 0s 6us/step - loss: 0.1711 - acc: 0.9514 - val_loss: 0.9576 - val_acc: 0.6438\n",
      "Epoch 253/300\n",
      "2879/2879 [==============================] - 0s 6us/step - loss: 0.1709 - acc: 0.9503 - val_loss: 0.9672 - val_acc: 0.6500\n",
      "Epoch 254/300\n",
      "2879/2879 [==============================] - 0s 5us/step - loss: 0.1710 - acc: 0.9489 - val_loss: 0.9628 - val_acc: 0.6469\n",
      "Epoch 255/300\n",
      "2879/2879 [==============================] - 0s 6us/step - loss: 0.1702 - acc: 0.9489 - val_loss: 0.9649 - val_acc: 0.6500\n",
      "Epoch 256/300\n",
      "2879/2879 [==============================] - 0s 6us/step - loss: 0.1702 - acc: 0.9500 - val_loss: 0.9605 - val_acc: 0.6531\n",
      "Epoch 257/300\n",
      "2879/2879 [==============================] - 0s 5us/step - loss: 0.1700 - acc: 0.9510 - val_loss: 0.9630 - val_acc: 0.6469\n",
      "Epoch 258/300\n",
      "2879/2879 [==============================] - 0s 6us/step - loss: 0.1698 - acc: 0.9517 - val_loss: 0.9672 - val_acc: 0.6562\n",
      "Epoch 259/300\n",
      "2879/2879 [==============================] - 0s 6us/step - loss: 0.1693 - acc: 0.9517 - val_loss: 0.9684 - val_acc: 0.6500\n",
      "Epoch 260/300\n",
      "2879/2879 [==============================] - 0s 6us/step - loss: 0.1692 - acc: 0.9489 - val_loss: 0.9646 - val_acc: 0.6531\n",
      "Epoch 261/300\n",
      "2879/2879 [==============================] - 0s 6us/step - loss: 0.1690 - acc: 0.9510 - val_loss: 0.9607 - val_acc: 0.6531\n",
      "Epoch 262/300\n",
      "2879/2879 [==============================] - 0s 6us/step - loss: 0.1686 - acc: 0.9538 - val_loss: 0.9665 - val_acc: 0.6531\n",
      "Epoch 263/300\n",
      "2879/2879 [==============================] - 0s 6us/step - loss: 0.1688 - acc: 0.9503 - val_loss: 0.9682 - val_acc: 0.6531\n",
      "Epoch 264/300\n",
      "2879/2879 [==============================] - 0s 6us/step - loss: 0.1686 - acc: 0.9517 - val_loss: 0.9696 - val_acc: 0.6469\n",
      "Epoch 265/300\n",
      "2879/2879 [==============================] - 0s 6us/step - loss: 0.1680 - acc: 0.9531 - val_loss: 0.9659 - val_acc: 0.6500\n",
      "Epoch 266/300\n",
      "2879/2879 [==============================] - 0s 6us/step - loss: 0.1679 - acc: 0.9535 - val_loss: 0.9727 - val_acc: 0.6531\n",
      "Epoch 267/300\n",
      "2879/2879 [==============================] - 0s 6us/step - loss: 0.1681 - acc: 0.9517 - val_loss: 0.9724 - val_acc: 0.6469\n",
      "Epoch 268/300\n",
      "2879/2879 [==============================] - 0s 6us/step - loss: 0.1674 - acc: 0.9517 - val_loss: 0.9755 - val_acc: 0.6562\n",
      "Epoch 269/300\n",
      "2879/2879 [==============================] - 0s 6us/step - loss: 0.1676 - acc: 0.9524 - val_loss: 0.9728 - val_acc: 0.6562\n",
      "Epoch 270/300\n",
      "2879/2879 [==============================] - 0s 6us/step - loss: 0.1673 - acc: 0.9514 - val_loss: 0.9722 - val_acc: 0.6531\n",
      "Epoch 271/300\n",
      "2879/2879 [==============================] - 0s 6us/step - loss: 0.1669 - acc: 0.9528 - val_loss: 0.9713 - val_acc: 0.6594\n",
      "Epoch 272/300\n",
      "2879/2879 [==============================] - 0s 6us/step - loss: 0.1666 - acc: 0.9517 - val_loss: 0.9720 - val_acc: 0.6562\n",
      "Epoch 273/300\n",
      "2879/2879 [==============================] - 0s 6us/step - loss: 0.1668 - acc: 0.9517 - val_loss: 0.9775 - val_acc: 0.6531\n",
      "Epoch 274/300\n",
      "2879/2879 [==============================] - 0s 6us/step - loss: 0.1665 - acc: 0.9528 - val_loss: 0.9737 - val_acc: 0.6531\n",
      "Epoch 275/300\n",
      "2879/2879 [==============================] - 0s 6us/step - loss: 0.1663 - acc: 0.9528 - val_loss: 0.9759 - val_acc: 0.6500\n",
      "Epoch 276/300\n",
      "2879/2879 [==============================] - 0s 6us/step - loss: 0.1658 - acc: 0.9545 - val_loss: 0.9782 - val_acc: 0.6531\n",
      "Epoch 277/300\n",
      "2879/2879 [==============================] - 0s 6us/step - loss: 0.1657 - acc: 0.9528 - val_loss: 0.9799 - val_acc: 0.6594\n",
      "Epoch 278/300\n",
      "2879/2879 [==============================] - 0s 6us/step - loss: 0.1654 - acc: 0.9531 - val_loss: 0.9775 - val_acc: 0.6500\n",
      "Epoch 279/300\n",
      "2879/2879 [==============================] - 0s 6us/step - loss: 0.1650 - acc: 0.9528 - val_loss: 0.9731 - val_acc: 0.6531\n",
      "Epoch 280/300\n",
      "2879/2879 [==============================] - 0s 7us/step - loss: 0.1647 - acc: 0.9531 - val_loss: 0.9738 - val_acc: 0.6594\n",
      "Epoch 281/300\n",
      "2879/2879 [==============================] - 0s 6us/step - loss: 0.1644 - acc: 0.9535 - val_loss: 0.9769 - val_acc: 0.6500\n",
      "Epoch 282/300\n",
      "2879/2879 [==============================] - 0s 6us/step - loss: 0.1647 - acc: 0.9535 - val_loss: 0.9818 - val_acc: 0.6531\n",
      "Epoch 283/300\n",
      "2879/2879 [==============================] - 0s 6us/step - loss: 0.1644 - acc: 0.9531 - val_loss: 0.9789 - val_acc: 0.6562\n",
      "Epoch 284/300\n",
      "2879/2879 [==============================] - 0s 7us/step - loss: 0.1644 - acc: 0.9542 - val_loss: 0.9812 - val_acc: 0.6531\n",
      "Epoch 285/300\n",
      "2879/2879 [==============================] - 0s 10us/step - loss: 0.1638 - acc: 0.9538 - val_loss: 0.9799 - val_acc: 0.6469\n",
      "Epoch 286/300\n",
      "2879/2879 [==============================] - 0s 7us/step - loss: 0.1632 - acc: 0.9535 - val_loss: 0.9809 - val_acc: 0.6500\n",
      "Epoch 287/300\n",
      "2879/2879 [==============================] - 0s 7us/step - loss: 0.1637 - acc: 0.9535 - val_loss: 0.9808 - val_acc: 0.6500\n",
      "Epoch 288/300\n",
      "2879/2879 [==============================] - 0s 8us/step - loss: 0.1635 - acc: 0.9548 - val_loss: 0.9867 - val_acc: 0.6469\n",
      "Epoch 289/300\n",
      "2879/2879 [==============================] - 0s 6us/step - loss: 0.1635 - acc: 0.9528 - val_loss: 0.9820 - val_acc: 0.6500\n",
      "Epoch 290/300\n",
      "2879/2879 [==============================] - 0s 6us/step - loss: 0.1627 - acc: 0.9569 - val_loss: 0.9813 - val_acc: 0.6500\n",
      "Epoch 291/300\n",
      "2879/2879 [==============================] - 0s 7us/step - loss: 0.1626 - acc: 0.9545 - val_loss: 0.9794 - val_acc: 0.6500\n",
      "Epoch 292/300\n",
      "2879/2879 [==============================] - 0s 6us/step - loss: 0.1622 - acc: 0.9552 - val_loss: 0.9782 - val_acc: 0.6531\n",
      "Epoch 293/300\n",
      "2879/2879 [==============================] - 0s 6us/step - loss: 0.1621 - acc: 0.9548 - val_loss: 0.9838 - val_acc: 0.6531\n",
      "Epoch 294/300\n",
      "2879/2879 [==============================] - 0s 6us/step - loss: 0.1623 - acc: 0.9535 - val_loss: 0.9841 - val_acc: 0.6500\n",
      "Epoch 295/300\n",
      "2879/2879 [==============================] - 0s 7us/step - loss: 0.1618 - acc: 0.9542 - val_loss: 0.9867 - val_acc: 0.6500\n",
      "Epoch 296/300\n",
      "2879/2879 [==============================] - 0s 6us/step - loss: 0.1616 - acc: 0.9545 - val_loss: 0.9891 - val_acc: 0.6500\n",
      "Epoch 297/300\n",
      "2879/2879 [==============================] - 0s 7us/step - loss: 0.1615 - acc: 0.9552 - val_loss: 0.9872 - val_acc: 0.6531\n",
      "Epoch 298/300\n",
      "2879/2879 [==============================] - 0s 7us/step - loss: 0.1612 - acc: 0.9559 - val_loss: 0.9858 - val_acc: 0.6531\n",
      "Epoch 299/300\n",
      "2879/2879 [==============================] - 0s 6us/step - loss: 0.1611 - acc: 0.9559 - val_loss: 0.9856 - val_acc: 0.6531\n",
      "Epoch 300/300\n",
      "2879/2879 [==============================] - 0s 6us/step - loss: 0.1608 - acc: 0.9562 - val_loss: 0.9903 - val_acc: 0.6531\n"
     ]
    }
   ],
   "source": [
    "history_tanh = model_tanh.fit(X_train_std, y_train, batch_size=256, epochs=300, verbose=1, validation_split=0.1)  \n",
    "# verbose lets us follow optimization of cost function, \n",
    "# validation split helps monitor if model is overfitting in training\n",
    "# We use batches so that we dont have to wait until everything is processed to start backpropagating.  "
   ]
  },
  {
   "cell_type": "code",
   "execution_count": 145,
   "metadata": {
    "ExecuteTime": {
     "end_time": "2019-07-23T21:06:58.589287Z",
     "start_time": "2019-07-23T21:06:58.426139Z"
    },
    "hidden": true,
    "scrolled": true
   },
   "outputs": [
    {
     "name": "stdout",
     "output_type": "stream",
     "text": [
      "We have reduced the loss by 30.23% by training the model through 300 epochs\n"
     ]
    },
    {
     "data": {
      "image/png": "[encoded data removed]",
      "text/plain": [
       "<Figure size 864x432 with 1 Axes>"
      ]
     },
     "metadata": {},
     "output_type": "display_data"
    }
   ],
   "source": [
    "loss = history_tanh.history['loss']\n",
    "plot_training_loss(loss)"
   ]
  },
  {
   "cell_type": "code",
   "execution_count": 146,
   "metadata": {
    "ExecuteTime": {
     "end_time": "2019-07-23T21:06:59.219464Z",
     "start_time": "2019-07-23T21:06:59.052415Z"
    },
    "hidden": true,
    "scrolled": false
   },
   "outputs": [
    {
     "name": "stdout",
     "output_type": "stream",
     "text": [
      "We have increase the accuracy by 4.24% by training the model through 300 epochs\n"
     ]
    },
    {
     "data": {
      "image/png": "[encoded data removed]",
      "text/plain": [
       "<Figure size 864x432 with 1 Axes>"
      ]
     },
     "metadata": {},
     "output_type": "display_data"
    }
   ],
   "source": [
    "acc = history_tanh.history['acc']\n",
    "plot_training_accuracy(acc, history_tanh)"
   ]
  },
  {
   "cell_type": "markdown",
   "metadata": {},
   "source": [
    "## Confusion Matrix for Neural Network"
   ]
  },
  {
   "cell_type": "code",
   "execution_count": 158,
   "metadata": {
    "ExecuteTime": {
     "end_time": "2019-07-24T00:44:30.407704Z",
     "start_time": "2019-07-24T00:44:30.284242Z"
    }
   },
   "outputs": [],
   "source": [
    "cm = confusion_matrix(y_test,y_test_pred)\n",
    "tn, fp, fn, tp = confusion_matrix(y_test, y_test_pred).ravel()"
   ]
  },
  {
   "cell_type": "code",
   "execution_count": 159,
   "metadata": {
    "ExecuteTime": {
     "end_time": "2019-07-24T00:47:45.506089Z",
     "start_time": "2019-07-24T00:47:45.372381Z"
    },
    "scrolled": true
   },
   "outputs": [
    {
     "name": "stdout",
     "output_type": "stream",
     "text": [
      "Normalized confusion matrix\n",
      "\n"
     ]
    },
    {
     "data": {
      "image/png": "[encoded data removed]",
      "text/plain": [
       "<Figure size 864x432 with 1 Axes>"
      ]
     },
     "metadata": {},
     "output_type": "display_data"
    }
   ],
   "source": [
    "plot_confusion_matrix(cm=cm, classes=[1,0], normalize=True, title='Confusion Matrix for Neural Network');"
   ]
  },
  {
   "cell_type": "code",
   "execution_count": 261,
   "metadata": {
    "ExecuteTime": {
     "end_time": "2019-07-24T17:25:04.799105Z",
     "start_time": "2019-07-24T17:25:04.748364Z"
    }
   },
   "outputs": [
    {
     "ename": "NameError",
     "evalue": "name 'pipe_svc' is not defined",
     "output_type": "error",
     "traceback": [
      "\u001b[0;31m---------------------------------------------------------------------------\u001b[0m",
      "\u001b[0;31mNameError\u001b[0m                                 Traceback (most recent call last)",
      "\u001b[0;32m<ipython-input-261-c35dc54e3684>\u001b[0m in \u001b[0;36m<module>\u001b[0;34m()\u001b[0m\n\u001b[1;32m      2\u001b[0m \u001b[0;32mfrom\u001b[0m \u001b[0msklearn\u001b[0m\u001b[0;34m.\u001b[0m\u001b[0mmetrics\u001b[0m \u001b[0;32mimport\u001b[0m \u001b[0mconfusion_matrix\u001b[0m\u001b[0;34m\u001b[0m\u001b[0m\n\u001b[1;32m      3\u001b[0m \u001b[0;34m\u001b[0m\u001b[0m\n\u001b[0;32m----> 4\u001b[0;31m \u001b[0mpipe_svc\u001b[0m\u001b[0;34m.\u001b[0m\u001b[0mfit\u001b[0m\u001b[0;34m(\u001b[0m\u001b[0mX_train\u001b[0m\u001b[0;34m,\u001b[0m \u001b[0my_train\u001b[0m\u001b[0;34m)\u001b[0m\u001b[0;34m\u001b[0m\u001b[0m\n\u001b[0m\u001b[1;32m      5\u001b[0m \u001b[0my_pred\u001b[0m \u001b[0;34m=\u001b[0m \u001b[0mpipe_svc\u001b[0m\u001b[0;34m.\u001b[0m\u001b[0mpredict\u001b[0m\u001b[0;34m(\u001b[0m\u001b[0mX_test\u001b[0m\u001b[0;34m)\u001b[0m\u001b[0;34m\u001b[0m\u001b[0m\n\u001b[1;32m      6\u001b[0m \u001b[0mconfmat\u001b[0m \u001b[0;34m=\u001b[0m \u001b[0mconfusion_matrix\u001b[0m\u001b[0;34m(\u001b[0m\u001b[0my_true\u001b[0m\u001b[0;34m=\u001b[0m\u001b[0my_test\u001b[0m\u001b[0;34m,\u001b[0m \u001b[0my_pred\u001b[0m\u001b[0;34m=\u001b[0m\u001b[0my_pred\u001b[0m\u001b[0;34m)\u001b[0m\u001b[0;34m\u001b[0m\u001b[0m\n",
      "\u001b[0;31mNameError\u001b[0m: name 'pipe_svc' is not defined"
     ]
    }
   ],
   "source": [
    "# Code from book\n",
    "from sklearn.metrics import confusion_matrix\n",
    "\n",
    "pipe_svc.fit(X_train, y_train)\n",
    "y_pred = pipe_svc.predict(X_test)\n",
    "confmat = confusion_matrix(y_true=y_test, y_pred=y_pred)\n",
    "print(confmat)\n",
    "\n",
    "fig, ax = plt.subplots(figsize=(2.5, 2.5))\n",
    "ax.matshow(confmat, cmap=plt.cm.Blues, alpha=0.3)\n",
    "for i in range(confmat.shape[0]):\n",
    "    for j in range(confmat.shape[1]):\n",
    "        ax.text(x=j, y=i, s=confmat[i, j], va='center', ha='center')\n",
    "\n",
    "plt.xlabel('Predicted label')\n",
    "plt.ylabel('True label')\n",
    "\n",
    "plt.tight_layout()\n",
    "#plt.savefig('images/06_09.png', dpi=300)\n",
    "plt.show()"
   ]
  },
  {
   "cell_type": "markdown",
   "metadata": {
    "heading_collapsed": true
   },
   "source": [
    "## Model Accuracy"
   ]
  },
  {
   "cell_type": "code",
   "execution_count": null,
   "metadata": {
    "hidden": true
   },
   "outputs": [],
   "source": [
    "score = model_tanh.evaluate(X_test_std, y_test, batch_size=128)"
   ]
  },
  {
   "cell_type": "markdown",
   "metadata": {
    "hidden": true
   },
   "source": [
    "### Predicting Class Labels & Accuracy"
   ]
  },
  {
   "cell_type": "code",
   "execution_count": 105,
   "metadata": {
    "ExecuteTime": {
     "end_time": "2019-07-23T20:41:24.920379Z",
     "start_time": "2019-07-23T20:41:24.851994Z"
    },
    "hidden": true,
    "scrolled": true
   },
   "outputs": [
    {
     "name": "stdout",
     "output_type": "stream",
     "text": [
      "First 3 bout predictions:  [1, 1, 0]\n",
      "Training Accuracy: 89.4%\n"
     ]
    }
   ],
   "source": [
    "y_train_pred = model_tanh.predict_classes(X_train_std, verbose=0)\n",
    "y_train_pred = [item for sublist in y_train_pred for item in sublist]\n",
    "print('First 3 bout predictions: ', y_train_pred[:3])\n",
    "\n",
    "# Training Accuracy\n",
    "correct_preds = np.sum(y_train == y_train_pred, axis=0)\n",
    "train_acc = correct_preds / y_train.shape[0]\n",
    "print('Training Accuracy: {}%'.format(round(train_acc * 100, 2)))"
   ]
  },
  {
   "cell_type": "code",
   "execution_count": 106,
   "metadata": {
    "ExecuteTime": {
     "end_time": "2019-07-23T20:41:25.704592Z",
     "start_time": "2019-07-23T20:41:25.654967Z"
    },
    "hidden": true
   },
   "outputs": [
    {
     "name": "stdout",
     "output_type": "stream",
     "text": [
      "Test Accuracy: 66.0%\n"
     ]
    }
   ],
   "source": [
    "# Testing Accuracy\n",
    "y_test_pred = model_tanh.predict_classes(X_test_std, verbose=0)\n",
    "y_test_pred = [item for sublist in y_test_pred for item in sublist]\n",
    "correct_preds = np.sum(y_test == y_test_pred, axis=0)\n",
    "test_acc = correct_preds / y_test.shape[0]\n",
    "print('Test Accuracy: {}%'.format(round(test_acc * 100), 2))"
   ]
  },
  {
   "cell_type": "code",
   "execution_count": 62,
   "metadata": {
    "ExecuteTime": {
     "end_time": "2019-07-23T20:23:02.356338Z",
     "start_time": "2019-07-23T20:23:02.259476Z"
    },
    "hidden": true
   },
   "outputs": [
    {
     "name": "stdout",
     "output_type": "stream",
     "text": [
      "3199/3199 [==============================] - 0s 14us/step\n",
      "1371/1371 [==============================] - 0s 12us/step\n"
     ]
    },
    {
     "data": {
      "text/plain": [
       "[0.6507057094556584, 0.6725018231387038]"
      ]
     },
     "execution_count": 62,
     "metadata": {},
     "output_type": "execute_result"
    }
   ],
   "source": [
    "# Learn.co\n",
    "model_tanh.evaluate(X_train_std, y_train)\n",
    "model_tanh.evaluate(X_test_std, y_test)"
   ]
  },
  {
   "cell_type": "code",
   "execution_count": null,
   "metadata": {
    "hidden": true
   },
   "outputs": [],
   "source": []
  },
  {
   "cell_type": "markdown",
   "metadata": {},
   "source": [
    "# Relu version"
   ]
  },
  {
   "cell_type": "code",
   "execution_count": 107,
   "metadata": {
    "ExecuteTime": {
     "end_time": "2019-07-23T20:41:34.869993Z",
     "start_time": "2019-07-23T20:41:34.804929Z"
    }
   },
   "outputs": [],
   "source": [
    "model_relu = Sequential()\n",
    "activation = 'relu'\n",
    "\n",
    "# Input Layer\n",
    "model_relu.add(Dense(64, input_dim=X_train_std.shape[1], activation = activation))\n",
    "\n",
    "# Hidden Layer 1\n",
    "model_relu.add(Dense(32, input_dim = 64, activation = activation))\n",
    "\n",
    "# Hidden Layer 2\n",
    "model_relu.add(Dense(units = 1, input_dim = 32, activation = 'sigmoid'))\n",
    "\n",
    "# Output Layer\n",
    "sgd_optimizer = SGD(lr=0.01, decay=1e-7, momentum=0.9) #learn rate, weight decay constant, momentum learning"
   ]
  },
  {
   "cell_type": "code",
   "execution_count": 108,
   "metadata": {
    "ExecuteTime": {
     "end_time": "2019-07-23T20:41:35.694976Z",
     "start_time": "2019-07-23T20:41:35.643639Z"
    }
   },
   "outputs": [],
   "source": [
    "model_relu.compile(loss='binary_crossentropy', optimizer='sgd', metrics=['accuracy'])"
   ]
  },
  {
   "cell_type": "code",
   "execution_count": 114,
   "metadata": {
    "ExecuteTime": {
     "end_time": "2019-07-23T20:42:00.860934Z",
     "start_time": "2019-07-23T20:41:55.368876Z"
    }
   },
   "outputs": [
    {
     "name": "stdout",
     "output_type": "stream",
     "text": [
      "Train on 2879 samples, validate on 320 samples\n",
      "Epoch 1/300\n",
      "2879/2879 [==============================] - 0s 6us/step - loss: 0.5330 - acc: 0.7332 - val_loss: 0.5824 - val_acc: 0.6875\n",
      "Epoch 2/300\n",
      "2879/2879 [==============================] - 0s 7us/step - loss: 0.5325 - acc: 0.7339 - val_loss: 0.5820 - val_acc: 0.6937\n",
      "Epoch 3/300\n",
      "2879/2879 [==============================] - 0s 7us/step - loss: 0.5320 - acc: 0.7329 - val_loss: 0.5822 - val_acc: 0.6875\n",
      "Epoch 4/300\n",
      "2879/2879 [==============================] - 0s 7us/step - loss: 0.5314 - acc: 0.7343 - val_loss: 0.5817 - val_acc: 0.6906\n",
      "Epoch 5/300\n",
      "2879/2879 [==============================] - 0s 8us/step - loss: 0.5309 - acc: 0.7332 - val_loss: 0.5817 - val_acc: 0.6906\n",
      "Epoch 6/300\n",
      "2879/2879 [==============================] - 0s 7us/step - loss: 0.5303 - acc: 0.7336 - val_loss: 0.5816 - val_acc: 0.6937\n",
      "Epoch 7/300\n",
      "2879/2879 [==============================] - 0s 6us/step - loss: 0.5298 - acc: 0.7364 - val_loss: 0.5815 - val_acc: 0.6906\n",
      "Epoch 8/300\n",
      "2879/2879 [==============================] - 0s 8us/step - loss: 0.5294 - acc: 0.7374 - val_loss: 0.5808 - val_acc: 0.6937\n",
      "Epoch 9/300\n",
      "2879/2879 [==============================] - 0s 7us/step - loss: 0.5288 - acc: 0.7367 - val_loss: 0.5811 - val_acc: 0.6906\n",
      "Epoch 10/300\n",
      "2879/2879 [==============================] - 0s 7us/step - loss: 0.5283 - acc: 0.7371 - val_loss: 0.5804 - val_acc: 0.6937\n",
      "Epoch 11/300\n",
      "2879/2879 [==============================] - 0s 6us/step - loss: 0.5278 - acc: 0.7360 - val_loss: 0.5807 - val_acc: 0.6906\n",
      "Epoch 12/300\n",
      "2879/2879 [==============================] - 0s 7us/step - loss: 0.5273 - acc: 0.7371 - val_loss: 0.5807 - val_acc: 0.6906\n",
      "Epoch 13/300\n",
      "2879/2879 [==============================] - 0s 7us/step - loss: 0.5268 - acc: 0.7381 - val_loss: 0.5796 - val_acc: 0.6937\n",
      "Epoch 14/300\n",
      "2879/2879 [==============================] - 0s 6us/step - loss: 0.5264 - acc: 0.7388 - val_loss: 0.5794 - val_acc: 0.7000\n",
      "Epoch 15/300\n",
      "2879/2879 [==============================] - 0s 7us/step - loss: 0.5259 - acc: 0.7378 - val_loss: 0.5791 - val_acc: 0.7000\n",
      "Epoch 16/300\n",
      "2879/2879 [==============================] - 0s 6us/step - loss: 0.5255 - acc: 0.7391 - val_loss: 0.5782 - val_acc: 0.7000\n",
      "Epoch 17/300\n",
      "2879/2879 [==============================] - 0s 6us/step - loss: 0.5251 - acc: 0.7391 - val_loss: 0.5782 - val_acc: 0.7000\n",
      "Epoch 18/300\n",
      "2879/2879 [==============================] - 0s 7us/step - loss: 0.5246 - acc: 0.7391 - val_loss: 0.5782 - val_acc: 0.7000\n",
      "Epoch 19/300\n",
      "2879/2879 [==============================] - 0s 6us/step - loss: 0.5240 - acc: 0.7419 - val_loss: 0.5783 - val_acc: 0.7000\n",
      "Epoch 20/300\n",
      "2879/2879 [==============================] - 0s 7us/step - loss: 0.5236 - acc: 0.7416 - val_loss: 0.5786 - val_acc: 0.6969\n",
      "Epoch 21/300\n",
      "2879/2879 [==============================] - 0s 6us/step - loss: 0.5231 - acc: 0.7409 - val_loss: 0.5782 - val_acc: 0.6937\n",
      "Epoch 22/300\n",
      "2879/2879 [==============================] - 0s 6us/step - loss: 0.5226 - acc: 0.7409 - val_loss: 0.5778 - val_acc: 0.7000\n",
      "Epoch 23/300\n",
      "2879/2879 [==============================] - 0s 7us/step - loss: 0.5222 - acc: 0.7423 - val_loss: 0.5784 - val_acc: 0.6844\n",
      "Epoch 24/300\n",
      "2879/2879 [==============================] - 0s 45us/step - loss: 0.5218 - acc: 0.7416 - val_loss: 0.5779 - val_acc: 0.6937\n",
      "Epoch 25/300\n",
      "2879/2879 [==============================] - 0s 7us/step - loss: 0.5213 - acc: 0.7433 - val_loss: 0.5781 - val_acc: 0.6781\n",
      "Epoch 26/300\n",
      "2879/2879 [==============================] - 0s 7us/step - loss: 0.5209 - acc: 0.7423 - val_loss: 0.5782 - val_acc: 0.6813\n",
      "Epoch 27/300\n",
      "2879/2879 [==============================] - 0s 7us/step - loss: 0.5204 - acc: 0.7426 - val_loss: 0.5783 - val_acc: 0.6813\n",
      "Epoch 28/300\n",
      "2879/2879 [==============================] - 0s 7us/step - loss: 0.5199 - acc: 0.7423 - val_loss: 0.5776 - val_acc: 0.6844\n",
      "Epoch 29/300\n",
      "2879/2879 [==============================] - 0s 7us/step - loss: 0.5195 - acc: 0.7444 - val_loss: 0.5782 - val_acc: 0.6844\n",
      "Epoch 30/300\n",
      "2879/2879 [==============================] - 0s 7us/step - loss: 0.5191 - acc: 0.7426 - val_loss: 0.5778 - val_acc: 0.6875\n",
      "Epoch 31/300\n",
      "2879/2879 [==============================] - 0s 7us/step - loss: 0.5186 - acc: 0.7419 - val_loss: 0.5777 - val_acc: 0.6937\n",
      "Epoch 32/300\n",
      "2879/2879 [==============================] - 0s 6us/step - loss: 0.5181 - acc: 0.7437 - val_loss: 0.5774 - val_acc: 0.6937\n",
      "Epoch 33/300\n",
      "2879/2879 [==============================] - 0s 7us/step - loss: 0.5178 - acc: 0.7447 - val_loss: 0.5768 - val_acc: 0.6937\n",
      "Epoch 34/300\n",
      "2879/2879 [==============================] - 0s 7us/step - loss: 0.5174 - acc: 0.7451 - val_loss: 0.5765 - val_acc: 0.6937\n",
      "Epoch 35/300\n",
      "2879/2879 [==============================] - 0s 7us/step - loss: 0.5170 - acc: 0.7457 - val_loss: 0.5762 - val_acc: 0.6937\n",
      "Epoch 36/300\n",
      "2879/2879 [==============================] - 0s 7us/step - loss: 0.5165 - acc: 0.7451 - val_loss: 0.5760 - val_acc: 0.6875\n",
      "Epoch 37/300\n",
      "2879/2879 [==============================] - 0s 7us/step - loss: 0.5161 - acc: 0.7471 - val_loss: 0.5765 - val_acc: 0.6937\n",
      "Epoch 38/300\n",
      "2879/2879 [==============================] - 0s 7us/step - loss: 0.5157 - acc: 0.7454 - val_loss: 0.5764 - val_acc: 0.6937\n",
      "Epoch 39/300\n",
      "2879/2879 [==============================] - 0s 6us/step - loss: 0.5152 - acc: 0.7454 - val_loss: 0.5760 - val_acc: 0.6906\n",
      "Epoch 40/300\n",
      "2879/2879 [==============================] - 0s 7us/step - loss: 0.5149 - acc: 0.7475 - val_loss: 0.5761 - val_acc: 0.6906\n",
      "Epoch 41/300\n",
      "2879/2879 [==============================] - 0s 7us/step - loss: 0.5144 - acc: 0.7471 - val_loss: 0.5758 - val_acc: 0.6875\n",
      "Epoch 42/300\n",
      "2879/2879 [==============================] - 0s 6us/step - loss: 0.5140 - acc: 0.7468 - val_loss: 0.5756 - val_acc: 0.6875\n",
      "Epoch 43/300\n",
      "2879/2879 [==============================] - 0s 6us/step - loss: 0.5137 - acc: 0.7485 - val_loss: 0.5758 - val_acc: 0.6875\n",
      "Epoch 44/300\n",
      "2879/2879 [==============================] - 0s 6us/step - loss: 0.5132 - acc: 0.7475 - val_loss: 0.5746 - val_acc: 0.6906\n",
      "Epoch 45/300\n",
      "2879/2879 [==============================] - 0s 7us/step - loss: 0.5130 - acc: 0.7485 - val_loss: 0.5742 - val_acc: 0.6906\n",
      "Epoch 46/300\n",
      "2879/2879 [==============================] - 0s 7us/step - loss: 0.5124 - acc: 0.7475 - val_loss: 0.5744 - val_acc: 0.6906\n",
      "Epoch 47/300\n",
      "2879/2879 [==============================] - 0s 7us/step - loss: 0.5120 - acc: 0.7485 - val_loss: 0.5747 - val_acc: 0.6906\n",
      "Epoch 48/300\n",
      "2879/2879 [==============================] - 0s 7us/step - loss: 0.5116 - acc: 0.7482 - val_loss: 0.5748 - val_acc: 0.6906\n",
      "Epoch 49/300\n",
      "2879/2879 [==============================] - 0s 7us/step - loss: 0.5112 - acc: 0.7489 - val_loss: 0.5750 - val_acc: 0.6906\n",
      "Epoch 50/300\n",
      "2879/2879 [==============================] - 0s 7us/step - loss: 0.5108 - acc: 0.7489 - val_loss: 0.5751 - val_acc: 0.6906\n",
      "Epoch 51/300\n",
      "2879/2879 [==============================] - 0s 6us/step - loss: 0.5105 - acc: 0.7475 - val_loss: 0.5747 - val_acc: 0.6906\n",
      "Epoch 52/300\n",
      "2879/2879 [==============================] - 0s 7us/step - loss: 0.5100 - acc: 0.7489 - val_loss: 0.5754 - val_acc: 0.6937\n",
      "Epoch 53/300\n",
      "2879/2879 [==============================] - 0s 6us/step - loss: 0.5096 - acc: 0.7492 - val_loss: 0.5748 - val_acc: 0.6937\n",
      "Epoch 54/300\n",
      "2879/2879 [==============================] - 0s 7us/step - loss: 0.5092 - acc: 0.7489 - val_loss: 0.5746 - val_acc: 0.6969\n",
      "Epoch 55/300\n",
      "2879/2879 [==============================] - 0s 6us/step - loss: 0.5089 - acc: 0.7510 - val_loss: 0.5746 - val_acc: 0.6969\n",
      "Epoch 56/300\n",
      "2879/2879 [==============================] - 0s 5us/step - loss: 0.5085 - acc: 0.7503 - val_loss: 0.5749 - val_acc: 0.7000\n",
      "Epoch 57/300\n",
      "2879/2879 [==============================] - 0s 6us/step - loss: 0.5081 - acc: 0.7496 - val_loss: 0.5745 - val_acc: 0.6969\n",
      "Epoch 58/300\n",
      "2879/2879 [==============================] - 0s 6us/step - loss: 0.5077 - acc: 0.7520 - val_loss: 0.5749 - val_acc: 0.7000\n",
      "Epoch 59/300\n",
      "2879/2879 [==============================] - 0s 6us/step - loss: 0.5073 - acc: 0.7503 - val_loss: 0.5748 - val_acc: 0.7031\n",
      "Epoch 60/300\n",
      "2879/2879 [==============================] - 0s 6us/step - loss: 0.5069 - acc: 0.7503 - val_loss: 0.5755 - val_acc: 0.6969\n"
     ]
    },
    {
     "name": "stdout",
     "output_type": "stream",
     "text": [
      "Epoch 61/300\n",
      "2879/2879 [==============================] - 0s 6us/step - loss: 0.5066 - acc: 0.7475 - val_loss: 0.5752 - val_acc: 0.7000\n",
      "Epoch 62/300\n",
      "2879/2879 [==============================] - 0s 6us/step - loss: 0.5062 - acc: 0.7496 - val_loss: 0.5752 - val_acc: 0.7000\n",
      "Epoch 63/300\n",
      "2879/2879 [==============================] - 0s 6us/step - loss: 0.5058 - acc: 0.7482 - val_loss: 0.5746 - val_acc: 0.7000\n",
      "Epoch 64/300\n",
      "2879/2879 [==============================] - 0s 6us/step - loss: 0.5054 - acc: 0.7496 - val_loss: 0.5743 - val_acc: 0.7000\n",
      "Epoch 65/300\n",
      "2879/2879 [==============================] - 0s 6us/step - loss: 0.5050 - acc: 0.7523 - val_loss: 0.5745 - val_acc: 0.7031\n",
      "Epoch 66/300\n",
      "2879/2879 [==============================] - 0s 7us/step - loss: 0.5046 - acc: 0.7513 - val_loss: 0.5746 - val_acc: 0.7031\n",
      "Epoch 67/300\n",
      "2879/2879 [==============================] - 0s 6us/step - loss: 0.5043 - acc: 0.7510 - val_loss: 0.5736 - val_acc: 0.7031\n",
      "Epoch 68/300\n",
      "2879/2879 [==============================] - 0s 6us/step - loss: 0.5039 - acc: 0.7534 - val_loss: 0.5741 - val_acc: 0.7000\n",
      "Epoch 69/300\n",
      "2879/2879 [==============================] - 0s 6us/step - loss: 0.5036 - acc: 0.7516 - val_loss: 0.5745 - val_acc: 0.7000\n",
      "Epoch 70/300\n",
      "2879/2879 [==============================] - 0s 6us/step - loss: 0.5032 - acc: 0.7510 - val_loss: 0.5752 - val_acc: 0.6969\n",
      "Epoch 71/300\n",
      "2879/2879 [==============================] - 0s 6us/step - loss: 0.5030 - acc: 0.7510 - val_loss: 0.5745 - val_acc: 0.7000\n",
      "Epoch 72/300\n",
      "2879/2879 [==============================] - 0s 6us/step - loss: 0.5025 - acc: 0.7516 - val_loss: 0.5751 - val_acc: 0.7000\n",
      "Epoch 73/300\n",
      "2879/2879 [==============================] - 0s 5us/step - loss: 0.5021 - acc: 0.7503 - val_loss: 0.5740 - val_acc: 0.7000\n",
      "Epoch 74/300\n",
      "2879/2879 [==============================] - 0s 6us/step - loss: 0.5017 - acc: 0.7527 - val_loss: 0.5740 - val_acc: 0.7000\n",
      "Epoch 75/300\n",
      "2879/2879 [==============================] - 0s 6us/step - loss: 0.5014 - acc: 0.7520 - val_loss: 0.5737 - val_acc: 0.7063\n",
      "Epoch 76/300\n",
      "2879/2879 [==============================] - 0s 6us/step - loss: 0.5010 - acc: 0.7527 - val_loss: 0.5735 - val_acc: 0.7031\n",
      "Epoch 77/300\n",
      "2879/2879 [==============================] - 0s 6us/step - loss: 0.5007 - acc: 0.7537 - val_loss: 0.5738 - val_acc: 0.7000\n",
      "Epoch 78/300\n",
      "2879/2879 [==============================] - 0s 6us/step - loss: 0.5003 - acc: 0.7551 - val_loss: 0.5742 - val_acc: 0.6969\n",
      "Epoch 79/300\n",
      "2879/2879 [==============================] - 0s 5us/step - loss: 0.4999 - acc: 0.7534 - val_loss: 0.5736 - val_acc: 0.6969\n",
      "Epoch 80/300\n",
      "2879/2879 [==============================] - 0s 6us/step - loss: 0.4995 - acc: 0.7544 - val_loss: 0.5732 - val_acc: 0.7031\n",
      "Epoch 81/300\n",
      "2879/2879 [==============================] - 0s 6us/step - loss: 0.4991 - acc: 0.7548 - val_loss: 0.5741 - val_acc: 0.6969\n",
      "Epoch 82/300\n",
      "2879/2879 [==============================] - 0s 5us/step - loss: 0.4989 - acc: 0.7516 - val_loss: 0.5734 - val_acc: 0.6969\n",
      "Epoch 83/300\n",
      "2879/2879 [==============================] - 0s 6us/step - loss: 0.4984 - acc: 0.7544 - val_loss: 0.5729 - val_acc: 0.7000\n",
      "Epoch 84/300\n",
      "2879/2879 [==============================] - 0s 6us/step - loss: 0.4981 - acc: 0.7537 - val_loss: 0.5722 - val_acc: 0.7031\n",
      "Epoch 85/300\n",
      "2879/2879 [==============================] - 0s 6us/step - loss: 0.4977 - acc: 0.7576 - val_loss: 0.5734 - val_acc: 0.6969\n",
      "Epoch 86/300\n",
      "2879/2879 [==============================] - 0s 6us/step - loss: 0.4974 - acc: 0.7551 - val_loss: 0.5734 - val_acc: 0.6969\n",
      "Epoch 87/300\n",
      "2879/2879 [==============================] - 0s 6us/step - loss: 0.4970 - acc: 0.7551 - val_loss: 0.5736 - val_acc: 0.6969\n",
      "Epoch 88/300\n",
      "2879/2879 [==============================] - 0s 6us/step - loss: 0.4966 - acc: 0.7548 - val_loss: 0.5744 - val_acc: 0.7000\n",
      "Epoch 89/300\n",
      "2879/2879 [==============================] - 0s 6us/step - loss: 0.4963 - acc: 0.7534 - val_loss: 0.5740 - val_acc: 0.6969\n",
      "Epoch 90/300\n",
      "2879/2879 [==============================] - 0s 7us/step - loss: 0.4960 - acc: 0.7558 - val_loss: 0.5734 - val_acc: 0.6937\n",
      "Epoch 91/300\n",
      "2879/2879 [==============================] - 0s 7us/step - loss: 0.4956 - acc: 0.7544 - val_loss: 0.5736 - val_acc: 0.6969\n",
      "Epoch 92/300\n",
      "2879/2879 [==============================] - 0s 6us/step - loss: 0.4952 - acc: 0.7555 - val_loss: 0.5731 - val_acc: 0.6969\n",
      "Epoch 93/300\n",
      "2879/2879 [==============================] - 0s 6us/step - loss: 0.4949 - acc: 0.7544 - val_loss: 0.5729 - val_acc: 0.6969\n",
      "Epoch 94/300\n",
      "2879/2879 [==============================] - 0s 6us/step - loss: 0.4945 - acc: 0.7576 - val_loss: 0.5726 - val_acc: 0.6937\n",
      "Epoch 95/300\n",
      "2879/2879 [==============================] - 0s 6us/step - loss: 0.4941 - acc: 0.7582 - val_loss: 0.5726 - val_acc: 0.6969\n",
      "Epoch 96/300\n",
      "2879/2879 [==============================] - 0s 6us/step - loss: 0.4938 - acc: 0.7555 - val_loss: 0.5722 - val_acc: 0.7000\n",
      "Epoch 97/300\n",
      "2879/2879 [==============================] - 0s 6us/step - loss: 0.4935 - acc: 0.7596 - val_loss: 0.5721 - val_acc: 0.7031\n",
      "Epoch 98/300\n",
      "2879/2879 [==============================] - 0s 6us/step - loss: 0.4931 - acc: 0.7569 - val_loss: 0.5722 - val_acc: 0.7031\n",
      "Epoch 99/300\n",
      "2879/2879 [==============================] - 0s 7us/step - loss: 0.4928 - acc: 0.7582 - val_loss: 0.5727 - val_acc: 0.7031\n",
      "Epoch 100/300\n",
      "2879/2879 [==============================] - 0s 6us/step - loss: 0.4923 - acc: 0.7562 - val_loss: 0.5722 - val_acc: 0.7000\n",
      "Epoch 101/300\n",
      "2879/2879 [==============================] - 0s 6us/step - loss: 0.4920 - acc: 0.7569 - val_loss: 0.5725 - val_acc: 0.6969\n",
      "Epoch 102/300\n",
      "2879/2879 [==============================] - 0s 5us/step - loss: 0.4916 - acc: 0.7555 - val_loss: 0.5722 - val_acc: 0.7000\n",
      "Epoch 103/300\n",
      "2879/2879 [==============================] - 0s 6us/step - loss: 0.4913 - acc: 0.7569 - val_loss: 0.5721 - val_acc: 0.7000\n",
      "Epoch 104/300\n",
      "2879/2879 [==============================] - 0s 5us/step - loss: 0.4909 - acc: 0.7579 - val_loss: 0.5724 - val_acc: 0.6937\n",
      "Epoch 105/300\n",
      "2879/2879 [==============================] - 0s 6us/step - loss: 0.4905 - acc: 0.7572 - val_loss: 0.5722 - val_acc: 0.6906\n",
      "Epoch 106/300\n",
      "2879/2879 [==============================] - 0s 6us/step - loss: 0.4902 - acc: 0.7576 - val_loss: 0.5730 - val_acc: 0.6937\n",
      "Epoch 107/300\n",
      "2879/2879 [==============================] - 0s 6us/step - loss: 0.4898 - acc: 0.7579 - val_loss: 0.5722 - val_acc: 0.6937\n",
      "Epoch 108/300\n",
      "2879/2879 [==============================] - 0s 5us/step - loss: 0.4895 - acc: 0.7586 - val_loss: 0.5721 - val_acc: 0.6937\n",
      "Epoch 109/300\n",
      "2879/2879 [==============================] - 0s 6us/step - loss: 0.4891 - acc: 0.7593 - val_loss: 0.5720 - val_acc: 0.6937\n",
      "Epoch 110/300\n",
      "2879/2879 [==============================] - 0s 6us/step - loss: 0.4888 - acc: 0.7596 - val_loss: 0.5726 - val_acc: 0.6906\n",
      "Epoch 111/300\n",
      "2879/2879 [==============================] - 0s 6us/step - loss: 0.4885 - acc: 0.7582 - val_loss: 0.5716 - val_acc: 0.6937\n",
      "Epoch 112/300\n",
      "2879/2879 [==============================] - 0s 5us/step - loss: 0.4882 - acc: 0.7617 - val_loss: 0.5720 - val_acc: 0.6969\n",
      "Epoch 113/300\n",
      "2879/2879 [==============================] - 0s 6us/step - loss: 0.4878 - acc: 0.7607 - val_loss: 0.5727 - val_acc: 0.7000\n",
      "Epoch 114/300\n",
      "2879/2879 [==============================] - 0s 5us/step - loss: 0.4874 - acc: 0.7593 - val_loss: 0.5717 - val_acc: 0.7000\n",
      "Epoch 115/300\n",
      "2879/2879 [==============================] - 0s 6us/step - loss: 0.4871 - acc: 0.7610 - val_loss: 0.5721 - val_acc: 0.7000\n",
      "Epoch 116/300\n",
      "2879/2879 [==============================] - 0s 5us/step - loss: 0.4867 - acc: 0.7603 - val_loss: 0.5719 - val_acc: 0.7000\n",
      "Epoch 117/300\n",
      "2879/2879 [==============================] - 0s 6us/step - loss: 0.4864 - acc: 0.7628 - val_loss: 0.5725 - val_acc: 0.7000\n",
      "Epoch 118/300\n",
      "2879/2879 [==============================] - 0s 6us/step - loss: 0.4861 - acc: 0.7617 - val_loss: 0.5725 - val_acc: 0.7000\n",
      "Epoch 119/300\n",
      "2879/2879 [==============================] - 0s 6us/step - loss: 0.4857 - acc: 0.7614 - val_loss: 0.5719 - val_acc: 0.7000\n",
      "Epoch 120/300\n",
      "2879/2879 [==============================] - 0s 6us/step - loss: 0.4854 - acc: 0.7617 - val_loss: 0.5714 - val_acc: 0.7000\n",
      "Epoch 121/300\n"
     ]
    },
    {
     "name": "stdout",
     "output_type": "stream",
     "text": [
      "2879/2879 [==============================] - 0s 6us/step - loss: 0.4851 - acc: 0.7617 - val_loss: 0.5710 - val_acc: 0.6969\n",
      "Epoch 122/300\n",
      "2879/2879 [==============================] - 0s 6us/step - loss: 0.4848 - acc: 0.7631 - val_loss: 0.5710 - val_acc: 0.7000\n",
      "Epoch 123/300\n",
      "2879/2879 [==============================] - 0s 6us/step - loss: 0.4844 - acc: 0.7624 - val_loss: 0.5715 - val_acc: 0.7000\n",
      "Epoch 124/300\n",
      "2879/2879 [==============================] - 0s 6us/step - loss: 0.4841 - acc: 0.7614 - val_loss: 0.5714 - val_acc: 0.7000\n",
      "Epoch 125/300\n",
      "2879/2879 [==============================] - 0s 5us/step - loss: 0.4837 - acc: 0.7648 - val_loss: 0.5712 - val_acc: 0.7000\n",
      "Epoch 126/300\n",
      "2879/2879 [==============================] - 0s 5us/step - loss: 0.4834 - acc: 0.7624 - val_loss: 0.5709 - val_acc: 0.7031\n",
      "Epoch 127/300\n",
      "2879/2879 [==============================] - 0s 6us/step - loss: 0.4830 - acc: 0.7628 - val_loss: 0.5708 - val_acc: 0.7031\n",
      "Epoch 128/300\n",
      "2879/2879 [==============================] - 0s 5us/step - loss: 0.4828 - acc: 0.7645 - val_loss: 0.5706 - val_acc: 0.7031\n",
      "Epoch 129/300\n",
      "2879/2879 [==============================] - 0s 5us/step - loss: 0.4824 - acc: 0.7642 - val_loss: 0.5709 - val_acc: 0.7031\n",
      "Epoch 130/300\n",
      "2879/2879 [==============================] - 0s 6us/step - loss: 0.4820 - acc: 0.7642 - val_loss: 0.5712 - val_acc: 0.7063\n",
      "Epoch 131/300\n",
      "2879/2879 [==============================] - 0s 6us/step - loss: 0.4817 - acc: 0.7638 - val_loss: 0.5712 - val_acc: 0.7063\n",
      "Epoch 132/300\n",
      "2879/2879 [==============================] - 0s 5us/step - loss: 0.4814 - acc: 0.7652 - val_loss: 0.5713 - val_acc: 0.7063\n",
      "Epoch 133/300\n",
      "2879/2879 [==============================] - 0s 6us/step - loss: 0.4812 - acc: 0.7642 - val_loss: 0.5708 - val_acc: 0.7063\n",
      "Epoch 134/300\n",
      "2879/2879 [==============================] - 0s 6us/step - loss: 0.4807 - acc: 0.7638 - val_loss: 0.5703 - val_acc: 0.7031\n",
      "Epoch 135/300\n",
      "2879/2879 [==============================] - 0s 6us/step - loss: 0.4804 - acc: 0.7645 - val_loss: 0.5712 - val_acc: 0.7094\n",
      "Epoch 136/300\n",
      "2879/2879 [==============================] - 0s 6us/step - loss: 0.4801 - acc: 0.7642 - val_loss: 0.5710 - val_acc: 0.7094\n",
      "Epoch 137/300\n",
      "2879/2879 [==============================] - 0s 6us/step - loss: 0.4797 - acc: 0.7648 - val_loss: 0.5717 - val_acc: 0.7094\n",
      "Epoch 138/300\n",
      "2879/2879 [==============================] - 0s 5us/step - loss: 0.4794 - acc: 0.7648 - val_loss: 0.5712 - val_acc: 0.7094\n",
      "Epoch 139/300\n",
      "2879/2879 [==============================] - 0s 6us/step - loss: 0.4791 - acc: 0.7638 - val_loss: 0.5695 - val_acc: 0.7031\n",
      "Epoch 140/300\n",
      "2879/2879 [==============================] - 0s 5us/step - loss: 0.4787 - acc: 0.7655 - val_loss: 0.5701 - val_acc: 0.7031\n",
      "Epoch 141/300\n",
      "2879/2879 [==============================] - 0s 6us/step - loss: 0.4784 - acc: 0.7666 - val_loss: 0.5703 - val_acc: 0.7031\n",
      "Epoch 142/300\n",
      "2879/2879 [==============================] - 0s 5us/step - loss: 0.4781 - acc: 0.7659 - val_loss: 0.5700 - val_acc: 0.7063\n",
      "Epoch 143/300\n",
      "2879/2879 [==============================] - 0s 5us/step - loss: 0.4777 - acc: 0.7655 - val_loss: 0.5704 - val_acc: 0.7063\n",
      "Epoch 144/300\n",
      "2879/2879 [==============================] - 0s 6us/step - loss: 0.4774 - acc: 0.7669 - val_loss: 0.5702 - val_acc: 0.7063\n",
      "Epoch 145/300\n",
      "2879/2879 [==============================] - 0s 6us/step - loss: 0.4771 - acc: 0.7676 - val_loss: 0.5700 - val_acc: 0.7063\n",
      "Epoch 146/300\n",
      "2879/2879 [==============================] - 0s 5us/step - loss: 0.4767 - acc: 0.7662 - val_loss: 0.5708 - val_acc: 0.7125\n",
      "Epoch 147/300\n",
      "2879/2879 [==============================] - 0s 5us/step - loss: 0.4765 - acc: 0.7676 - val_loss: 0.5703 - val_acc: 0.7063\n",
      "Epoch 148/300\n",
      "2879/2879 [==============================] - 0s 6us/step - loss: 0.4761 - acc: 0.7669 - val_loss: 0.5698 - val_acc: 0.7063\n",
      "Epoch 149/300\n",
      "2879/2879 [==============================] - 0s 6us/step - loss: 0.4758 - acc: 0.7673 - val_loss: 0.5698 - val_acc: 0.7063\n",
      "Epoch 150/300\n",
      "2879/2879 [==============================] - 0s 6us/step - loss: 0.4754 - acc: 0.7690 - val_loss: 0.5697 - val_acc: 0.7063\n",
      "Epoch 151/300\n",
      "2879/2879 [==============================] - 0s 6us/step - loss: 0.4751 - acc: 0.7690 - val_loss: 0.5699 - val_acc: 0.7063\n",
      "Epoch 152/300\n",
      "2879/2879 [==============================] - 0s 6us/step - loss: 0.4748 - acc: 0.7701 - val_loss: 0.5701 - val_acc: 0.7031\n",
      "Epoch 153/300\n",
      "2879/2879 [==============================] - 0s 6us/step - loss: 0.4745 - acc: 0.7697 - val_loss: 0.5697 - val_acc: 0.7063\n",
      "Epoch 154/300\n",
      "2879/2879 [==============================] - 0s 6us/step - loss: 0.4741 - acc: 0.7694 - val_loss: 0.5695 - val_acc: 0.7063\n",
      "Epoch 155/300\n",
      "2879/2879 [==============================] - 0s 6us/step - loss: 0.4738 - acc: 0.7708 - val_loss: 0.5691 - val_acc: 0.7094\n",
      "Epoch 156/300\n",
      "2879/2879 [==============================] - 0s 6us/step - loss: 0.4736 - acc: 0.7694 - val_loss: 0.5687 - val_acc: 0.7063\n",
      "Epoch 157/300\n",
      "2879/2879 [==============================] - 0s 7us/step - loss: 0.4733 - acc: 0.7701 - val_loss: 0.5680 - val_acc: 0.7094\n",
      "Epoch 158/300\n",
      "2879/2879 [==============================] - 0s 6us/step - loss: 0.4731 - acc: 0.7704 - val_loss: 0.5692 - val_acc: 0.7063\n",
      "Epoch 159/300\n",
      "2879/2879 [==============================] - 0s 6us/step - loss: 0.4725 - acc: 0.7704 - val_loss: 0.5692 - val_acc: 0.7063\n",
      "Epoch 160/300\n",
      "2879/2879 [==============================] - 0s 6us/step - loss: 0.4723 - acc: 0.7701 - val_loss: 0.5692 - val_acc: 0.7063\n",
      "Epoch 161/300\n",
      "2879/2879 [==============================] - 0s 6us/step - loss: 0.4719 - acc: 0.7721 - val_loss: 0.5697 - val_acc: 0.7031\n",
      "Epoch 162/300\n",
      "2879/2879 [==============================] - 0s 7us/step - loss: 0.4716 - acc: 0.7701 - val_loss: 0.5697 - val_acc: 0.7063\n",
      "Epoch 163/300\n",
      "2879/2879 [==============================] - 0s 8us/step - loss: 0.4713 - acc: 0.7701 - val_loss: 0.5700 - val_acc: 0.7063\n",
      "Epoch 164/300\n",
      "2879/2879 [==============================] - 0s 7us/step - loss: 0.4709 - acc: 0.7711 - val_loss: 0.5694 - val_acc: 0.7094\n",
      "Epoch 165/300\n",
      "2879/2879 [==============================] - 0s 6us/step - loss: 0.4707 - acc: 0.7704 - val_loss: 0.5694 - val_acc: 0.7094\n",
      "Epoch 166/300\n",
      "2879/2879 [==============================] - 0s 6us/step - loss: 0.4703 - acc: 0.7714 - val_loss: 0.5690 - val_acc: 0.7156\n",
      "Epoch 167/300\n",
      "2879/2879 [==============================] - 0s 6us/step - loss: 0.4701 - acc: 0.7704 - val_loss: 0.5691 - val_acc: 0.7156\n",
      "Epoch 168/300\n",
      "2879/2879 [==============================] - 0s 6us/step - loss: 0.4697 - acc: 0.7697 - val_loss: 0.5697 - val_acc: 0.7094\n",
      "Epoch 169/300\n",
      "2879/2879 [==============================] - 0s 6us/step - loss: 0.4694 - acc: 0.7701 - val_loss: 0.5705 - val_acc: 0.7063\n",
      "Epoch 170/300\n",
      "2879/2879 [==============================] - 0s 6us/step - loss: 0.4690 - acc: 0.7704 - val_loss: 0.5709 - val_acc: 0.7031\n",
      "Epoch 171/300\n",
      "2879/2879 [==============================] - 0s 6us/step - loss: 0.4687 - acc: 0.7690 - val_loss: 0.5709 - val_acc: 0.7063\n",
      "Epoch 172/300\n",
      "2879/2879 [==============================] - 0s 6us/step - loss: 0.4683 - acc: 0.7697 - val_loss: 0.5704 - val_acc: 0.7125\n",
      "Epoch 173/300\n",
      "2879/2879 [==============================] - 0s 6us/step - loss: 0.4680 - acc: 0.7704 - val_loss: 0.5713 - val_acc: 0.7063\n",
      "Epoch 174/300\n",
      "2879/2879 [==============================] - 0s 6us/step - loss: 0.4677 - acc: 0.7718 - val_loss: 0.5720 - val_acc: 0.7063\n",
      "Epoch 175/300\n",
      "2879/2879 [==============================] - 0s 6us/step - loss: 0.4675 - acc: 0.7708 - val_loss: 0.5709 - val_acc: 0.7094\n",
      "Epoch 176/300\n",
      "2879/2879 [==============================] - 0s 6us/step - loss: 0.4670 - acc: 0.7718 - val_loss: 0.5713 - val_acc: 0.7063\n",
      "Epoch 177/300\n",
      "2879/2879 [==============================] - 0s 6us/step - loss: 0.4667 - acc: 0.7735 - val_loss: 0.5710 - val_acc: 0.7125\n",
      "Epoch 178/300\n",
      "2879/2879 [==============================] - 0s 6us/step - loss: 0.4664 - acc: 0.7728 - val_loss: 0.5705 - val_acc: 0.7156\n",
      "Epoch 179/300\n",
      "2879/2879 [==============================] - 0s 6us/step - loss: 0.4661 - acc: 0.7718 - val_loss: 0.5702 - val_acc: 0.7125\n",
      "Epoch 180/300\n",
      "2879/2879 [==============================] - 0s 6us/step - loss: 0.4658 - acc: 0.7725 - val_loss: 0.5710 - val_acc: 0.7125\n"
     ]
    },
    {
     "name": "stdout",
     "output_type": "stream",
     "text": [
      "Epoch 181/300\n",
      "2879/2879 [==============================] - 0s 6us/step - loss: 0.4654 - acc: 0.7721 - val_loss: 0.5706 - val_acc: 0.7094\n",
      "Epoch 182/300\n",
      "2879/2879 [==============================] - 0s 6us/step - loss: 0.4651 - acc: 0.7718 - val_loss: 0.5708 - val_acc: 0.7094\n",
      "Epoch 183/300\n",
      "2879/2879 [==============================] - 0s 6us/step - loss: 0.4648 - acc: 0.7735 - val_loss: 0.5710 - val_acc: 0.7094\n",
      "Epoch 184/300\n",
      "2879/2879 [==============================] - 0s 5us/step - loss: 0.4644 - acc: 0.7739 - val_loss: 0.5708 - val_acc: 0.7094\n",
      "Epoch 185/300\n",
      "2879/2879 [==============================] - 0s 6us/step - loss: 0.4642 - acc: 0.7742 - val_loss: 0.5708 - val_acc: 0.7125\n",
      "Epoch 186/300\n",
      "2879/2879 [==============================] - 0s 5us/step - loss: 0.4639 - acc: 0.7746 - val_loss: 0.5709 - val_acc: 0.7094\n",
      "Epoch 187/300\n",
      "2879/2879 [==============================] - 0s 5us/step - loss: 0.4635 - acc: 0.7721 - val_loss: 0.5711 - val_acc: 0.7094\n",
      "Epoch 188/300\n",
      "2879/2879 [==============================] - 0s 5us/step - loss: 0.4631 - acc: 0.7739 - val_loss: 0.5709 - val_acc: 0.7125\n",
      "Epoch 189/300\n",
      "2879/2879 [==============================] - 0s 6us/step - loss: 0.4628 - acc: 0.7746 - val_loss: 0.5706 - val_acc: 0.7125\n",
      "Epoch 190/300\n",
      "2879/2879 [==============================] - 0s 5us/step - loss: 0.4624 - acc: 0.7749 - val_loss: 0.5708 - val_acc: 0.7125\n",
      "Epoch 191/300\n",
      "2879/2879 [==============================] - 0s 6us/step - loss: 0.4622 - acc: 0.7756 - val_loss: 0.5706 - val_acc: 0.7156\n",
      "Epoch 192/300\n",
      "2879/2879 [==============================] - 0s 6us/step - loss: 0.4618 - acc: 0.7767 - val_loss: 0.5709 - val_acc: 0.7156\n",
      "Epoch 193/300\n",
      "2879/2879 [==============================] - 0s 6us/step - loss: 0.4616 - acc: 0.7767 - val_loss: 0.5708 - val_acc: 0.7094\n",
      "Epoch 194/300\n",
      "2879/2879 [==============================] - 0s 6us/step - loss: 0.4612 - acc: 0.7760 - val_loss: 0.5707 - val_acc: 0.7156\n",
      "Epoch 195/300\n",
      "2879/2879 [==============================] - 0s 6us/step - loss: 0.4609 - acc: 0.7767 - val_loss: 0.5702 - val_acc: 0.7156\n",
      "Epoch 196/300\n",
      "2879/2879 [==============================] - 0s 6us/step - loss: 0.4605 - acc: 0.7774 - val_loss: 0.5706 - val_acc: 0.7156\n",
      "Epoch 197/300\n",
      "2879/2879 [==============================] - 0s 6us/step - loss: 0.4603 - acc: 0.7767 - val_loss: 0.5705 - val_acc: 0.7125\n",
      "Epoch 198/300\n",
      "2879/2879 [==============================] - 0s 5us/step - loss: 0.4599 - acc: 0.7767 - val_loss: 0.5696 - val_acc: 0.7188\n",
      "Epoch 199/300\n",
      "2879/2879 [==============================] - 0s 6us/step - loss: 0.4596 - acc: 0.7767 - val_loss: 0.5695 - val_acc: 0.7156\n",
      "Epoch 200/300\n",
      "2879/2879 [==============================] - 0s 6us/step - loss: 0.4593 - acc: 0.7777 - val_loss: 0.5699 - val_acc: 0.7125\n",
      "Epoch 201/300\n",
      "2879/2879 [==============================] - 0s 6us/step - loss: 0.4589 - acc: 0.7774 - val_loss: 0.5700 - val_acc: 0.7094\n",
      "Epoch 202/300\n",
      "2879/2879 [==============================] - 0s 6us/step - loss: 0.4585 - acc: 0.7784 - val_loss: 0.5696 - val_acc: 0.7094\n",
      "Epoch 203/300\n",
      "2879/2879 [==============================] - 0s 6us/step - loss: 0.4582 - acc: 0.7780 - val_loss: 0.5700 - val_acc: 0.7063\n",
      "Epoch 204/300\n",
      "2879/2879 [==============================] - 0s 5us/step - loss: 0.4580 - acc: 0.7780 - val_loss: 0.5710 - val_acc: 0.7063\n",
      "Epoch 205/300\n",
      "2879/2879 [==============================] - 0s 6us/step - loss: 0.4576 - acc: 0.7784 - val_loss: 0.5713 - val_acc: 0.7063\n",
      "Epoch 206/300\n",
      "2879/2879 [==============================] - 0s 6us/step - loss: 0.4573 - acc: 0.7770 - val_loss: 0.5710 - val_acc: 0.7094\n",
      "Epoch 207/300\n",
      "2879/2879 [==============================] - 0s 6us/step - loss: 0.4571 - acc: 0.7798 - val_loss: 0.5706 - val_acc: 0.7063\n",
      "Epoch 208/300\n",
      "2879/2879 [==============================] - 0s 6us/step - loss: 0.4566 - acc: 0.7801 - val_loss: 0.5703 - val_acc: 0.7063\n",
      "Epoch 209/300\n",
      "2879/2879 [==============================] - 0s 5us/step - loss: 0.4562 - acc: 0.7798 - val_loss: 0.5708 - val_acc: 0.7063\n",
      "Epoch 210/300\n",
      "2879/2879 [==============================] - 0s 6us/step - loss: 0.4560 - acc: 0.7798 - val_loss: 0.5702 - val_acc: 0.7063\n",
      "Epoch 211/300\n",
      "2879/2879 [==============================] - 0s 6us/step - loss: 0.4556 - acc: 0.7798 - val_loss: 0.5705 - val_acc: 0.7063\n",
      "Epoch 212/300\n",
      "2879/2879 [==============================] - 0s 5us/step - loss: 0.4553 - acc: 0.7791 - val_loss: 0.5704 - val_acc: 0.7094\n",
      "Epoch 213/300\n",
      "2879/2879 [==============================] - 0s 6us/step - loss: 0.4550 - acc: 0.7805 - val_loss: 0.5707 - val_acc: 0.7063\n",
      "Epoch 214/300\n",
      "2879/2879 [==============================] - 0s 6us/step - loss: 0.4547 - acc: 0.7794 - val_loss: 0.5708 - val_acc: 0.7063\n",
      "Epoch 215/300\n",
      "2879/2879 [==============================] - 0s 6us/step - loss: 0.4543 - acc: 0.7798 - val_loss: 0.5703 - val_acc: 0.7063\n",
      "Epoch 216/300\n",
      "2879/2879 [==============================] - 0s 6us/step - loss: 0.4540 - acc: 0.7794 - val_loss: 0.5703 - val_acc: 0.7063\n",
      "Epoch 217/300\n",
      "2879/2879 [==============================] - 0s 5us/step - loss: 0.4537 - acc: 0.7812 - val_loss: 0.5701 - val_acc: 0.7063\n",
      "Epoch 218/300\n",
      "2879/2879 [==============================] - 0s 6us/step - loss: 0.4533 - acc: 0.7819 - val_loss: 0.5702 - val_acc: 0.7063\n",
      "Epoch 219/300\n",
      "2879/2879 [==============================] - 0s 6us/step - loss: 0.4530 - acc: 0.7815 - val_loss: 0.5703 - val_acc: 0.7063\n",
      "Epoch 220/300\n",
      "2879/2879 [==============================] - 0s 6us/step - loss: 0.4527 - acc: 0.7808 - val_loss: 0.5706 - val_acc: 0.7000\n",
      "Epoch 221/300\n",
      "2879/2879 [==============================] - 0s 6us/step - loss: 0.4524 - acc: 0.7812 - val_loss: 0.5713 - val_acc: 0.7000\n",
      "Epoch 222/300\n",
      "2879/2879 [==============================] - 0s 6us/step - loss: 0.4520 - acc: 0.7815 - val_loss: 0.5704 - val_acc: 0.7094\n",
      "Epoch 223/300\n",
      "2879/2879 [==============================] - 0s 6us/step - loss: 0.4517 - acc: 0.7826 - val_loss: 0.5713 - val_acc: 0.7094\n",
      "Epoch 224/300\n",
      "2879/2879 [==============================] - 0s 6us/step - loss: 0.4513 - acc: 0.7808 - val_loss: 0.5712 - val_acc: 0.7063\n",
      "Epoch 225/300\n",
      "2879/2879 [==============================] - 0s 6us/step - loss: 0.4511 - acc: 0.7798 - val_loss: 0.5722 - val_acc: 0.6969\n",
      "Epoch 226/300\n",
      "2879/2879 [==============================] - 0s 6us/step - loss: 0.4507 - acc: 0.7829 - val_loss: 0.5714 - val_acc: 0.7031\n",
      "Epoch 227/300\n",
      "2879/2879 [==============================] - 0s 6us/step - loss: 0.4504 - acc: 0.7826 - val_loss: 0.5717 - val_acc: 0.7031\n",
      "Epoch 228/300\n",
      "2879/2879 [==============================] - 0s 6us/step - loss: 0.4500 - acc: 0.7826 - val_loss: 0.5721 - val_acc: 0.7000\n",
      "Epoch 229/300\n",
      "2879/2879 [==============================] - 0s 5us/step - loss: 0.4498 - acc: 0.7815 - val_loss: 0.5713 - val_acc: 0.7094\n",
      "Epoch 230/300\n",
      "2879/2879 [==============================] - 0s 5us/step - loss: 0.4494 - acc: 0.7829 - val_loss: 0.5728 - val_acc: 0.6969\n",
      "Epoch 231/300\n",
      "2879/2879 [==============================] - 0s 6us/step - loss: 0.4492 - acc: 0.7836 - val_loss: 0.5720 - val_acc: 0.7125\n",
      "Epoch 232/300\n",
      "2879/2879 [==============================] - 0s 6us/step - loss: 0.4487 - acc: 0.7840 - val_loss: 0.5725 - val_acc: 0.7063\n",
      "Epoch 233/300\n",
      "2879/2879 [==============================] - 0s 5us/step - loss: 0.4484 - acc: 0.7843 - val_loss: 0.5720 - val_acc: 0.7063\n",
      "Epoch 234/300\n",
      "2879/2879 [==============================] - 0s 6us/step - loss: 0.4481 - acc: 0.7850 - val_loss: 0.5715 - val_acc: 0.7125\n",
      "Epoch 235/300\n",
      "2879/2879 [==============================] - 0s 5us/step - loss: 0.4478 - acc: 0.7819 - val_loss: 0.5718 - val_acc: 0.7125\n",
      "Epoch 236/300\n",
      "2879/2879 [==============================] - 0s 6us/step - loss: 0.4475 - acc: 0.7840 - val_loss: 0.5723 - val_acc: 0.7094\n",
      "Epoch 237/300\n",
      "2879/2879 [==============================] - 0s 6us/step - loss: 0.4471 - acc: 0.7829 - val_loss: 0.5724 - val_acc: 0.7094\n",
      "Epoch 238/300\n",
      "2879/2879 [==============================] - 0s 6us/step - loss: 0.4468 - acc: 0.7840 - val_loss: 0.5724 - val_acc: 0.7125\n",
      "Epoch 239/300\n",
      "2879/2879 [==============================] - 0s 6us/step - loss: 0.4465 - acc: 0.7836 - val_loss: 0.5717 - val_acc: 0.7125\n",
      "Epoch 240/300\n",
      "2879/2879 [==============================] - 0s 6us/step - loss: 0.4461 - acc: 0.7843 - val_loss: 0.5718 - val_acc: 0.7125\n"
     ]
    },
    {
     "name": "stdout",
     "output_type": "stream",
     "text": [
      "Epoch 241/300\n",
      "2879/2879 [==============================] - 0s 6us/step - loss: 0.4459 - acc: 0.7846 - val_loss: 0.5726 - val_acc: 0.7063\n",
      "Epoch 242/300\n",
      "2879/2879 [==============================] - 0s 6us/step - loss: 0.4456 - acc: 0.7874 - val_loss: 0.5731 - val_acc: 0.6969\n",
      "Epoch 243/300\n",
      "2879/2879 [==============================] - 0s 5us/step - loss: 0.4452 - acc: 0.7857 - val_loss: 0.5732 - val_acc: 0.7031\n",
      "Epoch 244/300\n",
      "2879/2879 [==============================] - 0s 6us/step - loss: 0.4449 - acc: 0.7864 - val_loss: 0.5734 - val_acc: 0.7000\n",
      "Epoch 245/300\n",
      "2879/2879 [==============================] - 0s 6us/step - loss: 0.4445 - acc: 0.7867 - val_loss: 0.5723 - val_acc: 0.7094\n",
      "Epoch 246/300\n",
      "2879/2879 [==============================] - 0s 6us/step - loss: 0.4442 - acc: 0.7860 - val_loss: 0.5723 - val_acc: 0.7094\n",
      "Epoch 247/300\n",
      "2879/2879 [==============================] - 0s 6us/step - loss: 0.4438 - acc: 0.7864 - val_loss: 0.5721 - val_acc: 0.7063\n",
      "Epoch 248/300\n",
      "2879/2879 [==============================] - 0s 6us/step - loss: 0.4436 - acc: 0.7850 - val_loss: 0.5722 - val_acc: 0.7094\n",
      "Epoch 249/300\n",
      "2879/2879 [==============================] - 0s 6us/step - loss: 0.4431 - acc: 0.7857 - val_loss: 0.5722 - val_acc: 0.7063\n",
      "Epoch 250/300\n",
      "2879/2879 [==============================] - 0s 6us/step - loss: 0.4429 - acc: 0.7860 - val_loss: 0.5722 - val_acc: 0.7063\n",
      "Epoch 251/300\n",
      "2879/2879 [==============================] - 0s 6us/step - loss: 0.4425 - acc: 0.7871 - val_loss: 0.5730 - val_acc: 0.7031\n",
      "Epoch 252/300\n",
      "2879/2879 [==============================] - 0s 6us/step - loss: 0.4423 - acc: 0.7867 - val_loss: 0.5728 - val_acc: 0.7094\n",
      "Epoch 253/300\n",
      "2879/2879 [==============================] - 0s 6us/step - loss: 0.4419 - acc: 0.7878 - val_loss: 0.5718 - val_acc: 0.7063\n",
      "Epoch 254/300\n",
      "2879/2879 [==============================] - 0s 6us/step - loss: 0.4416 - acc: 0.7864 - val_loss: 0.5716 - val_acc: 0.7094\n",
      "Epoch 255/300\n",
      "2879/2879 [==============================] - 0s 6us/step - loss: 0.4413 - acc: 0.7874 - val_loss: 0.5724 - val_acc: 0.7094\n",
      "Epoch 256/300\n",
      "2879/2879 [==============================] - 0s 6us/step - loss: 0.4410 - acc: 0.7871 - val_loss: 0.5724 - val_acc: 0.7094\n",
      "Epoch 257/300\n",
      "2879/2879 [==============================] - 0s 5us/step - loss: 0.4407 - acc: 0.7874 - val_loss: 0.5723 - val_acc: 0.7094\n",
      "Epoch 258/300\n",
      "2879/2879 [==============================] - 0s 5us/step - loss: 0.4403 - acc: 0.7867 - val_loss: 0.5728 - val_acc: 0.7125\n",
      "Epoch 259/300\n",
      "2879/2879 [==============================] - 0s 6us/step - loss: 0.4400 - acc: 0.7874 - val_loss: 0.5724 - val_acc: 0.7094\n",
      "Epoch 260/300\n",
      "2879/2879 [==============================] - 0s 6us/step - loss: 0.4398 - acc: 0.7874 - val_loss: 0.5731 - val_acc: 0.7094\n",
      "Epoch 261/300\n",
      "2879/2879 [==============================] - 0s 6us/step - loss: 0.4393 - acc: 0.7874 - val_loss: 0.5722 - val_acc: 0.7094\n",
      "Epoch 262/300\n",
      "2879/2879 [==============================] - 0s 7us/step - loss: 0.4391 - acc: 0.7885 - val_loss: 0.5733 - val_acc: 0.7063\n",
      "Epoch 263/300\n",
      "2879/2879 [==============================] - 0s 6us/step - loss: 0.4387 - acc: 0.7874 - val_loss: 0.5729 - val_acc: 0.7063\n",
      "Epoch 264/300\n",
      "2879/2879 [==============================] - 0s 6us/step - loss: 0.4384 - acc: 0.7867 - val_loss: 0.5723 - val_acc: 0.7094\n",
      "Epoch 265/300\n",
      "2879/2879 [==============================] - 0s 6us/step - loss: 0.4381 - acc: 0.7888 - val_loss: 0.5729 - val_acc: 0.7063\n",
      "Epoch 266/300\n",
      "2879/2879 [==============================] - 0s 6us/step - loss: 0.4377 - acc: 0.7878 - val_loss: 0.5724 - val_acc: 0.7063\n",
      "Epoch 267/300\n",
      "2879/2879 [==============================] - 0s 6us/step - loss: 0.4374 - acc: 0.7899 - val_loss: 0.5720 - val_acc: 0.7063\n",
      "Epoch 268/300\n",
      "2879/2879 [==============================] - 0s 6us/step - loss: 0.4371 - acc: 0.7892 - val_loss: 0.5722 - val_acc: 0.7063\n",
      "Epoch 269/300\n",
      "2879/2879 [==============================] - 0s 6us/step - loss: 0.4368 - acc: 0.7885 - val_loss: 0.5728 - val_acc: 0.7063\n",
      "Epoch 270/300\n",
      "2879/2879 [==============================] - 0s 5us/step - loss: 0.4364 - acc: 0.7885 - val_loss: 0.5734 - val_acc: 0.7063\n",
      "Epoch 271/300\n",
      "2879/2879 [==============================] - 0s 6us/step - loss: 0.4362 - acc: 0.7892 - val_loss: 0.5730 - val_acc: 0.7094\n",
      "Epoch 272/300\n",
      "2879/2879 [==============================] - 0s 6us/step - loss: 0.4358 - acc: 0.7899 - val_loss: 0.5732 - val_acc: 0.7063\n",
      "Epoch 273/300\n",
      "2879/2879 [==============================] - 0s 6us/step - loss: 0.4355 - acc: 0.7888 - val_loss: 0.5735 - val_acc: 0.7063\n",
      "Epoch 274/300\n",
      "2879/2879 [==============================] - 0s 6us/step - loss: 0.4352 - acc: 0.7895 - val_loss: 0.5734 - val_acc: 0.7063\n",
      "Epoch 275/300\n",
      "2879/2879 [==============================] - 0s 6us/step - loss: 0.4348 - acc: 0.7899 - val_loss: 0.5737 - val_acc: 0.7031\n",
      "Epoch 276/300\n",
      "2879/2879 [==============================] - 0s 6us/step - loss: 0.4345 - acc: 0.7892 - val_loss: 0.5727 - val_acc: 0.7094\n",
      "Epoch 277/300\n",
      "2879/2879 [==============================] - 0s 6us/step - loss: 0.4342 - acc: 0.7892 - val_loss: 0.5730 - val_acc: 0.7063\n",
      "Epoch 278/300\n",
      "2879/2879 [==============================] - 0s 6us/step - loss: 0.4338 - acc: 0.7895 - val_loss: 0.5734 - val_acc: 0.7031\n",
      "Epoch 279/300\n",
      "2879/2879 [==============================] - 0s 6us/step - loss: 0.4335 - acc: 0.7906 - val_loss: 0.5729 - val_acc: 0.7063\n",
      "Epoch 280/300\n",
      "2879/2879 [==============================] - 0s 6us/step - loss: 0.4333 - acc: 0.7902 - val_loss: 0.5725 - val_acc: 0.7063\n",
      "Epoch 281/300\n",
      "2879/2879 [==============================] - 0s 7us/step - loss: 0.4328 - acc: 0.7899 - val_loss: 0.5727 - val_acc: 0.7000\n",
      "Epoch 282/300\n",
      "2879/2879 [==============================] - 0s 6us/step - loss: 0.4326 - acc: 0.7919 - val_loss: 0.5739 - val_acc: 0.6969\n",
      "Epoch 283/300\n",
      "2879/2879 [==============================] - 0s 6us/step - loss: 0.4323 - acc: 0.7909 - val_loss: 0.5738 - val_acc: 0.7000\n",
      "Epoch 284/300\n",
      "2879/2879 [==============================] - 0s 5us/step - loss: 0.4319 - acc: 0.7930 - val_loss: 0.5729 - val_acc: 0.7063\n",
      "Epoch 285/300\n",
      "2879/2879 [==============================] - 0s 6us/step - loss: 0.4316 - acc: 0.7919 - val_loss: 0.5746 - val_acc: 0.7000\n",
      "Epoch 286/300\n",
      "2879/2879 [==============================] - 0s 6us/step - loss: 0.4313 - acc: 0.7923 - val_loss: 0.5748 - val_acc: 0.6969\n",
      "Epoch 287/300\n",
      "2879/2879 [==============================] - 0s 6us/step - loss: 0.4310 - acc: 0.7916 - val_loss: 0.5735 - val_acc: 0.6969\n",
      "Epoch 288/300\n",
      "2879/2879 [==============================] - 0s 6us/step - loss: 0.4307 - acc: 0.7909 - val_loss: 0.5730 - val_acc: 0.6937\n",
      "Epoch 289/300\n",
      "2879/2879 [==============================] - 0s 6us/step - loss: 0.4304 - acc: 0.7919 - val_loss: 0.5734 - val_acc: 0.6969\n",
      "Epoch 290/300\n",
      "2879/2879 [==============================] - 0s 6us/step - loss: 0.4301 - acc: 0.7926 - val_loss: 0.5745 - val_acc: 0.6969\n",
      "Epoch 291/300\n",
      "2879/2879 [==============================] - 0s 6us/step - loss: 0.4298 - acc: 0.7940 - val_loss: 0.5737 - val_acc: 0.7000\n",
      "Epoch 292/300\n",
      "2879/2879 [==============================] - 0s 6us/step - loss: 0.4293 - acc: 0.7947 - val_loss: 0.5727 - val_acc: 0.6969\n",
      "Epoch 293/300\n",
      "2879/2879 [==============================] - 0s 6us/step - loss: 0.4290 - acc: 0.7937 - val_loss: 0.5725 - val_acc: 0.7031\n",
      "Epoch 294/300\n",
      "2879/2879 [==============================] - 0s 5us/step - loss: 0.4288 - acc: 0.7937 - val_loss: 0.5733 - val_acc: 0.6969\n",
      "Epoch 295/300\n",
      "2879/2879 [==============================] - 0s 6us/step - loss: 0.4284 - acc: 0.7937 - val_loss: 0.5733 - val_acc: 0.6969\n",
      "Epoch 296/300\n",
      "2879/2879 [==============================] - 0s 6us/step - loss: 0.4280 - acc: 0.7944 - val_loss: 0.5738 - val_acc: 0.6969\n",
      "Epoch 297/300\n",
      "2879/2879 [==============================] - 0s 6us/step - loss: 0.4278 - acc: 0.7951 - val_loss: 0.5736 - val_acc: 0.6969\n",
      "Epoch 298/300\n",
      "2879/2879 [==============================] - 0s 6us/step - loss: 0.4274 - acc: 0.7944 - val_loss: 0.5737 - val_acc: 0.6969\n",
      "Epoch 299/300\n",
      "2879/2879 [==============================] - 0s 6us/step - loss: 0.4271 - acc: 0.7958 - val_loss: 0.5732 - val_acc: 0.6969\n",
      "Epoch 300/300\n",
      "2879/2879 [==============================] - 0s 6us/step - loss: 0.4267 - acc: 0.7968 - val_loss: 0.5742 - val_acc: 0.7000\n"
     ]
    }
   ],
   "source": [
    "# Fit model\n",
    "history_relu = model_relu.fit(X_train_std, y_train, batch_size=256, epochs=300, verbose=1, validation_split=0.1)  "
   ]
  },
  {
   "cell_type": "code",
   "execution_count": 115,
   "metadata": {
    "ExecuteTime": {
     "end_time": "2019-07-23T20:42:01.470292Z",
     "start_time": "2019-07-23T20:42:01.308197Z"
    }
   },
   "outputs": [
    {
     "name": "stdout",
     "output_type": "stream",
     "text": [
      "We have reduced the loss by 19.95% by training the model through 300 epochs\n"
     ]
    },
    {
     "data": {
      "image/png": "[encoded data removed]",
      "text/plain": [
       "<Figure size 864x432 with 1 Axes>"
      ]
     },
     "metadata": {},
     "output_type": "display_data"
    }
   ],
   "source": [
    "loss = history_relu.history['loss']\n",
    "plot_training_loss(loss)"
   ]
  },
  {
   "cell_type": "code",
   "execution_count": 116,
   "metadata": {
    "ExecuteTime": {
     "end_time": "2019-07-23T20:42:02.072565Z",
     "start_time": "2019-07-23T20:42:01.909912Z"
    }
   },
   "outputs": [
    {
     "name": "stdout",
     "output_type": "stream",
     "text": [
      "We have increase the accuracy by 8.72% by training the model through 300 epochs\n"
     ]
    },
    {
     "data": {
      "image/png": "[encoded data removed]",
      "text/plain": [
       "<Figure size 864x432 with 1 Axes>"
      ]
     },
     "metadata": {},
     "output_type": "display_data"
    }
   ],
   "source": [
    "acc = history_relu.history['acc']\n",
    "plot_training_accuracy(acc, history_relu)"
   ]
  },
  {
   "cell_type": "code",
   "execution_count": 117,
   "metadata": {
    "ExecuteTime": {
     "end_time": "2019-07-23T20:42:02.576310Z",
     "start_time": "2019-07-23T20:42:02.513365Z"
    }
   },
   "outputs": [
    {
     "name": "stdout",
     "output_type": "stream",
     "text": [
      "First 3 bout predictions:  [1, 1, 0]\n",
      "Training Accuracy: 78.74%\n"
     ]
    }
   ],
   "source": [
    "y_train_pred = model_relu.predict_classes(X_train_std, verbose=0)\n",
    "y_train_pred = [item for sublist in y_train_pred for item in sublist]\n",
    "print('First 3 bout predictions: ', y_train_pred[:3])\n",
    "\n",
    "# Training Accuracy\n",
    "correct_preds = np.sum(y_train == y_train_pred, axis=0)\n",
    "train_acc = correct_preds / y_train.shape[0]\n",
    "print('Training Accuracy: {}%'.format(round(train_acc * 100, 2)))"
   ]
  },
  {
   "cell_type": "code",
   "execution_count": 119,
   "metadata": {
    "ExecuteTime": {
     "end_time": "2019-07-23T20:42:14.826813Z",
     "start_time": "2019-07-23T20:42:14.776292Z"
    }
   },
   "outputs": [
    {
     "name": "stdout",
     "output_type": "stream",
     "text": [
      "Test Accuracy: 72.0%\n"
     ]
    }
   ],
   "source": [
    "# Testing Accuracy\n",
    "y_test_pred = model_relu.predict_classes(X_test_std, verbose=0)\n",
    "y_test_pred = [item for sublist in y_test_pred for item in sublist]\n",
    "correct_preds = np.sum(y_test == y_test_pred, axis=0)\n",
    "test_acc = correct_preds / y_test.shape[0]\n",
    "print('Test Accuracy: {}%'.format(round(test_acc * 100), 2))"
   ]
  },
  {
   "cell_type": "markdown",
   "metadata": {},
   "source": [
    "# Evaluation of Models"
   ]
  },
  {
   "cell_type": "code",
   "execution_count": 185,
   "metadata": {
    "ExecuteTime": {
     "end_time": "2019-07-27T12:01:31.283142Z",
     "start_time": "2019-07-27T12:01:31.279881Z"
    },
    "scrolled": true
   },
   "outputs": [],
   "source": [
    "# Round the Accuracy score to 4 decimal places\n",
    "models_summary.loc['Accuracy'] = list(map(lambda x: round(x,4), models_summary.loc['Accuracy']))"
   ]
  },
  {
   "cell_type": "code",
   "execution_count": 186,
   "metadata": {
    "ExecuteTime": {
     "end_time": "2019-07-27T12:01:33.028783Z",
     "start_time": "2019-07-27T12:01:33.022128Z"
    },
    "scrolled": true
   },
   "outputs": [
    {
     "data": {
      "text/html": [
       "<div>\n",
       "<style scoped>\n",
       "    .dataframe tbody tr th:only-of-type {\n",
       "        vertical-align: middle;\n",
       "    }\n",
       "\n",
       "    .dataframe tbody tr th {\n",
       "        vertical-align: top;\n",
       "    }\n",
       "\n",
       "    .dataframe thead th {\n",
       "        text-align: right;\n",
       "    }\n",
       "</style>\n",
       "<table border=\"1\" class=\"dataframe\">\n",
       "  <thead>\n",
       "    <tr style=\"text-align: right;\">\n",
       "      <th>Model</th>\n",
       "      <th>KNN</th>\n",
       "      <th>XG_Boost</th>\n",
       "      <th>Random_Forest</th>\n",
       "    </tr>\n",
       "  </thead>\n",
       "  <tbody>\n",
       "    <tr>\n",
       "      <th>Accuracy</th>\n",
       "      <td>0.6834</td>\n",
       "      <td>0.7265</td>\n",
       "      <td>0.7061</td>\n",
       "    </tr>\n",
       "  </tbody>\n",
       "</table>\n",
       "</div>"
      ],
      "text/plain": [
       "Model        KNN  XG_Boost  Random_Forest\n",
       "Accuracy  0.6834    0.7265         0.7061"
      ]
     },
     "execution_count": 186,
     "metadata": {},
     "output_type": "execute_result"
    }
   ],
   "source": [
    "models_summary"
   ]
  },
  {
   "cell_type": "markdown",
   "metadata": {},
   "source": [
    "Although there are many metrics to evaluate our models against one another, the [Occam's Razor principle](https://www.britannica.com/topic/Occams-razor) can often be applied (That is, that the simpler explanation is to be preferred).  In the case of comparing our models, we are most interested in how many fights we correctly predict, i.e. the accuracy.  There is virtually no class imbalance and the cost associated with a false positive and a false negative are identical."
   ]
  },
  {
   "cell_type": "markdown",
   "metadata": {},
   "source": [
    "# STILL TO DO\n",
    "- random forest\n",
    "- logistic regression\n",
    "- confusion matrix (p206)\n",
    "- function to plot accuracy alongside validation accuracy\n",
    "    - fix legend only showing one of the lines\n",
    "- md: sols to overfitting (p123)\n",
    "- gridsearch to tune params (p201)\n",
    "- setting weights to low values (chapter 2)\n",
    "- how to input gridsearch results into the RF?\n",
    "- PCA for KNN p154\n",
    "- Save visualizations to right folder\n",
    "- why gradient boosting\n",
    "    - also have adaboosting\n",
    "    - https://towardsdatascience.com/basic-ensemble-learning-random-forest-adaboost-gradient-boosting-step-by-step-explained-95d49d1e2725\n",
    "- gridsearch for XGboost\n",
    "- plot models_summary barchart\n",
    "- play with the 0.5 probability threshold.  \n",
    "    - plot the probabilities histogram, i.e. not the class label, but the probabilities.  If this isnt evenly distributed then might need to adjust the defaul 0.5\n",
    "        - i.e. engineer a new class column that is 1 for anything over 0.4.\n",
    "- other metrics, other than accuracy that might be helpful to evaluate\n",
    "- ROC curve\n",
    "- Function that asks for input for 2 fighters names, will then spit out the prediction\n",
    "- perhaps the output should be the concensus of all the models?\n",
    "- cross validation\n",
    "    - https://towardsdatascience.com/cross-validation-in-machine-learning-72924a69872f"
   ]
  },
  {
   "cell_type": "code",
   "execution_count": 229,
   "metadata": {
    "ExecuteTime": {
     "end_time": "2019-07-27T23:43:35.470751Z",
     "start_time": "2019-07-27T23:43:35.466795Z"
    }
   },
   "outputs": [
    {
     "ename": "SyntaxError",
     "evalue": "invalid syntax (<ipython-input-229-5887680cabd1>, line 10)",
     "output_type": "error",
     "traceback": [
      "\u001b[0;36m  File \u001b[0;32m\"<ipython-input-229-5887680cabd1>\"\u001b[0;36m, line \u001b[0;32m10\u001b[0m\n\u001b[0;31m    https://learn.co/tracks/data-science-career-v2/module-5-machine-learning-and-big-data/section-39-building-a-machine-learning-pipeline/introduction\u001b[0m\n\u001b[0m           ^\u001b[0m\n\u001b[0;31mSyntaxError\u001b[0m\u001b[0;31m:\u001b[0m invalid syntax\n"
     ]
    }
   ],
   "source": [
    "# Pipeline\n",
    "\n",
    "from sklearn.model_selection import GridSearchCV\n",
    "from sklearn.svm import SVC\n",
    "from sklearn.preprocessing import StandardScaler\n",
    "from sklearn.decomposition import PCA\n",
    "from sklearn.linear_model import LogisticRegression\n",
    "from sklearn.pipeline import make_pipeline\n",
    "\n",
    "# https://learn.co/tracks/data-science-career-v2/module-5-machine-learning-and-big-data/section-39-building-a-machine-learning-pipeline/introduction\n",
    "\n",
    "from sklearn.pipeline import Pipeline\n",
    "\n",
    "# Create the pipeline\n",
    "pipe = Pipeline([('scl', MinMaxScaler()),\n",
    "                ('pca', PCA(n_components=10)),\n",
    "                ('svm', svm.SVC(random_state=123))])\n",
    "\n",
    "# Create the grid parameter\n",
    "grid = [{'svm__kernel': ['poly', 'sigmoid'],\n",
    "         'svm__C': [0.01, 1, 100],\n",
    "         'svm__degree0': [2,3,4,5],\n",
    "         'svm__gamma': [0.001, 0.01]}]\n",
    "\n",
    "# Create the grid, with \"pipe\" as the estimator\n",
    "gridsearch = GridSearchCV(estimator=pipe,\n",
    "                  param_grid=grid,\n",
    "                  scoring='accuracy',\n",
    "                  cv=3)\n",
    "\n",
    "# Fit using grid search\n",
    "gridsearch.fit(X_train, y_train)\n"
   ]
  },
  {
   "cell_type": "code",
   "execution_count": 266,
   "metadata": {
    "ExecuteTime": {
     "end_time": "2019-07-24T19:33:06.836200Z",
     "start_time": "2019-07-24T18:17:30.553926Z"
    },
    "collapsed": true
   },
   "outputs": [
    {
     "ename": "KeyboardInterrupt",
     "evalue": "",
     "output_type": "error",
     "traceback": [
      "\u001b[0;31m---------------------------------------------------------------------------\u001b[0m",
      "\u001b[0;31mKeyboardInterrupt\u001b[0m                         Traceback (most recent call last)",
      "\u001b[0;32m<ipython-input-266-58b87c81425f>\u001b[0m in \u001b[0;36m<module>\u001b[0;34m()\u001b[0m\n\u001b[1;32m     12\u001b[0m                   \u001b[0mcv\u001b[0m\u001b[0;34m=\u001b[0m\u001b[0;36m10\u001b[0m\u001b[0;34m,\u001b[0m\u001b[0;34m\u001b[0m\u001b[0m\n\u001b[1;32m     13\u001b[0m                   n_jobs=-1)\n\u001b[0;32m---> 14\u001b[0;31m \u001b[0mgs\u001b[0m \u001b[0;34m=\u001b[0m \u001b[0mgs\u001b[0m\u001b[0;34m.\u001b[0m\u001b[0mfit\u001b[0m\u001b[0;34m(\u001b[0m\u001b[0mX_train\u001b[0m\u001b[0;34m,\u001b[0m \u001b[0my_train\u001b[0m\u001b[0;34m)\u001b[0m\u001b[0;34m\u001b[0m\u001b[0m\n\u001b[0m\u001b[1;32m     15\u001b[0m \u001b[0mprint\u001b[0m\u001b[0;34m(\u001b[0m\u001b[0mgs\u001b[0m\u001b[0;34m.\u001b[0m\u001b[0mbest_score_\u001b[0m\u001b[0;34m)\u001b[0m\u001b[0;34m\u001b[0m\u001b[0m\n\u001b[1;32m     16\u001b[0m \u001b[0mprint\u001b[0m\u001b[0;34m(\u001b[0m\u001b[0mgs\u001b[0m\u001b[0;34m.\u001b[0m\u001b[0mbest_params_\u001b[0m\u001b[0;34m)\u001b[0m\u001b[0;34m\u001b[0m\u001b[0m\n",
      "\u001b[0;32m/anaconda3/envs/ml-ufc-env/lib/python3.6/site-packages/sklearn/model_selection/_search.py\u001b[0m in \u001b[0;36mfit\u001b[0;34m(self, X, y, groups, **fit_params)\u001b[0m\n\u001b[1;32m    720\u001b[0m                 \u001b[0;32mreturn\u001b[0m \u001b[0mresults_container\u001b[0m\u001b[0;34m[\u001b[0m\u001b[0;36m0\u001b[0m\u001b[0;34m]\u001b[0m\u001b[0;34m\u001b[0m\u001b[0m\n\u001b[1;32m    721\u001b[0m \u001b[0;34m\u001b[0m\u001b[0m\n\u001b[0;32m--> 722\u001b[0;31m             \u001b[0mself\u001b[0m\u001b[0;34m.\u001b[0m\u001b[0m_run_search\u001b[0m\u001b[0;34m(\u001b[0m\u001b[0mevaluate_candidates\u001b[0m\u001b[0;34m)\u001b[0m\u001b[0;34m\u001b[0m\u001b[0m\n\u001b[0m\u001b[1;32m    723\u001b[0m \u001b[0;34m\u001b[0m\u001b[0m\n\u001b[1;32m    724\u001b[0m         \u001b[0mresults\u001b[0m \u001b[0;34m=\u001b[0m \u001b[0mresults_container\u001b[0m\u001b[0;34m[\u001b[0m\u001b[0;36m0\u001b[0m\u001b[0;34m]\u001b[0m\u001b[0;34m\u001b[0m\u001b[0m\n",
      "\u001b[0;32m/anaconda3/envs/ml-ufc-env/lib/python3.6/site-packages/sklearn/model_selection/_search.py\u001b[0m in \u001b[0;36m_run_search\u001b[0;34m(self, evaluate_candidates)\u001b[0m\n\u001b[1;32m   1189\u001b[0m     \u001b[0;32mdef\u001b[0m \u001b[0m_run_search\u001b[0m\u001b[0;34m(\u001b[0m\u001b[0mself\u001b[0m\u001b[0;34m,\u001b[0m \u001b[0mevaluate_candidates\u001b[0m\u001b[0;34m)\u001b[0m\u001b[0;34m:\u001b[0m\u001b[0;34m\u001b[0m\u001b[0m\n\u001b[1;32m   1190\u001b[0m         \u001b[0;34m\"\"\"Search all candidates in param_grid\"\"\"\u001b[0m\u001b[0;34m\u001b[0m\u001b[0m\n\u001b[0;32m-> 1191\u001b[0;31m         \u001b[0mevaluate_candidates\u001b[0m\u001b[0;34m(\u001b[0m\u001b[0mParameterGrid\u001b[0m\u001b[0;34m(\u001b[0m\u001b[0mself\u001b[0m\u001b[0;34m.\u001b[0m\u001b[0mparam_grid\u001b[0m\u001b[0;34m)\u001b[0m\u001b[0;34m)\u001b[0m\u001b[0;34m\u001b[0m\u001b[0m\n\u001b[0m\u001b[1;32m   1192\u001b[0m \u001b[0;34m\u001b[0m\u001b[0m\n\u001b[1;32m   1193\u001b[0m \u001b[0;34m\u001b[0m\u001b[0m\n",
      "\u001b[0;32m/anaconda3/envs/ml-ufc-env/lib/python3.6/site-packages/sklearn/model_selection/_search.py\u001b[0m in \u001b[0;36mevaluate_candidates\u001b[0;34m(candidate_params)\u001b[0m\n\u001b[1;32m    709\u001b[0m                                \u001b[0;32mfor\u001b[0m \u001b[0mparameters\u001b[0m\u001b[0;34m,\u001b[0m \u001b[0;34m(\u001b[0m\u001b[0mtrain\u001b[0m\u001b[0;34m,\u001b[0m \u001b[0mtest\u001b[0m\u001b[0;34m)\u001b[0m\u001b[0;34m\u001b[0m\u001b[0m\n\u001b[1;32m    710\u001b[0m                                in product(candidate_params,\n\u001b[0;32m--> 711\u001b[0;31m                                           cv.split(X, y, groups)))\n\u001b[0m\u001b[1;32m    712\u001b[0m \u001b[0;34m\u001b[0m\u001b[0m\n\u001b[1;32m    713\u001b[0m                 \u001b[0mall_candidate_params\u001b[0m\u001b[0;34m.\u001b[0m\u001b[0mextend\u001b[0m\u001b[0;34m(\u001b[0m\u001b[0mcandidate_params\u001b[0m\u001b[0;34m)\u001b[0m\u001b[0;34m\u001b[0m\u001b[0m\n",
      "\u001b[0;32m/anaconda3/envs/ml-ufc-env/lib/python3.6/site-packages/sklearn/externals/joblib/parallel.py\u001b[0m in \u001b[0;36m__call__\u001b[0;34m(self, iterable)\u001b[0m\n\u001b[1;32m    928\u001b[0m \u001b[0;34m\u001b[0m\u001b[0m\n\u001b[1;32m    929\u001b[0m             \u001b[0;32mwith\u001b[0m \u001b[0mself\u001b[0m\u001b[0;34m.\u001b[0m\u001b[0m_backend\u001b[0m\u001b[0;34m.\u001b[0m\u001b[0mretrieval_context\u001b[0m\u001b[0;34m(\u001b[0m\u001b[0;34m)\u001b[0m\u001b[0;34m:\u001b[0m\u001b[0;34m\u001b[0m\u001b[0m\n\u001b[0;32m--> 930\u001b[0;31m                 \u001b[0mself\u001b[0m\u001b[0;34m.\u001b[0m\u001b[0mretrieve\u001b[0m\u001b[0;34m(\u001b[0m\u001b[0;34m)\u001b[0m\u001b[0;34m\u001b[0m\u001b[0m\n\u001b[0m\u001b[1;32m    931\u001b[0m             \u001b[0;31m# Make sure that we get a last message telling us we are done\u001b[0m\u001b[0;34m\u001b[0m\u001b[0;34m\u001b[0m\u001b[0m\n\u001b[1;32m    932\u001b[0m             \u001b[0melapsed_time\u001b[0m \u001b[0;34m=\u001b[0m \u001b[0mtime\u001b[0m\u001b[0;34m.\u001b[0m\u001b[0mtime\u001b[0m\u001b[0;34m(\u001b[0m\u001b[0;34m)\u001b[0m \u001b[0;34m-\u001b[0m \u001b[0mself\u001b[0m\u001b[0;34m.\u001b[0m\u001b[0m_start_time\u001b[0m\u001b[0;34m\u001b[0m\u001b[0m\n",
      "\u001b[0;32m/anaconda3/envs/ml-ufc-env/lib/python3.6/site-packages/sklearn/externals/joblib/parallel.py\u001b[0m in \u001b[0;36mretrieve\u001b[0;34m(self)\u001b[0m\n\u001b[1;32m    831\u001b[0m             \u001b[0;32mtry\u001b[0m\u001b[0;34m:\u001b[0m\u001b[0;34m\u001b[0m\u001b[0m\n\u001b[1;32m    832\u001b[0m                 \u001b[0;32mif\u001b[0m \u001b[0mgetattr\u001b[0m\u001b[0;34m(\u001b[0m\u001b[0mself\u001b[0m\u001b[0;34m.\u001b[0m\u001b[0m_backend\u001b[0m\u001b[0;34m,\u001b[0m \u001b[0;34m'supports_timeout'\u001b[0m\u001b[0;34m,\u001b[0m \u001b[0;32mFalse\u001b[0m\u001b[0;34m)\u001b[0m\u001b[0;34m:\u001b[0m\u001b[0;34m\u001b[0m\u001b[0m\n\u001b[0;32m--> 833\u001b[0;31m                     \u001b[0mself\u001b[0m\u001b[0;34m.\u001b[0m\u001b[0m_output\u001b[0m\u001b[0;34m.\u001b[0m\u001b[0mextend\u001b[0m\u001b[0;34m(\u001b[0m\u001b[0mjob\u001b[0m\u001b[0;34m.\u001b[0m\u001b[0mget\u001b[0m\u001b[0;34m(\u001b[0m\u001b[0mtimeout\u001b[0m\u001b[0;34m=\u001b[0m\u001b[0mself\u001b[0m\u001b[0;34m.\u001b[0m\u001b[0mtimeout\u001b[0m\u001b[0;34m)\u001b[0m\u001b[0;34m)\u001b[0m\u001b[0;34m\u001b[0m\u001b[0m\n\u001b[0m\u001b[1;32m    834\u001b[0m                 \u001b[0;32melse\u001b[0m\u001b[0;34m:\u001b[0m\u001b[0;34m\u001b[0m\u001b[0m\n\u001b[1;32m    835\u001b[0m                     \u001b[0mself\u001b[0m\u001b[0;34m.\u001b[0m\u001b[0m_output\u001b[0m\u001b[0;34m.\u001b[0m\u001b[0mextend\u001b[0m\u001b[0;34m(\u001b[0m\u001b[0mjob\u001b[0m\u001b[0;34m.\u001b[0m\u001b[0mget\u001b[0m\u001b[0;34m(\u001b[0m\u001b[0;34m)\u001b[0m\u001b[0;34m)\u001b[0m\u001b[0;34m\u001b[0m\u001b[0m\n",
      "\u001b[0;32m/anaconda3/envs/ml-ufc-env/lib/python3.6/site-packages/sklearn/externals/joblib/_parallel_backends.py\u001b[0m in \u001b[0;36mwrap_future_result\u001b[0;34m(future, timeout)\u001b[0m\n\u001b[1;32m    519\u001b[0m         AsyncResults.get from multiprocessing.\"\"\"\n\u001b[1;32m    520\u001b[0m         \u001b[0;32mtry\u001b[0m\u001b[0;34m:\u001b[0m\u001b[0;34m\u001b[0m\u001b[0m\n\u001b[0;32m--> 521\u001b[0;31m             \u001b[0;32mreturn\u001b[0m \u001b[0mfuture\u001b[0m\u001b[0;34m.\u001b[0m\u001b[0mresult\u001b[0m\u001b[0;34m(\u001b[0m\u001b[0mtimeout\u001b[0m\u001b[0;34m=\u001b[0m\u001b[0mtimeout\u001b[0m\u001b[0;34m)\u001b[0m\u001b[0;34m\u001b[0m\u001b[0m\n\u001b[0m\u001b[1;32m    522\u001b[0m         \u001b[0;32mexcept\u001b[0m \u001b[0mLokyTimeoutError\u001b[0m\u001b[0;34m:\u001b[0m\u001b[0;34m\u001b[0m\u001b[0m\n\u001b[1;32m    523\u001b[0m             \u001b[0;32mraise\u001b[0m \u001b[0mTimeoutError\u001b[0m\u001b[0;34m(\u001b[0m\u001b[0;34m)\u001b[0m\u001b[0;34m\u001b[0m\u001b[0m\n",
      "\u001b[0;32m/anaconda3/envs/ml-ufc-env/lib/python3.6/concurrent/futures/_base.py\u001b[0m in \u001b[0;36mresult\u001b[0;34m(self, timeout)\u001b[0m\n\u001b[1;32m    425\u001b[0m                 \u001b[0;32mreturn\u001b[0m \u001b[0mself\u001b[0m\u001b[0;34m.\u001b[0m\u001b[0m__get_result\u001b[0m\u001b[0;34m(\u001b[0m\u001b[0;34m)\u001b[0m\u001b[0;34m\u001b[0m\u001b[0m\n\u001b[1;32m    426\u001b[0m \u001b[0;34m\u001b[0m\u001b[0m\n\u001b[0;32m--> 427\u001b[0;31m             \u001b[0mself\u001b[0m\u001b[0;34m.\u001b[0m\u001b[0m_condition\u001b[0m\u001b[0;34m.\u001b[0m\u001b[0mwait\u001b[0m\u001b[0;34m(\u001b[0m\u001b[0mtimeout\u001b[0m\u001b[0;34m)\u001b[0m\u001b[0;34m\u001b[0m\u001b[0m\n\u001b[0m\u001b[1;32m    428\u001b[0m \u001b[0;34m\u001b[0m\u001b[0m\n\u001b[1;32m    429\u001b[0m             \u001b[0;32mif\u001b[0m \u001b[0mself\u001b[0m\u001b[0;34m.\u001b[0m\u001b[0m_state\u001b[0m \u001b[0;32min\u001b[0m \u001b[0;34m[\u001b[0m\u001b[0mCANCELLED\u001b[0m\u001b[0;34m,\u001b[0m \u001b[0mCANCELLED_AND_NOTIFIED\u001b[0m\u001b[0;34m]\u001b[0m\u001b[0;34m:\u001b[0m\u001b[0;34m\u001b[0m\u001b[0m\n",
      "\u001b[0;32m/anaconda3/envs/ml-ufc-env/lib/python3.6/threading.py\u001b[0m in \u001b[0;36mwait\u001b[0;34m(self, timeout)\u001b[0m\n\u001b[1;32m    293\u001b[0m         \u001b[0;32mtry\u001b[0m\u001b[0;34m:\u001b[0m    \u001b[0;31m# restore state no matter what (e.g., KeyboardInterrupt)\u001b[0m\u001b[0;34m\u001b[0m\u001b[0m\n\u001b[1;32m    294\u001b[0m             \u001b[0;32mif\u001b[0m \u001b[0mtimeout\u001b[0m \u001b[0;32mis\u001b[0m \u001b[0;32mNone\u001b[0m\u001b[0;34m:\u001b[0m\u001b[0;34m\u001b[0m\u001b[0m\n\u001b[0;32m--> 295\u001b[0;31m                 \u001b[0mwaiter\u001b[0m\u001b[0;34m.\u001b[0m\u001b[0macquire\u001b[0m\u001b[0;34m(\u001b[0m\u001b[0;34m)\u001b[0m\u001b[0;34m\u001b[0m\u001b[0m\n\u001b[0m\u001b[1;32m    296\u001b[0m                 \u001b[0mgotit\u001b[0m \u001b[0;34m=\u001b[0m \u001b[0;32mTrue\u001b[0m\u001b[0;34m\u001b[0m\u001b[0m\n\u001b[1;32m    297\u001b[0m             \u001b[0;32melse\u001b[0m\u001b[0;34m:\u001b[0m\u001b[0;34m\u001b[0m\u001b[0m\n",
      "\u001b[0;31mKeyboardInterrupt\u001b[0m: "
     ]
    }
   ],
   "source": [
    "# pipe_svc = make_pipeline(StandardScaler(),\n",
    "#                          SVC(random_state=1))\n",
    "\n",
    "# param_range = [0.0001, 0.001, 0.01, 0.1, 1.0, 10.0, 100.0, 1000.0]\n",
    "\n",
    "# param_grid = [{'svc__C': param_range, 'svc__kernel': ['linear']},\n",
    "#               {'svc__C': param_range, 'svc__gamma': param_range, 'svc__kernel': ['rbf']}]\n",
    "\n",
    "# gs = GridSearchCV(estimator=pipe_svc, \n",
    "#                   param_grid=param_grid, \n",
    "#                   scoring='accuracy', \n",
    "#                   cv=10,\n",
    "#                   n_jobs=-1)\n",
    "# gs = gs.fit(X_train, y_train)\n",
    "# print(gs.best_score_)\n",
    "# print(gs.best_params_)"
   ]
  },
  {
   "cell_type": "markdown",
   "metadata": {},
   "source": [
    "Fine tuning our model via GridSearch\n",
    "- We can use grid search to tune our model's hyperparameters.  \n",
    "    - e.g. Here we change the depth parameter of a decision tree and later we will change the regularization parameter in logistic regression \n",
    "- Gridsearch will improve the performance of the model by finding the optimal ciombination of hyperparameter values\n",
    "- Gridsearch works by a brute-force exhaustive search.  We specify a list of possible values for different hyperparameters, and the computer will evaluate the model's optimal combination of hyperparameters.\n",
    "- We use a Support Vector Machine (SVM) pipeline.  \n",
    "- param_grid is a dictionary of the parameters that we'd want to tune.  \n",
    "- RF as a feature selection p136\n",
    "    - interim step before pipeline\n",
    "- DT and RF write up p88-101\n",
    "    - what features are important to tune and why p99"
   ]
  },
  {
   "cell_type": "markdown",
   "metadata": {},
   "source": [
    "Tensorflow\n",
    "- Most popular machine learning library (owned by google)\n",
    "- Learning weights\n",
    "    - Defines how fast we want to update our weights\n",
    "        - too big = model skips optimal solution\n",
    "        - too small = takes too long to converge on best results\n",
    "        - 0.01 is a known decent rate\n",
    "- called tensor flow because its takes in a tensor (multi dimensional array) and outputs a tensor\n"
   ]
  },
  {
   "cell_type": "markdown",
   "metadata": {},
   "source": [
    "## ROC Curve"
   ]
  },
  {
   "cell_type": "markdown",
   "metadata": {},
   "source": [
    "Receiver Operating Characteristic (ROC) graphs help us to compare our different models, based on their False Positive Rate (FPR) and their True Positive Rate (TPR).  \n",
    "- A perfect model would have TPR = 1 and FPR = 0.  i.e. the curve would be in the top left of the graph.\n",
    "- The diagonal line on the ROC graph is a random guessing model.  Any model with an ROC curve below this line is effectively worse than just randomly guessing the target class.\n",
    "- We can calculate the performance of a model by the area under the curve (AUC).  0.5 is the AUC of random guessing, and 1 is the AUC of a perfect model."
   ]
  },
  {
   "cell_type": "code",
   "execution_count": 156,
   "metadata": {
    "ExecuteTime": {
     "end_time": "2019-07-26T20:22:37.275951Z",
     "start_time": "2019-07-26T20:22:37.168367Z"
    }
   },
   "outputs": [],
   "source": [
    "model_rf_test_acc = model_rf.score(X_test, y_test)"
   ]
  },
  {
   "cell_type": "code",
   "execution_count": 157,
   "metadata": {
    "ExecuteTime": {
     "end_time": "2019-07-26T20:22:51.337595Z",
     "start_time": "2019-07-26T20:22:51.334145Z"
    }
   },
   "outputs": [
    {
     "data": {
      "text/plain": [
       "0.7060539752005836"
      ]
     },
     "execution_count": 157,
     "metadata": {},
     "output_type": "execute_result"
    }
   ],
   "source": [
    "model_rf_test_acc"
   ]
  },
  {
   "cell_type": "code",
   "execution_count": 158,
   "metadata": {
    "ExecuteTime": {
     "end_time": "2019-07-26T20:23:05.524647Z",
     "start_time": "2019-07-26T20:23:05.519218Z"
    }
   },
   "outputs": [
    {
     "data": {
      "text/plain": [
       "array([0. , 0. , 0.5, 0.5, 1. ])"
      ]
     },
     "execution_count": 158,
     "metadata": {},
     "output_type": "execute_result"
    }
   ],
   "source": [
    "y = np.array([1, 1, 2, 2])\n",
    "scores = np.array([0.1, 0.4, 0.35, 0.8])\n",
    "fpr, tpr, thresholds = metrics.roc_curve(y, scores, pos_label=2)\n",
    "fpr"
   ]
  },
  {
   "cell_type": "code",
   "execution_count": 154,
   "metadata": {
    "ExecuteTime": {
     "end_time": "2019-07-26T20:19:34.272579Z",
     "start_time": "2019-07-26T20:19:34.236197Z"
    }
   },
   "outputs": [
    {
     "name": "stderr",
     "output_type": "stream",
     "text": [
      "/anaconda3/envs/ml-ufc-env/lib/python3.6/site-packages/pandas/core/series.py:842: FutureWarning: \n",
      "Passing list-likes to .loc or [] with any missing label will raise\n",
      "KeyError in the future, you can use .reindex() as an alternative.\n",
      "\n",
      "See the documentation here:\n",
      "https://pandas.pydata.org/pandas-docs/stable/indexing.html#deprecate-loc-reindex-listlike\n",
      "  return self.loc[key]\n",
      "/anaconda3/envs/ml-ufc-env/lib/python3.6/site-packages/sklearn/linear_model/logistic.py:433: FutureWarning: Default solver will be changed to 'lbfgs' in 0.22. Specify a solver to silence this warning.\n",
      "  FutureWarning)\n"
     ]
    },
    {
     "ename": "ValueError",
     "evalue": "Input contains NaN, infinity or a value too large for dtype('float64').",
     "output_type": "error",
     "traceback": [
      "\u001b[0;31m---------------------------------------------------------------------------\u001b[0m",
      "\u001b[0;31mValueError\u001b[0m                                Traceback (most recent call last)",
      "\u001b[0;32m<ipython-input-154-1025de3d434d>\u001b[0m in \u001b[0;36m<module>\u001b[0;34m()\u001b[0m\n\u001b[1;32m     27\u001b[0m \u001b[0;32mfor\u001b[0m \u001b[0mi\u001b[0m\u001b[0;34m,\u001b[0m \u001b[0;34m(\u001b[0m\u001b[0mtrain\u001b[0m\u001b[0;34m,\u001b[0m \u001b[0mtest\u001b[0m\u001b[0;34m)\u001b[0m \u001b[0;32min\u001b[0m \u001b[0menumerate\u001b[0m\u001b[0;34m(\u001b[0m\u001b[0mcv\u001b[0m\u001b[0;34m)\u001b[0m\u001b[0;34m:\u001b[0m\u001b[0;34m\u001b[0m\u001b[0m\n\u001b[1;32m     28\u001b[0m     probas = pipe_lr.fit(X_train2[train],\n\u001b[0;32m---> 29\u001b[0;31m                          y_train[train]).predict_proba(X_train2[test])\n\u001b[0m\u001b[1;32m     30\u001b[0m \u001b[0;34m\u001b[0m\u001b[0m\n\u001b[1;32m     31\u001b[0m     fpr, tpr, thresholds = roc_curve(y_train[test],\n",
      "\u001b[0;32m/anaconda3/envs/ml-ufc-env/lib/python3.6/site-packages/sklearn/pipeline.py\u001b[0m in \u001b[0;36mfit\u001b[0;34m(self, X, y, **fit_params)\u001b[0m\n\u001b[1;32m    265\u001b[0m         \u001b[0mXt\u001b[0m\u001b[0;34m,\u001b[0m \u001b[0mfit_params\u001b[0m \u001b[0;34m=\u001b[0m \u001b[0mself\u001b[0m\u001b[0;34m.\u001b[0m\u001b[0m_fit\u001b[0m\u001b[0;34m(\u001b[0m\u001b[0mX\u001b[0m\u001b[0;34m,\u001b[0m \u001b[0my\u001b[0m\u001b[0;34m,\u001b[0m \u001b[0;34m**\u001b[0m\u001b[0mfit_params\u001b[0m\u001b[0;34m)\u001b[0m\u001b[0;34m\u001b[0m\u001b[0m\n\u001b[1;32m    266\u001b[0m         \u001b[0;32mif\u001b[0m \u001b[0mself\u001b[0m\u001b[0;34m.\u001b[0m\u001b[0m_final_estimator\u001b[0m \u001b[0;32mis\u001b[0m \u001b[0;32mnot\u001b[0m \u001b[0;32mNone\u001b[0m\u001b[0;34m:\u001b[0m\u001b[0;34m\u001b[0m\u001b[0m\n\u001b[0;32m--> 267\u001b[0;31m             \u001b[0mself\u001b[0m\u001b[0;34m.\u001b[0m\u001b[0m_final_estimator\u001b[0m\u001b[0;34m.\u001b[0m\u001b[0mfit\u001b[0m\u001b[0;34m(\u001b[0m\u001b[0mXt\u001b[0m\u001b[0;34m,\u001b[0m \u001b[0my\u001b[0m\u001b[0;34m,\u001b[0m \u001b[0;34m**\u001b[0m\u001b[0mfit_params\u001b[0m\u001b[0;34m)\u001b[0m\u001b[0;34m\u001b[0m\u001b[0m\n\u001b[0m\u001b[1;32m    268\u001b[0m         \u001b[0;32mreturn\u001b[0m \u001b[0mself\u001b[0m\u001b[0;34m\u001b[0m\u001b[0m\n\u001b[1;32m    269\u001b[0m \u001b[0;34m\u001b[0m\u001b[0m\n",
      "\u001b[0;32m/anaconda3/envs/ml-ufc-env/lib/python3.6/site-packages/sklearn/linear_model/logistic.py\u001b[0m in \u001b[0;36mfit\u001b[0;34m(self, X, y, sample_weight)\u001b[0m\n\u001b[1;32m   1286\u001b[0m \u001b[0;34m\u001b[0m\u001b[0m\n\u001b[1;32m   1287\u001b[0m         X, y = check_X_y(X, y, accept_sparse='csr', dtype=_dtype, order=\"C\",\n\u001b[0;32m-> 1288\u001b[0;31m                          accept_large_sparse=solver != 'liblinear')\n\u001b[0m\u001b[1;32m   1289\u001b[0m         \u001b[0mcheck_classification_targets\u001b[0m\u001b[0;34m(\u001b[0m\u001b[0my\u001b[0m\u001b[0;34m)\u001b[0m\u001b[0;34m\u001b[0m\u001b[0m\n\u001b[1;32m   1290\u001b[0m         \u001b[0mself\u001b[0m\u001b[0;34m.\u001b[0m\u001b[0mclasses_\u001b[0m \u001b[0;34m=\u001b[0m \u001b[0mnp\u001b[0m\u001b[0;34m.\u001b[0m\u001b[0munique\u001b[0m\u001b[0;34m(\u001b[0m\u001b[0my\u001b[0m\u001b[0;34m)\u001b[0m\u001b[0;34m\u001b[0m\u001b[0m\n",
      "\u001b[0;32m/anaconda3/envs/ml-ufc-env/lib/python3.6/site-packages/sklearn/utils/validation.py\u001b[0m in \u001b[0;36mcheck_X_y\u001b[0;34m(X, y, accept_sparse, accept_large_sparse, dtype, order, copy, force_all_finite, ensure_2d, allow_nd, multi_output, ensure_min_samples, ensure_min_features, y_numeric, warn_on_dtype, estimator)\u001b[0m\n\u001b[1;32m    760\u001b[0m     \u001b[0;32melse\u001b[0m\u001b[0;34m:\u001b[0m\u001b[0;34m\u001b[0m\u001b[0m\n\u001b[1;32m    761\u001b[0m         \u001b[0my\u001b[0m \u001b[0;34m=\u001b[0m \u001b[0mcolumn_or_1d\u001b[0m\u001b[0;34m(\u001b[0m\u001b[0my\u001b[0m\u001b[0;34m,\u001b[0m \u001b[0mwarn\u001b[0m\u001b[0;34m=\u001b[0m\u001b[0;32mTrue\u001b[0m\u001b[0;34m)\u001b[0m\u001b[0;34m\u001b[0m\u001b[0m\n\u001b[0;32m--> 762\u001b[0;31m         \u001b[0m_assert_all_finite\u001b[0m\u001b[0;34m(\u001b[0m\u001b[0my\u001b[0m\u001b[0;34m)\u001b[0m\u001b[0;34m\u001b[0m\u001b[0m\n\u001b[0m\u001b[1;32m    763\u001b[0m     \u001b[0;32mif\u001b[0m \u001b[0my_numeric\u001b[0m \u001b[0;32mand\u001b[0m \u001b[0my\u001b[0m\u001b[0;34m.\u001b[0m\u001b[0mdtype\u001b[0m\u001b[0;34m.\u001b[0m\u001b[0mkind\u001b[0m \u001b[0;34m==\u001b[0m \u001b[0;34m'O'\u001b[0m\u001b[0;34m:\u001b[0m\u001b[0;34m\u001b[0m\u001b[0m\n\u001b[1;32m    764\u001b[0m         \u001b[0my\u001b[0m \u001b[0;34m=\u001b[0m \u001b[0my\u001b[0m\u001b[0;34m.\u001b[0m\u001b[0mastype\u001b[0m\u001b[0;34m(\u001b[0m\u001b[0mnp\u001b[0m\u001b[0;34m.\u001b[0m\u001b[0mfloat64\u001b[0m\u001b[0;34m)\u001b[0m\u001b[0;34m\u001b[0m\u001b[0m\n",
      "\u001b[0;32m/anaconda3/envs/ml-ufc-env/lib/python3.6/site-packages/sklearn/utils/validation.py\u001b[0m in \u001b[0;36m_assert_all_finite\u001b[0;34m(X, allow_nan)\u001b[0m\n\u001b[1;32m     54\u001b[0m                 not allow_nan and not np.isfinite(X).all()):\n\u001b[1;32m     55\u001b[0m             \u001b[0mtype_err\u001b[0m \u001b[0;34m=\u001b[0m \u001b[0;34m'infinity'\u001b[0m \u001b[0;32mif\u001b[0m \u001b[0mallow_nan\u001b[0m \u001b[0;32melse\u001b[0m \u001b[0;34m'NaN, infinity'\u001b[0m\u001b[0;34m\u001b[0m\u001b[0m\n\u001b[0;32m---> 56\u001b[0;31m             \u001b[0;32mraise\u001b[0m \u001b[0mValueError\u001b[0m\u001b[0;34m(\u001b[0m\u001b[0mmsg_err\u001b[0m\u001b[0;34m.\u001b[0m\u001b[0mformat\u001b[0m\u001b[0;34m(\u001b[0m\u001b[0mtype_err\u001b[0m\u001b[0;34m,\u001b[0m \u001b[0mX\u001b[0m\u001b[0;34m.\u001b[0m\u001b[0mdtype\u001b[0m\u001b[0;34m)\u001b[0m\u001b[0;34m)\u001b[0m\u001b[0;34m\u001b[0m\u001b[0m\n\u001b[0m\u001b[1;32m     57\u001b[0m \u001b[0;34m\u001b[0m\u001b[0m\n\u001b[1;32m     58\u001b[0m \u001b[0;34m\u001b[0m\u001b[0m\n",
      "\u001b[0;31mValueError\u001b[0m: Input contains NaN, infinity or a value too large for dtype('float64')."
     ]
    },
    {
     "data": {
      "text/plain": [
       "<Figure size 504x360 with 0 Axes>"
      ]
     },
     "metadata": {},
     "output_type": "display_data"
    }
   ],
   "source": [
    "from sklearn.metrics import roc_curve, auc\n",
    "from scipy import interp\n",
    "from sklearn.preprocessing import StandardScaler\n",
    "from sklearn.decomposition import PCA\n",
    "from sklearn.linear_model import LogisticRegression\n",
    "from sklearn.pipeline import make_pipeline\n",
    "from sklearn.model_selection import StratifiedKFold\n",
    "\n",
    "pipe_lr = make_pipeline(StandardScaler(),\n",
    "                        PCA(n_components=2),\n",
    "                        LogisticRegression(penalty='l2',\n",
    "                                           random_state=1,\n",
    "                                           C=100.0))\n",
    "\n",
    "X_train2 = X_train_std.copy()\n",
    "\n",
    "\n",
    "cv = list(StratifiedKFold(n_splits=3,\n",
    "                          random_state=1).split(X_train_std, y_train))\n",
    "\n",
    "fig = plt.figure(figsize=(7, 5))\n",
    "\n",
    "mean_tpr = 0.0\n",
    "mean_fpr = np.linspace(0, 1, 100)\n",
    "all_tpr = []\n",
    "\n",
    "for i, (train, test) in enumerate(cv):\n",
    "    probas = pipe_lr.fit(X_train2[train],\n",
    "                         y_train[train]).predict_proba(X_train2[test])\n",
    "\n",
    "    fpr, tpr, thresholds = roc_curve(y_train[test],\n",
    "                                     probas[:, 1],\n",
    "                                     pos_label=1)\n",
    "    mean_tpr += interp(mean_fpr, fpr, tpr)\n",
    "    mean_tpr[0] = 0.0\n",
    "    roc_auc = auc(fpr, tpr)\n",
    "    plt.plot(fpr,\n",
    "             tpr,\n",
    "             label='ROC fold %d (area = %0.2f)'\n",
    "                   % (i+1, roc_auc))\n",
    "\n",
    "plt.plot([0, 1],\n",
    "         [0, 1],\n",
    "         linestyle='--',\n",
    "         color=(0.6, 0.6, 0.6),\n",
    "         label='random guessing')\n",
    "\n",
    "mean_tpr /= len(cv)\n",
    "mean_tpr[-1] = 1.0\n",
    "mean_auc = auc(mean_fpr, mean_tpr)\n",
    "plt.plot(mean_fpr, mean_tpr, 'k--',\n",
    "         label='mean ROC (area = %0.2f)' % mean_auc, lw=2)\n",
    "plt.plot([0, 0, 1],\n",
    "         [0, 1, 1],\n",
    "         linestyle=':',\n",
    "         color='black',\n",
    "         label='perfect performance')\n",
    "\n",
    "plt.xlim([-0.05, 1.05])\n",
    "plt.ylim([-0.05, 1.05])\n",
    "plt.xlabel('false positive rate')\n",
    "plt.ylabel('true positive rate')\n",
    "plt.legend(loc=\"lower right\")\n",
    "\n",
    "plt.tight_layout()\n",
    "# plt.savefig('images/06_10.png', dpi=300)\n",
    "plt.show()\n"
   ]
  },
  {
   "cell_type": "code",
   "execution_count": null,
   "metadata": {},
   "outputs": [],
   "source": []
  }
 ],
 "metadata": {
  "kernelspec": {
   "display_name": "Python 3",
   "language": "python",
   "name": "python3"
  },
  "toc": {
   "base_numbering": 1,
   "nav_menu": {},
   "number_sections": true,
   "sideBar": true,
   "skip_h1_title": false,
   "title_cell": "Table of Contents",
   "title_sidebar": "Contents",
   "toc_cell": false,
   "toc_position": {},
   "toc_section_display": true,
   "toc_window_display": false
  },
  "varInspector": {
   "cols": {
    "lenName": 16,
    "lenType": 16,
    "lenVar": 40
   },
   "kernels_config": {
    "python": {
     "delete_cmd_postfix": "",
     "delete_cmd_prefix": "del ",
     "library": "var_list.py",
     "varRefreshCmd": "print(var_dic_list())"
    },
    "r": {
     "delete_cmd_postfix": ") ",
     "delete_cmd_prefix": "rm(",
     "library": "var_list.r",
     "varRefreshCmd": "cat(var_dic_list()) "
    }
   },
   "types_to_exclude": [
    "module",
    "function",
    "builtin_function_or_method",
    "instance",
    "_Feature"
   ],
   "window_display": false
  }
 },
 "nbformat": 4,
 "nbformat_minor": 2
}
