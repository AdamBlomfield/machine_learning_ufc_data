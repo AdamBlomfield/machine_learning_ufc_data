{
 "cells": [
  {
   "cell_type": "markdown",
   "metadata": {},
   "source": [
    "# Import Libraries"
   ]
  },
  {
   "cell_type": "code",
   "execution_count": 881,
   "metadata": {
    "ExecuteTime": {
     "end_time": "2019-07-21T01:03:52.561773Z",
     "start_time": "2019-07-21T01:03:52.559074Z"
    }
   },
   "outputs": [],
   "source": [
    "import pandas as pd\n",
    "import warnings\n",
    "warnings.filterwarnings('ignore')\n",
    "\n",
    "import datetime"
   ]
  },
  {
   "cell_type": "markdown",
   "metadata": {
    "heading_collapsed": true
   },
   "source": [
    "# Create Sample DataFrames"
   ]
  },
  {
   "cell_type": "markdown",
   "metadata": {
    "hidden": true
   },
   "source": [
    "## Fighter DF"
   ]
  },
  {
   "cell_type": "code",
   "execution_count": 37,
   "metadata": {
    "ExecuteTime": {
     "end_time": "2019-07-17T17:36:57.864318Z",
     "start_time": "2019-07-17T17:36:57.854552Z"
    },
    "hidden": true,
    "scrolled": true
   },
   "outputs": [
    {
     "data": {
      "text/html": [
       "<div>\n",
       "<style scoped>\n",
       "    .dataframe tbody tr th:only-of-type {\n",
       "        vertical-align: middle;\n",
       "    }\n",
       "\n",
       "    .dataframe tbody tr th {\n",
       "        vertical-align: top;\n",
       "    }\n",
       "\n",
       "    .dataframe thead th {\n",
       "        text-align: right;\n",
       "    }\n",
       "</style>\n",
       "<table border=\"1\" class=\"dataframe\">\n",
       "  <thead>\n",
       "    <tr style=\"text-align: right;\">\n",
       "      <th></th>\n",
       "      <th>Name</th>\n",
       "      <th>Ages</th>\n",
       "      <th>D.O.B.</th>\n",
       "      <th>Hometown</th>\n",
       "      <th>Accuracy</th>\n",
       "    </tr>\n",
       "  </thead>\n",
       "  <tbody>\n",
       "    <tr>\n",
       "      <th>0</th>\n",
       "      <td>Brian Ortega</td>\n",
       "      <td>26</td>\n",
       "      <td>06-1990</td>\n",
       "      <td>USA</td>\n",
       "      <td>0.87</td>\n",
       "    </tr>\n",
       "    <tr>\n",
       "      <th>1</th>\n",
       "      <td>Jon Jones</td>\n",
       "      <td>32</td>\n",
       "      <td>03-1985</td>\n",
       "      <td>USA</td>\n",
       "      <td>0.67</td>\n",
       "    </tr>\n",
       "    <tr>\n",
       "      <th>2</th>\n",
       "      <td>Connor McGregor</td>\n",
       "      <td>30</td>\n",
       "      <td>09-1992</td>\n",
       "      <td>Ireland</td>\n",
       "      <td>0.23</td>\n",
       "    </tr>\n",
       "  </tbody>\n",
       "</table>\n",
       "</div>"
      ],
      "text/plain": [
       "              Name Ages   D.O.B. Hometown  Accuracy\n",
       "0     Brian Ortega   26  06-1990      USA      0.87\n",
       "1        Jon Jones   32  03-1985      USA      0.67\n",
       "2  Connor McGregor   30  09-1992  Ireland      0.23"
      ]
     },
     "execution_count": 37,
     "metadata": {},
     "output_type": "execute_result"
    }
   ],
   "source": [
    "names = ['Brian Ortega', 'Jon Jones', 'Connor McGregor']\n",
    "ages  = ['26','32','30']\n",
    "dobs  = ['06-1990','03-1985','09-1992'] \n",
    "homes = ['USA','USA','Ireland']\n",
    "accuracies = [0.87,0.67,0.23]\n",
    "\n",
    "fighter_df = pd.DataFrame({'Name': names, 'Ages': ages, 'D.O.B.': dobs,'Hometown': homes, 'Accuracy': accuracies})\n",
    "fighter_df"
   ]
  },
  {
   "cell_type": "code",
   "execution_count": 38,
   "metadata": {
    "ExecuteTime": {
     "end_time": "2019-07-17T17:36:58.126482Z",
     "start_time": "2019-07-17T17:36:58.121593Z"
    },
    "hidden": true
   },
   "outputs": [],
   "source": [
    "fighter_df['D.O.B.'] = pd.to_datetime(fighter_df['D.O.B.'], format='%m-%Y')"
   ]
  },
  {
   "cell_type": "markdown",
   "metadata": {
    "hidden": true
   },
   "source": [
    "## Fight DF"
   ]
  },
  {
   "cell_type": "code",
   "execution_count": 39,
   "metadata": {
    "ExecuteTime": {
     "end_time": "2019-07-17T17:36:58.918677Z",
     "start_time": "2019-07-17T17:36:58.908400Z"
    },
    "hidden": true,
    "scrolled": true
   },
   "outputs": [
    {
     "data": {
      "text/html": [
       "<div>\n",
       "<style scoped>\n",
       "    .dataframe tbody tr th:only-of-type {\n",
       "        vertical-align: middle;\n",
       "    }\n",
       "\n",
       "    .dataframe tbody tr th {\n",
       "        vertical-align: top;\n",
       "    }\n",
       "\n",
       "    .dataframe thead th {\n",
       "        text-align: right;\n",
       "    }\n",
       "</style>\n",
       "<table border=\"1\" class=\"dataframe\">\n",
       "  <thead>\n",
       "    <tr style=\"text-align: right;\">\n",
       "      <th></th>\n",
       "      <th>Fight_ID</th>\n",
       "      <th>Date</th>\n",
       "      <th>Fighter_1</th>\n",
       "      <th>Fighter_2</th>\n",
       "      <th>Winner</th>\n",
       "    </tr>\n",
       "  </thead>\n",
       "  <tbody>\n",
       "    <tr>\n",
       "      <th>0</th>\n",
       "      <td>435</td>\n",
       "      <td>06-2017</td>\n",
       "      <td>Brian Ortega</td>\n",
       "      <td>Connor McGregor</td>\n",
       "      <td>1</td>\n",
       "    </tr>\n",
       "    <tr>\n",
       "      <th>1</th>\n",
       "      <td>654</td>\n",
       "      <td>08-2017</td>\n",
       "      <td>Brian Ortega</td>\n",
       "      <td>Jon Jones</td>\n",
       "      <td>1</td>\n",
       "    </tr>\n",
       "    <tr>\n",
       "      <th>2</th>\n",
       "      <td>796</td>\n",
       "      <td>03-2019</td>\n",
       "      <td>Connor McGregor</td>\n",
       "      <td>Jon Jones</td>\n",
       "      <td>2</td>\n",
       "    </tr>\n",
       "  </tbody>\n",
       "</table>\n",
       "</div>"
      ],
      "text/plain": [
       "   Fight_ID     Date        Fighter_1        Fighter_2  Winner\n",
       "0       435  06-2017     Brian Ortega  Connor McGregor       1\n",
       "1       654  08-2017     Brian Ortega        Jon Jones       1\n",
       "2       796  03-2019  Connor McGregor        Jon Jones       2"
      ]
     },
     "execution_count": 39,
     "metadata": {},
     "output_type": "execute_result"
    }
   ],
   "source": [
    "fight_ids = [435,654,796]\n",
    "dates     = ['06-2017','08-2017','03-2019']\n",
    "fighter_1 = ['Brian Ortega', 'Brian Ortega', 'Connor McGregor']\n",
    "fighter_2 = ['Connor McGregor', 'Jon Jones', 'Jon Jones']\n",
    "winners   = [1,1,2]\n",
    "\n",
    "fight_df = pd.DataFrame({'Fight_ID': fight_ids, 'Date': dates, 'Fighter_1': fighter_1, 'Fighter_2': fighter_2, 'Winner': winners})\n",
    "fight_df"
   ]
  },
  {
   "cell_type": "markdown",
   "metadata": {
    "hidden": true
   },
   "source": [
    "### Add age of each fighter based on date"
   ]
  },
  {
   "cell_type": "code",
   "execution_count": 40,
   "metadata": {
    "ExecuteTime": {
     "end_time": "2019-07-17T17:37:01.221172Z",
     "start_time": "2019-07-17T17:37:01.217935Z"
    },
    "hidden": true
   },
   "outputs": [],
   "source": [
    "# Change Date to datetime\n",
    "fight_df['Date'] = pd.to_datetime(fight_df['Date'], format='%m-%Y')"
   ]
  },
  {
   "cell_type": "code",
   "execution_count": 41,
   "metadata": {
    "ExecuteTime": {
     "end_time": "2019-07-17T17:37:01.226246Z",
     "start_time": "2019-07-17T17:37:01.223067Z"
    },
    "hidden": true
   },
   "outputs": [],
   "source": [
    "# Calculate the age based on date of fight and fighter's dob\n",
    "fight_df['Fighter_1_Age'] = fight_df['Date'] - fighter_df['D.O.B.']"
   ]
  },
  {
   "cell_type": "markdown",
   "metadata": {
    "hidden": true
   },
   "source": [
    "## Merged DF"
   ]
  },
  {
   "cell_type": "code",
   "execution_count": null,
   "metadata": {
    "hidden": true
   },
   "outputs": [],
   "source": []
  },
  {
   "cell_type": "markdown",
   "metadata": {},
   "source": [
    "# Fighter Class"
   ]
  },
  {
   "cell_type": "code",
   "execution_count": 85,
   "metadata": {
    "ExecuteTime": {
     "end_time": "2019-07-18T15:53:38.033326Z",
     "start_time": "2019-07-18T15:53:38.030602Z"
    }
   },
   "outputs": [],
   "source": [
    "import datetime\n",
    "from datetime import timedelta"
   ]
  },
  {
   "cell_type": "code",
   "execution_count": 90,
   "metadata": {
    "ExecuteTime": {
     "end_time": "2019-07-18T15:54:53.823986Z",
     "start_time": "2019-07-18T15:54:53.819659Z"
    }
   },
   "outputs": [
    {
     "data": {
      "text/plain": [
       "29"
      ]
     },
     "execution_count": 90,
     "metadata": {},
     "output_type": "execute_result"
    }
   ],
   "source": [
    "today = datetime.date.today()\n",
    "\n",
    "date_of_birth = datetime.date(1989, 11, 15)\n",
    "age = int(((today-date_of_birth).days)/365)\n",
    "age"
   ]
  },
  {
   "cell_type": "code",
   "execution_count": 45,
   "metadata": {
    "ExecuteTime": {
     "end_time": "2019-07-18T15:39:47.567769Z",
     "start_time": "2019-07-18T15:39:47.565254Z"
    }
   },
   "outputs": [],
   "source": [
    "dob = 19900506"
   ]
  },
  {
   "cell_type": "code",
   "execution_count": 111,
   "metadata": {
    "ExecuteTime": {
     "end_time": "2019-07-18T16:55:48.673569Z",
     "start_time": "2019-07-18T16:55:48.670468Z"
    }
   },
   "outputs": [],
   "source": [
    "\n",
    "s = \"20120213\"\n",
    "# you could also import date instead of datetime and use that.\n",
    "date_formatted = datetime.datetime(year=int(s[0:4]), month=int(s[4:6]), day=int(s[6:8])).strftime(\"%Y-%m-%d\")"
   ]
  },
  {
   "cell_type": "code",
   "execution_count": 112,
   "metadata": {
    "ExecuteTime": {
     "end_time": "2019-07-18T16:55:53.375611Z",
     "start_time": "2019-07-18T16:55:53.372168Z"
    }
   },
   "outputs": [
    {
     "data": {
      "text/plain": [
       "'2012-02-13'"
      ]
     },
     "execution_count": 112,
     "metadata": {},
     "output_type": "execute_result"
    }
   ],
   "source": [
    "date_formatted"
   ]
  },
  {
   "cell_type": "code",
   "execution_count": 125,
   "metadata": {
    "ExecuteTime": {
     "end_time": "2019-07-18T17:12:32.148150Z",
     "start_time": "2019-07-18T17:12:32.145577Z"
    },
    "scrolled": true
   },
   "outputs": [],
   "source": [
    "today = datetime.date.today"
   ]
  },
  {
   "cell_type": "code",
   "execution_count": 119,
   "metadata": {
    "ExecuteTime": {
     "end_time": "2019-07-18T16:56:15.819884Z",
     "start_time": "2019-07-18T16:56:15.817895Z"
    }
   },
   "outputs": [],
   "source": [
    "today = datetime.date.today()"
   ]
  },
  {
   "cell_type": "code",
   "execution_count": 120,
   "metadata": {
    "ExecuteTime": {
     "end_time": "2019-07-18T16:56:16.167263Z",
     "start_time": "2019-07-18T16:56:16.163757Z"
    }
   },
   "outputs": [
    {
     "data": {
      "text/plain": [
       "datetime.date(2019, 7, 18)"
      ]
     },
     "execution_count": 120,
     "metadata": {},
     "output_type": "execute_result"
    }
   ],
   "source": [
    "today"
   ]
  },
  {
   "cell_type": "code",
   "execution_count": 126,
   "metadata": {
    "ExecuteTime": {
     "end_time": "2019-07-18T17:12:45.509082Z",
     "start_time": "2019-07-18T17:12:45.501709Z"
    }
   },
   "outputs": [
    {
     "ename": "TypeError",
     "evalue": "unsupported operand type(s) for -: 'datetime.date' and 'datetime.datetime'",
     "output_type": "error",
     "traceback": [
      "\u001b[0;31m---------------------------------------------------------------------------\u001b[0m",
      "\u001b[0;31mTypeError\u001b[0m                                 Traceback (most recent call last)",
      "\u001b[0;32m<ipython-input-126-242e2d8e7d8e>\u001b[0m in \u001b[0;36m<module>\u001b[0;34m()\u001b[0m\n\u001b[1;32m      6\u001b[0m \u001b[0;31m# dd = int(self.dob[6:8])\u001b[0m\u001b[0;34m\u001b[0m\u001b[0;34m\u001b[0m\u001b[0m\n\u001b[1;32m      7\u001b[0m \u001b[0;31m# dob = datetime.date(yyyy, mm, dd)\u001b[0m\u001b[0;34m\u001b[0m\u001b[0;34m\u001b[0m\u001b[0m\n\u001b[0;32m----> 8\u001b[0;31m \u001b[0mage_days\u001b[0m \u001b[0;34m=\u001b[0m \u001b[0;34m(\u001b[0m\u001b[0mtoday\u001b[0m\u001b[0;34m-\u001b[0m\u001b[0mdob\u001b[0m\u001b[0;34m)\u001b[0m\u001b[0;34m.\u001b[0m\u001b[0mdays\u001b[0m\u001b[0;34m\u001b[0m\u001b[0m\n\u001b[0m\u001b[1;32m      9\u001b[0m \u001b[0mage_years\u001b[0m \u001b[0;34m=\u001b[0m \u001b[0mage_days\u001b[0m \u001b[0;34m/\u001b[0m \u001b[0;36m365\u001b[0m\u001b[0;34m\u001b[0m\u001b[0m\n",
      "\u001b[0;31mTypeError\u001b[0m: unsupported operand type(s) for -: 'datetime.date' and 'datetime.datetime'"
     ]
    }
   ],
   "source": [
    "today = datetime.date.today()\n",
    "dob = datetime.datetime(year=int(s[0:4]), month=int(s[4:6]), day=int(s[6:8]))\n",
    "\n",
    "# yyyy = int(self.dob[0:4])\n",
    "# mm = int(self.dob[4:6])\n",
    "# dd = int(self.dob[6:8])\n",
    "# dob = datetime.date(yyyy, mm, dd)\n",
    "age_days = (today-dob).days\n",
    "age_years = age_days / 365"
   ]
  },
  {
   "cell_type": "code",
   "execution_count": 131,
   "metadata": {
    "ExecuteTime": {
     "end_time": "2019-07-18T17:18:39.904592Z",
     "start_time": "2019-07-18T17:18:39.894218Z"
    }
   },
   "outputs": [
    {
     "ename": "TypeError",
     "evalue": "'datetime.date' object is not subscriptable",
     "output_type": "error",
     "traceback": [
      "\u001b[0;31m---------------------------------------------------------------------------\u001b[0m",
      "\u001b[0;31mTypeError\u001b[0m                                 Traceback (most recent call last)",
      "\u001b[0;32m<ipython-input-131-d7a83a8a2750>\u001b[0m in \u001b[0;36m<module>\u001b[0;34m()\u001b[0m\n\u001b[1;32m      8\u001b[0m \u001b[0;34m\u001b[0m\u001b[0m\n\u001b[1;32m      9\u001b[0m \u001b[0;31m# Driver code\u001b[0m\u001b[0;34m\u001b[0m\u001b[0;34m\u001b[0m\u001b[0m\n\u001b[0;32m---> 10\u001b[0;31m \u001b[0mprint\u001b[0m\u001b[0;34m(\u001b[0m\u001b[0mcalculateAge\u001b[0m\u001b[0;34m(\u001b[0m\u001b[0mdate\u001b[0m\u001b[0;34m(\u001b[0m\u001b[0;36m1997\u001b[0m\u001b[0;34m,\u001b[0m \u001b[0;36m2\u001b[0m\u001b[0;34m,\u001b[0m \u001b[0;36m3\u001b[0m\u001b[0;34m)\u001b[0m\u001b[0;34m)\u001b[0m\u001b[0;34m,\u001b[0m \u001b[0;34m\"years\"\u001b[0m\u001b[0;34m)\u001b[0m\u001b[0;34m\u001b[0m\u001b[0m\n\u001b[0m",
      "\u001b[0;32m<ipython-input-131-d7a83a8a2750>\u001b[0m in \u001b[0;36mcalculateAge\u001b[0;34m(birthDate)\u001b[0m\n\u001b[1;32m      3\u001b[0m \u001b[0;32mdef\u001b[0m \u001b[0mcalculateAge\u001b[0m\u001b[0;34m(\u001b[0m\u001b[0mbirthDate\u001b[0m\u001b[0;34m)\u001b[0m\u001b[0;34m:\u001b[0m\u001b[0;34m\u001b[0m\u001b[0m\n\u001b[1;32m      4\u001b[0m     \u001b[0mtoday\u001b[0m \u001b[0;34m=\u001b[0m \u001b[0mdate\u001b[0m\u001b[0;34m.\u001b[0m\u001b[0mtoday\u001b[0m\u001b[0;34m(\u001b[0m\u001b[0;34m)\u001b[0m\u001b[0;34m\u001b[0m\u001b[0m\n\u001b[0;32m----> 5\u001b[0;31m     \u001b[0mdateOfBirth\u001b[0m \u001b[0;34m=\u001b[0m \u001b[0mdatetime\u001b[0m\u001b[0;34m.\u001b[0m\u001b[0mdate\u001b[0m\u001b[0;34m(\u001b[0m\u001b[0myear\u001b[0m\u001b[0;34m=\u001b[0m\u001b[0mint\u001b[0m\u001b[0;34m(\u001b[0m\u001b[0mbirthDate\u001b[0m\u001b[0;34m[\u001b[0m\u001b[0;36m0\u001b[0m\u001b[0;34m:\u001b[0m\u001b[0;36m4\u001b[0m\u001b[0;34m]\u001b[0m\u001b[0;34m)\u001b[0m\u001b[0;34m,\u001b[0m \u001b[0mmonth\u001b[0m\u001b[0;34m=\u001b[0m\u001b[0mint\u001b[0m\u001b[0;34m(\u001b[0m\u001b[0mbirthDate\u001b[0m\u001b[0;34m[\u001b[0m\u001b[0;36m4\u001b[0m\u001b[0;34m:\u001b[0m\u001b[0;36m6\u001b[0m\u001b[0;34m]\u001b[0m\u001b[0;34m)\u001b[0m\u001b[0;34m,\u001b[0m \u001b[0mday\u001b[0m\u001b[0;34m=\u001b[0m\u001b[0mint\u001b[0m\u001b[0;34m(\u001b[0m\u001b[0mbirthDate\u001b[0m\u001b[0;34m[\u001b[0m\u001b[0;36m6\u001b[0m\u001b[0;34m:\u001b[0m\u001b[0;36m8\u001b[0m\u001b[0;34m]\u001b[0m\u001b[0;34m)\u001b[0m\u001b[0;34m)\u001b[0m\u001b[0;34m\u001b[0m\u001b[0m\n\u001b[0m\u001b[1;32m      6\u001b[0m     \u001b[0mage\u001b[0m \u001b[0;34m=\u001b[0m \u001b[0mtoday\u001b[0m\u001b[0;34m.\u001b[0m\u001b[0myear\u001b[0m \u001b[0;34m-\u001b[0m \u001b[0mdateOfBirth\u001b[0m\u001b[0;34m.\u001b[0m\u001b[0myear\u001b[0m \u001b[0;34m-\u001b[0m \u001b[0;34m(\u001b[0m\u001b[0;34m(\u001b[0m\u001b[0mtoday\u001b[0m\u001b[0;34m.\u001b[0m\u001b[0mmonth\u001b[0m\u001b[0;34m,\u001b[0m \u001b[0mtoday\u001b[0m\u001b[0;34m.\u001b[0m\u001b[0mday\u001b[0m\u001b[0;34m)\u001b[0m \u001b[0;34m<\u001b[0m \u001b[0;34m(\u001b[0m\u001b[0mdateOfBirth\u001b[0m\u001b[0;34m.\u001b[0m\u001b[0mmonth\u001b[0m\u001b[0;34m,\u001b[0m \u001b[0mdateOfBirth\u001b[0m\u001b[0;34m.\u001b[0m\u001b[0mday\u001b[0m\u001b[0;34m)\u001b[0m\u001b[0;34m)\u001b[0m\u001b[0;34m\u001b[0m\u001b[0m\n\u001b[1;32m      7\u001b[0m     \u001b[0;32mreturn\u001b[0m \u001b[0mage\u001b[0m\u001b[0;34m\u001b[0m\u001b[0m\n",
      "\u001b[0;31mTypeError\u001b[0m: 'datetime.date' object is not subscriptable"
     ]
    }
   ],
   "source": [
    "from datetime import date \n",
    "  \n",
    "def calculateAge(birthDate): \n",
    "    today = date.today() \n",
    "    dateOfBirth = datetime.date(year=int(birthDate[0:4]), month=int(birthDate[4:6]), day=int(birthDate[6:8]))\n",
    "    age = today.year - dateOfBirth.year - ((today.month, today.day) < (dateOfBirth.month, dateOfBirth.day))   \n",
    "    return age \n",
    "      \n",
    "# Driver code  \n",
    "print(calculateAge(date(1997, 2, 3)), \"years\")"
   ]
  },
  {
   "cell_type": "code",
   "execution_count": 37,
   "metadata": {
    "ExecuteTime": {
     "end_time": "2019-07-18T15:38:10.471962Z",
     "start_time": "2019-07-18T15:38:10.465952Z"
    }
   },
   "outputs": [],
   "source": [
    "class Fighter():\n",
    "    \"\"\"A fighter within the UFC.  Keeps track of attrributes such as name, hometown and age, \n",
    "    as well as methods for updating statistics from each fight\"\"\"\n",
    "    \n",
    "    def __init__(self, name, date_of_birth, height, home_town):\n",
    "        \"\"\"name: (str) first name and last name\n",
    "           date_of_birth: (yyyymmdd)\n",
    "           height: (in centimeters)\n",
    "           home_town: The figher's birthplace\"\"\"\n",
    "        self.name = name\n",
    "        self.first_name = name.split(\" \")[0]\n",
    "        self.last_name = name.split(\" \")[-1]\n",
    "        self.dob = date_of_birth\n",
    "        self.height = height        \n",
    "        self.home = home_town.split(\" \")[-1]  # We are only interested in the country of birth\n",
    "        \n",
    "        # Age\n",
    "        self.age = None\n",
    "        \n",
    "        # Performance Statistics\n",
    "        self.previous = None\n",
    "        self.streak = None\n",
    "        \n",
    "        # Fight Statistics\n",
    "        self.strikes_avg     = None\n",
    "        self.sig_strikes_avg = None\n",
    "        self.strikes_acc     = None\n",
    "        self.sig_strikes_acc = None\n",
    "        self.dom_pos_avg     = None\n",
    "    \n",
    "    def age(self):\n",
    "        '''Returns the age of the fighter in years'''\n",
    "        today = datetime.date.today()\n",
    "        dob = datetime(year=int(s[0:4]), month=int(s[4:6]), day=int(s[6:8]))\n",
    "        \n",
    "        yyyy = int(self.dob[0:4])\n",
    "        mm = int(self.dob[4:6])\n",
    "        dd = int(self.dob[6:8])\n",
    "        dob = datetime.date(yyyy, mm, dd)\n",
    "        age_days = (today-dob).days\n",
    "        age_years = age_days / 365\n",
    "        \n",
    "        return int(age_years)\n",
    "    \n",
    "    def fight(self):\n",
    "        \"\"\"Updates the fighter's statistics with the latest fight\"\"\""
   ]
  },
  {
   "cell_type": "code",
   "execution_count": 38,
   "metadata": {
    "ExecuteTime": {
     "end_time": "2019-07-18T15:38:11.613726Z",
     "start_time": "2019-07-18T15:38:11.610131Z"
    },
    "scrolled": true
   },
   "outputs": [
    {
     "name": "stdout",
     "output_type": "stream",
     "text": [
      "Help on class Fighter in module __main__:\n",
      "\n",
      "class Fighter(builtins.object)\n",
      " |  A fighter within the UFC.  Keeps track of attrributes such as name, hometown and age, \n",
      " |  as well as methods for updating statistics from each fight\n",
      " |  \n",
      " |  Methods defined here:\n",
      " |  \n",
      " |  __init__(self, name, date_of_birth, height, home_town)\n",
      " |      name: (str) first name and last name\n",
      " |      date_of_birth: (yyyymmdd)\n",
      " |      height: (in centimeters)\n",
      " |      home_town: The figher's birthplace\n",
      " |  \n",
      " |  age(self)\n",
      " |      Returns the age of the fighter in years\n",
      " |  \n",
      " |  fight(self)\n",
      " |      Updates the fighter's statistics with the latest fight\n",
      " |  \n",
      " |  ----------------------------------------------------------------------\n",
      " |  Data descriptors defined here:\n",
      " |  \n",
      " |  __dict__\n",
      " |      dictionary for instance variables (if defined)\n",
      " |  \n",
      " |  __weakref__\n",
      " |      list of weak references to the object (if defined)\n",
      "\n"
     ]
    }
   ],
   "source": [
    "help(Fighter)"
   ]
  },
  {
   "cell_type": "code",
   "execution_count": 40,
   "metadata": {
    "ExecuteTime": {
     "end_time": "2019-07-18T15:38:56.050880Z",
     "start_time": "2019-07-18T15:38:56.048625Z"
    }
   },
   "outputs": [],
   "source": [
    "fighter_jon_jones = Fighter('Jon Jones', '19900503', 195, 'Phoenix Arizona USA')"
   ]
  },
  {
   "cell_type": "code",
   "execution_count": 42,
   "metadata": {
    "ExecuteTime": {
     "end_time": "2019-07-18T15:39:04.336275Z",
     "start_time": "2019-07-18T15:39:04.332363Z"
    }
   },
   "outputs": [
    {
     "data": {
      "text/plain": [
       "'Jones'"
      ]
     },
     "execution_count": 42,
     "metadata": {},
     "output_type": "execute_result"
    }
   ],
   "source": [
    "fighter_jon_jones.last_name"
   ]
  },
  {
   "cell_type": "code",
   "execution_count": 44,
   "metadata": {
    "ExecuteTime": {
     "end_time": "2019-07-18T15:39:16.604326Z",
     "start_time": "2019-07-18T15:39:16.600646Z"
    }
   },
   "outputs": [
    {
     "data": {
      "text/plain": [
       "'19900503'"
      ]
     },
     "execution_count": 44,
     "metadata": {},
     "output_type": "execute_result"
    }
   ],
   "source": [
    "fighter_jon_jones.dob"
   ]
  },
  {
   "cell_type": "code",
   "execution_count": null,
   "metadata": {},
   "outputs": [],
   "source": [
    "class Fight():\n",
    "    ''''''\n",
    "    \n",
    "    def __init__(fighter1, fighter2, date):\n",
    "        '''fighter1 = Name of the first fighter\n",
    "           figthter2 = Name of the second fighter\n",
    "           date = Date that the figtht took place'''\n",
    "        self.f1 = fighter1\n",
    "        self.f2 = fighter2\n",
    "        self.date = date"
   ]
  },
  {
   "cell_type": "code",
   "execution_count": 6,
   "metadata": {
    "ExecuteTime": {
     "end_time": "2019-07-17T16:58:13.216506Z",
     "start_time": "2019-07-17T16:58:13.213035Z"
    }
   },
   "outputs": [
    {
     "name": "stdout",
     "output_type": "stream",
     "text": [
      "John Jones\n",
      "32\n",
      "Hello my name is John Jones\n"
     ]
    }
   ],
   "source": [
    "f1 = Fighter(\"John Jones\", 32)\n",
    "\n",
    "print(f1.name)\n",
    "print(f1.age)\n",
    "f1.myfunc()"
   ]
  },
  {
   "cell_type": "markdown",
   "metadata": {
    "heading_collapsed": true
   },
   "source": [
    "# Fight Class"
   ]
  },
  {
   "cell_type": "code",
   "execution_count": null,
   "metadata": {
    "hidden": true
   },
   "outputs": [],
   "source": []
  },
  {
   "cell_type": "markdown",
   "metadata": {
    "heading_collapsed": true
   },
   "source": [
    "# New column for last word of HomeTown or Location"
   ]
  },
  {
   "cell_type": "code",
   "execution_count": 42,
   "metadata": {
    "ExecuteTime": {
     "end_time": "2019-07-17T17:37:05.292618Z",
     "start_time": "2019-07-17T17:37:05.283788Z"
    },
    "hidden": true
   },
   "outputs": [
    {
     "data": {
      "text/html": [
       "<div>\n",
       "<style scoped>\n",
       "    .dataframe tbody tr th:only-of-type {\n",
       "        vertical-align: middle;\n",
       "    }\n",
       "\n",
       "    .dataframe tbody tr th {\n",
       "        vertical-align: top;\n",
       "    }\n",
       "\n",
       "    .dataframe thead th {\n",
       "        text-align: right;\n",
       "    }\n",
       "</style>\n",
       "<table border=\"1\" class=\"dataframe\">\n",
       "  <thead>\n",
       "    <tr style=\"text-align: right;\">\n",
       "      <th></th>\n",
       "      <th>Fight_ID</th>\n",
       "      <th>Date</th>\n",
       "      <th>Fighter_1</th>\n",
       "      <th>Fighter_2</th>\n",
       "      <th>Winner</th>\n",
       "      <th>Fighter_1_Age</th>\n",
       "    </tr>\n",
       "  </thead>\n",
       "  <tbody>\n",
       "    <tr>\n",
       "      <th>0</th>\n",
       "      <td>435</td>\n",
       "      <td>2017-06-01</td>\n",
       "      <td>Brian Ortega</td>\n",
       "      <td>Connor McGregor</td>\n",
       "      <td>1</td>\n",
       "      <td>9862 days</td>\n",
       "    </tr>\n",
       "    <tr>\n",
       "      <th>1</th>\n",
       "      <td>654</td>\n",
       "      <td>2017-08-01</td>\n",
       "      <td>Brian Ortega</td>\n",
       "      <td>Jon Jones</td>\n",
       "      <td>1</td>\n",
       "      <td>11841 days</td>\n",
       "    </tr>\n",
       "    <tr>\n",
       "      <th>2</th>\n",
       "      <td>796</td>\n",
       "      <td>2019-03-01</td>\n",
       "      <td>Connor McGregor</td>\n",
       "      <td>Jon Jones</td>\n",
       "      <td>2</td>\n",
       "      <td>9677 days</td>\n",
       "    </tr>\n",
       "  </tbody>\n",
       "</table>\n",
       "</div>"
      ],
      "text/plain": [
       "   Fight_ID       Date        Fighter_1        Fighter_2  Winner Fighter_1_Age\n",
       "0       435 2017-06-01     Brian Ortega  Connor McGregor       1     9862 days\n",
       "1       654 2017-08-01     Brian Ortega        Jon Jones       1    11841 days\n",
       "2       796 2019-03-01  Connor McGregor        Jon Jones       2     9677 days"
      ]
     },
     "execution_count": 42,
     "metadata": {},
     "output_type": "execute_result"
    }
   ],
   "source": [
    "fight_df"
   ]
  },
  {
   "cell_type": "code",
   "execution_count": 43,
   "metadata": {
    "ExecuteTime": {
     "end_time": "2019-07-17T17:37:11.460513Z",
     "start_time": "2019-07-17T17:37:11.452010Z"
    },
    "hidden": true
   },
   "outputs": [
    {
     "data": {
      "text/html": [
       "<div>\n",
       "<style scoped>\n",
       "    .dataframe tbody tr th:only-of-type {\n",
       "        vertical-align: middle;\n",
       "    }\n",
       "\n",
       "    .dataframe tbody tr th {\n",
       "        vertical-align: top;\n",
       "    }\n",
       "\n",
       "    .dataframe thead th {\n",
       "        text-align: right;\n",
       "    }\n",
       "</style>\n",
       "<table border=\"1\" class=\"dataframe\">\n",
       "  <thead>\n",
       "    <tr style=\"text-align: right;\">\n",
       "      <th></th>\n",
       "      <th>Name</th>\n",
       "      <th>Ages</th>\n",
       "      <th>D.O.B.</th>\n",
       "      <th>Hometown</th>\n",
       "      <th>Accuracy</th>\n",
       "    </tr>\n",
       "  </thead>\n",
       "  <tbody>\n",
       "    <tr>\n",
       "      <th>0</th>\n",
       "      <td>Brian Ortega</td>\n",
       "      <td>26</td>\n",
       "      <td>1990-06-01</td>\n",
       "      <td>USA</td>\n",
       "      <td>0.87</td>\n",
       "    </tr>\n",
       "    <tr>\n",
       "      <th>1</th>\n",
       "      <td>Jon Jones</td>\n",
       "      <td>32</td>\n",
       "      <td>1985-03-01</td>\n",
       "      <td>USA</td>\n",
       "      <td>0.67</td>\n",
       "    </tr>\n",
       "    <tr>\n",
       "      <th>2</th>\n",
       "      <td>Connor McGregor</td>\n",
       "      <td>30</td>\n",
       "      <td>1992-09-01</td>\n",
       "      <td>Ireland</td>\n",
       "      <td>0.23</td>\n",
       "    </tr>\n",
       "  </tbody>\n",
       "</table>\n",
       "</div>"
      ],
      "text/plain": [
       "              Name Ages     D.O.B. Hometown  Accuracy\n",
       "0     Brian Ortega   26 1990-06-01      USA      0.87\n",
       "1        Jon Jones   32 1985-03-01      USA      0.67\n",
       "2  Connor McGregor   30 1992-09-01  Ireland      0.23"
      ]
     },
     "execution_count": 43,
     "metadata": {},
     "output_type": "execute_result"
    }
   ],
   "source": [
    "fighter_df"
   ]
  },
  {
   "cell_type": "code",
   "execution_count": 46,
   "metadata": {
    "ExecuteTime": {
     "end_time": "2019-07-17T17:38:42.910720Z",
     "start_time": "2019-07-17T17:38:42.907267Z"
    },
    "hidden": true
   },
   "outputs": [],
   "source": [
    "fighter_df['Surname'] = fighter_df['Name'].apply(lambda x: x.split()[-1])"
   ]
  },
  {
   "cell_type": "code",
   "execution_count": 47,
   "metadata": {
    "ExecuteTime": {
     "end_time": "2019-07-17T17:38:48.720148Z",
     "start_time": "2019-07-17T17:38:48.711739Z"
    },
    "hidden": true
   },
   "outputs": [
    {
     "data": {
      "text/html": [
       "<div>\n",
       "<style scoped>\n",
       "    .dataframe tbody tr th:only-of-type {\n",
       "        vertical-align: middle;\n",
       "    }\n",
       "\n",
       "    .dataframe tbody tr th {\n",
       "        vertical-align: top;\n",
       "    }\n",
       "\n",
       "    .dataframe thead th {\n",
       "        text-align: right;\n",
       "    }\n",
       "</style>\n",
       "<table border=\"1\" class=\"dataframe\">\n",
       "  <thead>\n",
       "    <tr style=\"text-align: right;\">\n",
       "      <th></th>\n",
       "      <th>Name</th>\n",
       "      <th>Ages</th>\n",
       "      <th>D.O.B.</th>\n",
       "      <th>Hometown</th>\n",
       "      <th>Accuracy</th>\n",
       "      <th>Surname</th>\n",
       "    </tr>\n",
       "  </thead>\n",
       "  <tbody>\n",
       "    <tr>\n",
       "      <th>0</th>\n",
       "      <td>Brian Ortega</td>\n",
       "      <td>26</td>\n",
       "      <td>1990-06-01</td>\n",
       "      <td>USA</td>\n",
       "      <td>0.87</td>\n",
       "      <td>Ortega</td>\n",
       "    </tr>\n",
       "    <tr>\n",
       "      <th>1</th>\n",
       "      <td>Jon Jones</td>\n",
       "      <td>32</td>\n",
       "      <td>1985-03-01</td>\n",
       "      <td>USA</td>\n",
       "      <td>0.67</td>\n",
       "      <td>Jones</td>\n",
       "    </tr>\n",
       "    <tr>\n",
       "      <th>2</th>\n",
       "      <td>Connor McGregor</td>\n",
       "      <td>30</td>\n",
       "      <td>1992-09-01</td>\n",
       "      <td>Ireland</td>\n",
       "      <td>0.23</td>\n",
       "      <td>McGregor</td>\n",
       "    </tr>\n",
       "  </tbody>\n",
       "</table>\n",
       "</div>"
      ],
      "text/plain": [
       "              Name Ages     D.O.B. Hometown  Accuracy   Surname\n",
       "0     Brian Ortega   26 1990-06-01      USA      0.87    Ortega\n",
       "1        Jon Jones   32 1985-03-01      USA      0.67     Jones\n",
       "2  Connor McGregor   30 1992-09-01  Ireland      0.23  McGregor"
      ]
     },
     "execution_count": 47,
     "metadata": {},
     "output_type": "execute_result"
    }
   ],
   "source": [
    "fighter_df"
   ]
  },
  {
   "cell_type": "code",
   "execution_count": 50,
   "metadata": {
    "ExecuteTime": {
     "end_time": "2019-07-17T17:41:13.286448Z",
     "start_time": "2019-07-17T17:41:13.281845Z"
    },
    "hidden": true
   },
   "outputs": [],
   "source": [
    "fighter_df.drop('Surname', axis=1, inplace=True)"
   ]
  },
  {
   "cell_type": "code",
   "execution_count": 51,
   "metadata": {
    "ExecuteTime": {
     "end_time": "2019-07-17T17:41:13.921564Z",
     "start_time": "2019-07-17T17:41:13.913887Z"
    },
    "hidden": true
   },
   "outputs": [
    {
     "data": {
      "text/html": [
       "<div>\n",
       "<style scoped>\n",
       "    .dataframe tbody tr th:only-of-type {\n",
       "        vertical-align: middle;\n",
       "    }\n",
       "\n",
       "    .dataframe tbody tr th {\n",
       "        vertical-align: top;\n",
       "    }\n",
       "\n",
       "    .dataframe thead th {\n",
       "        text-align: right;\n",
       "    }\n",
       "</style>\n",
       "<table border=\"1\" class=\"dataframe\">\n",
       "  <thead>\n",
       "    <tr style=\"text-align: right;\">\n",
       "      <th></th>\n",
       "      <th>Name</th>\n",
       "      <th>Ages</th>\n",
       "      <th>D.O.B.</th>\n",
       "      <th>Hometown</th>\n",
       "      <th>Accuracy</th>\n",
       "    </tr>\n",
       "  </thead>\n",
       "  <tbody>\n",
       "    <tr>\n",
       "      <th>0</th>\n",
       "      <td>Brian Ortega</td>\n",
       "      <td>26</td>\n",
       "      <td>1990-06-01</td>\n",
       "      <td>USA</td>\n",
       "      <td>0.87</td>\n",
       "    </tr>\n",
       "    <tr>\n",
       "      <th>1</th>\n",
       "      <td>Jon Jones</td>\n",
       "      <td>32</td>\n",
       "      <td>1985-03-01</td>\n",
       "      <td>USA</td>\n",
       "      <td>0.67</td>\n",
       "    </tr>\n",
       "    <tr>\n",
       "      <th>2</th>\n",
       "      <td>Connor McGregor</td>\n",
       "      <td>30</td>\n",
       "      <td>1992-09-01</td>\n",
       "      <td>Ireland</td>\n",
       "      <td>0.23</td>\n",
       "    </tr>\n",
       "  </tbody>\n",
       "</table>\n",
       "</div>"
      ],
      "text/plain": [
       "              Name Ages     D.O.B. Hometown  Accuracy\n",
       "0     Brian Ortega   26 1990-06-01      USA      0.87\n",
       "1        Jon Jones   32 1985-03-01      USA      0.67\n",
       "2  Connor McGregor   30 1992-09-01  Ireland      0.23"
      ]
     },
     "execution_count": 51,
     "metadata": {},
     "output_type": "execute_result"
    }
   ],
   "source": [
    "fighter_df"
   ]
  },
  {
   "cell_type": "code",
   "execution_count": null,
   "metadata": {
    "hidden": true
   },
   "outputs": [],
   "source": []
  },
  {
   "cell_type": "markdown",
   "metadata": {},
   "source": [
    "# Practice with classes\n",
    "\n",
    "https://www.youtube.com/watch?v=ZDa-Z5JzLYM&list=PL-osiE80TeTsqhIuOqKhwlXsIBIdSeYtc"
   ]
  },
  {
   "cell_type": "code",
   "execution_count": 161,
   "metadata": {
    "ExecuteTime": {
     "end_time": "2019-07-20T02:15:32.091188Z",
     "start_time": "2019-07-20T02:15:32.087422Z"
    }
   },
   "outputs": [
    {
     "data": {
      "text/plain": [
       "datetime.date(2019, 7, 19)"
      ]
     },
     "execution_count": 161,
     "metadata": {},
     "output_type": "execute_result"
    }
   ],
   "source": [
    "import datetime\n",
    "today = datetime.date.today()\n",
    "date_of_birth = datetime.date(1989, 11, 15)\n",
    "age = ((today-date_of_birth).days)//365\n",
    "age"
   ]
  },
  {
   "cell_type": "code",
   "execution_count": 229,
   "metadata": {
    "ExecuteTime": {
     "end_time": "2019-07-20T02:38:34.943293Z",
     "start_time": "2019-07-20T02:38:34.938018Z"
    }
   },
   "outputs": [],
   "source": [
    "class Fighter:\n",
    "    \n",
    "    today = datetime.date.today()\n",
    "    \n",
    "    def __init__(self, first, last, dob, fights, wins):\n",
    "        \"\"\"first: fighter's first name\n",
    "           last: fighter's last name\n",
    "           dob: format (int) yyyymmdd\"\"\"\n",
    "        self.first = first\n",
    "        self.last = last\n",
    "        yyyy = int(str(dob)[:4])\n",
    "        mm = int(str(dob)[4:6])\n",
    "        dd = int(str(dob)[6:8])\n",
    "        self.dob = datetime.date(yyyy, mm, dd)\n",
    "        self.age = (self.today - self.dob).days//365\n",
    "        self.fights = fights\n",
    "        self.wins = wins\n",
    "        self.win_pct = wins / fights\n",
    "\n",
    "    def fullname(self):\n",
    "        \"\"\"Returns the full name of the fighter\"\"\"\n",
    "        return '{} {}'.format(self.first, self.last)\n",
    "    \n",
    "    def update_age(self, date):\n",
    "        \"\"\"Sets the age of the fighter to the age they would be at a given date \"\"\"\n",
    "        yyyy = int(str(date)[:4])\n",
    "        mm = int(str(date)[4:6])\n",
    "        dd = int(str(date)[6:8])\n",
    "        fight_date = datetime.date(yyyy, mm, dd)\n",
    "        self.age = (fight_date - self.dob).days//365"
   ]
  },
  {
   "cell_type": "code",
   "execution_count": 243,
   "metadata": {
    "ExecuteTime": {
     "end_time": "2019-07-20T19:45:51.192883Z",
     "start_time": "2019-07-20T19:45:51.190513Z"
    }
   },
   "outputs": [],
   "source": [
    "# function for calculating age at a date\n",
    "# INPUT FUNCTION HERE TO CLEAN UP CLASS"
   ]
  },
  {
   "cell_type": "code",
   "execution_count": 230,
   "metadata": {
    "ExecuteTime": {
     "end_time": "2019-07-20T02:38:35.472013Z",
     "start_time": "2019-07-20T02:38:35.469240Z"
    }
   },
   "outputs": [],
   "source": [
    "fighter1 = Fighter('Bruce', 'Lee', 19600104, 24, 20)\n",
    "fighter2 = Fighter('Jackie', 'Chan', 19780503, 16, 15)"
   ]
  },
  {
   "cell_type": "code",
   "execution_count": 226,
   "metadata": {
    "ExecuteTime": {
     "end_time": "2019-07-20T02:38:24.099811Z",
     "start_time": "2019-07-20T02:38:24.096808Z"
    }
   },
   "outputs": [
    {
     "name": "stdout",
     "output_type": "stream",
     "text": [
      "Bruce Lee\n",
      "Bruce Lee\n"
     ]
    }
   ],
   "source": [
    "print(fighter1.fullname())\n",
    "\n",
    "# this is the same as above, but might make it easier to update statistics for instance.\n",
    "print(Fighter.fullname(fighter1))"
   ]
  },
  {
   "cell_type": "code",
   "execution_count": 227,
   "metadata": {
    "ExecuteTime": {
     "end_time": "2019-07-20T02:38:24.314274Z",
     "start_time": "2019-07-20T02:38:24.309632Z"
    }
   },
   "outputs": [
    {
     "data": {
      "text/plain": [
       "{'first': 'Bruce',\n",
       " 'last': 'Lee',\n",
       " 'dob': datetime.date(1960, 1, 4),\n",
       " 'age': 59,\n",
       " 'fights': 24,\n",
       " 'wins': 20,\n",
       " 'win_pct': 0.8333333333333334}"
      ]
     },
     "execution_count": 227,
     "metadata": {},
     "output_type": "execute_result"
    }
   ],
   "source": [
    "# Returns the namespace of fighter1\n",
    "fighter1.__dict__"
   ]
  },
  {
   "cell_type": "code",
   "execution_count": 231,
   "metadata": {
    "ExecuteTime": {
     "end_time": "2019-07-20T02:38:37.919598Z",
     "start_time": "2019-07-20T02:38:37.916191Z"
    }
   },
   "outputs": [
    {
     "name": "stdout",
     "output_type": "stream",
     "text": [
      "59\n",
      "55\n"
     ]
    }
   ],
   "source": [
    "# test the update_age method\n",
    "print(fighter1.age)\n",
    "fighter1.update_age(20150604)\n",
    "print(fighter1.age)"
   ]
  },
  {
   "cell_type": "markdown",
   "metadata": {},
   "source": [
    "# Exploring Yuan's 3 csv files"
   ]
  },
  {
   "cell_type": "code",
   "execution_count": 250,
   "metadata": {
    "ExecuteTime": {
     "end_time": "2019-07-20T19:47:42.033821Z",
     "start_time": "2019-07-20T19:47:41.526276Z"
    }
   },
   "outputs": [],
   "source": [
    "import pandas as pd"
   ]
  },
  {
   "cell_type": "code",
   "execution_count": 249,
   "metadata": {
    "ExecuteTime": {
     "end_time": "2019-07-20T19:47:20.280936Z",
     "start_time": "2019-07-20T19:47:20.163420Z"
    }
   },
   "outputs": [
    {
     "name": "stdout",
     "output_type": "stream",
     "text": [
      "data.csv.zip     ufc_bouts.csv    ufc_combined.csv ufc_fighters.csv\r\n"
     ]
    }
   ],
   "source": [
    "!ls ../data/raw/"
   ]
  },
  {
   "cell_type": "markdown",
   "metadata": {},
   "source": [
    "## Bouts DF"
   ]
  },
  {
   "cell_type": "code",
   "execution_count": 401,
   "metadata": {
    "ExecuteTime": {
     "end_time": "2019-07-20T20:42:35.020120Z",
     "start_time": "2019-07-20T20:42:34.987677Z"
    },
    "scrolled": true
   },
   "outputs": [
    {
     "data": {
      "text/html": [
       "<div>\n",
       "<style scoped>\n",
       "    .dataframe tbody tr th:only-of-type {\n",
       "        vertical-align: middle;\n",
       "    }\n",
       "\n",
       "    .dataframe tbody tr th {\n",
       "        vertical-align: top;\n",
       "    }\n",
       "\n",
       "    .dataframe thead th {\n",
       "        text-align: right;\n",
       "    }\n",
       "</style>\n",
       "<table border=\"1\" class=\"dataframe\">\n",
       "  <thead>\n",
       "    <tr style=\"text-align: right;\">\n",
       "      <th></th>\n",
       "      <th>bout_id</th>\n",
       "      <th>event_name</th>\n",
       "      <th>date</th>\n",
       "      <th>location</th>\n",
       "      <th>attendance</th>\n",
       "      <th>result</th>\n",
       "      <th>fighter1</th>\n",
       "      <th>fighter2</th>\n",
       "      <th>winner</th>\n",
       "      <th>weight_class</th>\n",
       "      <th>title_fight</th>\n",
       "      <th>method</th>\n",
       "      <th>end_round</th>\n",
       "      <th>end_time</th>\n",
       "    </tr>\n",
       "  </thead>\n",
       "  <tbody>\n",
       "    <tr>\n",
       "      <th>0</th>\n",
       "      <td>1</td>\n",
       "      <td>UFC Fight Night: Magny vs. Ponzinibbio</td>\n",
       "      <td>2018-11-17</td>\n",
       "      <td>Buenos Aires, Buenos Aires, Argentina</td>\n",
       "      <td>10245.0</td>\n",
       "      <td>win</td>\n",
       "      <td>Santiago Ponzinibbio</td>\n",
       "      <td>Neil Magny</td>\n",
       "      <td>Santiago Ponzinibbio</td>\n",
       "      <td>Welterweight</td>\n",
       "      <td>f</td>\n",
       "      <td>KO/TKO-Punch</td>\n",
       "      <td>4</td>\n",
       "      <td>2:36</td>\n",
       "    </tr>\n",
       "    <tr>\n",
       "      <th>1</th>\n",
       "      <td>2</td>\n",
       "      <td>UFC Fight Night: Magny vs. Ponzinibbio</td>\n",
       "      <td>2018-11-17</td>\n",
       "      <td>Buenos Aires, Buenos Aires, Argentina</td>\n",
       "      <td>10245.0</td>\n",
       "      <td>win</td>\n",
       "      <td>Ricardo Lamas</td>\n",
       "      <td>Darren Elkins</td>\n",
       "      <td>Ricardo Lamas</td>\n",
       "      <td>Featherweight</td>\n",
       "      <td>f</td>\n",
       "      <td>KO/TKO-Elbows</td>\n",
       "      <td>3</td>\n",
       "      <td>4:09</td>\n",
       "    </tr>\n",
       "    <tr>\n",
       "      <th>2</th>\n",
       "      <td>3</td>\n",
       "      <td>UFC Fight Night: Magny vs. Ponzinibbio</td>\n",
       "      <td>2018-11-17</td>\n",
       "      <td>Buenos Aires, Buenos Aires, Argentina</td>\n",
       "      <td>10245.0</td>\n",
       "      <td>win</td>\n",
       "      <td>Johnny Walker</td>\n",
       "      <td>Khalil Rountree Jr.</td>\n",
       "      <td>Johnny Walker</td>\n",
       "      <td>Light Heavyweight</td>\n",
       "      <td>f</td>\n",
       "      <td>KO/TKO-Elbow</td>\n",
       "      <td>1</td>\n",
       "      <td>1:57</td>\n",
       "    </tr>\n",
       "  </tbody>\n",
       "</table>\n",
       "</div>"
      ],
      "text/plain": [
       "   bout_id                              event_name       date  \\\n",
       "0        1  UFC Fight Night: Magny vs. Ponzinibbio 2018-11-17   \n",
       "1        2  UFC Fight Night: Magny vs. Ponzinibbio 2018-11-17   \n",
       "2        3  UFC Fight Night: Magny vs. Ponzinibbio 2018-11-17   \n",
       "\n",
       "                                location  attendance  result  \\\n",
       "0  Buenos Aires, Buenos Aires, Argentina      10245.0    win   \n",
       "1  Buenos Aires, Buenos Aires, Argentina      10245.0    win   \n",
       "2  Buenos Aires, Buenos Aires, Argentina      10245.0    win   \n",
       "\n",
       "               fighter1             fighter2                winner  \\\n",
       "0  Santiago Ponzinibbio           Neil Magny  Santiago Ponzinibbio   \n",
       "1         Ricardo Lamas        Darren Elkins         Ricardo Lamas   \n",
       "2         Johnny Walker  Khalil Rountree Jr.         Johnny Walker   \n",
       "\n",
       "        weight_class title_fight         method  end_round end_time  \n",
       "0       Welterweight           f   KO/TKO-Punch          4     2:36  \n",
       "1      Featherweight           f  KO/TKO-Elbows          3     4:09  \n",
       "2  Light Heavyweight           f   KO/TKO-Elbow          1     1:57  "
      ]
     },
     "execution_count": 401,
     "metadata": {},
     "output_type": "execute_result"
    }
   ],
   "source": [
    "data_bouts = pd.read_csv('../data/raw/ufc_bouts.csv', parse_dates=['date'])\n",
    "data_bouts.head(3)"
   ]
  },
  {
   "cell_type": "markdown",
   "metadata": {
    "heading_collapsed": true
   },
   "source": [
    "### Result column"
   ]
  },
  {
   "cell_type": "code",
   "execution_count": 402,
   "metadata": {
    "ExecuteTime": {
     "end_time": "2019-07-20T20:42:35.389513Z",
     "start_time": "2019-07-20T20:42:35.379012Z"
    },
    "hidden": true
   },
   "outputs": [
    {
     "name": "stdout",
     "output_type": "stream",
     "text": [
      "Result Column Value Counts:\n",
      " win     4796\n",
      "nc        48\n",
      "draw      34\n",
      "Name: result, dtype: int64 \n",
      "\n",
      "Result Column Value Counts After Dropping nc AND draw:\n",
      " win    4796\n",
      "Name: result, dtype: int64\n"
     ]
    }
   ],
   "source": [
    "print('Result Column Value Counts:\\n', data_bouts.result.value_counts(), '\\n')\n",
    "\n",
    "# Drop NC rows as they dont help us predict the outcome\n",
    "data_bouts = data_bouts[data_bouts['result']!='nc']\n",
    "\n",
    "# drop the draw rows for now, so that we have a binary outcome of win or lose\n",
    "data_bouts = data_bouts[data_bouts['result']!='draw']\n",
    "\n",
    "print('Result Column Value Counts After Dropping nc AND draw:\\n', data_bouts.result.value_counts())"
   ]
  },
  {
   "cell_type": "markdown",
   "metadata": {
    "heading_collapsed": true
   },
   "source": [
    "### Shorten location column to only the country"
   ]
  },
  {
   "cell_type": "code",
   "execution_count": 403,
   "metadata": {
    "ExecuteTime": {
     "end_time": "2019-07-20T20:42:35.756862Z",
     "start_time": "2019-07-20T20:42:35.706719Z"
    },
    "hidden": true,
    "scrolled": true
   },
   "outputs": [
    {
     "data": {
      "text/html": [
       "<div>\n",
       "<style scoped>\n",
       "    .dataframe tbody tr th:only-of-type {\n",
       "        vertical-align: middle;\n",
       "    }\n",
       "\n",
       "    .dataframe tbody tr th {\n",
       "        vertical-align: top;\n",
       "    }\n",
       "\n",
       "    .dataframe thead th {\n",
       "        text-align: right;\n",
       "    }\n",
       "</style>\n",
       "<table border=\"1\" class=\"dataframe\">\n",
       "  <thead>\n",
       "    <tr style=\"text-align: right;\">\n",
       "      <th></th>\n",
       "      <th>bout_id</th>\n",
       "      <th>event_name</th>\n",
       "      <th>date</th>\n",
       "      <th>location</th>\n",
       "      <th>attendance</th>\n",
       "      <th>result</th>\n",
       "      <th>fighter1</th>\n",
       "      <th>fighter2</th>\n",
       "      <th>winner</th>\n",
       "      <th>weight_class</th>\n",
       "      <th>title_fight</th>\n",
       "      <th>method</th>\n",
       "      <th>end_round</th>\n",
       "      <th>end_time</th>\n",
       "    </tr>\n",
       "  </thead>\n",
       "  <tbody>\n",
       "    <tr>\n",
       "      <th>0</th>\n",
       "      <td>1</td>\n",
       "      <td>UFC Fight Night: Magny vs. Ponzinibbio</td>\n",
       "      <td>2018-11-17</td>\n",
       "      <td>Argentina</td>\n",
       "      <td>10245.0</td>\n",
       "      <td>win</td>\n",
       "      <td>Santiago Ponzinibbio</td>\n",
       "      <td>Neil Magny</td>\n",
       "      <td>Santiago Ponzinibbio</td>\n",
       "      <td>Welterweight</td>\n",
       "      <td>f</td>\n",
       "      <td>KO/TKO-Punch</td>\n",
       "      <td>4</td>\n",
       "      <td>2:36</td>\n",
       "    </tr>\n",
       "  </tbody>\n",
       "</table>\n",
       "</div>"
      ],
      "text/plain": [
       "   bout_id                              event_name       date   location  \\\n",
       "0        1  UFC Fight Night: Magny vs. Ponzinibbio 2018-11-17  Argentina   \n",
       "\n",
       "   attendance  result              fighter1    fighter2                winner  \\\n",
       "0      10245.0    win  Santiago Ponzinibbio  Neil Magny  Santiago Ponzinibbio   \n",
       "\n",
       "   weight_class title_fight        method  end_round end_time  \n",
       "0  Welterweight           f  KO/TKO-Punch          4     2:36  "
      ]
     },
     "execution_count": 403,
     "metadata": {},
     "output_type": "execute_result"
    }
   ],
   "source": [
    "# Strip the location column down to only the country\n",
    "data_bouts['location'] = data_bouts['location'].str.split(\" \").str.get(-1)\n",
    "# Rename the location column to bout_location\n",
    "data_bouts.rename({'location': 'bout_location'}, inplace=True)\n",
    "\n",
    "data_bouts.head(1)"
   ]
  },
  {
   "cell_type": "markdown",
   "metadata": {
    "heading_collapsed": true
   },
   "source": [
    "### Reduce categories in method column"
   ]
  },
  {
   "cell_type": "code",
   "execution_count": 404,
   "metadata": {
    "ExecuteTime": {
     "end_time": "2019-07-20T20:42:36.048706Z",
     "start_time": "2019-07-20T20:42:36.034704Z"
    },
    "hidden": true
   },
   "outputs": [
    {
     "name": "stdout",
     "output_type": "stream",
     "text": [
      "- There were originally 44 categories of win method\n",
      "\n",
      "- Now there are only 4 categories of win method: \n",
      "DEC       2106\n",
      "KO/TKO    1645\n",
      "SUB       1031\n",
      "DQ          14\n",
      "Name: method, dtype: int64\n"
     ]
    }
   ],
   "source": [
    "print('- There were originally {} categories of win method\\n'.format(data_bouts.method.value_counts().count()))\n",
    "\n",
    "# Reduce the categories down\n",
    "data_bouts['method'] = data_bouts['method'].str.split(\"-\").str.get(0)\n",
    "\n",
    "print('- Now there are only {} categories of win method: \\n{}'.format(data_bouts.method.value_counts().count(), data_bouts.method.value_counts()))"
   ]
  },
  {
   "cell_type": "markdown",
   "metadata": {},
   "source": [
    "### Duplicate Rows (no duplicate bout_ids)"
   ]
  },
  {
   "cell_type": "code",
   "execution_count": 405,
   "metadata": {
    "ExecuteTime": {
     "end_time": "2019-07-20T20:42:36.396045Z",
     "start_time": "2019-07-20T20:42:36.391785Z"
    },
    "scrolled": true
   },
   "outputs": [
    {
     "data": {
      "text/plain": [
       "True"
      ]
     },
     "execution_count": 405,
     "metadata": {},
     "output_type": "execute_result"
    }
   ],
   "source": [
    "data_bouts.shape[0] == data_bouts['bout_id'].nunique()"
   ]
  },
  {
   "cell_type": "markdown",
   "metadata": {},
   "source": [
    "### Drop other unecessary columns"
   ]
  },
  {
   "cell_type": "code",
   "execution_count": 406,
   "metadata": {
    "ExecuteTime": {
     "end_time": "2019-07-20T20:42:37.186999Z",
     "start_time": "2019-07-20T20:42:37.175217Z"
    },
    "scrolled": true
   },
   "outputs": [
    {
     "data": {
      "text/html": [
       "<div>\n",
       "<style scoped>\n",
       "    .dataframe tbody tr th:only-of-type {\n",
       "        vertical-align: middle;\n",
       "    }\n",
       "\n",
       "    .dataframe tbody tr th {\n",
       "        vertical-align: top;\n",
       "    }\n",
       "\n",
       "    .dataframe thead th {\n",
       "        text-align: right;\n",
       "    }\n",
       "</style>\n",
       "<table border=\"1\" class=\"dataframe\">\n",
       "  <thead>\n",
       "    <tr style=\"text-align: right;\">\n",
       "      <th></th>\n",
       "      <th>date</th>\n",
       "      <th>location</th>\n",
       "      <th>fighter1</th>\n",
       "      <th>fighter2</th>\n",
       "      <th>winner</th>\n",
       "      <th>title_fight</th>\n",
       "      <th>method</th>\n",
       "      <th>end_round</th>\n",
       "    </tr>\n",
       "  </thead>\n",
       "  <tbody>\n",
       "    <tr>\n",
       "      <th>0</th>\n",
       "      <td>2018-11-17</td>\n",
       "      <td>Argentina</td>\n",
       "      <td>Santiago Ponzinibbio</td>\n",
       "      <td>Neil Magny</td>\n",
       "      <td>Santiago Ponzinibbio</td>\n",
       "      <td>f</td>\n",
       "      <td>KO/TKO</td>\n",
       "      <td>4</td>\n",
       "    </tr>\n",
       "    <tr>\n",
       "      <th>1</th>\n",
       "      <td>2018-11-17</td>\n",
       "      <td>Argentina</td>\n",
       "      <td>Ricardo Lamas</td>\n",
       "      <td>Darren Elkins</td>\n",
       "      <td>Ricardo Lamas</td>\n",
       "      <td>f</td>\n",
       "      <td>KO/TKO</td>\n",
       "      <td>3</td>\n",
       "    </tr>\n",
       "    <tr>\n",
       "      <th>2</th>\n",
       "      <td>2018-11-17</td>\n",
       "      <td>Argentina</td>\n",
       "      <td>Johnny Walker</td>\n",
       "      <td>Khalil Rountree Jr.</td>\n",
       "      <td>Johnny Walker</td>\n",
       "      <td>f</td>\n",
       "      <td>KO/TKO</td>\n",
       "      <td>1</td>\n",
       "    </tr>\n",
       "  </tbody>\n",
       "</table>\n",
       "</div>"
      ],
      "text/plain": [
       "        date   location              fighter1             fighter2  \\\n",
       "0 2018-11-17  Argentina  Santiago Ponzinibbio           Neil Magny   \n",
       "1 2018-11-17  Argentina         Ricardo Lamas        Darren Elkins   \n",
       "2 2018-11-17  Argentina         Johnny Walker  Khalil Rountree Jr.   \n",
       "\n",
       "                 winner title_fight  method  end_round  \n",
       "0  Santiago Ponzinibbio           f  KO/TKO          4  \n",
       "1         Ricardo Lamas           f  KO/TKO          3  \n",
       "2         Johnny Walker           f  KO/TKO          1  "
      ]
     },
     "execution_count": 406,
     "metadata": {},
     "output_type": "execute_result"
    }
   ],
   "source": [
    "cols_to_keep = ['date', 'location', 'fighter1', 'fighter2', 'winner', 'title_fight', 'method', 'end_round']\n",
    "data_bouts = data_bouts[cols_to_keep]\n",
    "data_bouts.head(3)"
   ]
  },
  {
   "cell_type": "markdown",
   "metadata": {},
   "source": [
    "### Save the cleaned bouts df to processed data file"
   ]
  },
  {
   "cell_type": "code",
   "execution_count": 408,
   "metadata": {
    "ExecuteTime": {
     "end_time": "2019-07-20T20:43:59.166647Z",
     "start_time": "2019-07-20T20:43:59.119218Z"
    }
   },
   "outputs": [],
   "source": [
    "data_bouts.to_csv('../data/processed/bouts_cleaned')"
   ]
  },
  {
   "cell_type": "markdown",
   "metadata": {},
   "source": [
    "## Fighters DF"
   ]
  },
  {
   "cell_type": "code",
   "execution_count": 1373,
   "metadata": {
    "ExecuteTime": {
     "end_time": "2019-07-21T03:30:10.977255Z",
     "start_time": "2019-07-21T03:30:10.708638Z"
    }
   },
   "outputs": [
    {
     "data": {
      "text/html": [
       "<div>\n",
       "<style scoped>\n",
       "    .dataframe tbody tr th:only-of-type {\n",
       "        vertical-align: middle;\n",
       "    }\n",
       "\n",
       "    .dataframe tbody tr th {\n",
       "        vertical-align: top;\n",
       "    }\n",
       "\n",
       "    .dataframe thead th {\n",
       "        text-align: right;\n",
       "    }\n",
       "</style>\n",
       "<table border=\"1\" class=\"dataframe\">\n",
       "  <thead>\n",
       "    <tr style=\"text-align: right;\">\n",
       "      <th></th>\n",
       "      <th>fighter_id</th>\n",
       "      <th>name</th>\n",
       "      <th>win</th>\n",
       "      <th>lose</th>\n",
       "      <th>draw</th>\n",
       "      <th>nc</th>\n",
       "      <th>height</th>\n",
       "      <th>weight</th>\n",
       "      <th>reach</th>\n",
       "      <th>stance</th>\n",
       "      <th>dob</th>\n",
       "      <th>SLpM</th>\n",
       "      <th>Str_Acc</th>\n",
       "      <th>SApM</th>\n",
       "      <th>Str_Def</th>\n",
       "      <th>TD_Avg</th>\n",
       "      <th>TD_Acc</th>\n",
       "      <th>TD_Def</th>\n",
       "      <th>Sub_Avg</th>\n",
       "      <th>last_updated</th>\n",
       "    </tr>\n",
       "  </thead>\n",
       "  <tbody>\n",
       "    <tr>\n",
       "      <th>0</th>\n",
       "      <td>1</td>\n",
       "      <td>Luciano Azevedo</td>\n",
       "      <td>16</td>\n",
       "      <td>9</td>\n",
       "      <td>1</td>\n",
       "      <td>0</td>\n",
       "      <td>6' 3\"</td>\n",
       "      <td>161 lbs.</td>\n",
       "      <td>NaN</td>\n",
       "      <td>Orthodox</td>\n",
       "      <td>1981-06-25</td>\n",
       "      <td>0.76</td>\n",
       "      <td>45%</td>\n",
       "      <td>1.97</td>\n",
       "      <td>27%</td>\n",
       "      <td>2.28</td>\n",
       "      <td>11%</td>\n",
       "      <td>0%</td>\n",
       "      <td>0.0</td>\n",
       "      <td>2018-11-21 19:35:04.893952</td>\n",
       "    </tr>\n",
       "    <tr>\n",
       "      <th>1</th>\n",
       "      <td>2</td>\n",
       "      <td>Michael Byrnes</td>\n",
       "      <td>5</td>\n",
       "      <td>2</td>\n",
       "      <td>0</td>\n",
       "      <td>0</td>\n",
       "      <td>5' 11\"</td>\n",
       "      <td>155 lbs.</td>\n",
       "      <td>NaN</td>\n",
       "      <td>NaN</td>\n",
       "      <td>1990-07-17</td>\n",
       "      <td>0.00</td>\n",
       "      <td>0%</td>\n",
       "      <td>0.00</td>\n",
       "      <td>0%</td>\n",
       "      <td>0.00</td>\n",
       "      <td>0%</td>\n",
       "      <td>0%</td>\n",
       "      <td>0.0</td>\n",
       "      <td>2018-11-21 19:35:09.304165</td>\n",
       "    </tr>\n",
       "    <tr>\n",
       "      <th>2</th>\n",
       "      <td>3</td>\n",
       "      <td>Gleidson Cutis</td>\n",
       "      <td>7</td>\n",
       "      <td>3</td>\n",
       "      <td>0</td>\n",
       "      <td>0</td>\n",
       "      <td>5' 9\"</td>\n",
       "      <td>155 lbs.</td>\n",
       "      <td>NaN</td>\n",
       "      <td>Orthodox</td>\n",
       "      <td>1989-02-07</td>\n",
       "      <td>2.99</td>\n",
       "      <td>52%</td>\n",
       "      <td>8.28</td>\n",
       "      <td>59%</td>\n",
       "      <td>0.00</td>\n",
       "      <td>0%</td>\n",
       "      <td>0%</td>\n",
       "      <td>0.0</td>\n",
       "      <td>2018-11-21 19:35:11.211072</td>\n",
       "    </tr>\n",
       "  </tbody>\n",
       "</table>\n",
       "</div>"
      ],
      "text/plain": [
       "   fighter_id             name  win  lose  draw  nc  height    weight reach  \\\n",
       "0           1  Luciano Azevedo   16     9     1   0   6' 3\"  161 lbs.   NaN   \n",
       "1           2   Michael Byrnes    5     2     0   0  5' 11\"  155 lbs.   NaN   \n",
       "2           3   Gleidson Cutis    7     3     0   0   5' 9\"  155 lbs.   NaN   \n",
       "\n",
       "     stance        dob  SLpM Str_Acc  SApM Str_Def  TD_Avg TD_Acc TD_Def  \\\n",
       "0  Orthodox 1981-06-25  0.76     45%  1.97     27%    2.28    11%     0%   \n",
       "1       NaN 1990-07-17  0.00      0%  0.00      0%    0.00     0%     0%   \n",
       "2  Orthodox 1989-02-07  2.99     52%  8.28     59%    0.00     0%     0%   \n",
       "\n",
       "   Sub_Avg                last_updated  \n",
       "0      0.0  2018-11-21 19:35:04.893952  \n",
       "1      0.0  2018-11-21 19:35:09.304165  \n",
       "2      0.0  2018-11-21 19:35:11.211072  "
      ]
     },
     "execution_count": 1373,
     "metadata": {},
     "output_type": "execute_result"
    }
   ],
   "source": [
    "data_fighters = pd.read_csv('../data/raw/ufc_fighters.csv', parse_dates=['dob'])\n",
    "data_fighters.head(3)"
   ]
  },
  {
   "cell_type": "code",
   "execution_count": 1374,
   "metadata": {
    "ExecuteTime": {
     "end_time": "2019-07-21T03:30:10.987562Z",
     "start_time": "2019-07-21T03:30:10.978713Z"
    }
   },
   "outputs": [
    {
     "name": "stdout",
     "output_type": "stream",
     "text": [
      "<class 'pandas.core.frame.DataFrame'>\n",
      "RangeIndex: 3187 entries, 0 to 3186\n",
      "Data columns (total 20 columns):\n",
      "fighter_id      3187 non-null int64\n",
      "name            3187 non-null object\n",
      "win             3187 non-null int64\n",
      "lose            3187 non-null int64\n",
      "draw            3187 non-null int64\n",
      "nc              3187 non-null int64\n",
      "height          2928 non-null object\n",
      "weight          3111 non-null object\n",
      "reach           1482 non-null object\n",
      "stance          2360 non-null object\n",
      "dob             2454 non-null datetime64[ns]\n",
      "SLpM            3187 non-null float64\n",
      "Str_Acc         3187 non-null object\n",
      "SApM            3187 non-null float64\n",
      "Str_Def         3187 non-null object\n",
      "TD_Avg          3187 non-null float64\n",
      "TD_Acc          3187 non-null object\n",
      "TD_Def          3187 non-null object\n",
      "Sub_Avg         3187 non-null float64\n",
      "last_updated    3187 non-null object\n",
      "dtypes: datetime64[ns](1), float64(4), int64(5), object(10)\n",
      "memory usage: 498.0+ KB\n"
     ]
    }
   ],
   "source": [
    "data_fighters.info()"
   ]
  },
  {
   "cell_type": "code",
   "execution_count": 1375,
   "metadata": {
    "ExecuteTime": {
     "end_time": "2019-07-21T03:30:11.019832Z",
     "start_time": "2019-07-21T03:30:10.988998Z"
    },
    "scrolled": true
   },
   "outputs": [
    {
     "data": {
      "text/html": [
       "<div>\n",
       "<style scoped>\n",
       "    .dataframe tbody tr th:only-of-type {\n",
       "        vertical-align: middle;\n",
       "    }\n",
       "\n",
       "    .dataframe tbody tr th {\n",
       "        vertical-align: top;\n",
       "    }\n",
       "\n",
       "    .dataframe thead th {\n",
       "        text-align: right;\n",
       "    }\n",
       "</style>\n",
       "<table border=\"1\" class=\"dataframe\">\n",
       "  <thead>\n",
       "    <tr style=\"text-align: right;\">\n",
       "      <th></th>\n",
       "      <th>fighter_id</th>\n",
       "      <th>win</th>\n",
       "      <th>lose</th>\n",
       "      <th>draw</th>\n",
       "      <th>nc</th>\n",
       "      <th>SLpM</th>\n",
       "      <th>SApM</th>\n",
       "      <th>TD_Avg</th>\n",
       "      <th>Sub_Avg</th>\n",
       "    </tr>\n",
       "  </thead>\n",
       "  <tbody>\n",
       "    <tr>\n",
       "      <th>count</th>\n",
       "      <td>3187.00000</td>\n",
       "      <td>3187.000000</td>\n",
       "      <td>3187.000000</td>\n",
       "      <td>3187.000000</td>\n",
       "      <td>3187.000000</td>\n",
       "      <td>3187.000000</td>\n",
       "      <td>3187.000000</td>\n",
       "      <td>3187.000000</td>\n",
       "      <td>3187.000000</td>\n",
       "    </tr>\n",
       "    <tr>\n",
       "      <th>mean</th>\n",
       "      <td>1594.00000</td>\n",
       "      <td>11.497647</td>\n",
       "      <td>5.216505</td>\n",
       "      <td>0.292438</td>\n",
       "      <td>0.133668</td>\n",
       "      <td>2.153012</td>\n",
       "      <td>2.812931</td>\n",
       "      <td>1.173282</td>\n",
       "      <td>0.651302</td>\n",
       "    </tr>\n",
       "    <tr>\n",
       "      <th>std</th>\n",
       "      <td>920.15198</td>\n",
       "      <td>8.905952</td>\n",
       "      <td>4.697457</td>\n",
       "      <td>0.866378</td>\n",
       "      <td>0.376264</td>\n",
       "      <td>2.005978</td>\n",
       "      <td>2.818438</td>\n",
       "      <td>1.838291</td>\n",
       "      <td>1.551506</td>\n",
       "    </tr>\n",
       "    <tr>\n",
       "      <th>min</th>\n",
       "      <td>1.00000</td>\n",
       "      <td>0.000000</td>\n",
       "      <td>0.000000</td>\n",
       "      <td>0.000000</td>\n",
       "      <td>0.000000</td>\n",
       "      <td>0.000000</td>\n",
       "      <td>0.000000</td>\n",
       "      <td>0.000000</td>\n",
       "      <td>0.000000</td>\n",
       "    </tr>\n",
       "    <tr>\n",
       "      <th>25%</th>\n",
       "      <td>797.50000</td>\n",
       "      <td>5.000000</td>\n",
       "      <td>2.000000</td>\n",
       "      <td>0.000000</td>\n",
       "      <td>0.000000</td>\n",
       "      <td>0.510000</td>\n",
       "      <td>1.130000</td>\n",
       "      <td>0.000000</td>\n",
       "      <td>0.000000</td>\n",
       "    </tr>\n",
       "    <tr>\n",
       "      <th>50%</th>\n",
       "      <td>1594.00000</td>\n",
       "      <td>10.000000</td>\n",
       "      <td>4.000000</td>\n",
       "      <td>0.000000</td>\n",
       "      <td>0.000000</td>\n",
       "      <td>2.000000</td>\n",
       "      <td>2.600000</td>\n",
       "      <td>0.460000</td>\n",
       "      <td>0.000000</td>\n",
       "    </tr>\n",
       "    <tr>\n",
       "      <th>75%</th>\n",
       "      <td>2390.50000</td>\n",
       "      <td>15.000000</td>\n",
       "      <td>7.000000</td>\n",
       "      <td>0.000000</td>\n",
       "      <td>0.000000</td>\n",
       "      <td>3.250000</td>\n",
       "      <td>3.790000</td>\n",
       "      <td>1.860000</td>\n",
       "      <td>0.800000</td>\n",
       "    </tr>\n",
       "    <tr>\n",
       "      <th>max</th>\n",
       "      <td>3187.00000</td>\n",
       "      <td>127.000000</td>\n",
       "      <td>74.000000</td>\n",
       "      <td>11.000000</td>\n",
       "      <td>4.000000</td>\n",
       "      <td>30.000000</td>\n",
       "      <td>52.500000</td>\n",
       "      <td>32.140000</td>\n",
       "      <td>21.900000</td>\n",
       "    </tr>\n",
       "  </tbody>\n",
       "</table>\n",
       "</div>"
      ],
      "text/plain": [
       "       fighter_id          win         lose         draw           nc  \\\n",
       "count  3187.00000  3187.000000  3187.000000  3187.000000  3187.000000   \n",
       "mean   1594.00000    11.497647     5.216505     0.292438     0.133668   \n",
       "std     920.15198     8.905952     4.697457     0.866378     0.376264   \n",
       "min       1.00000     0.000000     0.000000     0.000000     0.000000   \n",
       "25%     797.50000     5.000000     2.000000     0.000000     0.000000   \n",
       "50%    1594.00000    10.000000     4.000000     0.000000     0.000000   \n",
       "75%    2390.50000    15.000000     7.000000     0.000000     0.000000   \n",
       "max    3187.00000   127.000000    74.000000    11.000000     4.000000   \n",
       "\n",
       "              SLpM         SApM       TD_Avg      Sub_Avg  \n",
       "count  3187.000000  3187.000000  3187.000000  3187.000000  \n",
       "mean      2.153012     2.812931     1.173282     0.651302  \n",
       "std       2.005978     2.818438     1.838291     1.551506  \n",
       "min       0.000000     0.000000     0.000000     0.000000  \n",
       "25%       0.510000     1.130000     0.000000     0.000000  \n",
       "50%       2.000000     2.600000     0.460000     0.000000  \n",
       "75%       3.250000     3.790000     1.860000     0.800000  \n",
       "max      30.000000    52.500000    32.140000    21.900000  "
      ]
     },
     "execution_count": 1375,
     "metadata": {},
     "output_type": "execute_result"
    }
   ],
   "source": [
    "data_fighters.describe()"
   ]
  },
  {
   "cell_type": "code",
   "execution_count": 1376,
   "metadata": {
    "ExecuteTime": {
     "end_time": "2019-07-21T03:30:11.027574Z",
     "start_time": "2019-07-21T03:30:11.021250Z"
    },
    "scrolled": false
   },
   "outputs": [
    {
     "data": {
      "text/plain": [
       "reach     1705\n",
       "stance     827\n",
       "dob        733\n",
       "height     259\n",
       "weight      76\n",
       "name         0\n",
       "dtype: int64"
      ]
     },
     "execution_count": 1376,
     "metadata": {},
     "output_type": "execute_result"
    }
   ],
   "source": [
    "data_fighters.isna().sum().sort_values(ascending=False)[:6]"
   ]
  },
  {
   "cell_type": "markdown",
   "metadata": {},
   "source": [
    "### Deal with missing values"
   ]
  },
  {
   "cell_type": "markdown",
   "metadata": {},
   "source": [
    "### Remove fighters with limited statistics"
   ]
  },
  {
   "cell_type": "markdown",
   "metadata": {},
   "source": [
    "### Drop unecessary columns"
   ]
  },
  {
   "cell_type": "code",
   "execution_count": 1401,
   "metadata": {
    "ExecuteTime": {
     "end_time": "2019-07-21T03:30:12.862985Z",
     "start_time": "2019-07-21T03:30:12.840262Z"
    }
   },
   "outputs": [
    {
     "data": {
      "text/html": [
       "<div>\n",
       "<style scoped>\n",
       "    .dataframe tbody tr th:only-of-type {\n",
       "        vertical-align: middle;\n",
       "    }\n",
       "\n",
       "    .dataframe tbody tr th {\n",
       "        vertical-align: top;\n",
       "    }\n",
       "\n",
       "    .dataframe thead th {\n",
       "        text-align: right;\n",
       "    }\n",
       "</style>\n",
       "<table border=\"1\" class=\"dataframe\">\n",
       "  <thead>\n",
       "    <tr style=\"text-align: right;\">\n",
       "      <th></th>\n",
       "      <th>fighter_id</th>\n",
       "      <th>name</th>\n",
       "      <th>win</th>\n",
       "      <th>lose</th>\n",
       "      <th>draw</th>\n",
       "      <th>nc</th>\n",
       "      <th>height</th>\n",
       "      <th>weight</th>\n",
       "      <th>reach</th>\n",
       "      <th>stance</th>\n",
       "      <th>...</th>\n",
       "      <th>SApM</th>\n",
       "      <th>Str_Def</th>\n",
       "      <th>TD_Avg</th>\n",
       "      <th>TD_Acc</th>\n",
       "      <th>TD_Def</th>\n",
       "      <th>Sub_Avg</th>\n",
       "      <th>last_updated</th>\n",
       "      <th>dob_year</th>\n",
       "      <th>age_today</th>\n",
       "      <th>height_inches</th>\n",
       "    </tr>\n",
       "  </thead>\n",
       "  <tbody>\n",
       "    <tr>\n",
       "      <th>0</th>\n",
       "      <td>1</td>\n",
       "      <td>Luciano Azevedo</td>\n",
       "      <td>16</td>\n",
       "      <td>9</td>\n",
       "      <td>1</td>\n",
       "      <td>0</td>\n",
       "      <td>6 3</td>\n",
       "      <td>161 lbs.</td>\n",
       "      <td>72.0</td>\n",
       "      <td>Orthodox</td>\n",
       "      <td>...</td>\n",
       "      <td>1.97</td>\n",
       "      <td>27</td>\n",
       "      <td>2.28</td>\n",
       "      <td>11</td>\n",
       "      <td>0</td>\n",
       "      <td>0.0</td>\n",
       "      <td>2018-11-21 19:35:04.893952</td>\n",
       "      <td>1981.0</td>\n",
       "      <td>38.0</td>\n",
       "      <td>75.0</td>\n",
       "    </tr>\n",
       "    <tr>\n",
       "      <th>1</th>\n",
       "      <td>3</td>\n",
       "      <td>Gleidson Cutis</td>\n",
       "      <td>7</td>\n",
       "      <td>3</td>\n",
       "      <td>0</td>\n",
       "      <td>0</td>\n",
       "      <td>5 9</td>\n",
       "      <td>155 lbs.</td>\n",
       "      <td>72.0</td>\n",
       "      <td>Orthodox</td>\n",
       "      <td>...</td>\n",
       "      <td>8.28</td>\n",
       "      <td>59</td>\n",
       "      <td>0.00</td>\n",
       "      <td>0</td>\n",
       "      <td>0</td>\n",
       "      <td>0.0</td>\n",
       "      <td>2018-11-21 19:35:11.211072</td>\n",
       "      <td>1989.0</td>\n",
       "      <td>30.0</td>\n",
       "      <td>69.0</td>\n",
       "    </tr>\n",
       "    <tr>\n",
       "      <th>2</th>\n",
       "      <td>4</td>\n",
       "      <td>Rolando Dy</td>\n",
       "      <td>9</td>\n",
       "      <td>7</td>\n",
       "      <td>1</td>\n",
       "      <td>1</td>\n",
       "      <td>5 8</td>\n",
       "      <td>145 lbs.</td>\n",
       "      <td>69.0</td>\n",
       "      <td>Orthodox</td>\n",
       "      <td>...</td>\n",
       "      <td>4.47</td>\n",
       "      <td>52</td>\n",
       "      <td>0.30</td>\n",
       "      <td>20</td>\n",
       "      <td>68</td>\n",
       "      <td>0.0</td>\n",
       "      <td>2018-11-21 19:35:14.677808</td>\n",
       "      <td>1990.0</td>\n",
       "      <td>29.0</td>\n",
       "      <td>68.0</td>\n",
       "    </tr>\n",
       "  </tbody>\n",
       "</table>\n",
       "<p>3 rows × 23 columns</p>\n",
       "</div>"
      ],
      "text/plain": [
       "   fighter_id             name  win  lose  draw  nc height    weight  reach  \\\n",
       "0           1  Luciano Azevedo   16     9     1   0    6 3  161 lbs.   72.0   \n",
       "1           3   Gleidson Cutis    7     3     0   0    5 9  155 lbs.   72.0   \n",
       "2           4       Rolando Dy    9     7     1   1    5 8  145 lbs.   69.0   \n",
       "\n",
       "     stance      ...       SApM  Str_Def TD_Avg  TD_Acc TD_Def  Sub_Avg  \\\n",
       "0  Orthodox      ...       1.97       27   2.28      11      0      0.0   \n",
       "1  Orthodox      ...       8.28       59   0.00       0      0      0.0   \n",
       "2  Orthodox      ...       4.47       52   0.30      20     68      0.0   \n",
       "\n",
       "                 last_updated dob_year  age_today height_inches  \n",
       "0  2018-11-21 19:35:04.893952   1981.0       38.0          75.0  \n",
       "1  2018-11-21 19:35:11.211072   1989.0       30.0          69.0  \n",
       "2  2018-11-21 19:35:14.677808   1990.0       29.0          68.0  \n",
       "\n",
       "[3 rows x 23 columns]"
      ]
     },
     "execution_count": 1401,
     "metadata": {},
     "output_type": "execute_result"
    }
   ],
   "source": [
    "data_fighters.head(3)"
   ]
  },
  {
   "cell_type": "code",
   "execution_count": 1402,
   "metadata": {
    "ExecuteTime": {
     "end_time": "2019-07-21T03:30:12.935877Z",
     "start_time": "2019-07-21T03:30:12.864313Z"
    }
   },
   "outputs": [],
   "source": [
    "# Columns to drop\n",
    "cols_to_drop = ['fighter_id', 'weight', 'last_updated', 'dob_year', 'height']\n",
    "\n",
    "# Drop the columns\n",
    "data_fighters.drop(cols_to_drop, axis=1, inplace=True)"
   ]
  },
  {
   "cell_type": "code",
   "execution_count": 1403,
   "metadata": {
    "ExecuteTime": {
     "end_time": "2019-07-21T03:30:12.941159Z",
     "start_time": "2019-07-21T03:30:12.937523Z"
    }
   },
   "outputs": [
    {
     "data": {
      "text/plain": [
       "(2460, 18)"
      ]
     },
     "execution_count": 1403,
     "metadata": {},
     "output_type": "execute_result"
    }
   ],
   "source": [
    "data_fighters.shape"
   ]
  },
  {
   "cell_type": "code",
   "execution_count": 1404,
   "metadata": {
    "ExecuteTime": {
     "end_time": "2019-07-21T03:30:12.959159Z",
     "start_time": "2019-07-21T03:30:12.942995Z"
    },
    "scrolled": true
   },
   "outputs": [
    {
     "data": {
      "text/html": [
       "<div>\n",
       "<style scoped>\n",
       "    .dataframe tbody tr th:only-of-type {\n",
       "        vertical-align: middle;\n",
       "    }\n",
       "\n",
       "    .dataframe tbody tr th {\n",
       "        vertical-align: top;\n",
       "    }\n",
       "\n",
       "    .dataframe thead th {\n",
       "        text-align: right;\n",
       "    }\n",
       "</style>\n",
       "<table border=\"1\" class=\"dataframe\">\n",
       "  <thead>\n",
       "    <tr style=\"text-align: right;\">\n",
       "      <th></th>\n",
       "      <th>name</th>\n",
       "      <th>win</th>\n",
       "      <th>lose</th>\n",
       "      <th>draw</th>\n",
       "      <th>nc</th>\n",
       "      <th>reach</th>\n",
       "      <th>stance</th>\n",
       "      <th>dob</th>\n",
       "      <th>SLpM</th>\n",
       "      <th>Str_Acc</th>\n",
       "      <th>SApM</th>\n",
       "      <th>Str_Def</th>\n",
       "      <th>TD_Avg</th>\n",
       "      <th>TD_Acc</th>\n",
       "      <th>TD_Def</th>\n",
       "      <th>Sub_Avg</th>\n",
       "      <th>age_today</th>\n",
       "      <th>height_inches</th>\n",
       "    </tr>\n",
       "  </thead>\n",
       "  <tbody>\n",
       "    <tr>\n",
       "      <th>0</th>\n",
       "      <td>Luciano Azevedo</td>\n",
       "      <td>16</td>\n",
       "      <td>9</td>\n",
       "      <td>1</td>\n",
       "      <td>0</td>\n",
       "      <td>72.0</td>\n",
       "      <td>Orthodox</td>\n",
       "      <td>1981-06-25</td>\n",
       "      <td>0.76</td>\n",
       "      <td>45</td>\n",
       "      <td>1.97</td>\n",
       "      <td>27</td>\n",
       "      <td>2.28</td>\n",
       "      <td>11</td>\n",
       "      <td>0</td>\n",
       "      <td>0.0</td>\n",
       "      <td>38.0</td>\n",
       "      <td>75.0</td>\n",
       "    </tr>\n",
       "    <tr>\n",
       "      <th>1</th>\n",
       "      <td>Gleidson Cutis</td>\n",
       "      <td>7</td>\n",
       "      <td>3</td>\n",
       "      <td>0</td>\n",
       "      <td>0</td>\n",
       "      <td>72.0</td>\n",
       "      <td>Orthodox</td>\n",
       "      <td>1989-02-07</td>\n",
       "      <td>2.99</td>\n",
       "      <td>52</td>\n",
       "      <td>8.28</td>\n",
       "      <td>59</td>\n",
       "      <td>0.00</td>\n",
       "      <td>0</td>\n",
       "      <td>0</td>\n",
       "      <td>0.0</td>\n",
       "      <td>30.0</td>\n",
       "      <td>69.0</td>\n",
       "    </tr>\n",
       "    <tr>\n",
       "      <th>2</th>\n",
       "      <td>Rolando Dy</td>\n",
       "      <td>9</td>\n",
       "      <td>7</td>\n",
       "      <td>1</td>\n",
       "      <td>1</td>\n",
       "      <td>69.0</td>\n",
       "      <td>Orthodox</td>\n",
       "      <td>1990-08-11</td>\n",
       "      <td>3.04</td>\n",
       "      <td>37</td>\n",
       "      <td>4.47</td>\n",
       "      <td>52</td>\n",
       "      <td>0.30</td>\n",
       "      <td>20</td>\n",
       "      <td>68</td>\n",
       "      <td>0.0</td>\n",
       "      <td>29.0</td>\n",
       "      <td>68.0</td>\n",
       "    </tr>\n",
       "  </tbody>\n",
       "</table>\n",
       "</div>"
      ],
      "text/plain": [
       "              name  win  lose  draw  nc  reach    stance        dob  SLpM  \\\n",
       "0  Luciano Azevedo   16     9     1   0   72.0  Orthodox 1981-06-25  0.76   \n",
       "1   Gleidson Cutis    7     3     0   0   72.0  Orthodox 1989-02-07  2.99   \n",
       "2       Rolando Dy    9     7     1   1   69.0  Orthodox 1990-08-11  3.04   \n",
       "\n",
       "  Str_Acc  SApM Str_Def  TD_Avg TD_Acc TD_Def  Sub_Avg  age_today  \\\n",
       "0      45  1.97      27    2.28     11      0      0.0       38.0   \n",
       "1      52  8.28      59    0.00      0      0      0.0       30.0   \n",
       "2      37  4.47      52    0.30     20     68      0.0       29.0   \n",
       "\n",
       "   height_inches  \n",
       "0           75.0  \n",
       "1           69.0  \n",
       "2           68.0  "
      ]
     },
     "execution_count": 1404,
     "metadata": {},
     "output_type": "execute_result"
    }
   ],
   "source": [
    "data_fighters.head(3)"
   ]
  },
  {
   "cell_type": "markdown",
   "metadata": {},
   "source": [
    "### Save the cleaned fighters df to processed data file"
   ]
  },
  {
   "cell_type": "code",
   "execution_count": 1405,
   "metadata": {
    "ExecuteTime": {
     "end_time": "2019-07-21T03:31:05.264886Z",
     "start_time": "2019-07-21T03:31:05.220736Z"
    }
   },
   "outputs": [],
   "source": [
    "data_fighters.to_csv('../data/processed/fighters_cleaned')"
   ]
  }
 ],
 "metadata": {
  "kernelspec": {
   "display_name": "Python 3",
   "language": "python",
   "name": "python3"
  },
  "language_info": {
   "codemirror_mode": {
    "name": "ipython",
    "version": 3
   },
   "file_extension": ".py",
   "mimetype": "text/x-python",
   "name": "python",
   "nbconvert_exporter": "python",
   "pygments_lexer": "ipython3",
   "version": "3.6.6"
  },
  "toc": {
   "base_numbering": 1,
   "nav_menu": {},
   "number_sections": true,
   "sideBar": true,
   "skip_h1_title": false,
   "title_cell": "Table of Contents",
   "title_sidebar": "Contents",
   "toc_cell": false,
   "toc_position": {},
   "toc_section_display": true,
   "toc_window_display": false
  },
  "varInspector": {
   "cols": {
    "lenName": 16,
    "lenType": 16,
    "lenVar": 40
   },
   "kernels_config": {
    "python": {
     "delete_cmd_postfix": "",
     "delete_cmd_prefix": "del ",
     "library": "var_list.py",
     "varRefreshCmd": "print(var_dic_list())"
    },
    "r": {
     "delete_cmd_postfix": ") ",
     "delete_cmd_prefix": "rm(",
     "library": "var_list.r",
     "varRefreshCmd": "cat(var_dic_list()) "
    }
   },
   "types_to_exclude": [
    "module",
    "function",
    "builtin_function_or_method",
    "instance",
    "_Feature"
   ],
   "window_display": false
  }
 },
 "nbformat": 4,
 "nbformat_minor": 2
}
