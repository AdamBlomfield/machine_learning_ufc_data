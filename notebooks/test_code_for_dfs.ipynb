{
 "cells": [
  {
   "cell_type": "markdown",
   "metadata": {},
   "source": [
    "# Import Libraries"
   ]
  },
  {
   "cell_type": "code",
   "execution_count": 7,
   "metadata": {
    "ExecuteTime": {
     "end_time": "2019-07-17T17:00:03.995641Z",
     "start_time": "2019-07-17T17:00:03.572752Z"
    }
   },
   "outputs": [],
   "source": [
    "import pandas as pd"
   ]
  },
  {
   "cell_type": "markdown",
   "metadata": {},
   "source": [
    "# Create Sample DataFrames"
   ]
  },
  {
   "cell_type": "markdown",
   "metadata": {},
   "source": [
    "## Fighter DF"
   ]
  },
  {
   "cell_type": "code",
   "execution_count": 37,
   "metadata": {
    "ExecuteTime": {
     "end_time": "2019-07-17T17:36:57.864318Z",
     "start_time": "2019-07-17T17:36:57.854552Z"
    },
    "scrolled": true
   },
   "outputs": [
    {
     "data": {
      "text/html": [
       "<div>\n",
       "<style scoped>\n",
       "    .dataframe tbody tr th:only-of-type {\n",
       "        vertical-align: middle;\n",
       "    }\n",
       "\n",
       "    .dataframe tbody tr th {\n",
       "        vertical-align: top;\n",
       "    }\n",
       "\n",
       "    .dataframe thead th {\n",
       "        text-align: right;\n",
       "    }\n",
       "</style>\n",
       "<table border=\"1\" class=\"dataframe\">\n",
       "  <thead>\n",
       "    <tr style=\"text-align: right;\">\n",
       "      <th></th>\n",
       "      <th>Name</th>\n",
       "      <th>Ages</th>\n",
       "      <th>D.O.B.</th>\n",
       "      <th>Hometown</th>\n",
       "      <th>Accuracy</th>\n",
       "    </tr>\n",
       "  </thead>\n",
       "  <tbody>\n",
       "    <tr>\n",
       "      <th>0</th>\n",
       "      <td>Brian Ortega</td>\n",
       "      <td>26</td>\n",
       "      <td>06-1990</td>\n",
       "      <td>USA</td>\n",
       "      <td>0.87</td>\n",
       "    </tr>\n",
       "    <tr>\n",
       "      <th>1</th>\n",
       "      <td>Jon Jones</td>\n",
       "      <td>32</td>\n",
       "      <td>03-1985</td>\n",
       "      <td>USA</td>\n",
       "      <td>0.67</td>\n",
       "    </tr>\n",
       "    <tr>\n",
       "      <th>2</th>\n",
       "      <td>Connor McGregor</td>\n",
       "      <td>30</td>\n",
       "      <td>09-1992</td>\n",
       "      <td>Ireland</td>\n",
       "      <td>0.23</td>\n",
       "    </tr>\n",
       "  </tbody>\n",
       "</table>\n",
       "</div>"
      ],
      "text/plain": [
       "              Name Ages   D.O.B. Hometown  Accuracy\n",
       "0     Brian Ortega   26  06-1990      USA      0.87\n",
       "1        Jon Jones   32  03-1985      USA      0.67\n",
       "2  Connor McGregor   30  09-1992  Ireland      0.23"
      ]
     },
     "execution_count": 37,
     "metadata": {},
     "output_type": "execute_result"
    }
   ],
   "source": [
    "names = ['Brian Ortega', 'Jon Jones', 'Connor McGregor']\n",
    "ages  = ['26','32','30']\n",
    "dobs  = ['06-1990','03-1985','09-1992'] \n",
    "homes = ['USA','USA','Ireland']\n",
    "accuracies = [0.87,0.67,0.23]\n",
    "\n",
    "fighter_df = pd.DataFrame({'Name': names, 'Ages': ages, 'D.O.B.': dobs,'Hometown': homes, 'Accuracy': accuracies})\n",
    "fighter_df"
   ]
  },
  {
   "cell_type": "code",
   "execution_count": 38,
   "metadata": {
    "ExecuteTime": {
     "end_time": "2019-07-17T17:36:58.126482Z",
     "start_time": "2019-07-17T17:36:58.121593Z"
    }
   },
   "outputs": [],
   "source": [
    "fighter_df['D.O.B.'] = pd.to_datetime(fighter_df['D.O.B.'], format='%m-%Y')"
   ]
  },
  {
   "cell_type": "markdown",
   "metadata": {},
   "source": [
    "## Fight DF"
   ]
  },
  {
   "cell_type": "code",
   "execution_count": 39,
   "metadata": {
    "ExecuteTime": {
     "end_time": "2019-07-17T17:36:58.918677Z",
     "start_time": "2019-07-17T17:36:58.908400Z"
    },
    "scrolled": true
   },
   "outputs": [
    {
     "data": {
      "text/html": [
       "<div>\n",
       "<style scoped>\n",
       "    .dataframe tbody tr th:only-of-type {\n",
       "        vertical-align: middle;\n",
       "    }\n",
       "\n",
       "    .dataframe tbody tr th {\n",
       "        vertical-align: top;\n",
       "    }\n",
       "\n",
       "    .dataframe thead th {\n",
       "        text-align: right;\n",
       "    }\n",
       "</style>\n",
       "<table border=\"1\" class=\"dataframe\">\n",
       "  <thead>\n",
       "    <tr style=\"text-align: right;\">\n",
       "      <th></th>\n",
       "      <th>Fight_ID</th>\n",
       "      <th>Date</th>\n",
       "      <th>Fighter_1</th>\n",
       "      <th>Fighter_2</th>\n",
       "      <th>Winner</th>\n",
       "    </tr>\n",
       "  </thead>\n",
       "  <tbody>\n",
       "    <tr>\n",
       "      <th>0</th>\n",
       "      <td>435</td>\n",
       "      <td>06-2017</td>\n",
       "      <td>Brian Ortega</td>\n",
       "      <td>Connor McGregor</td>\n",
       "      <td>1</td>\n",
       "    </tr>\n",
       "    <tr>\n",
       "      <th>1</th>\n",
       "      <td>654</td>\n",
       "      <td>08-2017</td>\n",
       "      <td>Brian Ortega</td>\n",
       "      <td>Jon Jones</td>\n",
       "      <td>1</td>\n",
       "    </tr>\n",
       "    <tr>\n",
       "      <th>2</th>\n",
       "      <td>796</td>\n",
       "      <td>03-2019</td>\n",
       "      <td>Connor McGregor</td>\n",
       "      <td>Jon Jones</td>\n",
       "      <td>2</td>\n",
       "    </tr>\n",
       "  </tbody>\n",
       "</table>\n",
       "</div>"
      ],
      "text/plain": [
       "   Fight_ID     Date        Fighter_1        Fighter_2  Winner\n",
       "0       435  06-2017     Brian Ortega  Connor McGregor       1\n",
       "1       654  08-2017     Brian Ortega        Jon Jones       1\n",
       "2       796  03-2019  Connor McGregor        Jon Jones       2"
      ]
     },
     "execution_count": 39,
     "metadata": {},
     "output_type": "execute_result"
    }
   ],
   "source": [
    "fight_ids = [435,654,796]\n",
    "dates     = ['06-2017','08-2017','03-2019']\n",
    "fighter_1 = ['Brian Ortega', 'Brian Ortega', 'Connor McGregor']\n",
    "fighter_2 = ['Connor McGregor', 'Jon Jones', 'Jon Jones']\n",
    "winners   = [1,1,2]\n",
    "\n",
    "fight_df = pd.DataFrame({'Fight_ID': fight_ids, 'Date': dates, 'Fighter_1': fighter_1, 'Fighter_2': fighter_2, 'Winner': winners})\n",
    "fight_df"
   ]
  },
  {
   "cell_type": "markdown",
   "metadata": {},
   "source": [
    "### Add age of each fighter based on date"
   ]
  },
  {
   "cell_type": "code",
   "execution_count": 40,
   "metadata": {
    "ExecuteTime": {
     "end_time": "2019-07-17T17:37:01.221172Z",
     "start_time": "2019-07-17T17:37:01.217935Z"
    }
   },
   "outputs": [],
   "source": [
    "# Change Date to datetime\n",
    "fight_df['Date'] = pd.to_datetime(fight_df['Date'], format='%m-%Y')"
   ]
  },
  {
   "cell_type": "code",
   "execution_count": 41,
   "metadata": {
    "ExecuteTime": {
     "end_time": "2019-07-17T17:37:01.226246Z",
     "start_time": "2019-07-17T17:37:01.223067Z"
    }
   },
   "outputs": [],
   "source": [
    "# Calculate the age based on date of fight and fighter's dob\n",
    "fight_df['Fighter_1_Age'] = fight_df['Date'] - fighter_df['D.O.B.']"
   ]
  },
  {
   "cell_type": "markdown",
   "metadata": {},
   "source": [
    "## Merged DF"
   ]
  },
  {
   "cell_type": "code",
   "execution_count": null,
   "metadata": {},
   "outputs": [],
   "source": []
  },
  {
   "cell_type": "markdown",
   "metadata": {},
   "source": [
    "# Fighter Class"
   ]
  },
  {
   "cell_type": "code",
   "execution_count": 85,
   "metadata": {
    "ExecuteTime": {
     "end_time": "2019-07-18T15:53:38.033326Z",
     "start_time": "2019-07-18T15:53:38.030602Z"
    }
   },
   "outputs": [],
   "source": [
    "import datetime\n",
    "from datetime import timedelta"
   ]
  },
  {
   "cell_type": "code",
   "execution_count": 90,
   "metadata": {
    "ExecuteTime": {
     "end_time": "2019-07-18T15:54:53.823986Z",
     "start_time": "2019-07-18T15:54:53.819659Z"
    }
   },
   "outputs": [
    {
     "data": {
      "text/plain": [
       "29"
      ]
     },
     "execution_count": 90,
     "metadata": {},
     "output_type": "execute_result"
    }
   ],
   "source": [
    "today = datetime.date.today()\n",
    "\n",
    "date_of_birth = datetime.date(1989, 11, 15)\n",
    "age = int(((today-date_of_birth).days)/365)\n",
    "age"
   ]
  },
  {
   "cell_type": "code",
   "execution_count": 45,
   "metadata": {
    "ExecuteTime": {
     "end_time": "2019-07-18T15:39:47.567769Z",
     "start_time": "2019-07-18T15:39:47.565254Z"
    }
   },
   "outputs": [],
   "source": [
    "dob = 19900506"
   ]
  },
  {
   "cell_type": "code",
   "execution_count": 111,
   "metadata": {
    "ExecuteTime": {
     "end_time": "2019-07-18T16:55:48.673569Z",
     "start_time": "2019-07-18T16:55:48.670468Z"
    }
   },
   "outputs": [],
   "source": [
    "\n",
    "s = \"20120213\"\n",
    "# you could also import date instead of datetime and use that.\n",
    "date_formatted = datetime.datetime(year=int(s[0:4]), month=int(s[4:6]), day=int(s[6:8])).strftime(\"%Y-%m-%d\")"
   ]
  },
  {
   "cell_type": "code",
   "execution_count": 112,
   "metadata": {
    "ExecuteTime": {
     "end_time": "2019-07-18T16:55:53.375611Z",
     "start_time": "2019-07-18T16:55:53.372168Z"
    }
   },
   "outputs": [
    {
     "data": {
      "text/plain": [
       "'2012-02-13'"
      ]
     },
     "execution_count": 112,
     "metadata": {},
     "output_type": "execute_result"
    }
   ],
   "source": [
    "date_formatted"
   ]
  },
  {
   "cell_type": "code",
   "execution_count": 125,
   "metadata": {
    "ExecuteTime": {
     "end_time": "2019-07-18T17:12:32.148150Z",
     "start_time": "2019-07-18T17:12:32.145577Z"
    },
    "scrolled": true
   },
   "outputs": [],
   "source": [
    "today = datetime.date.today"
   ]
  },
  {
   "cell_type": "code",
   "execution_count": 119,
   "metadata": {
    "ExecuteTime": {
     "end_time": "2019-07-18T16:56:15.819884Z",
     "start_time": "2019-07-18T16:56:15.817895Z"
    }
   },
   "outputs": [],
   "source": [
    "today = datetime.date.today()"
   ]
  },
  {
   "cell_type": "code",
   "execution_count": 120,
   "metadata": {
    "ExecuteTime": {
     "end_time": "2019-07-18T16:56:16.167263Z",
     "start_time": "2019-07-18T16:56:16.163757Z"
    }
   },
   "outputs": [
    {
     "data": {
      "text/plain": [
       "datetime.date(2019, 7, 18)"
      ]
     },
     "execution_count": 120,
     "metadata": {},
     "output_type": "execute_result"
    }
   ],
   "source": [
    "today"
   ]
  },
  {
   "cell_type": "code",
   "execution_count": 126,
   "metadata": {
    "ExecuteTime": {
     "end_time": "2019-07-18T17:12:45.509082Z",
     "start_time": "2019-07-18T17:12:45.501709Z"
    }
   },
   "outputs": [
    {
     "ename": "TypeError",
     "evalue": "unsupported operand type(s) for -: 'datetime.date' and 'datetime.datetime'",
     "output_type": "error",
     "traceback": [
      "\u001b[0;31m---------------------------------------------------------------------------\u001b[0m",
      "\u001b[0;31mTypeError\u001b[0m                                 Traceback (most recent call last)",
      "\u001b[0;32m<ipython-input-126-242e2d8e7d8e>\u001b[0m in \u001b[0;36m<module>\u001b[0;34m()\u001b[0m\n\u001b[1;32m      6\u001b[0m \u001b[0;31m# dd = int(self.dob[6:8])\u001b[0m\u001b[0;34m\u001b[0m\u001b[0;34m\u001b[0m\u001b[0m\n\u001b[1;32m      7\u001b[0m \u001b[0;31m# dob = datetime.date(yyyy, mm, dd)\u001b[0m\u001b[0;34m\u001b[0m\u001b[0;34m\u001b[0m\u001b[0m\n\u001b[0;32m----> 8\u001b[0;31m \u001b[0mage_days\u001b[0m \u001b[0;34m=\u001b[0m \u001b[0;34m(\u001b[0m\u001b[0mtoday\u001b[0m\u001b[0;34m-\u001b[0m\u001b[0mdob\u001b[0m\u001b[0;34m)\u001b[0m\u001b[0;34m.\u001b[0m\u001b[0mdays\u001b[0m\u001b[0;34m\u001b[0m\u001b[0m\n\u001b[0m\u001b[1;32m      9\u001b[0m \u001b[0mage_years\u001b[0m \u001b[0;34m=\u001b[0m \u001b[0mage_days\u001b[0m \u001b[0;34m/\u001b[0m \u001b[0;36m365\u001b[0m\u001b[0;34m\u001b[0m\u001b[0m\n",
      "\u001b[0;31mTypeError\u001b[0m: unsupported operand type(s) for -: 'datetime.date' and 'datetime.datetime'"
     ]
    }
   ],
   "source": [
    "today = datetime.date.today()\n",
    "dob = datetime.datetime(year=int(s[0:4]), month=int(s[4:6]), day=int(s[6:8]))\n",
    "\n",
    "# yyyy = int(self.dob[0:4])\n",
    "# mm = int(self.dob[4:6])\n",
    "# dd = int(self.dob[6:8])\n",
    "# dob = datetime.date(yyyy, mm, dd)\n",
    "age_days = (today-dob).days\n",
    "age_years = age_days / 365"
   ]
  },
  {
   "cell_type": "code",
   "execution_count": 131,
   "metadata": {
    "ExecuteTime": {
     "end_time": "2019-07-18T17:18:39.904592Z",
     "start_time": "2019-07-18T17:18:39.894218Z"
    }
   },
   "outputs": [
    {
     "ename": "TypeError",
     "evalue": "'datetime.date' object is not subscriptable",
     "output_type": "error",
     "traceback": [
      "\u001b[0;31m---------------------------------------------------------------------------\u001b[0m",
      "\u001b[0;31mTypeError\u001b[0m                                 Traceback (most recent call last)",
      "\u001b[0;32m<ipython-input-131-d7a83a8a2750>\u001b[0m in \u001b[0;36m<module>\u001b[0;34m()\u001b[0m\n\u001b[1;32m      8\u001b[0m \u001b[0;34m\u001b[0m\u001b[0m\n\u001b[1;32m      9\u001b[0m \u001b[0;31m# Driver code\u001b[0m\u001b[0;34m\u001b[0m\u001b[0;34m\u001b[0m\u001b[0m\n\u001b[0;32m---> 10\u001b[0;31m \u001b[0mprint\u001b[0m\u001b[0;34m(\u001b[0m\u001b[0mcalculateAge\u001b[0m\u001b[0;34m(\u001b[0m\u001b[0mdate\u001b[0m\u001b[0;34m(\u001b[0m\u001b[0;36m1997\u001b[0m\u001b[0;34m,\u001b[0m \u001b[0;36m2\u001b[0m\u001b[0;34m,\u001b[0m \u001b[0;36m3\u001b[0m\u001b[0;34m)\u001b[0m\u001b[0;34m)\u001b[0m\u001b[0;34m,\u001b[0m \u001b[0;34m\"years\"\u001b[0m\u001b[0;34m)\u001b[0m\u001b[0;34m\u001b[0m\u001b[0m\n\u001b[0m",
      "\u001b[0;32m<ipython-input-131-d7a83a8a2750>\u001b[0m in \u001b[0;36mcalculateAge\u001b[0;34m(birthDate)\u001b[0m\n\u001b[1;32m      3\u001b[0m \u001b[0;32mdef\u001b[0m \u001b[0mcalculateAge\u001b[0m\u001b[0;34m(\u001b[0m\u001b[0mbirthDate\u001b[0m\u001b[0;34m)\u001b[0m\u001b[0;34m:\u001b[0m\u001b[0;34m\u001b[0m\u001b[0m\n\u001b[1;32m      4\u001b[0m     \u001b[0mtoday\u001b[0m \u001b[0;34m=\u001b[0m \u001b[0mdate\u001b[0m\u001b[0;34m.\u001b[0m\u001b[0mtoday\u001b[0m\u001b[0;34m(\u001b[0m\u001b[0;34m)\u001b[0m\u001b[0;34m\u001b[0m\u001b[0m\n\u001b[0;32m----> 5\u001b[0;31m     \u001b[0mdateOfBirth\u001b[0m \u001b[0;34m=\u001b[0m \u001b[0mdatetime\u001b[0m\u001b[0;34m.\u001b[0m\u001b[0mdate\u001b[0m\u001b[0;34m(\u001b[0m\u001b[0myear\u001b[0m\u001b[0;34m=\u001b[0m\u001b[0mint\u001b[0m\u001b[0;34m(\u001b[0m\u001b[0mbirthDate\u001b[0m\u001b[0;34m[\u001b[0m\u001b[0;36m0\u001b[0m\u001b[0;34m:\u001b[0m\u001b[0;36m4\u001b[0m\u001b[0;34m]\u001b[0m\u001b[0;34m)\u001b[0m\u001b[0;34m,\u001b[0m \u001b[0mmonth\u001b[0m\u001b[0;34m=\u001b[0m\u001b[0mint\u001b[0m\u001b[0;34m(\u001b[0m\u001b[0mbirthDate\u001b[0m\u001b[0;34m[\u001b[0m\u001b[0;36m4\u001b[0m\u001b[0;34m:\u001b[0m\u001b[0;36m6\u001b[0m\u001b[0;34m]\u001b[0m\u001b[0;34m)\u001b[0m\u001b[0;34m,\u001b[0m \u001b[0mday\u001b[0m\u001b[0;34m=\u001b[0m\u001b[0mint\u001b[0m\u001b[0;34m(\u001b[0m\u001b[0mbirthDate\u001b[0m\u001b[0;34m[\u001b[0m\u001b[0;36m6\u001b[0m\u001b[0;34m:\u001b[0m\u001b[0;36m8\u001b[0m\u001b[0;34m]\u001b[0m\u001b[0;34m)\u001b[0m\u001b[0;34m)\u001b[0m\u001b[0;34m\u001b[0m\u001b[0m\n\u001b[0m\u001b[1;32m      6\u001b[0m     \u001b[0mage\u001b[0m \u001b[0;34m=\u001b[0m \u001b[0mtoday\u001b[0m\u001b[0;34m.\u001b[0m\u001b[0myear\u001b[0m \u001b[0;34m-\u001b[0m \u001b[0mdateOfBirth\u001b[0m\u001b[0;34m.\u001b[0m\u001b[0myear\u001b[0m \u001b[0;34m-\u001b[0m \u001b[0;34m(\u001b[0m\u001b[0;34m(\u001b[0m\u001b[0mtoday\u001b[0m\u001b[0;34m.\u001b[0m\u001b[0mmonth\u001b[0m\u001b[0;34m,\u001b[0m \u001b[0mtoday\u001b[0m\u001b[0;34m.\u001b[0m\u001b[0mday\u001b[0m\u001b[0;34m)\u001b[0m \u001b[0;34m<\u001b[0m \u001b[0;34m(\u001b[0m\u001b[0mdateOfBirth\u001b[0m\u001b[0;34m.\u001b[0m\u001b[0mmonth\u001b[0m\u001b[0;34m,\u001b[0m \u001b[0mdateOfBirth\u001b[0m\u001b[0;34m.\u001b[0m\u001b[0mday\u001b[0m\u001b[0;34m)\u001b[0m\u001b[0;34m)\u001b[0m\u001b[0;34m\u001b[0m\u001b[0m\n\u001b[1;32m      7\u001b[0m     \u001b[0;32mreturn\u001b[0m \u001b[0mage\u001b[0m\u001b[0;34m\u001b[0m\u001b[0m\n",
      "\u001b[0;31mTypeError\u001b[0m: 'datetime.date' object is not subscriptable"
     ]
    }
   ],
   "source": [
    "from datetime import date \n",
    "  \n",
    "def calculateAge(birthDate): \n",
    "    today = date.today() \n",
    "    dateOfBirth = datetime.date(year=int(birthDate[0:4]), month=int(birthDate[4:6]), day=int(birthDate[6:8]))\n",
    "    age = today.year - dateOfBirth.year - ((today.month, today.day) < (dateOfBirth.month, dateOfBirth.day))   \n",
    "    return age \n",
    "      \n",
    "# Driver code  \n",
    "print(calculateAge(date(1997, 2, 3)), \"years\")"
   ]
  },
  {
   "cell_type": "code",
   "execution_count": 37,
   "metadata": {
    "ExecuteTime": {
     "end_time": "2019-07-18T15:38:10.471962Z",
     "start_time": "2019-07-18T15:38:10.465952Z"
    }
   },
   "outputs": [],
   "source": [
    "class Fighter():\n",
    "    \"\"\"A fighter within the UFC.  Keeps track of attrributes such as name, hometown and age, \n",
    "    as well as methods for updating statistics from each fight\"\"\"\n",
    "    \n",
    "    def __init__(self, name, date_of_birth, height, home_town):\n",
    "        \"\"\"name: (str) first name and last name\n",
    "           date_of_birth: (yyyymmdd)\n",
    "           height: (in centimeters)\n",
    "           home_town: The figher's birthplace\"\"\"\n",
    "        self.name = name\n",
    "        self.first_name = name.split(\" \")[0]\n",
    "        self.last_name = name.split(\" \")[-1]\n",
    "        self.dob = date_of_birth\n",
    "        self.height = height        \n",
    "        self.home = home_town.split(\" \")[-1]  # We are only interested in the country of birth\n",
    "        \n",
    "        # Age\n",
    "        self.age = None\n",
    "        \n",
    "        # Performance Statistics\n",
    "        self.previous = None\n",
    "        self.streak = None\n",
    "        \n",
    "        # Fight Statistics\n",
    "        self.strikes_avg     = None\n",
    "        self.sig_strikes_avg = None\n",
    "        self.strikes_acc     = None\n",
    "        self.sig_strikes_acc = None\n",
    "        self.dom_pos_avg     = None\n",
    "    \n",
    "    def age(self):\n",
    "        '''Returns the age of the fighter in years'''\n",
    "        today = datetime.date.today()\n",
    "        dob = datetime(year=int(s[0:4]), month=int(s[4:6]), day=int(s[6:8]))\n",
    "        \n",
    "        yyyy = int(self.dob[0:4])\n",
    "        mm = int(self.dob[4:6])\n",
    "        dd = int(self.dob[6:8])\n",
    "        dob = datetime.date(yyyy, mm, dd)\n",
    "        age_days = (today-dob).days\n",
    "        age_years = age_days / 365\n",
    "        \n",
    "        return int(age_years)\n",
    "    \n",
    "    def fight(self):\n",
    "        \"\"\"Updates the fighter's statistics with the latest fight\"\"\""
   ]
  },
  {
   "cell_type": "code",
   "execution_count": 38,
   "metadata": {
    "ExecuteTime": {
     "end_time": "2019-07-18T15:38:11.613726Z",
     "start_time": "2019-07-18T15:38:11.610131Z"
    },
    "scrolled": true
   },
   "outputs": [
    {
     "name": "stdout",
     "output_type": "stream",
     "text": [
      "Help on class Fighter in module __main__:\n",
      "\n",
      "class Fighter(builtins.object)\n",
      " |  A fighter within the UFC.  Keeps track of attrributes such as name, hometown and age, \n",
      " |  as well as methods for updating statistics from each fight\n",
      " |  \n",
      " |  Methods defined here:\n",
      " |  \n",
      " |  __init__(self, name, date_of_birth, height, home_town)\n",
      " |      name: (str) first name and last name\n",
      " |      date_of_birth: (yyyymmdd)\n",
      " |      height: (in centimeters)\n",
      " |      home_town: The figher's birthplace\n",
      " |  \n",
      " |  age(self)\n",
      " |      Returns the age of the fighter in years\n",
      " |  \n",
      " |  fight(self)\n",
      " |      Updates the fighter's statistics with the latest fight\n",
      " |  \n",
      " |  ----------------------------------------------------------------------\n",
      " |  Data descriptors defined here:\n",
      " |  \n",
      " |  __dict__\n",
      " |      dictionary for instance variables (if defined)\n",
      " |  \n",
      " |  __weakref__\n",
      " |      list of weak references to the object (if defined)\n",
      "\n"
     ]
    }
   ],
   "source": [
    "help(Fighter)"
   ]
  },
  {
   "cell_type": "code",
   "execution_count": 40,
   "metadata": {
    "ExecuteTime": {
     "end_time": "2019-07-18T15:38:56.050880Z",
     "start_time": "2019-07-18T15:38:56.048625Z"
    }
   },
   "outputs": [],
   "source": [
    "fighter_jon_jones = Fighter('Jon Jones', '19900503', 195, 'Phoenix Arizona USA')"
   ]
  },
  {
   "cell_type": "code",
   "execution_count": 42,
   "metadata": {
    "ExecuteTime": {
     "end_time": "2019-07-18T15:39:04.336275Z",
     "start_time": "2019-07-18T15:39:04.332363Z"
    }
   },
   "outputs": [
    {
     "data": {
      "text/plain": [
       "'Jones'"
      ]
     },
     "execution_count": 42,
     "metadata": {},
     "output_type": "execute_result"
    }
   ],
   "source": [
    "fighter_jon_jones.last_name"
   ]
  },
  {
   "cell_type": "code",
   "execution_count": 44,
   "metadata": {
    "ExecuteTime": {
     "end_time": "2019-07-18T15:39:16.604326Z",
     "start_time": "2019-07-18T15:39:16.600646Z"
    }
   },
   "outputs": [
    {
     "data": {
      "text/plain": [
       "'19900503'"
      ]
     },
     "execution_count": 44,
     "metadata": {},
     "output_type": "execute_result"
    }
   ],
   "source": [
    "fighter_jon_jones.dob"
   ]
  },
  {
   "cell_type": "code",
   "execution_count": null,
   "metadata": {},
   "outputs": [],
   "source": [
    "class Fight():\n",
    "    ''''''\n",
    "    \n",
    "    def __init__(fighter1, fighter2, date):\n",
    "        '''fighter1 = Name of the first fighter\n",
    "           figthter2 = Name of the second fighter\n",
    "           date = Date that the figtht took place'''\n",
    "        self.f1 = fighter1\n",
    "        self.f2 = fighter2\n",
    "        self.date = date"
   ]
  },
  {
   "cell_type": "code",
   "execution_count": 6,
   "metadata": {
    "ExecuteTime": {
     "end_time": "2019-07-17T16:58:13.216506Z",
     "start_time": "2019-07-17T16:58:13.213035Z"
    }
   },
   "outputs": [
    {
     "name": "stdout",
     "output_type": "stream",
     "text": [
      "John Jones\n",
      "32\n",
      "Hello my name is John Jones\n"
     ]
    }
   ],
   "source": [
    "f1 = Fighter(\"John Jones\", 32)\n",
    "\n",
    "print(f1.name)\n",
    "print(f1.age)\n",
    "f1.myfunc()"
   ]
  },
  {
   "cell_type": "markdown",
   "metadata": {},
   "source": [
    "# Fight Class"
   ]
  },
  {
   "cell_type": "code",
   "execution_count": null,
   "metadata": {},
   "outputs": [],
   "source": []
  },
  {
   "cell_type": "markdown",
   "metadata": {},
   "source": [
    "# New column for last word of HomeTown or Location"
   ]
  },
  {
   "cell_type": "code",
   "execution_count": 42,
   "metadata": {
    "ExecuteTime": {
     "end_time": "2019-07-17T17:37:05.292618Z",
     "start_time": "2019-07-17T17:37:05.283788Z"
    }
   },
   "outputs": [
    {
     "data": {
      "text/html": [
       "<div>\n",
       "<style scoped>\n",
       "    .dataframe tbody tr th:only-of-type {\n",
       "        vertical-align: middle;\n",
       "    }\n",
       "\n",
       "    .dataframe tbody tr th {\n",
       "        vertical-align: top;\n",
       "    }\n",
       "\n",
       "    .dataframe thead th {\n",
       "        text-align: right;\n",
       "    }\n",
       "</style>\n",
       "<table border=\"1\" class=\"dataframe\">\n",
       "  <thead>\n",
       "    <tr style=\"text-align: right;\">\n",
       "      <th></th>\n",
       "      <th>Fight_ID</th>\n",
       "      <th>Date</th>\n",
       "      <th>Fighter_1</th>\n",
       "      <th>Fighter_2</th>\n",
       "      <th>Winner</th>\n",
       "      <th>Fighter_1_Age</th>\n",
       "    </tr>\n",
       "  </thead>\n",
       "  <tbody>\n",
       "    <tr>\n",
       "      <th>0</th>\n",
       "      <td>435</td>\n",
       "      <td>2017-06-01</td>\n",
       "      <td>Brian Ortega</td>\n",
       "      <td>Connor McGregor</td>\n",
       "      <td>1</td>\n",
       "      <td>9862 days</td>\n",
       "    </tr>\n",
       "    <tr>\n",
       "      <th>1</th>\n",
       "      <td>654</td>\n",
       "      <td>2017-08-01</td>\n",
       "      <td>Brian Ortega</td>\n",
       "      <td>Jon Jones</td>\n",
       "      <td>1</td>\n",
       "      <td>11841 days</td>\n",
       "    </tr>\n",
       "    <tr>\n",
       "      <th>2</th>\n",
       "      <td>796</td>\n",
       "      <td>2019-03-01</td>\n",
       "      <td>Connor McGregor</td>\n",
       "      <td>Jon Jones</td>\n",
       "      <td>2</td>\n",
       "      <td>9677 days</td>\n",
       "    </tr>\n",
       "  </tbody>\n",
       "</table>\n",
       "</div>"
      ],
      "text/plain": [
       "   Fight_ID       Date        Fighter_1        Fighter_2  Winner Fighter_1_Age\n",
       "0       435 2017-06-01     Brian Ortega  Connor McGregor       1     9862 days\n",
       "1       654 2017-08-01     Brian Ortega        Jon Jones       1    11841 days\n",
       "2       796 2019-03-01  Connor McGregor        Jon Jones       2     9677 days"
      ]
     },
     "execution_count": 42,
     "metadata": {},
     "output_type": "execute_result"
    }
   ],
   "source": [
    "fight_df"
   ]
  },
  {
   "cell_type": "code",
   "execution_count": 43,
   "metadata": {
    "ExecuteTime": {
     "end_time": "2019-07-17T17:37:11.460513Z",
     "start_time": "2019-07-17T17:37:11.452010Z"
    }
   },
   "outputs": [
    {
     "data": {
      "text/html": [
       "<div>\n",
       "<style scoped>\n",
       "    .dataframe tbody tr th:only-of-type {\n",
       "        vertical-align: middle;\n",
       "    }\n",
       "\n",
       "    .dataframe tbody tr th {\n",
       "        vertical-align: top;\n",
       "    }\n",
       "\n",
       "    .dataframe thead th {\n",
       "        text-align: right;\n",
       "    }\n",
       "</style>\n",
       "<table border=\"1\" class=\"dataframe\">\n",
       "  <thead>\n",
       "    <tr style=\"text-align: right;\">\n",
       "      <th></th>\n",
       "      <th>Name</th>\n",
       "      <th>Ages</th>\n",
       "      <th>D.O.B.</th>\n",
       "      <th>Hometown</th>\n",
       "      <th>Accuracy</th>\n",
       "    </tr>\n",
       "  </thead>\n",
       "  <tbody>\n",
       "    <tr>\n",
       "      <th>0</th>\n",
       "      <td>Brian Ortega</td>\n",
       "      <td>26</td>\n",
       "      <td>1990-06-01</td>\n",
       "      <td>USA</td>\n",
       "      <td>0.87</td>\n",
       "    </tr>\n",
       "    <tr>\n",
       "      <th>1</th>\n",
       "      <td>Jon Jones</td>\n",
       "      <td>32</td>\n",
       "      <td>1985-03-01</td>\n",
       "      <td>USA</td>\n",
       "      <td>0.67</td>\n",
       "    </tr>\n",
       "    <tr>\n",
       "      <th>2</th>\n",
       "      <td>Connor McGregor</td>\n",
       "      <td>30</td>\n",
       "      <td>1992-09-01</td>\n",
       "      <td>Ireland</td>\n",
       "      <td>0.23</td>\n",
       "    </tr>\n",
       "  </tbody>\n",
       "</table>\n",
       "</div>"
      ],
      "text/plain": [
       "              Name Ages     D.O.B. Hometown  Accuracy\n",
       "0     Brian Ortega   26 1990-06-01      USA      0.87\n",
       "1        Jon Jones   32 1985-03-01      USA      0.67\n",
       "2  Connor McGregor   30 1992-09-01  Ireland      0.23"
      ]
     },
     "execution_count": 43,
     "metadata": {},
     "output_type": "execute_result"
    }
   ],
   "source": [
    "fighter_df"
   ]
  },
  {
   "cell_type": "code",
   "execution_count": 46,
   "metadata": {
    "ExecuteTime": {
     "end_time": "2019-07-17T17:38:42.910720Z",
     "start_time": "2019-07-17T17:38:42.907267Z"
    }
   },
   "outputs": [],
   "source": [
    "fighter_df['Surname'] = fighter_df['Name'].apply(lambda x: x.split()[-1])"
   ]
  },
  {
   "cell_type": "code",
   "execution_count": 47,
   "metadata": {
    "ExecuteTime": {
     "end_time": "2019-07-17T17:38:48.720148Z",
     "start_time": "2019-07-17T17:38:48.711739Z"
    }
   },
   "outputs": [
    {
     "data": {
      "text/html": [
       "<div>\n",
       "<style scoped>\n",
       "    .dataframe tbody tr th:only-of-type {\n",
       "        vertical-align: middle;\n",
       "    }\n",
       "\n",
       "    .dataframe tbody tr th {\n",
       "        vertical-align: top;\n",
       "    }\n",
       "\n",
       "    .dataframe thead th {\n",
       "        text-align: right;\n",
       "    }\n",
       "</style>\n",
       "<table border=\"1\" class=\"dataframe\">\n",
       "  <thead>\n",
       "    <tr style=\"text-align: right;\">\n",
       "      <th></th>\n",
       "      <th>Name</th>\n",
       "      <th>Ages</th>\n",
       "      <th>D.O.B.</th>\n",
       "      <th>Hometown</th>\n",
       "      <th>Accuracy</th>\n",
       "      <th>Surname</th>\n",
       "    </tr>\n",
       "  </thead>\n",
       "  <tbody>\n",
       "    <tr>\n",
       "      <th>0</th>\n",
       "      <td>Brian Ortega</td>\n",
       "      <td>26</td>\n",
       "      <td>1990-06-01</td>\n",
       "      <td>USA</td>\n",
       "      <td>0.87</td>\n",
       "      <td>Ortega</td>\n",
       "    </tr>\n",
       "    <tr>\n",
       "      <th>1</th>\n",
       "      <td>Jon Jones</td>\n",
       "      <td>32</td>\n",
       "      <td>1985-03-01</td>\n",
       "      <td>USA</td>\n",
       "      <td>0.67</td>\n",
       "      <td>Jones</td>\n",
       "    </tr>\n",
       "    <tr>\n",
       "      <th>2</th>\n",
       "      <td>Connor McGregor</td>\n",
       "      <td>30</td>\n",
       "      <td>1992-09-01</td>\n",
       "      <td>Ireland</td>\n",
       "      <td>0.23</td>\n",
       "      <td>McGregor</td>\n",
       "    </tr>\n",
       "  </tbody>\n",
       "</table>\n",
       "</div>"
      ],
      "text/plain": [
       "              Name Ages     D.O.B. Hometown  Accuracy   Surname\n",
       "0     Brian Ortega   26 1990-06-01      USA      0.87    Ortega\n",
       "1        Jon Jones   32 1985-03-01      USA      0.67     Jones\n",
       "2  Connor McGregor   30 1992-09-01  Ireland      0.23  McGregor"
      ]
     },
     "execution_count": 47,
     "metadata": {},
     "output_type": "execute_result"
    }
   ],
   "source": [
    "fighter_df"
   ]
  },
  {
   "cell_type": "code",
   "execution_count": 50,
   "metadata": {
    "ExecuteTime": {
     "end_time": "2019-07-17T17:41:13.286448Z",
     "start_time": "2019-07-17T17:41:13.281845Z"
    }
   },
   "outputs": [],
   "source": [
    "fighter_df.drop('Surname', axis=1, inplace=True)"
   ]
  },
  {
   "cell_type": "code",
   "execution_count": 51,
   "metadata": {
    "ExecuteTime": {
     "end_time": "2019-07-17T17:41:13.921564Z",
     "start_time": "2019-07-17T17:41:13.913887Z"
    }
   },
   "outputs": [
    {
     "data": {
      "text/html": [
       "<div>\n",
       "<style scoped>\n",
       "    .dataframe tbody tr th:only-of-type {\n",
       "        vertical-align: middle;\n",
       "    }\n",
       "\n",
       "    .dataframe tbody tr th {\n",
       "        vertical-align: top;\n",
       "    }\n",
       "\n",
       "    .dataframe thead th {\n",
       "        text-align: right;\n",
       "    }\n",
       "</style>\n",
       "<table border=\"1\" class=\"dataframe\">\n",
       "  <thead>\n",
       "    <tr style=\"text-align: right;\">\n",
       "      <th></th>\n",
       "      <th>Name</th>\n",
       "      <th>Ages</th>\n",
       "      <th>D.O.B.</th>\n",
       "      <th>Hometown</th>\n",
       "      <th>Accuracy</th>\n",
       "    </tr>\n",
       "  </thead>\n",
       "  <tbody>\n",
       "    <tr>\n",
       "      <th>0</th>\n",
       "      <td>Brian Ortega</td>\n",
       "      <td>26</td>\n",
       "      <td>1990-06-01</td>\n",
       "      <td>USA</td>\n",
       "      <td>0.87</td>\n",
       "    </tr>\n",
       "    <tr>\n",
       "      <th>1</th>\n",
       "      <td>Jon Jones</td>\n",
       "      <td>32</td>\n",
       "      <td>1985-03-01</td>\n",
       "      <td>USA</td>\n",
       "      <td>0.67</td>\n",
       "    </tr>\n",
       "    <tr>\n",
       "      <th>2</th>\n",
       "      <td>Connor McGregor</td>\n",
       "      <td>30</td>\n",
       "      <td>1992-09-01</td>\n",
       "      <td>Ireland</td>\n",
       "      <td>0.23</td>\n",
       "    </tr>\n",
       "  </tbody>\n",
       "</table>\n",
       "</div>"
      ],
      "text/plain": [
       "              Name Ages     D.O.B. Hometown  Accuracy\n",
       "0     Brian Ortega   26 1990-06-01      USA      0.87\n",
       "1        Jon Jones   32 1985-03-01      USA      0.67\n",
       "2  Connor McGregor   30 1992-09-01  Ireland      0.23"
      ]
     },
     "execution_count": 51,
     "metadata": {},
     "output_type": "execute_result"
    }
   ],
   "source": [
    "fighter_df"
   ]
  },
  {
   "cell_type": "code",
   "execution_count": null,
   "metadata": {},
   "outputs": [],
   "source": []
  }
 ],
 "metadata": {
  "kernelspec": {
   "display_name": "Python 3",
   "language": "python",
   "name": "python3"
  },
  "language_info": {
   "codemirror_mode": {
    "name": "ipython",
    "version": 3
   },
   "file_extension": ".py",
   "mimetype": "text/x-python",
   "name": "python",
   "nbconvert_exporter": "python",
   "pygments_lexer": "ipython3",
   "version": "3.6.6"
  },
  "toc": {
   "base_numbering": 1,
   "nav_menu": {},
   "number_sections": true,
   "sideBar": true,
   "skip_h1_title": false,
   "title_cell": "Table of Contents",
   "title_sidebar": "Contents",
   "toc_cell": false,
   "toc_position": {},
   "toc_section_display": true,
   "toc_window_display": false
  },
  "varInspector": {
   "cols": {
    "lenName": 16,
    "lenType": 16,
    "lenVar": 40
   },
   "kernels_config": {
    "python": {
     "delete_cmd_postfix": "",
     "delete_cmd_prefix": "del ",
     "library": "var_list.py",
     "varRefreshCmd": "print(var_dic_list())"
    },
    "r": {
     "delete_cmd_postfix": ") ",
     "delete_cmd_prefix": "rm(",
     "library": "var_list.r",
     "varRefreshCmd": "cat(var_dic_list()) "
    }
   },
   "types_to_exclude": [
    "module",
    "function",
    "builtin_function_or_method",
    "instance",
    "_Feature"
   ],
   "window_display": false
  }
 },
 "nbformat": 4,
 "nbformat_minor": 2
}
