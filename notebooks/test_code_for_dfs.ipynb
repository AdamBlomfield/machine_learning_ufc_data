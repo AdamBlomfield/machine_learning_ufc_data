{
 "cells": [
  {
   "cell_type": "markdown",
   "metadata": {},
   "source": [
    "# Import Libraries"
   ]
  },
  {
   "cell_type": "code",
   "execution_count": 881,
   "metadata": {
    "ExecuteTime": {
     "end_time": "2019-07-21T01:03:52.561773Z",
     "start_time": "2019-07-21T01:03:52.559074Z"
    }
   },
   "outputs": [],
   "source": [
    "import pandas as pd\n",
    "import warnings\n",
    "warnings.filterwarnings('ignore')\n",
    "\n",
    "import datetime"
   ]
  },
  {
   "cell_type": "markdown",
   "metadata": {
    "heading_collapsed": true
   },
   "source": [
    "# Create Sample DataFrames"
   ]
  },
  {
   "cell_type": "markdown",
   "metadata": {
    "hidden": true
   },
   "source": [
    "## Fighter DF"
   ]
  },
  {
   "cell_type": "code",
   "execution_count": 37,
   "metadata": {
    "ExecuteTime": {
     "end_time": "2019-07-17T17:36:57.864318Z",
     "start_time": "2019-07-17T17:36:57.854552Z"
    },
    "hidden": true,
    "scrolled": true
   },
   "outputs": [
    {
     "data": {
      "text/html": [
       "<div>\n",
       "<style scoped>\n",
       "    .dataframe tbody tr th:only-of-type {\n",
       "        vertical-align: middle;\n",
       "    }\n",
       "\n",
       "    .dataframe tbody tr th {\n",
       "        vertical-align: top;\n",
       "    }\n",
       "\n",
       "    .dataframe thead th {\n",
       "        text-align: right;\n",
       "    }\n",
       "</style>\n",
       "<table border=\"1\" class=\"dataframe\">\n",
       "  <thead>\n",
       "    <tr style=\"text-align: right;\">\n",
       "      <th></th>\n",
       "      <th>Name</th>\n",
       "      <th>Ages</th>\n",
       "      <th>D.O.B.</th>\n",
       "      <th>Hometown</th>\n",
       "      <th>Accuracy</th>\n",
       "    </tr>\n",
       "  </thead>\n",
       "  <tbody>\n",
       "    <tr>\n",
       "      <th>0</th>\n",
       "      <td>Brian Ortega</td>\n",
       "      <td>26</td>\n",
       "      <td>06-1990</td>\n",
       "      <td>USA</td>\n",
       "      <td>0.87</td>\n",
       "    </tr>\n",
       "    <tr>\n",
       "      <th>1</th>\n",
       "      <td>Jon Jones</td>\n",
       "      <td>32</td>\n",
       "      <td>03-1985</td>\n",
       "      <td>USA</td>\n",
       "      <td>0.67</td>\n",
       "    </tr>\n",
       "    <tr>\n",
       "      <th>2</th>\n",
       "      <td>Connor McGregor</td>\n",
       "      <td>30</td>\n",
       "      <td>09-1992</td>\n",
       "      <td>Ireland</td>\n",
       "      <td>0.23</td>\n",
       "    </tr>\n",
       "  </tbody>\n",
       "</table>\n",
       "</div>"
      ],
      "text/plain": [
       "              Name Ages   D.O.B. Hometown  Accuracy\n",
       "0     Brian Ortega   26  06-1990      USA      0.87\n",
       "1        Jon Jones   32  03-1985      USA      0.67\n",
       "2  Connor McGregor   30  09-1992  Ireland      0.23"
      ]
     },
     "execution_count": 37,
     "metadata": {},
     "output_type": "execute_result"
    }
   ],
   "source": [
    "names = ['Brian Ortega', 'Jon Jones', 'Connor McGregor']\n",
    "ages  = ['26','32','30']\n",
    "dobs  = ['06-1990','03-1985','09-1992'] \n",
    "homes = ['USA','USA','Ireland']\n",
    "accuracies = [0.87,0.67,0.23]\n",
    "\n",
    "fighter_df = pd.DataFrame({'Name': names, 'Ages': ages, 'D.O.B.': dobs,'Hometown': homes, 'Accuracy': accuracies})\n",
    "fighter_df"
   ]
  },
  {
   "cell_type": "code",
   "execution_count": 38,
   "metadata": {
    "ExecuteTime": {
     "end_time": "2019-07-17T17:36:58.126482Z",
     "start_time": "2019-07-17T17:36:58.121593Z"
    },
    "hidden": true
   },
   "outputs": [],
   "source": [
    "fighter_df['D.O.B.'] = pd.to_datetime(fighter_df['D.O.B.'], format='%m-%Y')"
   ]
  },
  {
   "cell_type": "markdown",
   "metadata": {
    "hidden": true
   },
   "source": [
    "## Fight DF"
   ]
  },
  {
   "cell_type": "code",
   "execution_count": 39,
   "metadata": {
    "ExecuteTime": {
     "end_time": "2019-07-17T17:36:58.918677Z",
     "start_time": "2019-07-17T17:36:58.908400Z"
    },
    "hidden": true,
    "scrolled": true
   },
   "outputs": [
    {
     "data": {
      "text/html": [
       "<div>\n",
       "<style scoped>\n",
       "    .dataframe tbody tr th:only-of-type {\n",
       "        vertical-align: middle;\n",
       "    }\n",
       "\n",
       "    .dataframe tbody tr th {\n",
       "        vertical-align: top;\n",
       "    }\n",
       "\n",
       "    .dataframe thead th {\n",
       "        text-align: right;\n",
       "    }\n",
       "</style>\n",
       "<table border=\"1\" class=\"dataframe\">\n",
       "  <thead>\n",
       "    <tr style=\"text-align: right;\">\n",
       "      <th></th>\n",
       "      <th>Fight_ID</th>\n",
       "      <th>Date</th>\n",
       "      <th>Fighter_1</th>\n",
       "      <th>Fighter_2</th>\n",
       "      <th>Winner</th>\n",
       "    </tr>\n",
       "  </thead>\n",
       "  <tbody>\n",
       "    <tr>\n",
       "      <th>0</th>\n",
       "      <td>435</td>\n",
       "      <td>06-2017</td>\n",
       "      <td>Brian Ortega</td>\n",
       "      <td>Connor McGregor</td>\n",
       "      <td>1</td>\n",
       "    </tr>\n",
       "    <tr>\n",
       "      <th>1</th>\n",
       "      <td>654</td>\n",
       "      <td>08-2017</td>\n",
       "      <td>Brian Ortega</td>\n",
       "      <td>Jon Jones</td>\n",
       "      <td>1</td>\n",
       "    </tr>\n",
       "    <tr>\n",
       "      <th>2</th>\n",
       "      <td>796</td>\n",
       "      <td>03-2019</td>\n",
       "      <td>Connor McGregor</td>\n",
       "      <td>Jon Jones</td>\n",
       "      <td>2</td>\n",
       "    </tr>\n",
       "  </tbody>\n",
       "</table>\n",
       "</div>"
      ],
      "text/plain": [
       "   Fight_ID     Date        Fighter_1        Fighter_2  Winner\n",
       "0       435  06-2017     Brian Ortega  Connor McGregor       1\n",
       "1       654  08-2017     Brian Ortega        Jon Jones       1\n",
       "2       796  03-2019  Connor McGregor        Jon Jones       2"
      ]
     },
     "execution_count": 39,
     "metadata": {},
     "output_type": "execute_result"
    }
   ],
   "source": [
    "fight_ids = [435,654,796]\n",
    "dates     = ['06-2017','08-2017','03-2019']\n",
    "fighter_1 = ['Brian Ortega', 'Brian Ortega', 'Connor McGregor']\n",
    "fighter_2 = ['Connor McGregor', 'Jon Jones', 'Jon Jones']\n",
    "winners   = [1,1,2]\n",
    "\n",
    "fight_df = pd.DataFrame({'Fight_ID': fight_ids, 'Date': dates, 'Fighter_1': fighter_1, 'Fighter_2': fighter_2, 'Winner': winners})\n",
    "fight_df"
   ]
  },
  {
   "cell_type": "markdown",
   "metadata": {
    "hidden": true
   },
   "source": [
    "### Add age of each fighter based on date"
   ]
  },
  {
   "cell_type": "code",
   "execution_count": 40,
   "metadata": {
    "ExecuteTime": {
     "end_time": "2019-07-17T17:37:01.221172Z",
     "start_time": "2019-07-17T17:37:01.217935Z"
    },
    "hidden": true
   },
   "outputs": [],
   "source": [
    "# Change Date to datetime\n",
    "fight_df['Date'] = pd.to_datetime(fight_df['Date'], format='%m-%Y')"
   ]
  },
  {
   "cell_type": "code",
   "execution_count": 41,
   "metadata": {
    "ExecuteTime": {
     "end_time": "2019-07-17T17:37:01.226246Z",
     "start_time": "2019-07-17T17:37:01.223067Z"
    },
    "hidden": true
   },
   "outputs": [],
   "source": [
    "# Calculate the age based on date of fight and fighter's dob\n",
    "fight_df['Fighter_1_Age'] = fight_df['Date'] - fighter_df['D.O.B.']"
   ]
  },
  {
   "cell_type": "markdown",
   "metadata": {
    "hidden": true
   },
   "source": [
    "## Merged DF"
   ]
  },
  {
   "cell_type": "code",
   "execution_count": null,
   "metadata": {
    "hidden": true
   },
   "outputs": [],
   "source": []
  },
  {
   "cell_type": "markdown",
   "metadata": {},
   "source": [
    "# Fighter Class"
   ]
  },
  {
   "cell_type": "code",
   "execution_count": 85,
   "metadata": {
    "ExecuteTime": {
     "end_time": "2019-07-18T15:53:38.033326Z",
     "start_time": "2019-07-18T15:53:38.030602Z"
    }
   },
   "outputs": [],
   "source": [
    "import datetime\n",
    "from datetime import timedelta"
   ]
  },
  {
   "cell_type": "code",
   "execution_count": 90,
   "metadata": {
    "ExecuteTime": {
     "end_time": "2019-07-18T15:54:53.823986Z",
     "start_time": "2019-07-18T15:54:53.819659Z"
    }
   },
   "outputs": [
    {
     "data": {
      "text/plain": [
       "29"
      ]
     },
     "execution_count": 90,
     "metadata": {},
     "output_type": "execute_result"
    }
   ],
   "source": [
    "today = datetime.date.today()\n",
    "\n",
    "date_of_birth = datetime.date(1989, 11, 15)\n",
    "age = int(((today-date_of_birth).days)/365)\n",
    "age"
   ]
  },
  {
   "cell_type": "code",
   "execution_count": 45,
   "metadata": {
    "ExecuteTime": {
     "end_time": "2019-07-18T15:39:47.567769Z",
     "start_time": "2019-07-18T15:39:47.565254Z"
    }
   },
   "outputs": [],
   "source": [
    "dob = 19900506"
   ]
  },
  {
   "cell_type": "code",
   "execution_count": 111,
   "metadata": {
    "ExecuteTime": {
     "end_time": "2019-07-18T16:55:48.673569Z",
     "start_time": "2019-07-18T16:55:48.670468Z"
    }
   },
   "outputs": [],
   "source": [
    "\n",
    "s = \"20120213\"\n",
    "# you could also import date instead of datetime and use that.\n",
    "date_formatted = datetime.datetime(year=int(s[0:4]), month=int(s[4:6]), day=int(s[6:8])).strftime(\"%Y-%m-%d\")"
   ]
  },
  {
   "cell_type": "code",
   "execution_count": 112,
   "metadata": {
    "ExecuteTime": {
     "end_time": "2019-07-18T16:55:53.375611Z",
     "start_time": "2019-07-18T16:55:53.372168Z"
    }
   },
   "outputs": [
    {
     "data": {
      "text/plain": [
       "'2012-02-13'"
      ]
     },
     "execution_count": 112,
     "metadata": {},
     "output_type": "execute_result"
    }
   ],
   "source": [
    "date_formatted"
   ]
  },
  {
   "cell_type": "code",
   "execution_count": 125,
   "metadata": {
    "ExecuteTime": {
     "end_time": "2019-07-18T17:12:32.148150Z",
     "start_time": "2019-07-18T17:12:32.145577Z"
    },
    "scrolled": true
   },
   "outputs": [],
   "source": [
    "today = datetime.date.today"
   ]
  },
  {
   "cell_type": "code",
   "execution_count": 119,
   "metadata": {
    "ExecuteTime": {
     "end_time": "2019-07-18T16:56:15.819884Z",
     "start_time": "2019-07-18T16:56:15.817895Z"
    }
   },
   "outputs": [],
   "source": [
    "today = datetime.date.today()"
   ]
  },
  {
   "cell_type": "code",
   "execution_count": 120,
   "metadata": {
    "ExecuteTime": {
     "end_time": "2019-07-18T16:56:16.167263Z",
     "start_time": "2019-07-18T16:56:16.163757Z"
    }
   },
   "outputs": [
    {
     "data": {
      "text/plain": [
       "datetime.date(2019, 7, 18)"
      ]
     },
     "execution_count": 120,
     "metadata": {},
     "output_type": "execute_result"
    }
   ],
   "source": [
    "today"
   ]
  },
  {
   "cell_type": "code",
   "execution_count": 126,
   "metadata": {
    "ExecuteTime": {
     "end_time": "2019-07-18T17:12:45.509082Z",
     "start_time": "2019-07-18T17:12:45.501709Z"
    }
   },
   "outputs": [
    {
     "ename": "TypeError",
     "evalue": "unsupported operand type(s) for -: 'datetime.date' and 'datetime.datetime'",
     "output_type": "error",
     "traceback": [
      "\u001b[0;31m---------------------------------------------------------------------------\u001b[0m",
      "\u001b[0;31mTypeError\u001b[0m                                 Traceback (most recent call last)",
      "\u001b[0;32m<ipython-input-126-242e2d8e7d8e>\u001b[0m in \u001b[0;36m<module>\u001b[0;34m()\u001b[0m\n\u001b[1;32m      6\u001b[0m \u001b[0;31m# dd = int(self.dob[6:8])\u001b[0m\u001b[0;34m\u001b[0m\u001b[0;34m\u001b[0m\u001b[0m\n\u001b[1;32m      7\u001b[0m \u001b[0;31m# dob = datetime.date(yyyy, mm, dd)\u001b[0m\u001b[0;34m\u001b[0m\u001b[0;34m\u001b[0m\u001b[0m\n\u001b[0;32m----> 8\u001b[0;31m \u001b[0mage_days\u001b[0m \u001b[0;34m=\u001b[0m \u001b[0;34m(\u001b[0m\u001b[0mtoday\u001b[0m\u001b[0;34m-\u001b[0m\u001b[0mdob\u001b[0m\u001b[0;34m)\u001b[0m\u001b[0;34m.\u001b[0m\u001b[0mdays\u001b[0m\u001b[0;34m\u001b[0m\u001b[0m\n\u001b[0m\u001b[1;32m      9\u001b[0m \u001b[0mage_years\u001b[0m \u001b[0;34m=\u001b[0m \u001b[0mage_days\u001b[0m \u001b[0;34m/\u001b[0m \u001b[0;36m365\u001b[0m\u001b[0;34m\u001b[0m\u001b[0m\n",
      "\u001b[0;31mTypeError\u001b[0m: unsupported operand type(s) for -: 'datetime.date' and 'datetime.datetime'"
     ]
    }
   ],
   "source": [
    "today = datetime.date.today()\n",
    "dob = datetime.datetime(year=int(s[0:4]), month=int(s[4:6]), day=int(s[6:8]))\n",
    "\n",
    "# yyyy = int(self.dob[0:4])\n",
    "# mm = int(self.dob[4:6])\n",
    "# dd = int(self.dob[6:8])\n",
    "# dob = datetime.date(yyyy, mm, dd)\n",
    "age_days = (today-dob).days\n",
    "age_years = age_days / 365"
   ]
  },
  {
   "cell_type": "code",
   "execution_count": 131,
   "metadata": {
    "ExecuteTime": {
     "end_time": "2019-07-18T17:18:39.904592Z",
     "start_time": "2019-07-18T17:18:39.894218Z"
    }
   },
   "outputs": [
    {
     "ename": "TypeError",
     "evalue": "'datetime.date' object is not subscriptable",
     "output_type": "error",
     "traceback": [
      "\u001b[0;31m---------------------------------------------------------------------------\u001b[0m",
      "\u001b[0;31mTypeError\u001b[0m                                 Traceback (most recent call last)",
      "\u001b[0;32m<ipython-input-131-d7a83a8a2750>\u001b[0m in \u001b[0;36m<module>\u001b[0;34m()\u001b[0m\n\u001b[1;32m      8\u001b[0m \u001b[0;34m\u001b[0m\u001b[0m\n\u001b[1;32m      9\u001b[0m \u001b[0;31m# Driver code\u001b[0m\u001b[0;34m\u001b[0m\u001b[0;34m\u001b[0m\u001b[0m\n\u001b[0;32m---> 10\u001b[0;31m \u001b[0mprint\u001b[0m\u001b[0;34m(\u001b[0m\u001b[0mcalculateAge\u001b[0m\u001b[0;34m(\u001b[0m\u001b[0mdate\u001b[0m\u001b[0;34m(\u001b[0m\u001b[0;36m1997\u001b[0m\u001b[0;34m,\u001b[0m \u001b[0;36m2\u001b[0m\u001b[0;34m,\u001b[0m \u001b[0;36m3\u001b[0m\u001b[0;34m)\u001b[0m\u001b[0;34m)\u001b[0m\u001b[0;34m,\u001b[0m \u001b[0;34m\"years\"\u001b[0m\u001b[0;34m)\u001b[0m\u001b[0;34m\u001b[0m\u001b[0m\n\u001b[0m",
      "\u001b[0;32m<ipython-input-131-d7a83a8a2750>\u001b[0m in \u001b[0;36mcalculateAge\u001b[0;34m(birthDate)\u001b[0m\n\u001b[1;32m      3\u001b[0m \u001b[0;32mdef\u001b[0m \u001b[0mcalculateAge\u001b[0m\u001b[0;34m(\u001b[0m\u001b[0mbirthDate\u001b[0m\u001b[0;34m)\u001b[0m\u001b[0;34m:\u001b[0m\u001b[0;34m\u001b[0m\u001b[0m\n\u001b[1;32m      4\u001b[0m     \u001b[0mtoday\u001b[0m \u001b[0;34m=\u001b[0m \u001b[0mdate\u001b[0m\u001b[0;34m.\u001b[0m\u001b[0mtoday\u001b[0m\u001b[0;34m(\u001b[0m\u001b[0;34m)\u001b[0m\u001b[0;34m\u001b[0m\u001b[0m\n\u001b[0;32m----> 5\u001b[0;31m     \u001b[0mdateOfBirth\u001b[0m \u001b[0;34m=\u001b[0m \u001b[0mdatetime\u001b[0m\u001b[0;34m.\u001b[0m\u001b[0mdate\u001b[0m\u001b[0;34m(\u001b[0m\u001b[0myear\u001b[0m\u001b[0;34m=\u001b[0m\u001b[0mint\u001b[0m\u001b[0;34m(\u001b[0m\u001b[0mbirthDate\u001b[0m\u001b[0;34m[\u001b[0m\u001b[0;36m0\u001b[0m\u001b[0;34m:\u001b[0m\u001b[0;36m4\u001b[0m\u001b[0;34m]\u001b[0m\u001b[0;34m)\u001b[0m\u001b[0;34m,\u001b[0m \u001b[0mmonth\u001b[0m\u001b[0;34m=\u001b[0m\u001b[0mint\u001b[0m\u001b[0;34m(\u001b[0m\u001b[0mbirthDate\u001b[0m\u001b[0;34m[\u001b[0m\u001b[0;36m4\u001b[0m\u001b[0;34m:\u001b[0m\u001b[0;36m6\u001b[0m\u001b[0;34m]\u001b[0m\u001b[0;34m)\u001b[0m\u001b[0;34m,\u001b[0m \u001b[0mday\u001b[0m\u001b[0;34m=\u001b[0m\u001b[0mint\u001b[0m\u001b[0;34m(\u001b[0m\u001b[0mbirthDate\u001b[0m\u001b[0;34m[\u001b[0m\u001b[0;36m6\u001b[0m\u001b[0;34m:\u001b[0m\u001b[0;36m8\u001b[0m\u001b[0;34m]\u001b[0m\u001b[0;34m)\u001b[0m\u001b[0;34m)\u001b[0m\u001b[0;34m\u001b[0m\u001b[0m\n\u001b[0m\u001b[1;32m      6\u001b[0m     \u001b[0mage\u001b[0m \u001b[0;34m=\u001b[0m \u001b[0mtoday\u001b[0m\u001b[0;34m.\u001b[0m\u001b[0myear\u001b[0m \u001b[0;34m-\u001b[0m \u001b[0mdateOfBirth\u001b[0m\u001b[0;34m.\u001b[0m\u001b[0myear\u001b[0m \u001b[0;34m-\u001b[0m \u001b[0;34m(\u001b[0m\u001b[0;34m(\u001b[0m\u001b[0mtoday\u001b[0m\u001b[0;34m.\u001b[0m\u001b[0mmonth\u001b[0m\u001b[0;34m,\u001b[0m \u001b[0mtoday\u001b[0m\u001b[0;34m.\u001b[0m\u001b[0mday\u001b[0m\u001b[0;34m)\u001b[0m \u001b[0;34m<\u001b[0m \u001b[0;34m(\u001b[0m\u001b[0mdateOfBirth\u001b[0m\u001b[0;34m.\u001b[0m\u001b[0mmonth\u001b[0m\u001b[0;34m,\u001b[0m \u001b[0mdateOfBirth\u001b[0m\u001b[0;34m.\u001b[0m\u001b[0mday\u001b[0m\u001b[0;34m)\u001b[0m\u001b[0;34m)\u001b[0m\u001b[0;34m\u001b[0m\u001b[0m\n\u001b[1;32m      7\u001b[0m     \u001b[0;32mreturn\u001b[0m \u001b[0mage\u001b[0m\u001b[0;34m\u001b[0m\u001b[0m\n",
      "\u001b[0;31mTypeError\u001b[0m: 'datetime.date' object is not subscriptable"
     ]
    }
   ],
   "source": [
    "from datetime import date \n",
    "  \n",
    "def calculateAge(birthDate): \n",
    "    today = date.today() \n",
    "    dateOfBirth = datetime.date(year=int(birthDate[0:4]), month=int(birthDate[4:6]), day=int(birthDate[6:8]))\n",
    "    age = today.year - dateOfBirth.year - ((today.month, today.day) < (dateOfBirth.month, dateOfBirth.day))   \n",
    "    return age \n",
    "      \n",
    "# Driver code  \n",
    "print(calculateAge(date(1997, 2, 3)), \"years\")"
   ]
  },
  {
   "cell_type": "code",
   "execution_count": 37,
   "metadata": {
    "ExecuteTime": {
     "end_time": "2019-07-18T15:38:10.471962Z",
     "start_time": "2019-07-18T15:38:10.465952Z"
    }
   },
   "outputs": [],
   "source": [
    "class Fighter():\n",
    "    \"\"\"A fighter within the UFC.  Keeps track of attrributes such as name, hometown and age, \n",
    "    as well as methods for updating statistics from each fight\"\"\"\n",
    "    \n",
    "    def __init__(self, name, date_of_birth, height, home_town):\n",
    "        \"\"\"name: (str) first name and last name\n",
    "           date_of_birth: (yyyymmdd)\n",
    "           height: (in centimeters)\n",
    "           home_town: The figher's birthplace\"\"\"\n",
    "        self.name = name\n",
    "        self.first_name = name.split(\" \")[0]\n",
    "        self.last_name = name.split(\" \")[-1]\n",
    "        self.dob = date_of_birth\n",
    "        self.height = height        \n",
    "        self.home = home_town.split(\" \")[-1]  # We are only interested in the country of birth\n",
    "        \n",
    "        # Age\n",
    "        self.age = None\n",
    "        \n",
    "        # Performance Statistics\n",
    "        self.previous = None\n",
    "        self.streak = None\n",
    "        \n",
    "        # Fight Statistics\n",
    "        self.strikes_avg     = None\n",
    "        self.sig_strikes_avg = None\n",
    "        self.strikes_acc     = None\n",
    "        self.sig_strikes_acc = None\n",
    "        self.dom_pos_avg     = None\n",
    "    \n",
    "    def age(self):\n",
    "        '''Returns the age of the fighter in years'''\n",
    "        today = datetime.date.today()\n",
    "        dob = datetime(year=int(s[0:4]), month=int(s[4:6]), day=int(s[6:8]))\n",
    "        \n",
    "        yyyy = int(self.dob[0:4])\n",
    "        mm = int(self.dob[4:6])\n",
    "        dd = int(self.dob[6:8])\n",
    "        dob = datetime.date(yyyy, mm, dd)\n",
    "        age_days = (today-dob).days\n",
    "        age_years = age_days / 365\n",
    "        \n",
    "        return int(age_years)\n",
    "    \n",
    "    def fight(self):\n",
    "        \"\"\"Updates the fighter's statistics with the latest fight\"\"\""
   ]
  },
  {
   "cell_type": "code",
   "execution_count": 38,
   "metadata": {
    "ExecuteTime": {
     "end_time": "2019-07-18T15:38:11.613726Z",
     "start_time": "2019-07-18T15:38:11.610131Z"
    },
    "scrolled": true
   },
   "outputs": [
    {
     "name": "stdout",
     "output_type": "stream",
     "text": [
      "Help on class Fighter in module __main__:\n",
      "\n",
      "class Fighter(builtins.object)\n",
      " |  A fighter within the UFC.  Keeps track of attrributes such as name, hometown and age, \n",
      " |  as well as methods for updating statistics from each fight\n",
      " |  \n",
      " |  Methods defined here:\n",
      " |  \n",
      " |  __init__(self, name, date_of_birth, height, home_town)\n",
      " |      name: (str) first name and last name\n",
      " |      date_of_birth: (yyyymmdd)\n",
      " |      height: (in centimeters)\n",
      " |      home_town: The figher's birthplace\n",
      " |  \n",
      " |  age(self)\n",
      " |      Returns the age of the fighter in years\n",
      " |  \n",
      " |  fight(self)\n",
      " |      Updates the fighter's statistics with the latest fight\n",
      " |  \n",
      " |  ----------------------------------------------------------------------\n",
      " |  Data descriptors defined here:\n",
      " |  \n",
      " |  __dict__\n",
      " |      dictionary for instance variables (if defined)\n",
      " |  \n",
      " |  __weakref__\n",
      " |      list of weak references to the object (if defined)\n",
      "\n"
     ]
    }
   ],
   "source": [
    "help(Fighter)"
   ]
  },
  {
   "cell_type": "code",
   "execution_count": 40,
   "metadata": {
    "ExecuteTime": {
     "end_time": "2019-07-18T15:38:56.050880Z",
     "start_time": "2019-07-18T15:38:56.048625Z"
    }
   },
   "outputs": [],
   "source": [
    "fighter_jon_jones = Fighter('Jon Jones', '19900503', 195, 'Phoenix Arizona USA')"
   ]
  },
  {
   "cell_type": "code",
   "execution_count": 42,
   "metadata": {
    "ExecuteTime": {
     "end_time": "2019-07-18T15:39:04.336275Z",
     "start_time": "2019-07-18T15:39:04.332363Z"
    }
   },
   "outputs": [
    {
     "data": {
      "text/plain": [
       "'Jones'"
      ]
     },
     "execution_count": 42,
     "metadata": {},
     "output_type": "execute_result"
    }
   ],
   "source": [
    "fighter_jon_jones.last_name"
   ]
  },
  {
   "cell_type": "code",
   "execution_count": 44,
   "metadata": {
    "ExecuteTime": {
     "end_time": "2019-07-18T15:39:16.604326Z",
     "start_time": "2019-07-18T15:39:16.600646Z"
    }
   },
   "outputs": [
    {
     "data": {
      "text/plain": [
       "'19900503'"
      ]
     },
     "execution_count": 44,
     "metadata": {},
     "output_type": "execute_result"
    }
   ],
   "source": [
    "fighter_jon_jones.dob"
   ]
  },
  {
   "cell_type": "code",
   "execution_count": null,
   "metadata": {},
   "outputs": [],
   "source": [
    "class Fight():\n",
    "    ''''''\n",
    "    \n",
    "    def __init__(fighter1, fighter2, date):\n",
    "        '''fighter1 = Name of the first fighter\n",
    "           figthter2 = Name of the second fighter\n",
    "           date = Date that the figtht took place'''\n",
    "        self.f1 = fighter1\n",
    "        self.f2 = fighter2\n",
    "        self.date = date"
   ]
  },
  {
   "cell_type": "code",
   "execution_count": 6,
   "metadata": {
    "ExecuteTime": {
     "end_time": "2019-07-17T16:58:13.216506Z",
     "start_time": "2019-07-17T16:58:13.213035Z"
    }
   },
   "outputs": [
    {
     "name": "stdout",
     "output_type": "stream",
     "text": [
      "John Jones\n",
      "32\n",
      "Hello my name is John Jones\n"
     ]
    }
   ],
   "source": [
    "f1 = Fighter(\"John Jones\", 32)\n",
    "\n",
    "print(f1.name)\n",
    "print(f1.age)\n",
    "f1.myfunc()"
   ]
  },
  {
   "cell_type": "markdown",
   "metadata": {
    "heading_collapsed": true
   },
   "source": [
    "# Fight Class"
   ]
  },
  {
   "cell_type": "code",
   "execution_count": null,
   "metadata": {
    "hidden": true
   },
   "outputs": [],
   "source": []
  },
  {
   "cell_type": "markdown",
   "metadata": {
    "heading_collapsed": true
   },
   "source": [
    "# New column for last word of HomeTown or Location"
   ]
  },
  {
   "cell_type": "code",
   "execution_count": 42,
   "metadata": {
    "ExecuteTime": {
     "end_time": "2019-07-17T17:37:05.292618Z",
     "start_time": "2019-07-17T17:37:05.283788Z"
    },
    "hidden": true
   },
   "outputs": [
    {
     "data": {
      "text/html": [
       "<div>\n",
       "<style scoped>\n",
       "    .dataframe tbody tr th:only-of-type {\n",
       "        vertical-align: middle;\n",
       "    }\n",
       "\n",
       "    .dataframe tbody tr th {\n",
       "        vertical-align: top;\n",
       "    }\n",
       "\n",
       "    .dataframe thead th {\n",
       "        text-align: right;\n",
       "    }\n",
       "</style>\n",
       "<table border=\"1\" class=\"dataframe\">\n",
       "  <thead>\n",
       "    <tr style=\"text-align: right;\">\n",
       "      <th></th>\n",
       "      <th>Fight_ID</th>\n",
       "      <th>Date</th>\n",
       "      <th>Fighter_1</th>\n",
       "      <th>Fighter_2</th>\n",
       "      <th>Winner</th>\n",
       "      <th>Fighter_1_Age</th>\n",
       "    </tr>\n",
       "  </thead>\n",
       "  <tbody>\n",
       "    <tr>\n",
       "      <th>0</th>\n",
       "      <td>435</td>\n",
       "      <td>2017-06-01</td>\n",
       "      <td>Brian Ortega</td>\n",
       "      <td>Connor McGregor</td>\n",
       "      <td>1</td>\n",
       "      <td>9862 days</td>\n",
       "    </tr>\n",
       "    <tr>\n",
       "      <th>1</th>\n",
       "      <td>654</td>\n",
       "      <td>2017-08-01</td>\n",
       "      <td>Brian Ortega</td>\n",
       "      <td>Jon Jones</td>\n",
       "      <td>1</td>\n",
       "      <td>11841 days</td>\n",
       "    </tr>\n",
       "    <tr>\n",
       "      <th>2</th>\n",
       "      <td>796</td>\n",
       "      <td>2019-03-01</td>\n",
       "      <td>Connor McGregor</td>\n",
       "      <td>Jon Jones</td>\n",
       "      <td>2</td>\n",
       "      <td>9677 days</td>\n",
       "    </tr>\n",
       "  </tbody>\n",
       "</table>\n",
       "</div>"
      ],
      "text/plain": [
       "   Fight_ID       Date        Fighter_1        Fighter_2  Winner Fighter_1_Age\n",
       "0       435 2017-06-01     Brian Ortega  Connor McGregor       1     9862 days\n",
       "1       654 2017-08-01     Brian Ortega        Jon Jones       1    11841 days\n",
       "2       796 2019-03-01  Connor McGregor        Jon Jones       2     9677 days"
      ]
     },
     "execution_count": 42,
     "metadata": {},
     "output_type": "execute_result"
    }
   ],
   "source": [
    "fight_df"
   ]
  },
  {
   "cell_type": "code",
   "execution_count": 43,
   "metadata": {
    "ExecuteTime": {
     "end_time": "2019-07-17T17:37:11.460513Z",
     "start_time": "2019-07-17T17:37:11.452010Z"
    },
    "hidden": true
   },
   "outputs": [
    {
     "data": {
      "text/html": [
       "<div>\n",
       "<style scoped>\n",
       "    .dataframe tbody tr th:only-of-type {\n",
       "        vertical-align: middle;\n",
       "    }\n",
       "\n",
       "    .dataframe tbody tr th {\n",
       "        vertical-align: top;\n",
       "    }\n",
       "\n",
       "    .dataframe thead th {\n",
       "        text-align: right;\n",
       "    }\n",
       "</style>\n",
       "<table border=\"1\" class=\"dataframe\">\n",
       "  <thead>\n",
       "    <tr style=\"text-align: right;\">\n",
       "      <th></th>\n",
       "      <th>Name</th>\n",
       "      <th>Ages</th>\n",
       "      <th>D.O.B.</th>\n",
       "      <th>Hometown</th>\n",
       "      <th>Accuracy</th>\n",
       "    </tr>\n",
       "  </thead>\n",
       "  <tbody>\n",
       "    <tr>\n",
       "      <th>0</th>\n",
       "      <td>Brian Ortega</td>\n",
       "      <td>26</td>\n",
       "      <td>1990-06-01</td>\n",
       "      <td>USA</td>\n",
       "      <td>0.87</td>\n",
       "    </tr>\n",
       "    <tr>\n",
       "      <th>1</th>\n",
       "      <td>Jon Jones</td>\n",
       "      <td>32</td>\n",
       "      <td>1985-03-01</td>\n",
       "      <td>USA</td>\n",
       "      <td>0.67</td>\n",
       "    </tr>\n",
       "    <tr>\n",
       "      <th>2</th>\n",
       "      <td>Connor McGregor</td>\n",
       "      <td>30</td>\n",
       "      <td>1992-09-01</td>\n",
       "      <td>Ireland</td>\n",
       "      <td>0.23</td>\n",
       "    </tr>\n",
       "  </tbody>\n",
       "</table>\n",
       "</div>"
      ],
      "text/plain": [
       "              Name Ages     D.O.B. Hometown  Accuracy\n",
       "0     Brian Ortega   26 1990-06-01      USA      0.87\n",
       "1        Jon Jones   32 1985-03-01      USA      0.67\n",
       "2  Connor McGregor   30 1992-09-01  Ireland      0.23"
      ]
     },
     "execution_count": 43,
     "metadata": {},
     "output_type": "execute_result"
    }
   ],
   "source": [
    "fighter_df"
   ]
  },
  {
   "cell_type": "code",
   "execution_count": 46,
   "metadata": {
    "ExecuteTime": {
     "end_time": "2019-07-17T17:38:42.910720Z",
     "start_time": "2019-07-17T17:38:42.907267Z"
    },
    "hidden": true
   },
   "outputs": [],
   "source": [
    "fighter_df['Surname'] = fighter_df['Name'].apply(lambda x: x.split()[-1])"
   ]
  },
  {
   "cell_type": "code",
   "execution_count": 47,
   "metadata": {
    "ExecuteTime": {
     "end_time": "2019-07-17T17:38:48.720148Z",
     "start_time": "2019-07-17T17:38:48.711739Z"
    },
    "hidden": true
   },
   "outputs": [
    {
     "data": {
      "text/html": [
       "<div>\n",
       "<style scoped>\n",
       "    .dataframe tbody tr th:only-of-type {\n",
       "        vertical-align: middle;\n",
       "    }\n",
       "\n",
       "    .dataframe tbody tr th {\n",
       "        vertical-align: top;\n",
       "    }\n",
       "\n",
       "    .dataframe thead th {\n",
       "        text-align: right;\n",
       "    }\n",
       "</style>\n",
       "<table border=\"1\" class=\"dataframe\">\n",
       "  <thead>\n",
       "    <tr style=\"text-align: right;\">\n",
       "      <th></th>\n",
       "      <th>Name</th>\n",
       "      <th>Ages</th>\n",
       "      <th>D.O.B.</th>\n",
       "      <th>Hometown</th>\n",
       "      <th>Accuracy</th>\n",
       "      <th>Surname</th>\n",
       "    </tr>\n",
       "  </thead>\n",
       "  <tbody>\n",
       "    <tr>\n",
       "      <th>0</th>\n",
       "      <td>Brian Ortega</td>\n",
       "      <td>26</td>\n",
       "      <td>1990-06-01</td>\n",
       "      <td>USA</td>\n",
       "      <td>0.87</td>\n",
       "      <td>Ortega</td>\n",
       "    </tr>\n",
       "    <tr>\n",
       "      <th>1</th>\n",
       "      <td>Jon Jones</td>\n",
       "      <td>32</td>\n",
       "      <td>1985-03-01</td>\n",
       "      <td>USA</td>\n",
       "      <td>0.67</td>\n",
       "      <td>Jones</td>\n",
       "    </tr>\n",
       "    <tr>\n",
       "      <th>2</th>\n",
       "      <td>Connor McGregor</td>\n",
       "      <td>30</td>\n",
       "      <td>1992-09-01</td>\n",
       "      <td>Ireland</td>\n",
       "      <td>0.23</td>\n",
       "      <td>McGregor</td>\n",
       "    </tr>\n",
       "  </tbody>\n",
       "</table>\n",
       "</div>"
      ],
      "text/plain": [
       "              Name Ages     D.O.B. Hometown  Accuracy   Surname\n",
       "0     Brian Ortega   26 1990-06-01      USA      0.87    Ortega\n",
       "1        Jon Jones   32 1985-03-01      USA      0.67     Jones\n",
       "2  Connor McGregor   30 1992-09-01  Ireland      0.23  McGregor"
      ]
     },
     "execution_count": 47,
     "metadata": {},
     "output_type": "execute_result"
    }
   ],
   "source": [
    "fighter_df"
   ]
  },
  {
   "cell_type": "code",
   "execution_count": 50,
   "metadata": {
    "ExecuteTime": {
     "end_time": "2019-07-17T17:41:13.286448Z",
     "start_time": "2019-07-17T17:41:13.281845Z"
    },
    "hidden": true
   },
   "outputs": [],
   "source": [
    "fighter_df.drop('Surname', axis=1, inplace=True)"
   ]
  },
  {
   "cell_type": "code",
   "execution_count": 51,
   "metadata": {
    "ExecuteTime": {
     "end_time": "2019-07-17T17:41:13.921564Z",
     "start_time": "2019-07-17T17:41:13.913887Z"
    },
    "hidden": true
   },
   "outputs": [
    {
     "data": {
      "text/html": [
       "<div>\n",
       "<style scoped>\n",
       "    .dataframe tbody tr th:only-of-type {\n",
       "        vertical-align: middle;\n",
       "    }\n",
       "\n",
       "    .dataframe tbody tr th {\n",
       "        vertical-align: top;\n",
       "    }\n",
       "\n",
       "    .dataframe thead th {\n",
       "        text-align: right;\n",
       "    }\n",
       "</style>\n",
       "<table border=\"1\" class=\"dataframe\">\n",
       "  <thead>\n",
       "    <tr style=\"text-align: right;\">\n",
       "      <th></th>\n",
       "      <th>Name</th>\n",
       "      <th>Ages</th>\n",
       "      <th>D.O.B.</th>\n",
       "      <th>Hometown</th>\n",
       "      <th>Accuracy</th>\n",
       "    </tr>\n",
       "  </thead>\n",
       "  <tbody>\n",
       "    <tr>\n",
       "      <th>0</th>\n",
       "      <td>Brian Ortega</td>\n",
       "      <td>26</td>\n",
       "      <td>1990-06-01</td>\n",
       "      <td>USA</td>\n",
       "      <td>0.87</td>\n",
       "    </tr>\n",
       "    <tr>\n",
       "      <th>1</th>\n",
       "      <td>Jon Jones</td>\n",
       "      <td>32</td>\n",
       "      <td>1985-03-01</td>\n",
       "      <td>USA</td>\n",
       "      <td>0.67</td>\n",
       "    </tr>\n",
       "    <tr>\n",
       "      <th>2</th>\n",
       "      <td>Connor McGregor</td>\n",
       "      <td>30</td>\n",
       "      <td>1992-09-01</td>\n",
       "      <td>Ireland</td>\n",
       "      <td>0.23</td>\n",
       "    </tr>\n",
       "  </tbody>\n",
       "</table>\n",
       "</div>"
      ],
      "text/plain": [
       "              Name Ages     D.O.B. Hometown  Accuracy\n",
       "0     Brian Ortega   26 1990-06-01      USA      0.87\n",
       "1        Jon Jones   32 1985-03-01      USA      0.67\n",
       "2  Connor McGregor   30 1992-09-01  Ireland      0.23"
      ]
     },
     "execution_count": 51,
     "metadata": {},
     "output_type": "execute_result"
    }
   ],
   "source": [
    "fighter_df"
   ]
  },
  {
   "cell_type": "code",
   "execution_count": null,
   "metadata": {
    "hidden": true
   },
   "outputs": [],
   "source": []
  },
  {
   "cell_type": "markdown",
   "metadata": {
    "heading_collapsed": true
   },
   "source": [
    "# Practice with classes\n",
    "\n",
    "https://www.youtube.com/watch?v=ZDa-Z5JzLYM&list=PL-osiE80TeTsqhIuOqKhwlXsIBIdSeYtc"
   ]
  },
  {
   "cell_type": "code",
   "execution_count": 161,
   "metadata": {
    "ExecuteTime": {
     "end_time": "2019-07-20T02:15:32.091188Z",
     "start_time": "2019-07-20T02:15:32.087422Z"
    },
    "hidden": true
   },
   "outputs": [
    {
     "data": {
      "text/plain": [
       "datetime.date(2019, 7, 19)"
      ]
     },
     "execution_count": 161,
     "metadata": {},
     "output_type": "execute_result"
    }
   ],
   "source": [
    "import datetime\n",
    "today = datetime.date.today()\n",
    "date_of_birth = datetime.date(1989, 11, 15)\n",
    "age = ((today-date_of_birth).days)//365\n",
    "age"
   ]
  },
  {
   "cell_type": "code",
   "execution_count": 229,
   "metadata": {
    "ExecuteTime": {
     "end_time": "2019-07-20T02:38:34.943293Z",
     "start_time": "2019-07-20T02:38:34.938018Z"
    },
    "hidden": true
   },
   "outputs": [],
   "source": [
    "class Fighter:\n",
    "    \n",
    "    today = datetime.date.today()\n",
    "    \n",
    "    def __init__(self, first, last, dob, fights, wins):\n",
    "        \"\"\"first: fighter's first name\n",
    "           last: fighter's last name\n",
    "           dob: format (int) yyyymmdd\"\"\"\n",
    "        self.first = first\n",
    "        self.last = last\n",
    "        yyyy = int(str(dob)[:4])\n",
    "        mm = int(str(dob)[4:6])\n",
    "        dd = int(str(dob)[6:8])\n",
    "        self.dob = datetime.date(yyyy, mm, dd)\n",
    "        self.age = (self.today - self.dob).days//365\n",
    "        self.fights = fights\n",
    "        self.wins = wins\n",
    "        self.win_pct = wins / fights\n",
    "\n",
    "    def fullname(self):\n",
    "        \"\"\"Returns the full name of the fighter\"\"\"\n",
    "        return '{} {}'.format(self.first, self.last)\n",
    "    \n",
    "    def update_age(self, date):\n",
    "        \"\"\"Sets the age of the fighter to the age they would be at a given date \"\"\"\n",
    "        yyyy = int(str(date)[:4])\n",
    "        mm = int(str(date)[4:6])\n",
    "        dd = int(str(date)[6:8])\n",
    "        fight_date = datetime.date(yyyy, mm, dd)\n",
    "        self.age = (fight_date - self.dob).days//365"
   ]
  },
  {
   "cell_type": "code",
   "execution_count": 243,
   "metadata": {
    "ExecuteTime": {
     "end_time": "2019-07-20T19:45:51.192883Z",
     "start_time": "2019-07-20T19:45:51.190513Z"
    },
    "hidden": true
   },
   "outputs": [],
   "source": [
    "# function for calculating age at a date\n",
    "# INPUT FUNCTION HERE TO CLEAN UP CLASS"
   ]
  },
  {
   "cell_type": "code",
   "execution_count": 230,
   "metadata": {
    "ExecuteTime": {
     "end_time": "2019-07-20T02:38:35.472013Z",
     "start_time": "2019-07-20T02:38:35.469240Z"
    },
    "hidden": true
   },
   "outputs": [],
   "source": [
    "fighter1 = Fighter('Bruce', 'Lee', 19600104, 24, 20)\n",
    "fighter2 = Fighter('Jackie', 'Chan', 19780503, 16, 15)"
   ]
  },
  {
   "cell_type": "code",
   "execution_count": 226,
   "metadata": {
    "ExecuteTime": {
     "end_time": "2019-07-20T02:38:24.099811Z",
     "start_time": "2019-07-20T02:38:24.096808Z"
    },
    "hidden": true
   },
   "outputs": [
    {
     "name": "stdout",
     "output_type": "stream",
     "text": [
      "Bruce Lee\n",
      "Bruce Lee\n"
     ]
    }
   ],
   "source": [
    "print(fighter1.fullname())\n",
    "\n",
    "# this is the same as above, but might make it easier to update statistics for instance.\n",
    "print(Fighter.fullname(fighter1))"
   ]
  },
  {
   "cell_type": "code",
   "execution_count": 227,
   "metadata": {
    "ExecuteTime": {
     "end_time": "2019-07-20T02:38:24.314274Z",
     "start_time": "2019-07-20T02:38:24.309632Z"
    },
    "hidden": true
   },
   "outputs": [
    {
     "data": {
      "text/plain": [
       "{'first': 'Bruce',\n",
       " 'last': 'Lee',\n",
       " 'dob': datetime.date(1960, 1, 4),\n",
       " 'age': 59,\n",
       " 'fights': 24,\n",
       " 'wins': 20,\n",
       " 'win_pct': 0.8333333333333334}"
      ]
     },
     "execution_count": 227,
     "metadata": {},
     "output_type": "execute_result"
    }
   ],
   "source": [
    "# Returns the namespace of fighter1\n",
    "fighter1.__dict__"
   ]
  },
  {
   "cell_type": "code",
   "execution_count": 231,
   "metadata": {
    "ExecuteTime": {
     "end_time": "2019-07-20T02:38:37.919598Z",
     "start_time": "2019-07-20T02:38:37.916191Z"
    },
    "hidden": true
   },
   "outputs": [
    {
     "name": "stdout",
     "output_type": "stream",
     "text": [
      "59\n",
      "55\n"
     ]
    }
   ],
   "source": [
    "# test the update_age method\n",
    "print(fighter1.age)\n",
    "fighter1.update_age(20150604)\n",
    "print(fighter1.age)"
   ]
  },
  {
   "cell_type": "markdown",
   "metadata": {
    "heading_collapsed": true
   },
   "source": [
    "# Exploring Yuan's 3 csv files"
   ]
  },
  {
   "cell_type": "code",
   "execution_count": 250,
   "metadata": {
    "ExecuteTime": {
     "end_time": "2019-07-20T19:47:42.033821Z",
     "start_time": "2019-07-20T19:47:41.526276Z"
    },
    "hidden": true
   },
   "outputs": [],
   "source": [
    "import pandas as pd"
   ]
  },
  {
   "cell_type": "code",
   "execution_count": 249,
   "metadata": {
    "ExecuteTime": {
     "end_time": "2019-07-20T19:47:20.280936Z",
     "start_time": "2019-07-20T19:47:20.163420Z"
    },
    "hidden": true
   },
   "outputs": [
    {
     "name": "stdout",
     "output_type": "stream",
     "text": [
      "data.csv.zip     ufc_bouts.csv    ufc_combined.csv ufc_fighters.csv\r\n"
     ]
    }
   ],
   "source": [
    "!ls ../data/raw/"
   ]
  },
  {
   "cell_type": "markdown",
   "metadata": {
    "heading_collapsed": true,
    "hidden": true
   },
   "source": [
    "## Bouts DF"
   ]
  },
  {
   "cell_type": "code",
   "execution_count": 401,
   "metadata": {
    "ExecuteTime": {
     "end_time": "2019-07-20T20:42:35.020120Z",
     "start_time": "2019-07-20T20:42:34.987677Z"
    },
    "hidden": true,
    "scrolled": true
   },
   "outputs": [
    {
     "data": {
      "text/html": [
       "<div>\n",
       "<style scoped>\n",
       "    .dataframe tbody tr th:only-of-type {\n",
       "        vertical-align: middle;\n",
       "    }\n",
       "\n",
       "    .dataframe tbody tr th {\n",
       "        vertical-align: top;\n",
       "    }\n",
       "\n",
       "    .dataframe thead th {\n",
       "        text-align: right;\n",
       "    }\n",
       "</style>\n",
       "<table border=\"1\" class=\"dataframe\">\n",
       "  <thead>\n",
       "    <tr style=\"text-align: right;\">\n",
       "      <th></th>\n",
       "      <th>bout_id</th>\n",
       "      <th>event_name</th>\n",
       "      <th>date</th>\n",
       "      <th>location</th>\n",
       "      <th>attendance</th>\n",
       "      <th>result</th>\n",
       "      <th>fighter1</th>\n",
       "      <th>fighter2</th>\n",
       "      <th>winner</th>\n",
       "      <th>weight_class</th>\n",
       "      <th>title_fight</th>\n",
       "      <th>method</th>\n",
       "      <th>end_round</th>\n",
       "      <th>end_time</th>\n",
       "    </tr>\n",
       "  </thead>\n",
       "  <tbody>\n",
       "    <tr>\n",
       "      <th>0</th>\n",
       "      <td>1</td>\n",
       "      <td>UFC Fight Night: Magny vs. Ponzinibbio</td>\n",
       "      <td>2018-11-17</td>\n",
       "      <td>Buenos Aires, Buenos Aires, Argentina</td>\n",
       "      <td>10245.0</td>\n",
       "      <td>win</td>\n",
       "      <td>Santiago Ponzinibbio</td>\n",
       "      <td>Neil Magny</td>\n",
       "      <td>Santiago Ponzinibbio</td>\n",
       "      <td>Welterweight</td>\n",
       "      <td>f</td>\n",
       "      <td>KO/TKO-Punch</td>\n",
       "      <td>4</td>\n",
       "      <td>2:36</td>\n",
       "    </tr>\n",
       "    <tr>\n",
       "      <th>1</th>\n",
       "      <td>2</td>\n",
       "      <td>UFC Fight Night: Magny vs. Ponzinibbio</td>\n",
       "      <td>2018-11-17</td>\n",
       "      <td>Buenos Aires, Buenos Aires, Argentina</td>\n",
       "      <td>10245.0</td>\n",
       "      <td>win</td>\n",
       "      <td>Ricardo Lamas</td>\n",
       "      <td>Darren Elkins</td>\n",
       "      <td>Ricardo Lamas</td>\n",
       "      <td>Featherweight</td>\n",
       "      <td>f</td>\n",
       "      <td>KO/TKO-Elbows</td>\n",
       "      <td>3</td>\n",
       "      <td>4:09</td>\n",
       "    </tr>\n",
       "    <tr>\n",
       "      <th>2</th>\n",
       "      <td>3</td>\n",
       "      <td>UFC Fight Night: Magny vs. Ponzinibbio</td>\n",
       "      <td>2018-11-17</td>\n",
       "      <td>Buenos Aires, Buenos Aires, Argentina</td>\n",
       "      <td>10245.0</td>\n",
       "      <td>win</td>\n",
       "      <td>Johnny Walker</td>\n",
       "      <td>Khalil Rountree Jr.</td>\n",
       "      <td>Johnny Walker</td>\n",
       "      <td>Light Heavyweight</td>\n",
       "      <td>f</td>\n",
       "      <td>KO/TKO-Elbow</td>\n",
       "      <td>1</td>\n",
       "      <td>1:57</td>\n",
       "    </tr>\n",
       "  </tbody>\n",
       "</table>\n",
       "</div>"
      ],
      "text/plain": [
       "   bout_id                              event_name       date  \\\n",
       "0        1  UFC Fight Night: Magny vs. Ponzinibbio 2018-11-17   \n",
       "1        2  UFC Fight Night: Magny vs. Ponzinibbio 2018-11-17   \n",
       "2        3  UFC Fight Night: Magny vs. Ponzinibbio 2018-11-17   \n",
       "\n",
       "                                location  attendance  result  \\\n",
       "0  Buenos Aires, Buenos Aires, Argentina      10245.0    win   \n",
       "1  Buenos Aires, Buenos Aires, Argentina      10245.0    win   \n",
       "2  Buenos Aires, Buenos Aires, Argentina      10245.0    win   \n",
       "\n",
       "               fighter1             fighter2                winner  \\\n",
       "0  Santiago Ponzinibbio           Neil Magny  Santiago Ponzinibbio   \n",
       "1         Ricardo Lamas        Darren Elkins         Ricardo Lamas   \n",
       "2         Johnny Walker  Khalil Rountree Jr.         Johnny Walker   \n",
       "\n",
       "        weight_class title_fight         method  end_round end_time  \n",
       "0       Welterweight           f   KO/TKO-Punch          4     2:36  \n",
       "1      Featherweight           f  KO/TKO-Elbows          3     4:09  \n",
       "2  Light Heavyweight           f   KO/TKO-Elbow          1     1:57  "
      ]
     },
     "execution_count": 401,
     "metadata": {},
     "output_type": "execute_result"
    }
   ],
   "source": [
    "data_bouts = pd.read_csv('../data/raw/ufc_bouts.csv', parse_dates=['date'])\n",
    "data_bouts.head(3)"
   ]
  },
  {
   "cell_type": "markdown",
   "metadata": {
    "heading_collapsed": true,
    "hidden": true
   },
   "source": [
    "### Result column"
   ]
  },
  {
   "cell_type": "code",
   "execution_count": 402,
   "metadata": {
    "ExecuteTime": {
     "end_time": "2019-07-20T20:42:35.389513Z",
     "start_time": "2019-07-20T20:42:35.379012Z"
    },
    "hidden": true
   },
   "outputs": [
    {
     "name": "stdout",
     "output_type": "stream",
     "text": [
      "Result Column Value Counts:\n",
      " win     4796\n",
      "nc        48\n",
      "draw      34\n",
      "Name: result, dtype: int64 \n",
      "\n",
      "Result Column Value Counts After Dropping nc AND draw:\n",
      " win    4796\n",
      "Name: result, dtype: int64\n"
     ]
    }
   ],
   "source": [
    "print('Result Column Value Counts:\\n', data_bouts.result.value_counts(), '\\n')\n",
    "\n",
    "# Drop NC rows as they dont help us predict the outcome\n",
    "data_bouts = data_bouts[data_bouts['result']!='nc']\n",
    "\n",
    "# drop the draw rows for now, so that we have a binary outcome of win or lose\n",
    "data_bouts = data_bouts[data_bouts['result']!='draw']\n",
    "\n",
    "print('Result Column Value Counts After Dropping nc AND draw:\\n', data_bouts.result.value_counts())"
   ]
  },
  {
   "cell_type": "markdown",
   "metadata": {
    "heading_collapsed": true,
    "hidden": true
   },
   "source": [
    "### Shorten location column to only the country"
   ]
  },
  {
   "cell_type": "code",
   "execution_count": 403,
   "metadata": {
    "ExecuteTime": {
     "end_time": "2019-07-20T20:42:35.756862Z",
     "start_time": "2019-07-20T20:42:35.706719Z"
    },
    "hidden": true,
    "scrolled": true
   },
   "outputs": [
    {
     "data": {
      "text/html": [
       "<div>\n",
       "<style scoped>\n",
       "    .dataframe tbody tr th:only-of-type {\n",
       "        vertical-align: middle;\n",
       "    }\n",
       "\n",
       "    .dataframe tbody tr th {\n",
       "        vertical-align: top;\n",
       "    }\n",
       "\n",
       "    .dataframe thead th {\n",
       "        text-align: right;\n",
       "    }\n",
       "</style>\n",
       "<table border=\"1\" class=\"dataframe\">\n",
       "  <thead>\n",
       "    <tr style=\"text-align: right;\">\n",
       "      <th></th>\n",
       "      <th>bout_id</th>\n",
       "      <th>event_name</th>\n",
       "      <th>date</th>\n",
       "      <th>location</th>\n",
       "      <th>attendance</th>\n",
       "      <th>result</th>\n",
       "      <th>fighter1</th>\n",
       "      <th>fighter2</th>\n",
       "      <th>winner</th>\n",
       "      <th>weight_class</th>\n",
       "      <th>title_fight</th>\n",
       "      <th>method</th>\n",
       "      <th>end_round</th>\n",
       "      <th>end_time</th>\n",
       "    </tr>\n",
       "  </thead>\n",
       "  <tbody>\n",
       "    <tr>\n",
       "      <th>0</th>\n",
       "      <td>1</td>\n",
       "      <td>UFC Fight Night: Magny vs. Ponzinibbio</td>\n",
       "      <td>2018-11-17</td>\n",
       "      <td>Argentina</td>\n",
       "      <td>10245.0</td>\n",
       "      <td>win</td>\n",
       "      <td>Santiago Ponzinibbio</td>\n",
       "      <td>Neil Magny</td>\n",
       "      <td>Santiago Ponzinibbio</td>\n",
       "      <td>Welterweight</td>\n",
       "      <td>f</td>\n",
       "      <td>KO/TKO-Punch</td>\n",
       "      <td>4</td>\n",
       "      <td>2:36</td>\n",
       "    </tr>\n",
       "  </tbody>\n",
       "</table>\n",
       "</div>"
      ],
      "text/plain": [
       "   bout_id                              event_name       date   location  \\\n",
       "0        1  UFC Fight Night: Magny vs. Ponzinibbio 2018-11-17  Argentina   \n",
       "\n",
       "   attendance  result              fighter1    fighter2                winner  \\\n",
       "0      10245.0    win  Santiago Ponzinibbio  Neil Magny  Santiago Ponzinibbio   \n",
       "\n",
       "   weight_class title_fight        method  end_round end_time  \n",
       "0  Welterweight           f  KO/TKO-Punch          4     2:36  "
      ]
     },
     "execution_count": 403,
     "metadata": {},
     "output_type": "execute_result"
    }
   ],
   "source": [
    "# Strip the location column down to only the country\n",
    "data_bouts['location'] = data_bouts['location'].str.split(\" \").str.get(-1)\n",
    "# Rename the location column to bout_location\n",
    "data_bouts.rename({'location': 'bout_location'}, inplace=True)\n",
    "\n",
    "data_bouts.head(1)"
   ]
  },
  {
   "cell_type": "markdown",
   "metadata": {
    "heading_collapsed": true,
    "hidden": true
   },
   "source": [
    "### Reduce categories in method column"
   ]
  },
  {
   "cell_type": "code",
   "execution_count": 404,
   "metadata": {
    "ExecuteTime": {
     "end_time": "2019-07-20T20:42:36.048706Z",
     "start_time": "2019-07-20T20:42:36.034704Z"
    },
    "hidden": true
   },
   "outputs": [
    {
     "name": "stdout",
     "output_type": "stream",
     "text": [
      "- There were originally 44 categories of win method\n",
      "\n",
      "- Now there are only 4 categories of win method: \n",
      "DEC       2106\n",
      "KO/TKO    1645\n",
      "SUB       1031\n",
      "DQ          14\n",
      "Name: method, dtype: int64\n"
     ]
    }
   ],
   "source": [
    "print('- There were originally {} categories of win method\\n'.format(data_bouts.method.value_counts().count()))\n",
    "\n",
    "# Reduce the categories down\n",
    "data_bouts['method'] = data_bouts['method'].str.split(\"-\").str.get(0)\n",
    "\n",
    "print('- Now there are only {} categories of win method: \\n{}'.format(data_bouts.method.value_counts().count(), data_bouts.method.value_counts()))"
   ]
  },
  {
   "cell_type": "markdown",
   "metadata": {
    "hidden": true
   },
   "source": [
    "### Duplicate Rows (no duplicate bout_ids)"
   ]
  },
  {
   "cell_type": "code",
   "execution_count": 405,
   "metadata": {
    "ExecuteTime": {
     "end_time": "2019-07-20T20:42:36.396045Z",
     "start_time": "2019-07-20T20:42:36.391785Z"
    },
    "hidden": true,
    "scrolled": true
   },
   "outputs": [
    {
     "data": {
      "text/plain": [
       "True"
      ]
     },
     "execution_count": 405,
     "metadata": {},
     "output_type": "execute_result"
    }
   ],
   "source": [
    "data_bouts.shape[0] == data_bouts['bout_id'].nunique()"
   ]
  },
  {
   "cell_type": "markdown",
   "metadata": {
    "hidden": true
   },
   "source": [
    "### Drop other unecessary columns"
   ]
  },
  {
   "cell_type": "code",
   "execution_count": 406,
   "metadata": {
    "ExecuteTime": {
     "end_time": "2019-07-20T20:42:37.186999Z",
     "start_time": "2019-07-20T20:42:37.175217Z"
    },
    "hidden": true,
    "scrolled": true
   },
   "outputs": [
    {
     "data": {
      "text/html": [
       "<div>\n",
       "<style scoped>\n",
       "    .dataframe tbody tr th:only-of-type {\n",
       "        vertical-align: middle;\n",
       "    }\n",
       "\n",
       "    .dataframe tbody tr th {\n",
       "        vertical-align: top;\n",
       "    }\n",
       "\n",
       "    .dataframe thead th {\n",
       "        text-align: right;\n",
       "    }\n",
       "</style>\n",
       "<table border=\"1\" class=\"dataframe\">\n",
       "  <thead>\n",
       "    <tr style=\"text-align: right;\">\n",
       "      <th></th>\n",
       "      <th>date</th>\n",
       "      <th>location</th>\n",
       "      <th>fighter1</th>\n",
       "      <th>fighter2</th>\n",
       "      <th>winner</th>\n",
       "      <th>title_fight</th>\n",
       "      <th>method</th>\n",
       "      <th>end_round</th>\n",
       "    </tr>\n",
       "  </thead>\n",
       "  <tbody>\n",
       "    <tr>\n",
       "      <th>0</th>\n",
       "      <td>2018-11-17</td>\n",
       "      <td>Argentina</td>\n",
       "      <td>Santiago Ponzinibbio</td>\n",
       "      <td>Neil Magny</td>\n",
       "      <td>Santiago Ponzinibbio</td>\n",
       "      <td>f</td>\n",
       "      <td>KO/TKO</td>\n",
       "      <td>4</td>\n",
       "    </tr>\n",
       "    <tr>\n",
       "      <th>1</th>\n",
       "      <td>2018-11-17</td>\n",
       "      <td>Argentina</td>\n",
       "      <td>Ricardo Lamas</td>\n",
       "      <td>Darren Elkins</td>\n",
       "      <td>Ricardo Lamas</td>\n",
       "      <td>f</td>\n",
       "      <td>KO/TKO</td>\n",
       "      <td>3</td>\n",
       "    </tr>\n",
       "    <tr>\n",
       "      <th>2</th>\n",
       "      <td>2018-11-17</td>\n",
       "      <td>Argentina</td>\n",
       "      <td>Johnny Walker</td>\n",
       "      <td>Khalil Rountree Jr.</td>\n",
       "      <td>Johnny Walker</td>\n",
       "      <td>f</td>\n",
       "      <td>KO/TKO</td>\n",
       "      <td>1</td>\n",
       "    </tr>\n",
       "  </tbody>\n",
       "</table>\n",
       "</div>"
      ],
      "text/plain": [
       "        date   location              fighter1             fighter2  \\\n",
       "0 2018-11-17  Argentina  Santiago Ponzinibbio           Neil Magny   \n",
       "1 2018-11-17  Argentina         Ricardo Lamas        Darren Elkins   \n",
       "2 2018-11-17  Argentina         Johnny Walker  Khalil Rountree Jr.   \n",
       "\n",
       "                 winner title_fight  method  end_round  \n",
       "0  Santiago Ponzinibbio           f  KO/TKO          4  \n",
       "1         Ricardo Lamas           f  KO/TKO          3  \n",
       "2         Johnny Walker           f  KO/TKO          1  "
      ]
     },
     "execution_count": 406,
     "metadata": {},
     "output_type": "execute_result"
    }
   ],
   "source": [
    "cols_to_keep = ['date', 'location', 'fighter1', 'fighter2', 'winner', 'title_fight', 'method', 'end_round']\n",
    "data_bouts = data_bouts[cols_to_keep]\n",
    "data_bouts.head(3)"
   ]
  },
  {
   "cell_type": "markdown",
   "metadata": {
    "hidden": true
   },
   "source": [
    "### Save the cleaned bouts df to processed data file"
   ]
  },
  {
   "cell_type": "code",
   "execution_count": 408,
   "metadata": {
    "ExecuteTime": {
     "end_time": "2019-07-20T20:43:59.166647Z",
     "start_time": "2019-07-20T20:43:59.119218Z"
    },
    "hidden": true
   },
   "outputs": [],
   "source": [
    "data_bouts.to_csv('../data/processed/bouts_cleaned')"
   ]
  },
  {
   "cell_type": "markdown",
   "metadata": {
    "heading_collapsed": true,
    "hidden": true
   },
   "source": [
    "## Fighters DF"
   ]
  },
  {
   "cell_type": "code",
   "execution_count": 1373,
   "metadata": {
    "ExecuteTime": {
     "end_time": "2019-07-21T03:30:10.977255Z",
     "start_time": "2019-07-21T03:30:10.708638Z"
    },
    "hidden": true
   },
   "outputs": [
    {
     "data": {
      "text/html": [
       "<div>\n",
       "<style scoped>\n",
       "    .dataframe tbody tr th:only-of-type {\n",
       "        vertical-align: middle;\n",
       "    }\n",
       "\n",
       "    .dataframe tbody tr th {\n",
       "        vertical-align: top;\n",
       "    }\n",
       "\n",
       "    .dataframe thead th {\n",
       "        text-align: right;\n",
       "    }\n",
       "</style>\n",
       "<table border=\"1\" class=\"dataframe\">\n",
       "  <thead>\n",
       "    <tr style=\"text-align: right;\">\n",
       "      <th></th>\n",
       "      <th>fighter_id</th>\n",
       "      <th>name</th>\n",
       "      <th>win</th>\n",
       "      <th>lose</th>\n",
       "      <th>draw</th>\n",
       "      <th>nc</th>\n",
       "      <th>height</th>\n",
       "      <th>weight</th>\n",
       "      <th>reach</th>\n",
       "      <th>stance</th>\n",
       "      <th>dob</th>\n",
       "      <th>SLpM</th>\n",
       "      <th>Str_Acc</th>\n",
       "      <th>SApM</th>\n",
       "      <th>Str_Def</th>\n",
       "      <th>TD_Avg</th>\n",
       "      <th>TD_Acc</th>\n",
       "      <th>TD_Def</th>\n",
       "      <th>Sub_Avg</th>\n",
       "      <th>last_updated</th>\n",
       "    </tr>\n",
       "  </thead>\n",
       "  <tbody>\n",
       "    <tr>\n",
       "      <th>0</th>\n",
       "      <td>1</td>\n",
       "      <td>Luciano Azevedo</td>\n",
       "      <td>16</td>\n",
       "      <td>9</td>\n",
       "      <td>1</td>\n",
       "      <td>0</td>\n",
       "      <td>6' 3\"</td>\n",
       "      <td>161 lbs.</td>\n",
       "      <td>NaN</td>\n",
       "      <td>Orthodox</td>\n",
       "      <td>1981-06-25</td>\n",
       "      <td>0.76</td>\n",
       "      <td>45%</td>\n",
       "      <td>1.97</td>\n",
       "      <td>27%</td>\n",
       "      <td>2.28</td>\n",
       "      <td>11%</td>\n",
       "      <td>0%</td>\n",
       "      <td>0.0</td>\n",
       "      <td>2018-11-21 19:35:04.893952</td>\n",
       "    </tr>\n",
       "    <tr>\n",
       "      <th>1</th>\n",
       "      <td>2</td>\n",
       "      <td>Michael Byrnes</td>\n",
       "      <td>5</td>\n",
       "      <td>2</td>\n",
       "      <td>0</td>\n",
       "      <td>0</td>\n",
       "      <td>5' 11\"</td>\n",
       "      <td>155 lbs.</td>\n",
       "      <td>NaN</td>\n",
       "      <td>NaN</td>\n",
       "      <td>1990-07-17</td>\n",
       "      <td>0.00</td>\n",
       "      <td>0%</td>\n",
       "      <td>0.00</td>\n",
       "      <td>0%</td>\n",
       "      <td>0.00</td>\n",
       "      <td>0%</td>\n",
       "      <td>0%</td>\n",
       "      <td>0.0</td>\n",
       "      <td>2018-11-21 19:35:09.304165</td>\n",
       "    </tr>\n",
       "    <tr>\n",
       "      <th>2</th>\n",
       "      <td>3</td>\n",
       "      <td>Gleidson Cutis</td>\n",
       "      <td>7</td>\n",
       "      <td>3</td>\n",
       "      <td>0</td>\n",
       "      <td>0</td>\n",
       "      <td>5' 9\"</td>\n",
       "      <td>155 lbs.</td>\n",
       "      <td>NaN</td>\n",
       "      <td>Orthodox</td>\n",
       "      <td>1989-02-07</td>\n",
       "      <td>2.99</td>\n",
       "      <td>52%</td>\n",
       "      <td>8.28</td>\n",
       "      <td>59%</td>\n",
       "      <td>0.00</td>\n",
       "      <td>0%</td>\n",
       "      <td>0%</td>\n",
       "      <td>0.0</td>\n",
       "      <td>2018-11-21 19:35:11.211072</td>\n",
       "    </tr>\n",
       "  </tbody>\n",
       "</table>\n",
       "</div>"
      ],
      "text/plain": [
       "   fighter_id             name  win  lose  draw  nc  height    weight reach  \\\n",
       "0           1  Luciano Azevedo   16     9     1   0   6' 3\"  161 lbs.   NaN   \n",
       "1           2   Michael Byrnes    5     2     0   0  5' 11\"  155 lbs.   NaN   \n",
       "2           3   Gleidson Cutis    7     3     0   0   5' 9\"  155 lbs.   NaN   \n",
       "\n",
       "     stance        dob  SLpM Str_Acc  SApM Str_Def  TD_Avg TD_Acc TD_Def  \\\n",
       "0  Orthodox 1981-06-25  0.76     45%  1.97     27%    2.28    11%     0%   \n",
       "1       NaN 1990-07-17  0.00      0%  0.00      0%    0.00     0%     0%   \n",
       "2  Orthodox 1989-02-07  2.99     52%  8.28     59%    0.00     0%     0%   \n",
       "\n",
       "   Sub_Avg                last_updated  \n",
       "0      0.0  2018-11-21 19:35:04.893952  \n",
       "1      0.0  2018-11-21 19:35:09.304165  \n",
       "2      0.0  2018-11-21 19:35:11.211072  "
      ]
     },
     "execution_count": 1373,
     "metadata": {},
     "output_type": "execute_result"
    }
   ],
   "source": [
    "data_fighters = pd.read_csv('../data/raw/ufc_fighters.csv', parse_dates=['dob'])\n",
    "data_fighters.head(3)"
   ]
  },
  {
   "cell_type": "code",
   "execution_count": 1374,
   "metadata": {
    "ExecuteTime": {
     "end_time": "2019-07-21T03:30:10.987562Z",
     "start_time": "2019-07-21T03:30:10.978713Z"
    },
    "hidden": true
   },
   "outputs": [
    {
     "name": "stdout",
     "output_type": "stream",
     "text": [
      "<class 'pandas.core.frame.DataFrame'>\n",
      "RangeIndex: 3187 entries, 0 to 3186\n",
      "Data columns (total 20 columns):\n",
      "fighter_id      3187 non-null int64\n",
      "name            3187 non-null object\n",
      "win             3187 non-null int64\n",
      "lose            3187 non-null int64\n",
      "draw            3187 non-null int64\n",
      "nc              3187 non-null int64\n",
      "height          2928 non-null object\n",
      "weight          3111 non-null object\n",
      "reach           1482 non-null object\n",
      "stance          2360 non-null object\n",
      "dob             2454 non-null datetime64[ns]\n",
      "SLpM            3187 non-null float64\n",
      "Str_Acc         3187 non-null object\n",
      "SApM            3187 non-null float64\n",
      "Str_Def         3187 non-null object\n",
      "TD_Avg          3187 non-null float64\n",
      "TD_Acc          3187 non-null object\n",
      "TD_Def          3187 non-null object\n",
      "Sub_Avg         3187 non-null float64\n",
      "last_updated    3187 non-null object\n",
      "dtypes: datetime64[ns](1), float64(4), int64(5), object(10)\n",
      "memory usage: 498.0+ KB\n"
     ]
    }
   ],
   "source": [
    "data_fighters.info()"
   ]
  },
  {
   "cell_type": "code",
   "execution_count": 1375,
   "metadata": {
    "ExecuteTime": {
     "end_time": "2019-07-21T03:30:11.019832Z",
     "start_time": "2019-07-21T03:30:10.988998Z"
    },
    "hidden": true,
    "scrolled": true
   },
   "outputs": [
    {
     "data": {
      "text/html": [
       "<div>\n",
       "<style scoped>\n",
       "    .dataframe tbody tr th:only-of-type {\n",
       "        vertical-align: middle;\n",
       "    }\n",
       "\n",
       "    .dataframe tbody tr th {\n",
       "        vertical-align: top;\n",
       "    }\n",
       "\n",
       "    .dataframe thead th {\n",
       "        text-align: right;\n",
       "    }\n",
       "</style>\n",
       "<table border=\"1\" class=\"dataframe\">\n",
       "  <thead>\n",
       "    <tr style=\"text-align: right;\">\n",
       "      <th></th>\n",
       "      <th>fighter_id</th>\n",
       "      <th>win</th>\n",
       "      <th>lose</th>\n",
       "      <th>draw</th>\n",
       "      <th>nc</th>\n",
       "      <th>SLpM</th>\n",
       "      <th>SApM</th>\n",
       "      <th>TD_Avg</th>\n",
       "      <th>Sub_Avg</th>\n",
       "    </tr>\n",
       "  </thead>\n",
       "  <tbody>\n",
       "    <tr>\n",
       "      <th>count</th>\n",
       "      <td>3187.00000</td>\n",
       "      <td>3187.000000</td>\n",
       "      <td>3187.000000</td>\n",
       "      <td>3187.000000</td>\n",
       "      <td>3187.000000</td>\n",
       "      <td>3187.000000</td>\n",
       "      <td>3187.000000</td>\n",
       "      <td>3187.000000</td>\n",
       "      <td>3187.000000</td>\n",
       "    </tr>\n",
       "    <tr>\n",
       "      <th>mean</th>\n",
       "      <td>1594.00000</td>\n",
       "      <td>11.497647</td>\n",
       "      <td>5.216505</td>\n",
       "      <td>0.292438</td>\n",
       "      <td>0.133668</td>\n",
       "      <td>2.153012</td>\n",
       "      <td>2.812931</td>\n",
       "      <td>1.173282</td>\n",
       "      <td>0.651302</td>\n",
       "    </tr>\n",
       "    <tr>\n",
       "      <th>std</th>\n",
       "      <td>920.15198</td>\n",
       "      <td>8.905952</td>\n",
       "      <td>4.697457</td>\n",
       "      <td>0.866378</td>\n",
       "      <td>0.376264</td>\n",
       "      <td>2.005978</td>\n",
       "      <td>2.818438</td>\n",
       "      <td>1.838291</td>\n",
       "      <td>1.551506</td>\n",
       "    </tr>\n",
       "    <tr>\n",
       "      <th>min</th>\n",
       "      <td>1.00000</td>\n",
       "      <td>0.000000</td>\n",
       "      <td>0.000000</td>\n",
       "      <td>0.000000</td>\n",
       "      <td>0.000000</td>\n",
       "      <td>0.000000</td>\n",
       "      <td>0.000000</td>\n",
       "      <td>0.000000</td>\n",
       "      <td>0.000000</td>\n",
       "    </tr>\n",
       "    <tr>\n",
       "      <th>25%</th>\n",
       "      <td>797.50000</td>\n",
       "      <td>5.000000</td>\n",
       "      <td>2.000000</td>\n",
       "      <td>0.000000</td>\n",
       "      <td>0.000000</td>\n",
       "      <td>0.510000</td>\n",
       "      <td>1.130000</td>\n",
       "      <td>0.000000</td>\n",
       "      <td>0.000000</td>\n",
       "    </tr>\n",
       "    <tr>\n",
       "      <th>50%</th>\n",
       "      <td>1594.00000</td>\n",
       "      <td>10.000000</td>\n",
       "      <td>4.000000</td>\n",
       "      <td>0.000000</td>\n",
       "      <td>0.000000</td>\n",
       "      <td>2.000000</td>\n",
       "      <td>2.600000</td>\n",
       "      <td>0.460000</td>\n",
       "      <td>0.000000</td>\n",
       "    </tr>\n",
       "    <tr>\n",
       "      <th>75%</th>\n",
       "      <td>2390.50000</td>\n",
       "      <td>15.000000</td>\n",
       "      <td>7.000000</td>\n",
       "      <td>0.000000</td>\n",
       "      <td>0.000000</td>\n",
       "      <td>3.250000</td>\n",
       "      <td>3.790000</td>\n",
       "      <td>1.860000</td>\n",
       "      <td>0.800000</td>\n",
       "    </tr>\n",
       "    <tr>\n",
       "      <th>max</th>\n",
       "      <td>3187.00000</td>\n",
       "      <td>127.000000</td>\n",
       "      <td>74.000000</td>\n",
       "      <td>11.000000</td>\n",
       "      <td>4.000000</td>\n",
       "      <td>30.000000</td>\n",
       "      <td>52.500000</td>\n",
       "      <td>32.140000</td>\n",
       "      <td>21.900000</td>\n",
       "    </tr>\n",
       "  </tbody>\n",
       "</table>\n",
       "</div>"
      ],
      "text/plain": [
       "       fighter_id          win         lose         draw           nc  \\\n",
       "count  3187.00000  3187.000000  3187.000000  3187.000000  3187.000000   \n",
       "mean   1594.00000    11.497647     5.216505     0.292438     0.133668   \n",
       "std     920.15198     8.905952     4.697457     0.866378     0.376264   \n",
       "min       1.00000     0.000000     0.000000     0.000000     0.000000   \n",
       "25%     797.50000     5.000000     2.000000     0.000000     0.000000   \n",
       "50%    1594.00000    10.000000     4.000000     0.000000     0.000000   \n",
       "75%    2390.50000    15.000000     7.000000     0.000000     0.000000   \n",
       "max    3187.00000   127.000000    74.000000    11.000000     4.000000   \n",
       "\n",
       "              SLpM         SApM       TD_Avg      Sub_Avg  \n",
       "count  3187.000000  3187.000000  3187.000000  3187.000000  \n",
       "mean      2.153012     2.812931     1.173282     0.651302  \n",
       "std       2.005978     2.818438     1.838291     1.551506  \n",
       "min       0.000000     0.000000     0.000000     0.000000  \n",
       "25%       0.510000     1.130000     0.000000     0.000000  \n",
       "50%       2.000000     2.600000     0.460000     0.000000  \n",
       "75%       3.250000     3.790000     1.860000     0.800000  \n",
       "max      30.000000    52.500000    32.140000    21.900000  "
      ]
     },
     "execution_count": 1375,
     "metadata": {},
     "output_type": "execute_result"
    }
   ],
   "source": [
    "data_fighters.describe()"
   ]
  },
  {
   "cell_type": "code",
   "execution_count": 1376,
   "metadata": {
    "ExecuteTime": {
     "end_time": "2019-07-21T03:30:11.027574Z",
     "start_time": "2019-07-21T03:30:11.021250Z"
    },
    "hidden": true,
    "scrolled": false
   },
   "outputs": [
    {
     "data": {
      "text/plain": [
       "reach     1705\n",
       "stance     827\n",
       "dob        733\n",
       "height     259\n",
       "weight      76\n",
       "name         0\n",
       "dtype: int64"
      ]
     },
     "execution_count": 1376,
     "metadata": {},
     "output_type": "execute_result"
    }
   ],
   "source": [
    "data_fighters.isna().sum().sort_values(ascending=False)[:6]"
   ]
  },
  {
   "cell_type": "markdown",
   "metadata": {
    "hidden": true
   },
   "source": [
    "### Deal with missing values"
   ]
  },
  {
   "cell_type": "markdown",
   "metadata": {
    "hidden": true
   },
   "source": [
    "### Remove fighters with limited statistics"
   ]
  },
  {
   "cell_type": "markdown",
   "metadata": {
    "hidden": true
   },
   "source": [
    "### Drop unecessary columns"
   ]
  },
  {
   "cell_type": "code",
   "execution_count": 1401,
   "metadata": {
    "ExecuteTime": {
     "end_time": "2019-07-21T03:30:12.862985Z",
     "start_time": "2019-07-21T03:30:12.840262Z"
    },
    "hidden": true
   },
   "outputs": [
    {
     "data": {
      "text/html": [
       "<div>\n",
       "<style scoped>\n",
       "    .dataframe tbody tr th:only-of-type {\n",
       "        vertical-align: middle;\n",
       "    }\n",
       "\n",
       "    .dataframe tbody tr th {\n",
       "        vertical-align: top;\n",
       "    }\n",
       "\n",
       "    .dataframe thead th {\n",
       "        text-align: right;\n",
       "    }\n",
       "</style>\n",
       "<table border=\"1\" class=\"dataframe\">\n",
       "  <thead>\n",
       "    <tr style=\"text-align: right;\">\n",
       "      <th></th>\n",
       "      <th>fighter_id</th>\n",
       "      <th>name</th>\n",
       "      <th>win</th>\n",
       "      <th>lose</th>\n",
       "      <th>draw</th>\n",
       "      <th>nc</th>\n",
       "      <th>height</th>\n",
       "      <th>weight</th>\n",
       "      <th>reach</th>\n",
       "      <th>stance</th>\n",
       "      <th>...</th>\n",
       "      <th>SApM</th>\n",
       "      <th>Str_Def</th>\n",
       "      <th>TD_Avg</th>\n",
       "      <th>TD_Acc</th>\n",
       "      <th>TD_Def</th>\n",
       "      <th>Sub_Avg</th>\n",
       "      <th>last_updated</th>\n",
       "      <th>dob_year</th>\n",
       "      <th>age_today</th>\n",
       "      <th>height_inches</th>\n",
       "    </tr>\n",
       "  </thead>\n",
       "  <tbody>\n",
       "    <tr>\n",
       "      <th>0</th>\n",
       "      <td>1</td>\n",
       "      <td>Luciano Azevedo</td>\n",
       "      <td>16</td>\n",
       "      <td>9</td>\n",
       "      <td>1</td>\n",
       "      <td>0</td>\n",
       "      <td>6 3</td>\n",
       "      <td>161 lbs.</td>\n",
       "      <td>72.0</td>\n",
       "      <td>Orthodox</td>\n",
       "      <td>...</td>\n",
       "      <td>1.97</td>\n",
       "      <td>27</td>\n",
       "      <td>2.28</td>\n",
       "      <td>11</td>\n",
       "      <td>0</td>\n",
       "      <td>0.0</td>\n",
       "      <td>2018-11-21 19:35:04.893952</td>\n",
       "      <td>1981.0</td>\n",
       "      <td>38.0</td>\n",
       "      <td>75.0</td>\n",
       "    </tr>\n",
       "    <tr>\n",
       "      <th>1</th>\n",
       "      <td>3</td>\n",
       "      <td>Gleidson Cutis</td>\n",
       "      <td>7</td>\n",
       "      <td>3</td>\n",
       "      <td>0</td>\n",
       "      <td>0</td>\n",
       "      <td>5 9</td>\n",
       "      <td>155 lbs.</td>\n",
       "      <td>72.0</td>\n",
       "      <td>Orthodox</td>\n",
       "      <td>...</td>\n",
       "      <td>8.28</td>\n",
       "      <td>59</td>\n",
       "      <td>0.00</td>\n",
       "      <td>0</td>\n",
       "      <td>0</td>\n",
       "      <td>0.0</td>\n",
       "      <td>2018-11-21 19:35:11.211072</td>\n",
       "      <td>1989.0</td>\n",
       "      <td>30.0</td>\n",
       "      <td>69.0</td>\n",
       "    </tr>\n",
       "    <tr>\n",
       "      <th>2</th>\n",
       "      <td>4</td>\n",
       "      <td>Rolando Dy</td>\n",
       "      <td>9</td>\n",
       "      <td>7</td>\n",
       "      <td>1</td>\n",
       "      <td>1</td>\n",
       "      <td>5 8</td>\n",
       "      <td>145 lbs.</td>\n",
       "      <td>69.0</td>\n",
       "      <td>Orthodox</td>\n",
       "      <td>...</td>\n",
       "      <td>4.47</td>\n",
       "      <td>52</td>\n",
       "      <td>0.30</td>\n",
       "      <td>20</td>\n",
       "      <td>68</td>\n",
       "      <td>0.0</td>\n",
       "      <td>2018-11-21 19:35:14.677808</td>\n",
       "      <td>1990.0</td>\n",
       "      <td>29.0</td>\n",
       "      <td>68.0</td>\n",
       "    </tr>\n",
       "  </tbody>\n",
       "</table>\n",
       "<p>3 rows × 23 columns</p>\n",
       "</div>"
      ],
      "text/plain": [
       "   fighter_id             name  win  lose  draw  nc height    weight  reach  \\\n",
       "0           1  Luciano Azevedo   16     9     1   0    6 3  161 lbs.   72.0   \n",
       "1           3   Gleidson Cutis    7     3     0   0    5 9  155 lbs.   72.0   \n",
       "2           4       Rolando Dy    9     7     1   1    5 8  145 lbs.   69.0   \n",
       "\n",
       "     stance      ...       SApM  Str_Def TD_Avg  TD_Acc TD_Def  Sub_Avg  \\\n",
       "0  Orthodox      ...       1.97       27   2.28      11      0      0.0   \n",
       "1  Orthodox      ...       8.28       59   0.00       0      0      0.0   \n",
       "2  Orthodox      ...       4.47       52   0.30      20     68      0.0   \n",
       "\n",
       "                 last_updated dob_year  age_today height_inches  \n",
       "0  2018-11-21 19:35:04.893952   1981.0       38.0          75.0  \n",
       "1  2018-11-21 19:35:11.211072   1989.0       30.0          69.0  \n",
       "2  2018-11-21 19:35:14.677808   1990.0       29.0          68.0  \n",
       "\n",
       "[3 rows x 23 columns]"
      ]
     },
     "execution_count": 1401,
     "metadata": {},
     "output_type": "execute_result"
    }
   ],
   "source": [
    "data_fighters.head(3)"
   ]
  },
  {
   "cell_type": "code",
   "execution_count": 1402,
   "metadata": {
    "ExecuteTime": {
     "end_time": "2019-07-21T03:30:12.935877Z",
     "start_time": "2019-07-21T03:30:12.864313Z"
    },
    "hidden": true
   },
   "outputs": [],
   "source": [
    "# Columns to drop\n",
    "cols_to_drop = ['fighter_id', 'weight', 'last_updated', 'dob_year', 'height']\n",
    "\n",
    "# Drop the columns\n",
    "data_fighters.drop(cols_to_drop, axis=1, inplace=True)"
   ]
  },
  {
   "cell_type": "code",
   "execution_count": 1403,
   "metadata": {
    "ExecuteTime": {
     "end_time": "2019-07-21T03:30:12.941159Z",
     "start_time": "2019-07-21T03:30:12.937523Z"
    },
    "hidden": true
   },
   "outputs": [
    {
     "data": {
      "text/plain": [
       "(2460, 18)"
      ]
     },
     "execution_count": 1403,
     "metadata": {},
     "output_type": "execute_result"
    }
   ],
   "source": [
    "data_fighters.shape"
   ]
  },
  {
   "cell_type": "code",
   "execution_count": 1404,
   "metadata": {
    "ExecuteTime": {
     "end_time": "2019-07-21T03:30:12.959159Z",
     "start_time": "2019-07-21T03:30:12.942995Z"
    },
    "hidden": true,
    "scrolled": true
   },
   "outputs": [
    {
     "data": {
      "text/html": [
       "<div>\n",
       "<style scoped>\n",
       "    .dataframe tbody tr th:only-of-type {\n",
       "        vertical-align: middle;\n",
       "    }\n",
       "\n",
       "    .dataframe tbody tr th {\n",
       "        vertical-align: top;\n",
       "    }\n",
       "\n",
       "    .dataframe thead th {\n",
       "        text-align: right;\n",
       "    }\n",
       "</style>\n",
       "<table border=\"1\" class=\"dataframe\">\n",
       "  <thead>\n",
       "    <tr style=\"text-align: right;\">\n",
       "      <th></th>\n",
       "      <th>name</th>\n",
       "      <th>win</th>\n",
       "      <th>lose</th>\n",
       "      <th>draw</th>\n",
       "      <th>nc</th>\n",
       "      <th>reach</th>\n",
       "      <th>stance</th>\n",
       "      <th>dob</th>\n",
       "      <th>SLpM</th>\n",
       "      <th>Str_Acc</th>\n",
       "      <th>SApM</th>\n",
       "      <th>Str_Def</th>\n",
       "      <th>TD_Avg</th>\n",
       "      <th>TD_Acc</th>\n",
       "      <th>TD_Def</th>\n",
       "      <th>Sub_Avg</th>\n",
       "      <th>age_today</th>\n",
       "      <th>height_inches</th>\n",
       "    </tr>\n",
       "  </thead>\n",
       "  <tbody>\n",
       "    <tr>\n",
       "      <th>0</th>\n",
       "      <td>Luciano Azevedo</td>\n",
       "      <td>16</td>\n",
       "      <td>9</td>\n",
       "      <td>1</td>\n",
       "      <td>0</td>\n",
       "      <td>72.0</td>\n",
       "      <td>Orthodox</td>\n",
       "      <td>1981-06-25</td>\n",
       "      <td>0.76</td>\n",
       "      <td>45</td>\n",
       "      <td>1.97</td>\n",
       "      <td>27</td>\n",
       "      <td>2.28</td>\n",
       "      <td>11</td>\n",
       "      <td>0</td>\n",
       "      <td>0.0</td>\n",
       "      <td>38.0</td>\n",
       "      <td>75.0</td>\n",
       "    </tr>\n",
       "    <tr>\n",
       "      <th>1</th>\n",
       "      <td>Gleidson Cutis</td>\n",
       "      <td>7</td>\n",
       "      <td>3</td>\n",
       "      <td>0</td>\n",
       "      <td>0</td>\n",
       "      <td>72.0</td>\n",
       "      <td>Orthodox</td>\n",
       "      <td>1989-02-07</td>\n",
       "      <td>2.99</td>\n",
       "      <td>52</td>\n",
       "      <td>8.28</td>\n",
       "      <td>59</td>\n",
       "      <td>0.00</td>\n",
       "      <td>0</td>\n",
       "      <td>0</td>\n",
       "      <td>0.0</td>\n",
       "      <td>30.0</td>\n",
       "      <td>69.0</td>\n",
       "    </tr>\n",
       "    <tr>\n",
       "      <th>2</th>\n",
       "      <td>Rolando Dy</td>\n",
       "      <td>9</td>\n",
       "      <td>7</td>\n",
       "      <td>1</td>\n",
       "      <td>1</td>\n",
       "      <td>69.0</td>\n",
       "      <td>Orthodox</td>\n",
       "      <td>1990-08-11</td>\n",
       "      <td>3.04</td>\n",
       "      <td>37</td>\n",
       "      <td>4.47</td>\n",
       "      <td>52</td>\n",
       "      <td>0.30</td>\n",
       "      <td>20</td>\n",
       "      <td>68</td>\n",
       "      <td>0.0</td>\n",
       "      <td>29.0</td>\n",
       "      <td>68.0</td>\n",
       "    </tr>\n",
       "  </tbody>\n",
       "</table>\n",
       "</div>"
      ],
      "text/plain": [
       "              name  win  lose  draw  nc  reach    stance        dob  SLpM  \\\n",
       "0  Luciano Azevedo   16     9     1   0   72.0  Orthodox 1981-06-25  0.76   \n",
       "1   Gleidson Cutis    7     3     0   0   72.0  Orthodox 1989-02-07  2.99   \n",
       "2       Rolando Dy    9     7     1   1   69.0  Orthodox 1990-08-11  3.04   \n",
       "\n",
       "  Str_Acc  SApM Str_Def  TD_Avg TD_Acc TD_Def  Sub_Avg  age_today  \\\n",
       "0      45  1.97      27    2.28     11      0      0.0       38.0   \n",
       "1      52  8.28      59    0.00      0      0      0.0       30.0   \n",
       "2      37  4.47      52    0.30     20     68      0.0       29.0   \n",
       "\n",
       "   height_inches  \n",
       "0           75.0  \n",
       "1           69.0  \n",
       "2           68.0  "
      ]
     },
     "execution_count": 1404,
     "metadata": {},
     "output_type": "execute_result"
    }
   ],
   "source": [
    "data_fighters.head(3)"
   ]
  },
  {
   "cell_type": "markdown",
   "metadata": {
    "hidden": true
   },
   "source": [
    "### Save the cleaned fighters df to processed data file"
   ]
  },
  {
   "cell_type": "code",
   "execution_count": 1405,
   "metadata": {
    "ExecuteTime": {
     "end_time": "2019-07-21T03:31:05.264886Z",
     "start_time": "2019-07-21T03:31:05.220736Z"
    },
    "hidden": true
   },
   "outputs": [],
   "source": [
    "data_fighters.to_csv('../data/processed/fighters_cleaned')"
   ]
  },
  {
   "cell_type": "markdown",
   "metadata": {
    "heading_collapsed": true
   },
   "source": [
    "# pulling in hometown to data"
   ]
  },
  {
   "cell_type": "code",
   "execution_count": 4,
   "metadata": {
    "ExecuteTime": {
     "end_time": "2019-07-22T13:02:07.770288Z",
     "start_time": "2019-07-22T13:02:07.581640Z"
    },
    "hidden": true
   },
   "outputs": [],
   "source": [
    "import pandas as pd"
   ]
  },
  {
   "cell_type": "code",
   "execution_count": 5,
   "metadata": {
    "ExecuteTime": {
     "end_time": "2019-07-22T13:02:08.803856Z",
     "start_time": "2019-07-22T13:02:08.687640Z"
    },
    "hidden": true
   },
   "outputs": [
    {
     "name": "stdout",
     "output_type": "stream",
     "text": [
      "data.csv.zip     ufc_bouts.csv    ufc_combined.csv ufc_fighters.csv\r\n"
     ]
    }
   ],
   "source": [
    "!ls ../data/raw"
   ]
  },
  {
   "cell_type": "code",
   "execution_count": 346,
   "metadata": {
    "ExecuteTime": {
     "end_time": "2019-07-22T15:48:34.776053Z",
     "start_time": "2019-07-22T15:48:34.615121Z"
    },
    "hidden": true
   },
   "outputs": [
    {
     "data": {
      "text/html": [
       "<div>\n",
       "<style scoped>\n",
       "    .dataframe tbody tr th:only-of-type {\n",
       "        vertical-align: middle;\n",
       "    }\n",
       "\n",
       "    .dataframe tbody tr th {\n",
       "        vertical-align: top;\n",
       "    }\n",
       "\n",
       "    .dataframe thead th {\n",
       "        text-align: right;\n",
       "    }\n",
       "</style>\n",
       "<table border=\"1\" class=\"dataframe\">\n",
       "  <thead>\n",
       "    <tr style=\"text-align: right;\">\n",
       "      <th></th>\n",
       "      <th>name</th>\n",
       "      <th>home_country</th>\n",
       "    </tr>\n",
       "  </thead>\n",
       "  <tbody>\n",
       "    <tr>\n",
       "      <th>0</th>\n",
       "      <td>Marvin Vettori</td>\n",
       "      <td>Italy</td>\n",
       "    </tr>\n",
       "    <tr>\n",
       "      <th>1</th>\n",
       "      <td>Carlos Diego Ferreira</td>\n",
       "      <td>Brazil</td>\n",
       "    </tr>\n",
       "    <tr>\n",
       "      <th>2</th>\n",
       "      <td>Takanori Gomi</td>\n",
       "      <td>Japan</td>\n",
       "    </tr>\n",
       "    <tr>\n",
       "      <th>3</th>\n",
       "      <td>Brandon Moreno</td>\n",
       "      <td>Mexico</td>\n",
       "    </tr>\n",
       "    <tr>\n",
       "      <th>4</th>\n",
       "      <td>Elizabeth Phillips</td>\n",
       "      <td>USA</td>\n",
       "    </tr>\n",
       "  </tbody>\n",
       "</table>\n",
       "</div>"
      ],
      "text/plain": [
       "                    name home_country\n",
       "0         Marvin Vettori        Italy\n",
       "1  Carlos Diego Ferreira       Brazil\n",
       "2          Takanori Gomi        Japan\n",
       "3         Brandon Moreno       Mexico\n",
       "4     Elizabeth Phillips          USA"
      ]
     },
     "execution_count": 346,
     "metadata": {},
     "output_type": "execute_result"
    }
   ],
   "source": [
    "fighter_hometown = pd.read_csv('../data/raw/fighter_stats_each_bout.csv.zip')\n",
    "clean_fighter_data(data).head()"
   ]
  },
  {
   "cell_type": "code",
   "execution_count": 33,
   "metadata": {
    "ExecuteTime": {
     "end_time": "2019-07-22T13:11:04.432887Z",
     "start_time": "2019-07-22T13:11:04.412452Z"
    },
    "hidden": true,
    "scrolled": true
   },
   "outputs": [
    {
     "data": {
      "text/html": [
       "<div>\n",
       "<style scoped>\n",
       "    .dataframe tbody tr th:only-of-type {\n",
       "        vertical-align: middle;\n",
       "    }\n",
       "\n",
       "    .dataframe tbody tr th {\n",
       "        vertical-align: top;\n",
       "    }\n",
       "\n",
       "    .dataframe thead th {\n",
       "        text-align: right;\n",
       "    }\n",
       "</style>\n",
       "<table border=\"1\" class=\"dataframe\">\n",
       "  <thead>\n",
       "    <tr style=\"text-align: right;\">\n",
       "      <th></th>\n",
       "      <th>BPrev</th>\n",
       "      <th>BStreak</th>\n",
       "      <th>B_Age</th>\n",
       "      <th>B_Height</th>\n",
       "      <th>B_HomeTown</th>\n",
       "      <th>B_ID</th>\n",
       "      <th>B_Location</th>\n",
       "      <th>B_Name</th>\n",
       "      <th>B_Weight</th>\n",
       "      <th>B__Round1_Grappling_Reversals_Landed</th>\n",
       "      <th>...</th>\n",
       "      <th>R__Round5_TIP_Ground Time</th>\n",
       "      <th>R__Round5_TIP_Guard Control Time</th>\n",
       "      <th>R__Round5_TIP_Half Guard Control Time</th>\n",
       "      <th>R__Round5_TIP_Misc. Ground Control Time</th>\n",
       "      <th>R__Round5_TIP_Mount Control Time</th>\n",
       "      <th>R__Round5_TIP_Neutral Time</th>\n",
       "      <th>R__Round5_TIP_Side Control Time</th>\n",
       "      <th>R__Round5_TIP_Standing Time</th>\n",
       "      <th>winby</th>\n",
       "      <th>winner</th>\n",
       "    </tr>\n",
       "  </thead>\n",
       "  <tbody>\n",
       "    <tr>\n",
       "      <th>0</th>\n",
       "      <td>1</td>\n",
       "      <td>1</td>\n",
       "      <td>23.0</td>\n",
       "      <td>182.0</td>\n",
       "      <td>Trento Italy</td>\n",
       "      <td>2783</td>\n",
       "      <td>Mezzocorona Italy</td>\n",
       "      <td>Marvin Vettori</td>\n",
       "      <td>84</td>\n",
       "      <td>0.0</td>\n",
       "      <td>...</td>\n",
       "      <td>NaN</td>\n",
       "      <td>NaN</td>\n",
       "      <td>NaN</td>\n",
       "      <td>NaN</td>\n",
       "      <td>NaN</td>\n",
       "      <td>NaN</td>\n",
       "      <td>NaN</td>\n",
       "      <td>NaN</td>\n",
       "      <td>DEC</td>\n",
       "      <td>red</td>\n",
       "    </tr>\n",
       "    <tr>\n",
       "      <th>1</th>\n",
       "      <td>0</td>\n",
       "      <td>0</td>\n",
       "      <td>32.0</td>\n",
       "      <td>175.0</td>\n",
       "      <td>Careiro da Várzea, Amazonas Brazil</td>\n",
       "      <td>2208</td>\n",
       "      <td>Pharr, Texas USA</td>\n",
       "      <td>Carlos Diego Ferreira</td>\n",
       "      <td>70</td>\n",
       "      <td>NaN</td>\n",
       "      <td>...</td>\n",
       "      <td>NaN</td>\n",
       "      <td>NaN</td>\n",
       "      <td>NaN</td>\n",
       "      <td>NaN</td>\n",
       "      <td>NaN</td>\n",
       "      <td>NaN</td>\n",
       "      <td>NaN</td>\n",
       "      <td>NaN</td>\n",
       "      <td>SUB</td>\n",
       "      <td>blue</td>\n",
       "    </tr>\n",
       "  </tbody>\n",
       "</table>\n",
       "<p>2 rows × 895 columns</p>\n",
       "</div>"
      ],
      "text/plain": [
       "   BPrev  BStreak  B_Age  B_Height                          B_HomeTown  B_ID  \\\n",
       "0      1        1   23.0     182.0                        Trento Italy  2783   \n",
       "1      0        0   32.0     175.0  Careiro da Várzea, Amazonas Brazil  2208   \n",
       "\n",
       "          B_Location                 B_Name  B_Weight  \\\n",
       "0  Mezzocorona Italy         Marvin Vettori        84   \n",
       "1   Pharr, Texas USA  Carlos Diego Ferreira        70   \n",
       "\n",
       "   B__Round1_Grappling_Reversals_Landed   ...    R__Round5_TIP_Ground Time  \\\n",
       "0                                   0.0   ...                          NaN   \n",
       "1                                   NaN   ...                          NaN   \n",
       "\n",
       "   R__Round5_TIP_Guard Control Time  R__Round5_TIP_Half Guard Control Time  \\\n",
       "0                               NaN                                    NaN   \n",
       "1                               NaN                                    NaN   \n",
       "\n",
       "   R__Round5_TIP_Misc. Ground Control Time  R__Round5_TIP_Mount Control Time  \\\n",
       "0                                      NaN                               NaN   \n",
       "1                                      NaN                               NaN   \n",
       "\n",
       "   R__Round5_TIP_Neutral Time  R__Round5_TIP_Side Control Time  \\\n",
       "0                         NaN                              NaN   \n",
       "1                         NaN                              NaN   \n",
       "\n",
       "   R__Round5_TIP_Standing Time  winby  winner  \n",
       "0                          NaN    DEC     red  \n",
       "1                          NaN    SUB    blue  \n",
       "\n",
       "[2 rows x 895 columns]"
      ]
     },
     "execution_count": 33,
     "metadata": {},
     "output_type": "execute_result"
    }
   ],
   "source": [
    "data.head(2)"
   ]
  },
  {
   "cell_type": "code",
   "execution_count": 326,
   "metadata": {
    "ExecuteTime": {
     "end_time": "2019-07-22T15:34:53.952072Z",
     "start_time": "2019-07-22T15:34:53.947734Z"
    },
    "hidden": true
   },
   "outputs": [],
   "source": [
    "data_b_fighter = data[['B_Name', 'B_HomeTown', 'B_Height']]\n",
    "data_r_fighter = data[['R_Name', 'R_HomeTown', 'R_Height']]"
   ]
  },
  {
   "cell_type": "code",
   "execution_count": 334,
   "metadata": {
    "ExecuteTime": {
     "end_time": "2019-07-22T15:43:44.669540Z",
     "start_time": "2019-07-22T15:43:44.665932Z"
    },
    "hidden": true
   },
   "outputs": [],
   "source": [
    "def generalize_columns(df):\n",
    "    '''Make the column headings lowercase and generalized (remove the B_ and R_)'''\n",
    "    # Make lowercase\n",
    "    df.columns = df.columns.str.lower()\n",
    "    # Split on the _\n",
    "    df_columns = df.columns.str.split(\"_\")\n",
    "    # Take the last word in the inner list\n",
    "    df_columns = [el[-1] for el in df_columns]\n",
    "    # Change the names of columns\n",
    "    df.columns = df_columns\n",
    "    \n",
    "    return df"
   ]
  },
  {
   "cell_type": "code",
   "execution_count": 339,
   "metadata": {
    "ExecuteTime": {
     "end_time": "2019-07-22T15:44:56.458931Z",
     "start_time": "2019-07-22T15:44:56.454539Z"
    },
    "hidden": true
   },
   "outputs": [],
   "source": [
    "def clean_hometown(data_both_fighters):\n",
    "    '''Cleans up the hometown column and returns the home_country alongside the name'''\n",
    "    # Split the hometown column into \n",
    "    data_both_fighters['hometown'] = data_both_fighters['hometown'].str.split(\" \")\n",
    "\n",
    "    data_both_fighters.dropna(subset=['hometown'], inplace=True)\n",
    "\n",
    "    for row in data_both_fighters['hometown']:\n",
    "        # If the list ends in a space, pop it off\n",
    "        if len(row[-1]) == 0:\n",
    "            row.pop()\n",
    "        # Replace [United, States] with [USA]\n",
    "        if row[-1] == 'States':\n",
    "            row[-1] = 'USA'\n",
    "        # Change 'Michigan' to 'USA'\n",
    "        if row[-1] == 'Michigan':\n",
    "            row[-1] = 'USA'\n",
    "\n",
    "    # Strip out the row to only the last element\n",
    "    data_both_fighters['home_country']=list(map(lambda x: x[-1], data_both_fighters['hometown']))\n",
    "    # Drop the 'hometown column'\n",
    "    data_both_fighters.drop(columns='hometown', axis=1, inplace=True)\n",
    "    \n",
    "    # Reset the index\n",
    "    data_both_fighters.reset_index(drop=True, inplace=True)\n",
    "    \n",
    "    return data_both_fighters"
   ]
  },
  {
   "cell_type": "code",
   "execution_count": 340,
   "metadata": {
    "ExecuteTime": {
     "end_time": "2019-07-22T15:44:57.543746Z",
     "start_time": "2019-07-22T15:44:57.539847Z"
    },
    "hidden": true
   },
   "outputs": [],
   "source": [
    "def clean_fighter_data(data):\n",
    "    '''Cleans up the dataframe and returns the df with unique fighters names, home_country'''\n",
    "    \n",
    "    # Split dataframe into dataframe for the Blue fighter and another dataframe for the Red fighter\n",
    "    data_b_fighter = data[['B_Name', 'B_HomeTown']]\n",
    "    data_r_fighter = data[['R_Name', 'R_HomeTown']]\n",
    "    \n",
    "    # Change the column headings to lowercase and remove the B_ and R_\n",
    "    [generalize_columns(df) for df in [data_b_fighter, data_r_fighter]]\n",
    "    \n",
    "    # Concatenate the Blue fighters data to the Red fighters data\n",
    "    data_both_fighters = pd.concat([data_b_fighter, data_r_fighter], ignore_index=True)\n",
    "\n",
    "    # Filter the data to only unique names\n",
    "    data_both_fighters.drop_duplicates(subset='name', keep='first', inplace=True)\n",
    "    \n",
    "    clean_hometown(data_both_fighters)\n",
    "    \n",
    "    return data_both_fighters"
   ]
  },
  {
   "cell_type": "code",
   "execution_count": 328,
   "metadata": {
    "ExecuteTime": {
     "end_time": "2019-07-22T15:34:54.759813Z",
     "start_time": "2019-07-22T15:34:54.754670Z"
    },
    "hidden": true
   },
   "outputs": [
    {
     "data": {
      "text/plain": [
       "[None, None]"
      ]
     },
     "execution_count": 328,
     "metadata": {},
     "output_type": "execute_result"
    }
   ],
   "source": [
    "[generalize_columns(df) for df in [data_b_fighter, data_r_fighter]]"
   ]
  },
  {
   "cell_type": "code",
   "execution_count": 329,
   "metadata": {
    "ExecuteTime": {
     "end_time": "2019-07-22T15:34:55.181224Z",
     "start_time": "2019-07-22T15:34:55.174178Z"
    },
    "hidden": true,
    "scrolled": true
   },
   "outputs": [
    {
     "name": "stdout",
     "output_type": "stream",
     "text": [
      "We have wittled down the data from 2954 to only the unique names (852 unique names in total)\n"
     ]
    }
   ],
   "source": [
    "# Concatenate the Blue fighters data to the Red fighters data\n",
    "data_both_fighters = pd.concat([data_b_fighter, data_r_fighter], ignore_index=True)\n",
    "\n",
    "# Filter the data to only unique names\n",
    "data_both_fighters.drop_duplicates(subset='name', keep='first', inplace=True)"
   ]
  },
  {
   "cell_type": "code",
   "execution_count": 330,
   "metadata": {
    "ExecuteTime": {
     "end_time": "2019-07-22T15:34:55.735820Z",
     "start_time": "2019-07-22T15:34:55.726106Z"
    },
    "hidden": true
   },
   "outputs": [],
   "source": [
    "# Split the hometown column into \n",
    "data_both_fighters['hometown'] = data_both_fighters['hometown'].str.split(\" \")\n",
    "\n",
    "data_both_fighters.dropna(subset=['hometown'], inplace=True)\n",
    "\n",
    "for row in data_both_fighters['hometown']:\n",
    "    # If the list ends in a space, pop it off\n",
    "    if len(row[-1]) == 0:\n",
    "        row.pop()\n",
    "    # Replace [United, States] with [USA]\n",
    "    if row[-1] == 'States':\n",
    "        row[-1] = 'USA'\n",
    "    # Change 'Michigan' to 'USA'\n",
    "    if row[-1] == 'Michigan':\n",
    "        row[-1] = 'USA'\n",
    "\n",
    "# Strip out the row to only the last element\n",
    "data_both_fighters['home_country']=list(map(lambda x: x[-1], data_both_fighters['hometown']))\n",
    "# Drop the 'hometown column'\n",
    "data_both_fighters.drop(columns='hometown', axis=1, inplace=True)"
   ]
  },
  {
   "cell_type": "code",
   "execution_count": 320,
   "metadata": {
    "ExecuteTime": {
     "end_time": "2019-07-22T15:29:35.873363Z",
     "start_time": "2019-07-22T15:29:35.852865Z"
    },
    "collapsed": true,
    "hidden": true
   },
   "outputs": [
    {
     "ename": "KeyError",
     "evalue": "42",
     "output_type": "error",
     "traceback": [
      "\u001b[0;31m---------------------------------------------------------------------------\u001b[0m",
      "\u001b[0;31mKeyError\u001b[0m                                  Traceback (most recent call last)",
      "\u001b[0;32m<ipython-input-320-44ce3f8144ce>\u001b[0m in \u001b[0;36m<module>\u001b[0;34m()\u001b[0m\n\u001b[1;32m      1\u001b[0m \u001b[0mdata_both_fighters\u001b[0m\u001b[0;34m[\u001b[0m\u001b[0;34m'home'\u001b[0m\u001b[0;34m]\u001b[0m \u001b[0;34m=\u001b[0m \u001b[0;36m0\u001b[0m\u001b[0;34m\u001b[0m\u001b[0m\n\u001b[1;32m      2\u001b[0m \u001b[0;32mfor\u001b[0m \u001b[0mi\u001b[0m\u001b[0;34m,\u001b[0m \u001b[0mvalue\u001b[0m \u001b[0;32min\u001b[0m \u001b[0menumerate\u001b[0m\u001b[0;34m(\u001b[0m\u001b[0mdata_both_fighters\u001b[0m\u001b[0;34m[\u001b[0m\u001b[0;34m'home'\u001b[0m\u001b[0;34m]\u001b[0m\u001b[0;34m)\u001b[0m\u001b[0;34m:\u001b[0m\u001b[0;34m\u001b[0m\u001b[0m\n\u001b[0;32m----> 3\u001b[0;31m     \u001b[0mvalue\u001b[0m \u001b[0;34m=\u001b[0m \u001b[0mdata_both_fighters\u001b[0m\u001b[0;34m[\u001b[0m\u001b[0;34m'hometown'\u001b[0m\u001b[0;34m]\u001b[0m\u001b[0;34m[\u001b[0m\u001b[0mi\u001b[0m\u001b[0;34m]\u001b[0m\u001b[0;34m\u001b[0m\u001b[0m\n\u001b[0m",
      "\u001b[0;32m/anaconda3/envs/ml-ufc-env/lib/python3.6/site-packages/pandas/core/series.py\u001b[0m in \u001b[0;36m__getitem__\u001b[0;34m(self, key)\u001b[0m\n\u001b[1;32m    765\u001b[0m         \u001b[0mkey\u001b[0m \u001b[0;34m=\u001b[0m \u001b[0mcom\u001b[0m\u001b[0;34m.\u001b[0m\u001b[0m_apply_if_callable\u001b[0m\u001b[0;34m(\u001b[0m\u001b[0mkey\u001b[0m\u001b[0;34m,\u001b[0m \u001b[0mself\u001b[0m\u001b[0;34m)\u001b[0m\u001b[0;34m\u001b[0m\u001b[0m\n\u001b[1;32m    766\u001b[0m         \u001b[0;32mtry\u001b[0m\u001b[0;34m:\u001b[0m\u001b[0;34m\u001b[0m\u001b[0m\n\u001b[0;32m--> 767\u001b[0;31m             \u001b[0mresult\u001b[0m \u001b[0;34m=\u001b[0m \u001b[0mself\u001b[0m\u001b[0;34m.\u001b[0m\u001b[0mindex\u001b[0m\u001b[0;34m.\u001b[0m\u001b[0mget_value\u001b[0m\u001b[0;34m(\u001b[0m\u001b[0mself\u001b[0m\u001b[0;34m,\u001b[0m \u001b[0mkey\u001b[0m\u001b[0;34m)\u001b[0m\u001b[0;34m\u001b[0m\u001b[0m\n\u001b[0m\u001b[1;32m    768\u001b[0m \u001b[0;34m\u001b[0m\u001b[0m\n\u001b[1;32m    769\u001b[0m             \u001b[0;32mif\u001b[0m \u001b[0;32mnot\u001b[0m \u001b[0mis_scalar\u001b[0m\u001b[0;34m(\u001b[0m\u001b[0mresult\u001b[0m\u001b[0;34m)\u001b[0m\u001b[0;34m:\u001b[0m\u001b[0;34m\u001b[0m\u001b[0m\n",
      "\u001b[0;32m/anaconda3/envs/ml-ufc-env/lib/python3.6/site-packages/pandas/core/indexes/base.py\u001b[0m in \u001b[0;36mget_value\u001b[0;34m(self, series, key)\u001b[0m\n\u001b[1;32m   3116\u001b[0m         \u001b[0;32mtry\u001b[0m\u001b[0;34m:\u001b[0m\u001b[0;34m\u001b[0m\u001b[0m\n\u001b[1;32m   3117\u001b[0m             return self._engine.get_value(s, k,\n\u001b[0;32m-> 3118\u001b[0;31m                                           tz=getattr(series.dtype, 'tz', None))\n\u001b[0m\u001b[1;32m   3119\u001b[0m         \u001b[0;32mexcept\u001b[0m \u001b[0mKeyError\u001b[0m \u001b[0;32mas\u001b[0m \u001b[0me1\u001b[0m\u001b[0;34m:\u001b[0m\u001b[0;34m\u001b[0m\u001b[0m\n\u001b[1;32m   3120\u001b[0m             \u001b[0;32mif\u001b[0m \u001b[0mlen\u001b[0m\u001b[0;34m(\u001b[0m\u001b[0mself\u001b[0m\u001b[0;34m)\u001b[0m \u001b[0;34m>\u001b[0m \u001b[0;36m0\u001b[0m \u001b[0;32mand\u001b[0m \u001b[0mself\u001b[0m\u001b[0;34m.\u001b[0m\u001b[0minferred_type\u001b[0m \u001b[0;32min\u001b[0m \u001b[0;34m[\u001b[0m\u001b[0;34m'integer'\u001b[0m\u001b[0;34m,\u001b[0m \u001b[0;34m'boolean'\u001b[0m\u001b[0;34m]\u001b[0m\u001b[0;34m:\u001b[0m\u001b[0;34m\u001b[0m\u001b[0m\n",
      "\u001b[0;32mpandas/_libs/index.pyx\u001b[0m in \u001b[0;36mpandas._libs.index.IndexEngine.get_value\u001b[0;34m()\u001b[0m\n",
      "\u001b[0;32mpandas/_libs/index.pyx\u001b[0m in \u001b[0;36mpandas._libs.index.IndexEngine.get_value\u001b[0;34m()\u001b[0m\n",
      "\u001b[0;32mpandas/_libs/index.pyx\u001b[0m in \u001b[0;36mpandas._libs.index.IndexEngine.get_loc\u001b[0;34m()\u001b[0m\n",
      "\u001b[0;32mpandas/_libs/hashtable_class_helper.pxi\u001b[0m in \u001b[0;36mpandas._libs.hashtable.Int64HashTable.get_item\u001b[0;34m()\u001b[0m\n",
      "\u001b[0;32mpandas/_libs/hashtable_class_helper.pxi\u001b[0m in \u001b[0;36mpandas._libs.hashtable.Int64HashTable.get_item\u001b[0;34m()\u001b[0m\n",
      "\u001b[0;31mKeyError\u001b[0m: 42"
     ]
    }
   ],
   "source": [
    "data_both_fighters['home'] = 0\n",
    "for i, value in enumerate(data_both_fighters['home']):\n",
    "    value = data_both_fighters['hometown'][i]"
   ]
  },
  {
   "cell_type": "code",
   "execution_count": 314,
   "metadata": {
    "ExecuteTime": {
     "end_time": "2019-07-22T15:26:41.240798Z",
     "start_time": "2019-07-22T15:26:41.194913Z"
    },
    "collapsed": true,
    "hidden": true
   },
   "outputs": [
    {
     "name": "stderr",
     "output_type": "stream",
     "text": [
      "/anaconda3/envs/ml-ufc-env/lib/python3.6/site-packages/ipykernel_launcher.py:2: SettingWithCopyWarning: \n",
      "A value is trying to be set on a copy of a slice from a DataFrame\n",
      "\n",
      "See the caveats in the documentation: http://pandas.pydata.org/pandas-docs/stable/indexing.html#indexing-view-versus-copy\n",
      "  \n"
     ]
    },
    {
     "ename": "TypeError",
     "evalue": "object of type 'generator' has no len()",
     "output_type": "error",
     "traceback": [
      "\u001b[0;31m---------------------------------------------------------------------------\u001b[0m",
      "\u001b[0;31mTypeError\u001b[0m                                 Traceback (most recent call last)",
      "\u001b[0;32m<ipython-input-314-295c26deceb9>\u001b[0m in \u001b[0;36m<module>\u001b[0;34m()\u001b[0m\n\u001b[1;32m      1\u001b[0m \u001b[0mdata_both_fighters\u001b[0m\u001b[0;34m[\u001b[0m\u001b[0;34m'home'\u001b[0m\u001b[0;34m]\u001b[0m \u001b[0;34m=\u001b[0m \u001b[0;36m0\u001b[0m\u001b[0;34m\u001b[0m\u001b[0m\n\u001b[0;32m----> 2\u001b[0;31m \u001b[0mdata_both_fighters\u001b[0m\u001b[0;34m[\u001b[0m\u001b[0;34m'home'\u001b[0m\u001b[0;34m]\u001b[0m\u001b[0;34m[\u001b[0m\u001b[0mx\u001b[0m\u001b[0;34m]\u001b[0m \u001b[0;34m=\u001b[0m \u001b[0;34m(\u001b[0m\u001b[0mdata_both_fighters\u001b[0m\u001b[0;34m[\u001b[0m\u001b[0;34m'hometown'\u001b[0m\u001b[0;34m]\u001b[0m\u001b[0;34m[\u001b[0m\u001b[0mx\u001b[0m\u001b[0;34m]\u001b[0m\u001b[0;34m[\u001b[0m\u001b[0;34m-\u001b[0m\u001b[0;36m1\u001b[0m\u001b[0;34m]\u001b[0m \u001b[0;32mfor\u001b[0m \u001b[0mx\u001b[0m \u001b[0;32min\u001b[0m \u001b[0mdata_both_fighters\u001b[0m\u001b[0;34m.\u001b[0m\u001b[0mindex\u001b[0m\u001b[0;34m)\u001b[0m\u001b[0;34m\u001b[0m\u001b[0m\n\u001b[0m",
      "\u001b[0;32m/anaconda3/envs/ml-ufc-env/lib/python3.6/site-packages/pandas/core/series.py\u001b[0m in \u001b[0;36m__setitem__\u001b[0;34m(self, key, value)\u001b[0m\n\u001b[1;32m    937\u001b[0m         \u001b[0;31m# do the setitem\u001b[0m\u001b[0;34m\u001b[0m\u001b[0;34m\u001b[0m\u001b[0m\n\u001b[1;32m    938\u001b[0m         \u001b[0mcacher_needs_updating\u001b[0m \u001b[0;34m=\u001b[0m \u001b[0mself\u001b[0m\u001b[0;34m.\u001b[0m\u001b[0m_check_is_chained_assignment_possible\u001b[0m\u001b[0;34m(\u001b[0m\u001b[0;34m)\u001b[0m\u001b[0;34m\u001b[0m\u001b[0m\n\u001b[0;32m--> 939\u001b[0;31m         \u001b[0msetitem\u001b[0m\u001b[0;34m(\u001b[0m\u001b[0mkey\u001b[0m\u001b[0;34m,\u001b[0m \u001b[0mvalue\u001b[0m\u001b[0;34m)\u001b[0m\u001b[0;34m\u001b[0m\u001b[0m\n\u001b[0m\u001b[1;32m    940\u001b[0m         \u001b[0;32mif\u001b[0m \u001b[0mcacher_needs_updating\u001b[0m\u001b[0;34m:\u001b[0m\u001b[0;34m\u001b[0m\u001b[0m\n\u001b[1;32m    941\u001b[0m             \u001b[0mself\u001b[0m\u001b[0;34m.\u001b[0m\u001b[0m_maybe_update_cacher\u001b[0m\u001b[0;34m(\u001b[0m\u001b[0;34m)\u001b[0m\u001b[0;34m\u001b[0m\u001b[0m\n",
      "\u001b[0;32m/anaconda3/envs/ml-ufc-env/lib/python3.6/site-packages/pandas/core/series.py\u001b[0m in \u001b[0;36msetitem\u001b[0;34m(key, value)\u001b[0m\n\u001b[1;32m    933\u001b[0m                     \u001b[0;32mpass\u001b[0m\u001b[0;34m\u001b[0m\u001b[0m\n\u001b[1;32m    934\u001b[0m \u001b[0;34m\u001b[0m\u001b[0m\n\u001b[0;32m--> 935\u001b[0;31m             \u001b[0mself\u001b[0m\u001b[0;34m.\u001b[0m\u001b[0m_set_with\u001b[0m\u001b[0;34m(\u001b[0m\u001b[0mkey\u001b[0m\u001b[0;34m,\u001b[0m \u001b[0mvalue\u001b[0m\u001b[0;34m)\u001b[0m\u001b[0;34m\u001b[0m\u001b[0m\n\u001b[0m\u001b[1;32m    936\u001b[0m \u001b[0;34m\u001b[0m\u001b[0m\n\u001b[1;32m    937\u001b[0m         \u001b[0;31m# do the setitem\u001b[0m\u001b[0;34m\u001b[0m\u001b[0;34m\u001b[0m\u001b[0m\n",
      "\u001b[0;32m/anaconda3/envs/ml-ufc-env/lib/python3.6/site-packages/pandas/core/series.py\u001b[0m in \u001b[0;36m_set_with\u001b[0;34m(self, key, value)\u001b[0m\n\u001b[1;32m    975\u001b[0m             \u001b[0;32mif\u001b[0m \u001b[0mkey_type\u001b[0m \u001b[0;34m==\u001b[0m \u001b[0;34m'integer'\u001b[0m\u001b[0;34m:\u001b[0m\u001b[0;34m\u001b[0m\u001b[0m\n\u001b[1;32m    976\u001b[0m                 \u001b[0;32mif\u001b[0m \u001b[0mself\u001b[0m\u001b[0;34m.\u001b[0m\u001b[0mindex\u001b[0m\u001b[0;34m.\u001b[0m\u001b[0minferred_type\u001b[0m \u001b[0;34m==\u001b[0m \u001b[0;34m'integer'\u001b[0m\u001b[0;34m:\u001b[0m\u001b[0;34m\u001b[0m\u001b[0m\n\u001b[0;32m--> 977\u001b[0;31m                     \u001b[0mself\u001b[0m\u001b[0;34m.\u001b[0m\u001b[0m_set_labels\u001b[0m\u001b[0;34m(\u001b[0m\u001b[0mkey\u001b[0m\u001b[0;34m,\u001b[0m \u001b[0mvalue\u001b[0m\u001b[0;34m)\u001b[0m\u001b[0;34m\u001b[0m\u001b[0m\n\u001b[0m\u001b[1;32m    978\u001b[0m                 \u001b[0;32melse\u001b[0m\u001b[0;34m:\u001b[0m\u001b[0;34m\u001b[0m\u001b[0m\n\u001b[1;32m    979\u001b[0m                     \u001b[0;32mreturn\u001b[0m \u001b[0mself\u001b[0m\u001b[0;34m.\u001b[0m\u001b[0m_set_values\u001b[0m\u001b[0;34m(\u001b[0m\u001b[0mkey\u001b[0m\u001b[0;34m,\u001b[0m \u001b[0mvalue\u001b[0m\u001b[0;34m)\u001b[0m\u001b[0;34m\u001b[0m\u001b[0m\n",
      "\u001b[0;32m/anaconda3/envs/ml-ufc-env/lib/python3.6/site-packages/pandas/core/series.py\u001b[0m in \u001b[0;36m_set_labels\u001b[0;34m(self, key, value)\u001b[0m\n\u001b[1;32m    992\u001b[0m         \u001b[0;32mif\u001b[0m \u001b[0mmask\u001b[0m\u001b[0;34m.\u001b[0m\u001b[0many\u001b[0m\u001b[0;34m(\u001b[0m\u001b[0;34m)\u001b[0m\u001b[0;34m:\u001b[0m\u001b[0;34m\u001b[0m\u001b[0m\n\u001b[1;32m    993\u001b[0m             \u001b[0;32mraise\u001b[0m \u001b[0mValueError\u001b[0m\u001b[0;34m(\u001b[0m\u001b[0;34m'%s not contained in the index'\u001b[0m \u001b[0;34m%\u001b[0m \u001b[0mstr\u001b[0m\u001b[0;34m(\u001b[0m\u001b[0mkey\u001b[0m\u001b[0;34m[\u001b[0m\u001b[0mmask\u001b[0m\u001b[0;34m]\u001b[0m\u001b[0;34m)\u001b[0m\u001b[0;34m)\u001b[0m\u001b[0;34m\u001b[0m\u001b[0m\n\u001b[0;32m--> 994\u001b[0;31m         \u001b[0mself\u001b[0m\u001b[0;34m.\u001b[0m\u001b[0m_set_values\u001b[0m\u001b[0;34m(\u001b[0m\u001b[0mindexer\u001b[0m\u001b[0;34m,\u001b[0m \u001b[0mvalue\u001b[0m\u001b[0;34m)\u001b[0m\u001b[0;34m\u001b[0m\u001b[0m\n\u001b[0m\u001b[1;32m    995\u001b[0m \u001b[0;34m\u001b[0m\u001b[0m\n\u001b[1;32m    996\u001b[0m     \u001b[0;32mdef\u001b[0m \u001b[0m_set_values\u001b[0m\u001b[0;34m(\u001b[0m\u001b[0mself\u001b[0m\u001b[0;34m,\u001b[0m \u001b[0mkey\u001b[0m\u001b[0;34m,\u001b[0m \u001b[0mvalue\u001b[0m\u001b[0;34m)\u001b[0m\u001b[0;34m:\u001b[0m\u001b[0;34m\u001b[0m\u001b[0m\n",
      "\u001b[0;32m/anaconda3/envs/ml-ufc-env/lib/python3.6/site-packages/pandas/core/series.py\u001b[0m in \u001b[0;36m_set_values\u001b[0;34m(self, key, value)\u001b[0m\n\u001b[1;32m    997\u001b[0m         \u001b[0;32mif\u001b[0m \u001b[0misinstance\u001b[0m\u001b[0;34m(\u001b[0m\u001b[0mkey\u001b[0m\u001b[0;34m,\u001b[0m \u001b[0mSeries\u001b[0m\u001b[0;34m)\u001b[0m\u001b[0;34m:\u001b[0m\u001b[0;34m\u001b[0m\u001b[0m\n\u001b[1;32m    998\u001b[0m             \u001b[0mkey\u001b[0m \u001b[0;34m=\u001b[0m \u001b[0mkey\u001b[0m\u001b[0;34m.\u001b[0m\u001b[0m_values\u001b[0m\u001b[0;34m\u001b[0m\u001b[0m\n\u001b[0;32m--> 999\u001b[0;31m         \u001b[0mself\u001b[0m\u001b[0;34m.\u001b[0m\u001b[0m_data\u001b[0m \u001b[0;34m=\u001b[0m \u001b[0mself\u001b[0m\u001b[0;34m.\u001b[0m\u001b[0m_data\u001b[0m\u001b[0;34m.\u001b[0m\u001b[0msetitem\u001b[0m\u001b[0;34m(\u001b[0m\u001b[0mindexer\u001b[0m\u001b[0;34m=\u001b[0m\u001b[0mkey\u001b[0m\u001b[0;34m,\u001b[0m \u001b[0mvalue\u001b[0m\u001b[0;34m=\u001b[0m\u001b[0mvalue\u001b[0m\u001b[0;34m)\u001b[0m\u001b[0;34m\u001b[0m\u001b[0m\n\u001b[0m\u001b[1;32m   1000\u001b[0m         \u001b[0mself\u001b[0m\u001b[0;34m.\u001b[0m\u001b[0m_maybe_update_cacher\u001b[0m\u001b[0;34m(\u001b[0m\u001b[0;34m)\u001b[0m\u001b[0;34m\u001b[0m\u001b[0m\n\u001b[1;32m   1001\u001b[0m \u001b[0;34m\u001b[0m\u001b[0m\n",
      "\u001b[0;32m/anaconda3/envs/ml-ufc-env/lib/python3.6/site-packages/pandas/core/internals.py\u001b[0m in \u001b[0;36msetitem\u001b[0;34m(self, **kwargs)\u001b[0m\n\u001b[1;32m   3691\u001b[0m \u001b[0;34m\u001b[0m\u001b[0m\n\u001b[1;32m   3692\u001b[0m     \u001b[0;32mdef\u001b[0m \u001b[0msetitem\u001b[0m\u001b[0;34m(\u001b[0m\u001b[0mself\u001b[0m\u001b[0;34m,\u001b[0m \u001b[0;34m**\u001b[0m\u001b[0mkwargs\u001b[0m\u001b[0;34m)\u001b[0m\u001b[0;34m:\u001b[0m\u001b[0;34m\u001b[0m\u001b[0m\n\u001b[0;32m-> 3693\u001b[0;31m         \u001b[0;32mreturn\u001b[0m \u001b[0mself\u001b[0m\u001b[0;34m.\u001b[0m\u001b[0mapply\u001b[0m\u001b[0;34m(\u001b[0m\u001b[0;34m'setitem'\u001b[0m\u001b[0;34m,\u001b[0m \u001b[0;34m**\u001b[0m\u001b[0mkwargs\u001b[0m\u001b[0;34m)\u001b[0m\u001b[0;34m\u001b[0m\u001b[0m\n\u001b[0m\u001b[1;32m   3694\u001b[0m \u001b[0;34m\u001b[0m\u001b[0m\n\u001b[1;32m   3695\u001b[0m     \u001b[0;32mdef\u001b[0m \u001b[0mputmask\u001b[0m\u001b[0;34m(\u001b[0m\u001b[0mself\u001b[0m\u001b[0;34m,\u001b[0m \u001b[0;34m**\u001b[0m\u001b[0mkwargs\u001b[0m\u001b[0;34m)\u001b[0m\u001b[0;34m:\u001b[0m\u001b[0;34m\u001b[0m\u001b[0m\n",
      "\u001b[0;32m/anaconda3/envs/ml-ufc-env/lib/python3.6/site-packages/pandas/core/internals.py\u001b[0m in \u001b[0;36mapply\u001b[0;34m(self, f, axes, filter, do_integrity_check, consolidate, **kwargs)\u001b[0m\n\u001b[1;32m   3579\u001b[0m \u001b[0;34m\u001b[0m\u001b[0m\n\u001b[1;32m   3580\u001b[0m             \u001b[0mkwargs\u001b[0m\u001b[0;34m[\u001b[0m\u001b[0;34m'mgr'\u001b[0m\u001b[0;34m]\u001b[0m \u001b[0;34m=\u001b[0m \u001b[0mself\u001b[0m\u001b[0;34m\u001b[0m\u001b[0m\n\u001b[0;32m-> 3581\u001b[0;31m             \u001b[0mapplied\u001b[0m \u001b[0;34m=\u001b[0m \u001b[0mgetattr\u001b[0m\u001b[0;34m(\u001b[0m\u001b[0mb\u001b[0m\u001b[0;34m,\u001b[0m \u001b[0mf\u001b[0m\u001b[0;34m)\u001b[0m\u001b[0;34m(\u001b[0m\u001b[0;34m**\u001b[0m\u001b[0mkwargs\u001b[0m\u001b[0;34m)\u001b[0m\u001b[0;34m\u001b[0m\u001b[0m\n\u001b[0m\u001b[1;32m   3582\u001b[0m             \u001b[0mresult_blocks\u001b[0m \u001b[0;34m=\u001b[0m \u001b[0m_extend_blocks\u001b[0m\u001b[0;34m(\u001b[0m\u001b[0mapplied\u001b[0m\u001b[0;34m,\u001b[0m \u001b[0mresult_blocks\u001b[0m\u001b[0;34m)\u001b[0m\u001b[0;34m\u001b[0m\u001b[0m\n\u001b[1;32m   3583\u001b[0m \u001b[0;34m\u001b[0m\u001b[0m\n",
      "\u001b[0;32m/anaconda3/envs/ml-ufc-env/lib/python3.6/site-packages/pandas/core/internals.py\u001b[0m in \u001b[0;36msetitem\u001b[0;34m(self, indexer, value, mgr)\u001b[0m\n\u001b[1;32m    890\u001b[0m \u001b[0;34m\u001b[0m\u001b[0m\n\u001b[1;32m    891\u001b[0m         \u001b[0;31m# length checking\u001b[0m\u001b[0;34m\u001b[0m\u001b[0;34m\u001b[0m\u001b[0m\n\u001b[0;32m--> 892\u001b[0;31m         \u001b[0mcheck_setitem_lengths\u001b[0m\u001b[0;34m(\u001b[0m\u001b[0mindexer\u001b[0m\u001b[0;34m,\u001b[0m \u001b[0mvalue\u001b[0m\u001b[0;34m,\u001b[0m \u001b[0mvalues\u001b[0m\u001b[0;34m)\u001b[0m\u001b[0;34m\u001b[0m\u001b[0m\n\u001b[0m\u001b[1;32m    893\u001b[0m \u001b[0;34m\u001b[0m\u001b[0m\n\u001b[1;32m    894\u001b[0m         \u001b[0;32mdef\u001b[0m \u001b[0m_is_scalar_indexer\u001b[0m\u001b[0;34m(\u001b[0m\u001b[0mindexer\u001b[0m\u001b[0;34m)\u001b[0m\u001b[0;34m:\u001b[0m\u001b[0;34m\u001b[0m\u001b[0m\n",
      "\u001b[0;32m/anaconda3/envs/ml-ufc-env/lib/python3.6/site-packages/pandas/core/indexing.py\u001b[0m in \u001b[0;36mcheck_setitem_lengths\u001b[0;34m(indexer, value, values)\u001b[0m\n\u001b[1;32m   2397\u001b[0m     \u001b[0;31m# boolean with truth values == len of the value is ok too\u001b[0m\u001b[0;34m\u001b[0m\u001b[0;34m\u001b[0m\u001b[0m\n\u001b[1;32m   2398\u001b[0m     \u001b[0;32mif\u001b[0m \u001b[0misinstance\u001b[0m\u001b[0;34m(\u001b[0m\u001b[0mindexer\u001b[0m\u001b[0;34m,\u001b[0m \u001b[0;34m(\u001b[0m\u001b[0mnp\u001b[0m\u001b[0;34m.\u001b[0m\u001b[0mndarray\u001b[0m\u001b[0;34m,\u001b[0m \u001b[0mlist\u001b[0m\u001b[0;34m)\u001b[0m\u001b[0;34m)\u001b[0m\u001b[0;34m:\u001b[0m\u001b[0;34m\u001b[0m\u001b[0m\n\u001b[0;32m-> 2399\u001b[0;31m         \u001b[0;32mif\u001b[0m \u001b[0mis_list_like\u001b[0m\u001b[0;34m(\u001b[0m\u001b[0mvalue\u001b[0m\u001b[0;34m)\u001b[0m \u001b[0;32mand\u001b[0m \u001b[0mlen\u001b[0m\u001b[0;34m(\u001b[0m\u001b[0mindexer\u001b[0m\u001b[0;34m)\u001b[0m \u001b[0;34m!=\u001b[0m \u001b[0mlen\u001b[0m\u001b[0;34m(\u001b[0m\u001b[0mvalue\u001b[0m\u001b[0;34m)\u001b[0m\u001b[0;34m:\u001b[0m\u001b[0;34m\u001b[0m\u001b[0m\n\u001b[0m\u001b[1;32m   2400\u001b[0m             if not (isinstance(indexer, np.ndarray) and\n\u001b[1;32m   2401\u001b[0m                     \u001b[0mindexer\u001b[0m\u001b[0;34m.\u001b[0m\u001b[0mdtype\u001b[0m \u001b[0;34m==\u001b[0m \u001b[0mnp\u001b[0m\u001b[0;34m.\u001b[0m\u001b[0mbool_\u001b[0m \u001b[0;32mand\u001b[0m\u001b[0;34m\u001b[0m\u001b[0m\n",
      "\u001b[0;31mTypeError\u001b[0m: object of type 'generator' has no len()"
     ]
    }
   ],
   "source": [
    "data_both_fighters['home'] = 0\n",
    "data_both_fighters['home'][x] = (data_both_fighters['hometown'][x][-1] for x in data_both_fighters.index)"
   ]
  },
  {
   "cell_type": "code",
   "execution_count": 267,
   "metadata": {
    "ExecuteTime": {
     "end_time": "2019-07-22T15:10:16.364965Z",
     "start_time": "2019-07-22T15:10:16.355251Z"
    },
    "hidden": true,
    "scrolled": false
   },
   "outputs": [
    {
     "ename": "TypeError",
     "evalue": "'float' object is not subscriptable",
     "output_type": "error",
     "traceback": [
      "\u001b[0;31m---------------------------------------------------------------------------\u001b[0m",
      "\u001b[0;31mTypeError\u001b[0m                                 Traceback (most recent call last)",
      "\u001b[0;32m<ipython-input-267-259bffb763a1>\u001b[0m in \u001b[0;36m<module>\u001b[0;34m()\u001b[0m\n\u001b[0;32m----> 1\u001b[0;31m \u001b[0mdata_both_fighters\u001b[0m\u001b[0;34m[\u001b[0m\u001b[0;34m'hometown'\u001b[0m\u001b[0;34m]\u001b[0m \u001b[0;34m=\u001b[0m \u001b[0mlist\u001b[0m\u001b[0;34m(\u001b[0m\u001b[0mmap\u001b[0m\u001b[0;34m(\u001b[0m\u001b[0;32mlambda\u001b[0m \u001b[0mx\u001b[0m\u001b[0;34m:\u001b[0m \u001b[0mx\u001b[0m\u001b[0;34m[\u001b[0m\u001b[0;34m-\u001b[0m\u001b[0;36m1\u001b[0m\u001b[0;34m]\u001b[0m\u001b[0;34m,\u001b[0m \u001b[0mdata_both_fighters\u001b[0m\u001b[0;34m[\u001b[0m\u001b[0;34m'hometown'\u001b[0m\u001b[0;34m]\u001b[0m\u001b[0;34m)\u001b[0m\u001b[0;34m)\u001b[0m\u001b[0;34m\u001b[0m\u001b[0m\n\u001b[0m",
      "\u001b[0;32m<ipython-input-267-259bffb763a1>\u001b[0m in \u001b[0;36m<lambda>\u001b[0;34m(x)\u001b[0m\n\u001b[0;32m----> 1\u001b[0;31m \u001b[0mdata_both_fighters\u001b[0m\u001b[0;34m[\u001b[0m\u001b[0;34m'hometown'\u001b[0m\u001b[0;34m]\u001b[0m \u001b[0;34m=\u001b[0m \u001b[0mlist\u001b[0m\u001b[0;34m(\u001b[0m\u001b[0mmap\u001b[0m\u001b[0;34m(\u001b[0m\u001b[0;32mlambda\u001b[0m \u001b[0mx\u001b[0m\u001b[0;34m:\u001b[0m \u001b[0mx\u001b[0m\u001b[0;34m[\u001b[0m\u001b[0;34m-\u001b[0m\u001b[0;36m1\u001b[0m\u001b[0;34m]\u001b[0m\u001b[0;34m,\u001b[0m \u001b[0mdata_both_fighters\u001b[0m\u001b[0;34m[\u001b[0m\u001b[0;34m'hometown'\u001b[0m\u001b[0;34m]\u001b[0m\u001b[0;34m)\u001b[0m\u001b[0;34m)\u001b[0m\u001b[0;34m\u001b[0m\u001b[0m\n\u001b[0m",
      "\u001b[0;31mTypeError\u001b[0m: 'float' object is not subscriptable"
     ]
    }
   ],
   "source": [
    "data_both_fighters['hometown'] = list(map(lambda x: x[-1], data_both_fighters['hometown']))"
   ]
  },
  {
   "cell_type": "code",
   "execution_count": 250,
   "metadata": {
    "ExecuteTime": {
     "end_time": "2019-07-22T14:55:39.765804Z",
     "start_time": "2019-07-22T14:55:39.763117Z"
    },
    "hidden": true
   },
   "outputs": [],
   "source": [
    "def grab_last_element(list_of_lists):\n",
    "    '''Returns a list of lists, with only the last element in each inner list returned'''\n",
    "    return list(map(lambda x: x[-1], list_of_lists))"
   ]
  },
  {
   "cell_type": "code",
   "execution_count": 251,
   "metadata": {
    "ExecuteTime": {
     "end_time": "2019-07-22T14:55:51.670300Z",
     "start_time": "2019-07-22T14:55:51.658445Z"
    },
    "collapsed": true,
    "hidden": true
   },
   "outputs": [
    {
     "ename": "TypeError",
     "evalue": "'float' object is not subscriptable",
     "output_type": "error",
     "traceback": [
      "\u001b[0;31m---------------------------------------------------------------------------\u001b[0m",
      "\u001b[0;31mTypeError\u001b[0m                                 Traceback (most recent call last)",
      "\u001b[0;32m<ipython-input-251-d0f2880d0b06>\u001b[0m in \u001b[0;36m<module>\u001b[0;34m()\u001b[0m\n\u001b[0;32m----> 1\u001b[0;31m \u001b[0mgrab_last_element\u001b[0m\u001b[0;34m(\u001b[0m\u001b[0mdata_both_fighters\u001b[0m\u001b[0;34m.\u001b[0m\u001b[0mhometown\u001b[0m\u001b[0;34m)\u001b[0m\u001b[0;34m\u001b[0m\u001b[0m\n\u001b[0m",
      "\u001b[0;32m<ipython-input-250-5444eb3ae318>\u001b[0m in \u001b[0;36mgrab_last_element\u001b[0;34m(list_of_lists)\u001b[0m\n\u001b[1;32m      1\u001b[0m \u001b[0;32mdef\u001b[0m \u001b[0mgrab_last_element\u001b[0m\u001b[0;34m(\u001b[0m\u001b[0mlist_of_lists\u001b[0m\u001b[0;34m)\u001b[0m\u001b[0;34m:\u001b[0m\u001b[0;34m\u001b[0m\u001b[0m\n\u001b[1;32m      2\u001b[0m     \u001b[0;34m'''Returns a list of lists, with only the last element in each inner list returned'''\u001b[0m\u001b[0;34m\u001b[0m\u001b[0m\n\u001b[0;32m----> 3\u001b[0;31m     \u001b[0;32mreturn\u001b[0m \u001b[0mlist\u001b[0m\u001b[0;34m(\u001b[0m\u001b[0mmap\u001b[0m\u001b[0;34m(\u001b[0m\u001b[0;32mlambda\u001b[0m \u001b[0mx\u001b[0m\u001b[0;34m:\u001b[0m \u001b[0mx\u001b[0m\u001b[0;34m[\u001b[0m\u001b[0;34m-\u001b[0m\u001b[0;36m1\u001b[0m\u001b[0;34m]\u001b[0m\u001b[0;34m,\u001b[0m \u001b[0mlist_of_lists\u001b[0m\u001b[0;34m)\u001b[0m\u001b[0;34m)\u001b[0m\u001b[0;34m\u001b[0m\u001b[0m\n\u001b[0m",
      "\u001b[0;32m<ipython-input-250-5444eb3ae318>\u001b[0m in \u001b[0;36m<lambda>\u001b[0;34m(x)\u001b[0m\n\u001b[1;32m      1\u001b[0m \u001b[0;32mdef\u001b[0m \u001b[0mgrab_last_element\u001b[0m\u001b[0;34m(\u001b[0m\u001b[0mlist_of_lists\u001b[0m\u001b[0;34m)\u001b[0m\u001b[0;34m:\u001b[0m\u001b[0;34m\u001b[0m\u001b[0m\n\u001b[1;32m      2\u001b[0m     \u001b[0;34m'''Returns a list of lists, with only the last element in each inner list returned'''\u001b[0m\u001b[0;34m\u001b[0m\u001b[0m\n\u001b[0;32m----> 3\u001b[0;31m     \u001b[0;32mreturn\u001b[0m \u001b[0mlist\u001b[0m\u001b[0;34m(\u001b[0m\u001b[0mmap\u001b[0m\u001b[0;34m(\u001b[0m\u001b[0;32mlambda\u001b[0m \u001b[0mx\u001b[0m\u001b[0;34m:\u001b[0m \u001b[0mx\u001b[0m\u001b[0;34m[\u001b[0m\u001b[0;34m-\u001b[0m\u001b[0;36m1\u001b[0m\u001b[0;34m]\u001b[0m\u001b[0;34m,\u001b[0m \u001b[0mlist_of_lists\u001b[0m\u001b[0;34m)\u001b[0m\u001b[0;34m)\u001b[0m\u001b[0;34m\u001b[0m\u001b[0m\n\u001b[0m",
      "\u001b[0;31mTypeError\u001b[0m: 'float' object is not subscriptable"
     ]
    }
   ],
   "source": [
    "grab_last_element(data_both_fighters.hometown)"
   ]
  },
  {
   "cell_type": "code",
   "execution_count": 247,
   "metadata": {
    "ExecuteTime": {
     "end_time": "2019-07-22T14:53:09.819925Z",
     "start_time": "2019-07-22T14:53:09.815683Z"
    },
    "hidden": true
   },
   "outputs": [
    {
     "data": {
      "text/plain": [
       "[[62, 89, 9, 43, 41],\n",
       " [33, 80, 76, 75, 44],\n",
       " [42, 15, 57, 56, 43],\n",
       " [52, 72, 96, 80, 89],\n",
       " [27, 85, 31, 17, 61]]"
      ]
     },
     "execution_count": 247,
     "metadata": {},
     "output_type": "execute_result"
    }
   ],
   "source": [
    "temp_list = []\n",
    "for x in range(5):\n",
    "    temp_list.append(list(np.random.randint(1,100,5)))\n",
    "temp_list"
   ]
  },
  {
   "cell_type": "code",
   "execution_count": 249,
   "metadata": {
    "ExecuteTime": {
     "end_time": "2019-07-22T14:54:21.589533Z",
     "start_time": "2019-07-22T14:54:21.584837Z"
    },
    "hidden": true
   },
   "outputs": [
    {
     "data": {
      "text/plain": [
       "[41, 44, 43, 89, 61]"
      ]
     },
     "execution_count": 249,
     "metadata": {},
     "output_type": "execute_result"
    }
   ],
   "source": [
    "# map(fun, iter)\n",
    "list(map(lambda x: x[-1], temp_list))"
   ]
  },
  {
   "cell_type": "code",
   "execution_count": 230,
   "metadata": {
    "ExecuteTime": {
     "end_time": "2019-07-22T14:46:29.913553Z",
     "start_time": "2019-07-22T14:46:29.892797Z"
    },
    "hidden": true,
    "scrolled": true
   },
   "outputs": [
    {
     "ename": "KeyError",
     "evalue": "-1",
     "output_type": "error",
     "traceback": [
      "\u001b[0;31m---------------------------------------------------------------------------\u001b[0m",
      "\u001b[0;31mKeyError\u001b[0m                                  Traceback (most recent call last)",
      "\u001b[0;32m<ipython-input-230-547b477f943c>\u001b[0m in \u001b[0;36m<module>\u001b[0;34m()\u001b[0m\n\u001b[0;32m----> 1\u001b[0;31m \u001b[0mdata_both_fighters\u001b[0m\u001b[0;34m[\u001b[0m\u001b[0;34m'hometown'\u001b[0m\u001b[0;34m]\u001b[0m \u001b[0;34m=\u001b[0m \u001b[0mgrab_last_element\u001b[0m\u001b[0;34m(\u001b[0m\u001b[0mdata_both_fighters\u001b[0m\u001b[0;34m[\u001b[0m\u001b[0;34m'hometown'\u001b[0m\u001b[0;34m]\u001b[0m\u001b[0;34m)\u001b[0m\u001b[0;34m\u001b[0m\u001b[0m\n\u001b[0m",
      "\u001b[0;32m<ipython-input-228-c705ff5cbd99>\u001b[0m in \u001b[0;36mgrab_last_element\u001b[0;34m(_list)\u001b[0m\n\u001b[1;32m      1\u001b[0m \u001b[0;32mdef\u001b[0m \u001b[0mgrab_last_element\u001b[0m\u001b[0;34m(\u001b[0m\u001b[0m_list\u001b[0m\u001b[0;34m)\u001b[0m\u001b[0;34m:\u001b[0m\u001b[0;34m\u001b[0m\u001b[0m\n\u001b[0;32m----> 2\u001b[0;31m     \u001b[0melement\u001b[0m \u001b[0;34m=\u001b[0m \u001b[0m_list\u001b[0m\u001b[0;34m[\u001b[0m\u001b[0;34m-\u001b[0m\u001b[0;36m1\u001b[0m\u001b[0;34m]\u001b[0m\u001b[0;34m\u001b[0m\u001b[0m\n\u001b[0m\u001b[1;32m      3\u001b[0m     \u001b[0;32mreturn\u001b[0m \u001b[0melement\u001b[0m\u001b[0;34m\u001b[0m\u001b[0m\n",
      "\u001b[0;32m/anaconda3/envs/ml-ufc-env/lib/python3.6/site-packages/pandas/core/series.py\u001b[0m in \u001b[0;36m__getitem__\u001b[0;34m(self, key)\u001b[0m\n\u001b[1;32m    765\u001b[0m         \u001b[0mkey\u001b[0m \u001b[0;34m=\u001b[0m \u001b[0mcom\u001b[0m\u001b[0;34m.\u001b[0m\u001b[0m_apply_if_callable\u001b[0m\u001b[0;34m(\u001b[0m\u001b[0mkey\u001b[0m\u001b[0;34m,\u001b[0m \u001b[0mself\u001b[0m\u001b[0;34m)\u001b[0m\u001b[0;34m\u001b[0m\u001b[0m\n\u001b[1;32m    766\u001b[0m         \u001b[0;32mtry\u001b[0m\u001b[0;34m:\u001b[0m\u001b[0;34m\u001b[0m\u001b[0m\n\u001b[0;32m--> 767\u001b[0;31m             \u001b[0mresult\u001b[0m \u001b[0;34m=\u001b[0m \u001b[0mself\u001b[0m\u001b[0;34m.\u001b[0m\u001b[0mindex\u001b[0m\u001b[0;34m.\u001b[0m\u001b[0mget_value\u001b[0m\u001b[0;34m(\u001b[0m\u001b[0mself\u001b[0m\u001b[0;34m,\u001b[0m \u001b[0mkey\u001b[0m\u001b[0;34m)\u001b[0m\u001b[0;34m\u001b[0m\u001b[0m\n\u001b[0m\u001b[1;32m    768\u001b[0m \u001b[0;34m\u001b[0m\u001b[0m\n\u001b[1;32m    769\u001b[0m             \u001b[0;32mif\u001b[0m \u001b[0;32mnot\u001b[0m \u001b[0mis_scalar\u001b[0m\u001b[0;34m(\u001b[0m\u001b[0mresult\u001b[0m\u001b[0;34m)\u001b[0m\u001b[0;34m:\u001b[0m\u001b[0;34m\u001b[0m\u001b[0m\n",
      "\u001b[0;32m/anaconda3/envs/ml-ufc-env/lib/python3.6/site-packages/pandas/core/indexes/base.py\u001b[0m in \u001b[0;36mget_value\u001b[0;34m(self, series, key)\u001b[0m\n\u001b[1;32m   3116\u001b[0m         \u001b[0;32mtry\u001b[0m\u001b[0;34m:\u001b[0m\u001b[0;34m\u001b[0m\u001b[0m\n\u001b[1;32m   3117\u001b[0m             return self._engine.get_value(s, k,\n\u001b[0;32m-> 3118\u001b[0;31m                                           tz=getattr(series.dtype, 'tz', None))\n\u001b[0m\u001b[1;32m   3119\u001b[0m         \u001b[0;32mexcept\u001b[0m \u001b[0mKeyError\u001b[0m \u001b[0;32mas\u001b[0m \u001b[0me1\u001b[0m\u001b[0;34m:\u001b[0m\u001b[0;34m\u001b[0m\u001b[0m\n\u001b[1;32m   3120\u001b[0m             \u001b[0;32mif\u001b[0m \u001b[0mlen\u001b[0m\u001b[0;34m(\u001b[0m\u001b[0mself\u001b[0m\u001b[0;34m)\u001b[0m \u001b[0;34m>\u001b[0m \u001b[0;36m0\u001b[0m \u001b[0;32mand\u001b[0m \u001b[0mself\u001b[0m\u001b[0;34m.\u001b[0m\u001b[0minferred_type\u001b[0m \u001b[0;32min\u001b[0m \u001b[0;34m[\u001b[0m\u001b[0;34m'integer'\u001b[0m\u001b[0;34m,\u001b[0m \u001b[0;34m'boolean'\u001b[0m\u001b[0;34m]\u001b[0m\u001b[0;34m:\u001b[0m\u001b[0;34m\u001b[0m\u001b[0m\n",
      "\u001b[0;32mpandas/_libs/index.pyx\u001b[0m in \u001b[0;36mpandas._libs.index.IndexEngine.get_value\u001b[0;34m()\u001b[0m\n",
      "\u001b[0;32mpandas/_libs/index.pyx\u001b[0m in \u001b[0;36mpandas._libs.index.IndexEngine.get_value\u001b[0;34m()\u001b[0m\n",
      "\u001b[0;32mpandas/_libs/index.pyx\u001b[0m in \u001b[0;36mpandas._libs.index.IndexEngine.get_loc\u001b[0;34m()\u001b[0m\n",
      "\u001b[0;32mpandas/_libs/hashtable_class_helper.pxi\u001b[0m in \u001b[0;36mpandas._libs.hashtable.Int64HashTable.get_item\u001b[0;34m()\u001b[0m\n",
      "\u001b[0;32mpandas/_libs/hashtable_class_helper.pxi\u001b[0m in \u001b[0;36mpandas._libs.hashtable.Int64HashTable.get_item\u001b[0;34m()\u001b[0m\n",
      "\u001b[0;31mKeyError\u001b[0m: -1"
     ]
    }
   ],
   "source": [
    "data_both_fighters['hometown'] = grab_last_element(data_both_fighters['hometown'])"
   ]
  },
  {
   "cell_type": "code",
   "execution_count": 219,
   "metadata": {
    "ExecuteTime": {
     "end_time": "2019-07-22T14:37:42.986949Z",
     "start_time": "2019-07-22T14:37:41.850508Z"
    },
    "hidden": true
   },
   "outputs": [
    {
     "name": "stderr",
     "output_type": "stream",
     "text": [
      "/anaconda3/envs/ml-ufc-env/lib/python3.6/site-packages/ipykernel_launcher.py:2: SettingWithCopyWarning: \n",
      "A value is trying to be set on a copy of a slice from a DataFrame\n",
      "\n",
      "See the caveats in the documentation: http://pandas.pydata.org/pandas-docs/stable/indexing.html#indexing-view-versus-copy\n",
      "  \n"
     ]
    },
    {
     "ename": "KeyError",
     "evalue": "42",
     "output_type": "error",
     "traceback": [
      "\u001b[0;31m---------------------------------------------------------------------------\u001b[0m",
      "\u001b[0;31mKeyError\u001b[0m                                  Traceback (most recent call last)",
      "\u001b[0;32m<ipython-input-219-6949a3fd4b77>\u001b[0m in \u001b[0;36m<module>\u001b[0;34m()\u001b[0m\n\u001b[1;32m      1\u001b[0m \u001b[0;32mfor\u001b[0m \u001b[0mx\u001b[0m \u001b[0;32min\u001b[0m \u001b[0mlist\u001b[0m\u001b[0;34m(\u001b[0m\u001b[0mrange\u001b[0m\u001b[0;34m(\u001b[0m\u001b[0mlen\u001b[0m\u001b[0;34m(\u001b[0m\u001b[0mdata_both_fighters\u001b[0m\u001b[0;34m[\u001b[0m\u001b[0;34m'hometown'\u001b[0m\u001b[0;34m]\u001b[0m\u001b[0;34m)\u001b[0m\u001b[0;34m)\u001b[0m\u001b[0;34m)\u001b[0m\u001b[0;34m:\u001b[0m\u001b[0;34m\u001b[0m\u001b[0m\n\u001b[0;32m----> 2\u001b[0;31m     \u001b[0mdata_both_fighters\u001b[0m\u001b[0;34m[\u001b[0m\u001b[0;34m'hometown'\u001b[0m\u001b[0;34m]\u001b[0m\u001b[0;34m[\u001b[0m\u001b[0mx\u001b[0m\u001b[0;34m]\u001b[0m \u001b[0;34m=\u001b[0m \u001b[0mdata_both_fighters\u001b[0m\u001b[0;34m[\u001b[0m\u001b[0;34m'hometown'\u001b[0m\u001b[0;34m]\u001b[0m\u001b[0;34m[\u001b[0m\u001b[0mx\u001b[0m\u001b[0;34m]\u001b[0m\u001b[0;34m[\u001b[0m\u001b[0;34m-\u001b[0m\u001b[0;36m1\u001b[0m\u001b[0;34m]\u001b[0m\u001b[0;34m\u001b[0m\u001b[0m\n\u001b[0m",
      "\u001b[0;32m/anaconda3/envs/ml-ufc-env/lib/python3.6/site-packages/pandas/core/series.py\u001b[0m in \u001b[0;36m__getitem__\u001b[0;34m(self, key)\u001b[0m\n\u001b[1;32m    765\u001b[0m         \u001b[0mkey\u001b[0m \u001b[0;34m=\u001b[0m \u001b[0mcom\u001b[0m\u001b[0;34m.\u001b[0m\u001b[0m_apply_if_callable\u001b[0m\u001b[0;34m(\u001b[0m\u001b[0mkey\u001b[0m\u001b[0;34m,\u001b[0m \u001b[0mself\u001b[0m\u001b[0;34m)\u001b[0m\u001b[0;34m\u001b[0m\u001b[0m\n\u001b[1;32m    766\u001b[0m         \u001b[0;32mtry\u001b[0m\u001b[0;34m:\u001b[0m\u001b[0;34m\u001b[0m\u001b[0m\n\u001b[0;32m--> 767\u001b[0;31m             \u001b[0mresult\u001b[0m \u001b[0;34m=\u001b[0m \u001b[0mself\u001b[0m\u001b[0;34m.\u001b[0m\u001b[0mindex\u001b[0m\u001b[0;34m.\u001b[0m\u001b[0mget_value\u001b[0m\u001b[0;34m(\u001b[0m\u001b[0mself\u001b[0m\u001b[0;34m,\u001b[0m \u001b[0mkey\u001b[0m\u001b[0;34m)\u001b[0m\u001b[0;34m\u001b[0m\u001b[0m\n\u001b[0m\u001b[1;32m    768\u001b[0m \u001b[0;34m\u001b[0m\u001b[0m\n\u001b[1;32m    769\u001b[0m             \u001b[0;32mif\u001b[0m \u001b[0;32mnot\u001b[0m \u001b[0mis_scalar\u001b[0m\u001b[0;34m(\u001b[0m\u001b[0mresult\u001b[0m\u001b[0;34m)\u001b[0m\u001b[0;34m:\u001b[0m\u001b[0;34m\u001b[0m\u001b[0m\n",
      "\u001b[0;32m/anaconda3/envs/ml-ufc-env/lib/python3.6/site-packages/pandas/core/indexes/base.py\u001b[0m in \u001b[0;36mget_value\u001b[0;34m(self, series, key)\u001b[0m\n\u001b[1;32m   3116\u001b[0m         \u001b[0;32mtry\u001b[0m\u001b[0;34m:\u001b[0m\u001b[0;34m\u001b[0m\u001b[0m\n\u001b[1;32m   3117\u001b[0m             return self._engine.get_value(s, k,\n\u001b[0;32m-> 3118\u001b[0;31m                                           tz=getattr(series.dtype, 'tz', None))\n\u001b[0m\u001b[1;32m   3119\u001b[0m         \u001b[0;32mexcept\u001b[0m \u001b[0mKeyError\u001b[0m \u001b[0;32mas\u001b[0m \u001b[0me1\u001b[0m\u001b[0;34m:\u001b[0m\u001b[0;34m\u001b[0m\u001b[0m\n\u001b[1;32m   3120\u001b[0m             \u001b[0;32mif\u001b[0m \u001b[0mlen\u001b[0m\u001b[0;34m(\u001b[0m\u001b[0mself\u001b[0m\u001b[0;34m)\u001b[0m \u001b[0;34m>\u001b[0m \u001b[0;36m0\u001b[0m \u001b[0;32mand\u001b[0m \u001b[0mself\u001b[0m\u001b[0;34m.\u001b[0m\u001b[0minferred_type\u001b[0m \u001b[0;32min\u001b[0m \u001b[0;34m[\u001b[0m\u001b[0;34m'integer'\u001b[0m\u001b[0;34m,\u001b[0m \u001b[0;34m'boolean'\u001b[0m\u001b[0;34m]\u001b[0m\u001b[0;34m:\u001b[0m\u001b[0;34m\u001b[0m\u001b[0m\n",
      "\u001b[0;32mpandas/_libs/index.pyx\u001b[0m in \u001b[0;36mpandas._libs.index.IndexEngine.get_value\u001b[0;34m()\u001b[0m\n",
      "\u001b[0;32mpandas/_libs/index.pyx\u001b[0m in \u001b[0;36mpandas._libs.index.IndexEngine.get_value\u001b[0;34m()\u001b[0m\n",
      "\u001b[0;32mpandas/_libs/index.pyx\u001b[0m in \u001b[0;36mpandas._libs.index.IndexEngine.get_loc\u001b[0;34m()\u001b[0m\n",
      "\u001b[0;32mpandas/_libs/hashtable_class_helper.pxi\u001b[0m in \u001b[0;36mpandas._libs.hashtable.Int64HashTable.get_item\u001b[0;34m()\u001b[0m\n",
      "\u001b[0;32mpandas/_libs/hashtable_class_helper.pxi\u001b[0m in \u001b[0;36mpandas._libs.hashtable.Int64HashTable.get_item\u001b[0;34m()\u001b[0m\n",
      "\u001b[0;31mKeyError\u001b[0m: 42"
     ]
    }
   ],
   "source": [
    "for x in list(range(len(data_both_fighters['hometown']))):    \n",
    "    data_both_fighters['hometown'][x] = data_both_fighters['hometown'][x][-1]"
   ]
  },
  {
   "cell_type": "code",
   "execution_count": 225,
   "metadata": {
    "ExecuteTime": {
     "end_time": "2019-07-22T14:38:11.489121Z",
     "start_time": "2019-07-22T14:38:11.481049Z"
    },
    "hidden": true,
    "scrolled": true
   },
   "outputs": [
    {
     "data": {
      "text/plain": [
       "<bound method IndexOpsMixin.value_counts of 0                                                Italy\n",
       "1                                               Brazil\n",
       "2                                                Japan\n",
       "3                                               Mexico\n",
       "4                                                  USA\n",
       "5                                                 Iran\n",
       "6                                               Canada\n",
       "7                                                  USA\n",
       "8                                                  USA\n",
       "9                                               Brazil\n",
       "10                                                 USA\n",
       "11                                            Scotland\n",
       "12                                              Brazil\n",
       "13                                             Vietnam\n",
       "14                                              Latvia\n",
       "15                                              Russia\n",
       "16                                              States\n",
       "17                                                 USA\n",
       "18                                              States\n",
       "19                                                 USA\n",
       "20                                              Canada\n",
       "21                                                 USA\n",
       "22                                                 USA\n",
       "23                                                 USA\n",
       "24                                              Cyprus\n",
       "25                                                 USA\n",
       "26                                             Ireland\n",
       "27                                              States\n",
       "28                                           Australia\n",
       "29                                                 USA\n",
       "                             ...                      \n",
       "2478                        [Rio, de, Janeiro, Brazil]\n",
       "2494                   [Campinas,, Sao, Paulo, Brazil]\n",
       "2502                                [Brasilia, Brazil]\n",
       "2517                      [Chesapeake,, Virginia, USA]\n",
       "2535                             [Seoul, South, Korea]\n",
       "2546                             [Englewood,, NJ, USA]\n",
       "2560                                  [Lublin, Poland]\n",
       "2596                                 [Zagreb, Croatia]\n",
       "2601                   [Campinas,, Sao, Paulo, Brazil]\n",
       "2612    [Bishop, Auckland,, County, Durham, England, ]\n",
       "2614                              [Nuremberg, Germany]\n",
       "2618                             [Portlaoise, Ireland]\n",
       "2621                        [Rio, de, Janeiro, Brazil]\n",
       "2652                           [Omaha,, Nebraska, USA]\n",
       "2656                              [Asuncion, Paraguay]\n",
       "2687                           [Fort, Wayne,, IN, USA]\n",
       "2711                  [Angels, Camp,, California, USA]\n",
       "2714             [Celle, Saint, Cloud,, Paris, France]\n",
       "2723          [Natal,, Rio, Grande, do, Norte, Brazil]\n",
       "2728            [Ribeirâo, Pires,, Sao, Paulo, Brazil]\n",
       "2795                                    [Umea, Sweden]\n",
       "2805                          [Laval,, Quebec, Canada]\n",
       "2824                        [Nizhny, Novgorod, Russia]\n",
       "2826                                [Hamilton, Canada]\n",
       "2855                                    [Osaka, Japan]\n",
       "2882                          [Denver,, Colorado, USA]\n",
       "2885                             [Childress,, TX, USA]\n",
       "2894                        [Lynden,, Washington, USA]\n",
       "2917                             [San, Jose,, CA, USA]\n",
       "2925                          [Fortaleza,, CE, Brazil]\n",
       "Name: hometown, Length: 852, dtype: object>"
      ]
     },
     "execution_count": 225,
     "metadata": {},
     "output_type": "execute_result"
    }
   ],
   "source": [
    "data_both_fighters.hometown.value_counts"
   ]
  },
  {
   "cell_type": "code",
   "execution_count": null,
   "metadata": {
    "hidden": true
   },
   "outputs": [],
   "source": [
    "df_columns = df.columns.str.split(\"_\")\n",
    "    # Take the last word in the inner list\n",
    "    df_columns = [el[-1] for el in df_columns]"
   ]
  },
  {
   "cell_type": "code",
   "execution_count": 182,
   "metadata": {
    "ExecuteTime": {
     "end_time": "2019-07-22T14:29:32.048328Z",
     "start_time": "2019-07-22T14:29:32.035575Z"
    },
    "hidden": true
   },
   "outputs": [
    {
     "data": {
      "text/html": [
       "<div>\n",
       "<style scoped>\n",
       "    .dataframe tbody tr th:only-of-type {\n",
       "        vertical-align: middle;\n",
       "    }\n",
       "\n",
       "    .dataframe tbody tr th {\n",
       "        vertical-align: top;\n",
       "    }\n",
       "\n",
       "    .dataframe thead th {\n",
       "        text-align: right;\n",
       "    }\n",
       "</style>\n",
       "<table border=\"1\" class=\"dataframe\">\n",
       "  <thead>\n",
       "    <tr style=\"text-align: right;\">\n",
       "      <th></th>\n",
       "      <th>name</th>\n",
       "      <th>hometown</th>\n",
       "      <th>height</th>\n",
       "    </tr>\n",
       "  </thead>\n",
       "  <tbody>\n",
       "    <tr>\n",
       "      <th>0</th>\n",
       "      <td>Marvin Vettori</td>\n",
       "      <td>Trento Italy</td>\n",
       "      <td>182.0</td>\n",
       "    </tr>\n",
       "    <tr>\n",
       "      <th>1</th>\n",
       "      <td>Carlos Diego Ferreira</td>\n",
       "      <td>Careiro da Várzea, Amazonas Brazil</td>\n",
       "      <td>175.0</td>\n",
       "    </tr>\n",
       "    <tr>\n",
       "      <th>2</th>\n",
       "      <td>Takanori Gomi</td>\n",
       "      <td>Kanagawa Japan</td>\n",
       "      <td>172.0</td>\n",
       "    </tr>\n",
       "    <tr>\n",
       "      <th>3</th>\n",
       "      <td>Brandon Moreno</td>\n",
       "      <td>Tijuana Mexico</td>\n",
       "      <td>170.0</td>\n",
       "    </tr>\n",
       "    <tr>\n",
       "      <th>4</th>\n",
       "      <td>Elizabeth Phillips</td>\n",
       "      <td>Spokane, WA USA</td>\n",
       "      <td>167.0</td>\n",
       "    </tr>\n",
       "    <tr>\n",
       "      <th>5</th>\n",
       "      <td>Reza Madadi</td>\n",
       "      <td>Tehran Iran</td>\n",
       "      <td>180.0</td>\n",
       "    </tr>\n",
       "    <tr>\n",
       "      <th>6</th>\n",
       "      <td>Shane Campbell</td>\n",
       "      <td>St. Catharines, Ontario Canada</td>\n",
       "      <td>182.0</td>\n",
       "    </tr>\n",
       "    <tr>\n",
       "      <th>7</th>\n",
       "      <td>Johnny Case</td>\n",
       "      <td>Jefferson, Iowa USA</td>\n",
       "      <td>177.0</td>\n",
       "    </tr>\n",
       "    <tr>\n",
       "      <th>8</th>\n",
       "      <td>Justin Edwards</td>\n",
       "      <td>Mansfield, Ohio USA</td>\n",
       "      <td>177.0</td>\n",
       "    </tr>\n",
       "    <tr>\n",
       "      <th>9</th>\n",
       "      <td>Viscardi Andrade</td>\n",
       "      <td>Jales City, Sao Paulo Brazil</td>\n",
       "      <td>182.0</td>\n",
       "    </tr>\n",
       "    <tr>\n",
       "      <th>10</th>\n",
       "      <td>Yaotzin Meza</td>\n",
       "      <td>Santa Ana, California USA</td>\n",
       "      <td>175.0</td>\n",
       "    </tr>\n",
       "    <tr>\n",
       "      <th>11</th>\n",
       "      <td>Stevie Ray</td>\n",
       "      <td>Fife Scotland</td>\n",
       "      <td>177.0</td>\n",
       "    </tr>\n",
       "    <tr>\n",
       "      <th>12</th>\n",
       "      <td>Wagner Silva</td>\n",
       "      <td>Vicosa, Minas Gerais Brazil</td>\n",
       "      <td>182.0</td>\n",
       "    </tr>\n",
       "    <tr>\n",
       "      <th>13</th>\n",
       "      <td>Cung Le</td>\n",
       "      <td>Saigon Vietnam</td>\n",
       "      <td>177.0</td>\n",
       "    </tr>\n",
       "    <tr>\n",
       "      <th>14</th>\n",
       "      <td>Misha Cirkunov</td>\n",
       "      <td>Riga Latvia</td>\n",
       "      <td>190.0</td>\n",
       "    </tr>\n",
       "    <tr>\n",
       "      <th>15</th>\n",
       "      <td>Ruslan Magomedov</td>\n",
       "      <td>The Republic of Dagestan Russia</td>\n",
       "      <td>190.0</td>\n",
       "    </tr>\n",
       "    <tr>\n",
       "      <th>16</th>\n",
       "      <td>Eddie Alvarez</td>\n",
       "      <td>Philadelphia, Pennsylvania United States</td>\n",
       "      <td>175.0</td>\n",
       "    </tr>\n",
       "    <tr>\n",
       "      <th>17</th>\n",
       "      <td>Patrick Williams</td>\n",
       "      <td>Miami, Florida USA</td>\n",
       "      <td>172.0</td>\n",
       "    </tr>\n",
       "    <tr>\n",
       "      <th>18</th>\n",
       "      <td>Sara McMann</td>\n",
       "      <td>Takoma Park, Maryland United States</td>\n",
       "      <td>167.0</td>\n",
       "    </tr>\n",
       "    <tr>\n",
       "      <th>19</th>\n",
       "      <td>Nick Diaz</td>\n",
       "      <td>Stockton, California USA</td>\n",
       "      <td>182.0</td>\n",
       "    </tr>\n",
       "    <tr>\n",
       "      <th>20</th>\n",
       "      <td>Gavin Tucker</td>\n",
       "      <td>St. Anthony , Newfoundland Canada</td>\n",
       "      <td>170.0</td>\n",
       "    </tr>\n",
       "    <tr>\n",
       "      <th>21</th>\n",
       "      <td>KJ Noons</td>\n",
       "      <td>Kona, Hawaii USA</td>\n",
       "      <td>177.0</td>\n",
       "    </tr>\n",
       "    <tr>\n",
       "      <th>22</th>\n",
       "      <td>Leo Kuntz</td>\n",
       "      <td>Linton, North Dakota USA</td>\n",
       "      <td>177.0</td>\n",
       "    </tr>\n",
       "    <tr>\n",
       "      <th>23</th>\n",
       "      <td>Joe Proctor</td>\n",
       "      <td>Quincy, Massachusetts USA</td>\n",
       "      <td>177.0</td>\n",
       "    </tr>\n",
       "    <tr>\n",
       "      <th>24</th>\n",
       "      <td>Costas Philippou</td>\n",
       "      <td>Limassol Cyprus</td>\n",
       "      <td>180.0</td>\n",
       "    </tr>\n",
       "    <tr>\n",
       "      <th>25</th>\n",
       "      <td>Dan Henderson</td>\n",
       "      <td>Downey, California USA</td>\n",
       "      <td>180.0</td>\n",
       "    </tr>\n",
       "    <tr>\n",
       "      <th>26</th>\n",
       "      <td>Neil Seery</td>\n",
       "      <td>Dublin Ireland</td>\n",
       "      <td>162.0</td>\n",
       "    </tr>\n",
       "    <tr>\n",
       "      <th>27</th>\n",
       "      <td>Jason Knight</td>\n",
       "      <td>Jackson, Mississippi United States</td>\n",
       "      <td>177.0</td>\n",
       "    </tr>\n",
       "    <tr>\n",
       "      <th>28</th>\n",
       "      <td>Ben Wall</td>\n",
       "      <td>Albury, NSW Australia</td>\n",
       "      <td>177.0</td>\n",
       "    </tr>\n",
       "    <tr>\n",
       "      <th>29</th>\n",
       "      <td>Darrell Horcher</td>\n",
       "      <td>Chicago, Illinois USA</td>\n",
       "      <td>177.0</td>\n",
       "    </tr>\n",
       "    <tr>\n",
       "      <th>...</th>\n",
       "      <td>...</td>\n",
       "      <td>...</td>\n",
       "      <td>...</td>\n",
       "    </tr>\n",
       "    <tr>\n",
       "      <th>2478</th>\n",
       "      <td>Fabricio Camoes</td>\n",
       "      <td>Rio de Janeiro Brazil</td>\n",
       "      <td>177.0</td>\n",
       "    </tr>\n",
       "    <tr>\n",
       "      <th>2494</th>\n",
       "      <td>Ricardo Ramos</td>\n",
       "      <td>Campinas, Sao Paulo Brazil</td>\n",
       "      <td>175.0</td>\n",
       "    </tr>\n",
       "    <tr>\n",
       "      <th>2502</th>\n",
       "      <td>Bigfoot Silva</td>\n",
       "      <td>Brasilia Brazil</td>\n",
       "      <td>193.0</td>\n",
       "    </tr>\n",
       "    <tr>\n",
       "      <th>2517</th>\n",
       "      <td>Matt Van Buren</td>\n",
       "      <td>Chesapeake, Virginia USA</td>\n",
       "      <td>195.0</td>\n",
       "    </tr>\n",
       "    <tr>\n",
       "      <th>2535</th>\n",
       "      <td>Dongi Yang</td>\n",
       "      <td>Seoul South Korea</td>\n",
       "      <td>180.0</td>\n",
       "    </tr>\n",
       "    <tr>\n",
       "      <th>2546</th>\n",
       "      <td>Nick Catone</td>\n",
       "      <td>Englewood, NJ USA</td>\n",
       "      <td>182.0</td>\n",
       "    </tr>\n",
       "    <tr>\n",
       "      <th>2560</th>\n",
       "      <td>Izabela Badurek</td>\n",
       "      <td>Lublin Poland</td>\n",
       "      <td>162.0</td>\n",
       "    </tr>\n",
       "    <tr>\n",
       "      <th>2596</th>\n",
       "      <td>Filip Pejic</td>\n",
       "      <td>Zagreb Croatia</td>\n",
       "      <td>177.0</td>\n",
       "    </tr>\n",
       "    <tr>\n",
       "      <th>2601</th>\n",
       "      <td>Richardson Moreira</td>\n",
       "      <td>Campinas, Sao Paulo Brazil</td>\n",
       "      <td>187.0</td>\n",
       "    </tr>\n",
       "    <tr>\n",
       "      <th>2612</th>\n",
       "      <td>Davey Grant</td>\n",
       "      <td>Bishop Auckland, County Durham England</td>\n",
       "      <td>172.0</td>\n",
       "    </tr>\n",
       "    <tr>\n",
       "      <th>2614</th>\n",
       "      <td>Jessin Ayari</td>\n",
       "      <td>Nuremberg Germany</td>\n",
       "      <td>182.0</td>\n",
       "    </tr>\n",
       "    <tr>\n",
       "      <th>2618</th>\n",
       "      <td>Charlie Ward</td>\n",
       "      <td>Portlaoise Ireland</td>\n",
       "      <td>180.0</td>\n",
       "    </tr>\n",
       "    <tr>\n",
       "      <th>2621</th>\n",
       "      <td>Cristiano Marcello</td>\n",
       "      <td>Rio de Janeiro Brazil</td>\n",
       "      <td>175.0</td>\n",
       "    </tr>\n",
       "    <tr>\n",
       "      <th>2652</th>\n",
       "      <td>Joe Ellenberger</td>\n",
       "      <td>Omaha, Nebraska USA</td>\n",
       "      <td>175.0</td>\n",
       "    </tr>\n",
       "    <tr>\n",
       "      <th>2656</th>\n",
       "      <td>Cesar Arzamendia</td>\n",
       "      <td>Asuncion Paraguay</td>\n",
       "      <td>180.0</td>\n",
       "    </tr>\n",
       "    <tr>\n",
       "      <th>2687</th>\n",
       "      <td>Anthony Lapsley</td>\n",
       "      <td>Fort Wayne, IN USA</td>\n",
       "      <td>175.0</td>\n",
       "    </tr>\n",
       "    <tr>\n",
       "      <th>2711</th>\n",
       "      <td>T.J. Dillashaw</td>\n",
       "      <td>Angels Camp, California USA</td>\n",
       "      <td>167.0</td>\n",
       "    </tr>\n",
       "    <tr>\n",
       "      <th>2714</th>\n",
       "      <td>Cyrille Diabate</td>\n",
       "      <td>Celle Saint Cloud, Paris France</td>\n",
       "      <td>198.0</td>\n",
       "    </tr>\n",
       "    <tr>\n",
       "      <th>2723</th>\n",
       "      <td>Ronny Markes</td>\n",
       "      <td>Natal, Rio Grande do Norte Brazil</td>\n",
       "      <td>185.0</td>\n",
       "    </tr>\n",
       "    <tr>\n",
       "      <th>2728</th>\n",
       "      <td>Marcos Rogerio de Lima</td>\n",
       "      <td>Ribeirâo Pires, Sao Paulo Brazil</td>\n",
       "      <td>185.0</td>\n",
       "    </tr>\n",
       "    <tr>\n",
       "      <th>2795</th>\n",
       "      <td>Tor Troeng</td>\n",
       "      <td>Umea Sweden</td>\n",
       "      <td>187.0</td>\n",
       "    </tr>\n",
       "    <tr>\n",
       "      <th>2805</th>\n",
       "      <td>Aiemann Zahabi</td>\n",
       "      <td>Laval, Quebec Canada</td>\n",
       "      <td>172.0</td>\n",
       "    </tr>\n",
       "    <tr>\n",
       "      <th>2824</th>\n",
       "      <td>Artem Lobov</td>\n",
       "      <td>Nizhny Novgorod Russia</td>\n",
       "      <td>175.0</td>\n",
       "    </tr>\n",
       "    <tr>\n",
       "      <th>2826</th>\n",
       "      <td>Jessica Rakoczy</td>\n",
       "      <td>Hamilton Canada</td>\n",
       "      <td>170.0</td>\n",
       "    </tr>\n",
       "    <tr>\n",
       "      <th>2855</th>\n",
       "      <td>Yoshihiro Akiyama</td>\n",
       "      <td>Osaka Japan</td>\n",
       "      <td>177.0</td>\n",
       "    </tr>\n",
       "    <tr>\n",
       "      <th>2882</th>\n",
       "      <td>Matt Wiman</td>\n",
       "      <td>Denver, Colorado USA</td>\n",
       "      <td>177.0</td>\n",
       "    </tr>\n",
       "    <tr>\n",
       "      <th>2885</th>\n",
       "      <td>Bubba McDaniel</td>\n",
       "      <td>Childress, TX USA</td>\n",
       "      <td>190.0</td>\n",
       "    </tr>\n",
       "    <tr>\n",
       "      <th>2894</th>\n",
       "      <td>Cory Hendricks</td>\n",
       "      <td>Lynden, Washington USA</td>\n",
       "      <td>190.0</td>\n",
       "    </tr>\n",
       "    <tr>\n",
       "      <th>2917</th>\n",
       "      <td>Kyle Kingsbury</td>\n",
       "      <td>San Jose, CA USA</td>\n",
       "      <td>193.0</td>\n",
       "    </tr>\n",
       "    <tr>\n",
       "      <th>2925</th>\n",
       "      <td>Renee Forte</td>\n",
       "      <td>Fortaleza, CE Brazil</td>\n",
       "      <td>170.0</td>\n",
       "    </tr>\n",
       "  </tbody>\n",
       "</table>\n",
       "<p>852 rows × 3 columns</p>\n",
       "</div>"
      ],
      "text/plain": [
       "                        name                                  hometown  height\n",
       "0             Marvin Vettori                              Trento Italy   182.0\n",
       "1      Carlos Diego Ferreira        Careiro da Várzea, Amazonas Brazil   175.0\n",
       "2              Takanori Gomi                            Kanagawa Japan   172.0\n",
       "3             Brandon Moreno                            Tijuana Mexico   170.0\n",
       "4         Elizabeth Phillips                           Spokane, WA USA   167.0\n",
       "5                Reza Madadi                               Tehran Iran   180.0\n",
       "6             Shane Campbell            St. Catharines, Ontario Canada   182.0\n",
       "7                Johnny Case                       Jefferson, Iowa USA   177.0\n",
       "8             Justin Edwards                       Mansfield, Ohio USA   177.0\n",
       "9           Viscardi Andrade              Jales City, Sao Paulo Brazil   182.0\n",
       "10              Yaotzin Meza                 Santa Ana, California USA   175.0\n",
       "11                Stevie Ray                             Fife Scotland   177.0\n",
       "12              Wagner Silva               Vicosa, Minas Gerais Brazil   182.0\n",
       "13                   Cung Le                            Saigon Vietnam   177.0\n",
       "14            Misha Cirkunov                               Riga Latvia   190.0\n",
       "15          Ruslan Magomedov           The Republic of Dagestan Russia   190.0\n",
       "16             Eddie Alvarez  Philadelphia, Pennsylvania United States   175.0\n",
       "17          Patrick Williams                        Miami, Florida USA   172.0\n",
       "18               Sara McMann       Takoma Park, Maryland United States   167.0\n",
       "19                 Nick Diaz                  Stockton, California USA   182.0\n",
       "20              Gavin Tucker         St. Anthony , Newfoundland Canada   170.0\n",
       "21                  KJ Noons                          Kona, Hawaii USA   177.0\n",
       "22                 Leo Kuntz                  Linton, North Dakota USA   177.0\n",
       "23               Joe Proctor                 Quincy, Massachusetts USA   177.0\n",
       "24          Costas Philippou                           Limassol Cyprus   180.0\n",
       "25             Dan Henderson                    Downey, California USA   180.0\n",
       "26                Neil Seery                            Dublin Ireland   162.0\n",
       "27              Jason Knight        Jackson, Mississippi United States   177.0\n",
       "28                  Ben Wall                     Albury, NSW Australia   177.0\n",
       "29           Darrell Horcher                     Chicago, Illinois USA   177.0\n",
       "...                      ...                                       ...     ...\n",
       "2478         Fabricio Camoes                     Rio de Janeiro Brazil   177.0\n",
       "2494           Ricardo Ramos                Campinas, Sao Paulo Brazil   175.0\n",
       "2502           Bigfoot Silva                           Brasilia Brazil   193.0\n",
       "2517          Matt Van Buren                  Chesapeake, Virginia USA   195.0\n",
       "2535              Dongi Yang                         Seoul South Korea   180.0\n",
       "2546             Nick Catone                         Englewood, NJ USA   182.0\n",
       "2560         Izabela Badurek                             Lublin Poland   162.0\n",
       "2596             Filip Pejic                            Zagreb Croatia   177.0\n",
       "2601      Richardson Moreira                Campinas, Sao Paulo Brazil   187.0\n",
       "2612             Davey Grant   Bishop Auckland, County Durham England    172.0\n",
       "2614            Jessin Ayari                         Nuremberg Germany   182.0\n",
       "2618            Charlie Ward                        Portlaoise Ireland   180.0\n",
       "2621      Cristiano Marcello                     Rio de Janeiro Brazil   175.0\n",
       "2652         Joe Ellenberger                       Omaha, Nebraska USA   175.0\n",
       "2656        Cesar Arzamendia                         Asuncion Paraguay   180.0\n",
       "2687         Anthony Lapsley                        Fort Wayne, IN USA   175.0\n",
       "2711          T.J. Dillashaw               Angels Camp, California USA   167.0\n",
       "2714         Cyrille Diabate           Celle Saint Cloud, Paris France   198.0\n",
       "2723            Ronny Markes         Natal, Rio Grande do Norte Brazil   185.0\n",
       "2728  Marcos Rogerio de Lima          Ribeirâo Pires, Sao Paulo Brazil   185.0\n",
       "2795              Tor Troeng                               Umea Sweden   187.0\n",
       "2805          Aiemann Zahabi                      Laval, Quebec Canada   172.0\n",
       "2824             Artem Lobov                    Nizhny Novgorod Russia   175.0\n",
       "2826         Jessica Rakoczy                           Hamilton Canada   170.0\n",
       "2855       Yoshihiro Akiyama                               Osaka Japan   177.0\n",
       "2882              Matt Wiman                      Denver, Colorado USA   177.0\n",
       "2885          Bubba McDaniel                         Childress, TX USA   190.0\n",
       "2894          Cory Hendricks                    Lynden, Washington USA   190.0\n",
       "2917          Kyle Kingsbury                          San Jose, CA USA   193.0\n",
       "2925             Renee Forte                      Fortaleza, CE Brazil   170.0\n",
       "\n",
       "[852 rows x 3 columns]"
      ]
     },
     "execution_count": 182,
     "metadata": {},
     "output_type": "execute_result"
    }
   ],
   "source": [
    "data_both_fighters"
   ]
  },
  {
   "cell_type": "code",
   "execution_count": 173,
   "metadata": {
    "ExecuteTime": {
     "end_time": "2019-07-22T14:28:16.514776Z",
     "start_time": "2019-07-22T14:28:16.510813Z"
    },
    "hidden": true
   },
   "outputs": [
    {
     "data": {
      "text/plain": [
       "'Italy'"
      ]
     },
     "execution_count": 173,
     "metadata": {},
     "output_type": "execute_result"
    }
   ],
   "source": [
    "hometown[0][-1]"
   ]
  },
  {
   "cell_type": "code",
   "execution_count": 165,
   "metadata": {
    "ExecuteTime": {
     "end_time": "2019-07-22T14:18:59.286618Z",
     "start_time": "2019-07-22T14:18:59.282935Z"
    },
    "hidden": true
   },
   "outputs": [
    {
     "ename": "SyntaxError",
     "evalue": "invalid syntax (<ipython-input-165-78961243fef6>, line 2)",
     "output_type": "error",
     "traceback": [
      "\u001b[0;36m  File \u001b[0;32m\"<ipython-input-165-78961243fef6>\"\u001b[0;36m, line \u001b[0;32m2\u001b[0m\n\u001b[0;31m    data_both_fighters['hometown'] = data_both_fighters['hometown'][el[-1] for el in data_both_fighters['hometown']]\u001b[0m\n\u001b[0m                                                                             ^\u001b[0m\n\u001b[0;31mSyntaxError\u001b[0m\u001b[0;31m:\u001b[0m invalid syntax\n"
     ]
    }
   ],
   "source": [
    "data_both_fighters['hometown'] = data_both_fighters['hometown'].str.split(\" \")\n",
    "data_both_fighters['hometown'] = data_both_fighters['hometown'][el[-1] for el in data_both_fighters['hometown']]"
   ]
  },
  {
   "cell_type": "code",
   "execution_count": 159,
   "metadata": {
    "ExecuteTime": {
     "end_time": "2019-07-22T14:16:18.707288Z",
     "start_time": "2019-07-22T14:16:18.700791Z"
    },
    "hidden": true
   },
   "outputs": [
    {
     "ename": "NameError",
     "evalue": "name 'home_town' is not defined",
     "output_type": "error",
     "traceback": [
      "\u001b[0;31m---------------------------------------------------------------------------\u001b[0m",
      "\u001b[0;31mNameError\u001b[0m                                 Traceback (most recent call last)",
      "\u001b[0;32m<ipython-input-159-e815cf389228>\u001b[0m in \u001b[0;36m<module>\u001b[0;34m()\u001b[0m\n\u001b[0;32m----> 1\u001b[0;31m \u001b[0mhome_town\u001b[0m\u001b[0;34m.\u001b[0m\u001b[0msplit\u001b[0m\u001b[0;34m(\u001b[0m\u001b[0;34m\" \"\u001b[0m\u001b[0;34m)\u001b[0m\u001b[0;34m[\u001b[0m\u001b[0;34m-\u001b[0m\u001b[0;36m1\u001b[0m\u001b[0;34m]\u001b[0m\u001b[0;34m\u001b[0m\u001b[0m\n\u001b[0m",
      "\u001b[0;31mNameError\u001b[0m: name 'home_town' is not defined"
     ]
    }
   ],
   "source": [
    "home_town.split(\" \")[-1]"
   ]
  },
  {
   "cell_type": "code",
   "execution_count": 123,
   "metadata": {
    "ExecuteTime": {
     "end_time": "2019-07-22T14:10:06.994279Z",
     "start_time": "2019-07-22T14:10:06.967081Z"
    },
    "hidden": true
   },
   "outputs": [
    {
     "data": {
      "text/html": [
       "<div>\n",
       "<style scoped>\n",
       "    .dataframe tbody tr th:only-of-type {\n",
       "        vertical-align: middle;\n",
       "    }\n",
       "\n",
       "    .dataframe tbody tr th {\n",
       "        vertical-align: top;\n",
       "    }\n",
       "\n",
       "    .dataframe thead th {\n",
       "        text-align: right;\n",
       "    }\n",
       "</style>\n",
       "<table border=\"1\" class=\"dataframe\">\n",
       "  <thead>\n",
       "    <tr style=\"text-align: right;\">\n",
       "      <th></th>\n",
       "      <th>name</th>\n",
       "      <th>win</th>\n",
       "      <th>lose</th>\n",
       "      <th>draw</th>\n",
       "      <th>total_bouts</th>\n",
       "      <th>win_rate</th>\n",
       "      <th>height_inches</th>\n",
       "      <th>reach</th>\n",
       "      <th>stance</th>\n",
       "      <th>dob</th>\n",
       "      <th>age_today</th>\n",
       "      <th>slpm</th>\n",
       "      <th>str_acc</th>\n",
       "      <th>sapm</th>\n",
       "      <th>str_def</th>\n",
       "      <th>td_avg</th>\n",
       "      <th>td_acc</th>\n",
       "      <th>td_def</th>\n",
       "      <th>sub_avg</th>\n",
       "    </tr>\n",
       "  </thead>\n",
       "  <tbody>\n",
       "    <tr>\n",
       "      <th>0</th>\n",
       "      <td>Luciano Azevedo</td>\n",
       "      <td>16</td>\n",
       "      <td>9</td>\n",
       "      <td>1</td>\n",
       "      <td>26</td>\n",
       "      <td>0.62</td>\n",
       "      <td>75.0</td>\n",
       "      <td>72.0</td>\n",
       "      <td>Orthodox</td>\n",
       "      <td>1981-06-25</td>\n",
       "      <td>38.0</td>\n",
       "      <td>0.76</td>\n",
       "      <td>45</td>\n",
       "      <td>1.97</td>\n",
       "      <td>27</td>\n",
       "      <td>2.28</td>\n",
       "      <td>11</td>\n",
       "      <td>0</td>\n",
       "      <td>0.0</td>\n",
       "    </tr>\n",
       "    <tr>\n",
       "      <th>1</th>\n",
       "      <td>Gleidson Cutis</td>\n",
       "      <td>7</td>\n",
       "      <td>3</td>\n",
       "      <td>0</td>\n",
       "      <td>10</td>\n",
       "      <td>0.70</td>\n",
       "      <td>69.0</td>\n",
       "      <td>72.0</td>\n",
       "      <td>Orthodox</td>\n",
       "      <td>1989-02-07</td>\n",
       "      <td>30.0</td>\n",
       "      <td>2.99</td>\n",
       "      <td>52</td>\n",
       "      <td>8.28</td>\n",
       "      <td>59</td>\n",
       "      <td>0.00</td>\n",
       "      <td>0</td>\n",
       "      <td>0</td>\n",
       "      <td>0.0</td>\n",
       "    </tr>\n",
       "    <tr>\n",
       "      <th>2</th>\n",
       "      <td>Rolando Dy</td>\n",
       "      <td>9</td>\n",
       "      <td>7</td>\n",
       "      <td>1</td>\n",
       "      <td>17</td>\n",
       "      <td>0.53</td>\n",
       "      <td>68.0</td>\n",
       "      <td>69.0</td>\n",
       "      <td>Orthodox</td>\n",
       "      <td>1990-08-11</td>\n",
       "      <td>29.0</td>\n",
       "      <td>3.04</td>\n",
       "      <td>37</td>\n",
       "      <td>4.47</td>\n",
       "      <td>52</td>\n",
       "      <td>0.30</td>\n",
       "      <td>20</td>\n",
       "      <td>68</td>\n",
       "      <td>0.0</td>\n",
       "    </tr>\n",
       "    <tr>\n",
       "      <th>3</th>\n",
       "      <td>Jessica Eye</td>\n",
       "      <td>13</td>\n",
       "      <td>6</td>\n",
       "      <td>0</td>\n",
       "      <td>19</td>\n",
       "      <td>0.68</td>\n",
       "      <td>66.0</td>\n",
       "      <td>66.0</td>\n",
       "      <td>Orthodox</td>\n",
       "      <td>1986-07-27</td>\n",
       "      <td>33.0</td>\n",
       "      <td>3.42</td>\n",
       "      <td>36</td>\n",
       "      <td>3.32</td>\n",
       "      <td>59</td>\n",
       "      <td>0.59</td>\n",
       "      <td>71</td>\n",
       "      <td>60</td>\n",
       "      <td>0.8</td>\n",
       "    </tr>\n",
       "    <tr>\n",
       "      <th>4</th>\n",
       "      <td>Katsuaki Furuki</td>\n",
       "      <td>1</td>\n",
       "      <td>1</td>\n",
       "      <td>0</td>\n",
       "      <td>2</td>\n",
       "      <td>0.50</td>\n",
       "      <td>72.0</td>\n",
       "      <td>72.0</td>\n",
       "      <td>Orthodox</td>\n",
       "      <td>1980-11-10</td>\n",
       "      <td>39.0</td>\n",
       "      <td>0.27</td>\n",
       "      <td>10</td>\n",
       "      <td>2.67</td>\n",
       "      <td>39</td>\n",
       "      <td>0.00</td>\n",
       "      <td>0</td>\n",
       "      <td>0</td>\n",
       "      <td>3.0</td>\n",
       "    </tr>\n",
       "  </tbody>\n",
       "</table>\n",
       "</div>"
      ],
      "text/plain": [
       "              name  win  lose  draw  total_bouts  win_rate  height_inches  \\\n",
       "0  Luciano Azevedo   16     9     1           26      0.62           75.0   \n",
       "1   Gleidson Cutis    7     3     0           10      0.70           69.0   \n",
       "2       Rolando Dy    9     7     1           17      0.53           68.0   \n",
       "3      Jessica Eye   13     6     0           19      0.68           66.0   \n",
       "4  Katsuaki Furuki    1     1     0            2      0.50           72.0   \n",
       "\n",
       "   reach    stance         dob  age_today  slpm  str_acc  sapm  str_def  \\\n",
       "0   72.0  Orthodox  1981-06-25       38.0  0.76       45  1.97       27   \n",
       "1   72.0  Orthodox  1989-02-07       30.0  2.99       52  8.28       59   \n",
       "2   69.0  Orthodox  1990-08-11       29.0  3.04       37  4.47       52   \n",
       "3   66.0  Orthodox  1986-07-27       33.0  3.42       36  3.32       59   \n",
       "4   72.0  Orthodox  1980-11-10       39.0  0.27       10  2.67       39   \n",
       "\n",
       "   td_avg  td_acc  td_def  sub_avg  \n",
       "0    2.28      11       0      0.0  \n",
       "1    0.00       0       0      0.0  \n",
       "2    0.30      20      68      0.0  \n",
       "3    0.59      71      60      0.8  \n",
       "4    0.00       0       0      3.0  "
      ]
     },
     "execution_count": 123,
     "metadata": {},
     "output_type": "execute_result"
    }
   ],
   "source": [
    "data_fighters = pd.read_csv('../data/processed/fighters_cleaned')\n",
    "data_fighters.head()"
   ]
  },
  {
   "cell_type": "markdown",
   "metadata": {},
   "source": [
    "# add home country onto fighters df\n",
    "- only 34% of fighters are assigned a home country"
   ]
  },
  {
   "cell_type": "code",
   "execution_count": 354,
   "metadata": {
    "ExecuteTime": {
     "end_time": "2019-07-22T16:48:31.250383Z",
     "start_time": "2019-07-22T16:48:31.241468Z"
    }
   },
   "outputs": [
    {
     "data": {
      "text/html": [
       "<div>\n",
       "<style scoped>\n",
       "    .dataframe tbody tr th:only-of-type {\n",
       "        vertical-align: middle;\n",
       "    }\n",
       "\n",
       "    .dataframe tbody tr th {\n",
       "        vertical-align: top;\n",
       "    }\n",
       "\n",
       "    .dataframe thead th {\n",
       "        text-align: right;\n",
       "    }\n",
       "</style>\n",
       "<table border=\"1\" class=\"dataframe\">\n",
       "  <thead>\n",
       "    <tr style=\"text-align: right;\">\n",
       "      <th></th>\n",
       "      <th>name</th>\n",
       "      <th>home_country</th>\n",
       "    </tr>\n",
       "  </thead>\n",
       "  <tbody>\n",
       "    <tr>\n",
       "      <th>0</th>\n",
       "      <td>Marvin Vettori</td>\n",
       "      <td>Italy</td>\n",
       "    </tr>\n",
       "    <tr>\n",
       "      <th>1</th>\n",
       "      <td>Carlos Diego Ferreira</td>\n",
       "      <td>Brazil</td>\n",
       "    </tr>\n",
       "  </tbody>\n",
       "</table>\n",
       "</div>"
      ],
      "text/plain": [
       "                    name home_country\n",
       "0         Marvin Vettori        Italy\n",
       "1  Carlos Diego Ferreira       Brazil"
      ]
     },
     "execution_count": 354,
     "metadata": {},
     "output_type": "execute_result"
    }
   ],
   "source": [
    "home_country = pd.read_csv('../data/processed/fighter_home_country')\n",
    "home_country.head(2)"
   ]
  },
  {
   "cell_type": "code",
   "execution_count": 355,
   "metadata": {
    "ExecuteTime": {
     "end_time": "2019-07-22T16:48:33.262907Z",
     "start_time": "2019-07-22T16:48:33.238610Z"
    }
   },
   "outputs": [
    {
     "data": {
      "text/html": [
       "<div>\n",
       "<style scoped>\n",
       "    .dataframe tbody tr th:only-of-type {\n",
       "        vertical-align: middle;\n",
       "    }\n",
       "\n",
       "    .dataframe tbody tr th {\n",
       "        vertical-align: top;\n",
       "    }\n",
       "\n",
       "    .dataframe thead th {\n",
       "        text-align: right;\n",
       "    }\n",
       "</style>\n",
       "<table border=\"1\" class=\"dataframe\">\n",
       "  <thead>\n",
       "    <tr style=\"text-align: right;\">\n",
       "      <th></th>\n",
       "      <th>name</th>\n",
       "      <th>win</th>\n",
       "      <th>lose</th>\n",
       "      <th>draw</th>\n",
       "      <th>total_bouts</th>\n",
       "      <th>win_rate</th>\n",
       "      <th>height_inches</th>\n",
       "      <th>reach</th>\n",
       "      <th>stance</th>\n",
       "      <th>dob</th>\n",
       "      <th>age_today</th>\n",
       "      <th>slpm</th>\n",
       "      <th>str_acc</th>\n",
       "      <th>sapm</th>\n",
       "      <th>str_def</th>\n",
       "      <th>td_avg</th>\n",
       "      <th>td_acc</th>\n",
       "      <th>td_def</th>\n",
       "      <th>sub_avg</th>\n",
       "    </tr>\n",
       "  </thead>\n",
       "  <tbody>\n",
       "    <tr>\n",
       "      <th>0</th>\n",
       "      <td>Luciano Azevedo</td>\n",
       "      <td>16</td>\n",
       "      <td>9</td>\n",
       "      <td>1</td>\n",
       "      <td>26</td>\n",
       "      <td>0.62</td>\n",
       "      <td>75.0</td>\n",
       "      <td>72.0</td>\n",
       "      <td>Orthodox</td>\n",
       "      <td>1981-06-25</td>\n",
       "      <td>38.0</td>\n",
       "      <td>0.76</td>\n",
       "      <td>45</td>\n",
       "      <td>1.97</td>\n",
       "      <td>27</td>\n",
       "      <td>2.28</td>\n",
       "      <td>11</td>\n",
       "      <td>0</td>\n",
       "      <td>0.0</td>\n",
       "    </tr>\n",
       "    <tr>\n",
       "      <th>1</th>\n",
       "      <td>Gleidson Cutis</td>\n",
       "      <td>7</td>\n",
       "      <td>3</td>\n",
       "      <td>0</td>\n",
       "      <td>10</td>\n",
       "      <td>0.70</td>\n",
       "      <td>69.0</td>\n",
       "      <td>72.0</td>\n",
       "      <td>Orthodox</td>\n",
       "      <td>1989-02-07</td>\n",
       "      <td>30.0</td>\n",
       "      <td>2.99</td>\n",
       "      <td>52</td>\n",
       "      <td>8.28</td>\n",
       "      <td>59</td>\n",
       "      <td>0.00</td>\n",
       "      <td>0</td>\n",
       "      <td>0</td>\n",
       "      <td>0.0</td>\n",
       "    </tr>\n",
       "  </tbody>\n",
       "</table>\n",
       "</div>"
      ],
      "text/plain": [
       "              name  win  lose  draw  total_bouts  win_rate  height_inches  \\\n",
       "0  Luciano Azevedo   16     9     1           26      0.62           75.0   \n",
       "1   Gleidson Cutis    7     3     0           10      0.70           69.0   \n",
       "\n",
       "   reach    stance         dob  age_today  slpm  str_acc  sapm  str_def  \\\n",
       "0   72.0  Orthodox  1981-06-25       38.0  0.76       45  1.97       27   \n",
       "1   72.0  Orthodox  1989-02-07       30.0  2.99       52  8.28       59   \n",
       "\n",
       "   td_avg  td_acc  td_def  sub_avg  \n",
       "0    2.28      11       0      0.0  \n",
       "1    0.00       0       0      0.0  "
      ]
     },
     "execution_count": 355,
     "metadata": {},
     "output_type": "execute_result"
    }
   ],
   "source": [
    "fighters = pd.read_csv('../data/processed/fighters_cleaned')\n",
    "fighters.head(2)"
   ]
  },
  {
   "cell_type": "code",
   "execution_count": 382,
   "metadata": {
    "ExecuteTime": {
     "end_time": "2019-07-22T16:56:27.118019Z",
     "start_time": "2019-07-22T16:56:27.109269Z"
    },
    "scrolled": false
   },
   "outputs": [],
   "source": [
    "fighters = fighters.merge(home_country, how='left')"
   ]
  },
  {
   "cell_type": "code",
   "execution_count": 398,
   "metadata": {
    "ExecuteTime": {
     "end_time": "2019-07-22T17:02:26.045153Z",
     "start_time": "2019-07-22T17:02:26.041188Z"
    }
   },
   "outputs": [
    {
     "name": "stdout",
     "output_type": "stream",
     "text": [
      "Only 33.78% of fighters have a home country assigned\n"
     ]
    }
   ],
   "source": [
    "na = fighters.home_country.isna().sum()\n",
    "total = len(fighters)\n",
    "have_values = round(1-(na/total), 4)*100\n",
    "print('Only {}% of fighters have a home country assigned'.format(have_values))"
   ]
  },
  {
   "cell_type": "code",
   "execution_count": 399,
   "metadata": {
    "ExecuteTime": {
     "end_time": "2019-07-22T17:05:57.612167Z",
     "start_time": "2019-07-22T17:05:57.562133Z"
    }
   },
   "outputs": [
    {
     "data": {
      "text/html": [
       "<div>\n",
       "<style scoped>\n",
       "    .dataframe tbody tr th:only-of-type {\n",
       "        vertical-align: middle;\n",
       "    }\n",
       "\n",
       "    .dataframe tbody tr th {\n",
       "        vertical-align: top;\n",
       "    }\n",
       "\n",
       "    .dataframe thead th {\n",
       "        text-align: right;\n",
       "    }\n",
       "</style>\n",
       "<table border=\"1\" class=\"dataframe\">\n",
       "  <thead>\n",
       "    <tr style=\"text-align: right;\">\n",
       "      <th></th>\n",
       "      <th>name</th>\n",
       "      <th>win</th>\n",
       "      <th>lose</th>\n",
       "      <th>draw</th>\n",
       "      <th>total_bouts</th>\n",
       "      <th>win_rate</th>\n",
       "      <th>height_inches</th>\n",
       "      <th>reach</th>\n",
       "      <th>stance</th>\n",
       "      <th>dob</th>\n",
       "      <th>age_today</th>\n",
       "      <th>slpm</th>\n",
       "      <th>str_acc</th>\n",
       "      <th>sapm</th>\n",
       "      <th>str_def</th>\n",
       "      <th>td_avg</th>\n",
       "      <th>td_acc</th>\n",
       "      <th>td_def</th>\n",
       "      <th>sub_avg</th>\n",
       "      <th>home_country</th>\n",
       "    </tr>\n",
       "  </thead>\n",
       "  <tbody>\n",
       "    <tr>\n",
       "      <th>0</th>\n",
       "      <td>Luciano Azevedo</td>\n",
       "      <td>16</td>\n",
       "      <td>9</td>\n",
       "      <td>1</td>\n",
       "      <td>26</td>\n",
       "      <td>0.62</td>\n",
       "      <td>75.000000</td>\n",
       "      <td>72.0</td>\n",
       "      <td>Orthodox</td>\n",
       "      <td>1981-06-25</td>\n",
       "      <td>38.0</td>\n",
       "      <td>0.76</td>\n",
       "      <td>45</td>\n",
       "      <td>1.97</td>\n",
       "      <td>27</td>\n",
       "      <td>2.28</td>\n",
       "      <td>11</td>\n",
       "      <td>0</td>\n",
       "      <td>0.0</td>\n",
       "      <td>NaN</td>\n",
       "    </tr>\n",
       "    <tr>\n",
       "      <th>1</th>\n",
       "      <td>Gleidson Cutis</td>\n",
       "      <td>7</td>\n",
       "      <td>3</td>\n",
       "      <td>0</td>\n",
       "      <td>10</td>\n",
       "      <td>0.70</td>\n",
       "      <td>69.000000</td>\n",
       "      <td>72.0</td>\n",
       "      <td>Orthodox</td>\n",
       "      <td>1989-02-07</td>\n",
       "      <td>30.0</td>\n",
       "      <td>2.99</td>\n",
       "      <td>52</td>\n",
       "      <td>8.28</td>\n",
       "      <td>59</td>\n",
       "      <td>0.00</td>\n",
       "      <td>0</td>\n",
       "      <td>0</td>\n",
       "      <td>0.0</td>\n",
       "      <td>NaN</td>\n",
       "    </tr>\n",
       "    <tr>\n",
       "      <th>2</th>\n",
       "      <td>Rolando Dy</td>\n",
       "      <td>9</td>\n",
       "      <td>7</td>\n",
       "      <td>1</td>\n",
       "      <td>17</td>\n",
       "      <td>0.53</td>\n",
       "      <td>68.000000</td>\n",
       "      <td>69.0</td>\n",
       "      <td>Orthodox</td>\n",
       "      <td>1990-08-11</td>\n",
       "      <td>29.0</td>\n",
       "      <td>3.04</td>\n",
       "      <td>37</td>\n",
       "      <td>4.47</td>\n",
       "      <td>52</td>\n",
       "      <td>0.30</td>\n",
       "      <td>20</td>\n",
       "      <td>68</td>\n",
       "      <td>0.0</td>\n",
       "      <td>NaN</td>\n",
       "    </tr>\n",
       "    <tr>\n",
       "      <th>3</th>\n",
       "      <td>Jessica Eye</td>\n",
       "      <td>13</td>\n",
       "      <td>6</td>\n",
       "      <td>0</td>\n",
       "      <td>19</td>\n",
       "      <td>0.68</td>\n",
       "      <td>66.000000</td>\n",
       "      <td>66.0</td>\n",
       "      <td>Orthodox</td>\n",
       "      <td>1986-07-27</td>\n",
       "      <td>33.0</td>\n",
       "      <td>3.42</td>\n",
       "      <td>36</td>\n",
       "      <td>3.32</td>\n",
       "      <td>59</td>\n",
       "      <td>0.59</td>\n",
       "      <td>71</td>\n",
       "      <td>60</td>\n",
       "      <td>0.8</td>\n",
       "      <td>USA</td>\n",
       "    </tr>\n",
       "    <tr>\n",
       "      <th>4</th>\n",
       "      <td>Katsuaki Furuki</td>\n",
       "      <td>1</td>\n",
       "      <td>1</td>\n",
       "      <td>0</td>\n",
       "      <td>2</td>\n",
       "      <td>0.50</td>\n",
       "      <td>72.000000</td>\n",
       "      <td>72.0</td>\n",
       "      <td>Orthodox</td>\n",
       "      <td>1980-11-10</td>\n",
       "      <td>39.0</td>\n",
       "      <td>0.27</td>\n",
       "      <td>10</td>\n",
       "      <td>2.67</td>\n",
       "      <td>39</td>\n",
       "      <td>0.00</td>\n",
       "      <td>0</td>\n",
       "      <td>0</td>\n",
       "      <td>3.0</td>\n",
       "      <td>NaN</td>\n",
       "    </tr>\n",
       "    <tr>\n",
       "      <th>5</th>\n",
       "      <td>Mike Guymon</td>\n",
       "      <td>12</td>\n",
       "      <td>5</td>\n",
       "      <td>1</td>\n",
       "      <td>18</td>\n",
       "      <td>0.67</td>\n",
       "      <td>72.000000</td>\n",
       "      <td>74.0</td>\n",
       "      <td>Orthodox</td>\n",
       "      <td>1974-09-17</td>\n",
       "      <td>45.0</td>\n",
       "      <td>2.75</td>\n",
       "      <td>65</td>\n",
       "      <td>0.79</td>\n",
       "      <td>66</td>\n",
       "      <td>1.87</td>\n",
       "      <td>37</td>\n",
       "      <td>54</td>\n",
       "      <td>1.2</td>\n",
       "      <td>NaN</td>\n",
       "    </tr>\n",
       "    <tr>\n",
       "      <th>6</th>\n",
       "      <td>Solomon Hutcherson</td>\n",
       "      <td>11</td>\n",
       "      <td>7</td>\n",
       "      <td>0</td>\n",
       "      <td>18</td>\n",
       "      <td>0.61</td>\n",
       "      <td>71.000000</td>\n",
       "      <td>72.0</td>\n",
       "      <td>Southpaw</td>\n",
       "      <td>1972-08-31</td>\n",
       "      <td>47.0</td>\n",
       "      <td>2.59</td>\n",
       "      <td>39</td>\n",
       "      <td>2.59</td>\n",
       "      <td>64</td>\n",
       "      <td>3.53</td>\n",
       "      <td>100</td>\n",
       "      <td>0</td>\n",
       "      <td>0.0</td>\n",
       "      <td>NaN</td>\n",
       "    </tr>\n",
       "    <tr>\n",
       "      <th>7</th>\n",
       "      <td>Hiroshi Izumi</td>\n",
       "      <td>4</td>\n",
       "      <td>2</td>\n",
       "      <td>0</td>\n",
       "      <td>6</td>\n",
       "      <td>0.67</td>\n",
       "      <td>70.390369</td>\n",
       "      <td>72.0</td>\n",
       "      <td>Orthodox</td>\n",
       "      <td>1982-06-22</td>\n",
       "      <td>37.0</td>\n",
       "      <td>1.95</td>\n",
       "      <td>37</td>\n",
       "      <td>2.65</td>\n",
       "      <td>66</td>\n",
       "      <td>3.35</td>\n",
       "      <td>70</td>\n",
       "      <td>100</td>\n",
       "      <td>0.5</td>\n",
       "      <td>NaN</td>\n",
       "    </tr>\n",
       "    <tr>\n",
       "      <th>8</th>\n",
       "      <td>Cris Cyborg</td>\n",
       "      <td>20</td>\n",
       "      <td>1</td>\n",
       "      <td>0</td>\n",
       "      <td>21</td>\n",
       "      <td>0.95</td>\n",
       "      <td>68.000000</td>\n",
       "      <td>68.0</td>\n",
       "      <td>Orthodox</td>\n",
       "      <td>1985-07-09</td>\n",
       "      <td>34.0</td>\n",
       "      <td>7.02</td>\n",
       "      <td>52</td>\n",
       "      <td>1.79</td>\n",
       "      <td>70</td>\n",
       "      <td>0.85</td>\n",
       "      <td>62</td>\n",
       "      <td>91</td>\n",
       "      <td>0.3</td>\n",
       "      <td>Brazil</td>\n",
       "    </tr>\n",
       "    <tr>\n",
       "      <th>9</th>\n",
       "      <td>Mike Kyle</td>\n",
       "      <td>19</td>\n",
       "      <td>9</td>\n",
       "      <td>1</td>\n",
       "      <td>29</td>\n",
       "      <td>0.66</td>\n",
       "      <td>76.000000</td>\n",
       "      <td>77.0</td>\n",
       "      <td>Orthodox</td>\n",
       "      <td>1980-03-31</td>\n",
       "      <td>39.0</td>\n",
       "      <td>4.50</td>\n",
       "      <td>51</td>\n",
       "      <td>2.76</td>\n",
       "      <td>54</td>\n",
       "      <td>1.55</td>\n",
       "      <td>62</td>\n",
       "      <td>50</td>\n",
       "      <td>0.9</td>\n",
       "      <td>NaN</td>\n",
       "    </tr>\n",
       "    <tr>\n",
       "      <th>10</th>\n",
       "      <td>Chris Lytle</td>\n",
       "      <td>31</td>\n",
       "      <td>18</td>\n",
       "      <td>5</td>\n",
       "      <td>54</td>\n",
       "      <td>0.57</td>\n",
       "      <td>71.000000</td>\n",
       "      <td>68.0</td>\n",
       "      <td>Orthodox</td>\n",
       "      <td>1974-08-18</td>\n",
       "      <td>45.0</td>\n",
       "      <td>3.76</td>\n",
       "      <td>45</td>\n",
       "      <td>3.03</td>\n",
       "      <td>58</td>\n",
       "      <td>0.70</td>\n",
       "      <td>55</td>\n",
       "      <td>55</td>\n",
       "      <td>2.4</td>\n",
       "      <td>NaN</td>\n",
       "    </tr>\n",
       "    <tr>\n",
       "      <th>11</th>\n",
       "      <td>Ho Bae Myeon</td>\n",
       "      <td>12</td>\n",
       "      <td>5</td>\n",
       "      <td>1</td>\n",
       "      <td>18</td>\n",
       "      <td>0.67</td>\n",
       "      <td>71.000000</td>\n",
       "      <td>72.0</td>\n",
       "      <td>Orthodox</td>\n",
       "      <td>1986-03-12</td>\n",
       "      <td>NaN</td>\n",
       "      <td>3.16</td>\n",
       "      <td>16</td>\n",
       "      <td>3.16</td>\n",
       "      <td>83</td>\n",
       "      <td>0.00</td>\n",
       "      <td>0</td>\n",
       "      <td>0</td>\n",
       "      <td>0.0</td>\n",
       "      <td>NaN</td>\n",
       "    </tr>\n",
       "    <tr>\n",
       "      <th>12</th>\n",
       "      <td>Kennedy Nzechukwu</td>\n",
       "      <td>5</td>\n",
       "      <td>0</td>\n",
       "      <td>0</td>\n",
       "      <td>5</td>\n",
       "      <td>1.00</td>\n",
       "      <td>77.000000</td>\n",
       "      <td>82.0</td>\n",
       "      <td>Southpaw</td>\n",
       "      <td>1992-06-13</td>\n",
       "      <td>27.0</td>\n",
       "      <td>7.20</td>\n",
       "      <td>36</td>\n",
       "      <td>5.06</td>\n",
       "      <td>50</td>\n",
       "      <td>0.00</td>\n",
       "      <td>0</td>\n",
       "      <td>71</td>\n",
       "      <td>0.0</td>\n",
       "      <td>NaN</td>\n",
       "    </tr>\n",
       "    <tr>\n",
       "      <th>13</th>\n",
       "      <td>Alptekin Ozkilic</td>\n",
       "      <td>9</td>\n",
       "      <td>4</td>\n",
       "      <td>0</td>\n",
       "      <td>13</td>\n",
       "      <td>0.69</td>\n",
       "      <td>65.000000</td>\n",
       "      <td>65.0</td>\n",
       "      <td>Orthodox</td>\n",
       "      <td>1986-03-27</td>\n",
       "      <td>33.0</td>\n",
       "      <td>3.81</td>\n",
       "      <td>32</td>\n",
       "      <td>5.72</td>\n",
       "      <td>59</td>\n",
       "      <td>4.21</td>\n",
       "      <td>58</td>\n",
       "      <td>75</td>\n",
       "      <td>0.0</td>\n",
       "      <td>Turkey</td>\n",
       "    </tr>\n",
       "    <tr>\n",
       "      <th>14</th>\n",
       "      <td>Mike Pyle</td>\n",
       "      <td>27</td>\n",
       "      <td>14</td>\n",
       "      <td>1</td>\n",
       "      <td>42</td>\n",
       "      <td>0.64</td>\n",
       "      <td>72.000000</td>\n",
       "      <td>74.0</td>\n",
       "      <td>Orthodox</td>\n",
       "      <td>1975-09-18</td>\n",
       "      <td>44.0</td>\n",
       "      <td>2.74</td>\n",
       "      <td>45</td>\n",
       "      <td>2.84</td>\n",
       "      <td>60</td>\n",
       "      <td>1.80</td>\n",
       "      <td>35</td>\n",
       "      <td>70</td>\n",
       "      <td>1.5</td>\n",
       "      <td>USA</td>\n",
       "    </tr>\n",
       "    <tr>\n",
       "      <th>15</th>\n",
       "      <td>Jose Quinonez</td>\n",
       "      <td>8</td>\n",
       "      <td>2</td>\n",
       "      <td>0</td>\n",
       "      <td>10</td>\n",
       "      <td>0.80</td>\n",
       "      <td>68.000000</td>\n",
       "      <td>69.0</td>\n",
       "      <td>Orthodox</td>\n",
       "      <td>1990-07-28</td>\n",
       "      <td>29.0</td>\n",
       "      <td>3.26</td>\n",
       "      <td>44</td>\n",
       "      <td>2.32</td>\n",
       "      <td>68</td>\n",
       "      <td>2.88</td>\n",
       "      <td>50</td>\n",
       "      <td>57</td>\n",
       "      <td>1.0</td>\n",
       "      <td>Mexico</td>\n",
       "    </tr>\n",
       "    <tr>\n",
       "      <th>16</th>\n",
       "      <td>Michel Quinones</td>\n",
       "      <td>8</td>\n",
       "      <td>3</td>\n",
       "      <td>0</td>\n",
       "      <td>11</td>\n",
       "      <td>0.73</td>\n",
       "      <td>70.000000</td>\n",
       "      <td>73.0</td>\n",
       "      <td>Orthodox</td>\n",
       "      <td>1984-12-22</td>\n",
       "      <td>35.0</td>\n",
       "      <td>2.91</td>\n",
       "      <td>29</td>\n",
       "      <td>5.98</td>\n",
       "      <td>48</td>\n",
       "      <td>0.00</td>\n",
       "      <td>0</td>\n",
       "      <td>36</td>\n",
       "      <td>0.0</td>\n",
       "      <td>NaN</td>\n",
       "    </tr>\n",
       "    <tr>\n",
       "      <th>17</th>\n",
       "      <td>Ryan Quinn</td>\n",
       "      <td>13</td>\n",
       "      <td>7</td>\n",
       "      <td>1</td>\n",
       "      <td>21</td>\n",
       "      <td>0.62</td>\n",
       "      <td>68.000000</td>\n",
       "      <td>72.0</td>\n",
       "      <td>Orthodox</td>\n",
       "      <td>1986-03-12</td>\n",
       "      <td>NaN</td>\n",
       "      <td>2.31</td>\n",
       "      <td>41</td>\n",
       "      <td>1.67</td>\n",
       "      <td>48</td>\n",
       "      <td>0.00</td>\n",
       "      <td>0</td>\n",
       "      <td>0</td>\n",
       "      <td>1.9</td>\n",
       "      <td>NaN</td>\n",
       "    </tr>\n",
       "    <tr>\n",
       "      <th>18</th>\n",
       "      <td>Jimmy Quinlan</td>\n",
       "      <td>3</td>\n",
       "      <td>1</td>\n",
       "      <td>1</td>\n",
       "      <td>5</td>\n",
       "      <td>0.60</td>\n",
       "      <td>72.000000</td>\n",
       "      <td>72.0</td>\n",
       "      <td>Orthodox</td>\n",
       "      <td>1986-05-25</td>\n",
       "      <td>33.0</td>\n",
       "      <td>2.08</td>\n",
       "      <td>70</td>\n",
       "      <td>5.94</td>\n",
       "      <td>16</td>\n",
       "      <td>4.46</td>\n",
       "      <td>25</td>\n",
       "      <td>0</td>\n",
       "      <td>0.0</td>\n",
       "      <td>NaN</td>\n",
       "    </tr>\n",
       "    <tr>\n",
       "      <th>19</th>\n",
       "      <td>Vinicius Queiroz</td>\n",
       "      <td>5</td>\n",
       "      <td>2</td>\n",
       "      <td>0</td>\n",
       "      <td>7</td>\n",
       "      <td>0.71</td>\n",
       "      <td>79.000000</td>\n",
       "      <td>72.0</td>\n",
       "      <td>Orthodox</td>\n",
       "      <td>1983-08-29</td>\n",
       "      <td>36.0</td>\n",
       "      <td>3.67</td>\n",
       "      <td>51</td>\n",
       "      <td>4.10</td>\n",
       "      <td>41</td>\n",
       "      <td>5.07</td>\n",
       "      <td>70</td>\n",
       "      <td>100</td>\n",
       "      <td>0.7</td>\n",
       "      <td>NaN</td>\n",
       "    </tr>\n",
       "    <tr>\n",
       "      <th>20</th>\n",
       "      <td>Nate Quarry</td>\n",
       "      <td>12</td>\n",
       "      <td>4</td>\n",
       "      <td>0</td>\n",
       "      <td>16</td>\n",
       "      <td>0.75</td>\n",
       "      <td>72.000000</td>\n",
       "      <td>72.0</td>\n",
       "      <td>Open Stance</td>\n",
       "      <td>1972-03-18</td>\n",
       "      <td>47.0</td>\n",
       "      <td>4.96</td>\n",
       "      <td>44</td>\n",
       "      <td>2.80</td>\n",
       "      <td>66</td>\n",
       "      <td>0.25</td>\n",
       "      <td>33</td>\n",
       "      <td>60</td>\n",
       "      <td>0.0</td>\n",
       "      <td>NaN</td>\n",
       "    </tr>\n",
       "    <tr>\n",
       "      <th>21</th>\n",
       "      <td>Jens Pulver</td>\n",
       "      <td>25</td>\n",
       "      <td>15</td>\n",
       "      <td>1</td>\n",
       "      <td>41</td>\n",
       "      <td>0.61</td>\n",
       "      <td>67.000000</td>\n",
       "      <td>70.0</td>\n",
       "      <td>Southpaw</td>\n",
       "      <td>1974-12-06</td>\n",
       "      <td>45.0</td>\n",
       "      <td>2.12</td>\n",
       "      <td>37</td>\n",
       "      <td>3.13</td>\n",
       "      <td>56</td>\n",
       "      <td>0.22</td>\n",
       "      <td>33</td>\n",
       "      <td>63</td>\n",
       "      <td>0.3</td>\n",
       "      <td>NaN</td>\n",
       "    </tr>\n",
       "    <tr>\n",
       "      <th>22</th>\n",
       "      <td>Hugh Pulley</td>\n",
       "      <td>6</td>\n",
       "      <td>3</td>\n",
       "      <td>0</td>\n",
       "      <td>9</td>\n",
       "      <td>0.67</td>\n",
       "      <td>72.000000</td>\n",
       "      <td>72.0</td>\n",
       "      <td>Orthodox</td>\n",
       "      <td>1986-03-12</td>\n",
       "      <td>NaN</td>\n",
       "      <td>4.47</td>\n",
       "      <td>63</td>\n",
       "      <td>3.27</td>\n",
       "      <td>57</td>\n",
       "      <td>4.00</td>\n",
       "      <td>66</td>\n",
       "      <td>69</td>\n",
       "      <td>0.0</td>\n",
       "      <td>NaN</td>\n",
       "    </tr>\n",
       "    <tr>\n",
       "      <th>23</th>\n",
       "      <td>Juan Puig</td>\n",
       "      <td>11</td>\n",
       "      <td>4</td>\n",
       "      <td>0</td>\n",
       "      <td>15</td>\n",
       "      <td>0.73</td>\n",
       "      <td>69.000000</td>\n",
       "      <td>72.0</td>\n",
       "      <td>Orthodox</td>\n",
       "      <td>1989-04-23</td>\n",
       "      <td>30.0</td>\n",
       "      <td>4.91</td>\n",
       "      <td>23</td>\n",
       "      <td>7.17</td>\n",
       "      <td>51</td>\n",
       "      <td>0.00</td>\n",
       "      <td>0</td>\n",
       "      <td>0</td>\n",
       "      <td>0.0</td>\n",
       "      <td>Mexico</td>\n",
       "    </tr>\n",
       "    <tr>\n",
       "      <th>24</th>\n",
       "      <td>Bubba Pugh</td>\n",
       "      <td>3</td>\n",
       "      <td>3</td>\n",
       "      <td>0</td>\n",
       "      <td>6</td>\n",
       "      <td>0.50</td>\n",
       "      <td>70.000000</td>\n",
       "      <td>72.0</td>\n",
       "      <td>Orthodox</td>\n",
       "      <td>1986-03-12</td>\n",
       "      <td>NaN</td>\n",
       "      <td>2.87</td>\n",
       "      <td>67</td>\n",
       "      <td>2.60</td>\n",
       "      <td>23</td>\n",
       "      <td>4.00</td>\n",
       "      <td>57</td>\n",
       "      <td>80</td>\n",
       "      <td>0.0</td>\n",
       "      <td>NaN</td>\n",
       "    </tr>\n",
       "    <tr>\n",
       "      <th>25</th>\n",
       "      <td>Claudio Puelles</td>\n",
       "      <td>9</td>\n",
       "      <td>2</td>\n",
       "      <td>0</td>\n",
       "      <td>11</td>\n",
       "      <td>0.82</td>\n",
       "      <td>71.000000</td>\n",
       "      <td>72.0</td>\n",
       "      <td>Southpaw</td>\n",
       "      <td>1996-04-21</td>\n",
       "      <td>23.0</td>\n",
       "      <td>2.33</td>\n",
       "      <td>38</td>\n",
       "      <td>6.53</td>\n",
       "      <td>49</td>\n",
       "      <td>2.33</td>\n",
       "      <td>23</td>\n",
       "      <td>0</td>\n",
       "      <td>0.8</td>\n",
       "      <td>Peru</td>\n",
       "    </tr>\n",
       "    <tr>\n",
       "      <th>26</th>\n",
       "      <td>Lucie Pudilova</td>\n",
       "      <td>8</td>\n",
       "      <td>3</td>\n",
       "      <td>0</td>\n",
       "      <td>11</td>\n",
       "      <td>0.73</td>\n",
       "      <td>68.000000</td>\n",
       "      <td>67.0</td>\n",
       "      <td>Orthodox</td>\n",
       "      <td>1994-06-13</td>\n",
       "      <td>25.0</td>\n",
       "      <td>5.53</td>\n",
       "      <td>39</td>\n",
       "      <td>5.03</td>\n",
       "      <td>53</td>\n",
       "      <td>0.00</td>\n",
       "      <td>0</td>\n",
       "      <td>78</td>\n",
       "      <td>0.5</td>\n",
       "      <td>Republic</td>\n",
       "    </tr>\n",
       "    <tr>\n",
       "      <th>27</th>\n",
       "      <td>Daniel Puder</td>\n",
       "      <td>8</td>\n",
       "      <td>0</td>\n",
       "      <td>0</td>\n",
       "      <td>8</td>\n",
       "      <td>1.00</td>\n",
       "      <td>75.000000</td>\n",
       "      <td>72.0</td>\n",
       "      <td>Orthodox</td>\n",
       "      <td>1981-10-09</td>\n",
       "      <td>38.0</td>\n",
       "      <td>2.77</td>\n",
       "      <td>68</td>\n",
       "      <td>1.17</td>\n",
       "      <td>38</td>\n",
       "      <td>1.21</td>\n",
       "      <td>50</td>\n",
       "      <td>81</td>\n",
       "      <td>9.0</td>\n",
       "      <td>NaN</td>\n",
       "    </tr>\n",
       "    <tr>\n",
       "      <th>28</th>\n",
       "      <td>Cole Province</td>\n",
       "      <td>6</td>\n",
       "      <td>2</td>\n",
       "      <td>0</td>\n",
       "      <td>8</td>\n",
       "      <td>0.75</td>\n",
       "      <td>69.000000</td>\n",
       "      <td>68.0</td>\n",
       "      <td>Orthodox</td>\n",
       "      <td>1981-01-17</td>\n",
       "      <td>38.0</td>\n",
       "      <td>1.47</td>\n",
       "      <td>44</td>\n",
       "      <td>2.72</td>\n",
       "      <td>43</td>\n",
       "      <td>2.40</td>\n",
       "      <td>50</td>\n",
       "      <td>83</td>\n",
       "      <td>1.0</td>\n",
       "      <td>NaN</td>\n",
       "    </tr>\n",
       "    <tr>\n",
       "      <th>29</th>\n",
       "      <td>Joe Proctor</td>\n",
       "      <td>11</td>\n",
       "      <td>5</td>\n",
       "      <td>0</td>\n",
       "      <td>16</td>\n",
       "      <td>0.69</td>\n",
       "      <td>70.000000</td>\n",
       "      <td>72.0</td>\n",
       "      <td>Orthodox</td>\n",
       "      <td>1985-08-10</td>\n",
       "      <td>34.0</td>\n",
       "      <td>3.39</td>\n",
       "      <td>36</td>\n",
       "      <td>3.93</td>\n",
       "      <td>59</td>\n",
       "      <td>0.00</td>\n",
       "      <td>0</td>\n",
       "      <td>70</td>\n",
       "      <td>1.8</td>\n",
       "      <td>USA</td>\n",
       "    </tr>\n",
       "    <tr>\n",
       "      <th>...</th>\n",
       "      <td>...</td>\n",
       "      <td>...</td>\n",
       "      <td>...</td>\n",
       "      <td>...</td>\n",
       "      <td>...</td>\n",
       "      <td>...</td>\n",
       "      <td>...</td>\n",
       "      <td>...</td>\n",
       "      <td>...</td>\n",
       "      <td>...</td>\n",
       "      <td>...</td>\n",
       "      <td>...</td>\n",
       "      <td>...</td>\n",
       "      <td>...</td>\n",
       "      <td>...</td>\n",
       "      <td>...</td>\n",
       "      <td>...</td>\n",
       "      <td>...</td>\n",
       "      <td>...</td>\n",
       "      <td>...</td>\n",
       "    </tr>\n",
       "    <tr>\n",
       "      <th>2430</th>\n",
       "      <td>Chance Rencountre</td>\n",
       "      <td>12</td>\n",
       "      <td>3</td>\n",
       "      <td>0</td>\n",
       "      <td>15</td>\n",
       "      <td>0.80</td>\n",
       "      <td>74.000000</td>\n",
       "      <td>75.0</td>\n",
       "      <td>Southpaw</td>\n",
       "      <td>1986-12-31</td>\n",
       "      <td>33.0</td>\n",
       "      <td>1.07</td>\n",
       "      <td>13</td>\n",
       "      <td>4.67</td>\n",
       "      <td>46</td>\n",
       "      <td>0.00</td>\n",
       "      <td>0</td>\n",
       "      <td>25</td>\n",
       "      <td>0.0</td>\n",
       "      <td>NaN</td>\n",
       "    </tr>\n",
       "    <tr>\n",
       "      <th>2431</th>\n",
       "      <td>Livinha Souza</td>\n",
       "      <td>12</td>\n",
       "      <td>1</td>\n",
       "      <td>0</td>\n",
       "      <td>13</td>\n",
       "      <td>0.92</td>\n",
       "      <td>65.000000</td>\n",
       "      <td>72.0</td>\n",
       "      <td>Orthodox</td>\n",
       "      <td>1991-03-11</td>\n",
       "      <td>28.0</td>\n",
       "      <td>7.41</td>\n",
       "      <td>55</td>\n",
       "      <td>2.96</td>\n",
       "      <td>55</td>\n",
       "      <td>11.11</td>\n",
       "      <td>100</td>\n",
       "      <td>0</td>\n",
       "      <td>11.1</td>\n",
       "      <td>NaN</td>\n",
       "    </tr>\n",
       "    <tr>\n",
       "      <th>2432</th>\n",
       "      <td>Leigh Remedios</td>\n",
       "      <td>17</td>\n",
       "      <td>9</td>\n",
       "      <td>2</td>\n",
       "      <td>28</td>\n",
       "      <td>0.61</td>\n",
       "      <td>67.000000</td>\n",
       "      <td>72.0</td>\n",
       "      <td>Orthodox</td>\n",
       "      <td>1976-01-13</td>\n",
       "      <td>43.0</td>\n",
       "      <td>0.75</td>\n",
       "      <td>41</td>\n",
       "      <td>1.36</td>\n",
       "      <td>68</td>\n",
       "      <td>0.00</td>\n",
       "      <td>0</td>\n",
       "      <td>33</td>\n",
       "      <td>0.0</td>\n",
       "      <td>NaN</td>\n",
       "    </tr>\n",
       "    <tr>\n",
       "      <th>2433</th>\n",
       "      <td>Goran Reljic</td>\n",
       "      <td>9</td>\n",
       "      <td>3</td>\n",
       "      <td>0</td>\n",
       "      <td>12</td>\n",
       "      <td>0.75</td>\n",
       "      <td>75.000000</td>\n",
       "      <td>81.0</td>\n",
       "      <td>Southpaw</td>\n",
       "      <td>1984-03-20</td>\n",
       "      <td>35.0</td>\n",
       "      <td>1.69</td>\n",
       "      <td>37</td>\n",
       "      <td>2.69</td>\n",
       "      <td>59</td>\n",
       "      <td>1.69</td>\n",
       "      <td>50</td>\n",
       "      <td>33</td>\n",
       "      <td>1.1</td>\n",
       "      <td>NaN</td>\n",
       "    </tr>\n",
       "    <tr>\n",
       "      <th>2434</th>\n",
       "      <td>Ben Reiter</td>\n",
       "      <td>17</td>\n",
       "      <td>2</td>\n",
       "      <td>1</td>\n",
       "      <td>20</td>\n",
       "      <td>0.85</td>\n",
       "      <td>75.000000</td>\n",
       "      <td>72.0</td>\n",
       "      <td>Orthodox</td>\n",
       "      <td>1987-06-27</td>\n",
       "      <td>32.0</td>\n",
       "      <td>1.80</td>\n",
       "      <td>46</td>\n",
       "      <td>1.53</td>\n",
       "      <td>54</td>\n",
       "      <td>7.00</td>\n",
       "      <td>43</td>\n",
       "      <td>0</td>\n",
       "      <td>0.0</td>\n",
       "      <td>NaN</td>\n",
       "    </tr>\n",
       "    <tr>\n",
       "      <th>2435</th>\n",
       "      <td>Wilson Reis</td>\n",
       "      <td>22</td>\n",
       "      <td>9</td>\n",
       "      <td>0</td>\n",
       "      <td>31</td>\n",
       "      <td>0.71</td>\n",
       "      <td>64.000000</td>\n",
       "      <td>65.0</td>\n",
       "      <td>Southpaw</td>\n",
       "      <td>1985-01-06</td>\n",
       "      <td>34.0</td>\n",
       "      <td>1.82</td>\n",
       "      <td>29</td>\n",
       "      <td>2.99</td>\n",
       "      <td>55</td>\n",
       "      <td>4.94</td>\n",
       "      <td>43</td>\n",
       "      <td>47</td>\n",
       "      <td>0.6</td>\n",
       "      <td>Brazil</td>\n",
       "    </tr>\n",
       "    <tr>\n",
       "      <th>2436</th>\n",
       "      <td>Jason Reinhardt</td>\n",
       "      <td>20</td>\n",
       "      <td>3</td>\n",
       "      <td>0</td>\n",
       "      <td>23</td>\n",
       "      <td>0.87</td>\n",
       "      <td>66.000000</td>\n",
       "      <td>72.0</td>\n",
       "      <td>Orthodox</td>\n",
       "      <td>1969-10-31</td>\n",
       "      <td>50.0</td>\n",
       "      <td>0.51</td>\n",
       "      <td>40</td>\n",
       "      <td>4.07</td>\n",
       "      <td>43</td>\n",
       "      <td>1.91</td>\n",
       "      <td>12</td>\n",
       "      <td>50</td>\n",
       "      <td>0.0</td>\n",
       "      <td>NaN</td>\n",
       "    </tr>\n",
       "    <tr>\n",
       "      <th>2437</th>\n",
       "      <td>Chad Reiner</td>\n",
       "      <td>28</td>\n",
       "      <td>13</td>\n",
       "      <td>0</td>\n",
       "      <td>41</td>\n",
       "      <td>0.68</td>\n",
       "      <td>71.000000</td>\n",
       "      <td>72.0</td>\n",
       "      <td>Orthodox</td>\n",
       "      <td>1981-06-29</td>\n",
       "      <td>38.0</td>\n",
       "      <td>0.53</td>\n",
       "      <td>20</td>\n",
       "      <td>1.97</td>\n",
       "      <td>46</td>\n",
       "      <td>0.99</td>\n",
       "      <td>33</td>\n",
       "      <td>25</td>\n",
       "      <td>2.0</td>\n",
       "      <td>NaN</td>\n",
       "    </tr>\n",
       "    <tr>\n",
       "      <th>2438</th>\n",
       "      <td>Johnny Rees</td>\n",
       "      <td>12</td>\n",
       "      <td>4</td>\n",
       "      <td>0</td>\n",
       "      <td>16</td>\n",
       "      <td>0.75</td>\n",
       "      <td>72.000000</td>\n",
       "      <td>72.0</td>\n",
       "      <td>Orthodox</td>\n",
       "      <td>1982-10-21</td>\n",
       "      <td>37.0</td>\n",
       "      <td>3.29</td>\n",
       "      <td>64</td>\n",
       "      <td>0.84</td>\n",
       "      <td>47</td>\n",
       "      <td>1.15</td>\n",
       "      <td>25</td>\n",
       "      <td>50</td>\n",
       "      <td>0.0</td>\n",
       "      <td>NaN</td>\n",
       "    </tr>\n",
       "    <tr>\n",
       "      <th>2439</th>\n",
       "      <td>Karl Reed</td>\n",
       "      <td>2</td>\n",
       "      <td>1</td>\n",
       "      <td>0</td>\n",
       "      <td>3</td>\n",
       "      <td>0.67</td>\n",
       "      <td>75.000000</td>\n",
       "      <td>78.0</td>\n",
       "      <td>Orthodox</td>\n",
       "      <td>1988-10-27</td>\n",
       "      <td>31.0</td>\n",
       "      <td>2.20</td>\n",
       "      <td>42</td>\n",
       "      <td>3.13</td>\n",
       "      <td>52</td>\n",
       "      <td>0.00</td>\n",
       "      <td>0</td>\n",
       "      <td>57</td>\n",
       "      <td>0.0</td>\n",
       "      <td>NaN</td>\n",
       "    </tr>\n",
       "    <tr>\n",
       "      <th>2440</th>\n",
       "      <td>Paul Redmond</td>\n",
       "      <td>10</td>\n",
       "      <td>6</td>\n",
       "      <td>0</td>\n",
       "      <td>16</td>\n",
       "      <td>0.62</td>\n",
       "      <td>70.000000</td>\n",
       "      <td>70.0</td>\n",
       "      <td>Orthodox</td>\n",
       "      <td>1986-10-20</td>\n",
       "      <td>33.0</td>\n",
       "      <td>0.72</td>\n",
       "      <td>34</td>\n",
       "      <td>2.99</td>\n",
       "      <td>41</td>\n",
       "      <td>0.00</td>\n",
       "      <td>0</td>\n",
       "      <td>50</td>\n",
       "      <td>0.0</td>\n",
       "      <td>Ireland</td>\n",
       "    </tr>\n",
       "    <tr>\n",
       "      <th>2441</th>\n",
       "      <td>Greg Rebello</td>\n",
       "      <td>24</td>\n",
       "      <td>8</td>\n",
       "      <td>0</td>\n",
       "      <td>32</td>\n",
       "      <td>0.75</td>\n",
       "      <td>72.000000</td>\n",
       "      <td>73.0</td>\n",
       "      <td>Southpaw</td>\n",
       "      <td>1982-06-13</td>\n",
       "      <td>37.0</td>\n",
       "      <td>2.61</td>\n",
       "      <td>39</td>\n",
       "      <td>2.92</td>\n",
       "      <td>58</td>\n",
       "      <td>0.00</td>\n",
       "      <td>0</td>\n",
       "      <td>0</td>\n",
       "      <td>0.0</td>\n",
       "      <td>NaN</td>\n",
       "    </tr>\n",
       "    <tr>\n",
       "      <th>2442</th>\n",
       "      <td>Rafael Rebello</td>\n",
       "      <td>7</td>\n",
       "      <td>4</td>\n",
       "      <td>0</td>\n",
       "      <td>11</td>\n",
       "      <td>0.64</td>\n",
       "      <td>65.000000</td>\n",
       "      <td>67.0</td>\n",
       "      <td>Orthodox</td>\n",
       "      <td>1980-10-16</td>\n",
       "      <td>39.0</td>\n",
       "      <td>2.19</td>\n",
       "      <td>32</td>\n",
       "      <td>3.29</td>\n",
       "      <td>58</td>\n",
       "      <td>2.82</td>\n",
       "      <td>33</td>\n",
       "      <td>75</td>\n",
       "      <td>0.5</td>\n",
       "      <td>NaN</td>\n",
       "    </tr>\n",
       "    <tr>\n",
       "      <th>2443</th>\n",
       "      <td>Antony Rea</td>\n",
       "      <td>22</td>\n",
       "      <td>13</td>\n",
       "      <td>0</td>\n",
       "      <td>35</td>\n",
       "      <td>0.63</td>\n",
       "      <td>72.000000</td>\n",
       "      <td>72.0</td>\n",
       "      <td>Orthodox</td>\n",
       "      <td>1976-07-15</td>\n",
       "      <td>43.0</td>\n",
       "      <td>2.89</td>\n",
       "      <td>28</td>\n",
       "      <td>5.42</td>\n",
       "      <td>42</td>\n",
       "      <td>0.00</td>\n",
       "      <td>0</td>\n",
       "      <td>100</td>\n",
       "      <td>0.0</td>\n",
       "      <td>NaN</td>\n",
       "    </tr>\n",
       "    <tr>\n",
       "      <th>2444</th>\n",
       "      <td>Abdul Razak Alhassan</td>\n",
       "      <td>10</td>\n",
       "      <td>1</td>\n",
       "      <td>0</td>\n",
       "      <td>11</td>\n",
       "      <td>0.91</td>\n",
       "      <td>70.000000</td>\n",
       "      <td>73.0</td>\n",
       "      <td>Orthodox</td>\n",
       "      <td>1985-08-11</td>\n",
       "      <td>34.0</td>\n",
       "      <td>4.59</td>\n",
       "      <td>46</td>\n",
       "      <td>4.20</td>\n",
       "      <td>59</td>\n",
       "      <td>0.57</td>\n",
       "      <td>33</td>\n",
       "      <td>53</td>\n",
       "      <td>0.0</td>\n",
       "      <td>Ghana</td>\n",
       "    </tr>\n",
       "    <tr>\n",
       "      <th>2445</th>\n",
       "      <td>Iony Razafiarison</td>\n",
       "      <td>2</td>\n",
       "      <td>1</td>\n",
       "      <td>0</td>\n",
       "      <td>3</td>\n",
       "      <td>0.67</td>\n",
       "      <td>63.000000</td>\n",
       "      <td>72.0</td>\n",
       "      <td>Orthodox</td>\n",
       "      <td>1984-12-23</td>\n",
       "      <td>35.0</td>\n",
       "      <td>1.20</td>\n",
       "      <td>42</td>\n",
       "      <td>1.40</td>\n",
       "      <td>53</td>\n",
       "      <td>2.00</td>\n",
       "      <td>50</td>\n",
       "      <td>75</td>\n",
       "      <td>0.0</td>\n",
       "      <td>NaN</td>\n",
       "    </tr>\n",
       "    <tr>\n",
       "      <th>2446</th>\n",
       "      <td>Stevie Ray</td>\n",
       "      <td>22</td>\n",
       "      <td>8</td>\n",
       "      <td>0</td>\n",
       "      <td>30</td>\n",
       "      <td>0.73</td>\n",
       "      <td>70.000000</td>\n",
       "      <td>70.0</td>\n",
       "      <td>Southpaw</td>\n",
       "      <td>1990-03-25</td>\n",
       "      <td>29.0</td>\n",
       "      <td>3.51</td>\n",
       "      <td>45</td>\n",
       "      <td>2.55</td>\n",
       "      <td>55</td>\n",
       "      <td>0.73</td>\n",
       "      <td>55</td>\n",
       "      <td>55</td>\n",
       "      <td>0.7</td>\n",
       "      <td>Scotland</td>\n",
       "    </tr>\n",
       "    <tr>\n",
       "      <th>2447</th>\n",
       "      <td>Gideon Ray</td>\n",
       "      <td>17</td>\n",
       "      <td>14</td>\n",
       "      <td>1</td>\n",
       "      <td>32</td>\n",
       "      <td>0.53</td>\n",
       "      <td>70.000000</td>\n",
       "      <td>72.0</td>\n",
       "      <td>Southpaw</td>\n",
       "      <td>1973-05-27</td>\n",
       "      <td>46.0</td>\n",
       "      <td>2.08</td>\n",
       "      <td>40</td>\n",
       "      <td>2.58</td>\n",
       "      <td>53</td>\n",
       "      <td>1.49</td>\n",
       "      <td>100</td>\n",
       "      <td>0</td>\n",
       "      <td>0.0</td>\n",
       "      <td>NaN</td>\n",
       "    </tr>\n",
       "    <tr>\n",
       "      <th>2448</th>\n",
       "      <td>Bec Rawlings</td>\n",
       "      <td>7</td>\n",
       "      <td>8</td>\n",
       "      <td>0</td>\n",
       "      <td>15</td>\n",
       "      <td>0.47</td>\n",
       "      <td>66.000000</td>\n",
       "      <td>64.0</td>\n",
       "      <td>Orthodox</td>\n",
       "      <td>1989-02-11</td>\n",
       "      <td>30.0</td>\n",
       "      <td>4.48</td>\n",
       "      <td>42</td>\n",
       "      <td>5.66</td>\n",
       "      <td>57</td>\n",
       "      <td>0.71</td>\n",
       "      <td>40</td>\n",
       "      <td>68</td>\n",
       "      <td>0.4</td>\n",
       "      <td>Australia</td>\n",
       "    </tr>\n",
       "    <tr>\n",
       "      <th>2449</th>\n",
       "      <td>Ed Ratcliff</td>\n",
       "      <td>7</td>\n",
       "      <td>3</td>\n",
       "      <td>0</td>\n",
       "      <td>10</td>\n",
       "      <td>0.70</td>\n",
       "      <td>70.000000</td>\n",
       "      <td>71.0</td>\n",
       "      <td>Orthodox</td>\n",
       "      <td>1983-03-05</td>\n",
       "      <td>36.0</td>\n",
       "      <td>2.71</td>\n",
       "      <td>38</td>\n",
       "      <td>2.96</td>\n",
       "      <td>63</td>\n",
       "      <td>0.28</td>\n",
       "      <td>16</td>\n",
       "      <td>53</td>\n",
       "      <td>0.0</td>\n",
       "      <td>NaN</td>\n",
       "    </tr>\n",
       "    <tr>\n",
       "      <th>2450</th>\n",
       "      <td>Raou Raou</td>\n",
       "      <td>0</td>\n",
       "      <td>1</td>\n",
       "      <td>0</td>\n",
       "      <td>1</td>\n",
       "      <td>0.00</td>\n",
       "      <td>68.000000</td>\n",
       "      <td>72.0</td>\n",
       "      <td>Orthodox</td>\n",
       "      <td>1986-03-12</td>\n",
       "      <td>NaN</td>\n",
       "      <td>2.01</td>\n",
       "      <td>16</td>\n",
       "      <td>6.75</td>\n",
       "      <td>60</td>\n",
       "      <td>0.00</td>\n",
       "      <td>0</td>\n",
       "      <td>0</td>\n",
       "      <td>0.0</td>\n",
       "      <td>NaN</td>\n",
       "    </tr>\n",
       "    <tr>\n",
       "      <th>2451</th>\n",
       "      <td>Kevin Randleman</td>\n",
       "      <td>17</td>\n",
       "      <td>16</td>\n",
       "      <td>0</td>\n",
       "      <td>33</td>\n",
       "      <td>0.52</td>\n",
       "      <td>70.000000</td>\n",
       "      <td>72.0</td>\n",
       "      <td>Orthodox</td>\n",
       "      <td>1971-08-10</td>\n",
       "      <td>48.0</td>\n",
       "      <td>1.26</td>\n",
       "      <td>54</td>\n",
       "      <td>1.12</td>\n",
       "      <td>57</td>\n",
       "      <td>2.00</td>\n",
       "      <td>56</td>\n",
       "      <td>30</td>\n",
       "      <td>0.8</td>\n",
       "      <td>NaN</td>\n",
       "    </tr>\n",
       "    <tr>\n",
       "      <th>2452</th>\n",
       "      <td>Vernon Ramos</td>\n",
       "      <td>3</td>\n",
       "      <td>2</td>\n",
       "      <td>0</td>\n",
       "      <td>5</td>\n",
       "      <td>0.60</td>\n",
       "      <td>66.000000</td>\n",
       "      <td>72.0</td>\n",
       "      <td>Orthodox</td>\n",
       "      <td>1992-06-03</td>\n",
       "      <td>27.0</td>\n",
       "      <td>4.00</td>\n",
       "      <td>25</td>\n",
       "      <td>8.00</td>\n",
       "      <td>55</td>\n",
       "      <td>0.00</td>\n",
       "      <td>0</td>\n",
       "      <td>0</td>\n",
       "      <td>0.0</td>\n",
       "      <td>Panama</td>\n",
       "    </tr>\n",
       "    <tr>\n",
       "      <th>2453</th>\n",
       "      <td>Davi Ramos</td>\n",
       "      <td>9</td>\n",
       "      <td>2</td>\n",
       "      <td>0</td>\n",
       "      <td>11</td>\n",
       "      <td>0.82</td>\n",
       "      <td>66.000000</td>\n",
       "      <td>70.0</td>\n",
       "      <td>Orthodox</td>\n",
       "      <td>1986-11-05</td>\n",
       "      <td>33.0</td>\n",
       "      <td>3.12</td>\n",
       "      <td>38</td>\n",
       "      <td>2.72</td>\n",
       "      <td>56</td>\n",
       "      <td>3.28</td>\n",
       "      <td>58</td>\n",
       "      <td>0</td>\n",
       "      <td>1.4</td>\n",
       "      <td>Brazil</td>\n",
       "    </tr>\n",
       "    <tr>\n",
       "      <th>2454</th>\n",
       "      <td>Ricardo Ramos</td>\n",
       "      <td>12</td>\n",
       "      <td>1</td>\n",
       "      <td>0</td>\n",
       "      <td>13</td>\n",
       "      <td>0.92</td>\n",
       "      <td>69.000000</td>\n",
       "      <td>72.0</td>\n",
       "      <td>Orthodox</td>\n",
       "      <td>1995-08-01</td>\n",
       "      <td>24.0</td>\n",
       "      <td>3.36</td>\n",
       "      <td>42</td>\n",
       "      <td>3.31</td>\n",
       "      <td>58</td>\n",
       "      <td>1.43</td>\n",
       "      <td>50</td>\n",
       "      <td>72</td>\n",
       "      <td>0.7</td>\n",
       "      <td>Brazil</td>\n",
       "    </tr>\n",
       "    <tr>\n",
       "      <th>2455</th>\n",
       "      <td>Luis Ramos</td>\n",
       "      <td>19</td>\n",
       "      <td>8</td>\n",
       "      <td>2</td>\n",
       "      <td>29</td>\n",
       "      <td>0.66</td>\n",
       "      <td>68.000000</td>\n",
       "      <td>72.0</td>\n",
       "      <td>Orthodox</td>\n",
       "      <td>1981-01-18</td>\n",
       "      <td>38.0</td>\n",
       "      <td>2.40</td>\n",
       "      <td>35</td>\n",
       "      <td>5.60</td>\n",
       "      <td>42</td>\n",
       "      <td>1.50</td>\n",
       "      <td>20</td>\n",
       "      <td>100</td>\n",
       "      <td>0.0</td>\n",
       "      <td>NaN</td>\n",
       "    </tr>\n",
       "    <tr>\n",
       "      <th>2456</th>\n",
       "      <td>Amador Ramirez</td>\n",
       "      <td>5</td>\n",
       "      <td>4</td>\n",
       "      <td>0</td>\n",
       "      <td>9</td>\n",
       "      <td>0.56</td>\n",
       "      <td>70.390369</td>\n",
       "      <td>72.0</td>\n",
       "      <td>Orthodox</td>\n",
       "      <td>1990-06-14</td>\n",
       "      <td>29.0</td>\n",
       "      <td>4.93</td>\n",
       "      <td>51</td>\n",
       "      <td>2.07</td>\n",
       "      <td>69</td>\n",
       "      <td>1.00</td>\n",
       "      <td>33</td>\n",
       "      <td>0</td>\n",
       "      <td>0.0</td>\n",
       "      <td>NaN</td>\n",
       "    </tr>\n",
       "    <tr>\n",
       "      <th>2457</th>\n",
       "      <td>Matt Ramirez</td>\n",
       "      <td>2</td>\n",
       "      <td>3</td>\n",
       "      <td>0</td>\n",
       "      <td>5</td>\n",
       "      <td>0.40</td>\n",
       "      <td>65.000000</td>\n",
       "      <td>72.0</td>\n",
       "      <td>Orthodox</td>\n",
       "      <td>1986-03-12</td>\n",
       "      <td>NaN</td>\n",
       "      <td>3.03</td>\n",
       "      <td>50</td>\n",
       "      <td>0.67</td>\n",
       "      <td>75</td>\n",
       "      <td>2.53</td>\n",
       "      <td>16</td>\n",
       "      <td>100</td>\n",
       "      <td>0.0</td>\n",
       "      <td>NaN</td>\n",
       "    </tr>\n",
       "    <tr>\n",
       "      <th>2458</th>\n",
       "      <td>Hector Ramirez</td>\n",
       "      <td>9</td>\n",
       "      <td>4</td>\n",
       "      <td>1</td>\n",
       "      <td>14</td>\n",
       "      <td>0.64</td>\n",
       "      <td>72.000000</td>\n",
       "      <td>72.0</td>\n",
       "      <td>Orthodox</td>\n",
       "      <td>1976-03-28</td>\n",
       "      <td>43.0</td>\n",
       "      <td>2.27</td>\n",
       "      <td>41</td>\n",
       "      <td>4.60</td>\n",
       "      <td>56</td>\n",
       "      <td>2.30</td>\n",
       "      <td>55</td>\n",
       "      <td>66</td>\n",
       "      <td>0.5</td>\n",
       "      <td>NaN</td>\n",
       "    </tr>\n",
       "    <tr>\n",
       "      <th>2459</th>\n",
       "      <td>Jessica Rakoczy</td>\n",
       "      <td>2</td>\n",
       "      <td>5</td>\n",
       "      <td>0</td>\n",
       "      <td>7</td>\n",
       "      <td>0.29</td>\n",
       "      <td>67.000000</td>\n",
       "      <td>68.0</td>\n",
       "      <td>Orthodox</td>\n",
       "      <td>1977-04-14</td>\n",
       "      <td>42.0</td>\n",
       "      <td>2.50</td>\n",
       "      <td>44</td>\n",
       "      <td>3.55</td>\n",
       "      <td>64</td>\n",
       "      <td>0.75</td>\n",
       "      <td>20</td>\n",
       "      <td>0</td>\n",
       "      <td>0.8</td>\n",
       "      <td>Canada</td>\n",
       "    </tr>\n",
       "  </tbody>\n",
       "</table>\n",
       "<p>2460 rows × 20 columns</p>\n",
       "</div>"
      ],
      "text/plain": [
       "                      name  win  lose  draw  total_bouts  win_rate  \\\n",
       "0          Luciano Azevedo   16     9     1           26      0.62   \n",
       "1           Gleidson Cutis    7     3     0           10      0.70   \n",
       "2               Rolando Dy    9     7     1           17      0.53   \n",
       "3              Jessica Eye   13     6     0           19      0.68   \n",
       "4          Katsuaki Furuki    1     1     0            2      0.50   \n",
       "5              Mike Guymon   12     5     1           18      0.67   \n",
       "6       Solomon Hutcherson   11     7     0           18      0.61   \n",
       "7            Hiroshi Izumi    4     2     0            6      0.67   \n",
       "8              Cris Cyborg   20     1     0           21      0.95   \n",
       "9                Mike Kyle   19     9     1           29      0.66   \n",
       "10             Chris Lytle   31    18     5           54      0.57   \n",
       "11            Ho Bae Myeon   12     5     1           18      0.67   \n",
       "12       Kennedy Nzechukwu    5     0     0            5      1.00   \n",
       "13        Alptekin Ozkilic    9     4     0           13      0.69   \n",
       "14               Mike Pyle   27    14     1           42      0.64   \n",
       "15           Jose Quinonez    8     2     0           10      0.80   \n",
       "16         Michel Quinones    8     3     0           11      0.73   \n",
       "17              Ryan Quinn   13     7     1           21      0.62   \n",
       "18           Jimmy Quinlan    3     1     1            5      0.60   \n",
       "19        Vinicius Queiroz    5     2     0            7      0.71   \n",
       "20             Nate Quarry   12     4     0           16      0.75   \n",
       "21             Jens Pulver   25    15     1           41      0.61   \n",
       "22             Hugh Pulley    6     3     0            9      0.67   \n",
       "23               Juan Puig   11     4     0           15      0.73   \n",
       "24              Bubba Pugh    3     3     0            6      0.50   \n",
       "25         Claudio Puelles    9     2     0           11      0.82   \n",
       "26          Lucie Pudilova    8     3     0           11      0.73   \n",
       "27            Daniel Puder    8     0     0            8      1.00   \n",
       "28           Cole Province    6     2     0            8      0.75   \n",
       "29             Joe Proctor   11     5     0           16      0.69   \n",
       "...                    ...  ...   ...   ...          ...       ...   \n",
       "2430     Chance Rencountre   12     3     0           15      0.80   \n",
       "2431         Livinha Souza   12     1     0           13      0.92   \n",
       "2432        Leigh Remedios   17     9     2           28      0.61   \n",
       "2433          Goran Reljic    9     3     0           12      0.75   \n",
       "2434            Ben Reiter   17     2     1           20      0.85   \n",
       "2435           Wilson Reis   22     9     0           31      0.71   \n",
       "2436       Jason Reinhardt   20     3     0           23      0.87   \n",
       "2437           Chad Reiner   28    13     0           41      0.68   \n",
       "2438           Johnny Rees   12     4     0           16      0.75   \n",
       "2439             Karl Reed    2     1     0            3      0.67   \n",
       "2440          Paul Redmond   10     6     0           16      0.62   \n",
       "2441          Greg Rebello   24     8     0           32      0.75   \n",
       "2442        Rafael Rebello    7     4     0           11      0.64   \n",
       "2443            Antony Rea   22    13     0           35      0.63   \n",
       "2444  Abdul Razak Alhassan   10     1     0           11      0.91   \n",
       "2445     Iony Razafiarison    2     1     0            3      0.67   \n",
       "2446            Stevie Ray   22     8     0           30      0.73   \n",
       "2447            Gideon Ray   17    14     1           32      0.53   \n",
       "2448          Bec Rawlings    7     8     0           15      0.47   \n",
       "2449           Ed Ratcliff    7     3     0           10      0.70   \n",
       "2450             Raou Raou    0     1     0            1      0.00   \n",
       "2451       Kevin Randleman   17    16     0           33      0.52   \n",
       "2452          Vernon Ramos    3     2     0            5      0.60   \n",
       "2453            Davi Ramos    9     2     0           11      0.82   \n",
       "2454         Ricardo Ramos   12     1     0           13      0.92   \n",
       "2455            Luis Ramos   19     8     2           29      0.66   \n",
       "2456        Amador Ramirez    5     4     0            9      0.56   \n",
       "2457          Matt Ramirez    2     3     0            5      0.40   \n",
       "2458        Hector Ramirez    9     4     1           14      0.64   \n",
       "2459       Jessica Rakoczy    2     5     0            7      0.29   \n",
       "\n",
       "      height_inches  reach       stance         dob  age_today  slpm  str_acc  \\\n",
       "0         75.000000   72.0     Orthodox  1981-06-25       38.0  0.76       45   \n",
       "1         69.000000   72.0     Orthodox  1989-02-07       30.0  2.99       52   \n",
       "2         68.000000   69.0     Orthodox  1990-08-11       29.0  3.04       37   \n",
       "3         66.000000   66.0     Orthodox  1986-07-27       33.0  3.42       36   \n",
       "4         72.000000   72.0     Orthodox  1980-11-10       39.0  0.27       10   \n",
       "5         72.000000   74.0     Orthodox  1974-09-17       45.0  2.75       65   \n",
       "6         71.000000   72.0     Southpaw  1972-08-31       47.0  2.59       39   \n",
       "7         70.390369   72.0     Orthodox  1982-06-22       37.0  1.95       37   \n",
       "8         68.000000   68.0     Orthodox  1985-07-09       34.0  7.02       52   \n",
       "9         76.000000   77.0     Orthodox  1980-03-31       39.0  4.50       51   \n",
       "10        71.000000   68.0     Orthodox  1974-08-18       45.0  3.76       45   \n",
       "11        71.000000   72.0     Orthodox  1986-03-12        NaN  3.16       16   \n",
       "12        77.000000   82.0     Southpaw  1992-06-13       27.0  7.20       36   \n",
       "13        65.000000   65.0     Orthodox  1986-03-27       33.0  3.81       32   \n",
       "14        72.000000   74.0     Orthodox  1975-09-18       44.0  2.74       45   \n",
       "15        68.000000   69.0     Orthodox  1990-07-28       29.0  3.26       44   \n",
       "16        70.000000   73.0     Orthodox  1984-12-22       35.0  2.91       29   \n",
       "17        68.000000   72.0     Orthodox  1986-03-12        NaN  2.31       41   \n",
       "18        72.000000   72.0     Orthodox  1986-05-25       33.0  2.08       70   \n",
       "19        79.000000   72.0     Orthodox  1983-08-29       36.0  3.67       51   \n",
       "20        72.000000   72.0  Open Stance  1972-03-18       47.0  4.96       44   \n",
       "21        67.000000   70.0     Southpaw  1974-12-06       45.0  2.12       37   \n",
       "22        72.000000   72.0     Orthodox  1986-03-12        NaN  4.47       63   \n",
       "23        69.000000   72.0     Orthodox  1989-04-23       30.0  4.91       23   \n",
       "24        70.000000   72.0     Orthodox  1986-03-12        NaN  2.87       67   \n",
       "25        71.000000   72.0     Southpaw  1996-04-21       23.0  2.33       38   \n",
       "26        68.000000   67.0     Orthodox  1994-06-13       25.0  5.53       39   \n",
       "27        75.000000   72.0     Orthodox  1981-10-09       38.0  2.77       68   \n",
       "28        69.000000   68.0     Orthodox  1981-01-17       38.0  1.47       44   \n",
       "29        70.000000   72.0     Orthodox  1985-08-10       34.0  3.39       36   \n",
       "...             ...    ...          ...         ...        ...   ...      ...   \n",
       "2430      74.000000   75.0     Southpaw  1986-12-31       33.0  1.07       13   \n",
       "2431      65.000000   72.0     Orthodox  1991-03-11       28.0  7.41       55   \n",
       "2432      67.000000   72.0     Orthodox  1976-01-13       43.0  0.75       41   \n",
       "2433      75.000000   81.0     Southpaw  1984-03-20       35.0  1.69       37   \n",
       "2434      75.000000   72.0     Orthodox  1987-06-27       32.0  1.80       46   \n",
       "2435      64.000000   65.0     Southpaw  1985-01-06       34.0  1.82       29   \n",
       "2436      66.000000   72.0     Orthodox  1969-10-31       50.0  0.51       40   \n",
       "2437      71.000000   72.0     Orthodox  1981-06-29       38.0  0.53       20   \n",
       "2438      72.000000   72.0     Orthodox  1982-10-21       37.0  3.29       64   \n",
       "2439      75.000000   78.0     Orthodox  1988-10-27       31.0  2.20       42   \n",
       "2440      70.000000   70.0     Orthodox  1986-10-20       33.0  0.72       34   \n",
       "2441      72.000000   73.0     Southpaw  1982-06-13       37.0  2.61       39   \n",
       "2442      65.000000   67.0     Orthodox  1980-10-16       39.0  2.19       32   \n",
       "2443      72.000000   72.0     Orthodox  1976-07-15       43.0  2.89       28   \n",
       "2444      70.000000   73.0     Orthodox  1985-08-11       34.0  4.59       46   \n",
       "2445      63.000000   72.0     Orthodox  1984-12-23       35.0  1.20       42   \n",
       "2446      70.000000   70.0     Southpaw  1990-03-25       29.0  3.51       45   \n",
       "2447      70.000000   72.0     Southpaw  1973-05-27       46.0  2.08       40   \n",
       "2448      66.000000   64.0     Orthodox  1989-02-11       30.0  4.48       42   \n",
       "2449      70.000000   71.0     Orthodox  1983-03-05       36.0  2.71       38   \n",
       "2450      68.000000   72.0     Orthodox  1986-03-12        NaN  2.01       16   \n",
       "2451      70.000000   72.0     Orthodox  1971-08-10       48.0  1.26       54   \n",
       "2452      66.000000   72.0     Orthodox  1992-06-03       27.0  4.00       25   \n",
       "2453      66.000000   70.0     Orthodox  1986-11-05       33.0  3.12       38   \n",
       "2454      69.000000   72.0     Orthodox  1995-08-01       24.0  3.36       42   \n",
       "2455      68.000000   72.0     Orthodox  1981-01-18       38.0  2.40       35   \n",
       "2456      70.390369   72.0     Orthodox  1990-06-14       29.0  4.93       51   \n",
       "2457      65.000000   72.0     Orthodox  1986-03-12        NaN  3.03       50   \n",
       "2458      72.000000   72.0     Orthodox  1976-03-28       43.0  2.27       41   \n",
       "2459      67.000000   68.0     Orthodox  1977-04-14       42.0  2.50       44   \n",
       "\n",
       "      sapm  str_def  td_avg  td_acc  td_def  sub_avg home_country  \n",
       "0     1.97       27    2.28      11       0      0.0          NaN  \n",
       "1     8.28       59    0.00       0       0      0.0          NaN  \n",
       "2     4.47       52    0.30      20      68      0.0          NaN  \n",
       "3     3.32       59    0.59      71      60      0.8          USA  \n",
       "4     2.67       39    0.00       0       0      3.0          NaN  \n",
       "5     0.79       66    1.87      37      54      1.2          NaN  \n",
       "6     2.59       64    3.53     100       0      0.0          NaN  \n",
       "7     2.65       66    3.35      70     100      0.5          NaN  \n",
       "8     1.79       70    0.85      62      91      0.3       Brazil  \n",
       "9     2.76       54    1.55      62      50      0.9          NaN  \n",
       "10    3.03       58    0.70      55      55      2.4          NaN  \n",
       "11    3.16       83    0.00       0       0      0.0          NaN  \n",
       "12    5.06       50    0.00       0      71      0.0          NaN  \n",
       "13    5.72       59    4.21      58      75      0.0       Turkey  \n",
       "14    2.84       60    1.80      35      70      1.5          USA  \n",
       "15    2.32       68    2.88      50      57      1.0       Mexico  \n",
       "16    5.98       48    0.00       0      36      0.0          NaN  \n",
       "17    1.67       48    0.00       0       0      1.9          NaN  \n",
       "18    5.94       16    4.46      25       0      0.0          NaN  \n",
       "19    4.10       41    5.07      70     100      0.7          NaN  \n",
       "20    2.80       66    0.25      33      60      0.0          NaN  \n",
       "21    3.13       56    0.22      33      63      0.3          NaN  \n",
       "22    3.27       57    4.00      66      69      0.0          NaN  \n",
       "23    7.17       51    0.00       0       0      0.0       Mexico  \n",
       "24    2.60       23    4.00      57      80      0.0          NaN  \n",
       "25    6.53       49    2.33      23       0      0.8         Peru  \n",
       "26    5.03       53    0.00       0      78      0.5     Republic  \n",
       "27    1.17       38    1.21      50      81      9.0          NaN  \n",
       "28    2.72       43    2.40      50      83      1.0          NaN  \n",
       "29    3.93       59    0.00       0      70      1.8          USA  \n",
       "...    ...      ...     ...     ...     ...      ...          ...  \n",
       "2430  4.67       46    0.00       0      25      0.0          NaN  \n",
       "2431  2.96       55   11.11     100       0     11.1          NaN  \n",
       "2432  1.36       68    0.00       0      33      0.0          NaN  \n",
       "2433  2.69       59    1.69      50      33      1.1          NaN  \n",
       "2434  1.53       54    7.00      43       0      0.0          NaN  \n",
       "2435  2.99       55    4.94      43      47      0.6       Brazil  \n",
       "2436  4.07       43    1.91      12      50      0.0          NaN  \n",
       "2437  1.97       46    0.99      33      25      2.0          NaN  \n",
       "2438  0.84       47    1.15      25      50      0.0          NaN  \n",
       "2439  3.13       52    0.00       0      57      0.0          NaN  \n",
       "2440  2.99       41    0.00       0      50      0.0      Ireland  \n",
       "2441  2.92       58    0.00       0       0      0.0          NaN  \n",
       "2442  3.29       58    2.82      33      75      0.5          NaN  \n",
       "2443  5.42       42    0.00       0     100      0.0          NaN  \n",
       "2444  4.20       59    0.57      33      53      0.0        Ghana  \n",
       "2445  1.40       53    2.00      50      75      0.0          NaN  \n",
       "2446  2.55       55    0.73      55      55      0.7     Scotland  \n",
       "2447  2.58       53    1.49     100       0      0.0          NaN  \n",
       "2448  5.66       57    0.71      40      68      0.4    Australia  \n",
       "2449  2.96       63    0.28      16      53      0.0          NaN  \n",
       "2450  6.75       60    0.00       0       0      0.0          NaN  \n",
       "2451  1.12       57    2.00      56      30      0.8          NaN  \n",
       "2452  8.00       55    0.00       0       0      0.0       Panama  \n",
       "2453  2.72       56    3.28      58       0      1.4       Brazil  \n",
       "2454  3.31       58    1.43      50      72      0.7       Brazil  \n",
       "2455  5.60       42    1.50      20     100      0.0          NaN  \n",
       "2456  2.07       69    1.00      33       0      0.0          NaN  \n",
       "2457  0.67       75    2.53      16     100      0.0          NaN  \n",
       "2458  4.60       56    2.30      55      66      0.5          NaN  \n",
       "2459  3.55       64    0.75      20       0      0.8       Canada  \n",
       "\n",
       "[2460 rows x 20 columns]"
      ]
     },
     "execution_count": 399,
     "metadata": {},
     "output_type": "execute_result"
    }
   ],
   "source": [
    "fighters"
   ]
  },
  {
   "cell_type": "markdown",
   "metadata": {},
   "source": [
    "# NEXT TOPIC"
   ]
  },
  {
   "cell_type": "code",
   "execution_count": 400,
   "metadata": {
    "ExecuteTime": {
     "end_time": "2019-07-22T17:26:26.372242Z",
     "start_time": "2019-07-22T17:26:26.363538Z"
    }
   },
   "outputs": [
    {
     "data": {
      "text/html": [
       "<div>\n",
       "<style scoped>\n",
       "    .dataframe tbody tr th:only-of-type {\n",
       "        vertical-align: middle;\n",
       "    }\n",
       "\n",
       "    .dataframe tbody tr th {\n",
       "        vertical-align: top;\n",
       "    }\n",
       "\n",
       "    .dataframe thead th {\n",
       "        text-align: right;\n",
       "    }\n",
       "</style>\n",
       "<table border=\"1\" class=\"dataframe\">\n",
       "  <thead>\n",
       "    <tr style=\"text-align: right;\">\n",
       "      <th></th>\n",
       "      <th>Name</th>\n",
       "      <th>Age</th>\n",
       "    </tr>\n",
       "  </thead>\n",
       "  <tbody>\n",
       "    <tr>\n",
       "      <th>0</th>\n",
       "      <td>tom</td>\n",
       "      <td>10</td>\n",
       "    </tr>\n",
       "    <tr>\n",
       "      <th>1</th>\n",
       "      <td>nick</td>\n",
       "      <td>15</td>\n",
       "    </tr>\n",
       "    <tr>\n",
       "      <th>2</th>\n",
       "      <td>juli</td>\n",
       "      <td>14</td>\n",
       "    </tr>\n",
       "  </tbody>\n",
       "</table>\n",
       "</div>"
      ],
      "text/plain": [
       "   Name  Age\n",
       "0   tom   10\n",
       "1  nick   15\n",
       "2  juli   14"
      ]
     },
     "execution_count": 400,
     "metadata": {},
     "output_type": "execute_result"
    }
   ],
   "source": [
    "data = [['tom', 10], ['nick', 15], ['juli', 14]] \n",
    "df = pd.DataFrame(data, columns = ['Name', 'Age']) \n",
    "df"
   ]
  },
  {
   "cell_type": "code",
   "execution_count": 409,
   "metadata": {
    "ExecuteTime": {
     "end_time": "2019-07-22T17:27:53.942512Z",
     "start_time": "2019-07-22T17:27:53.935882Z"
    }
   },
   "outputs": [
    {
     "data": {
      "text/html": [
       "<div>\n",
       "<style scoped>\n",
       "    .dataframe tbody tr th:only-of-type {\n",
       "        vertical-align: middle;\n",
       "    }\n",
       "\n",
       "    .dataframe tbody tr th {\n",
       "        vertical-align: top;\n",
       "    }\n",
       "\n",
       "    .dataframe thead th {\n",
       "        text-align: right;\n",
       "    }\n",
       "</style>\n",
       "<table border=\"1\" class=\"dataframe\">\n",
       "  <thead>\n",
       "    <tr style=\"text-align: right;\">\n",
       "      <th></th>\n",
       "      <th>0</th>\n",
       "      <th>1</th>\n",
       "      <th>2</th>\n",
       "    </tr>\n",
       "  </thead>\n",
       "  <tbody>\n",
       "    <tr>\n",
       "      <th>0</th>\n",
       "      <td>1</td>\n",
       "      <td>5</td>\n",
       "      <td>4</td>\n",
       "    </tr>\n",
       "    <tr>\n",
       "      <th>1</th>\n",
       "      <td>6</td>\n",
       "      <td>5</td>\n",
       "      <td>7</td>\n",
       "    </tr>\n",
       "    <tr>\n",
       "      <th>2</th>\n",
       "      <td>4</td>\n",
       "      <td>3</td>\n",
       "      <td>8</td>\n",
       "    </tr>\n",
       "  </tbody>\n",
       "</table>\n",
       "</div>"
      ],
      "text/plain": [
       "   0  1  2\n",
       "0  1  5  4\n",
       "1  6  5  7\n",
       "2  4  3  8"
      ]
     },
     "execution_count": 409,
     "metadata": {},
     "output_type": "execute_result"
    }
   ],
   "source": [
    "df2 = pd.DataFrame([[1,5,4],[6,5,7],[4,3,8]])\n",
    "df2"
   ]
  },
  {
   "cell_type": "code",
   "execution_count": 414,
   "metadata": {
    "ExecuteTime": {
     "end_time": "2019-07-22T17:36:56.697210Z",
     "start_time": "2019-07-22T17:36:56.693575Z"
    }
   },
   "outputs": [
    {
     "data": {
      "text/plain": [
       "60"
      ]
     },
     "execution_count": 414,
     "metadata": {},
     "output_type": "execute_result"
    }
   ],
   "source": [
    "pd.options.display.max_rows"
   ]
  },
  {
   "cell_type": "code",
   "execution_count": 411,
   "metadata": {
    "ExecuteTime": {
     "end_time": "2019-07-22T17:29:38.731807Z",
     "start_time": "2019-07-22T17:29:38.725851Z"
    }
   },
   "outputs": [
    {
     "data": {
      "text/html": [
       "<div>\n",
       "<style scoped>\n",
       "    .dataframe tbody tr th:only-of-type {\n",
       "        vertical-align: middle;\n",
       "    }\n",
       "\n",
       "    .dataframe tbody tr th {\n",
       "        vertical-align: top;\n",
       "    }\n",
       "\n",
       "    .dataframe thead th {\n",
       "        text-align: right;\n",
       "    }\n",
       "</style>\n",
       "<table border=\"1\" class=\"dataframe\">\n",
       "  <thead>\n",
       "    <tr style=\"text-align: right;\">\n",
       "      <th></th>\n",
       "      <th>0</th>\n",
       "    </tr>\n",
       "  </thead>\n",
       "  <tbody>\n",
       "    <tr>\n",
       "      <th>0</th>\n",
       "      <td>usa</td>\n",
       "    </tr>\n",
       "    <tr>\n",
       "      <th>1</th>\n",
       "      <td>uk</td>\n",
       "    </tr>\n",
       "    <tr>\n",
       "      <th>2</th>\n",
       "      <td>brazil</td>\n",
       "    </tr>\n",
       "  </tbody>\n",
       "</table>\n",
       "</div>"
      ],
      "text/plain": [
       "        0\n",
       "0     usa\n",
       "1      uk\n",
       "2  brazil"
      ]
     },
     "execution_count": 411,
     "metadata": {},
     "output_type": "execute_result"
    }
   ],
   "source": [
    "df3 = pd.DataFrame(['usa','uk','brazil'])\n",
    "df3"
   ]
  },
  {
   "cell_type": "code",
   "execution_count": 412,
   "metadata": {
    "ExecuteTime": {
     "end_time": "2019-07-22T17:29:45.321628Z",
     "start_time": "2019-07-22T17:29:45.313527Z"
    }
   },
   "outputs": [
    {
     "data": {
      "text/html": [
       "<div>\n",
       "<style scoped>\n",
       "    .dataframe tbody tr th:only-of-type {\n",
       "        vertical-align: middle;\n",
       "    }\n",
       "\n",
       "    .dataframe tbody tr th {\n",
       "        vertical-align: top;\n",
       "    }\n",
       "\n",
       "    .dataframe thead th {\n",
       "        text-align: right;\n",
       "    }\n",
       "</style>\n",
       "<table border=\"1\" class=\"dataframe\">\n",
       "  <thead>\n",
       "    <tr style=\"text-align: right;\">\n",
       "      <th></th>\n",
       "      <th>Name</th>\n",
       "      <th>Age</th>\n",
       "      <th>0</th>\n",
       "      <th>1</th>\n",
       "      <th>2</th>\n",
       "      <th>0</th>\n",
       "    </tr>\n",
       "  </thead>\n",
       "  <tbody>\n",
       "    <tr>\n",
       "      <th>0</th>\n",
       "      <td>tom</td>\n",
       "      <td>10</td>\n",
       "      <td>1</td>\n",
       "      <td>5</td>\n",
       "      <td>4</td>\n",
       "      <td>usa</td>\n",
       "    </tr>\n",
       "    <tr>\n",
       "      <th>1</th>\n",
       "      <td>nick</td>\n",
       "      <td>15</td>\n",
       "      <td>6</td>\n",
       "      <td>5</td>\n",
       "      <td>7</td>\n",
       "      <td>uk</td>\n",
       "    </tr>\n",
       "    <tr>\n",
       "      <th>2</th>\n",
       "      <td>juli</td>\n",
       "      <td>14</td>\n",
       "      <td>4</td>\n",
       "      <td>3</td>\n",
       "      <td>8</td>\n",
       "      <td>brazil</td>\n",
       "    </tr>\n",
       "  </tbody>\n",
       "</table>\n",
       "</div>"
      ],
      "text/plain": [
       "   Name  Age  0  1  2       0\n",
       "0   tom   10  1  5  4     usa\n",
       "1  nick   15  6  5  7      uk\n",
       "2  juli   14  4  3  8  brazil"
      ]
     },
     "execution_count": 412,
     "metadata": {},
     "output_type": "execute_result"
    }
   ],
   "source": [
    "pd.concat([df,df2,df3], axis=1)\n",
    "# comb = pd.concat([b,f1,f2], axis=1)"
   ]
  },
  {
   "cell_type": "code",
   "execution_count": null,
   "metadata": {},
   "outputs": [],
   "source": []
  }
 ],
 "metadata": {
  "kernelspec": {
   "display_name": "Python 3",
   "language": "python",
   "name": "python3"
  },
  "language_info": {
   "codemirror_mode": {
    "name": "ipython",
    "version": 3
   },
   "file_extension": ".py",
   "mimetype": "text/x-python",
   "name": "python",
   "nbconvert_exporter": "python",
   "pygments_lexer": "ipython3",
   "version": "3.6.6"
  },
  "toc": {
   "base_numbering": 1,
   "nav_menu": {},
   "number_sections": true,
   "sideBar": true,
   "skip_h1_title": false,
   "title_cell": "Table of Contents",
   "title_sidebar": "Contents",
   "toc_cell": false,
   "toc_position": {},
   "toc_section_display": true,
   "toc_window_display": false
  },
  "varInspector": {
   "cols": {
    "lenName": 16,
    "lenType": 16,
    "lenVar": 40
   },
   "kernels_config": {
    "python": {
     "delete_cmd_postfix": "",
     "delete_cmd_prefix": "del ",
     "library": "var_list.py",
     "varRefreshCmd": "print(var_dic_list())"
    },
    "r": {
     "delete_cmd_postfix": ") ",
     "delete_cmd_prefix": "rm(",
     "library": "var_list.r",
     "varRefreshCmd": "cat(var_dic_list()) "
    }
   },
   "types_to_exclude": [
    "module",
    "function",
    "builtin_function_or_method",
    "instance",
    "_Feature"
   ],
   "window_display": false
  }
 },
 "nbformat": 4,
 "nbformat_minor": 2
}
